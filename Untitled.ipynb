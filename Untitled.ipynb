{
 "cells": [
  {
   "cell_type": "code",
   "execution_count": 45,
   "metadata": {},
   "outputs": [
    {
     "name": "stdout",
     "output_type": "stream",
     "text": [
      "1.5100000000000002\n",
      "[ 2.59558 -0.14342  6.00378  0.14198  0.67378  3.15018  0.99858 -0.44162\n",
      "  0.15918  1.06018]\n",
      "this 14.1982\n",
      "3.9176399999999996 0.9743333333333334 1.5775777777777777 0.8074669157750831\n"
     ]
    }
   ],
   "source": [
    "import numpy as np\n",
    "s1 = 1.2\n",
    "s2 = -.4\n",
    "s3 = -4.8\n",
    "s4 = -1\n",
    "s5 = .6\n",
    "s6 = 1.9\n",
    "s7 = -2.5\n",
    "s8 = .08 \n",
    "s9 = -1.3\n",
    "s10 = .8\n",
    "\n",
    "s = [1.2, -.4, -4.8, -1, .6, 1.9, -2.5, .08, -1.3, .8]\n",
    "h = [3, .5, .1, 1.2, 2.1, 2.8, 1, .8, 1.3, 2.3]\n",
    "hmean = np.mean(h)\n",
    "smean = np.mean(s)\n",
    "print(hmean)\n",
    "devh = h - hmean\n",
    "devs = s - smean\n",
    "mult = devh * devs\n",
    "print(mult)\n",
    "this = devh.dot(devs)\n",
    "this_score = devs.dot(devs)\n",
    "this_hours = devh.dot(devh)\n",
    "print('this', this)\n",
    "\n",
    "list = []\n",
    "for x in range(0, 10):\n",
    "    list.append(devh[x] * devs[x])\n",
    "    \n",
    "cov = this/(10-1)    \n",
    "var_score = this_score/(10-1)\n",
    "var_hours = this_hours/(10-1)\n",
    "s_score = np.sqrt(var_score)\n",
    "s_hours = np.sqrt(var_hours)\n",
    "\n",
    "rho = cov/(s_score * s_hours)\n",
    "print(var_score, var_hours, cov, rho)"
   ]
  },
  {
   "cell_type": "code",
   "execution_count": 7,
   "metadata": {},
   "outputs": [],
   "source": [
    "this_sum = s1+ s2 + s3 + s4 + s5 + s6+ s7 + s8 + s9 + s10\n",
    "mean = this_sum/10"
   ]
  },
  {
   "cell_type": "code",
   "execution_count": 6,
   "metadata": {},
   "outputs": [
    {
     "name": "stdout",
     "output_type": "stream",
     "text": [
      "-3.4800000000000004\n"
     ]
    }
   ],
   "source": [
    "sum1 = s2+ s3 + s3 + s3 + s4 + s5+ s7 + s9 + s10 + s10\n",
    "print(sum1/5)"
   ]
  },
  {
   "cell_type": "code",
   "execution_count": 17,
   "metadata": {},
   "outputs": [
    {
     "name": "stdout",
     "output_type": "stream",
     "text": [
      "1.342\n"
     ]
    }
   ],
   "source": [
    "print(s10 - mean)"
   ]
  },
  {
   "cell_type": "code",
   "execution_count": 47,
   "metadata": {},
   "outputs": [
    {
     "data": {
      "text/plain": [
       "22.06153846153846"
      ]
     },
     "execution_count": 47,
     "metadata": {},
     "output_type": "execute_result"
    }
   ],
   "source": [
    "18 -((6/13)*-.4 * 22)"
   ]
  },
  {
   "cell_type": "code",
   "execution_count": 49,
   "metadata": {},
   "outputs": [
    {
     "name": "stdout",
     "output_type": "stream",
     "text": [
      "1.2\n"
     ]
    }
   ],
   "source": [
    "b  = .6*(13/6.5)\n",
    "print(b)"
   ]
  },
  {
   "cell_type": "code",
   "execution_count": 50,
   "metadata": {},
   "outputs": [
    {
     "data": {
      "text/plain": [
       "16.2"
      ]
     },
     "execution_count": 50,
     "metadata": {},
     "output_type": "execute_result"
    }
   ],
   "source": [
    "21- (b * 4)"
   ]
  },
  {
   "cell_type": "code",
   "execution_count": 51,
   "metadata": {},
   "outputs": [
    {
     "data": {
      "text/plain": [
       "0.56"
      ]
     },
     "execution_count": 51,
     "metadata": {},
     "output_type": "execute_result"
    }
   ],
   "source": [
    "2/(30/8.4)"
   ]
  },
  {
   "cell_type": "code",
   "execution_count": 52,
   "metadata": {},
   "outputs": [
    {
     "data": {
      "text/plain": [
       "5.67"
      ]
     },
     "execution_count": 52,
     "metadata": {},
     "output_type": "execute_result"
    }
   ],
   "source": [
    ".81 * 7\n",
    "\n"
   ]
  },
  {
   "cell_type": "code",
   "execution_count": 53,
   "metadata": {},
   "outputs": [
    {
     "data": {
      "text/plain": [
       "-3.978999999999999"
      ]
     },
     "execution_count": 53,
     "metadata": {},
     "output_type": "execute_result"
    }
   ],
   "source": [
    "17 - (5.67*3.7)"
   ]
  },
  {
   "cell_type": "code",
   "execution_count": 55,
   "metadata": {},
   "outputs": [
    {
     "data": {
      "text/plain": [
       "32.875"
      ]
     },
     "execution_count": 55,
     "metadata": {},
     "output_type": "execute_result"
    }
   ],
   "source": [
    "-3.98 + 5.67*(6.5)"
   ]
  },
  {
   "cell_type": "code",
   "execution_count": null,
   "metadata": {},
   "outputs": [],
   "source": []
  }
 ],
 "metadata": {
  "kernelspec": {
   "display_name": "Python 3",
   "language": "python",
   "name": "python3"
  },
  "language_info": {
   "codemirror_mode": {
    "name": "ipython",
    "version": 3
   },
   "file_extension": ".py",
   "mimetype": "text/x-python",
   "name": "python",
   "nbconvert_exporter": "python",
   "pygments_lexer": "ipython3",
   "version": "3.7.1"
  }
 },
 "nbformat": 4,
 "nbformat_minor": 2
}
