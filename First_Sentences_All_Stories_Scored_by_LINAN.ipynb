{
 "cells": [
  {
   "cell_type": "markdown",
   "metadata": {},
   "source": [
    "# I. Averages\n",
    "# II. Graphing"
   ]
  },
  {
   "cell_type": "code",
   "execution_count": 6,
   "metadata": {},
   "outputs": [
    {
     "data": {
      "application/javascript": [
       "IPython.notebook.set_autosave_interval(5000)"
      ]
     },
     "metadata": {},
     "output_type": "display_data"
    },
    {
     "name": "stdout",
     "output_type": "stream",
     "text": [
      "Autosaving every 5 seconds\n"
     ]
    }
   ],
   "source": [
    "import pandas as pd\n",
    "import numpy as np\n",
    "import plotly.graph_objs as go\n",
    "import plotly.plotly as py\n",
    "import plotly\n",
    "import os\n",
    "import glob\n",
    "import math\n",
    "import statistics\n",
    "import matplotlib.pyplot as plt\n",
    "import xlrd\n",
    "import pickle\n",
    "import seaborn as sb\n",
    "\n",
    "%autosave 5\n",
    "\n",
    "#import 12dict\n",
    "pickle_in = open(\"dict12\",\"rb\")\n",
    "dict12 = pickle.load(pickle_in)\n",
    "\n",
    "#import 22dict\n",
    "pickle_in = open(\"dict22\",\"rb\")\n",
    "dict22 = pickle.load(pickle_in)\n",
    "\n",
    "#import 43dict\n",
    "pickle_in = open(\"dict43\",\"rb\")\n",
    "dict43 = pickle.load(pickle_in)"
   ]
  },
  {
   "cell_type": "markdown",
   "metadata": {},
   "source": [
    "# I. Averages"
   ]
  },
  {
   "cell_type": "code",
   "execution_count": 32,
   "metadata": {},
   "outputs": [
    {
     "name": "stdout",
     "output_type": "stream",
     "text": [
      "SP_SE\n",
      "[1.0, 0.0, 0.3333333333333333, 0.125, 0.5, 0.5, 1.0, 0.5, 0.75]\n",
      "SP_LE\n",
      "[0.0, 0.6666666666666666, 0.3333333333333333, 0.125, 0.25, 0.125, 0.5, 0.25, 0.0]\n",
      "LP_SE\n",
      "[0.6, 0.0, 0.5, 0.2857142857142857, 0.5714285714285714, 0.42857142857142855, 0.6, 0.5, 0.5]\n",
      "LP_LE\n",
      "[0.0, 0.3, 0.1, 0.0, 0.42857142857142855, 0.0, 0.7, 0.3, 0.0]\n",
      "non_start_cols\n",
      "[0.0, 1.0, 1.0, 0.3333333333333333, 0.0, 0.0, 0.3333333333333333, 0.6666666666666666, 0.0, 0.0, 0.3333333333333333, 0.0, 0.3333333333333333, 0.0, 0.0, 0.0, 0.3333333333333333, 0.3333333333333333, 0.3333333333333333, 0.0, 0.3333333333333333, 0.6666666666666666, 0.6666666666666666, 0.6666666666666666, 0.6666666666666666, 0.5, 0.25, 0.375, 0.125, 0.125, 0.125, 0.0, 0.375, 0.125, 0.0, 0.0, 0.125, 0.125, 0.125, 0.25, 0.375, 0.0, 0.0, 0.0, 0.0, 0.375, 0.375, 0.125, 0.0, 0.0, 0.0, 0.0, 0.0, 0.25, 0.25, 0.125, 0.75, 0.25, 0.0, 0.25, 0.5, 0.25, 0.25, 0.5, 0.25, 0.0, 0.0, 0.25, 0.25, 0.0, 0.75, 0.25, 0.25, 0.0, 0.75, 0.0, 0.0, 0.25, 0.0]\n",
      "LP_non_start_cols\n",
      "[0.0, 0.5, 0.7, 0.3, 0.0, 0.4, 0.3, 0.2, 0.2, 0.0, 0.2, 0.0, 0.1, 0.0, 0.3, 0.2, 0.3, 0.2, 0.4, 0.0, 0.3, 0.5, 0.5, 0.2, 0.4, 0.7142857142857143, 0.42857142857142855, 0.14285714285714285, 0.2857142857142857, 0.0, 0.14285714285714285, 0.0, 0.0, 0.2857142857142857, 0.14285714285714285, 0.14285714285714285, 0.0, 0.0, 0.2857142857142857, 0.14285714285714285, 0.14285714285714285, 0.0, 0.0, 0.14285714285714285, 0.0, 0.14285714285714285, 0.2857142857142857, 0.2857142857142857, 0.0, 0.0, 0.0, 0.14285714285714285, 0.2857142857142857, 0.14285714285714285, 0.5714285714285714, 0.42857142857142855, 0.8, 0.0, 0.3, 0.4, 0.2, 0.4, 0.1, 0.0, 0.6, 0.1, 0.2, 0.0, 0.2, 0.0, 0.6, 0.1, 0.2, 0.3, 0.3, 0.3, 0.0, 0.1, 0.1]\n"
     ]
    }
   ],
   "source": [
    "#compute the averages of all categories\n",
    "names = list(dict43)\n",
    "avgs = {}\n",
    "\n",
    "for i in range(0, len(names)):\n",
    "    print(names[i])\n",
    "    vals = []\n",
    "    vals.append(dict12[names[i]])\n",
    "    vals.append(dict22[names[i]])\n",
    "    vals.append(dict43[names[i]])\n",
    "    flat_vals = [item for sublist in vals for item in sublist]\n",
    "    avgs[names[i]] = statistics.mean(flat_vals)"
   ]
  },
  {
   "cell_type": "markdown",
   "metadata": {},
   "source": [
    "# II: Graphing"
   ]
  },
  {
   "cell_type": "code",
   "execution_count": 37,
   "metadata": {},
   "outputs": [
    {
     "data": {
      "image/png": "[encoded data removed]",
      "text/plain": [
       "<Figure size 432x288 with 1 Axes>"
      ]
     },
     "metadata": {
      "needs_background": "light"
     },
     "output_type": "display_data"
    }
   ],
   "source": [
    "#Step 1: Graph of the averages of the sentence types for each priming group\n",
    "#input: SP_avg_all_sents, SP_avg_all_sents\n",
    "\n",
    "# width of the bars\n",
    "barWidth = 0.3\n",
    " \n",
    "#SP_avg_all_sents\n",
    "bars1 = [avgs['SP_SE'], avgs['SP_LE'], avgs['non_start_cols']]\n",
    " \n",
    "bars2 = [avgs['LP_SE'], avgs['LP_LE'], avgs['LP_non_start_cols']]\n",
    "    \n",
    "#SP_soc_event\n",
    "# The x position of bars\n",
    "r1 = np.arange(len(bars1))\n",
    "r2 = [x + barWidth for x in r1]\n",
    " \n",
    "# Create blue bars\n",
    "plt.bar(r1, bars1, width = barWidth, color = 'pink', edgecolor = 'black', label='social-primed')\n",
    " \n",
    "# Create cyan bars\n",
    "plt.bar(r2, bars2, width = barWidth, color = 'paleturquoise', edgecolor = 'black', label='location-primed')\n",
    " \n",
    "# general layout\n",
    "plt.xticks([r + barWidth for r in range(len(bars1))], ['Social-Event-Start', 'Location-Event-Start', 'Non-Event-Start'])\n",
    "plt.legend()\n",
    "plt.title(' Avg Recall of Social-, Location-, and Non- Event-Starts')\n",
    " \n",
    "# Show graphic\n",
    "plt.show()"
   ]
  },
  {
   "cell_type": "code",
   "execution_count": null,
   "metadata": {},
   "outputs": [],
   "source": []
  },
  {
   "cell_type": "code",
   "execution_count": null,
   "metadata": {},
   "outputs": [],
   "source": []
  },
  {
   "cell_type": "code",
   "execution_count": null,
   "metadata": {},
   "outputs": [],
   "source": []
  }
 ],
 "metadata": {
  "kernelspec": {
   "display_name": "Python 3",
   "language": "python",
   "name": "python3"
  },
  "language_info": {
   "codemirror_mode": {
    "name": "ipython",
    "version": 3
   },
   "file_extension": ".py",
   "mimetype": "text/x-python",
   "name": "python",
   "nbconvert_exporter": "python",
   "pygments_lexer": "ipython3",
   "version": "3.6.8"
  }
 },
 "nbformat": 4,
 "nbformat_minor": 2
}
