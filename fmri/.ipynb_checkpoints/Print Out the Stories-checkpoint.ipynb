{
 "cells": [
  {
   "cell_type": "code",
   "execution_count": 1,
   "metadata": {},
   "outputs": [],
   "source": [
    "import pandas as pd\n",
    "import numpy as np\n",
    "import plotly.graph_objs as go\n",
    "import plotly.plotly as py\n",
    "import plotly\n",
    "import os\n",
    "import glob\n",
    "import math\n",
    "import statistics\n",
    "import matplotlib.pyplot as plt\n",
    "\n",
    "#plotly.tools.set_credentials_file(username='amr7', api_key='4gj9vxlD7C63cCRCaRdU')\n",
    "\n",
    "#iMac\n",
    "#directory_stories = '/Users/alexreblando/Library/Mobile Documents/com~apple~CloudDocs/Documents/GitHub/ebs/story_xlsx_files'\n",
    "\n",
    "#laptop\n",
    "directory_stories = '/Users/alexreblando/Documents/GitHub/ebs/fMRI experiment/1:8:2020_edited_stories'\n",
    "\n",
    "filenames_stories = glob.glob(directory_stories + '/*.xlsx')\n",
    "\n",
    "dfs_stories = []\n",
    "\n",
    "    \n",
    "for filename in filenames_stories:\n",
    "    dfs_stories.append(pd.read_excel(filename))"
   ]
  },
  {
   "cell_type": "code",
   "execution_count": 2,
   "metadata": {},
   "outputs": [
    {
     "ename": "NameError",
     "evalue": "name 's' is not defined",
     "output_type": "error",
     "traceback": [
      "\u001b[0;31m---------------------------------------------------------------------------\u001b[0m",
      "\u001b[0;31mNameError\u001b[0m                                 Traceback (most recent call last)",
      "\u001b[0;32m<ipython-input-2-d7bca2791813>\u001b[0m in \u001b[0;36m<module>\u001b[0;34m\u001b[0m\n\u001b[0;32m----> 1\u001b[0;31m \u001b[0mprint\u001b[0m\u001b[0;34m(\u001b[0m\u001b[0mdfs_stories\u001b[0m\u001b[0;34m[\u001b[0m\u001b[0ms\u001b[0m\u001b[0;34m]\u001b[0m\u001b[0;34m[\u001b[0m\u001b[0;34m'storyText'\u001b[0m\u001b[0;34m]\u001b[0m\u001b[0;34m.\u001b[0m\u001b[0miloc\u001b[0m\u001b[0;34m[\u001b[0m\u001b[0;36m0\u001b[0m\u001b[0;34m]\u001b[0m\u001b[0;34m)\u001b[0m\u001b[0;34m\u001b[0m\u001b[0;34m\u001b[0m\u001b[0m\n\u001b[0m",
      "\u001b[0;31mNameError\u001b[0m: name 's' is not defined"
     ]
    }
   ],
   "source": [
    "print(dfs_stories[s]['storyText'].iloc[0])"
   ]
  },
  {
   "cell_type": "code",
   "execution_count": 2,
   "metadata": {},
   "outputs": [
    {
     "name": "stdout",
     "output_type": "stream",
     "text": [
      "0\n",
      "<class 'numpy.float64'>\n"
     ]
    },
    {
     "ename": "FileNotFoundError",
     "evalue": "[Errno 2] No such file or directory: 'story_texts/11_Story_Text'",
     "output_type": "error",
     "traceback": [
      "\u001b[0;31m---------------------------------------------------------------------------\u001b[0m",
      "\u001b[0;31mFileNotFoundError\u001b[0m                         Traceback (most recent call last)",
      "\u001b[0;32m<ipython-input-2-6ebfe0c44078>\u001b[0m in \u001b[0;36m<module>\u001b[0;34m\u001b[0m\n\u001b[1;32m      8\u001b[0m     \u001b[0;32melse\u001b[0m\u001b[0;34m:\u001b[0m\u001b[0;34m\u001b[0m\u001b[0;34m\u001b[0m\u001b[0m\n\u001b[1;32m      9\u001b[0m         \u001b[0mname\u001b[0m \u001b[0;34m=\u001b[0m \u001b[0;34m'story_texts/'\u001b[0m \u001b[0;34m+\u001b[0m \u001b[0mstr\u001b[0m\u001b[0;34m(\u001b[0m\u001b[0mint\u001b[0m\u001b[0;34m(\u001b[0m\u001b[0mdfs_stories\u001b[0m\u001b[0;34m[\u001b[0m\u001b[0ms\u001b[0m\u001b[0;34m]\u001b[0m\u001b[0;34m[\u001b[0m\u001b[0;34m'story'\u001b[0m\u001b[0;34m]\u001b[0m\u001b[0;34m.\u001b[0m\u001b[0miloc\u001b[0m\u001b[0;34m[\u001b[0m\u001b[0;36m0\u001b[0m\u001b[0;34m]\u001b[0m\u001b[0;34m)\u001b[0m\u001b[0;34m)\u001b[0m \u001b[0;34m+\u001b[0m \u001b[0;34m'_Story_Text'\u001b[0m\u001b[0;34m\u001b[0m\u001b[0;34m\u001b[0m\u001b[0m\n\u001b[0;32m---> 10\u001b[0;31m     \u001b[0mfile\u001b[0m \u001b[0;34m=\u001b[0m \u001b[0mopen\u001b[0m\u001b[0;34m(\u001b[0m\u001b[0mname\u001b[0m\u001b[0;34m,\u001b[0m\u001b[0;34m'w'\u001b[0m\u001b[0;34m)\u001b[0m\u001b[0;34m\u001b[0m\u001b[0;34m\u001b[0m\u001b[0m\n\u001b[0m\u001b[1;32m     11\u001b[0m     \u001b[0mfile\u001b[0m\u001b[0;34m.\u001b[0m\u001b[0mwrite\u001b[0m\u001b[0;34m(\u001b[0m\u001b[0;34m'Story'\u001b[0m\u001b[0;34m+\u001b[0m\u001b[0mname\u001b[0m\u001b[0;34m)\u001b[0m\u001b[0;34m\u001b[0m\u001b[0;34m\u001b[0m\u001b[0m\n\u001b[1;32m     12\u001b[0m     \u001b[0mfile\u001b[0m\u001b[0;34m.\u001b[0m\u001b[0mwrite\u001b[0m\u001b[0;34m(\u001b[0m\u001b[0;34m'\\n\\n\\n\\n\\n'\u001b[0m\u001b[0;34m)\u001b[0m\u001b[0;34m\u001b[0m\u001b[0;34m\u001b[0m\u001b[0m\n",
      "\u001b[0;31mFileNotFoundError\u001b[0m: [Errno 2] No such file or directory: 'story_texts/11_Story_Text'"
     ]
    }
   ],
   "source": [
    "#print just the stories into a text file\n",
    "\n",
    "for s in range(16):\n",
    "    print(s)\n",
    "    print(type(dfs_stories[s]['story'].iloc[0]))\n",
    "    if s == 0:\n",
    "        name = 'story_texts/11_Story_Text'\n",
    "    else:\n",
    "        name = 'story_texts/' + str(int(dfs_stories[s]['story'].iloc[0])) + '_Story_Text'\n",
    "    file = open(name,'w') \n",
    "    file.write('Story'+name) \n",
    "    file.write('\\n\\n\\n\\n\\n')\n",
    "    for i in range(len(dfs_stories[s])):\n",
    "        sent = dfs_stories[s]['storyText'].iloc[i]\n",
    "        file.write(str(sent))\n",
    "        file.write('\\n\\n')\n",
    "    file.close()\n",
    "                   \n"
   ]
  },
  {
   "cell_type": "code",
   "execution_count": 26,
   "metadata": {},
   "outputs": [],
   "source": [
    "#put all of the a priori story boundaries into a dictionary organized by story\n",
    "\n",
    "all_story_priors = dict()\n",
    "\n",
    "for s in range(16):\n",
    "    this_story = str(int(dfs_stories[s]['story'].iloc[0]))\n",
    "    keys2 = dfs_stories[s]['locationEvent'].values\n",
    "    keys3 = dfs_stories[s]['socialEvent'].values\n",
    "    all_story_priors[this_story] = keys2[:, np.newaxis]\n",
    "    all_story_priors[this_story] = np.concatenate((all_story_priors[this_story], keys3[:, np.newaxis]), axis = 1)\n",
    "    \n",
    "#get the binary version of the a priori boundaries\n",
    "\n",
    "for key in all_story_priors:\n",
    "    location = all_story_priors[key][:,0]\n",
    "    social = all_story_priors[key][:,1]\n",
    "    for i in range(0, len(location)):  \n",
    "        if location[i] > location[i-1]:\n",
    "            location[i] = 7\n",
    "    for i in range(0, len(location)):  \n",
    "        if location[i] != 7:\n",
    "            location[i] = 0\n",
    "    for i in range(0, len(social)):\n",
    "        if social[i] > social[i - 1]:\n",
    "            social[i] = 7\n",
    "    for i in range(0, len(social)):\n",
    "        if social[i] != 7:\n",
    "            social[i] = 0\n",
    "    location[0] = 7\n",
    "    social[0] = 7\n",
    "    location2 = location > 1\n",
    "    social2 = social > 1\n",
    "    location2 = location2.astype(int)\n",
    "    social2 = social2.astype(int)\n",
    "    all_story_priors[key] = np.concatenate((all_story_priors[key], location2[:, np.newaxis]), axis = 1) \n",
    "    all_story_priors[key] = np.concatenate((all_story_priors[key], social2[:, np.newaxis]), axis = 1)"
   ]
  },
  {
   "cell_type": "code",
   "execution_count": null,
   "metadata": {},
   "outputs": [],
   "source": [
    "print()"
   ]
  },
  {
   "cell_type": "code",
   "execution_count": 6,
   "metadata": {},
   "outputs": [],
   "source": [
    "#print out the stories with the location boundaries :: st_loc_boundaries\n",
    "for s in range(16):\n",
    "    this_story = str(int(dfs_stories[s]['story'].iloc[0]))\n",
    "    name = 'st_loc_boundaries/' + this_story + '_Story_Text'\n",
    "    file = open(name,'w') \n",
    "    file.write('Story'+name) \n",
    "    file.write('\\n\\n\\n\\n\\n')\n",
    "    count = 0\n",
    "    for i in range(len(dfs_stories[s])):\n",
    "        if all_story_priors[this_story][i, 2] == 1:\n",
    "            file.write('\\nLOCATION BOUNDARY ' + str(count+1) + '\\n\\n\\n')\n",
    "            count += 1\n",
    "        sent = dfs_stories[s]['storyText'].iloc[i]\n",
    "        file.write(str(sent))\n",
    "        file.write('\\n\\n')\n",
    "    file.close()"
   ]
  },
  {
   "cell_type": "code",
   "execution_count": 7,
   "metadata": {},
   "outputs": [
    {
     "ename": "SyntaxError",
     "evalue": "invalid syntax (<ipython-input-7-36f2efe6c5d2>, line 1)",
     "output_type": "error",
     "traceback": [
      "\u001b[0;36m  File \u001b[0;32m\"<ipython-input-7-36f2efe6c5d2>\"\u001b[0;36m, line \u001b[0;32m1\u001b[0m\n\u001b[0;31m    len(all_story_priors[])\u001b[0m\n\u001b[0m                         ^\u001b[0m\n\u001b[0;31mSyntaxError\u001b[0m\u001b[0;31m:\u001b[0m invalid syntax\n"
     ]
    }
   ],
   "source": [
    "len(all_story_priors[])"
   ]
  },
  {
   "cell_type": "code",
   "execution_count": 8,
   "metadata": {},
   "outputs": [],
   "source": [
    "#print out the stories with the social boundaries :: st_soc_boundaries\n",
    "for s in range(16):\n",
    "    this_story = str(int(dfs_stories[s]['story'].iloc[0]))\n",
    "    name = 'st_soc_boundaries/' + this_story + '_Story_Text'\n",
    "    file = open(name,'w') \n",
    "    file.write('Story'+name) \n",
    "    file.write('\\n\\n\\n\\n\\n')\n",
    "    count = 0\n",
    "    for i in range(len(dfs_stories[s])):\n",
    "        if all_story_priors[this_story][i, 3] == 1:\n",
    "            file.write('\\nSOCIAL BOUNDARY ' + str(count+1) + '\\n\\n\\n')\n",
    "            count += 1\n",
    "        sent = dfs_stories[s]['storyText'].iloc[i]\n",
    "        file.write(sent)\n",
    "        file.write('\\n\\n')\n",
    "    file.close()"
   ]
  },
  {
   "cell_type": "code",
   "execution_count": 9,
   "metadata": {},
   "outputs": [],
   "source": [
    "#print out the stories with both location and social boundaries :: st_loc_soc_boundaries\n",
    "#print out the stories with the social boundaries :: st_soc_boundaries\n",
    "for s in range(16):\n",
    "    this_story = str(int(dfs_stories[s]['story'].iloc[0]))\n",
    "    name = 'st_loc_soc_boundaries/' + this_story + '_Story_Text'\n",
    "    file = open(name,'w') \n",
    "    file.write('Story'+name) \n",
    "    file.write('\\n\\n\\n\\n\\n')\n",
    "    count_loc = 0\n",
    "    count_soc = 0\n",
    "    for i in range(len(dfs_stories[s])):\n",
    "        if all_story_priors[this_story][i, 2] == 1:\n",
    "            file.write('\\nLOCATION BOUNDARY ' + str(count_loc+1) + '\\n\\n\\n')\n",
    "            count_loc += 1\n",
    "        if all_story_priors[this_story][i, 3] == 1:\n",
    "            file.write('\\nSOCIAL BOUNDARY ' + str(count_soc+1) + '\\n\\n\\n')\n",
    "            count_soc += 1\n",
    "        sent = dfs_stories[s]['storyText'].iloc[i]\n",
    "        file.write(str(sent))\n",
    "        file.write('\\n\\n')\n",
    "    file.close()"
   ]
  },
  {
   "cell_type": "code",
   "execution_count": null,
   "metadata": {},
   "outputs": [],
   "source": []
  }
 ],
 "metadata": {
  "kernelspec": {
   "display_name": "Python 3",
   "language": "python",
   "name": "python3"
  },
  "language_info": {
   "codemirror_mode": {
    "name": "ipython",
    "version": 3
   },
   "file_extension": ".py",
   "mimetype": "text/x-python",
   "name": "python",
   "nbconvert_exporter": "python",
   "pygments_lexer": "ipython3",
   "version": "3.6.8"
  }
 },
 "nbformat": 4,
 "nbformat_minor": 2
}
