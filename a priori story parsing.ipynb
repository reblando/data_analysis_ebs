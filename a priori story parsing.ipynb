{
 "cells": [
  {
   "cell_type": "code",
   "execution_count": 1,
   "metadata": {},
   "outputs": [],
   "source": [
    "#read csv files into dataframes\n",
    "import pandas\n",
    "import numpy as np\n",
    "import plotly.graph_objs as go\n",
    "import plotly.plotly as py\n",
    "import plotly\n",
    "\n",
    "plotly.tools.set_credentials_file(username='amr7', api_key='4gj9vxlD7C63cCRCaRdU')\n",
    "\n",
    "#laptop\n",
    "#s12 = pandas.read_csv(\"/Users/alexreblando/Documents/GitHub/ebs/story_xlsx_files/12.csv\")\n",
    "\n",
    "#imac\n",
    "s12 = pandas.read_csv(\"/Users/alexreblando/Library/Mobile Documents/com~apple~CloudDocs/Documents/GitHub/ebs/story_xlsx_files/12.csv\")"
   ]
  },
  {
   "cell_type": "code",
   "execution_count": 12,
   "metadata": {},
   "outputs": [],
   "source": [
    "#parse shapes of files\n",
    "x_s12, y_s12 = s12.shape\n"
   ]
  },
  {
   "cell_type": "code",
   "execution_count": 10,
   "metadata": {},
   "outputs": [],
   "source": [
    "#array with the range of each story\n",
    "index_s12 = s12.index"
   ]
  },
  {
   "cell_type": "code",
   "execution_count": 4,
   "metadata": {},
   "outputs": [],
   "source": [
    "#create the location dataframe\n",
    "loc_s12 = s12.locationEvent"
   ]
  },
  {
   "cell_type": "code",
   "execution_count": 5,
   "metadata": {},
   "outputs": [],
   "source": [
    "#create the social dataframe\n",
    "soc_s12 = s12.socialEvent"
   ]
  },
  {
   "cell_type": "code",
   "execution_count": 6,
   "metadata": {},
   "outputs": [],
   "source": [
    "#get a vector with all of the location starting points\n",
    "\n",
    "#12\n",
    "locStarts_s12 = np.zeros(x_s12)\n",
    "\n",
    "for x in range(x_s12):\n",
    "    if loc_s12[x] == 1:\n",
    "        continue\n",
    "    if loc_s12[x] > loc_s12[x-1]:\n",
    "        locStarts_s12[x] = 1\n",
    "\n",
    "locStarts_s12[0] = 1"
   ]
  },
  {
   "cell_type": "code",
   "execution_count": 7,
   "metadata": {},
   "outputs": [],
   "source": [
    "#get a vector with all of the social starting points\n",
    "\n",
    "#12\n",
    "socStarts_s12 = np.zeros(x_s12)\n",
    "\n",
    "for x in range(x_s12):\n",
    "    if soc_s12[x] == 1:\n",
    "        continue\n",
    "    if soc_s12[x] > soc_s12[x-1]:\n",
    "        socStarts_s12[x] = 1\n",
    "\n",
    "socStarts_s12[0] = 1"
   ]
  },
  {
   "cell_type": "code",
   "execution_count": 1,
   "metadata": {},
   "outputs": [
    {
     "ename": "NameError",
     "evalue": "name 'go' is not defined",
     "output_type": "error",
     "traceback": [
      "\u001b[0;31m---------------------------------------------------------------------------\u001b[0m",
      "\u001b[0;31mNameError\u001b[0m                                 Traceback (most recent call last)",
      "\u001b[0;32m<ipython-input-1-359a604bf106>\u001b[0m in \u001b[0;36m<module>\u001b[0;34m\u001b[0m\n\u001b[1;32m      1\u001b[0m \u001b[0;31m#plot story 12\u001b[0m\u001b[0;34m\u001b[0m\u001b[0;34m\u001b[0m\u001b[0;34m\u001b[0m\u001b[0m\n\u001b[1;32m      2\u001b[0m \u001b[0;34m\u001b[0m\u001b[0m\n\u001b[0;32m----> 3\u001b[0;31m trace1 = go.Scatter(x = index_s12, \n\u001b[0m\u001b[1;32m      4\u001b[0m                     \u001b[0my\u001b[0m \u001b[0;34m=\u001b[0m \u001b[0mlocStarts_s12\u001b[0m\u001b[0;34m,\u001b[0m\u001b[0;34m\u001b[0m\u001b[0;34m\u001b[0m\u001b[0m\n\u001b[1;32m      5\u001b[0m                     \u001b[0mmode\u001b[0m \u001b[0;34m=\u001b[0m \u001b[0;34m'lines+markers'\u001b[0m\u001b[0;34m,\u001b[0m\u001b[0;34m\u001b[0m\u001b[0;34m\u001b[0m\u001b[0m\n",
      "\u001b[0;31mNameError\u001b[0m: name 'go' is not defined"
     ]
    }
   ],
   "source": [
    "#plot story 12\n",
    "\n",
    "trace1 = go.Scatter(x = index_s12, \n",
    "                    y = locStarts_s12, \n",
    "                    mode = 'lines+markers', \n",
    "                    name = 'location Event Starts',\n",
    "                    line = dict(\n",
    "                        shape = 'hvh',\n",
    "                        color = ('rgba(0, 204, 0, .75)'),\n",
    "                        width = 4))\n",
    "\n",
    "trace2 = go.Scatter(x = index_s12, \n",
    "                    y = socStarts_s12, \n",
    "                    mode = 'lines+markers', \n",
    "                    name = 'social Event Starts',\n",
    "                    line = dict(\n",
    "                        shape = 'hvh',\n",
    "                        color = ('rgba(204, 0, 204, .75)'),\n",
    "                        width = 4))\n",
    "                   \n",
    "                \n",
    "\n",
    "data = [trace1, trace2]\n",
    "layout = go.Layout(\n",
    "    title='A Priori Segments- 12',\n",
    "    xaxis=dict(\n",
    "        title='Sentence Number',\n",
    "        titlefont=dict(\n",
    "            family='Courier New, monospace',\n",
    "            size=18,\n",
    "            color='#7f7f7f')\n",
    "    ),\n",
    "    yaxis=dict(\n",
    "        autorange=True,\n",
    "        showgrid=False,\n",
    "        zeroline=False,\n",
    "        showline=False,\n",
    "        ticks='',\n",
    "        showticklabels=False\n",
    "    )\n",
    ")\n",
    "\n",
    "fig = go.Figure(data=data, layout=layout)\n",
    "py.iplot(fig, filename='jupyter-basic_bar')\n"
   ]
  },
  {
   "cell_type": "code",
   "execution_count": 23,
   "metadata": {},
   "outputs": [
    {
     "data": {
      "image/png": "[encoded data removed]",
      "text/plain": [
       "<Figure size 432x288 with 1 Axes>"
      ]
     },
     "metadata": {
      "needs_background": "light"
     },
     "output_type": "display_data"
    }
   ],
   "source": [
    "import matplotlib.pyplot as plt\n",
    "plt.step(index_s12, socStarts_s12)\n",
    "plt.step(index_s12, locStarts_s12)\n",
    "plt.show()"
   ]
  },
  {
   "cell_type": "code",
   "execution_count": 18,
   "metadata": {},
   "outputs": [
    {
     "ename": "NameError",
     "evalue": "name 'y' is not defined",
     "output_type": "error",
     "traceback": [
      "\u001b[0;31m---------------------------------------------------------------------------\u001b[0m",
      "\u001b[0;31mNameError\u001b[0m                                 Traceback (most recent call last)",
      "\u001b[0;32m<ipython-input-18-8fe10ac758bf>\u001b[0m in \u001b[0;36m<module>\u001b[0;34m\u001b[0m\n\u001b[1;32m      2\u001b[0m trace1 = {\n\u001b[1;32m      3\u001b[0m   \u001b[0mx\u001b[0m\u001b[0;34m:\u001b[0m  \u001b[0;34m[\u001b[0m\u001b[0;36m1\u001b[0m\u001b[0;34m,\u001b[0m \u001b[0;36m2\u001b[0m\u001b[0;34m,\u001b[0m \u001b[0;36m3\u001b[0m\u001b[0;34m,\u001b[0m \u001b[0;36m4\u001b[0m\u001b[0;34m,\u001b[0m \u001b[0;36m5\u001b[0m\u001b[0;34m]\u001b[0m\u001b[0;34m,\u001b[0m\u001b[0;34m\u001b[0m\u001b[0;34m\u001b[0m\u001b[0m\n\u001b[0;32m----> 4\u001b[0;31m   \u001b[0my\u001b[0m\u001b[0;34m:\u001b[0m  \u001b[0;34m[\u001b[0m\u001b[0;36m1\u001b[0m\u001b[0;34m,\u001b[0m \u001b[0;36m3\u001b[0m\u001b[0;34m,\u001b[0m \u001b[0;36m2\u001b[0m\u001b[0;34m,\u001b[0m \u001b[0;36m3\u001b[0m\u001b[0;34m,\u001b[0m \u001b[0;36m1\u001b[0m\u001b[0;34m]\u001b[0m\u001b[0;34m,\u001b[0m\u001b[0;34m\u001b[0m\u001b[0;34m\u001b[0m\u001b[0m\n\u001b[0m\u001b[1;32m      5\u001b[0m   \u001b[0mhoverinfo\u001b[0m\u001b[0;34m:\u001b[0m \u001b[0;34m'name'\u001b[0m\u001b[0;34m,\u001b[0m\u001b[0;34m\u001b[0m\u001b[0;34m\u001b[0m\u001b[0m\n\u001b[1;32m      6\u001b[0m   \u001b[0mline\u001b[0m\u001b[0;34m:\u001b[0m \u001b[0;34m{\u001b[0m\u001b[0mshape\u001b[0m\u001b[0;34m:\u001b[0m \u001b[0;34m'linear'\u001b[0m\u001b[0;34m}\u001b[0m\u001b[0;34m,\u001b[0m\u001b[0;34m\u001b[0m\u001b[0;34m\u001b[0m\u001b[0m\n",
      "\u001b[0;31mNameError\u001b[0m: name 'y' is not defined"
     ]
    }
   ],
   "source": [
    "\n",
    "trace1 = {\n",
    "  x:  [1, 2, 3, 4, 5], \n",
    "  y:  [1, 3, 2, 3, 1], \n",
    "  hoverinfo: 'name', \n",
    "  line: {shape: 'linear'}, \n",
    "  mode: 'lines+markers', \n",
    "  name: 'linear', \n",
    "  type: 'scatter'\n",
    "};\n",
    "trace2 = {\n",
    "  x: [1, 2, 3, 4, 5], \n",
    "  y: [6, 8, 7, 8, 6], \n",
    "  hoverinfo: 'text+name', \n",
    "  line: {shape: 'spline'}, \n",
    "  mode: 'lines+markers', \n",
    "  name: 'spline',  \n",
    "  type: 'scatter'\n",
    "};\n",
    "trace3 = {\n",
    "  x: [1, 2, 3, 4, 5], \n",
    "  y: [11, 13, 12, 13, 11], \n",
    "  hoverinfo: 'name', \n",
    "  line: {shape: 'vhv'}, \n",
    "  mode: 'lines+markers', \n",
    "  name: 'vhv', \n",
    "  type: 'scatter'\n",
    "};\n",
    "trace4 = {\n",
    "  x: [1, 2, 3, 4, 5], \n",
    "  y: [16, 18, 17, 18, 16], \n",
    "  hoverinfo: 'name', \n",
    "  line: {shape: 'hvh'}, \n",
    "  mode: 'lines+markers', \n",
    "  name: 'hvh', \n",
    "  type: 'scatter'\n",
    "};\n",
    "trace5 = {\n",
    "  x: [1, 2, 3, 4, 5], \n",
    "  y: [21, 23, 22, 23, 21], \n",
    "  hoverinfo: 'name', \n",
    "  line: {shape: 'vh'}, \n",
    "  mode: 'lines+markers', \n",
    "  name: 'vh', \n",
    "  type: 'scatter'\n",
    "};\n",
    "trace6 = {\n",
    "  x: [1, 2, 3, 4, 5], \n",
    "  y: [26, 28, 27, 28, 26], \n",
    "  hoverinfo: 'name', \n",
    "  line: {shape: 'hv'}, \n",
    "  mode: 'lines+markers', \n",
    "  name: 'hv', \n",
    "  type: 'scatter'\n",
    "};\n",
    "data = [trace1, trace2, trace3, trace4, trace5, trace6];\n",
    "layout = {legend: {\n",
    "    y: 0.5, \n",
    "    font: {size: 16}, \n",
    "    traceorder: 'reversed'\n",
    "  }};\n",
    "Plotly.plot('plotly-div', {\n",
    "  data: data,\n",
    "  layout: layout\n",
    "});"
   ]
  },
  {
   "cell_type": "code",
   "execution_count": null,
   "metadata": {},
   "outputs": [],
   "source": []
  },
  {
   "cell_type": "code",
   "execution_count": null,
   "metadata": {},
   "outputs": [],
   "source": []
  }
 ],
 "metadata": {
  "kernelspec": {
   "display_name": "Python 3",
   "language": "python",
   "name": "python3"
  },
  "language_info": {
   "codemirror_mode": {
    "name": "ipython",
    "version": 3
   },
   "file_extension": ".py",
   "mimetype": "text/x-python",
   "name": "python",
   "nbconvert_exporter": "python",
   "pygments_lexer": "ipython3",
   "version": "3.7.1"
  }
 },
 "nbformat": 4,
 "nbformat_minor": 2
}
