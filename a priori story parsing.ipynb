{
 "cells": [
  {
   "cell_type": "code",
   "execution_count": 25,
   "metadata": {},
   "outputs": [],
   "source": [
    "#read csv files into dataframes\n",
    "import pandas\n",
    "import numpy as np\n",
    "import plotly.graph_objs as go\n",
    "import plotly.plotly as py\n",
    "import plotly\n",
    "\n",
    "plotly.tools.set_credentials_file(username='amr7', api_key='4gj9vxlD7C63cCRCaRdU')\n",
    "\n",
    "s12 = pandas.read_csv(\"/Users/alexreblando/Documents/GitHub/ebs/story_xlsx_files/12.csv\")"
   ]
  },
  {
   "cell_type": "code",
   "execution_count": 18,
   "metadata": {},
   "outputs": [],
   "source": [
    "#parse shapes of files\n",
    "x_s12, y_s12 = s12.shape"
   ]
  },
  {
   "cell_type": "code",
   "execution_count": 19,
   "metadata": {},
   "outputs": [],
   "source": [
    "#array with the range of each story\n",
    "index_s12 = s12.index"
   ]
  },
  {
   "cell_type": "code",
   "execution_count": 20,
   "metadata": {},
   "outputs": [],
   "source": [
    "#create the location dataframe\n",
    "loc_s12 = s12.locationEvent"
   ]
  },
  {
   "cell_type": "code",
   "execution_count": 21,
   "metadata": {},
   "outputs": [],
   "source": [
    "#create the social dataframe\n",
    "soc_s12 = s12.socialEvent"
   ]
  },
  {
   "cell_type": "code",
   "execution_count": 22,
   "metadata": {},
   "outputs": [],
   "source": [
    "#get a vector with all of the location starting points\n",
    "\n",
    "#12\n",
    "locStarts_s12 = np.zeros(x_s12)\n",
    "\n",
    "for x in range(x_s12):\n",
    "    if loc_s12[x] == 1:\n",
    "        continue\n",
    "    if loc_s12[x] > loc_s12[x-1]:\n",
    "        locStarts_s12[x] = 1\n",
    "\n",
    "locStarts_s12[0] = 1"
   ]
  },
  {
   "cell_type": "code",
   "execution_count": 23,
   "metadata": {},
   "outputs": [],
   "source": [
    "#get a vector with all of the social starting points\n",
    "\n",
    "#12\n",
    "socStarts_s12 = np.zeros(x_s12)\n",
    "\n",
    "for x in range(x_s12):\n",
    "    if soc_s12[x] == 1:\n",
    "        continue\n",
    "    if soc_s12[x] > soc_s12[x-1]:\n",
    "        socStarts_s12[x] = 1\n",
    "\n",
    "socStarts_s12[0] = 1"
   ]
  },
  {
   "cell_type": "code",
   "execution_count": 26,
   "metadata": {},
   "outputs": [
    {
     "name": "stderr",
     "output_type": "stream",
     "text": [
      "/Users/alexreblando/anaconda3/lib/python3.7/site-packages/IPython/core/display.py:689: UserWarning:\n",
      "\n",
      "Consider using IPython.display.IFrame instead\n",
      "\n"
     ]
    },
    {
     "data": {
      "text/html": [
       "<iframe id=\"igraph\" scrolling=\"no\" style=\"border:none;\" seamless=\"seamless\" src=\"https://plot.ly/~amr7/26.embed\" height=\"525px\" width=\"100%\"></iframe>"
      ],
      "text/plain": [
       "<plotly.tools.PlotlyDisplay object>"
      ]
     },
     "execution_count": 26,
     "metadata": {},
     "output_type": "execute_result"
    }
   ],
   "source": [
    "#plot story 12\n",
    "\n",
    "trace1 = go.Scatter(x = index_s12, \n",
    "                    y = locStarts_s12, \n",
    "                    mode = 'lines+markers', \n",
    "                    name = 'location Event Starts',\n",
    "                    line = dict(\n",
    "                        color = ('rgb(0, 204, 0)'),\n",
    "                        width = 4))\n",
    "\n",
    "trace2 = go.Scatter(x = index_s12, \n",
    "                    y = socStarts_s12, \n",
    "                    mode = 'lines+markers', \n",
    "                    name = 'social Event Starts',\n",
    "                    line = dict(\n",
    "                        color = ('rgb(204, 0, 204)'),\n",
    "                        width = 4))\n",
    "                   \n",
    "                \n",
    "\n",
    "data = [trace1, trace2]\n",
    "layout = go.Layout(\n",
    "    title='A Priori Segments- 12',\n",
    "    xaxis=dict(\n",
    "        title='Sentence Number',\n",
    "        titlefont=dict(\n",
    "            family='Courier New, monospace',\n",
    "            size=18,\n",
    "            color='#7f7f7f')\n",
    "    ),\n",
    "    yaxis=dict(\n",
    "        autorange=True,\n",
    "        showgrid=False,\n",
    "        zeroline=False,\n",
    "        showline=False,\n",
    "        ticks='',\n",
    "        showticklabels=False\n",
    "    )\n",
    ")\n",
    "\n",
    "fig = go.Figure(data=data, layout=layout)\n",
    "py.iplot(fig, filename='jupyter-basic_bar')\n"
   ]
  },
  {
   "cell_type": "code",
   "execution_count": null,
   "metadata": {},
   "outputs": [],
   "source": []
  },
  {
   "cell_type": "code",
   "execution_count": null,
   "metadata": {},
   "outputs": [],
   "source": []
  }
 ],
 "metadata": {
  "kernelspec": {
   "display_name": "Python 3",
   "language": "python",
   "name": "python3"
  },
  "language_info": {
   "codemirror_mode": {
    "name": "ipython",
    "version": 3
   },
   "file_extension": ".py",
   "mimetype": "text/x-python",
   "name": "python",
   "nbconvert_exporter": "python",
   "pygments_lexer": "ipython3",
   "version": "3.7.1"
  }
 },
 "nbformat": 4,
 "nbformat_minor": 2
}
