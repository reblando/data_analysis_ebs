{
 "cells": [
  {
   "cell_type": "code",
   "execution_count": 1,
   "metadata": {},
   "outputs": [
    {
     "data": {
      "application/javascript": [
       "IPython.notebook.set_autosave_interval(5000)"
      ]
     },
     "metadata": {},
     "output_type": "display_data"
    },
    {
     "name": "stdout",
     "output_type": "stream",
     "text": [
      "Autosaving every 5 seconds\n"
     ]
    }
   ],
   "source": [
    "import re\n",
    "import codecs\n",
    "import glob\n",
    "import csv\n",
    "import pandas as pd\n",
    "import numpy as np\n",
    "import pickle\n",
    "%autosave 5"
   ]
  },
  {
   "cell_type": "markdown",
   "metadata": {},
   "source": [
    "# Constructing Standard Data Files for Online Participants\n",
    "##### 5/27/20\n",
    "#### i. Choose output name"
   ]
  },
  {
   "cell_type": "code",
   "execution_count": 2,
   "metadata": {},
   "outputs": [],
   "source": [
    "pickle_name = \"pickle/data_dict_b4.p\""
   ]
  },
  {
   "cell_type": "markdown",
   "metadata": {},
   "source": [
    "## I. Treating Log Files\n",
    "### A. Reading in Log Files"
   ]
  },
  {
   "cell_type": "code",
   "execution_count": 5,
   "metadata": {},
   "outputs": [],
   "source": [
    "#pilot1\n",
    "files1 = glob.glob(\"/Users/alexreblando/Documents/GitHub/data_analysis_ebs/online_experiment/data/pilot1/7/*.log\")\n",
    "\n",
    "#pilot2\n",
    "files2 = glob.glob(\"/Users/alexreblando/Documents/GitHub/data_analysis_ebs/online_experiment/data/pilot2/8/*.log\")\n",
    "\n",
    "#pilot3\n",
    "files3 = glob.glob(\"/Users/alexreblando/Documents/GitHub/data_analysis_ebs/online_experiment/data/pilot3/4/*.log\")\n",
    "\n",
    "#pilot4\n",
    "files4 = glob.glob(\"/Users/alexreblando/Documents/GitHub/data_analysis_ebs/online_experiment/data/pilot4/7/*.log\")\n",
    "\n",
    "#final ver- p\n",
    "filesp = glob.glob(\"/Users/alexreblando/Documents/GitHub/data_analysis_ebs/online_experiment/data/finalver_p/10/*.log\")\n",
    "\n",
    "#final ver- b1\n",
    "filesb1 = glob.glob(\"/Users/alexreblando/Documents/GitHub/data_analysis_ebs/online_experiment/data/finalver_b1/33/*.log\")\n",
    "\n",
    "#final ver- b2\n",
    "filesb2 = glob.glob(\"/Users/alexreblando/Documents/GitHub/data_analysis_ebs/online_experiment/data/finalver_b2/30/*.log\")\n",
    "\n",
    "#final ver- b3\n",
    "filesb3 = glob.glob(\"/Users/alexreblando/Documents/GitHub/data_analysis_ebs/online_experiment/data/finalver_b3/45/*.log\")\n",
    "\n",
    "#final ver- b4\n",
    "filesb4 = glob.glob(\"/Users/alexreblando/Documents/GitHub/data_analysis_ebs/online_experiment/data/finalver_b4/29/*.log\")\n",
    "\n"
   ]
  },
  {
   "cell_type": "markdown",
   "metadata": {},
   "source": [
    "### (Adjust here which groups to include in analysis)"
   ]
  },
  {
   "cell_type": "code",
   "execution_count": 7,
   "metadata": {},
   "outputs": [
    {
     "name": "stdout",
     "output_type": "stream",
     "text": [
      "29\n"
     ]
    }
   ],
   "source": [
    "#files = files1 + files2 + files3 + files4 + filesp + filesb1 + filesb2 + filesb3\n",
    "files = filesb4\n",
    "# we'll use a regex for this even though they're ugly and painful:\n",
    "scanQuote = re.compile(r\"'(.*?)'\")  # finds any number of words within a quote\n",
    "print(len(files))"
   ]
  },
  {
   "cell_type": "markdown",
   "metadata": {},
   "source": [
    "### B. Import Qualtrics CSV"
   ]
  },
  {
   "cell_type": "code",
   "execution_count": 8,
   "metadata": {},
   "outputs": [],
   "source": [
    "q_df = pd.read_csv(\"qualtrics/qualtrics.csv\")"
   ]
  },
  {
   "cell_type": "markdown",
   "metadata": {},
   "source": [
    "### C. Import CSVs"
   ]
  },
  {
   "cell_type": "code",
   "execution_count": 9,
   "metadata": {},
   "outputs": [],
   "source": [
    "#FullForce Behavioral\n",
    "\n",
    "#pilot1\n",
    "csv1 = glob.glob(\"/Users/alexreblando/Documents/GitHub/data_analysis_ebs/online_experiment/data/pilot1/7/*.csv\")\n",
    "\n",
    "#pilot2\n",
    "csv2 = glob.glob(\"/Users/alexreblando/Documents/GitHub/data_analysis_ebs/online_experiment/data/pilot2/8/*.csv\")\n",
    "\n",
    "#pilot3\n",
    "csv3 = glob.glob(\"/Users/alexreblando/Documents/GitHub/data_analysis_ebs/online_experiment/data/pilot3/4/*.csv\")\n",
    "\n",
    "#pilot4\n",
    "csv4 = glob.glob(\"/Users/alexreblando/Documents/GitHub/data_analysis_ebs/online_experiment/data/pilot4/7/*.csv\")\n",
    "\n",
    "#final ver- p\n",
    "csvp = glob.glob(\"/Users/alexreblando/Documents/GitHub/data_analysis_ebs/online_experiment/data/finalver_p/10/*.csv\")\n",
    "\n",
    "#final ver- b1\n",
    "csvb1 = glob.glob(\"/Users/alexreblando/Documents/GitHub/data_analysis_ebs/online_experiment/data/finalver_b1/33/*.csv\")\n",
    "\n",
    "#final ver- b2\n",
    "csvb2 = glob.glob(\"/Users/alexreblando/Documents/GitHub/data_analysis_ebs/online_experiment/data/finalver_b2/30/*.csv\")\n",
    "\n",
    "#final ver- b3\n",
    "csvb3 = glob.glob(\"/Users/alexreblando/Documents/GitHub/data_analysis_ebs/online_experiment/data/finalver_b3/45/*.csv\")\n",
    "\n",
    "#final ver- b4\n",
    "csvb4 = glob.glob(\"/Users/alexreblando/Documents/GitHub/data_analysis_ebs/online_experiment/data/finalver_b4/29/*.csv\")"
   ]
  },
  {
   "cell_type": "markdown",
   "metadata": {},
   "source": [
    "### (Insert here which files to include)"
   ]
  },
  {
   "cell_type": "code",
   "execution_count": 10,
   "metadata": {},
   "outputs": [
    {
     "name": "stdout",
     "output_type": "stream",
     "text": [
      "done!\n"
     ]
    }
   ],
   "source": [
    "#csvnames = csv1 + csv2 + csv3 + csv4 + csvp + csvb1 + csvb2 + csvb3\n",
    "csvnames = csvb4\n",
    "\n",
    "csv_df = {}\n",
    "\n",
    "for csvname in csvnames:\n",
    "    #print(csvname)\n",
    "    label = csvname[:-4]\n",
    "    \n",
    "    csv_df[label] = pd.read_csv(csvname)\n",
    "    \n",
    "print('done!')"
   ]
  },
  {
   "cell_type": "markdown",
   "metadata": {},
   "source": [
    "### D. Creating dictionary files_pd with log files data filtered (key: filename .log)"
   ]
  },
  {
   "cell_type": "code",
   "execution_count": 11,
   "metadata": {},
   "outputs": [],
   "source": [
    "#instantiate dictionary\n",
    "files_pd = {}\n",
    "\n",
    "for filename in files:\n",
    "    #print(filename)\n",
    "    # open log file\n",
    "    thisFile = codecs.open( filename, 'r', 'utf-8')\n",
    "    #initiate a dataframe\n",
    "    df = pd.DataFrame(columns=['time','keypress'])\n",
    "    #go through each line in the file\n",
    "    for line in thisFile.readlines():\n",
    "        if \"DATA\" in line:  # new trial reset all entries\n",
    "            if \"Keydown:\" in line:\n",
    "                first, keypress = line.split(\"Keydown:\")\n",
    "                time = first.split(\"\\t\")[0]\n",
    "                keypress = keypress.strip()\n",
    "                df = df.append({'time' : time , 'keypress' : keypress} , ignore_index=True)\n",
    "            else:\n",
    "                pass\n",
    "        if \"text_34: autoDraw = false\" in line:\n",
    "            time = \"here\"\n",
    "            keypress = 33\n",
    "            df = df.append({'time' : time , 'keypress' : keypress} , ignore_index=True)\n",
    "        #recording the distractor words    \n",
    "        if \"text_66: text =\" in line:\n",
    "            time = 'distractor_text'\n",
    "            b, keypress = line.split(\"text = \")\n",
    "            keypress = keypress.strip()\n",
    "            df = df.append({'time' : time , 'keypress' : keypress} , ignore_index=True)\n",
    "        #mark the end of the distractor typing\n",
    "        if \"instr_9: autoDraw = false\" in line:\n",
    "            time = 44\n",
    "            keypress = 0\n",
    "            df = df.append({'time' : time , 'keypress' : keypress} , ignore_index=True)\n",
    "        #recording the short answer questions\n",
    "        if \"instr: text =\" in line:\n",
    "            b, keypress = line.split(\"text = \")\n",
    "            time = 'Q1'\n",
    "            keypress = keypress.strip()\n",
    "            if keypress == \"\\\"default text\\\"\":\n",
    "                pass\n",
    "            else:\n",
    "                df = df.append({'time' : time , 'keypress' : keypress} , ignore_index=True)\n",
    "        if \"instr_2: text =\" in line:\n",
    "            b, keypress = line.split(\"text = \")\n",
    "            time = 'Q2'\n",
    "            keypress = keypress.strip()\n",
    "            if keypress == \"\\\"default text\\\"\":\n",
    "                pass\n",
    "            else:\n",
    "                df = df.append({'time' : time , 'keypress' : keypress} , ignore_index=True)\n",
    "        if \"instr_3: text =\" in line:\n",
    "            b, keypress = line.split(\"text = \")\n",
    "            time = 'Q3'\n",
    "            keypress = keypress.strip()\n",
    "            if keypress == \"\\\"default text\\\"\":\n",
    "                pass\n",
    "            else:\n",
    "                df = df.append({'time' : time , 'keypress' : keypress} , ignore_index=True)\n",
    "        if \"instr_4: text =\" in line:\n",
    "            b, keypress = line.split(\"text = \")\n",
    "            time = 'Q4'\n",
    "            keypress = keypress.strip()\n",
    "            if keypress == \"\\\"default text\\\"\":\n",
    "                pass\n",
    "            else:\n",
    "                df = df.append({'time' : time , 'keypress' : keypress} , ignore_index=True)\n",
    "        if \"instr_5: text =\" in line:\n",
    "            b, keypress = line.split(\"text = \")\n",
    "            time = 'Q5'\n",
    "            keypress = keypress.strip()\n",
    "            if keypress == \"\\\"default text\\\"\":\n",
    "                pass\n",
    "            else:\n",
    "                df = df.append({'time' : time , 'keypress' : keypress} , ignore_index=True)\n",
    "        if \"instr_6: text =\" in line:\n",
    "            b, keypress = line.split(\"text = \")\n",
    "            time = 'Q6'\n",
    "            keypress = keypress.strip()\n",
    "            if keypress == \"\\\"default text\\\"\":\n",
    "                pass\n",
    "            else:\n",
    "                df = df.append({'time' : time , 'keypress' : keypress} , ignore_index=True)\n",
    "        if \"instr_7: text =\" in line:\n",
    "            b, keypress = line.split(\"text = \")\n",
    "            time = 'Q7'\n",
    "            keypress = keypress.strip()\n",
    "            if keypress == \"\\\"default text\\\"\":\n",
    "                pass\n",
    "            else:\n",
    "                df = df.append({'time' : time , 'keypress' : keypress} , ignore_index=True)\n",
    "        if \"instr_8: text =\" in line:\n",
    "            b, keypress = line.split(\"text = \")\n",
    "            time = 'Q8'\n",
    "            keypress = keypress.strip()\n",
    "            if keypress == \"\\\"default text\\\"\":\n",
    "                pass\n",
    "            else:\n",
    "                df = df.append({'time' : time , 'keypress' : keypress} , ignore_index=True)\n",
    "        #short answers\n",
    "        text_num = [\"43\", \"44\", \"45\", \"46\", \"47\", \"48\", \"51\", \"53\"]\n",
    "        if \"text_43: text = \" in line:\n",
    "            b, keypress = line.split(\"text = \")\n",
    "            time = 'A1'\n",
    "            keypress = keypress.strip()\n",
    "            df = df.append({'time' : time , 'keypress' : keypress} , ignore_index=True)\n",
    "        if \"text_44: text = \" in line:\n",
    "            b, keypress = line.split(\"text = \")\n",
    "            time = 'A2'\n",
    "            keypress = keypress.strip()\n",
    "            df = df.append({'time' : time , 'keypress' : keypress} , ignore_index=True)\n",
    "        if \"text_45: text = \" in line:\n",
    "            b, keypress = line.split(\"text = \")\n",
    "            time = 'A3'\n",
    "            keypress = keypress.strip()\n",
    "            df = df.append({'time' : time , 'keypress' : keypress} , ignore_index=True)\n",
    "        if \"text_46: text = \" in line:\n",
    "            b, keypress = line.split(\"text = \")\n",
    "            time = 'A4'\n",
    "            keypress = keypress.strip()\n",
    "            df = df.append({'time' : time , 'keypress' : keypress} , ignore_index=True)\n",
    "        if \"text_47: text = \" in line:\n",
    "            b, keypress = line.split(\"text = \")\n",
    "            time = 'A5'\n",
    "            keypress = keypress.strip()\n",
    "            df = df.append({'time' : time , 'keypress' : keypress} , ignore_index=True)\n",
    "        if \"text_48: text = \" in line:\n",
    "            b, keypress = line.split(\"text = \")\n",
    "            time = 'A6'\n",
    "            keypress = keypress.strip()\n",
    "            df = df.append({'time' : time , 'keypress' : keypress} , ignore_index=True)\n",
    "        if \"text_51: text = \" in line:\n",
    "            b, keypress = line.split(\"text = \")\n",
    "            time = 'A7'\n",
    "            keypress = keypress.strip()\n",
    "            df = df.append({'time' : time , 'keypress' : keypress} , ignore_index=True)\n",
    "        if \"text_53: text = \" in line:\n",
    "            b, keypress = line.split(\"text = \")\n",
    "            time = 'A8'\n",
    "            keypress = keypress.strip()\n",
    "            df = df.append({'time' : time , 'keypress' : keypress} , ignore_index=True)\n",
    "    #remove rows of pd with empty keypress values\n",
    "    df = df[df.keypress != '\"\"']\n",
    "    df = df[df.keypress != '']\n",
    "    #reset index\n",
    "    df = df.reset_index(drop=True)\n",
    "    #add the df to the dictionary\n",
    "    files_pd[filename] = df\n",
    "    \n",
    "\n",
    "        "
   ]
  },
  {
   "cell_type": "markdown",
   "metadata": {},
   "source": [
    "## II. Building Standardized Data File \n",
    "#### pd w cols = story, type, persp, alt_persp, sa_order, story_presses, distractors, 'SA's\n",
    "\n",
    "## A. Instantiate df data_dict (key: filename)"
   ]
  },
  {
   "cell_type": "code",
   "execution_count": 12,
   "metadata": {},
   "outputs": [],
   "source": [
    "data_dict = {}\n",
    "\n",
    "#fill data_dict with all files\n",
    "for filename in files:\n",
    "    this_df = pd.DataFrame()\n",
    "    label = filename[:-4]\n",
    "    data_dict[label] = this_df\n",
    "    "
   ]
  },
  {
   "cell_type": "code",
   "execution_count": 13,
   "metadata": {},
   "outputs": [
    {
     "data": {
      "text/plain": [
       "29"
      ]
     },
     "execution_count": 13,
     "metadata": {},
     "output_type": "execute_result"
    }
   ],
   "source": [
    "len(csvnames)"
   ]
  },
  {
   "cell_type": "markdown",
   "metadata": {},
   "source": [
    "## C. Extract information from files_pd\n",
    "### i. story_presses"
   ]
  },
  {
   "cell_type": "code",
   "execution_count": 14,
   "metadata": {},
   "outputs": [],
   "source": [
    "#include if statement, since if the values are in the .csv we will use those, maybe not actually. If this method works\n",
    "#why not make it ubiquitous for all. I will do some comparisons with people who do have story_presses in their .csv\n",
    "#to verify this extraction method\n",
    "\n",
    "for filename in files:\n",
    "    #call the dataframe for this file\n",
    "    df = files_pd[filename]\n",
    "    #finding index of 'here'\n",
    "    here = np.array(df.index[df['time'] == 'here'].tolist())\n",
    "    #subtracting 1 to get index of keypresses\n",
    "    seg = here - 1\n",
    "    #getting the keypress values\n",
    "    key_vals = df['keypress'][seg].tolist()\n",
    "    #turning keypresses into ints\n",
    "    key_vals = [int(i) for i in key_vals]\n",
    "    #adjusting the filename to match the key\n",
    "    label = filename[:-4]\n",
    "    #adding the key_vals to the df\n",
    "    data_dict[label]['story_presses'] = key_vals"
   ]
  },
  {
   "cell_type": "markdown",
   "metadata": {},
   "source": [
    "### ii. short answers"
   ]
  },
  {
   "cell_type": "code",
   "execution_count": 15,
   "metadata": {},
   "outputs": [],
   "source": [
    "Alist = ['A1', 'A2', 'A3', 'A4', 'A5', 'A6', 'A7', 'A8']\n",
    "\n",
    "for filename in files:\n",
    "    df = files_pd[filename]\n",
    "    for thisA in Alist:\n",
    "        #finding index of thisA\n",
    "        here = np.array(df.index[df['time'] == thisA].tolist())\n",
    "        #getting the keypress values\n",
    "        key_vals = df['keypress'][here].tolist()\n",
    "        if not key_vals:\n",
    "            this_val = ''\n",
    "        else:\n",
    "            #index the last value\n",
    "            this_val = key_vals[-1]\n",
    "        label = filename[:-4]\n",
    "        #adding the key_vals to the df\n",
    "        data_dict[label][thisA] = this_val"
   ]
  },
  {
   "cell_type": "markdown",
   "metadata": {},
   "source": [
    "### iii. distractors"
   ]
  },
  {
   "cell_type": "code",
   "execution_count": 16,
   "metadata": {},
   "outputs": [
    {
     "name": "stdout",
     "output_type": "stream",
     "text": [
      "/Users/alexreblando/Documents/GitHub/data_analysis_ebs/online_experiment/data/finalver_b4/29/463_1_online_exp_2020-07-29_19h19.39.183.log\n",
      "/Users/alexreblando/Documents/GitHub/data_analysis_ebs/online_experiment/data/finalver_b4/29/464_1_online_exp_2020-07-29_19h22.38.420.log\n",
      "/Users/alexreblando/Documents/GitHub/data_analysis_ebs/online_experiment/data/finalver_b4/29/465_1_online_exp_2020-07-29_20h02.19.143.log\n",
      "/Users/alexreblando/Documents/GitHub/data_analysis_ebs/online_experiment/data/finalver_b4/29/466_1_online_exp_2020-07-29_13h19.08.195.log\n",
      "/Users/alexreblando/Documents/GitHub/data_analysis_ebs/online_experiment/data/finalver_b4/29/469_1_online_exp_2020-07-29_19h19.25.754.log\n",
      "/Users/alexreblando/Documents/GitHub/data_analysis_ebs/online_experiment/data/finalver_b4/29/470_1_online_exp_2020-07-29_19h19.17.873.log\n",
      "/Users/alexreblando/Documents/GitHub/data_analysis_ebs/online_experiment/data/finalver_b4/29/472_1_online_exp_2020-07-29_19h20.36.788.log\n",
      "/Users/alexreblando/Documents/GitHub/data_analysis_ebs/online_experiment/data/finalver_b4/29/473_1_online_exp_2020-07-29_19h19.52.985.log\n",
      "/Users/alexreblando/Documents/GitHub/data_analysis_ebs/online_experiment/data/finalver_b4/29/474_1_online_exp_2020-07-29_19h19.30.496.log\n",
      "/Users/alexreblando/Documents/GitHub/data_analysis_ebs/online_experiment/data/finalver_b4/29/475_1_online_exp_2020-07-29_19h21.03.444.log\n",
      "/Users/alexreblando/Documents/GitHub/data_analysis_ebs/online_experiment/data/finalver_b4/29/476_1_online_exp_2020-07-29_14h36.22.402.log\n",
      "/Users/alexreblando/Documents/GitHub/data_analysis_ebs/online_experiment/data/finalver_b4/29/478_1_online_exp_2020-07-29_19h20.02.916.log\n",
      "/Users/alexreblando/Documents/GitHub/data_analysis_ebs/online_experiment/data/finalver_b4/29/479_1_online_exp_2020-07-29_13h19.44.983.log\n",
      "/Users/alexreblando/Documents/GitHub/data_analysis_ebs/online_experiment/data/finalver_b4/29/480_1_online_exp_2020-07-29_19h19.38.511.log\n",
      "/Users/alexreblando/Documents/GitHub/data_analysis_ebs/online_experiment/data/finalver_b4/29/481_1_online_exp_2020-07-29_11h19.40.738.log\n",
      "/Users/alexreblando/Documents/GitHub/data_analysis_ebs/online_experiment/data/finalver_b4/29/483_1_online_exp_2020-07-29_19h19.17.548.log\n",
      "/Users/alexreblando/Documents/GitHub/data_analysis_ebs/online_experiment/data/finalver_b4/29/484_1_online_exp_2020-07-29_14h24.02.463.log\n",
      "/Users/alexreblando/Documents/GitHub/data_analysis_ebs/online_experiment/data/finalver_b4/29/485_1_online_exp_2020-07-29_11h20.22.859.log\n",
      "/Users/alexreblando/Documents/GitHub/data_analysis_ebs/online_experiment/data/finalver_b4/29/487_1_online_exp_2020-07-29_19h19.53.250.log\n",
      "/Users/alexreblando/Documents/GitHub/data_analysis_ebs/online_experiment/data/finalver_b4/29/488_1_online_exp_2020-07-29_14h20.01.678.log\n",
      "/Users/alexreblando/Documents/GitHub/data_analysis_ebs/online_experiment/data/finalver_b4/29/489_1_online_exp_2020-07-29_15h20.23.530.log\n",
      "/Users/alexreblando/Documents/GitHub/data_analysis_ebs/online_experiment/data/finalver_b4/29/490_1_online_exp_2020-07-29_19h19.53.518.log\n",
      "/Users/alexreblando/Documents/GitHub/data_analysis_ebs/online_experiment/data/finalver_b4/29/493_1_online_exp_2020-07-29_14h21.18.641.log\n",
      "/Users/alexreblando/Documents/GitHub/data_analysis_ebs/online_experiment/data/finalver_b4/29/494_1_online_exp_2020-07-29_19h20.45.344.log\n",
      "/Users/alexreblando/Documents/GitHub/data_analysis_ebs/online_experiment/data/finalver_b4/29/495_1_online_exp_2020-07-29_13h22.57.572.log\n",
      "/Users/alexreblando/Documents/GitHub/data_analysis_ebs/online_experiment/data/finalver_b4/29/498_1_online_exp_2020-07-29_19h27.55.516.log\n",
      "/Users/alexreblando/Documents/GitHub/data_analysis_ebs/online_experiment/data/finalver_b4/29/499_1_online_exp_2020-07-29_14h27.59.183.log\n",
      "/Users/alexreblando/Documents/GitHub/data_analysis_ebs/online_experiment/data/finalver_b4/29/501_1_online_exp_2020-07-29_19h36.38.254.log\n",
      "/Users/alexreblando/Documents/GitHub/data_analysis_ebs/online_experiment/data/finalver_b4/29/503_1_online_exp_2020-07-29_20h32.11.025.log\n"
     ]
    }
   ],
   "source": [
    "for filename in files:\n",
    "    print(filename)\n",
    "    #get the label for the data_dict\n",
    "    label = filename[:-4]\n",
    "    #select df from files_pd\n",
    "    df = files_pd[filename]\n",
    "    #finding the index of 44, the marker for distractor texts\n",
    "    here = np.array(df.index[df['time'] == 44].tolist())\n",
    "    #subtracting 2 to get index of keypresses\n",
    "    distractors = here - 2\n",
    "    distractor_vals = df['keypress'][distractors].tolist()\n",
    "    for i in range(0, 5):\n",
    "        data_dict[label]['distractor' + str(i+1)] = distractor_vals[i]"
   ]
  },
  {
   "cell_type": "markdown",
   "metadata": {},
   "source": [
    "## D. Extract info from CSV files\n",
    "### i. Get prolific_id, story, type, persp, alt_persp, sa_order"
   ]
  },
  {
   "cell_type": "code",
   "execution_count": 17,
   "metadata": {},
   "outputs": [],
   "source": [
    "for filename in files:\n",
    "    #get the label for the data_dict\n",
    "    label = filename[:-4]\n",
    "    #getting prolific id\n",
    "    data_dict[label]['prolific_id'] = csv_df[label]['Prolific_ID'].iloc[0]\n",
    "    #getting story number\n",
    "    data_dict[label]['story'] = int(csv_df[label]['story'].iloc[0])\n",
    "    #getting priming type\n",
    "    data_dict[label]['p_type'] = int(csv_df[label]['val2'].iloc[0])\n",
    "    #perspective\n",
    "    if \"persp_val\" in csv_df[label]:\n",
    "        data_dict[label]['persp'] = int(csv_df[label]['persp_val'].iloc[0])\n",
    "        #alternative perspective\n",
    "        data_dict[label]['alt_persp'] = int(csv_df[label]['alt_persp_val'].iloc[0])\n",
    "    else:\n",
    "        data_dict[label]['persp'] = int(csv_df[label]['perp_val'].iloc[0])\n",
    "        #alternative perspective\n",
    "        data_dict[label]['alt_persp'] = int(csv_df[label]['alt_perp_val'].iloc[0])\n",
    "    #short answer order\n",
    "    if \"sa_order\" in csv_df[label]:\n",
    "        data_dict[label]['sa_order'] = int(csv_df[label]['sa_order'].iloc[0])\n",
    "    #if the short answer order is not in the file (pilot i, ii) then put the first sa question in 'sa_order' column    \n",
    "    else:\n",
    "        data_dict[label]['sa_order'] = files_pd[filename].loc[files_pd[filename]['time'] == 'Q1', 'keypress'].iloc[0]\n",
    "        \n",
    "        \n",
    "    \n",
    "    "
   ]
  },
  {
   "cell_type": "markdown",
   "metadata": {},
   "source": [
    "## E. Recall Data from Qualtrics"
   ]
  },
  {
   "cell_type": "markdown",
   "metadata": {},
   "source": [
    "### ii. Insert Recall Data from Qualtrics CSV into data_dict using prolific_id"
   ]
  },
  {
   "cell_type": "code",
   "execution_count": 18,
   "metadata": {},
   "outputs": [
    {
     "name": "stdout",
     "output_type": "stream",
     "text": [
      "5d4a0765eae90d0019a6265a\n",
      "5d4a0765eae90d0019a6265a\n",
      "5e870606f9dd66349540b880\n",
      "5e870606f9dd66349540b880\n",
      "5eac12072b68452228ea8a40\n",
      "5eac12072b68452228ea8a40\n",
      "5e5e5b2488479216d9171d1b\n",
      "5e5e5b2488479216d9171d1b\n",
      "5d891e6c58e42400182bca83\n",
      "5d891e6c58e42400182bca83\n",
      "5eda87495833de699dd92655\n",
      "5eda87495833de699dd92655\n",
      "5eaec18fbb7b8901200d16dd\n",
      "5eaec18fbb7b8901200d16dd\n",
      "5ea0002d88f78b1aa69ca675\n",
      "5ea0002d88f78b1aa69ca675\n",
      "5e8df0f227e1b80797b9c509\n",
      "5e8df0f227e1b80797b9c509\n",
      "5c6b03919491820001435d81\n",
      "5c6b03919491820001435d81\n",
      "599766b07eaf20000139e40d\n",
      "599766b07eaf20000139e40d\n",
      "5e17061ce80b8e000b364915\n",
      "5e17061ce80b8e000b364915\n",
      "5bd9f569eb22f2000183df4e\n",
      "5bd9f569eb22f2000183df4e\n",
      "5ea611dda778214a5e89fbf2\n",
      "5ea611dda778214a5e89fbf2\n",
      "5c3d4b92486a390001e87dfe\n",
      "5c3d4b92486a390001e87dfe\n",
      "5601379877f33b0010cb2b98\n",
      "5601379877f33b0010cb2b98\n",
      "5c5c8a688089970001788f30\n",
      "5c5c8a688089970001788f30\n",
      "56bb3f29724769000cb8e752\n",
      "56bb3f29724769000cb8e752\n",
      "5ed4c62cf9e3434938ff58b0\n",
      "5ed4c62cf9e3434938ff58b0\n",
      "5eb9f23b81d742132c863749\n",
      "5eb9f23b81d742132c863749\n",
      "5ecc75967c7c76476806ab2b\n",
      "5ecc75967c7c76476806ab2b\n",
      "5eb06daa9731700fd96fe238\n",
      "5eb06daa9731700fd96fe238\n",
      "5e54309f0a98c705f68ae8a8\n",
      "5e54309f0a98c705f68ae8a8\n",
      "5dcc7958dcc83f912f590fe4\n",
      "5dcc7958dcc83f912f590fe4\n",
      "5cbbd55510241a0017b81a65\n",
      "5cbbd55510241a0017b81a65\n",
      "566feba6b937e400052d33b2\n",
      "566feba6b937e400052d33b2\n",
      "5ea624b32b24666209c18941\n",
      "5ea624b32b24666209c18941\n",
      "5e6d582420f68f0111cf8319\n",
      "5e6d582420f68f0111cf8319\n",
      "5cfe43f8d09fbc00013a0ee5\n",
      "5cfe43f8d09fbc00013a0ee5\n"
     ]
    }
   ],
   "source": [
    "for key in data_dict.keys():\n",
    "    #print(key)\n",
    "    #getting prolific id from data_dict\n",
    "    this_id = data_dict[key]['prolific_id'].iloc[0]\n",
    "    print(this_id)\n",
    "    this_id_new = this_id.strip()\n",
    "    print(this_id)\n",
    "    if this_id in q_df.values:\n",
    "        #index of row with this_id\n",
    "        data_dict[key]['recall'] = q_df.loc[q_df['Q1'] == this_id, 'Q8'].iloc[0]\n",
    "    elif this_id_new in q_df.values:\n",
    "        data_dict[key]['recall'] = q_df.loc[q_df['Q1'] == this_id_new, 'Q8'].iloc[0]\n",
    "  "
   ]
  },
  {
   "cell_type": "markdown",
   "metadata": {},
   "source": [
    "## F. Pickling"
   ]
  },
  {
   "cell_type": "code",
   "execution_count": 19,
   "metadata": {},
   "outputs": [],
   "source": [
    "pickle.dump( data_dict, open( pickle_name, \"wb\" ) )"
   ]
  },
  {
   "cell_type": "code",
   "execution_count": null,
   "metadata": {},
   "outputs": [],
   "source": []
  }
 ],
 "metadata": {
  "kernelspec": {
   "display_name": "Python 3",
   "language": "python",
   "name": "python3"
  },
  "language_info": {
   "codemirror_mode": {
    "name": "ipython",
    "version": 3
   },
   "file_extension": ".py",
   "mimetype": "text/x-python",
   "name": "python",
   "nbconvert_exporter": "python",
   "pygments_lexer": "ipython3",
   "version": "3.6.8"
  }
 },
 "nbformat": 4,
 "nbformat_minor": 2
}
