{
 "cells": [
  {
   "cell_type": "markdown",
   "metadata": {},
   "source": [
    "# N-1 within-participants comparison Jaccard Analysis of Segmentation Data\n",
    "### Started August 4, 2020"
   ]
  },
  {
   "cell_type": "code",
   "execution_count": 368,
   "metadata": {},
   "outputs": [
    {
     "data": {
      "application/javascript": [
       "IPython.notebook.set_autosave_interval(5000)"
      ]
     },
     "metadata": {},
     "output_type": "display_data"
    },
    {
     "name": "stdout",
     "output_type": "stream",
     "text": [
      "Autosaving every 5 seconds\n"
     ]
    }
   ],
   "source": [
    "import pandas as pd\n",
    "import numpy as np\n",
    "import plotly.graph_objs as go\n",
    "import plotly.plotly as py\n",
    "import plotly\n",
    "import os\n",
    "import glob\n",
    "import math\n",
    "import statistics\n",
    "import matplotlib.pyplot as plt\n",
    "import seaborn as sns\n",
    "import pickle\n",
    "import copy\n",
    "from random import randrange\n",
    "%autosave 5"
   ]
  },
  {
   "cell_type": "markdown",
   "metadata": {},
   "source": [
    "### i. Import data"
   ]
  },
  {
   "cell_type": "code",
   "execution_count": 92,
   "metadata": {},
   "outputs": [],
   "source": [
    "filename = '/Users/alexreblando/Documents/GitHub/data_analysis_ebs/online_experiment/analysis/parsing_log_file/pickle/data_dict_pilots_b1_b2_b3.p'\n",
    "data_dict = pickle.load( open( filename, \"rb\" ) )"
   ]
  },
  {
   "cell_type": "markdown",
   "metadata": {},
   "source": [
    "### ii. import story files"
   ]
  },
  {
   "cell_type": "code",
   "execution_count": 99,
   "metadata": {},
   "outputs": [],
   "source": [
    "directory_stories = '/Users/alexreblando/Documents/GitHub/ebs/behavioral_August2019/story_xlsx_files_RECORDED'\n",
    "\n",
    "filenames_stories = glob.glob(directory_stories + '/*.xlsx')\n",
    "\n",
    "dfs_stories = []\n",
    "    \n",
    "for filename in filenames_stories:\n",
    "    dfs_stories.append(pd.read_excel(filename))"
   ]
  },
  {
   "cell_type": "markdown",
   "metadata": {},
   "source": [
    "### iii. Exclusions\n",
    "#### a. exclude participants who only pressed '1' or '9'"
   ]
  },
  {
   "cell_type": "code",
   "execution_count": 93,
   "metadata": {},
   "outputs": [
    {
     "name": "stdout",
     "output_type": "stream",
     "text": [
      "/Users/alexreblando/Documents/GitHub/data_analysis_ebs/online_experiment/pilot2/8/PARTICIPANT_1_online_exp_2020-05-11_12h52.50.131\n",
      "5cf0a300b094d700183e4d54\n",
      "/Users/alexreblando/Documents/GitHub/data_analysis_ebs/online_experiment/finalver_b1/33/145_1_online_exp_2020-06-10_15h14.14.911\n",
      "5ec18c4c2f44695b38204649\n",
      "/Users/alexreblando/Documents/GitHub/data_analysis_ebs/online_experiment/finalver_b1/33/171_1_online_exp_2020-06-10_21h32.27.534\n",
      "5de12fbfe4f42a1842172d7a\n",
      "/Users/alexreblando/Documents/GitHub/data_analysis_ebs/online_experiment/finalver_b3/45/418_1_online_exp_2020-07-16_09h12.22.806\n",
      "5eb5dafddac6754c4ee9d0d7\n"
     ]
    }
   ],
   "source": [
    "keys_to_del = []\n",
    "for key in data_dict:\n",
    "    kp = data_dict[key]['story_presses']\n",
    "    check_kp = len(set(kp))\n",
    "    if check_kp == 1:\n",
    "        print(key)\n",
    "        print(data_dict[key]['prolific_id'].iloc[0])\n",
    "        keys_to_del.append(key)\n",
    "        \n",
    "for i in range(0, len(keys_to_del)):\n",
    "    del data_dict[keys_to_del[i]]"
   ]
  },
  {
   "cell_type": "markdown",
   "metadata": {},
   "source": [
    "#### b. Exclude participants who don't answer short answers"
   ]
  },
  {
   "cell_type": "code",
   "execution_count": 94,
   "metadata": {},
   "outputs": [],
   "source": [
    "del data_dict['/Users/alexreblando/Documents/GitHub/data_analysis_ebs/online_experiment/finalver_b1/33/73_1_online_exp_2020-06-10_14h37.05.252']"
   ]
  },
  {
   "cell_type": "markdown",
   "metadata": {},
   "source": [
    "#### c. (exclude participants who answered got 4 or more of the distractor words wrong ) not including this"
   ]
  },
  {
   "cell_type": "code",
   "execution_count": 78,
   "metadata": {},
   "outputs": [
    {
     "name": "stdout",
     "output_type": "stream",
     "text": [
      "/Users/alexreblando/Documents/GitHub/data_analysis_ebs/online_experiment/pilot3/4/PARTICIPANT_1_online_exp_2020-05-20_22h03.41.810\n",
      "5e3f032709a1141608164346\n",
      "/Users/alexreblando/Documents/GitHub/data_analysis_ebs/online_experiment/finalver_p/10/29_1_online_exp_2020-06-09_20h50.53.003\n",
      "5c8a2d11f7ab04001042af3c\n",
      "/Users/alexreblando/Documents/GitHub/data_analysis_ebs/online_experiment/finalver_b1/33/174_1_online_exp_2020-06-10_21h49.17.497\n",
      "5c12ce5fd3f0d1000108430a \n",
      "/Users/alexreblando/Documents/GitHub/data_analysis_ebs/online_experiment/finalver_b2/30/197_1_online_exp_2020-06-24_10h37.27.192\n",
      "5898b6e256357700011c2c6b\n",
      "/Users/alexreblando/Documents/GitHub/data_analysis_ebs/online_experiment/finalver_b2/30/199_1_online_exp_2020-06-24_20h41.05.680\n",
      "5ed1443918f6bd07449d88a5\n",
      "/Users/alexreblando/Documents/GitHub/data_analysis_ebs/online_experiment/finalver_b2/30/216_1_online_exp_2020-06-24_15h35.19.238\n",
      "58df90cecc6d9800018c5d58\n",
      "/Users/alexreblando/Documents/GitHub/data_analysis_ebs/online_experiment/finalver_b3/45/376_1_online_exp_2020-07-16_09h08.08.638\n",
      "5d7036ba34c25f0019dc23e8\n"
     ]
    }
   ],
   "source": [
    "exclusions = []\n",
    "\n",
    "for key in data_dict:\n",
    "    #get distractor answers\n",
    "    d1 = data_dict[key]['distractor1'].iloc[0]\n",
    "    d2 = data_dict[key]['distractor2'].iloc[0]\n",
    "    d3 = data_dict[key]['distractor3'].iloc[0]\n",
    "    d4 = data_dict[key]['distractor4'].iloc[0]\n",
    "    d5 = data_dict[key]['distractor5'].iloc[0]\n",
    "    \n",
    "    #set count to 0\n",
    "    count = 0\n",
    "    \n",
    "    #test for correctness\n",
    "    if d1 != '\"accoutrements\"':\n",
    "        count += 1\n",
    "    else:\n",
    "        pass\n",
    "    if d2 != '\"tintinnabulation\"':\n",
    "        count += 1\n",
    "    else:\n",
    "        pass\n",
    "    if d3 != '\"hippocampus\"':\n",
    "        count += 1\n",
    "    else:\n",
    "        pass\n",
    "    if d4 != '\"brigadeiro\"':\n",
    "        count += 1\n",
    "    else:\n",
    "        pass\n",
    "    if d5 != '\"muffuletta\"':\n",
    "        count += 1\n",
    "    else:\n",
    "        pass\n",
    "    \n",
    "    #test if count is greater than or equal to 4 and if count is, then exclude the participant\n",
    "    if count > 4:\n",
    "        print(key)\n",
    "        print(data_dict[key]['prolific_id'].iloc[0])\n",
    "        exclusions.append(data_dict[key]['prolific_id'].iloc[0])\n",
    "    else:\n",
    "        pass"
   ]
  },
  {
   "cell_type": "markdown",
   "metadata": {},
   "source": [
    "#### d. Pickle data_dict in order to get group counts"
   ]
  },
  {
   "cell_type": "code",
   "execution_count": 83,
   "metadata": {},
   "outputs": [],
   "source": [
    "pickle.dump( data_dict, open( 'check', \"wb\" ) )"
   ]
  },
  {
   "cell_type": "markdown",
   "metadata": {},
   "source": [
    "# I. Separating the Priming Groups For Each Story\n",
    "## A. group stories by subject and priming type\n",
    "#### - output: loc_keys_r"
   ]
  },
  {
   "cell_type": "code",
   "execution_count": 95,
   "metadata": {},
   "outputs": [],
   "source": [
    "loc_keys_r = dict()\n",
    "soc_keys_r = dict()\n",
    "none_keys_r = dict()\n",
    "all_keys_r = dict()\n",
    "\n",
    "for key in data_dict:\n",
    "    this_story = data_dict[key]['story'].iloc[0]\n",
    "    keys = data_dict[key]['story_presses']\n",
    "    p_type = data_dict[key]['p_type'].iloc[0]\n",
    "    #print out the filenames and prolific ids of people who did not press \"9\" once\n",
    "    occurrences = np.count_nonzero(keys == 9)\n",
    "    if occurrences == 0:\n",
    "        print(key)\n",
    "        print(data_dict[key]['prolific_id'].iloc[0])\n",
    "    #put all story keys in the same dictionary regardless of priming\n",
    "    if this_story in all_keys_r:\n",
    "        all_keys_r[this_story] = np.concatenate((all_keys_r[this_story],keys[:,np.newaxis]), axis=1)\n",
    "    else:\n",
    "        all_keys_r[this_story] = keys[:, np.newaxis]\n",
    "    #organize keys by priming type\n",
    "    #no prime\n",
    "    if p_type == 0:\n",
    "        if this_story in none_keys_r:\n",
    "            none_keys_r[this_story] = np.concatenate((none_keys_r[this_story],keys[:,np.newaxis]), axis=1)\n",
    "        else:\n",
    "            none_keys_r[this_story] = keys[:, np.newaxis]\n",
    "    #loc prime\n",
    "    elif p_type == 1:\n",
    "        if this_story in loc_keys_r:\n",
    "            loc_keys_r[this_story] = np.concatenate((loc_keys_r[this_story],keys[:,np.newaxis]), axis=1)\n",
    "        else:\n",
    "            loc_keys_r[this_story] = keys[:, np.newaxis]\n",
    "    #soc prime\n",
    "    elif p_type == 2:\n",
    "        if this_story in soc_keys_r:\n",
    "            soc_keys_r[this_story] = np.concatenate((soc_keys_r[this_story],keys[:,np.newaxis]), axis=1)\n",
    "        else:\n",
    "            soc_keys_r[this_story] = keys[:, np.newaxis]"
   ]
  },
  {
   "cell_type": "markdown",
   "metadata": {},
   "source": [
    "### i. Finding the number of participants in each category for each story\n",
    "#### -output sums[story] = [total # of participants, loc primed, soc primed, no prime]"
   ]
  },
  {
   "cell_type": "code",
   "execution_count": 96,
   "metadata": {},
   "outputs": [],
   "source": [
    "sums = {}\n",
    "\n",
    "for key in all_keys_r:\n",
    "    this_sum = []\n",
    "    x, y = all_keys_r[key].shape\n",
    "    this_sum.append(y)\n",
    "    if key in loc_keys_r:\n",
    "        x, y = loc_keys_r[key].shape\n",
    "        this_sum.append(y)\n",
    "    else:\n",
    "        this_sum.append(0)\n",
    "        pass\n",
    "    if key in soc_keys_r:\n",
    "        x, y = soc_keys_r[key].shape\n",
    "        this_sum.append(y)\n",
    "    else:\n",
    "        this_sum.append(0)\n",
    "    if key in none_keys_r:\n",
    "        x, y = none_keys_r[key].shape\n",
    "        this_sum.append(y)\n",
    "    else:\n",
    "        this_sum.append(0)\n",
    "    sums[key] = this_sum"
   ]
  },
  {
   "cell_type": "markdown",
   "metadata": {},
   "source": [
    "## B. Convert keypresses from '9's and '1's to '1's and '0's\n",
    "#### - output loc_keys\n",
    "#### - WARNING: you can only run this once!!!!!! if you run twice, you must start from the beginning"
   ]
  },
  {
   "cell_type": "code",
   "execution_count": 97,
   "metadata": {},
   "outputs": [],
   "source": [
    "loc_keys = dict()\n",
    "soc_keys = dict()\n",
    "none_keys = dict()\n",
    "all_keys = dict()\n",
    "\n",
    "#all keys\n",
    "for key in all_keys_r:\n",
    "    this_array = copy.deepcopy(all_keys_r[key])\n",
    "    this_array[this_array ==1] = 0\n",
    "    this_array[this_array == 9] = 1\n",
    "    all_keys[key] = this_array   \n",
    "    \n",
    "#none keys\n",
    "for key in none_keys_r:\n",
    "    this_array = copy.deepcopy(none_keys_r[key])\n",
    "    this_array[this_array ==1] = 0\n",
    "    this_array[this_array == 9] = 1\n",
    "    none_keys[key] = this_array   \n",
    "    \n",
    "#loc keys\n",
    "for key in loc_keys_r:\n",
    "    this_array = copy.deepcopy(loc_keys_r[key])\n",
    "    this_array[this_array ==1] = 0\n",
    "    this_array[this_array == 9] = 1\n",
    "    loc_keys[key] = this_array   \n",
    "    \n",
    "#soc keys\n",
    "for key in soc_keys_r:\n",
    "    this_array = copy.deepcopy(soc_keys_r[key])\n",
    "    this_array[this_array ==1] = 0\n",
    "    this_array[this_array == 9] = 1\n",
    "    soc_keys[key] = this_array   "
   ]
  },
  {
   "cell_type": "markdown",
   "metadata": {},
   "source": [
    "## IV. Diagonal Values of Comparison, N-1 + LOP comparison within same group\n",
    "### A. Randomly exclude one column and average and threshold the array with remaining keypresses"
   ]
  },
  {
   "cell_type": "code",
   "execution_count": 304,
   "metadata": {},
   "outputs": [],
   "source": [
    "e_loc = {}\n",
    "e_soc = {}\n",
    "e_none = {}\n",
    "\n",
    "nm_loc = {}\n",
    "nm_soc = {}\n",
    "nm_none = {}\n",
    "\n",
    "\n",
    "list_n_minus = [nm_loc, nm_soc, nm_none]\n",
    "list_excluded = [e_loc, e_soc, e_none]\n",
    "list_keys = [loc_keys, soc_keys, none_keys]\n",
    "for i in range(0, len(list_keys)):\n",
    "    for key in keys[i]:\n",
    "        #get the array of keypresses for each story\n",
    "        these = list_keys[i][key]\n",
    "        rows, cols = these.shape\n",
    "        if cols > 1:\n",
    "            # Generate a random number within the number of columns\n",
    "            excl_col = randrange(cols)\n",
    "            # Extract the column indexed at the random number and store it in e dict\n",
    "            list_excluded[i][key] = these[:, excl_col]\n",
    "            # Remove the extracted column from the array of keypresses and story in nm dict\n",
    "            clean = np.delete(these, excl_col, 1)\n",
    "            # If there is more than 1 column remaining, average them\n",
    "            if cols > 2:\n",
    "                # Avg the columns of the remaining array\n",
    "                avg_clean = np.mean(clean, axis = 1)\n",
    "                # Threshold the averages\n",
    "                avg_clean[avg_clean >= .5] = 1\n",
    "                avg_clean[avg_clean<.5] = 0\n",
    "                # Store the vector\n",
    "                list_n_minus[i][key] = avg_clean\n",
    "            else:\n",
    "                list_n_minus[i][key] = clean"
   ]
  },
  {
   "cell_type": "markdown",
   "metadata": {},
   "source": [
    "### B. Intersection over Union between excluded column and N-1 column for each group"
   ]
  },
  {
   "cell_type": "code",
   "execution_count": 305,
   "metadata": {},
   "outputs": [],
   "source": [
    "#create a dict for jaccard values for each story\n",
    "jvals = {}\n",
    "\n",
    "for key in all_keys:\n",
    "    jvals[key] = np.zeros((3,3))\n",
    "    \n",
    "\n",
    "for key in all_keys:\n",
    "    for i in range(0, len(list_excluded)):\n",
    "        if key in list_excluded[i]:\n",
    "            # Excluded keypresses\n",
    "            excl = list_excluded[i][key]\n",
    "            # N-1 keypresses\n",
    "            nm = list_n_minus[i][key]\n",
    "            # Intersection of these keypresses\n",
    "            intrsc = np.dot(excl, nm)\n",
    "            # Union of these keypresses\n",
    "            summd = excl + nm\n",
    "            union = np.sum(np.minimum(summd, 1))\n",
    "            jvals[key][i,i] = intrsc/union\n",
    "        else:\n",
    "            jvals[key][i,i] = float(\"NAN\")"
   ]
  },
  {
   "cell_type": "markdown",
   "metadata": {},
   "source": [
    "## IV. Off-Diagonal Values of Comparison, N-1 + LOP comparison across groups\n",
    "### A. Compare loc and soc groups\n",
    "#### 1. Concat loc_keys and soc_keys"
   ]
  },
  {
   "cell_type": "code",
   "execution_count": 306,
   "metadata": {},
   "outputs": [],
   "source": [
    "loc_soc_keys = {}\n",
    "\n",
    "\n",
    "for key in all_keys:\n",
    "    if key in loc_keys and key in soc_keys:\n",
    "        loc = loc_keys[key]\n",
    "        soc = soc_keys[key]\n",
    "        v = np.concatenate((loc,soc), axis = 1)\n",
    "        loc_soc_keys[key] = v\n",
    "    else:\n",
    "        jvals[key][0,1] = float(\"NAN\")\n",
    "        jvals[key][1,0] = float(\"NAN\")"
   ]
  },
  {
   "cell_type": "markdown",
   "metadata": {},
   "source": [
    "#### 2. Randomly exclude one column and average and threshold the array with remaining keypresses"
   ]
  },
  {
   "cell_type": "code",
   "execution_count": 307,
   "metadata": {},
   "outputs": [],
   "source": [
    "e_loc_soc = {}\n",
    "\n",
    "nm_loc_soc = {}\n",
    "\n",
    "for key in loc_soc_keys:\n",
    "    #get the array of keypresses for each story\n",
    "    these = loc_soc_keys[key]\n",
    "    rows, cols = these.shape\n",
    "    if cols > 1:\n",
    "        # Generate a random number within the number of columns\n",
    "        excl_col = randrange(cols)\n",
    "        # Extract the column indexed at the random number and store it in e dict\n",
    "        e_loc_soc[key] = these[:, excl_col]\n",
    "        # Remove the extracted column from the array of keypresses and story in nm dict\n",
    "        clean = np.delete(these, excl_col, 1)\n",
    "        # If there is more than 1 column remaining, average them\n",
    "        if cols > 2:\n",
    "            # Avg the columns of the remaining array\n",
    "            avg_clean = np.mean(clean, axis = 1)\n",
    "            # Threshold the averages\n",
    "            avg_clean[avg_clean >= .5] = 1\n",
    "            avg_clean[avg_clean<.5] = 0\n",
    "            # Store the vector\n",
    "            nm_loc_soc[key] = avg_clean\n",
    "        else:\n",
    "            nm_loc_soc[key] = clean"
   ]
  },
  {
   "cell_type": "markdown",
   "metadata": {},
   "source": [
    "#### 3. Intersection over Union between excluded column and N-1 column for each group"
   ]
  },
  {
   "cell_type": "code",
   "execution_count": 308,
   "metadata": {},
   "outputs": [],
   "source": [
    "for key in nm_loc_soc:\n",
    "    # Excluded keypresses\n",
    "    excl = e_loc_soc[key]\n",
    "    # N-1 keypresses\n",
    "    nm = nm_loc_soc[key]\n",
    "    # Intersection of these keypresses\n",
    "    intrsc = np.dot(excl, nm)\n",
    "    # Union of these keypresses\n",
    "    summd = excl + nm\n",
    "    union = np.sum(np.minimum(summd, 1))\n",
    "    jvals[key][0,1] = intrsc/union\n",
    "    jvals[key][1,0] = intrsc/union"
   ]
  },
  {
   "cell_type": "markdown",
   "metadata": {},
   "source": [
    "### B. Compare loc and none groups\n",
    "#### 1. Concat loc_keys and none_keys"
   ]
  },
  {
   "cell_type": "code",
   "execution_count": 309,
   "metadata": {},
   "outputs": [],
   "source": [
    "loc_none_keys = {}\n",
    "\n",
    "for key in all_keys:\n",
    "    if key in loc_keys and key in none_keys:\n",
    "        loc = loc_keys[key]\n",
    "        none = none_keys[key]\n",
    "        v = np.concatenate((loc,none), axis = 1)\n",
    "        loc_none_keys[key] = v\n",
    "    else:\n",
    "        jvals[key][0,2] = float(\"NAN\")\n",
    "        jvals[key][2,0] = float(\"NAN\")"
   ]
  },
  {
   "cell_type": "markdown",
   "metadata": {},
   "source": [
    "#### 2. Randomly exclude one column and average and threshold the array with remaining keypresses"
   ]
  },
  {
   "cell_type": "code",
   "execution_count": 310,
   "metadata": {},
   "outputs": [],
   "source": [
    "e_loc_none = {}\n",
    "\n",
    "nm_loc_none = {}\n",
    "\n",
    "for key in loc_none_keys:\n",
    "    #get the array of keypresses for each story\n",
    "    these = loc_none_keys[key]\n",
    "    rows, cols = these.shape\n",
    "    if cols > 1:\n",
    "        # Generate a random number within the number of columns\n",
    "        excl_col = randrange(cols)\n",
    "        # Extract the column indexed at the random number and store it in e dict\n",
    "        e_loc_none[key] = these[:, excl_col]\n",
    "        # Remove the extracted column from the array of keypresses and story in nm dict\n",
    "        clean = np.delete(these, excl_col, 1)\n",
    "        # If there is more than 1 column remaining, average them\n",
    "        if cols > 2:\n",
    "            # Avg the columns of the remaining array\n",
    "            avg_clean = np.mean(clean, axis = 1)\n",
    "            # Threshold the averages\n",
    "            avg_clean[avg_clean >= .5] = 1\n",
    "            avg_clean[avg_clean<.5] = 0\n",
    "            # Store the vector\n",
    "            nm_loc_none[key] = avg_clean\n",
    "        else:\n",
    "            nm_loc_none[key] = clean"
   ]
  },
  {
   "cell_type": "markdown",
   "metadata": {},
   "source": [
    "#### 3. Intersection over Union between excluded column and N-1 column for each group"
   ]
  },
  {
   "cell_type": "code",
   "execution_count": 311,
   "metadata": {},
   "outputs": [],
   "source": [
    "for key in nm_loc_none:\n",
    "    # Excluded keypresses\n",
    "    excl = e_loc_none[key]\n",
    "    # N-1 keypresses\n",
    "    nm = nm_loc_none[key]\n",
    "    # Intersection of these keypresses\n",
    "    intrsc = np.dot(excl, nm)\n",
    "    # Union of these keypresses\n",
    "    summd = excl + nm\n",
    "    union = np.sum(np.minimum(summd, 1))\n",
    "    jvals[key][0,2] = intrsc/union\n",
    "    jvals[key][2,0] = intrsc/union"
   ]
  },
  {
   "cell_type": "code",
   "execution_count": 312,
   "metadata": {},
   "outputs": [
    {
     "data": {
      "text/plain": [
       "array([[0.01449275, 0.55555556, 0.33333333],\n",
       "       [0.55555556, 0.46666667, 0.        ],\n",
       "       [0.33333333, 0.        , 0.44444444]])"
      ]
     },
     "execution_count": 312,
     "metadata": {},
     "output_type": "execute_result"
    }
   ],
   "source": [
    "jvals[14]"
   ]
  },
  {
   "cell_type": "markdown",
   "metadata": {},
   "source": [
    "### C. Compare none and soc groups\n",
    "#### 1. Concat loc_keys and soc_keys"
   ]
  },
  {
   "cell_type": "code",
   "execution_count": 313,
   "metadata": {},
   "outputs": [],
   "source": [
    "none_soc_keys = {}\n",
    "\n",
    "\n",
    "for key in all_keys:\n",
    "    if key in none_keys and key in soc_keys:\n",
    "        none = none_keys[key]\n",
    "        soc = soc_keys[key]\n",
    "        v = np.concatenate((none,soc), axis = 1)\n",
    "        none_soc_keys[key] = v\n",
    "    else:\n",
    "        jvals[key][1,2] = float(\"NAN\")\n",
    "        jvals[key][2,1] = float(\"NAN\")"
   ]
  },
  {
   "cell_type": "markdown",
   "metadata": {},
   "source": [
    "#### 2. Randomly exclude one column and average and threshold the array with remaining keypresses"
   ]
  },
  {
   "cell_type": "code",
   "execution_count": 314,
   "metadata": {},
   "outputs": [],
   "source": [
    "e_none_soc = {}\n",
    "\n",
    "nm_none_soc = {}\n",
    "\n",
    "for key in none_soc_keys:\n",
    "    #get the array of keypresses for each story\n",
    "    these = none_soc_keys[key]\n",
    "    rows, cols = these.shape\n",
    "    if cols > 1:\n",
    "        # Generate a random number within the number of columns\n",
    "        excl_col = randrange(cols)\n",
    "        # Extract the column indexed at the random number and store it in e dict\n",
    "        e_none_soc[key] = these[:, excl_col]\n",
    "        # Remove the extracted column from the array of keypresses and story in nm dict\n",
    "        clean = np.delete(these, excl_col, 1)\n",
    "        # If there is more than 1 column remaining, average them\n",
    "        if cols > 2:\n",
    "            # Avg the columns of the remaining array\n",
    "            avg_clean = np.mean(clean, axis = 1)\n",
    "            # Threshold the averages\n",
    "            avg_clean[avg_clean >= .5] = 1\n",
    "            avg_clean[avg_clean<.5] = 0\n",
    "            # Store the vector\n",
    "            nm_none_soc[key] = avg_clean\n",
    "        else:\n",
    "            nm_none_soc[key] = clean"
   ]
  },
  {
   "cell_type": "markdown",
   "metadata": {},
   "source": [
    "#### 3. Intersection over Union between excluded column and N-1 column for each group"
   ]
  },
  {
   "cell_type": "code",
   "execution_count": 315,
   "metadata": {},
   "outputs": [],
   "source": [
    "for key in nm_none_soc:\n",
    "    # Excluded keypresses\n",
    "    excl = e_none_soc[key]\n",
    "    # N-1 keypresses\n",
    "    nm = nm_none_soc[key]\n",
    "    # Intersection of these keypresses\n",
    "    intrsc = np.dot(excl, nm)\n",
    "    # Union of these keypresses\n",
    "    summd = excl + nm\n",
    "    union = np.sum(np.minimum(summd, 1))\n",
    "    jvals[key][1,2] = intrsc/union\n",
    "    jvals[key][2,1] = intrsc/union"
   ]
  },
  {
   "cell_type": "code",
   "execution_count": 316,
   "metadata": {},
   "outputs": [
    {
     "data": {
      "text/plain": [
       "{11: array([[0.46666667, 0.52941176, 0.2       ],\n",
       "        [0.52941176,        nan, 0.2       ],\n",
       "        [0.2       , 0.2       , 0.66666667]]),\n",
       " 33: array([[0.45454545, 0.46153846, 0.5       ],\n",
       "        [0.46153846, 0.5       , 0.46153846],\n",
       "        [0.5       , 0.46153846, 0.29411765]]),\n",
       " 44: array([[0.00568182, 0.4       , 0.18181818],\n",
       "        [0.4       , 0.01038961, 0.27272727],\n",
       "        [0.18181818, 0.27272727, 0.5       ]]),\n",
       " 23: array([[0.27272727, 0.17647059, 0.07142857],\n",
       "        [0.17647059, 0.08333333, 0.2       ],\n",
       "        [0.07142857, 0.2       , 0.25      ]]),\n",
       " 12: array([[       nan, 0.35714286, 0.04761905],\n",
       "        [0.35714286, 0.23076923, 0.35714286],\n",
       "        [0.04761905, 0.35714286, 0.46153846]]),\n",
       " 21: array([[0.72727273, 0.5       , 0.72727273],\n",
       "        [0.5       , 0.4       , 0.27272727],\n",
       "        [0.72727273, 0.27272727,        nan]]),\n",
       " 13: array([[       nan,        nan,        nan],\n",
       "        [       nan,        nan, 0.36363636],\n",
       "        [       nan, 0.36363636, 0.13636364]]),\n",
       " 42: array([[0.3       , 0.3       , 0.5       ],\n",
       "        [0.3       ,        nan, 0.36363636],\n",
       "        [0.5       , 0.36363636, 0.01125   ]]),\n",
       " 43: array([[0.17647059, 0.2       , 0.4       ],\n",
       "        [0.2       , 0.01212121, 0.75      ],\n",
       "        [0.4       , 0.75      , 0.5       ]]),\n",
       " 32: array([[0.35      , 0.33333333, 0.125     ],\n",
       "        [0.33333333,        nan, 0.4       ],\n",
       "        [0.125     , 0.4       , 0.25      ]]),\n",
       " 24: array([[0.16666667, 0.125     , 0.05555556],\n",
       "        [0.125     , 0.23529412, 0.08333333],\n",
       "        [0.05555556, 0.08333333, 0.1875    ]]),\n",
       " 34: array([[0.88888889, 0.88888889, 0.66666667],\n",
       "        [0.88888889, 0.00775194, 0.21428571],\n",
       "        [0.66666667, 0.21428571,        nan]]),\n",
       " 22: array([[0.00479616, 0.33333333, 0.1       ],\n",
       "        [0.33333333, 0.14285714, 0.14285714],\n",
       "        [0.1       , 0.14285714, 0.125     ]]),\n",
       " 41: array([[0.00801603,        nan, 0.3       ],\n",
       "        [       nan,        nan,        nan],\n",
       "        [0.3       ,        nan, 0.00157978]]),\n",
       " 31: array([[0.01296296, 0.41666667, 0.32      ],\n",
       "        [0.41666667, 0.26923077, 0.53846154],\n",
       "        [0.32      , 0.53846154, 0.41666667]]),\n",
       " 14: array([[0.01449275, 0.55555556, 0.33333333],\n",
       "        [0.55555556, 0.46666667, 0.35714286],\n",
       "        [0.33333333, 0.35714286, 0.44444444]])}"
      ]
     },
     "execution_count": 316,
     "metadata": {},
     "output_type": "execute_result"
    }
   ],
   "source": [
    "jvals"
   ]
  },
  {
   "cell_type": "markdown",
   "metadata": {},
   "source": [
    "# V. The Average of N iterations of Jaccard Analysis"
   ]
  },
  {
   "cell_type": "markdown",
   "metadata": {},
   "source": [
    "#### i. Determine N iterations"
   ]
  },
  {
   "cell_type": "code",
   "execution_count": 344,
   "metadata": {},
   "outputs": [],
   "source": [
    "N = 1000"
   ]
  },
  {
   "cell_type": "markdown",
   "metadata": {},
   "source": [
    "#### ii. Create Jaccard Matrix"
   ]
  },
  {
   "cell_type": "code",
   "execution_count": 345,
   "metadata": {},
   "outputs": [],
   "source": [
    "#create a dict for jaccard values for each story\n",
    "jvals_i = {}\n",
    "\n",
    "for key in all_keys:\n",
    "    jvals_i[key] = np.zeros((3,3))\n",
    "    "
   ]
  },
  {
   "cell_type": "markdown",
   "metadata": {},
   "source": [
    "## A. Diagonals\n",
    "### 1. Iterate through the jaccard index operations"
   ]
  },
  {
   "cell_type": "code",
   "execution_count": 346,
   "metadata": {},
   "outputs": [],
   "source": [
    "j_loc= {}\n",
    "j_soc = {}\n",
    "j_none = {}\n",
    "\n",
    "for key in all_keys:\n",
    "    j_loc[key] = np.zeros((N))\n",
    "    j_soc[key] = np.zeros((N))\n",
    "    j_none[key] = np.zeros((N))\n",
    "    \n",
    "    \n",
    "\n",
    "for q in range(0, N):\n",
    "    e_loc = {}\n",
    "    e_soc = {}\n",
    "    e_none = {}\n",
    "\n",
    "    nm_loc = {}\n",
    "    nm_soc = {}\n",
    "    nm_none = {}\n",
    "\n",
    "    list_j = [j_loc, j_soc, j_none]\n",
    "    list_n_minus = [nm_loc, nm_soc, nm_none]\n",
    "    list_excluded = [e_loc, e_soc, e_none]\n",
    "    list_keys = [loc_keys, soc_keys, none_keys]\n",
    "    for i in range(0, len(list_keys)):\n",
    "        for key in keys[i]:\n",
    "            #get the array of keypresses for each story\n",
    "            these = list_keys[i][key]\n",
    "            rows, cols = these.shape\n",
    "            if cols > 1:\n",
    "                # Generate a random number within the number of columns\n",
    "                excl_col = randrange(cols)\n",
    "                # Extract the column indexed at the random number and store it in e dict\n",
    "                list_excluded[i][key] = these[:, excl_col]\n",
    "                # Remove the extracted column from the array of keypresses and story in nm dict\n",
    "                clean = np.delete(these, excl_col, 1)\n",
    "                # If there is more than 1 column remaining, average them\n",
    "                if cols > 2:\n",
    "                    # Avg the columns of the remaining array\n",
    "                    avg_clean = np.mean(clean, axis = 1)\n",
    "                    # Threshold the averages\n",
    "                    avg_clean[avg_clean >= .5] = 1\n",
    "                    avg_clean[avg_clean<.5] = 0\n",
    "                    # Store the vector\n",
    "                    list_n_minus[i][key] = avg_clean\n",
    "                else:\n",
    "                    list_n_minus[i][key] = clean\n",
    "\n",
    "    for key in all_keys:\n",
    "        for i in range(0, len(list_excluded)):\n",
    "            if key in list_excluded[i]:\n",
    "                # Excluded keypresses\n",
    "                excl = list_excluded[i][key]\n",
    "                # N-1 keypresses\n",
    "                nm = list_n_minus[i][key]\n",
    "                # Intersection of these keypresses\n",
    "                intrsc = np.dot(excl, nm)\n",
    "                # Union of these keypresses\n",
    "                summd = excl + nm\n",
    "                union = np.sum(np.minimum(summd, 1))\n",
    "                list_j[i][key][q] = intrsc/union\n",
    "            else:\n",
    "                list_j[i][key][q] = float(\"NAN\")"
   ]
  },
  {
   "cell_type": "markdown",
   "metadata": {},
   "source": [
    "### 3. Average the jaccard indecices and put into jvals_i"
   ]
  },
  {
   "cell_type": "code",
   "execution_count": 347,
   "metadata": {},
   "outputs": [],
   "source": [
    "for i in range(0, len(list_j)):\n",
    "    for key in list_j[i]:\n",
    "        mean_j = np.mean(list_j[i][key])\n",
    "        jvals_i[key][i,i] = mean_j"
   ]
  },
  {
   "cell_type": "markdown",
   "metadata": {},
   "source": [
    "## B. Off-Diagonals\n",
    "### 1. Concatenating matrices"
   ]
  },
  {
   "cell_type": "code",
   "execution_count": 348,
   "metadata": {},
   "outputs": [],
   "source": [
    "#comparing loc and soc\n",
    "loc_soc_keys = {}\n",
    "\n",
    "for key in all_keys:\n",
    "    if key in loc_keys and key in soc_keys:\n",
    "        loc = loc_keys[key]\n",
    "        soc = soc_keys[key]\n",
    "        v = np.concatenate((loc,soc), axis = 1)\n",
    "        loc_soc_keys[key] = v\n",
    "    else:\n",
    "        jvals_i[key][0,1] = float(\"NAN\")\n",
    "        jvals_i[key][1,0] = float(\"NAN\")\n",
    "        \n",
    "#comparing loc and none\n",
    "loc_none_keys = {}\n",
    "\n",
    "for key in all_keys:\n",
    "    if key in loc_keys and key in none_keys:\n",
    "        loc = loc_keys[key]\n",
    "        none = none_keys[key]\n",
    "        v = np.concatenate((loc,none), axis = 1)\n",
    "        loc_none_keys[key] = v\n",
    "    else:\n",
    "        jvals_i[key][0,2] = float(\"NAN\")\n",
    "        jvals_i[key][2,0] = float(\"NAN\")\n",
    "        \n",
    "# Comparing none and soc\n",
    "none_soc_keys = {}\n",
    "\n",
    "for key in all_keys:\n",
    "    if key in none_keys and key in soc_keys:\n",
    "        none = none_keys[key]\n",
    "        soc = soc_keys[key]\n",
    "        v = np.concatenate((none,soc), axis = 1)\n",
    "        none_soc_keys[key] = v\n",
    "    else:\n",
    "        jvals_i[key][1,2] = float(\"NAN\")\n",
    "        jvals_i[key][2,1] = float(\"NAN\")"
   ]
  },
  {
   "cell_type": "markdown",
   "metadata": {},
   "source": [
    "### 2. Iterate through the Jaccard Index Operations "
   ]
  },
  {
   "cell_type": "code",
   "execution_count": 349,
   "metadata": {},
   "outputs": [],
   "source": [
    "j_loc_soc= {}\n",
    "j_loc_none = {}\n",
    "j_none_soc = {}\n",
    "\n",
    "for key in all_keys:\n",
    "    j_loc_soc[key] = np.zeros((N))\n",
    "    j_loc_none[key] = np.zeros((N))\n",
    "    j_none_soc[key] = np.zeros((N))\n",
    "    \n",
    "    \n",
    "\n",
    "for q in range(0, N):\n",
    "    # Comparing loc and soc\n",
    "\n",
    "    e_loc_soc = {}\n",
    "\n",
    "    nm_loc_soc = {}\n",
    "\n",
    "    for key in loc_soc_keys:\n",
    "        #get the array of keypresses for each story\n",
    "        these = loc_soc_keys[key]\n",
    "        rows, cols = these.shape\n",
    "        if cols > 1:\n",
    "            # Generate a random number within the number of columns\n",
    "            excl_col = randrange(cols)\n",
    "            # Extract the column indexed at the random number and store it in e dict\n",
    "            e_loc_soc[key] = these[:, excl_col]\n",
    "            # Remove the extracted column from the array of keypresses and story in nm dict\n",
    "            clean = np.delete(these, excl_col, 1)\n",
    "            # If there is more than 1 column remaining, average them\n",
    "            if cols > 2:\n",
    "                # Avg the columns of the remaining array\n",
    "                avg_clean = np.mean(clean, axis = 1)\n",
    "                # Threshold the averages\n",
    "                avg_clean[avg_clean >= .5] = 1\n",
    "                avg_clean[avg_clean<.5] = 0\n",
    "                # Store the vector\n",
    "                nm_loc_soc[key] = avg_clean\n",
    "            else:\n",
    "                nm_loc_soc[key] = clean\n",
    "\n",
    "    for key in nm_loc_soc:\n",
    "        # Excluded keypresses\n",
    "        excl = e_loc_soc[key]\n",
    "        # N-1 keypresses\n",
    "        nm = nm_loc_soc[key]\n",
    "        # Intersection of these keypresses\n",
    "        intrsc = np.dot(excl, nm)\n",
    "        # Union of these keypresses\n",
    "        summd = excl + nm\n",
    "        union = np.sum(np.minimum(summd, 1))\n",
    "        j_loc_soc[key][q] = intrsc/union\n",
    "\n",
    "\n",
    "    # Comparing loc and none\n",
    "\n",
    "    e_loc_none = {}\n",
    "\n",
    "    nm_loc_none = {}\n",
    "\n",
    "    for key in loc_none_keys:\n",
    "        #get the array of keypresses for each story\n",
    "        these = loc_none_keys[key]\n",
    "        rows, cols = these.shape\n",
    "        if cols > 1:\n",
    "            # Generate a random number within the number of columns\n",
    "            excl_col = randrange(cols)\n",
    "            # Extract the column indexed at the random number and store it in e dict\n",
    "            e_loc_none[key] = these[:, excl_col]\n",
    "            # Remove the extracted column from the array of keypresses and story in nm dict\n",
    "            clean = np.delete(these, excl_col, 1)\n",
    "            # If there is more than 1 column remaining, average them\n",
    "            if cols > 2:\n",
    "                # Avg the columns of the remaining array\n",
    "                avg_clean = np.mean(clean, axis = 1)\n",
    "                # Threshold the averages\n",
    "                avg_clean[avg_clean >= .5] = 1\n",
    "                avg_clean[avg_clean<.5] = 0\n",
    "                # Store the vector\n",
    "                nm_loc_none[key] = avg_clean\n",
    "            else:\n",
    "                nm_loc_none[key] = clean\n",
    "\n",
    "    for key in nm_loc_none:\n",
    "        # Excluded keypresses\n",
    "        excl = e_loc_none[key]\n",
    "        # N-1 keypresses\n",
    "        nm = nm_loc_none[key]\n",
    "        # Intersection of these keypresses\n",
    "        intrsc = np.dot(excl, nm)\n",
    "        # Union of these keypresses\n",
    "        summd = excl + nm\n",
    "        union = np.sum(np.minimum(summd, 1))\n",
    "        j_loc_none[key][q] = intrsc/union\n",
    "        \n",
    "    # Comparing none and soc\n",
    "    e_none_soc = {}\n",
    "\n",
    "    nm_none_soc = {}\n",
    "\n",
    "    for key in none_soc_keys:\n",
    "        #get the array of keypresses for each story\n",
    "        these = none_soc_keys[key]\n",
    "        rows, cols = these.shape\n",
    "        if cols > 1:\n",
    "            # Generate a random number within the number of columns\n",
    "            excl_col = randrange(cols)\n",
    "            # Extract the column indexed at the random number and store it in e dict\n",
    "            e_none_soc[key] = these[:, excl_col]\n",
    "            # Remove the extracted column from the array of keypresses and story in nm dict\n",
    "            clean = np.delete(these, excl_col, 1)\n",
    "            # If there is more than 1 column remaining, average them\n",
    "            if cols > 2:\n",
    "                # Avg the columns of the remaining array\n",
    "                avg_clean = np.mean(clean, axis = 1)\n",
    "                # Threshold the averages\n",
    "                avg_clean[avg_clean >= .5] = 1\n",
    "                avg_clean[avg_clean<.5] = 0\n",
    "                # Store the vector\n",
    "                nm_none_soc[key] = avg_clean\n",
    "            else:\n",
    "                nm_none_soc[key] = clean\n",
    "\n",
    "    for key in nm_none_soc:\n",
    "        # Excluded keypresses\n",
    "        excl = e_none_soc[key]\n",
    "        # N-1 keypresses\n",
    "        nm = nm_none_soc[key]\n",
    "        # Intersection of these keypresses\n",
    "        intrsc = np.dot(excl, nm)\n",
    "        # Union of these keypresses\n",
    "        summd = excl + nm\n",
    "        union = np.sum(np.minimum(summd, 1))\n",
    "        j_none_soc[key][q] = intrsc/union"
   ]
  },
  {
   "cell_type": "markdown",
   "metadata": {},
   "source": [
    "### 3. Avg values and insert in jvals"
   ]
  },
  {
   "cell_type": "code",
   "execution_count": 350,
   "metadata": {},
   "outputs": [],
   "source": [
    "list_jmix = [j_loc_soc, j_loc_none, j_none_soc]\n",
    "mean_dict = {}\n",
    "\n",
    "for key in all_keys:\n",
    "    mean_dict[key] = np.zeros((3))\n",
    "\n",
    "for i in range(0, 3):\n",
    "    for key in list_jmix[i]:\n",
    "        meanj = np.mean(list_jmix[i][key])\n",
    "        mean_dict[key][i] = meanj\n",
    "\n",
    "for key in mean_dict:\n",
    "    # Convert '0's to nans\n",
    "    mean_dict[key][mean_dict[key] == 0] = float('Nan')\n",
    "    #insert avg loc_soc val\n",
    "    jvals_i[key][1,0] = mean_dict[key][0]\n",
    "    jvals_i[key][0,1] = mean_dict[key][0]\n",
    "    # Insert avg loc_none val\n",
    "    jvals_i[key][2,0] = mean_dict[key][1]\n",
    "    jvals_i[key][0,2] = mean_dict[key][1]\n",
    "    # Insert avg none_soc val\n",
    "    jvals_i[key][2,1] = mean_dict[key][2]\n",
    "    jvals_i[key][1,2] = mean_dict[key][2]"
   ]
  },
  {
   "cell_type": "markdown",
   "metadata": {},
   "source": [
    "## C. Plotting jvals_i"
   ]
  },
  {
   "cell_type": "code",
   "execution_count": 369,
   "metadata": {},
   "outputs": [
    {
     "data": {
      "image/png": "[encoded data removed]",
      "text/plain": [
       "<Figure size 1440x1440 with 32 Axes>"
      ]
     },
     "metadata": {
      "needs_background": "light"
     },
     "output_type": "display_data"
    }
   ],
   "source": [
    "figure, axes = plt.subplots(nrows=4, ncols=4, figsize=(20, 20))\n",
    "\n",
    "i = 0\n",
    "j = 0\n",
    "for key in jvals_i:\n",
    "    # Make the plot\n",
    "    im = axes[j, i].imshow(jvals_i[key])\n",
    "    \n",
    "    #colorbar\n",
    "    im.set_clim()\n",
    "    figure.colorbar(im, ax=axes[j, i])\n",
    "    \n",
    "    #set title\n",
    "    loc_n = sums[key][1]\n",
    "    soc_n = sums[key][2]\n",
    "    none_n = sums[key][3]\n",
    "    axes[j, i].set_title(str(key) + ': no prime = ' + str(none_n) + '; loc = ' + str(loc_n) + '; soc = ' + str(soc_n))\n",
    "    \n",
    "    #changing i, j for next graph placement\n",
    "    if i == 3:\n",
    "        i = 0\n",
    "        j += 1\n",
    "    else:\n",
    "        i += 1\n",
    "    figure.tight_layout()"
   ]
  },
  {
   "cell_type": "code",
   "execution_count": null,
   "metadata": {},
   "outputs": [],
   "source": []
  }
 ],
 "metadata": {
  "kernelspec": {
   "display_name": "Python 3",
   "language": "python",
   "name": "python3"
  },
  "language_info": {
   "codemirror_mode": {
    "name": "ipython",
    "version": 3
   },
   "file_extension": ".py",
   "mimetype": "text/x-python",
   "name": "python",
   "nbconvert_exporter": "python",
   "pygments_lexer": "ipython3",
   "version": "3.6.8"
  }
 },
 "nbformat": 4,
 "nbformat_minor": 2
}
