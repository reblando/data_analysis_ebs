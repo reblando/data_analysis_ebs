{
 "cells": [
  {
   "cell_type": "markdown",
   "metadata": {},
   "source": [
    "# Comparisons to Putative Event Boundaries- Jaccard Analysis of Segmentation Data\n",
    "### 9/30/20\n",
    "### Permuting already calculated jaccard indices instead of recalculating them inside each permutation"
   ]
  },
  {
   "cell_type": "code",
   "execution_count": 1,
   "metadata": {},
   "outputs": [
    {
     "data": {
      "application/javascript": [
       "IPython.notebook.set_autosave_interval(5000)"
      ]
     },
     "metadata": {},
     "output_type": "display_data"
    },
    {
     "name": "stdout",
     "output_type": "stream",
     "text": [
      "Autosaving every 5 seconds\n"
     ]
    }
   ],
   "source": [
    "import pandas as pd\n",
    "import numpy as np\n",
    "import plotly.graph_objs as go\n",
    "import plotly.plotly as py\n",
    "import plotly\n",
    "import os\n",
    "import glob\n",
    "import math\n",
    "import statistics\n",
    "import matplotlib.pyplot as plt\n",
    "import seaborn as sns\n",
    "import pickle\n",
    "import copy\n",
    "from random import randrange\n",
    "import random\n",
    "from sklearn.metrics import jaccard_score\n",
    "%autosave 5"
   ]
  },
  {
   "cell_type": "markdown",
   "metadata": {},
   "source": [
    "### i. Import data"
   ]
  },
  {
   "cell_type": "code",
   "execution_count": 2,
   "metadata": {},
   "outputs": [],
   "source": [
    "filename = '/Users/alexreblando/Documents/GitHub/data_analysis_ebs/online_experiment/analysis/parsing_log_file/pickle/data_dict_pilots_b1_b2_b3_b4_b5.p'\n",
    "data_dict = pickle.load( open( filename, \"rb\" ) )"
   ]
  },
  {
   "cell_type": "markdown",
   "metadata": {},
   "source": [
    "### ii. import story files"
   ]
  },
  {
   "cell_type": "code",
   "execution_count": 3,
   "metadata": {},
   "outputs": [],
   "source": [
    "directory_stories = '/Users/alexreblando/Documents/GitHub/ebs/fMRI experiment/1:8:2020_edited_stories'\n",
    "\n",
    "filenames_stories = glob.glob(directory_stories + '/*.xlsx')\n",
    "\n",
    "dfs_stories = []\n",
    "    \n",
    "for filename in filenames_stories:\n",
    "    dfs_stories.append(pd.read_excel(filename))"
   ]
  },
  {
   "cell_type": "markdown",
   "metadata": {},
   "source": [
    "### iii. Exclusions\n",
    "#### a. exclude participants who only pressed '1' or '9' (not including first row 10/14)"
   ]
  },
  {
   "cell_type": "code",
   "execution_count": 4,
   "metadata": {},
   "outputs": [
    {
     "name": "stdout",
     "output_type": "stream",
     "text": [
      "/Users/alexreblando/Documents/GitHub/data_analysis_ebs/online_experiment/data/pilot2/8/PARTICIPANT_1_online_exp_2020-05-11_12h52.50.131\n",
      "5cf0a300b094d700183e4d54\n",
      "/Users/alexreblando/Documents/GitHub/data_analysis_ebs/online_experiment/data/pilot3/4/PARTICIPANT_1_online_exp_2020-05-20_17h03.06.828\n",
      "5d82994758861000188f76dc\n",
      "/Users/alexreblando/Documents/GitHub/data_analysis_ebs/online_experiment/data/finalver_p/10/23_1_online_exp_2020-06-09_13h39.42.955\n",
      "5bd9fed6780d50000109c503\n",
      "/Users/alexreblando/Documents/GitHub/data_analysis_ebs/online_experiment/data/finalver_b1/33/145_1_online_exp_2020-06-10_15h14.14.911\n",
      "5ec18c4c2f44695b38204649\n",
      "/Users/alexreblando/Documents/GitHub/data_analysis_ebs/online_experiment/data/finalver_b1/33/171_1_online_exp_2020-06-10_21h32.27.534\n",
      "5de12fbfe4f42a1842172d7a\n",
      "/Users/alexreblando/Documents/GitHub/data_analysis_ebs/online_experiment/data/finalver_b1/33/33_1_online_exp_2020-06-10_21h03.35.215\n",
      "5ecfb797dc64e1028cc510ba\n",
      "/Users/alexreblando/Documents/GitHub/data_analysis_ebs/online_experiment/data/finalver_b2/30/201_1_online_exp_2020-06-24_15h33.47.631\n",
      "5c730ca1f674750001df8d09\n",
      "/Users/alexreblando/Documents/GitHub/data_analysis_ebs/online_experiment/data/finalver_b3/45/390_1_online_exp_2020-07-16_09h07.46.666\n",
      "5b9d57e5737d030001ad2cbf\n",
      "/Users/alexreblando/Documents/GitHub/data_analysis_ebs/online_experiment/data/finalver_b3/45/418_1_online_exp_2020-07-16_09h12.22.806\n",
      "5eb5dafddac6754c4ee9d0d7\n",
      "/Users/alexreblando/Documents/GitHub/data_analysis_ebs/online_experiment/data/finalver_b3/45/453_1_online_exp_2020-07-16_09h38.17.431\n",
      "5ec607a0e89daa67ea37f84f\n",
      "/Users/alexreblando/Documents/GitHub/data_analysis_ebs/online_experiment/data/finalver_b5/78/133_1_online_exp_2020-09-28_12h53.08.731\n",
      "5f62a0c4be0ef41e24f62c00\n",
      "/Users/alexreblando/Documents/GitHub/data_analysis_ebs/online_experiment/data/finalver_b5/78/149_1_online_exp_2020-09-28_15h51.38.989\n",
      "5f595b834d83151a9c68eece\n",
      "/Users/alexreblando/Documents/GitHub/data_analysis_ebs/online_experiment/data/finalver_b5/78/365_1_online_exp_2020-09-29_11h56.33.278\n",
      "5e8b149e1f49d702dadae9ab\n",
      "/Users/alexreblando/Documents/GitHub/data_analysis_ebs/online_experiment/data/finalver_b5/78/368_1_online_exp_2020-09-29_14h57.34.267\n",
      "5f3aead81965e27c4a531d95\n",
      "/Users/alexreblando/Documents/GitHub/data_analysis_ebs/online_experiment/data/finalver_b5/78/373_1_online_exp_2020-09-29_12h00.12.404\n",
      "5c2b4b959f18a9000179a141\n",
      "/Users/alexreblando/Documents/GitHub/data_analysis_ebs/online_experiment/data/finalver_b5/78/381_1_online_exp_2020-09-29_12h22.28.997\n",
      "5f56056a645a6e9dba848fa2\n",
      "/Users/alexreblando/Documents/GitHub/data_analysis_ebs/online_experiment/data/finalver_b5/78/391_1_online_exp_2020-09-29_15h39.59.952\n",
      "5f4f6ab3ad423e01680514cf\n",
      "/Users/alexreblando/Documents/GitHub/data_analysis_ebs/online_experiment/data/finalver_b5/78/394_1_online_exp_2020-09-29_12h55.24.161\n",
      "5f58c77c4c2d8e0556d59fc1\n",
      "/Users/alexreblando/Documents/GitHub/data_analysis_ebs/online_experiment/data/finalver_b5/78/44_1_online_exp_2020-09-28_15h34.20.335\n",
      "5869dec37fbbcd00013974e2\n",
      "/Users/alexreblando/Documents/GitHub/data_analysis_ebs/online_experiment/data/finalver_b5/78/55_1_online_exp_2020-09-28_15h31.54.406\n",
      "5a93bb216475f900019fa294\n"
     ]
    }
   ],
   "source": [
    "keys_to_del = []\n",
    "for key in data_dict:\n",
    "    kp = data_dict[key]['story_presses']\n",
    "    kp_i = kp.iloc[1:]\n",
    "    check_kp_i = len(set(kp_i))\n",
    "    if check_kp_i == 1:\n",
    "        print(key)\n",
    "        print(data_dict[key]['prolific_id'].iloc[0])\n",
    "        keys_to_del.append(key)\n",
    "        \n",
    "for i in range(0, len(keys_to_del)):\n",
    "    del data_dict[keys_to_del[i]]"
   ]
  },
  {
   "cell_type": "markdown",
   "metadata": {},
   "source": [
    "#### b. Exclude participants who don't answer short answers"
   ]
  },
  {
   "cell_type": "code",
   "execution_count": 5,
   "metadata": {},
   "outputs": [],
   "source": [
    "del data_dict['/Users/alexreblando/Documents/GitHub/data_analysis_ebs/online_experiment/data/finalver_b1/33/73_1_online_exp_2020-06-10_14h37.05.252']\n",
    "del data_dict['/Users/alexreblando/Documents/GitHub/data_analysis_ebs/online_experiment/data/finalver_b2/30/199_1_online_exp_2020-06-24_20h41.05.680']\n",
    "del data_dict['/Users/alexreblando/Documents/GitHub/data_analysis_ebs/online_experiment/data/finalver_b3/45/345_1_online_exp_2020-07-16_09h07.09.087']"
   ]
  },
  {
   "cell_type": "markdown",
   "metadata": {},
   "source": [
    "#### d. Pickle data_dict in order to get group counts"
   ]
  },
  {
   "cell_type": "code",
   "execution_count": 6,
   "metadata": {},
   "outputs": [],
   "source": [
    "pickle.dump( data_dict, open( 'check', \"wb\" ) )"
   ]
  },
  {
   "cell_type": "markdown",
   "metadata": {},
   "source": [
    "# I. Organizing Putative Event Boundaries"
   ]
  },
  {
   "cell_type": "code",
   "execution_count": 7,
   "metadata": {},
   "outputs": [],
   "source": [
    "#mark the boundaries with a '1'\n",
    "#output: story_boundaries, where the first column has the location boundaries and the second column has the social\n",
    "#boundaries\n",
    "\n",
    "story_boundaries = dict()\n",
    "\n",
    "#read in the location and social event values from the story files \n",
    "for s in range(16):\n",
    "    this_story = int(dfs_stories[s]['story'].iloc[0])\n",
    "    keys2 = dfs_stories[s]['locationEvent'].values\n",
    "    keys3 = dfs_stories[s]['socialEvent'].values\n",
    "    story_boundaries[this_story] = keys2[:, np.newaxis]\n",
    "    story_boundaries[this_story] = np.concatenate((story_boundaries[this_story], keys3[:, np.newaxis]), axis = 1)\n",
    "    \n",
    "#mark the changes or boundaries from one event to another with a '1' and delete first two columns\n",
    "for key in story_boundaries:\n",
    "    location = story_boundaries[key][:,0]\n",
    "    social = story_boundaries[key][:,1]\n",
    "    for i in range(0, len(location)):  \n",
    "        if location[i] > location[i-1]:\n",
    "            location[i] = 7\n",
    "    for i in range(0, len(location)):  \n",
    "        if location[i] != 7:\n",
    "            location[i] = 0\n",
    "    for i in range(0, len(social)):\n",
    "        if social[i] > social[i - 1]:\n",
    "            social[i] = 7\n",
    "    for i in range(0, len(social)):\n",
    "        if social[i] != 7:\n",
    "            social[i] = 0\n",
    "    location[0] = 7\n",
    "    social[0] = 7\n",
    "    location2 = location > 1\n",
    "    social2 = social > 1\n",
    "    location2 = location2.astype(int)\n",
    "    social2 = social2.astype(int)\n",
    "    story_boundaries[key] = np.concatenate((story_boundaries[key], location2[:, np.newaxis]), axis = 1) \n",
    "    story_boundaries[key] = np.concatenate((story_boundaries[key], social2[:, np.newaxis]), axis = 1)\n",
    "    story_boundaries[key] = np.delete(story_boundaries[key] ,np.s_[0:2],axis=1)"
   ]
  },
  {
   "cell_type": "markdown",
   "metadata": {},
   "source": [
    "# II. Separating the Priming Groups For Each Story\n",
    "## A. group stories by subject and priming type\n",
    "#### - output: loc_keys_r"
   ]
  },
  {
   "cell_type": "code",
   "execution_count": 8,
   "metadata": {},
   "outputs": [],
   "source": [
    "loc_keys_r = dict()\n",
    "soc_keys_r = dict()\n",
    "none_keys_r = dict()\n",
    "all_keys_r = dict()\n",
    "\n",
    "for key in data_dict:\n",
    "    this_story = data_dict[key]['story'].iloc[0]\n",
    "    keys = data_dict[key]['story_presses']\n",
    "    p_type = data_dict[key]['p_type'].iloc[0]\n",
    "    #print out the filenames and prolific ids of people who did not press \"9\" once\n",
    "    occurrences = np.count_nonzero(keys == 9)\n",
    "    if occurrences == 0:\n",
    "        print(key)\n",
    "        print(data_dict[key]['prolific_id'].iloc[0])\n",
    "    #put all story keys in the same dictionary regardless of priming\n",
    "    if this_story in all_keys_r:\n",
    "        all_keys_r[this_story] = np.concatenate((all_keys_r[this_story],keys[:,np.newaxis]), axis=1)\n",
    "    else:\n",
    "        all_keys_r[this_story] = keys[:, np.newaxis]\n",
    "    #organize keys by priming type\n",
    "    #no prime\n",
    "    if p_type == 0:\n",
    "        if this_story in none_keys_r:\n",
    "            none_keys_r[this_story] = np.concatenate((none_keys_r[this_story],keys[:,np.newaxis]), axis=1)\n",
    "        else:\n",
    "            none_keys_r[this_story] = keys[:, np.newaxis]\n",
    "    #loc prime\n",
    "    elif p_type == 1:\n",
    "        if this_story in loc_keys_r:\n",
    "            loc_keys_r[this_story] = np.concatenate((loc_keys_r[this_story],keys[:,np.newaxis]), axis=1)\n",
    "        else:\n",
    "            loc_keys_r[this_story] = keys[:, np.newaxis]\n",
    "    #soc prime\n",
    "    elif p_type == 2:\n",
    "        if this_story in soc_keys_r:\n",
    "            soc_keys_r[this_story] = np.concatenate((soc_keys_r[this_story],keys[:,np.newaxis]), axis=1)\n",
    "        else:\n",
    "            soc_keys_r[this_story] = keys[:, np.newaxis]"
   ]
  },
  {
   "cell_type": "markdown",
   "metadata": {},
   "source": [
    "### i. Finding the number of participants in each category for each story\n",
    "#### -output sums[story] = [total # of participants, no prime, loc primed, soc primed]"
   ]
  },
  {
   "cell_type": "code",
   "execution_count": 9,
   "metadata": {},
   "outputs": [],
   "source": [
    "sums = {}\n",
    "\n",
    "for key in all_keys_r:\n",
    "    this_sum = []\n",
    "    x, y = all_keys_r[key].shape\n",
    "    this_sum.append(y)\n",
    "    if key in none_keys_r:\n",
    "        x, y = none_keys_r[key].shape\n",
    "        this_sum.append(y)\n",
    "    else:\n",
    "        this_sum.append(0)\n",
    "    if key in loc_keys_r:\n",
    "        x, y = loc_keys_r[key].shape\n",
    "        this_sum.append(y)\n",
    "    else:\n",
    "        this_sum.append(0)\n",
    "    if key in soc_keys_r:\n",
    "        x, y = soc_keys_r[key].shape\n",
    "        this_sum.append(y)\n",
    "    else:\n",
    "        this_sum.append(0)\n",
    "    sums[key] = this_sum"
   ]
  },
  {
   "cell_type": "markdown",
   "metadata": {},
   "source": [
    "## B. Convert keypresses from '9's and '1's to '1's and '0's\n",
    "#### - output loc_keys\n",
    "#### - WARNING: you can only run this once!!!!!! if you run twice, you must start from the beginning"
   ]
  },
  {
   "cell_type": "code",
   "execution_count": 10,
   "metadata": {},
   "outputs": [],
   "source": [
    "loc_keys = dict()\n",
    "soc_keys = dict()\n",
    "none_keys = dict()\n",
    "all_keys = dict()\n",
    "\n",
    "#all keys\n",
    "for key in all_keys_r:\n",
    "    this_array = copy.deepcopy(all_keys_r[key])\n",
    "    this_array[this_array ==1] = 0\n",
    "    this_array[this_array == 9] = 1\n",
    "    all_keys[key] = this_array   \n",
    "    \n",
    "#none keys\n",
    "for key in none_keys_r:\n",
    "    this_array = copy.deepcopy(none_keys_r[key])\n",
    "    this_array[this_array ==1] = 0\n",
    "    this_array[this_array == 9] = 1\n",
    "    none_keys[key] = this_array   \n",
    "    \n",
    "#loc keys\n",
    "for key in loc_keys_r:\n",
    "    this_array = copy.deepcopy(loc_keys_r[key])\n",
    "    this_array[this_array ==1] = 0\n",
    "    this_array[this_array == 9] = 1\n",
    "    loc_keys[key] = this_array   \n",
    "    \n",
    "#soc keys\n",
    "for key in soc_keys_r:\n",
    "    this_array = copy.deepcopy(soc_keys_r[key])\n",
    "    this_array[this_array ==1] = 0\n",
    "    this_array[this_array == 9] = 1\n",
    "    soc_keys[key] = this_array   "
   ]
  },
  {
   "cell_type": "markdown",
   "metadata": {},
   "source": [
    "## C. Remove first sentence (first row) from all keypresses"
   ]
  },
  {
   "cell_type": "code",
   "execution_count": 11,
   "metadata": {},
   "outputs": [],
   "source": [
    "list_keys = [all_keys, none_keys, loc_keys, soc_keys]\n",
    "for i in range(0, len(list_keys)):\n",
    "    for key in list_keys[i]:\n",
    "        list_keys[i][key] = np.delete(list_keys[i][key],(0), axis = 0)"
   ]
  },
  {
   "cell_type": "markdown",
   "metadata": {},
   "source": [
    "## D. Remove first sentence (first row) from all a priori story boundaries"
   ]
  },
  {
   "cell_type": "code",
   "execution_count": 15,
   "metadata": {},
   "outputs": [
    {
     "name": "stdout",
     "output_type": "stream",
     "text": [
      "(41, 2)\n",
      "(40, 2)\n",
      "(31, 2)\n",
      "(30, 2)\n",
      "(31, 2)\n",
      "(30, 2)\n",
      "(33, 2)\n",
      "(32, 2)\n",
      "(30, 2)\n",
      "(29, 2)\n",
      "(37, 2)\n",
      "(36, 2)\n",
      "(39, 2)\n",
      "(38, 2)\n",
      "(32, 2)\n",
      "(31, 2)\n",
      "(36, 2)\n",
      "(35, 2)\n",
      "(33, 2)\n",
      "(32, 2)\n",
      "(32, 2)\n",
      "(31, 2)\n",
      "(27, 2)\n",
      "(26, 2)\n",
      "(37, 2)\n",
      "(36, 2)\n",
      "(35, 2)\n",
      "(34, 2)\n",
      "(29, 2)\n",
      "(28, 2)\n",
      "(28, 2)\n",
      "(27, 2)\n"
     ]
    }
   ],
   "source": [
    "for key in story_boundaries:\n",
    "    story_boundaries[key] = np.delete(story_boundaries[key],(0), axis = 0)"
   ]
  },
  {
   "cell_type": "markdown",
   "metadata": {},
   "source": [
    "# III. Jaccard Analysis\n",
    "## A. Compare priming types of each story to putative event boundaries"
   ]
  },
  {
   "cell_type": "code",
   "execution_count": 16,
   "metadata": {},
   "outputs": [],
   "source": [
    "jaccard_vals = {}\n",
    "\n",
    "list_keys = [none_keys, loc_keys, soc_keys]\n",
    "\n",
    "for key in all_keys:\n",
    "    # Making array stored in jaccard_vals\n",
    "    this_array = np.zeros ((2,3))\n",
    "    # Iterating through all conditions\n",
    "    for i in range(len(list_keys)):\n",
    "        # Iterating through location and social putative boundaries\n",
    "        for j in range(0,2):\n",
    "            # Finding the number of participants in this condition\n",
    "            n = list_keys[i][key].shape[1]\n",
    "            # Initiating list to add jaccard values to\n",
    "            these_vals = []\n",
    "            for k in range(0,n):\n",
    "                subj_k = list_keys[i][key].T[k]\n",
    "                put_b = story_boundaries[key].T[j]\n",
    "                this_ji = jaccard_score(subj_k, put_b)\n",
    "                these_vals.append(this_ji)\n",
    "            # Averaging Jaccard Indices\n",
    "            avg_val = sum(these_vals) / len(these_vals)\n",
    "            # Putting average in this_array\n",
    "            this_array[j, i] = avg_val\n",
    "    # Putting this_array in jaccard_vals\n",
    "    jaccard_vals[key] = this_array  "
   ]
  },
  {
   "cell_type": "markdown",
   "metadata": {},
   "source": [
    "## B. Plotting"
   ]
  },
  {
   "cell_type": "code",
   "execution_count": 17,
   "metadata": {},
   "outputs": [
    {
     "data": {
      "image/png": "[encoded data removed]",
      "text/plain": [
       "<Figure size 1440x1440 with 32 Axes>"
      ]
     },
     "metadata": {
      "needs_background": "light"
     },
     "output_type": "display_data"
    }
   ],
   "source": [
    "figure, axes = plt.subplots(nrows=4, ncols=4, figsize=(20, 20))\n",
    "\n",
    "i = 0\n",
    "j = 0\n",
    "for key in jaccard_vals:\n",
    "    # Make the plot\n",
    "    im = axes[j, i].imshow(jaccard_vals[key])\n",
    "    \n",
    "    #colorbar\n",
    "    im.set_clim()\n",
    "    figure.colorbar(im, ax=axes[j, i])\n",
    "    \n",
    "    #set title\n",
    "    none_n = sums[key][1]\n",
    "    loc_n = sums[key][2]\n",
    "    soc_n = sums[key][3]\n",
    "    axes[j, i].set_title(str(key) + ': no prime = ' + str(none_n) + '; loc = ' + str(loc_n) + '; soc = ' + str(soc_n))\n",
    "    \n",
    "    # X ticks\n",
    "    x_label_list = ['NP', 'L', 'S']\n",
    "    axes[j, i].set_xticks([0,1,2])\n",
    "    axes[j, i].set_xticklabels(x_label_list)\n",
    "    \n",
    "    # Y ticks\n",
    "    y_label_list = ['Loc B', 'Soc B']\n",
    "    axes[j, i].set_yticks([0,1])\n",
    "    axes[j, i].set_yticklabels(y_label_list)\n",
    "     \n",
    "    #changing i, j for next graph placement\n",
    "    if i == 3:\n",
    "        i = 0\n",
    "        j += 1\n",
    "    else:\n",
    "        i += 1\n",
    "    figure.tight_layout()"
   ]
  },
  {
   "cell_type": "markdown",
   "metadata": {},
   "source": [
    "## C. Average Jaccard Values across all story avgs\n",
    "### - this is the average of the 16 story values, not the data points that make those up. "
   ]
  },
  {
   "cell_type": "code",
   "execution_count": 18,
   "metadata": {},
   "outputs": [],
   "source": [
    "count = 0\n",
    "\n",
    "for key in jaccard_vals:\n",
    "    if count == 0:\n",
    "        all_j_vals = jaccard_vals[key]\n",
    "        count =+ 1\n",
    "    else:\n",
    "        all_j_vals = np.dstack((all_j_vals, jaccard_vals[key]))\n",
    "\n",
    "# NanMean\n",
    "avg_all_j_vals = np.nanmean(all_j_vals, axis = 2)"
   ]
  },
  {
   "cell_type": "markdown",
   "metadata": {},
   "source": [
    "## D. Plot"
   ]
  },
  {
   "cell_type": "code",
   "execution_count": 19,
   "metadata": {},
   "outputs": [
    {
     "data": {
      "text/plain": [
       "[Text(0, 0, 'Loc B'), Text(0, 0, 'Soc B')]"
      ]
     },
     "execution_count": 19,
     "metadata": {},
     "output_type": "execute_result"
    },
    {
     "data": {
      "image/png": "[encoded data removed]",
      "text/plain": [
       "<Figure size 720x720 with 2 Axes>"
      ]
     },
     "metadata": {
      "needs_background": "light"
     },
     "output_type": "display_data"
    }
   ],
   "source": [
    "fig, ax = plt.subplots(1,1, figsize=(10,10))\n",
    "im = ax.imshow(avg_all_j_vals)\n",
    "\n",
    "fig.colorbar(im)\n",
    "\n",
    "# X ticks\n",
    "x_label_list = ['NP', 'L', 'S']\n",
    "ax.set_xticks([0,1,2])\n",
    "ax.set_xticklabels(x_label_list)\n",
    "\n",
    "# Y ticks\n",
    "y_label_list = ['Loc B', 'Soc B']\n",
    "ax.set_yticks([0,1])\n",
    "ax.set_yticklabels(y_label_list)"
   ]
  },
  {
   "cell_type": "markdown",
   "metadata": {},
   "source": [
    "## E. Average Jaccard Values calculated from all the data points within the story avgs"
   ]
  },
  {
   "cell_type": "code",
   "execution_count": 20,
   "metadata": {},
   "outputs": [],
   "source": [
    "jaccard_vals = {}\n",
    "\n",
    "list_keys = [none_keys, loc_keys, soc_keys]\n",
    "n_l = []\n",
    "l_l = []\n",
    "s_l = []\n",
    "n_s = []\n",
    "l_s = []\n",
    "s_s = []\n",
    "\n",
    "list_vals = [[n_l, l_l, s_l], [n_s, l_s, s_s]]\n",
    "\n",
    "for key in all_keys:\n",
    "    # Making array stored in jaccard_vals\n",
    "    this_array = np.zeros ((2,3))\n",
    "    # Iterating through all conditions\n",
    "    for i in range(len(list_keys)):\n",
    "        # Iterating through location and social putative boundaries\n",
    "        for j in range(0,2):\n",
    "            # Finding the number of participants in this condition\n",
    "            n = list_keys[i][key].shape[1]\n",
    "            # Initiating list to add jaccard values to\n",
    "            these_vals = []\n",
    "            for k in range(0,n):\n",
    "                subj_k = list_keys[i][key].T[k]\n",
    "                put_b = story_boundaries[key].T[j]\n",
    "                this_ji = jaccard_score(subj_k, put_b)\n",
    "                these_vals.append(this_ji)\n",
    "                list_vals[j][i].append(this_ji)\n",
    "\n",
    "avg_points_actual = np.zeros((2, 3))\n",
    "for i in range(0,2):\n",
    "    for j in range(0,3):\n",
    "        this_avg = sum(list_vals[i][j])/len(list_vals[i][j])\n",
    "        avg_points_actual[i,j] = this_avg"
   ]
  },
  {
   "cell_type": "code",
   "execution_count": 21,
   "metadata": {},
   "outputs": [
    {
     "name": "stdout",
     "output_type": "stream",
     "text": [
      "77\n"
     ]
    }
   ],
   "source": [
    "print(len(n_l))"
   ]
  },
  {
   "cell_type": "markdown",
   "metadata": {},
   "source": [
    "## F. Plotting"
   ]
  },
  {
   "cell_type": "code",
   "execution_count": 22,
   "metadata": {},
   "outputs": [
    {
     "data": {
      "text/plain": [
       "[Text(0, 0, 'Loc B'), Text(0, 0, 'Soc B')]"
      ]
     },
     "execution_count": 22,
     "metadata": {},
     "output_type": "execute_result"
    },
    {
     "data": {
      "image/png": "[encoded data removed]",
      "text/plain": [
       "<Figure size 720x720 with 2 Axes>"
      ]
     },
     "metadata": {
      "needs_background": "light"
     },
     "output_type": "display_data"
    }
   ],
   "source": [
    "fig, ax = plt.subplots(1,1, figsize=(10,10))\n",
    "im = ax.imshow(avg_points_actual)\n",
    "\n",
    "fig.colorbar(im)\n",
    "\n",
    "# X ticks\n",
    "x_label_list = ['NP', 'L', 'S']\n",
    "ax.set_xticks([0,1,2])\n",
    "ax.set_xticklabels(x_label_list)\n",
    "\n",
    "# Y ticks\n",
    "y_label_list = ['Loc B', 'Soc B']\n",
    "ax.set_yticks([0,1])\n",
    "ax.set_yticklabels(y_label_list)"
   ]
  },
  {
   "cell_type": "markdown",
   "metadata": {},
   "source": [
    "# V. Permutation Testing\n",
    "## A. Get a 2 X all participant matrix for each story with JI comparing each participant to each type of boundary"
   ]
  },
  {
   "cell_type": "code",
   "execution_count": 29,
   "metadata": {},
   "outputs": [],
   "source": [
    "# Get JI for all 3 types of primed participants and then put in a single matrix for each story \n",
    "\n",
    "JIs = {}\n",
    "\n",
    "for key in all_keys:\n",
    "    # instantiate empty JI_matrix\n",
    "    this_JI = np.zeros((2, sums[key][0]))\n",
    "    # Iterate through loc and soc boundaries (Loc - 0, Soc - 1)\n",
    "    for j in range(0, 2):\n",
    "        # Instantiate count, which will index this matrix\n",
    "        count = 0\n",
    "        # Go through NP participants\n",
    "        for i in range(0, none_keys[key].shape[1]):\n",
    "            # Get the column\n",
    "            this_col = none_keys[key][:, i]\n",
    "            # Get putative boundary\n",
    "            put_b = story_boundaries[key].T[j]\n",
    "            # Calculate JI with boundary\n",
    "            this_one = jaccard_score(this_col, put_b)\n",
    "            # Put this_one in this_JI\n",
    "            this_JI[j, count] = this_one\n",
    "            # Increase the counter\n",
    "            count += 1\n",
    "        # Go through L participants\n",
    "        for i in range(0, loc_keys[key].shape[1]):\n",
    "            # Get the column\n",
    "            this_col = loc_keys[key][:, i]\n",
    "            # Get putative boundary\n",
    "            put_b = story_boundaries[key].T[j]\n",
    "            # Calculate JI with boundary\n",
    "            this_one = jaccard_score(this_col, put_b)\n",
    "            # Put this_one in this_JI\n",
    "            this_JI[j, count] = this_one\n",
    "            # Increase the counter\n",
    "            count += 1\n",
    "        for i in range(0, soc_keys[key].shape[1]):\n",
    "            # Get the column\n",
    "            this_col = soc_keys[key][:, i]\n",
    "            # Get putative boundary\n",
    "            put_b = story_boundaries[key].T[j]\n",
    "            # Calculate JI with boundary\n",
    "            this_one = jaccard_score(this_col, put_b)\n",
    "            # Put this_one in this_JI\n",
    "            this_JI[j, count] = this_one\n",
    "            # Increase the counter\n",
    "            count += 1\n",
    "    JIs[key] = this_JI\n",
    "        \n",
    "        \n",
    "        \n",
    "        \n",
    "    "
   ]
  },
  {
   "cell_type": "code",
   "execution_count": 30,
   "metadata": {},
   "outputs": [
    {
     "name": "stdout",
     "output_type": "stream",
     "text": [
      "[[0.14285714 0.22222222 0.2        0.         0.1        0.25\n",
      "  0.28571429 0.375      0.25       0.25       0.28571429 0.2\n",
      "  0.11111111 0.3        0.16666667 0.23076923 0.33333333]\n",
      " [0.14285714 0.22222222 0.05882353 0.         0.375      0.42857143\n",
      "  0.5        0.375      0.25       0.42857143 0.5        0.33333333\n",
      "  0.25       0.3        0.16666667 0.23076923 0.09090909]]\n",
      "7\n",
      "[[0.28571429 0.2        0.11111111 0.3        0.16666667 0.23076923\n",
      "  0.33333333]\n",
      " [0.5        0.33333333 0.25       0.3        0.16666667 0.23076923\n",
      "  0.09090909]]\n"
     ]
    }
   ],
   "source": [
    "print(JIs[key])\n",
    "print(sums[key][3])\n",
    "print(JIs[key][:, (sums[key][1] + sums[key][2]): sums[key][0]])"
   ]
  },
  {
   "cell_type": "code",
   "execution_count": 31,
   "metadata": {},
   "outputs": [
    {
     "data": {
      "text/plain": [
       "[22, 10, 7, 5]"
      ]
     },
     "execution_count": 31,
     "metadata": {},
     "output_type": "execute_result"
    }
   ],
   "source": [
    "sums[11]"
   ]
  },
  {
   "cell_type": "code",
   "execution_count": 32,
   "metadata": {},
   "outputs": [],
   "source": [
    "with open('JIs.pickle', 'wb') as handle:\n",
    "    pickle.dump(JIs, handle, protocol=pickle.HIGHEST_PROTOCOL)\n",
    "with open('sums.pickle', 'wb') as handle:\n",
    "    pickle.dump(sums, handle, protocol=pickle.HIGHEST_PROTOCOL)"
   ]
  },
  {
   "cell_type": "markdown",
   "metadata": {},
   "source": [
    "## B. Permutations\n",
    "### - shuffle arrays in JIs\n",
    "### - to calculate the 2 X 3 arrays for each story, concatenate all the participants for each type, and then avg"
   ]
  },
  {
   "cell_type": "code",
   "execution_count": 41,
   "metadata": {},
   "outputs": [],
   "source": [
    "N_perms = 10000\n",
    "count = 0\n",
    "better_primed = []\n",
    "priming_interaction = []\n",
    "\n",
    "for i in range(0, N_perms):\n",
    "    # Permute the order of arrays in JIs\n",
    "    rp_JIs = {}\n",
    "    \n",
    "    for key in JIs:\n",
    "        # Make a copy of JI array\n",
    "        this_JI = np.copy(JIs[key])\n",
    "        # Generate a permutation\n",
    "        randperm = np.random.permutation(sums[key][0])\n",
    "        # Shuffle columns and put in rp_JIs\n",
    "        rp_JIs[key] = this_JI[:, randperm]\n",
    "        \n",
    "    # Instantiate NP, S, L participant groupings\n",
    "    NPs = np.zeros((2,0))\n",
    "    Ls = np.zeros((2,0))\n",
    "    Ss = np.zeros((2,0))\n",
    "    \n",
    "    # Add participants from other stories\n",
    "    for key in JIs:\n",
    "        NPs = np.concatenate((NPs, rp_JIs[key][:, 0:sums[key][1]]), axis = 1)\n",
    "        Ls = np.concatenate((Ls, rp_JIs[key][:, sums[key][1]:(sums[key][1] + sums[key][2])]), axis = 1)\n",
    "        Ss = np.concatenate((Ss, rp_JIs[key][:, (sums[key][1] + sums[key][2]): sums[key][0]]), axis = 1)\n",
    "    \n",
    "    ##Checking if there's the same number of people in each group: yes\n",
    "    #print(Ls.shape, Ss.shape)\n",
    "    #print(Ss)\n",
    "    \n",
    "    # Average across all the arrays and concatenate to get a 2X3 matrix\n",
    "    mean_np = np.mean(NPs, axis = 1)\n",
    "    mean_l = np.mean(Ls, axis = 1)\n",
    "    mean_s = np.mean(Ss, axis = 1)\n",
    "    \n",
    "    #Instatiate 2 x 3 avg_points\n",
    "    avg_points = np.zeros((2,3))\n",
    "    \n",
    "    # Make 2 x 3 matrix\n",
    "    for i in range(0,2):\n",
    "        avg_points[i, 0] = mean_np[i]\n",
    "        avg_points[i, 1] = mean_l[i]\n",
    "        avg_points[i, 2] = mean_s[i]\n",
    "        \n",
    "    # Concatenate the 2 X 3 matrices of different permutations\n",
    "    if count == 0:\n",
    "        all_avg_points = avg_points\n",
    "        count += 1\n",
    "    else:\n",
    "        all_avg_points = np.dstack((all_avg_points, avg_points))\n",
    "        \n",
    "    # Calculate and concatenate the statistics\n",
    "    ## Is there a better matching to boundaries when primed?\n",
    "    ## 2 - 1 + 6 - 4\n",
    "    better_primed.append(avg_points[0,1] - avg_points[0,0] + avg_points[1,2] - avg_points[1, 0])\n",
    "    \n",
    "    ## Among people who were primed is there an interaction between the priming?\n",
    "    ## 2 - 3 + 6 - 5\n",
    "    priming_interaction.append(avg_points[0,1] - avg_points[0,2] + avg_points[1,2] - avg_points[1, 1])"
   ]
  },
  {
   "cell_type": "markdown",
   "metadata": {},
   "source": [
    "## B. Average the jaccard values along third dimension and plot"
   ]
  },
  {
   "cell_type": "code",
   "execution_count": 42,
   "metadata": {},
   "outputs": [
    {
     "name": "stdout",
     "output_type": "stream",
     "text": [
      "[[0.19043761 0.21255896 0.19353055]\n",
      " [0.15800864 0.16209531 0.16420629]]\n"
     ]
    },
    {
     "data": {
      "text/plain": [
       "[Text(0, 0, 'Loc B'), Text(0, 0, 'Soc B')]"
      ]
     },
     "execution_count": 42,
     "metadata": {},
     "output_type": "execute_result"
    },
    {
     "data": {
      "image/png": "[encoded data removed]",
      "text/plain": [
       "<Figure size 720x720 with 2 Axes>"
      ]
     },
     "metadata": {
      "needs_background": "light"
     },
     "output_type": "display_data"
    }
   ],
   "source": [
    "avg_perm = np.mean(all_avg_points, axis = 2)\n",
    "print(avg_perm)\n",
    "\n",
    "fig, ax = plt.subplots(1,1, figsize=(10,10))\n",
    "im = ax.imshow(avg_perm)\n",
    "\n",
    "fig.colorbar(im)\n",
    "\n",
    "# X ticks\n",
    "x_label_list = ['NP', 'L', 'S']\n",
    "ax.set_xticks([0,1,2])\n",
    "ax.set_xticklabels(x_label_list)\n",
    "\n",
    "# Y ticks\n",
    "y_label_list = ['Loc B', 'Soc B']\n",
    "ax.set_yticks([0,1])\n",
    "ax.set_yticklabels(y_label_list)"
   ]
  },
  {
   "cell_type": "markdown",
   "metadata": {},
   "source": [
    "## C. Priming effect of matching to Boundaries\n",
    "### 1. Calculate the priming effect for the actual data"
   ]
  },
  {
   "cell_type": "code",
   "execution_count": 43,
   "metadata": {},
   "outputs": [],
   "source": [
    "actual_val_pe = avg_points_actual[0,1] - avg_points_actual[0,0] + avg_points_actual[1,2] - avg_points_actual[1, 0]"
   ]
  },
  {
   "cell_type": "markdown",
   "metadata": {},
   "source": [
    "### 2. Plot a historgram of permuted priming effects and the actual priming effect"
   ]
  },
  {
   "cell_type": "code",
   "execution_count": 47,
   "metadata": {},
   "outputs": [
    {
     "name": "stdout",
     "output_type": "stream",
     "text": [
      "The p value is  0.0549\n"
     ]
    },
    {
     "data": {
      "image/png": "[encoded data removed]",
      "text/plain": [
       "<Figure size 432x288 with 1 Axes>"
      ]
     },
     "metadata": {
      "needs_background": "light"
     },
     "output_type": "display_data"
    }
   ],
   "source": [
    "# convert list of PEs to np\n",
    "PEs = np.asarray(better_primed)\n",
    "# Plot the histogram\n",
    "plt.hist(PEs, bins = 50)\n",
    "# Show the actual data\n",
    "plt.axvline(x=actual_val_pe, color='r', linestyle='dashed', linewidth=2)\n",
    "# Calculate the P-value\n",
    "p_val = ((PEs > actual_val_pe).sum())/10000\n",
    "print('The p value is ', p_val)"
   ]
  },
  {
   "cell_type": "markdown",
   "metadata": {},
   "source": [
    "## D. Interaction between priming\n",
    "### 1. Calculate the interaction for the actual data"
   ]
  },
  {
   "cell_type": "code",
   "execution_count": 48,
   "metadata": {},
   "outputs": [],
   "source": [
    "actual_val_intrct = avg_points_actual[0,1] - avg_points_actual[0,2] + avg_points_actual[1,2] - avg_points_actual[1, 1]"
   ]
  },
  {
   "cell_type": "markdown",
   "metadata": {},
   "source": [
    "### 2. Plot a historgram of permuted priming effects and the actual priming effect"
   ]
  },
  {
   "cell_type": "code",
   "execution_count": 49,
   "metadata": {},
   "outputs": [
    {
     "name": "stdout",
     "output_type": "stream",
     "text": [
      "The p value is  0.2216\n"
     ]
    },
    {
     "data": {
      "image/png": "[encoded data removed]",
      "text/plain": [
       "<Figure size 432x288 with 1 Axes>"
      ]
     },
     "metadata": {
      "needs_background": "light"
     },
     "output_type": "display_data"
    }
   ],
   "source": [
    "# convert list of PEs to np\n",
    "Intrcts = np.asarray(priming_interaction)\n",
    "# Plot the histogram\n",
    "plt.hist(Intrcts, bins = 50)\n",
    "# Show the actual data\n",
    "plt.axvline(x=actual_val_intrct, color='r', linestyle='dashed', linewidth=2)\n",
    "# Calculate the P-value\n",
    "p_val = ((Intrcts > actual_val_intrct).sum())/10000\n",
    "print('The p value is ', p_val)"
   ]
  },
  {
   "cell_type": "code",
   "execution_count": null,
   "metadata": {},
   "outputs": [],
   "source": []
  }
 ],
 "metadata": {
  "kernelspec": {
   "display_name": "Python 3",
   "language": "python",
   "name": "python3"
  },
  "language_info": {
   "codemirror_mode": {
    "name": "ipython",
    "version": 3
   },
   "file_extension": ".py",
   "mimetype": "text/x-python",
   "name": "python",
   "nbconvert_exporter": "python",
   "pygments_lexer": "ipython3",
   "version": "3.6.8"
  }
 },
 "nbformat": 4,
 "nbformat_minor": 2
}
