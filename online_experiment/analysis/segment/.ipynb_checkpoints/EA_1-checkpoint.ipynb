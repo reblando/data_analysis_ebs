{
 "cells": [
  {
   "cell_type": "markdown",
   "metadata": {},
   "source": [
    "# Entropy Analysis + permutations\n",
    "### 10/20/20; 12/9/20\n",
    "### Comparing entropy across the different priming groups"
   ]
  },
  {
   "cell_type": "code",
   "execution_count": 1,
   "metadata": {
    "scrolled": true
   },
   "outputs": [
    {
     "data": {
      "application/javascript": [
       "IPython.notebook.set_autosave_interval(5000)"
      ]
     },
     "metadata": {},
     "output_type": "display_data"
    },
    {
     "name": "stdout",
     "output_type": "stream",
     "text": [
      "Autosaving every 5 seconds\n"
     ]
    }
   ],
   "source": [
    "import pandas as pd\n",
    "import numpy as np\n",
    "import plotly.graph_objs as go\n",
    "import plotly.plotly as py\n",
    "import plotly\n",
    "import os\n",
    "import glob\n",
    "import math\n",
    "import statistics\n",
    "import matplotlib.pyplot as plt\n",
    "import seaborn as sns\n",
    "import pickle\n",
    "import copy\n",
    "from random import randrange\n",
    "import random\n",
    "from sklearn.metrics import jaccard_score\n",
    "from scipy.stats import entropy\n",
    "%autosave 5"
   ]
  },
  {
   "cell_type": "markdown",
   "metadata": {},
   "source": [
    "# I. Setup\n",
    "### i. Import data"
   ]
  },
  {
   "cell_type": "code",
   "execution_count": 2,
   "metadata": {
    "scrolled": true
   },
   "outputs": [
    {
     "data": {
      "text/plain": [
       "316"
      ]
     },
     "execution_count": 2,
     "metadata": {},
     "output_type": "execute_result"
    }
   ],
   "source": [
    "filename = '/Users/alexreblando/Documents/GitHub/data_analysis_ebs/online_experiment/analysis/segment/usable_data'\n",
    "data_dict = pickle.load( open( filename, \"rb\" ) )\n",
    "filename_sums = '/Users/alexreblando/Documents/GitHub/data_analysis_ebs/online_experiment/analysis/segment/sums_usable_data'\n",
    "sums = pickle.load( open( filename_sums, \"rb\" ) )\n",
    "len(data_dict)"
   ]
  },
  {
   "cell_type": "markdown",
   "metadata": {},
   "source": [
    "### ii. import and organize story files\n",
    "#### a. Import file"
   ]
  },
  {
   "cell_type": "code",
   "execution_count": 3,
   "metadata": {},
   "outputs": [],
   "source": [
    "directory_stories = '/Users/alexreblando/Documents/GitHub/ebs/fMRI experiment/1:8:2020_edited_stories'\n",
    "\n",
    "filenames_stories = glob.glob(directory_stories + '/*.xlsx')\n",
    "\n",
    "dfs_stories = []\n",
    "    \n",
    "for filename in filenames_stories:\n",
    "    dfs_stories.append(pd.read_excel(filename))"
   ]
  },
  {
   "cell_type": "markdown",
   "metadata": {},
   "source": [
    "#### b. organize putative event boundaries"
   ]
  },
  {
   "cell_type": "code",
   "execution_count": 4,
   "metadata": {},
   "outputs": [],
   "source": [
    "#mark the boundaries with a '1'\n",
    "#output: story_boundaries, where the first column has the location boundaries and the second column has the social\n",
    "#boundaries\n",
    "\n",
    "story_boundaries = dict()\n",
    "\n",
    "#read in the location and social event values from the story files \n",
    "for s in range(16):\n",
    "    this_story = int(dfs_stories[s]['story'].iloc[0])\n",
    "    keys2 = dfs_stories[s]['locationEvent'].values\n",
    "    keys3 = dfs_stories[s]['socialEvent'].values\n",
    "    story_boundaries[this_story] = keys2[:, np.newaxis]\n",
    "    story_boundaries[this_story] = np.concatenate((story_boundaries[this_story], keys3[:, np.newaxis]), axis = 1)\n",
    "    \n",
    "#mark the changes or boundaries from one event to another with a '1' and delete first two columns\n",
    "for key in story_boundaries:\n",
    "    location = story_boundaries[key][:,0]\n",
    "    social = story_boundaries[key][:,1]\n",
    "    for i in range(0, len(location)):  \n",
    "        if location[i] > location[i-1]:\n",
    "            location[i] = 7\n",
    "    for i in range(0, len(location)):  \n",
    "        if location[i] != 7:\n",
    "            location[i] = 0\n",
    "    for i in range(0, len(social)):\n",
    "        if social[i] > social[i - 1]:\n",
    "            social[i] = 7\n",
    "    for i in range(0, len(social)):\n",
    "        if social[i] != 7:\n",
    "            social[i] = 0\n",
    "    location[0] = 7\n",
    "    social[0] = 7\n",
    "    location2 = location > 1\n",
    "    social2 = social > 1\n",
    "    location2 = location2.astype(int)\n",
    "    social2 = social2.astype(int)\n",
    "    story_boundaries[key] = np.concatenate((story_boundaries[key], location2[:, np.newaxis]), axis = 1) \n",
    "    story_boundaries[key] = np.concatenate((story_boundaries[key], social2[:, np.newaxis]), axis = 1)\n",
    "    story_boundaries[key] = np.delete(story_boundaries[key] ,np.s_[0:2],axis=1)"
   ]
  },
  {
   "cell_type": "markdown",
   "metadata": {},
   "source": [
    "# II. Separating the Priming Groups For Each Story\n",
    "## A. group stories by subject and priming type\n",
    "#### - output: loc_keys_r"
   ]
  },
  {
   "cell_type": "code",
   "execution_count": 6,
   "metadata": {
    "scrolled": true
   },
   "outputs": [],
   "source": [
    "loc_keys_r = dict()\n",
    "soc_keys_r = dict()\n",
    "none_keys_r = dict()\n",
    "all_keys_r = dict()\n",
    "\n",
    "for key in data_dict:\n",
    "    this_story = data_dict[key]['story'].iloc[0]\n",
    "    keys = data_dict[key]['story_presses']\n",
    "    p_type = data_dict[key]['p_type'].iloc[0]\n",
    "    #print out the filenames and prolific ids of people who did not press \"9\" once\n",
    "    occurrences = np.count_nonzero(keys == 9)\n",
    "    if occurrences == 0:\n",
    "        print(key)\n",
    "        print(data_dict[key]['prolific_id'].iloc[0])\n",
    "    #put all story keys in the same dictionary regardless of priming\n",
    "    if this_story in all_keys_r:\n",
    "        all_keys_r[this_story] = np.concatenate((all_keys_r[this_story],keys[:,np.newaxis]), axis=1)\n",
    "    else:\n",
    "        all_keys_r[this_story] = keys[:, np.newaxis]\n",
    "    #organize keys by priming type\n",
    "    #no prime\n",
    "    if p_type == 0:\n",
    "        if this_story in none_keys_r:\n",
    "            none_keys_r[this_story] = np.concatenate((none_keys_r[this_story],keys[:,np.newaxis]), axis=1)\n",
    "        else:\n",
    "            none_keys_r[this_story] = keys[:, np.newaxis]\n",
    "    #loc prime\n",
    "    elif p_type == 1:\n",
    "        if this_story in loc_keys_r:\n",
    "            loc_keys_r[this_story] = np.concatenate((loc_keys_r[this_story],keys[:,np.newaxis]), axis=1)\n",
    "        else:\n",
    "            loc_keys_r[this_story] = keys[:, np.newaxis]\n",
    "    #soc prime\n",
    "    elif p_type == 2:\n",
    "        if this_story in soc_keys_r:\n",
    "            soc_keys_r[this_story] = np.concatenate((soc_keys_r[this_story],keys[:,np.newaxis]), axis=1)\n",
    "        else:\n",
    "            soc_keys_r[this_story] = keys[:, np.newaxis]"
   ]
  },
  {
   "cell_type": "markdown",
   "metadata": {},
   "source": [
    "### i. Finding the number of participants in each category for each story\n",
    "#### -output sums[story] = [total # of participants, no prime, loc primed, soc primed]"
   ]
  },
  {
   "cell_type": "code",
   "execution_count": 7,
   "metadata": {
    "scrolled": true
   },
   "outputs": [],
   "source": [
    "sums = {}\n",
    "\n",
    "for key in all_keys_r:\n",
    "    this_sum = []\n",
    "    x, y = all_keys_r[key].shape\n",
    "    this_sum.append(y)\n",
    "    if key in none_keys_r:\n",
    "        x, y = none_keys_r[key].shape\n",
    "        this_sum.append(y)\n",
    "    else:\n",
    "        this_sum.append(0)\n",
    "    if key in loc_keys_r:\n",
    "        x, y = loc_keys_r[key].shape\n",
    "        this_sum.append(y)\n",
    "    else:\n",
    "        this_sum.append(0)\n",
    "    if key in soc_keys_r:\n",
    "        x, y = soc_keys_r[key].shape\n",
    "        this_sum.append(y)\n",
    "    else:\n",
    "        this_sum.append(0)\n",
    "    sums[key] = this_sum"
   ]
  },
  {
   "cell_type": "markdown",
   "metadata": {},
   "source": [
    "## B. Convert keypresses from '9's and '1's to '1's and '0's\n",
    "#### - output loc_keys\n",
    "#### - WARNING: you can only run this once!!!!!! if you run twice, you must start from the beginning"
   ]
  },
  {
   "cell_type": "code",
   "execution_count": 8,
   "metadata": {
    "scrolled": true
   },
   "outputs": [],
   "source": [
    "loc_keys = dict()\n",
    "soc_keys = dict()\n",
    "none_keys = dict()\n",
    "all_keys = dict()\n",
    "\n",
    "#all keys\n",
    "for key in all_keys_r:\n",
    "    this_array = copy.deepcopy(all_keys_r[key])\n",
    "    this_array[this_array ==1] = 0\n",
    "    this_array[this_array == 9] = 1\n",
    "    all_keys[key] = this_array   \n",
    "    \n",
    "#none keys\n",
    "for key in none_keys_r:\n",
    "    this_array = copy.deepcopy(none_keys_r[key])\n",
    "    this_array[this_array ==1] = 0\n",
    "    this_array[this_array == 9] = 1\n",
    "    none_keys[key] = this_array   \n",
    "    \n",
    "#loc keys\n",
    "for key in loc_keys_r:\n",
    "    this_array = copy.deepcopy(loc_keys_r[key])\n",
    "    this_array[this_array ==1] = 0\n",
    "    this_array[this_array == 9] = 1\n",
    "    loc_keys[key] = this_array   \n",
    "    \n",
    "#soc keys\n",
    "for key in soc_keys_r:\n",
    "    this_array = copy.deepcopy(soc_keys_r[key])\n",
    "    this_array[this_array ==1] = 0\n",
    "    this_array[this_array == 9] = 1\n",
    "    soc_keys[key] = this_array   "
   ]
  },
  {
   "cell_type": "markdown",
   "metadata": {},
   "source": [
    "## C. Remove first sentence (first row) from all keypresses"
   ]
  },
  {
   "cell_type": "code",
   "execution_count": 9,
   "metadata": {
    "scrolled": true
   },
   "outputs": [],
   "source": [
    "list_keys = [all_keys, none_keys, loc_keys, soc_keys]\n",
    "for i in range(0, len(list_keys)):\n",
    "    for key in list_keys[i]:\n",
    "        list_keys[i][key] = np.delete(list_keys[i][key],(0), axis = 0)"
   ]
  },
  {
   "cell_type": "markdown",
   "metadata": {},
   "source": [
    "## D. Remove first sentence (first row) from all a priori story boundaries"
   ]
  },
  {
   "cell_type": "code",
   "execution_count": 10,
   "metadata": {
    "scrolled": true
   },
   "outputs": [],
   "source": [
    "for key in story_boundaries:\n",
    "    story_boundaries[key] = np.delete(story_boundaries[key],(0), axis = 0)"
   ]
  },
  {
   "cell_type": "markdown",
   "metadata": {},
   "source": [
    "# III. Entropy analysis\n",
    "## A. Entropy over all keypresses aggregated together"
   ]
  },
  {
   "cell_type": "code",
   "execution_count": 12,
   "metadata": {
    "scrolled": false
   },
   "outputs": [
    {
     "name": "stdout",
     "output_type": "stream",
     "text": [
      "{11: 0.9224793933445721, 33: 0.917333367741546, 44: 0.8159781969806121, 23: 0.9105331799779428, 12: 0.8779726530538875, 21: 0.8941307316159829, 13: 0.8284556396464646, 42: 0.9091281641204937, 43: 0.8614615978841627, 32: 0.9034775296578292, 34: 0.8128598735141513, 22: 0.8796690973670485, 41: 0.8703344190335645, 14: 0.8406873843415301, 24: 0.9155480415621586, 31: 0.7365135600113529}\n"
     ]
    }
   ],
   "source": [
    "# Instantiating new dict and iterating through all_keys summing along row-wise\n",
    "sum_keys = {}\n",
    "\n",
    "for key in all_keys:\n",
    "    these_keys = all_keys[key]\n",
    "    sum_keys[key] = np.sum(these_keys, axis = 1)\n",
    "\n",
    "###    \n",
    "#ent[key] = entropy(sum_keys[key])/ln(N[key])    \n",
    "    \n",
    "# Plot each sum_keys array with loc boundaries\n",
    "ent = {}\n",
    "for key in sum_keys:\n",
    "    # entropy normalizes the vector\n",
    "    ent[key] = entropy(sum_keys[key])/np.log(len(story_boundaries[key]))\n",
    "    \n",
    "print(ent)"
   ]
  },
  {
   "cell_type": "markdown",
   "metadata": {},
   "source": [
    "## B. Entropy over different priming groups"
   ]
  },
  {
   "cell_type": "code",
   "execution_count": 13,
   "metadata": {},
   "outputs": [
    {
     "name": "stdout",
     "output_type": "stream",
     "text": [
      "0\n",
      "1\n",
      "2\n"
     ]
    }
   ],
   "source": [
    "# dicts for summing row-wise\n",
    "sum_keys_np = {}\n",
    "sum_keys_l = {}\n",
    "sum_keys_s = {}\n",
    "\n",
    "# Instantiating new dicts for ent\n",
    "ent_np = {}\n",
    "ent_l = {}\n",
    "ent_s = {}\n",
    "\n",
    "list_keys = [none_keys, loc_keys, soc_keys]\n",
    "list_sums = [sum_keys_np, sum_keys_l, sum_keys_s]\n",
    "list_ent = [ent_np, ent_l, ent_s]\n",
    "\n",
    "for i in range(0, len(list_keys)):\n",
    "    for key in list_keys[i]:\n",
    "        these_keys = list_keys[i][key]\n",
    "        list_sums[i][key] = np.sum(these_keys, axis = 1)\n",
    "\n",
    "\n",
    "for i in range(0, len(list_keys)):\n",
    "    print(i)\n",
    "    for key in list_keys[i]:\n",
    "        list_ent[i][key] = entropy(list_sums[i][key])/np.log(len(story_boundaries[key]))"
   ]
  },
  {
   "cell_type": "markdown",
   "metadata": {},
   "source": [
    "## C. Averaging across all stories"
   ]
  },
  {
   "cell_type": "code",
   "execution_count": 14,
   "metadata": {},
   "outputs": [
    {
     "name": "stdout",
     "output_type": "stream",
     "text": [
      "The avg entropy for np primed participants is  0.807467752981002\n",
      "The avg entropy for loc primed participants is  0.806629546179977\n",
      "The avg entropy for soc primed participants is  0.8211891343666075\n"
     ]
    }
   ],
   "source": [
    "story_list = [11,12,13,14,21,22,23,24,31,32,33,34,41,42,43,44]\n",
    "\n",
    "# Initiating array for storing value for each story\n",
    "np_vals = np.zeros((16))\n",
    "l_vals = np.zeros((16))\n",
    "s_vals = np.zeros((16))\n",
    "count = 0\n",
    "\n",
    "for j in story_list:\n",
    "    np_vals[count] = ent_np[j]\n",
    "    l_vals[count] = ent_l[j]\n",
    "    s_vals[count] = ent_s[j]\n",
    "    count += 1\n",
    "    \n",
    "avg_np = np.mean(np_vals)\n",
    "avg_l = np.mean(l_vals)\n",
    "avg_s = np.mean(s_vals)\n",
    "print(\"The avg entropy for np primed participants is \", avg_np)\n",
    "print(\"The avg entropy for loc primed participants is \", avg_l)\n",
    "print(\"The avg entropy for soc primed participants is \", avg_s)"
   ]
  },
  {
   "cell_type": "markdown",
   "metadata": {},
   "source": [
    "# II. Permutation Testing\n",
    "## A. Shuffle the participants in each story and recalculate the avg entropies for np, loc and soc primed participants"
   ]
  },
  {
   "cell_type": "code",
   "execution_count": 46,
   "metadata": {},
   "outputs": [],
   "source": [
    "N_perms = 1000\n",
    "count = 0\n",
    "none_total = []\n",
    "loc_total = []\n",
    "soc_total = []\n",
    "\n",
    "for i in range(0, N_perms):\n",
    "    \n",
    "    # Create array to hold entropy values of each story for each priming group\n",
    "    t_none_ent = np.zeros((16,1))\n",
    "    t_loc_ent = np.zeros((16,1))\n",
    "    t_soc_ent = np.zeros((16,1))\n",
    "    \n",
    "    count = 0\n",
    "    # Shuffle participants in each story\n",
    "    for key in all_keys:\n",
    "        # Make a copy of all_keys[key]\n",
    "        these_keys = np.copy(all_keys[key])\n",
    "        # Generate a permutation\n",
    "        randperm = np.random.permutation(sums[key][0])\n",
    "        # Shuffle columns of the copy\n",
    "        shuffled = these_keys[:, randperm]\n",
    "        # Make new keys using the sums from the original data\n",
    "        new_none_keys = shuffled[:, 0:sums[key][1]]\n",
    "        new_loc_keys = shuffled[:, sums[key][1]: (sums[key][1]+ sums[key][2])]\n",
    "        new_soc_keys = shuffled[:, (sums[key][1]+ sums[key][2]): (sums[key][1]+ sums[key][2] + sums[key][3])]\n",
    "        # Make the new sums\n",
    "        new_none_sum = np.sum(new_none_keys, axis = 1)\n",
    "        new_loc_sum = np.sum(new_loc_keys, axis = 1)\n",
    "        new_soc_sum = np.sum(new_soc_keys, axis = 1)\n",
    "        # Make the new ent vals\n",
    "        t_none_ent[count] = entropy(new_none_sum)/np.log(len(story_boundaries[key]))\n",
    "        t_loc_ent[count] = entropy(new_loc_sum)/np.log(len(story_boundaries[key]))\n",
    "        t_soc_ent[count] = entropy(new_soc_sum)/np.log(len(story_boundaries[key]))\n",
    "        count += 1\n",
    "        \n",
    "    # Avg the entropy values for each group\n",
    "    none_total.append(np.mean(t_none_ent))\n",
    "    loc_total.append(np.mean(t_loc_ent))\n",
    "    soc_total.append(np.mean(t_soc_ent))\n",
    "        \n",
    "        "
   ]
  },
  {
   "cell_type": "markdown",
   "metadata": {},
   "source": [
    "## B. Print and plot P values"
   ]
  },
  {
   "cell_type": "code",
   "execution_count": 47,
   "metadata": {},
   "outputs": [
    {
     "name": "stdout",
     "output_type": "stream",
     "text": [
      "The p value for no prime entropy is  0.356\n",
      "The p value for loc prime entropy is is  0.205\n",
      "The p value for soc prime entropy is is  0.761\n"
     ]
    },
    {
     "data": {
      "image/png": "[encoded data removed]",
      "text/plain": [
       "<Figure size 432x288 with 1 Axes>"
      ]
     },
     "metadata": {
      "needs_background": "light"
     },
     "output_type": "display_data"
    },
    {
     "data": {
      "image/png": "[encoded data removed]",
      "text/plain": [
       "<Figure size 432x288 with 1 Axes>"
      ]
     },
     "metadata": {
      "needs_background": "light"
     },
     "output_type": "display_data"
    },
    {
     "data": {
      "image/png": "[encoded data removed]",
      "text/plain": [
       "<Figure size 432x288 with 1 Axes>"
      ]
     },
     "metadata": {
      "needs_background": "light"
     },
     "output_type": "display_data"
    }
   ],
   "source": [
    "# convert list of PEs to np\n",
    "PEs = np.asarray(none_total)\n",
    "# Plot the histogram\n",
    "plt.hist(PEs, bins = 50)\n",
    "# Show the actual data\n",
    "plt.axvline(x=avg_np, color='r', linestyle='dashed', linewidth=2)\n",
    "# Title\n",
    "plt.title('No prime')\n",
    "# Calculate the P-value\n",
    "p_val = ((PEs < avg_np).sum())/N_perms\n",
    "print('The p value for no prime entropy is ', p_val)\n",
    "\n",
    "\n",
    "#Loc\n",
    "\n",
    "plt.figure()\n",
    "# convert list of PEs to np\n",
    "PEs = np.asarray(loc_total)\n",
    "# Plot the histogram\n",
    "plt.hist(PEs, bins = 50)\n",
    "# Show the actual data\n",
    "plt.axvline(x=avg_l, color='r', linestyle='dashed', linewidth=2)\n",
    "# Title\n",
    "plt.title('loc prime')\n",
    "# Calculate the P-value\n",
    "p_val = ((PEs < avg_l).sum())/N_perms\n",
    "print('The p value for loc prime entropy is is ', p_val)\n",
    "\n",
    "#Soc\n",
    "\n",
    "plt.figure()\n",
    "# convert list of PEs to np\n",
    "PEs = np.asarray(soc_total)\n",
    "# Plot the histogram\n",
    "plt.hist(PEs, bins = 50)\n",
    "# Show the actual data\n",
    "plt.axvline(x=avg_s, color='r', linestyle='dashed', linewidth=2)\n",
    "# Title\n",
    "plt.title('soc prime')\n",
    "# Calculate the P-value\n",
    "p_val = ((PEs < avg_s).sum())/N_perms\n",
    "print('The p value for soc prime entropy is is ', p_val)\n"
   ]
  },
  {
   "cell_type": "code",
   "execution_count": 27,
   "metadata": {},
   "outputs": [
    {
     "data": {
      "text/plain": [
       "array([[1, 1, 0, 0, 0, 0, 0, 1, 0, 0, 1, 1, 1, 0, 0, 0, 1, 0, 0, 1, 0, 0,\n",
       "        0, 1],\n",
       "       [0, 0, 0, 1, 0, 1, 1, 1, 0, 0, 1, 0, 1, 1, 1, 0, 0, 0, 0, 1, 0, 0,\n",
       "        0, 1],\n",
       "       [0, 0, 0, 0, 0, 0, 0, 0, 0, 0, 0, 0, 1, 0, 0, 0, 0, 0, 0, 0, 0, 0,\n",
       "        1, 1],\n",
       "       [0, 1, 0, 1, 1, 1, 1, 0, 1, 1, 1, 1, 0, 1, 1, 1, 0, 0, 0, 1, 1, 1,\n",
       "        1, 1]])"
      ]
     },
     "execution_count": 27,
     "metadata": {},
     "output_type": "execute_result"
    }
   ],
   "source": [
    "k[0:4]"
   ]
  },
  {
   "cell_type": "code",
   "execution_count": 25,
   "metadata": {},
   "outputs": [
    {
     "data": {
      "text/plain": [
       "{11: array([2, 4, 0, 7, 0, 1, 1, 2, 3, 1, 2, 2, 2, 2, 1, 1, 1, 7, 0, 2, 1, 1,\n",
       "        1, 6, 2, 1, 1, 0, 1, 2, 4, 1, 0, 1, 6, 2, 2, 3, 1, 0]),\n",
       " 33: array([4, 4, 1, 4, 1, 1, 2, 1, 1, 3, 0, 0, 0, 2, 2, 1, 1, 6, 1, 1, 4, 2,\n",
       "        0, 1, 2, 4, 2, 4, 5, 3, 1]),\n",
       " 44: array([1, 2, 2, 1, 2, 0, 4, 0, 0, 2, 2, 0, 0, 0, 0, 1, 4, 1, 0, 5, 0, 0,\n",
       "        5, 3, 0, 0, 1]),\n",
       " 23: array([1, 1, 1, 2, 3, 5, 1, 1, 1, 2, 0, 2, 2, 0, 5, 2, 1, 3, 0, 4, 0, 0,\n",
       "        0, 1, 1, 0, 1, 0, 1, 0, 0, 1, 1, 1, 4, 2, 2, 1]),\n",
       " 32: array([0, 2, 2, 0, 0, 2, 2, 2, 0, 0, 3, 1, 0, 1, 0, 5, 0, 0, 3, 0, 0, 0,\n",
       "        1, 3, 1, 0, 0, 1, 0, 2, 2, 1]),\n",
       " 22: array([2, 6, 2, 0, 0, 0, 3, 1, 2, 1, 0, 0, 0, 0, 0, 1, 1, 0, 2, 0, 0, 1,\n",
       "        0, 2, 1, 1, 3, 0, 0, 2, 1, 1, 2, 3, 2, 0]),\n",
       " 34: array([3, 2, 2, 1, 2, 2, 0, 4, 1, 0, 3, 0, 0, 0, 3, 0, 3, 0, 0, 0, 1, 3,\n",
       "        0, 2, 1, 0]),\n",
       " 43: array([0, 0, 1, 2, 2, 0, 1, 0, 2, 0, 4, 0, 3, 0, 0, 0, 0, 2, 0, 0, 1, 0,\n",
       "        0, 0, 5, 0, 0, 0]),\n",
       " 14: array([0, 0, 5, 0, 1, 1, 0, 3, 5, 0, 1, 1, 5, 2, 2, 2, 5, 0, 1, 4, 0, 6,\n",
       "        2, 1, 1, 6, 0, 0, 0, 5, 2, 0]),\n",
       " 24: array([2, 2, 1, 0, 3, 1, 1, 0, 1, 2, 2, 0, 0, 0, 3, 1, 0, 1, 2, 2, 0, 0,\n",
       "        1, 0, 1, 0, 1, 1, 1, 3, 2]),\n",
       " 42: array([0, 5, 3, 1, 2, 1, 1, 2, 1, 2, 2, 1, 2, 1, 0, 5, 1, 4, 2, 0, 0, 1,\n",
       "        4, 0, 1, 4, 0, 0, 2, 1, 2, 2, 2, 2]),\n",
       " 41: array([1, 2, 2, 2, 3, 4, 1, 1, 2, 1, 1, 2, 2, 0, 2, 0, 0, 0, 0, 0, 2, 4,\n",
       "        1, 2, 1, 0, 3, 1, 1, 2, 2, 1, 2, 3, 1, 1]),\n",
       " 13: array([1, 7, 2, 0, 1, 3, 0, 0, 1, 0, 3, 5, 0, 0, 1, 8, 1, 2, 0, 0, 5, 0,\n",
       "        4, 0, 1, 0, 0, 0, 0, 0]),\n",
       " 31: array([3, 2, 1, 1, 2, 0, 1, 0, 0, 6, 0, 0, 0, 0, 0, 0, 5, 0, 5, 1, 0, 0,\n",
       "        0, 0, 2, 6, 0, 0, 0, 2, 3, 1, 0, 0, 0]),\n",
       " 21: array([0, 2, 1, 1, 1, 1, 0, 2, 0, 1, 2, 0, 2, 0, 0, 0, 3, 1, 0, 1, 2, 0,\n",
       "        0, 0, 0, 0, 0, 2, 1]),\n",
       " 12: array([0, 1, 2, 4, 0, 2, 1, 2, 1, 0, 5, 1, 0, 1, 1, 0, 1, 0, 0, 1, 0, 0,\n",
       "        0, 3, 0, 1, 0, 1, 0, 0])}"
      ]
     },
     "execution_count": 25,
     "metadata": {},
     "output_type": "execute_result"
    }
   ],
   "source": [
    "sum_keys_np"
   ]
  },
  {
   "cell_type": "code",
   "execution_count": null,
   "metadata": {},
   "outputs": [],
   "source": []
  }
 ],
 "metadata": {
  "kernelspec": {
   "display_name": "Python 3",
   "language": "python",
   "name": "python3"
  },
  "language_info": {
   "codemirror_mode": {
    "name": "ipython",
    "version": 3
   },
   "file_extension": ".py",
   "mimetype": "text/x-python",
   "name": "python",
   "nbconvert_exporter": "python",
   "pygments_lexer": "ipython3",
   "version": "3.6.8"
  }
 },
 "nbformat": 4,
 "nbformat_minor": 2
}
