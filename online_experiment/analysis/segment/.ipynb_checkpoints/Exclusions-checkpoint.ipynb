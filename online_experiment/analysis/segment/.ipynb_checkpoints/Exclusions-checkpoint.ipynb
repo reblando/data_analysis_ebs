{
 "cells": [
  {
   "cell_type": "markdown",
   "metadata": {},
   "source": [
    "# Exclusions for segmentation analysis\n",
    "### 11/6/20 "
   ]
  },
  {
   "cell_type": "code",
   "execution_count": 1,
   "metadata": {},
   "outputs": [
    {
     "data": {
      "application/javascript": [
       "IPython.notebook.set_autosave_interval(5000)"
      ]
     },
     "metadata": {},
     "output_type": "display_data"
    },
    {
     "name": "stdout",
     "output_type": "stream",
     "text": [
      "Autosaving every 5 seconds\n"
     ]
    }
   ],
   "source": [
    "import pandas as pd\n",
    "import numpy as np\n",
    "import plotly.graph_objs as go\n",
    "import plotly.plotly as py\n",
    "import plotly\n",
    "import os\n",
    "import glob\n",
    "import math\n",
    "import statistics\n",
    "import matplotlib.pyplot as plt\n",
    "import seaborn as sns\n",
    "import pickle\n",
    "import copy\n",
    "from random import randrange\n",
    "from sklearn.metrics import jaccard_score\n",
    "import random\n",
    "%autosave 5"
   ]
  },
  {
   "cell_type": "markdown",
   "metadata": {},
   "source": [
    "# Using the imac?"
   ]
  },
  {
   "cell_type": "code",
   "execution_count": 2,
   "metadata": {},
   "outputs": [],
   "source": [
    "imac = 1"
   ]
  },
  {
   "cell_type": "markdown",
   "metadata": {},
   "source": [
    "# I. Import data"
   ]
  },
  {
   "cell_type": "code",
   "execution_count": 3,
   "metadata": {},
   "outputs": [],
   "source": [
    "if imac == 0:\n",
    "    filename = '/Users/alexreblando/Documents/GitHub/data_analysis_ebs/online_experiment/analysis/parsing_log_file/pickle/data_dict_pilots_b1_b2_b3_b4_b5_b6.p'\n",
    "    #filename = '/Users/alexreblando/Documents/GitHub/data_analysis_ebs/online_experiment/analysis/parsing_log_file/pickle/data_dict_b6.p'\n",
    "elif imac == 1:\n",
    "    filename = '/Users/alexreblando/Library/Mobile Documents/com~apple~CloudDocs/Documents/GitHub/data_analysis_ebs/online_experiment/analysis/parsing_log_file/pickle/data_dict_pilots_b1_b2_b3_b4_b5_b6.p'\n",
    "    \n",
    "data_dict = pickle.load( open( filename, \"rb\" ) )\n",
    "og_n = len(data_dict)"
   ]
  },
  {
   "cell_type": "markdown",
   "metadata": {},
   "source": [
    "# II. Story files\n",
    "## A. import story files"
   ]
  },
  {
   "cell_type": "code",
   "execution_count": 1,
   "metadata": {},
   "outputs": [
    {
     "ename": "NameError",
     "evalue": "name 'imac' is not defined",
     "output_type": "error",
     "traceback": [
      "\u001b[0;31m---------------------------------------------------------------------------\u001b[0m",
      "\u001b[0;31mNameError\u001b[0m                                 Traceback (most recent call last)",
      "\u001b[0;32m<ipython-input-1-42ffc280640f>\u001b[0m in \u001b[0;36m<module>\u001b[0;34m\u001b[0m\n\u001b[0;32m----> 1\u001b[0;31m \u001b[0;32mif\u001b[0m \u001b[0mimac\u001b[0m \u001b[0;34m==\u001b[0m \u001b[0;36m0\u001b[0m\u001b[0;34m:\u001b[0m\u001b[0;34m\u001b[0m\u001b[0;34m\u001b[0m\u001b[0m\n\u001b[0m\u001b[1;32m      2\u001b[0m     \u001b[0mdirectory_stories\u001b[0m \u001b[0;34m=\u001b[0m \u001b[0;34m'/Users/alexreblando/Documents/GitHub/ebs/fMRI experiment/1:8:2020_edited_stories'\u001b[0m\u001b[0;34m\u001b[0m\u001b[0;34m\u001b[0m\u001b[0m\n\u001b[1;32m      3\u001b[0m \u001b[0;32melif\u001b[0m \u001b[0mimac\u001b[0m \u001b[0;34m==\u001b[0m \u001b[0;36m1\u001b[0m\u001b[0;34m:\u001b[0m\u001b[0;34m\u001b[0m\u001b[0;34m\u001b[0m\u001b[0m\n\u001b[1;32m      4\u001b[0m     \u001b[0mdirectory_stories\u001b[0m \u001b[0;34m=\u001b[0m \u001b[0;34m'/Users/alexreblando/Desktop/ebs/fMRI experiment/1:8:2020_edited_stories'\u001b[0m\u001b[0;34m\u001b[0m\u001b[0;34m\u001b[0m\u001b[0m\n\u001b[1;32m      5\u001b[0m \u001b[0;34m\u001b[0m\u001b[0m\n",
      "\u001b[0;31mNameError\u001b[0m: name 'imac' is not defined"
     ]
    }
   ],
   "source": [
    "if imac == 0:\n",
    "    directory_stories = '/Users/alexreblando/Documents/GitHub/ebs/fMRI experiment/1:8:2020_edited_stories'\n",
    "elif imac == 1:\n",
    "    directory_stories = '/Users/alexreblando/Desktop/ebs/fMRI experiment/1:8:2020_edited_stories'   \n",
    "\n",
    "filenames_stories = glob.glob(directory_stories + '/*.xlsx')\n",
    "\n",
    "dfs_stories = []\n",
    "    \n",
    "for filename in filenames_stories:\n",
    "    dfs_stories.append(pd.read_excel(filename))"
   ]
  },
  {
   "cell_type": "markdown",
   "metadata": {},
   "source": [
    "## B. organize putative event boundaries"
   ]
  },
  {
   "cell_type": "code",
   "execution_count": 9,
   "metadata": {},
   "outputs": [],
   "source": [
    "#mark the boundaries with a '1'\n",
    "#output: story_boundaries, where the first column has the location boundaries and the second column has the social\n",
    "#boundaries\n",
    "\n",
    "story_boundaries = dict()\n",
    "\n",
    "#read in the location and social event values from the story files \n",
    "for s in range(16):\n",
    "    this_story = int(dfs_stories[s]['story'].iloc[0])\n",
    "    keys2 = dfs_stories[s]['locationEvent'].values\n",
    "    keys3 = dfs_stories[s]['socialEvent'].values\n",
    "    story_boundaries[this_story] = keys2[:, np.newaxis]\n",
    "    story_boundaries[this_story] = np.concatenate((story_boundaries[this_story], keys3[:, np.newaxis]), axis = 1)\n",
    "    \n",
    "#mark the changes or boundaries from one event to another with a '1' and delete first two columns\n",
    "for key in story_boundaries:\n",
    "    location = story_boundaries[key][:,0]\n",
    "    social = story_boundaries[key][:,1]\n",
    "    for i in range(0, len(location)):  \n",
    "        if location[i] > location[i-1]:\n",
    "            location[i] = 7\n",
    "    for i in range(0, len(location)):  \n",
    "        if location[i] != 7:\n",
    "            location[i] = 0\n",
    "    for i in range(0, len(social)):\n",
    "        if social[i] > social[i - 1]:\n",
    "            social[i] = 7\n",
    "    for i in range(0, len(social)):\n",
    "        if social[i] != 7:\n",
    "            social[i] = 0\n",
    "    location[0] = 7\n",
    "    social[0] = 7\n",
    "    location2 = location > 1\n",
    "    social2 = social > 1\n",
    "    location2 = location2.astype(int)\n",
    "    social2 = social2.astype(int)\n",
    "    story_boundaries[key] = np.concatenate((story_boundaries[key], location2[:, np.newaxis]), axis = 1) \n",
    "    story_boundaries[key] = np.concatenate((story_boundaries[key], social2[:, np.newaxis]), axis = 1)\n",
    "    story_boundaries[key] = np.delete(story_boundaries[key] ,np.s_[0:2],axis=1)"
   ]
  },
  {
   "cell_type": "markdown",
   "metadata": {},
   "source": [
    "# III. Exclusions\n",
    "## A. Exclusion of participants who only pressed '1' or '9' (not including first row 10/14)"
   ]
  },
  {
   "cell_type": "code",
   "execution_count": 10,
   "metadata": {},
   "outputs": [
    {
     "name": "stdout",
     "output_type": "stream",
     "text": [
      "/Users/alexreblando/Documents/GitHub/data_analysis_ebs/online_experiment/data/pilot2/8/PARTICIPANT_1_online_exp_2020-05-11_12h52.50.131\n",
      "/Users/alexreblando/Documents/GitHub/data_analysis_ebs/online_experiment/data/pilot3/4/PARTICIPANT_1_online_exp_2020-05-20_17h03.06.828\n",
      "/Users/alexreblando/Documents/GitHub/data_analysis_ebs/online_experiment/data/finalver_p/10/23_1_online_exp_2020-06-09_13h39.42.955\n",
      "/Users/alexreblando/Documents/GitHub/data_analysis_ebs/online_experiment/data/finalver_b1/33/145_1_online_exp_2020-06-10_15h14.14.911\n",
      "/Users/alexreblando/Documents/GitHub/data_analysis_ebs/online_experiment/data/finalver_b1/33/171_1_online_exp_2020-06-10_21h32.27.534\n",
      "/Users/alexreblando/Documents/GitHub/data_analysis_ebs/online_experiment/data/finalver_b1/33/33_1_online_exp_2020-06-10_21h03.35.215\n",
      "/Users/alexreblando/Documents/GitHub/data_analysis_ebs/online_experiment/data/finalver_b2/30/201_1_online_exp_2020-06-24_15h33.47.631\n",
      "/Users/alexreblando/Documents/GitHub/data_analysis_ebs/online_experiment/data/finalver_b3/45/390_1_online_exp_2020-07-16_09h07.46.666\n",
      "/Users/alexreblando/Documents/GitHub/data_analysis_ebs/online_experiment/data/finalver_b3/45/418_1_online_exp_2020-07-16_09h12.22.806\n",
      "/Users/alexreblando/Documents/GitHub/data_analysis_ebs/online_experiment/data/finalver_b3/45/453_1_online_exp_2020-07-16_09h38.17.431\n",
      "/Users/alexreblando/Documents/GitHub/data_analysis_ebs/online_experiment/data/finalver_b5/78/133_1_online_exp_2020-09-28_12h53.08.731\n",
      "/Users/alexreblando/Documents/GitHub/data_analysis_ebs/online_experiment/data/finalver_b5/78/149_1_online_exp_2020-09-28_15h51.38.989\n",
      "/Users/alexreblando/Documents/GitHub/data_analysis_ebs/online_experiment/data/finalver_b5/78/365_1_online_exp_2020-09-29_11h56.33.278\n",
      "/Users/alexreblando/Documents/GitHub/data_analysis_ebs/online_experiment/data/finalver_b5/78/368_1_online_exp_2020-09-29_14h57.34.267\n",
      "/Users/alexreblando/Documents/GitHub/data_analysis_ebs/online_experiment/data/finalver_b5/78/373_1_online_exp_2020-09-29_12h00.12.404\n",
      "/Users/alexreblando/Documents/GitHub/data_analysis_ebs/online_experiment/data/finalver_b5/78/381_1_online_exp_2020-09-29_12h22.28.997\n",
      "/Users/alexreblando/Documents/GitHub/data_analysis_ebs/online_experiment/data/finalver_b5/78/391_1_online_exp_2020-09-29_15h39.59.952\n",
      "/Users/alexreblando/Documents/GitHub/data_analysis_ebs/online_experiment/data/finalver_b5/78/394_1_online_exp_2020-09-29_12h55.24.161\n",
      "/Users/alexreblando/Documents/GitHub/data_analysis_ebs/online_experiment/data/finalver_b5/78/44_1_online_exp_2020-09-28_15h34.20.335\n",
      "/Users/alexreblando/Documents/GitHub/data_analysis_ebs/online_experiment/data/finalver_b5/78/55_1_online_exp_2020-09-28_15h31.54.406\n",
      "/Users/alexreblando/Documents/GitHub/data_analysis_ebs/online_experiment/data/finalver_b6/76/49_1_online_exp_2020-10-20_12h37.36.451\n",
      "/Users/alexreblando/Documents/GitHub/data_analysis_ebs/online_experiment/data/finalver_b6/76/84_1_online_exp_2020-10-20_13h00.42.305\n"
     ]
    }
   ],
   "source": [
    "keys_to_del = []\n",
    "for key in data_dict:\n",
    "    kp = data_dict[key]['story_presses']\n",
    "    kp_i = kp.iloc[1:]\n",
    "    check_kp_i = len(set(kp_i))\n",
    "    if check_kp_i == 1:\n",
    "        #print(key)\n",
    "        #print(data_dict[key]['prolific_id'].iloc[0])\n",
    "        keys_to_del.append(key)\n",
    "        \n",
    "for i in range(0, len(keys_to_del)):\n",
    "    print(keys_to_del[i])\n",
    "    del data_dict[keys_to_del[i]]\n",
    "    \n",
    "e1 = len(keys_to_del)"
   ]
  },
  {
   "cell_type": "markdown",
   "metadata": {},
   "source": [
    "## B. Exclusion of participants who didn't answer short answers"
   ]
  },
  {
   "cell_type": "code",
   "execution_count": 11,
   "metadata": {},
   "outputs": [],
   "source": [
    "del data_dict['/Users/alexreblando/Documents/GitHub/data_analysis_ebs/online_experiment/data/finalver_b1/33/73_1_online_exp_2020-06-10_14h37.05.252']\n",
    "del data_dict['/Users/alexreblando/Documents/GitHub/data_analysis_ebs/online_experiment/data/finalver_b2/30/199_1_online_exp_2020-06-24_20h41.05.680']\n",
    "del data_dict['/Users/alexreblando/Documents/GitHub/data_analysis_ebs/online_experiment/data/finalver_b3/45/345_1_online_exp_2020-07-16_09h07.09.087']\n",
    "del data_dict['/Users/alexreblando/Documents/GitHub/data_analysis_ebs/online_experiment/data/finalver_b6/76/39_1_online_exp_2020-10-20_13h05.53.446']\n",
    "del data_dict['/Users/alexreblando/Documents/GitHub/data_analysis_ebs/online_experiment/data/finalver_b6/76/31_1_online_exp_2020-10-20_11h38.47.446']\n",
    "\n",
    "e2 = 5"
   ]
  },
  {
   "cell_type": "markdown",
   "metadata": {},
   "source": [
    "## C. Exclusion of participant with no data"
   ]
  },
  {
   "cell_type": "code",
   "execution_count": 12,
   "metadata": {},
   "outputs": [],
   "source": [
    "del data_dict['/Users/alexreblando/Documents/GitHub/data_analysis_ebs/online_experiment/data/finalver_b6/76/6_1_online_exp_2020-10-20_10h04.26.275']\n",
    "\n",
    "e3 = 1"
   ]
  },
  {
   "cell_type": "markdown",
   "metadata": {},
   "source": [
    "## D. Exclusion of participants who said said more than half the sentences were a boundary"
   ]
  },
  {
   "cell_type": "code",
   "execution_count": 13,
   "metadata": {},
   "outputs": [
    {
     "name": "stdout",
     "output_type": "stream",
     "text": [
      "/Users/alexreblando/Documents/GitHub/data_analysis_ebs/online_experiment/data/pilot2/8/PARTICIPANT_1_online_exp_2020-05-11_20h42.51.597\n",
      "5ce5b9844cd8130019acba32\n",
      "/Users/alexreblando/Documents/GitHub/data_analysis_ebs/online_experiment/data/pilot4/7/PARTICIPANT_1_online_exp_2020-05-27_21h05.22.618\n",
      "5d46c556fb0ce0001a04fd01\n",
      "/Users/alexreblando/Documents/GitHub/data_analysis_ebs/online_experiment/data/finalver_p/10/18_1_online_exp_2020-06-06_14h58.27.858\n",
      "571ceeb64ca277000953d1c1\n",
      "/Users/alexreblando/Documents/GitHub/data_analysis_ebs/online_experiment/data/finalver_p/10/21_1_online_exp_2020-06-06_15h20.03.392\n",
      "5eda9f7c460b766ded73bdb7\n",
      "/Users/alexreblando/Documents/GitHub/data_analysis_ebs/online_experiment/data/finalver_p/10/24_1_online_exp_2020-06-09_20h39.35.048\n",
      "5ea616a090d52b61615dfb3b\n",
      "/Users/alexreblando/Documents/GitHub/data_analysis_ebs/online_experiment/data/finalver_b1/33/152_1_online_exp_2020-06-10_21h15.29.074\n",
      "5d331b4c9ce6590019010930\n",
      "/Users/alexreblando/Documents/GitHub/data_analysis_ebs/online_experiment/data/finalver_b1/33/174_1_online_exp_2020-06-10_21h49.17.497\n",
      "5c12ce5fd3f0d1000108430a \n",
      "/Users/alexreblando/Documents/GitHub/data_analysis_ebs/online_experiment/data/finalver_b1/33/177_1_online_exp_2020-06-10_14h45.30.620\n",
      "5eaa51883bf0061e3b4c5ea9\n",
      "/Users/alexreblando/Documents/GitHub/data_analysis_ebs/online_experiment/data/finalver_b1/33/45_1_online_exp_2020-06-10_21h04.34.685\n",
      "598c282ccceb0f0001b39660\n",
      "/Users/alexreblando/Documents/GitHub/data_analysis_ebs/online_experiment/data/finalver_b1/33/54_1_online_exp_2020-06-10_21h04.39.965\n",
      "5def01c28def535b96fa6133\n",
      "/Users/alexreblando/Documents/GitHub/data_analysis_ebs/online_experiment/data/finalver_b2/30/195_1_online_exp_2020-06-24_09h34.43.267\n",
      "55a43687fdf99b7da1908e0f\n",
      "/Users/alexreblando/Documents/GitHub/data_analysis_ebs/online_experiment/data/finalver_b3/45/361_1_online_exp_2020-07-16_04h07.12.067\n",
      "5ed478fa7d20a043b7c3be83\n",
      "/Users/alexreblando/Documents/GitHub/data_analysis_ebs/online_experiment/data/finalver_b3/45/378_1_online_exp_2020-07-16_09h08.18.318\n",
      "5ebee71b8565892a3d0b5053\n",
      "/Users/alexreblando/Documents/GitHub/data_analysis_ebs/online_experiment/data/finalver_b3/45/423_1_online_exp_2020-07-16_09h16.01.241\n",
      "5b200bbd325d600001c041c0\n",
      "/Users/alexreblando/Documents/GitHub/data_analysis_ebs/online_experiment/data/finalver_b4/29/481_1_online_exp_2020-07-29_11h19.40.738\n",
      "5c3d4b92486a390001e87dfe\n",
      "/Users/alexreblando/Documents/GitHub/data_analysis_ebs/online_experiment/data/finalver_b4/29/498_1_online_exp_2020-07-29_19h27.55.516\n",
      "566feba6b937e400052d33b2\n",
      "/Users/alexreblando/Documents/GitHub/data_analysis_ebs/online_experiment/data/finalver_b5/78/102_1_online_exp_2020-09-28_15h37.58.717\n",
      "5f6053d2be7a76000a54da0a\n",
      "/Users/alexreblando/Documents/GitHub/data_analysis_ebs/online_experiment/data/finalver_b5/78/130_1_online_exp_2020-09-28_21h06.20.693\n",
      "5f6f98d7e8a28b532f5a99d9\n",
      "/Users/alexreblando/Documents/GitHub/data_analysis_ebs/online_experiment/data/finalver_b5/78/1_1_online_exp_2020-09-28_07h31.38.797\n",
      "5c3341bc21f99c000175c5cc\n",
      "/Users/alexreblando/Documents/GitHub/data_analysis_ebs/online_experiment/data/finalver_b5/78/372_1_online_exp_2020-09-29_12h02.31.088\n",
      "5f58fdc20fcd710ce090cdc1\n",
      "/Users/alexreblando/Documents/GitHub/data_analysis_ebs/online_experiment/data/finalver_b5/78/380_1_online_exp_2020-09-29_12h16.03.130\n",
      "5f50d96e44327d254d59bce7\n",
      "/Users/alexreblando/Documents/GitHub/data_analysis_ebs/online_experiment/data/finalver_b5/78/406_1_online_exp_2020-09-30_19h26.43.920\n",
      "5f4cee33fa974e05995a92bd\n",
      "/Users/alexreblando/Documents/GitHub/data_analysis_ebs/online_experiment/data/finalver_b5/78/43_1_online_exp_2020-09-28_14h31.57.716\n",
      "5be8353e33f40a0001031d7a\n",
      "/Users/alexreblando/Documents/GitHub/data_analysis_ebs/online_experiment/data/finalver_b6/76/131_1_online_exp_2020-10-20_11h58.59.556\n",
      "5f88564087e5152dbbeba343\n",
      "/Users/alexreblando/Documents/GitHub/data_analysis_ebs/online_experiment/data/finalver_b6/76/151_1_online_exp_2020-10-20_15h55.38.330\n",
      "5f8aa2f3c9a603151ac60028\n",
      "/Users/alexreblando/Documents/GitHub/data_analysis_ebs/online_experiment/data/finalver_b6/76/154_1_online_exp_2020-10-20_11h54.23.748\n",
      "5f8035891dbfae0101a4010c\n",
      "/Users/alexreblando/Documents/GitHub/data_analysis_ebs/online_experiment/data/finalver_b6/76/156_1_online_exp_2020-10-20_13h56.22.687\n",
      "5a80d4e4f49c9a0001f35cb2\n",
      "/Users/alexreblando/Documents/GitHub/data_analysis_ebs/online_experiment/data/finalver_b6/76/160_1_online_exp_2020-10-20_12h03.36.343\n",
      "5f6aa61123368b1893fd12d6\n",
      "/Users/alexreblando/Documents/GitHub/data_analysis_ebs/online_experiment/data/finalver_b6/76/175_1_online_exp_2020-10-20_11h51.21.537\n",
      "5f87229eedaff10de2c1844a\n",
      "/Users/alexreblando/Documents/GitHub/data_analysis_ebs/online_experiment/data/finalver_b6/76/195_1_online_exp_2020-10-20_19h27.48.616\n",
      "5e3df34cfb9ed506f1028bb5\n",
      "/Users/alexreblando/Documents/GitHub/data_analysis_ebs/online_experiment/data/finalver_b6/76/24_1_online_exp_2020-10-20_12h38.42.429\n",
      " 5f0a2aa2185c8d0ee2e67d34\n",
      "/Users/alexreblando/Documents/GitHub/data_analysis_ebs/online_experiment/data/finalver_b6/76/32_1_online_exp_2020-10-20_09h35.32.627\n",
      "5f8751ae5b5907159b2f67d4\n",
      "/Users/alexreblando/Documents/GitHub/data_analysis_ebs/online_experiment/data/finalver_b6/76/5_1_online_exp_2020-10-20_10h01.28.672\n",
      "5f8eef372ace000b7ce1dca4\n",
      "/Users/alexreblando/Documents/GitHub/data_analysis_ebs/online_experiment/data/finalver_b6/76/76_1_online_exp_2020-10-20_10h15.21.840\n",
      "5f8c971713143e0eeebdcd15\n"
     ]
    }
   ],
   "source": [
    "keys_to_del = []\n",
    "\n",
    "for key in data_dict:\n",
    "    kp = data_dict[key]['story_presses']\n",
    "    N_kp= np.sum(kp == 9)\n",
    "    this_story = data_dict[key]['story'].iloc[0]\n",
    "    half_story_len = np.rint(len(story_boundaries[this_story])/2)\n",
    "    if N_kp >= half_story_len:\n",
    "        print(key)\n",
    "        print(data_dict[key]['prolific_id'].iloc[0])\n",
    "        keys_to_del.append(key)\n",
    "        \n",
    "for i in range(0, len(keys_to_del)):\n",
    "    del data_dict[keys_to_del[i]]\n",
    "    \n",
    "e4 = len(keys_to_del)\n",
    "new_n = len(data_dict)"
   ]
  },
  {
   "cell_type": "markdown",
   "metadata": {},
   "source": [
    "## E. Summary"
   ]
  },
  {
   "cell_type": "code",
   "execution_count": 17,
   "metadata": {},
   "outputs": [
    {
     "name": "stdout",
     "output_type": "stream",
     "text": [
      "The starting number of data is  327\n",
      "The number of exclusions due to only one type of keypress is  22\n",
      "The number of exclusions due to not answer the short answers is  5\n",
      "The number of exclusions due to the participant have no useful data is  1\n",
      "The number of exclusions due to participant saying more than half the sentences are event boundaries  34\n",
      "The usable number of data is  265\n"
     ]
    }
   ],
   "source": [
    "print('The starting number of data is ', og_n)\n",
    "print('The number of exclusions due to only one type of keypress is ', e1)\n",
    "print('The number of exclusions due to not answer the short answers is ', e2)\n",
    "print('The number of exclusions due to the participant have no useful data is ', e3)\n",
    "print('The number of exclusions due to participant saying more than half the sentences are event boundaries ', e4)\n",
    "print('The usable number of data is ', new_n)"
   ]
  },
  {
   "cell_type": "markdown",
   "metadata": {},
   "source": [
    "## F. Pickling data_dict for further use"
   ]
  },
  {
   "cell_type": "code",
   "execution_count": 18,
   "metadata": {},
   "outputs": [],
   "source": [
    "pickle.dump( data_dict, open( 'usable_data', \"wb\" ) )"
   ]
  },
  {
   "cell_type": "code",
   "execution_count": null,
   "metadata": {},
   "outputs": [],
   "source": []
  }
 ],
 "metadata": {
  "kernelspec": {
   "display_name": "Python 3",
   "language": "python",
   "name": "python3"
  },
  "language_info": {
   "codemirror_mode": {
    "name": "ipython",
    "version": 3
   },
   "file_extension": ".py",
   "mimetype": "text/x-python",
   "name": "python",
   "nbconvert_exporter": "python",
   "pygments_lexer": "ipython3",
   "version": "3.6.8"
  }
 },
 "nbformat": 4,
 "nbformat_minor": 2
}
