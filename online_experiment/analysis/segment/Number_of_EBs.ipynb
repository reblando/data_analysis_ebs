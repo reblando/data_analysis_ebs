{
 "cells": [
  {
   "cell_type": "markdown",
   "metadata": {},
   "source": [
    "# Comparing number of event boundaries\n",
    "### Started October 7, 2020"
   ]
  },
  {
   "cell_type": "code",
   "execution_count": 1,
   "metadata": {},
   "outputs": [
    {
     "data": {
      "application/javascript": [
       "IPython.notebook.set_autosave_interval(5000)"
      ]
     },
     "metadata": {},
     "output_type": "display_data"
    },
    {
     "name": "stdout",
     "output_type": "stream",
     "text": [
      "Autosaving every 5 seconds\n"
     ]
    }
   ],
   "source": [
    "import pandas as pd\n",
    "import numpy as np\n",
    "import plotly.graph_objs as go\n",
    "import plotly.plotly as py\n",
    "import plotly\n",
    "import os\n",
    "import glob\n",
    "import math\n",
    "import statistics\n",
    "import matplotlib.pyplot as plt\n",
    "import seaborn as sns\n",
    "import pickle\n",
    "import copy\n",
    "from random import randrange\n",
    "import random\n",
    "from sklearn.metrics import jaccard_score\n",
    "from sklearn import datasets, linear_model\n",
    "from scipy import stats\n",
    "%autosave 5"
   ]
  },
  {
   "cell_type": "markdown",
   "metadata": {},
   "source": [
    "### i. Import data"
   ]
  },
  {
   "cell_type": "code",
   "execution_count": 2,
   "metadata": {},
   "outputs": [],
   "source": [
    "filename = '/Users/alexreblando/Documents/GitHub/data_analysis_ebs/online_experiment/analysis/parsing_log_file/pickle/data_dict_pilots_b1_b2_b3_b4_b5.p'\n",
    "data_dict = pickle.load( open( filename, \"rb\" ) )"
   ]
  },
  {
   "cell_type": "markdown",
   "metadata": {},
   "source": [
    "### ii. import and organize story files\n",
    "#### a. Import file"
   ]
  },
  {
   "cell_type": "code",
   "execution_count": 5,
   "metadata": {},
   "outputs": [],
   "source": [
    "directory_stories = '/Users/alexreblando/Documents/GitHub/ebs/fMRI experiment/1:8:2020_edited_stories'\n",
    "\n",
    "filenames_stories = glob.glob(directory_stories + '/*.xlsx')\n",
    "\n",
    "dfs_stories = []\n",
    "    \n",
    "for filename in filenames_stories:\n",
    "    dfs_stories.append(pd.read_excel(filename))"
   ]
  },
  {
   "cell_type": "markdown",
   "metadata": {},
   "source": [
    "#### b. organize putative event boundaries"
   ]
  },
  {
   "cell_type": "code",
   "execution_count": 6,
   "metadata": {},
   "outputs": [],
   "source": [
    "#mark the boundaries with a '1'\n",
    "#output: story_boundaries, where the first column has the location boundaries and the second column has the social\n",
    "#boundaries\n",
    "\n",
    "story_boundaries = dict()\n",
    "\n",
    "#read in the location and social event values from the story files \n",
    "for s in range(16):\n",
    "    this_story = int(dfs_stories[s]['story'].iloc[0])\n",
    "    keys2 = dfs_stories[s]['locationEvent'].values\n",
    "    keys3 = dfs_stories[s]['socialEvent'].values\n",
    "    story_boundaries[this_story] = keys2[:, np.newaxis]\n",
    "    story_boundaries[this_story] = np.concatenate((story_boundaries[this_story], keys3[:, np.newaxis]), axis = 1)\n",
    "    \n",
    "#mark the changes or boundaries from one event to another with a '1' and delete first two columns\n",
    "for key in story_boundaries:\n",
    "    location = story_boundaries[key][:,0]\n",
    "    social = story_boundaries[key][:,1]\n",
    "    for i in range(0, len(location)):  \n",
    "        if location[i] > location[i-1]:\n",
    "            location[i] = 7\n",
    "    for i in range(0, len(location)):  \n",
    "        if location[i] != 7:\n",
    "            location[i] = 0\n",
    "    for i in range(0, len(social)):\n",
    "        if social[i] > social[i - 1]:\n",
    "            social[i] = 7\n",
    "    for i in range(0, len(social)):\n",
    "        if social[i] != 7:\n",
    "            social[i] = 0\n",
    "    location[0] = 7\n",
    "    social[0] = 7\n",
    "    location2 = location > 1\n",
    "    social2 = social > 1\n",
    "    location2 = location2.astype(int)\n",
    "    social2 = social2.astype(int)\n",
    "    story_boundaries[key] = np.concatenate((story_boundaries[key], location2[:, np.newaxis]), axis = 1) \n",
    "    story_boundaries[key] = np.concatenate((story_boundaries[key], social2[:, np.newaxis]), axis = 1)\n",
    "    story_boundaries[key] = np.delete(story_boundaries[key] ,np.s_[0:2],axis=1)"
   ]
  },
  {
   "cell_type": "markdown",
   "metadata": {},
   "source": [
    "### iii. Exclusions\n",
    "#### a. exclude participants who only pressed '1' or '9'"
   ]
  },
  {
   "cell_type": "code",
   "execution_count": 7,
   "metadata": {},
   "outputs": [],
   "source": [
    "keys_to_del = []\n",
    "for key in data_dict:\n",
    "    kp = data_dict[key]['story_presses']\n",
    "    kp_i = kp.iloc[1:]\n",
    "    check_kp_i = len(set(kp_i))\n",
    "    if check_kp_i == 1:\n",
    "        print(key)\n",
    "        print(data_dict[key]['prolific_id'].iloc[0])\n",
    "        keys_to_del.append(key)\n",
    "        \n",
    "for i in range(0, len(keys_to_del)):\n",
    "    del data_dict[keys_to_del[i]]"
   ]
  },
  {
   "cell_type": "markdown",
   "metadata": {},
   "source": [
    "#### b. Exclude participants who don't answer short answers"
   ]
  },
  {
   "cell_type": "code",
   "execution_count": 8,
   "metadata": {},
   "outputs": [],
   "source": [
    "del data_dict['/Users/alexreblando/Documents/GitHub/data_analysis_ebs/online_experiment/data/finalver_b1/33/73_1_online_exp_2020-06-10_14h37.05.252']\n",
    "del data_dict['/Users/alexreblando/Documents/GitHub/data_analysis_ebs/online_experiment/data/finalver_b2/30/199_1_online_exp_2020-06-24_20h41.05.680']\n",
    "del data_dict['/Users/alexreblando/Documents/GitHub/data_analysis_ebs/online_experiment/data/finalver_b3/45/345_1_online_exp_2020-07-16_09h07.09.087']"
   ]
  },
  {
   "cell_type": "markdown",
   "metadata": {},
   "source": [
    "#### c. Exclude participants who said said more than half the sentences were a boundary"
   ]
  },
  {
   "cell_type": "code",
   "execution_count": 9,
   "metadata": {},
   "outputs": [
    {
     "name": "stdout",
     "output_type": "stream",
     "text": [
      "/Users/alexreblando/Documents/GitHub/data_analysis_ebs/online_experiment/data/pilot2/8/PARTICIPANT_1_online_exp_2020-05-11_20h42.51.597\n",
      "5ce5b9844cd8130019acba32\n",
      "/Users/alexreblando/Documents/GitHub/data_analysis_ebs/online_experiment/data/pilot4/7/PARTICIPANT_1_online_exp_2020-05-27_21h05.22.618\n",
      "5d46c556fb0ce0001a04fd01\n",
      "/Users/alexreblando/Documents/GitHub/data_analysis_ebs/online_experiment/data/finalver_p/10/18_1_online_exp_2020-06-06_14h58.27.858\n",
      "571ceeb64ca277000953d1c1\n",
      "/Users/alexreblando/Documents/GitHub/data_analysis_ebs/online_experiment/data/finalver_p/10/21_1_online_exp_2020-06-06_15h20.03.392\n",
      "5eda9f7c460b766ded73bdb7\n",
      "/Users/alexreblando/Documents/GitHub/data_analysis_ebs/online_experiment/data/finalver_p/10/24_1_online_exp_2020-06-09_20h39.35.048\n",
      "5ea616a090d52b61615dfb3b\n",
      "/Users/alexreblando/Documents/GitHub/data_analysis_ebs/online_experiment/data/finalver_b1/33/152_1_online_exp_2020-06-10_21h15.29.074\n",
      "5d331b4c9ce6590019010930\n",
      "/Users/alexreblando/Documents/GitHub/data_analysis_ebs/online_experiment/data/finalver_b1/33/174_1_online_exp_2020-06-10_21h49.17.497\n",
      "5c12ce5fd3f0d1000108430a \n",
      "/Users/alexreblando/Documents/GitHub/data_analysis_ebs/online_experiment/data/finalver_b1/33/177_1_online_exp_2020-06-10_14h45.30.620\n",
      "5eaa51883bf0061e3b4c5ea9\n",
      "/Users/alexreblando/Documents/GitHub/data_analysis_ebs/online_experiment/data/finalver_b1/33/45_1_online_exp_2020-06-10_21h04.34.685\n",
      "598c282ccceb0f0001b39660\n",
      "/Users/alexreblando/Documents/GitHub/data_analysis_ebs/online_experiment/data/finalver_b1/33/54_1_online_exp_2020-06-10_21h04.39.965\n",
      "5def01c28def535b96fa6133\n",
      "/Users/alexreblando/Documents/GitHub/data_analysis_ebs/online_experiment/data/finalver_b2/30/195_1_online_exp_2020-06-24_09h34.43.267\n",
      "55a43687fdf99b7da1908e0f\n",
      "/Users/alexreblando/Documents/GitHub/data_analysis_ebs/online_experiment/data/finalver_b3/45/361_1_online_exp_2020-07-16_04h07.12.067\n",
      "5ed478fa7d20a043b7c3be83\n",
      "/Users/alexreblando/Documents/GitHub/data_analysis_ebs/online_experiment/data/finalver_b3/45/378_1_online_exp_2020-07-16_09h08.18.318\n",
      "5ebee71b8565892a3d0b5053\n",
      "/Users/alexreblando/Documents/GitHub/data_analysis_ebs/online_experiment/data/finalver_b3/45/423_1_online_exp_2020-07-16_09h16.01.241\n",
      "5b200bbd325d600001c041c0\n",
      "/Users/alexreblando/Documents/GitHub/data_analysis_ebs/online_experiment/data/finalver_b4/29/481_1_online_exp_2020-07-29_11h19.40.738\n",
      "5c3d4b92486a390001e87dfe\n",
      "/Users/alexreblando/Documents/GitHub/data_analysis_ebs/online_experiment/data/finalver_b4/29/498_1_online_exp_2020-07-29_19h27.55.516\n",
      "566feba6b937e400052d33b2\n",
      "/Users/alexreblando/Documents/GitHub/data_analysis_ebs/online_experiment/data/finalver_b5/78/102_1_online_exp_2020-09-28_15h37.58.717\n",
      "5f6053d2be7a76000a54da0a\n",
      "/Users/alexreblando/Documents/GitHub/data_analysis_ebs/online_experiment/data/finalver_b5/78/130_1_online_exp_2020-09-28_21h06.20.693\n",
      "5f6f98d7e8a28b532f5a99d9\n",
      "/Users/alexreblando/Documents/GitHub/data_analysis_ebs/online_experiment/data/finalver_b5/78/1_1_online_exp_2020-09-28_07h31.38.797\n",
      "5c3341bc21f99c000175c5cc\n",
      "/Users/alexreblando/Documents/GitHub/data_analysis_ebs/online_experiment/data/finalver_b5/78/372_1_online_exp_2020-09-29_12h02.31.088\n",
      "5f58fdc20fcd710ce090cdc1\n",
      "/Users/alexreblando/Documents/GitHub/data_analysis_ebs/online_experiment/data/finalver_b5/78/380_1_online_exp_2020-09-29_12h16.03.130\n",
      "5f50d96e44327d254d59bce7\n",
      "/Users/alexreblando/Documents/GitHub/data_analysis_ebs/online_experiment/data/finalver_b5/78/406_1_online_exp_2020-09-30_19h26.43.920\n",
      "5f4cee33fa974e05995a92bd\n",
      "/Users/alexreblando/Documents/GitHub/data_analysis_ebs/online_experiment/data/finalver_b5/78/43_1_online_exp_2020-09-28_14h31.57.716\n",
      "5be8353e33f40a0001031d7a\n"
     ]
    }
   ],
   "source": [
    "keys_to_del = []\n",
    "\n",
    "for key in data_dict:\n",
    "    kp = data_dict[key]['story_presses']\n",
    "    N_kp= np.sum(kp == 9)\n",
    "    this_story = data_dict[key]['story'].iloc[0]\n",
    "    half_story_len = np.rint(len(story_boundaries[this_story])/2)\n",
    "    if N_kp >= half_story_len:\n",
    "        print(key)\n",
    "        print(data_dict[key]['prolific_id'].iloc[0])\n",
    "        keys_to_del.append(key)\n",
    "        \n",
    "for i in range(0, len(keys_to_del)):\n",
    "    del data_dict[keys_to_del[i]]"
   ]
  },
  {
   "cell_type": "markdown",
   "metadata": {},
   "source": [
    "#### d. Pickle data_dict in order to get group counts"
   ]
  },
  {
   "cell_type": "code",
   "execution_count": 10,
   "metadata": {},
   "outputs": [],
   "source": [
    "pickle.dump( data_dict, open( 'check', \"wb\" ) )"
   ]
  },
  {
   "cell_type": "markdown",
   "metadata": {},
   "source": [
    "# I. Separating the Priming Groups For Each Story\n",
    "## A. group stories by subject and priming type\n",
    "#### - output: loc_keys_r"
   ]
  },
  {
   "cell_type": "code",
   "execution_count": 11,
   "metadata": {},
   "outputs": [],
   "source": [
    "loc_keys_r = dict()\n",
    "soc_keys_r = dict()\n",
    "none_keys_r = dict()\n",
    "all_keys_r = dict()\n",
    "\n",
    "for key in data_dict:\n",
    "    this_story = data_dict[key]['story'].iloc[0]\n",
    "    keys = data_dict[key]['story_presses']\n",
    "    p_type = data_dict[key]['p_type'].iloc[0]\n",
    "    #print out the filenames and prolific ids of people who did not press \"9\" once\n",
    "    occurrences = np.count_nonzero(keys == 9)\n",
    "    if occurrences == 0:\n",
    "        print(key)\n",
    "        print(data_dict[key]['prolific_id'].iloc[0])\n",
    "    #put all story keys in the same dictionary regardless of priming\n",
    "    if this_story in all_keys_r:\n",
    "        all_keys_r[this_story] = np.concatenate((all_keys_r[this_story],keys[:,np.newaxis]), axis=1)\n",
    "    else:\n",
    "        all_keys_r[this_story] = keys[:, np.newaxis]\n",
    "    #organize keys by priming type\n",
    "    #no prime\n",
    "    if p_type == 0:\n",
    "        if this_story in none_keys_r:\n",
    "            none_keys_r[this_story] = np.concatenate((none_keys_r[this_story],keys[:,np.newaxis]), axis=1)\n",
    "        else:\n",
    "            none_keys_r[this_story] = keys[:, np.newaxis]\n",
    "    #loc prime\n",
    "    elif p_type == 1:\n",
    "        if this_story in loc_keys_r:\n",
    "            loc_keys_r[this_story] = np.concatenate((loc_keys_r[this_story],keys[:,np.newaxis]), axis=1)\n",
    "        else:\n",
    "            loc_keys_r[this_story] = keys[:, np.newaxis]\n",
    "    #soc prime\n",
    "    elif p_type == 2:\n",
    "        if this_story in soc_keys_r:\n",
    "            soc_keys_r[this_story] = np.concatenate((soc_keys_r[this_story],keys[:,np.newaxis]), axis=1)\n",
    "        else:\n",
    "            soc_keys_r[this_story] = keys[:, np.newaxis]"
   ]
  },
  {
   "cell_type": "markdown",
   "metadata": {},
   "source": [
    "### i. Finding the number of participants in each category for each story\n",
    "#### -output sums[story] = [total # of participants, no prime, loc primed, soc primed]"
   ]
  },
  {
   "cell_type": "code",
   "execution_count": 12,
   "metadata": {},
   "outputs": [],
   "source": [
    "sums = {}\n",
    "\n",
    "for key in all_keys_r:\n",
    "    this_sum = []\n",
    "    x, y = all_keys_r[key].shape\n",
    "    this_sum.append(y)\n",
    "    if key in none_keys_r:\n",
    "        x, y = none_keys_r[key].shape\n",
    "        this_sum.append(y)\n",
    "    else:\n",
    "        this_sum.append(0)\n",
    "    if key in loc_keys_r:\n",
    "        x, y = loc_keys_r[key].shape\n",
    "        this_sum.append(y)\n",
    "    else:\n",
    "        this_sum.append(0)\n",
    "    if key in soc_keys_r:\n",
    "        x, y = soc_keys_r[key].shape\n",
    "        this_sum.append(y)\n",
    "    else:\n",
    "        this_sum.append(0)\n",
    "    sums[key] = this_sum"
   ]
  },
  {
   "cell_type": "markdown",
   "metadata": {},
   "source": [
    "## B. Convert keypresses from '9's and '1's to '1's and '0's\n",
    "#### - output loc_keys\n",
    "#### - WARNING: you can only run this once!!!!!! if you run twice, you must start from the beginning"
   ]
  },
  {
   "cell_type": "code",
   "execution_count": 13,
   "metadata": {},
   "outputs": [],
   "source": [
    "loc_keys = dict()\n",
    "soc_keys = dict()\n",
    "none_keys = dict()\n",
    "all_keys = dict()\n",
    "\n",
    "#all keys\n",
    "for key in all_keys_r:\n",
    "    this_array = copy.deepcopy(all_keys_r[key])\n",
    "    this_array[this_array ==1] = 0\n",
    "    this_array[this_array == 9] = 1\n",
    "    all_keys[key] = this_array   \n",
    "    \n",
    "#none keys\n",
    "for key in none_keys_r:\n",
    "    this_array = copy.deepcopy(none_keys_r[key])\n",
    "    this_array[this_array ==1] = 0\n",
    "    this_array[this_array == 9] = 1\n",
    "    none_keys[key] = this_array   \n",
    "    \n",
    "#loc keys\n",
    "for key in loc_keys_r:\n",
    "    this_array = copy.deepcopy(loc_keys_r[key])\n",
    "    this_array[this_array ==1] = 0\n",
    "    this_array[this_array == 9] = 1\n",
    "    loc_keys[key] = this_array   \n",
    "    \n",
    "#soc keys\n",
    "for key in soc_keys_r:\n",
    "    this_array = copy.deepcopy(soc_keys_r[key])\n",
    "    this_array[this_array ==1] = 0\n",
    "    this_array[this_array == 9] = 1\n",
    "    soc_keys[key] = this_array   "
   ]
  },
  {
   "cell_type": "markdown",
   "metadata": {},
   "source": [
    "## C. Remove first sentence (first row) from all keypresses"
   ]
  },
  {
   "cell_type": "code",
   "execution_count": 14,
   "metadata": {},
   "outputs": [],
   "source": [
    "list_keys = [all_keys, none_keys, loc_keys, soc_keys]\n",
    "for i in range(0, len(list_keys)):\n",
    "    for key in list_keys[i]:\n",
    "        list_keys[i][key] = np.delete(list_keys[i][key],(0), axis = 0)"
   ]
  },
  {
   "cell_type": "markdown",
   "metadata": {},
   "source": [
    "# III. Counting the number of event boundaries\n",
    "## A. Median and mean number of boundaries across all participants"
   ]
  },
  {
   "cell_type": "code",
   "execution_count": 15,
   "metadata": {},
   "outputs": [
    {
     "name": "stdout",
     "output_type": "stream",
     "text": [
      "[6, 6, 6, 9, 4, 12, 5, 10, 17, 5, 11, 11, 6, 16, 9, 8, 4, 3, 14, 13, 1, 8, 12, 3, 13, 8, 10, 5, 5, 7, 5, 10, 13, 14, 10, 5, 8, 6, 8, 5, 5, 9, 4, 3, 7, 3, 7, 8, 8, 3, 15, 17, 5, 8, 6, 15, 5, 4, 7, 2, 7, 5, 6, 11, 2, 2, 6, 3, 13, 4, 10, 10, 7, 5, 10, 10, 9, 4, 10, 4, 3, 12, 5, 4, 5, 6, 1, 8, 4, 7, 9, 4, 10, 10, 8, 6, 10, 7, 3, 2, 11, 7, 4, 4, 9, 7, 7, 10, 7, 8, 2, 3, 4, 11, 9, 7, 3, 1, 5, 12, 8, 6, 13, 6, 9, 7, 3, 8, 7, 9, 7, 7, 7, 2, 6, 7, 9, 8, 6, 5, 6, 6, 4, 2, 3, 8, 10, 2, 12, 5, 4, 8, 6, 4, 5, 13, 9, 13, 7, 8, 13, 12, 6, 6, 13, 8, 8, 8, 7, 6, 8, 7, 7, 6, 9, 7, 10, 13, 9, 7, 6, 10, 8, 11, 15, 13, 5, 9, 3, 9, 9, 9, 8, 4, 7, 9, 4, 7, 9, 7, 7, 7, 7, 2, 7]\n",
      "[ 6  6  6  9  4 12  5 10 17  5 11 11  6 16  9  8  4  3 14 13  1  8 12  3\n",
      " 13  8 10  5  5  7  5 10 13 14 10  5  8  6  8  5  5  9  4  3  7  3  7  8\n",
      "  8  3 15 17  5  8  6 15  5  4  7  2  7  5  6 11  2  2  6  3 13  4 10 10\n",
      "  7  5 10 10  9  4 10  4  3 12  5  4  5  6  1  8  4  7  9  4 10 10  8  6\n",
      " 10  7  3  2 11  7  4  4  9  7  7 10  7  8  2  3  4 11  9  7  3  1  5 12\n",
      "  8  6 13  6  9  7  3  8  7  9  7  7  7  2  6  7  9  8  6  5  6  6  4  2\n",
      "  3  8 10  2 12  5  4  8  6  4  5 13  9 13  7  8 13 12  6  6 13  8  8  8\n",
      "  7  6  8  7  7  6  9  7 10 13  9  7  6 10  8 11 15 13  5  9  3  9  9  9\n",
      "  8  4  7  9  4  7  9  7  7  7  7  2  7]\n",
      "The median number of boundaries across all subjects is  7.0\n",
      "The mean number of boundaries across all subjects is  7.326829268292683\n"
     ]
    }
   ],
   "source": [
    "# Append all subj's boundary count\n",
    "bndrs_count = []\n",
    "for key in all_keys:\n",
    "    if key in none_keys:\n",
    "        for i in range(0, none_keys[key].shape[1]):\n",
    "            this_col = none_keys[key][:,i]\n",
    "            bndrs_count.append(np.count_nonzero(this_col == 1))\n",
    "    if key in loc_keys:\n",
    "        for i in range(0, loc_keys[key].shape[1]):\n",
    "            this_col = loc_keys[key][:,i]\n",
    "            bndrs_count.append(np.count_nonzero(this_col == 1))\n",
    "    if key in soc_keys:\n",
    "        for i in range(0, soc_keys[key].shape[1]):\n",
    "            this_col = soc_keys[key][:,i]\n",
    "            bndrs_count.append(np.count_nonzero(this_col == 1))\n",
    "\n",
    "# Convert bndrs_count list to array\n",
    "print(bndrs_count)\n",
    "np_bc = np.asarray(bndrs_count)\n",
    "print(np_bc)\n",
    "bc_median = np.median(np_bc)\n",
    "bc_mean = np.mean(np_bc)\n",
    "print('The median number of boundaries across all subjects is ', bc_median)\n",
    "print('The mean number of boundaries across all subjects is ', bc_mean)"
   ]
  },
  {
   "cell_type": "markdown",
   "metadata": {},
   "source": [
    "## B. Comparing the median and mean number of boundaries for different priming types across all stories"
   ]
  },
  {
   "cell_type": "code",
   "execution_count": 16,
   "metadata": {},
   "outputs": [
    {
     "name": "stdout",
     "output_type": "stream",
     "text": [
      "The median and mean numbers of boundaries for no-prime respectively are  6.0  and  6.935483870967742\n",
      "The median and mean numbers of boundaries for loc-prime respectively are  7.0  and  7.864197530864198\n",
      "The median and mean numbers of boundaries for soc-prime respectively are  7.0  and  7.016129032258065\n"
     ]
    }
   ],
   "source": [
    "# Append all subj's boundary count\n",
    "bc_none = []\n",
    "bc_loc = []\n",
    "bc_soc = []\n",
    "for key in all_keys:\n",
    "    if key in none_keys:\n",
    "        for i in range(0, none_keys[key].shape[1]):\n",
    "            this_col = none_keys[key][:,i]\n",
    "            bc_none.append(np.count_nonzero(this_col == 1))\n",
    "    if key in loc_keys:\n",
    "        for i in range(0, loc_keys[key].shape[1]):\n",
    "            this_col = loc_keys[key][:,i]\n",
    "            bc_loc.append(np.count_nonzero(this_col == 1))\n",
    "    if key in soc_keys:\n",
    "        for i in range(0, soc_keys[key].shape[1]):\n",
    "            this_col = soc_keys[key][:,i]\n",
    "            bc_soc.append(np.count_nonzero(this_col == 1))\n",
    "\n",
    "# Convert bndrs_count list to array\n",
    "np_bc_none = np.asarray(bc_none)\n",
    "np_bc_loc = np.asarray(bc_loc)\n",
    "np_bc_soc = np.asarray(bc_soc)\n",
    "# Finding median and mean\n",
    "bc_none_median = np.median(np_bc_none)\n",
    "bc_none_mean = np.mean(np_bc_none)\n",
    "bc_loc_median = np.median(np_bc_loc)\n",
    "bc_loc_mean = np.mean(np_bc_loc)\n",
    "bc_soc_median = np.median(np_bc_soc)\n",
    "bc_soc_mean = np.mean(np_bc_soc)\n",
    "# Printing\n",
    "print('The median and mean numbers of boundaries for no-prime respectively are ', bc_none_median, ' and ', bc_none_mean)\n",
    "print('The median and mean numbers of boundaries for loc-prime respectively are ', bc_loc_median, ' and ', bc_loc_mean)\n",
    "print('The median and mean numbers of boundaries for soc-prime respectively are ', bc_soc_median, ' and ', bc_soc_mean)"
   ]
  },
  {
   "cell_type": "markdown",
   "metadata": {},
   "source": [
    "## C. Median and mean number of boundaries across all participants for each story\n",
    "### i. Calculating each story's median and mean"
   ]
  },
  {
   "cell_type": "code",
   "execution_count": 17,
   "metadata": {},
   "outputs": [],
   "source": [
    "# Append all subj's boundary count\n",
    "list_keys = [11, 12, 13, 14, 21, 22, 23, 24, 31, 32, 33, 34, 41, 42, 43, 44]\n",
    "\n",
    "story_medians = []\n",
    "story_means = []\n",
    "\n",
    "for key in list_keys:\n",
    "    bndrs_count = []\n",
    "    if key in none_keys:\n",
    "        for i in range(0, none_keys[key].shape[1]):\n",
    "            this_col = none_keys[key][:,i]\n",
    "            bndrs_count.append(np.count_nonzero(this_col == 1))\n",
    "    if key in loc_keys:\n",
    "        for i in range(0, loc_keys[key].shape[1]):\n",
    "            this_col = loc_keys[key][:,i]\n",
    "            bndrs_count.append(np.count_nonzero(this_col == 1))\n",
    "    if key in soc_keys:\n",
    "        for i in range(0, soc_keys[key].shape[1]):\n",
    "            this_col = soc_keys[key][:,i]\n",
    "            bndrs_count.append(np.count_nonzero(this_col == 1))\n",
    "\n",
    "    # Convert bndrs_count list to array\n",
    "    this_np_bc = np.asarray(bndrs_count)\n",
    "    this_bc_median = np.median(this_np_bc)\n",
    "    this_bc_mean = np.mean(this_np_bc)\n",
    "    \n",
    "    # Concatenate median and mean\n",
    "    story_medians.append(this_bc_median)\n",
    "    story_means.append(this_bc_mean)\n",
    "    \n",
    "    "
   ]
  },
  {
   "cell_type": "markdown",
   "metadata": {},
   "source": [
    "### ii. Plotting the median and means by order of the story"
   ]
  },
  {
   "cell_type": "code",
   "execution_count": 18,
   "metadata": {},
   "outputs": [
    {
     "data": {
      "text/plain": [
       "<matplotlib.lines.Line2D at 0x1a2755ef98>"
      ]
     },
     "execution_count": 18,
     "metadata": {},
     "output_type": "execute_result"
    },
    {
     "data": {
      "image/png": "[encoded data removed]",
      "text/plain": [
       "<Figure size 1440x720 with 1 Axes>"
      ]
     },
     "metadata": {
      "needs_background": "light"
     },
     "output_type": "display_data"
    },
    {
     "data": {
      "text/plain": [
       "<Figure size 432x288 with 0 Axes>"
      ]
     },
     "metadata": {},
     "output_type": "display_data"
    },
    {
     "data": {
      "image/png": "[encoded data removed]",
      "text/plain": [
       "<Figure size 1440x720 with 1 Axes>"
      ]
     },
     "metadata": {
      "needs_background": "light"
     },
     "output_type": "display_data"
    }
   ],
   "source": [
    "story_list = ['11', '12', '13', '14', '21', '22', '23', '24', '31', '32', '33', '34', '41', '42', '43', '44']\n",
    "\n",
    "# Plotting\n",
    "# Set position of bars on X axis\n",
    "r1 = np.arange(16)\n",
    "\n",
    "plt.figure(figsize=(20,10))\n",
    "\n",
    "plot_medians = np.asarray(story_medians)\n",
    "barWidth = 0.5\n",
    "plt.bar(story_list, plot_medians, color= '#b264d9' , width=barWidth, edgecolor='white')\n",
    "plt.title('Median # of boundaries for each story')\n",
    "#drawing x axis\n",
    "plt.axhline(y=0, color = '#000000')\n",
    "\n",
    "plt.figure()\n",
    "\n",
    "# Plotting means\n",
    "\n",
    "plt.figure(figsize=(20,10))\n",
    "\n",
    "plot_means = np.asarray(story_means)\n",
    "barWidth = 0.5\n",
    "plt.bar(story_list, plot_means, color= '#b264d9' , width=barWidth, edgecolor='white')\n",
    "plt.title('Mean # of boundaries for each story')\n",
    "#drawing x axis\n",
    "plt.axhline(y=0, color = '#000000')"
   ]
  },
  {
   "cell_type": "markdown",
   "metadata": {},
   "source": [
    "### iii. Plotting median and mean as a function of the number of sentences in a story"
   ]
  },
  {
   "cell_type": "code",
   "execution_count": 19,
   "metadata": {},
   "outputs": [
    {
     "data": {
      "text/plain": [
       "Text(0.5, 1.0, 'Means')"
      ]
     },
     "execution_count": 19,
     "metadata": {},
     "output_type": "execute_result"
    },
    {
     "data": {
      "image/png": "[encoded data removed]",
      "text/plain": [
       "<Figure size 432x288 with 1 Axes>"
      ]
     },
     "metadata": {
      "needs_background": "light"
     },
     "output_type": "display_data"
    },
    {
     "data": {
      "image/png": "[encoded data removed]",
      "text/plain": [
       "<Figure size 432x288 with 1 Axes>"
      ]
     },
     "metadata": {
      "needs_background": "light"
     },
     "output_type": "display_data"
    }
   ],
   "source": [
    "story_lens = np.zeros((16, 1))\n",
    "\n",
    "for i in range(0,16):\n",
    "    story_lens[i] = all_keys[list_keys[i]].shape[0]\n",
    "    \n",
    "# Create linear regression object\n",
    "regr = linear_model.LinearRegression()\n",
    "\n",
    "# Train the model using the training sets\n",
    "regr.fit(story_lens, plot_medians)\n",
    "\n",
    "# Make predictions using the testing set\n",
    "pred_y = regr.predict(story_lens)\n",
    "\n",
    "# Plot outputs\n",
    "plt.scatter(story_lens, plot_medians,  color='black')\n",
    "plt.plot(story_lens, pred_y, color='blue', linewidth=3)\n",
    "\n",
    "# Title\n",
    "plt.title('Medians')\n",
    "\n",
    "plt.figure()\n",
    "\n",
    "# Create linear regression object\n",
    "regr = linear_model.LinearRegression()\n",
    "\n",
    "# Train the model using the training sets\n",
    "regr.fit(story_lens, plot_means)\n",
    "\n",
    "# Make predictions using the testing set\n",
    "pred_y = regr.predict(story_lens)\n",
    "\n",
    "# Plot outputs\n",
    "plt.scatter(story_lens, plot_means,  color='black')\n",
    "plt.plot(story_lens, pred_y, color='blue', linewidth=3)\n",
    "\n",
    "# Title\n",
    "plt.title('Means')\n",
    "\n"
   ]
  },
  {
   "cell_type": "markdown",
   "metadata": {},
   "source": [
    "# IV. Statistical Analysis: Two-Sample Unpaired T-test\n",
    "## A. Comparison between the means of number of location and social boundaries\n",
    "### - boundary counts include participants from all stories"
   ]
  },
  {
   "cell_type": "code",
   "execution_count": 20,
   "metadata": {},
   "outputs": [
    {
     "name": "stdout",
     "output_type": "stream",
     "text": [
      "The p value is  0.10656844021503274\n"
     ]
    }
   ],
   "source": [
    "t, p = stats.ttest_ind(np_bc_loc, np_bc_soc, equal_var = False)\n",
    "print('The p value is ', p)"
   ]
  },
  {
   "cell_type": "markdown",
   "metadata": {},
   "source": [
    "## B. Comparison between the means of the number of location and no-prime boundaries"
   ]
  },
  {
   "cell_type": "code",
   "execution_count": 21,
   "metadata": {},
   "outputs": [
    {
     "name": "stdout",
     "output_type": "stream",
     "text": [
      "The p value is  0.1181206047962142\n"
     ]
    }
   ],
   "source": [
    "t, p = stats.ttest_ind(np_bc_loc, np_bc_none, equal_var = False)\n",
    "print('The p value is ', p)"
   ]
  },
  {
   "cell_type": "markdown",
   "metadata": {},
   "source": [
    "## C. Comparison between the means of the number of location and no-prime boundaries"
   ]
  },
  {
   "cell_type": "code",
   "execution_count": 22,
   "metadata": {},
   "outputs": [
    {
     "name": "stdout",
     "output_type": "stream",
     "text": [
      "The p value is  0.8901895219954381\n"
     ]
    }
   ],
   "source": [
    "t, p = stats.ttest_ind(np_bc_soc, np_bc_none, equal_var = False)\n",
    "print('The p value is ', p)"
   ]
  },
  {
   "cell_type": "markdown",
   "metadata": {},
   "source": [
    "# V. The Range of Boundary Numbers\n",
    "## A. Find the smallest and the largest number of keypresses across all participants in all stories"
   ]
  },
  {
   "cell_type": "code",
   "execution_count": 23,
   "metadata": {},
   "outputs": [
    {
     "name": "stdout",
     "output_type": "stream",
     "text": [
      "The range is from  1  to  17\n"
     ]
    }
   ],
   "source": [
    "this_min = np.amin(np_bc)\n",
    "this_max = np.amax(np_bc)\n",
    "print(\"The range is from \", this_min, \" to \", this_max)"
   ]
  },
  {
   "cell_type": "markdown",
   "metadata": {},
   "source": [
    "## B. Histogram of boundaries with median and mean plotted"
   ]
  },
  {
   "cell_type": "code",
   "execution_count": 24,
   "metadata": {},
   "outputs": [
    {
     "name": "stdout",
     "output_type": "stream",
     "text": [
      "3.301959831213615\n"
     ]
    },
    {
     "data": {
      "image/png": "[encoded data removed]",
      "text/plain": [
       "<Figure size 432x288 with 1 Axes>"
      ]
     },
     "metadata": {
      "needs_background": "light"
     },
     "output_type": "display_data"
    }
   ],
   "source": [
    "plt.hist(np_bc, bins = 35)\n",
    "plt.axvline(x=bc_median, color='m')\n",
    "plt.axvline(x=bc_mean, color='g')\n",
    "#calculate standard deviation\n",
    "sd = np.std(np_bc)\n",
    "#plot sd\n",
    "plt.axvline(x= (bc_mean + sd), color='r', linestyle='--')\n",
    "plt.axvline(x= (bc_mean - sd), color='r', linestyle='--')\n",
    "print(sd)\n",
    "\n",
    "plt.show()"
   ]
  },
  {
   "cell_type": "code",
   "execution_count": 25,
   "metadata": {},
   "outputs": [],
   "source": [
    "## maybe exclude participants who are a standard of deviation away from the mean?"
   ]
  },
  {
   "cell_type": "code",
   "execution_count": 26,
   "metadata": {},
   "outputs": [
    {
     "name": "stdout",
     "output_type": "stream",
     "text": [
      "The total number of participants is  205\n",
      "4.024869437079069\n",
      "10.628789099506298\n",
      "The number of participants within the first standard deviation is  131\n"
     ]
    }
   ],
   "source": [
    "print('The total number of participants is ', len(np_bc))\n",
    "final_list = [x for x in np_bc if (x > bc_mean - sd)]\n",
    "print(bc_mean - sd)\n",
    "final_list = [x for x in final_list if (x < bc_mean +sd)]\n",
    "print(bc_mean + sd)\n",
    "print('The number of participants within the first standard deviation is ', len(final_list))"
   ]
  },
  {
   "cell_type": "code",
   "execution_count": null,
   "metadata": {},
   "outputs": [],
   "source": []
  }
 ],
 "metadata": {
  "kernelspec": {
   "display_name": "Python 3",
   "language": "python",
   "name": "python3"
  },
  "language_info": {
   "codemirror_mode": {
    "name": "ipython",
    "version": 3
   },
   "file_extension": ".py",
   "mimetype": "text/x-python",
   "name": "python",
   "nbconvert_exporter": "python",
   "pygments_lexer": "ipython3",
   "version": "3.6.8"
  }
 },
 "nbformat": 4,
 "nbformat_minor": 2
}
