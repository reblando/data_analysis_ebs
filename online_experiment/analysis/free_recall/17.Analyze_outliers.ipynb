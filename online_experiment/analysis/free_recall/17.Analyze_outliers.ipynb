{
 "cells": [
  {
   "cell_type": "markdown",
   "metadata": {},
   "source": [
    "# Analyze outliers from free recall visualization\n",
    "## 1/21/21"
   ]
  },
  {
   "cell_type": "code",
   "execution_count": 2,
   "metadata": {},
   "outputs": [
    {
     "data": {
      "application/javascript": [
       "IPython.notebook.set_autosave_interval(5000)"
      ]
     },
     "metadata": {},
     "output_type": "display_data"
    },
    {
     "name": "stdout",
     "output_type": "stream",
     "text": [
      "Autosaving every 5 seconds\n"
     ]
    }
   ],
   "source": [
    "import pandas as pd\n",
    "import numpy as np\n",
    "import plotly.graph_objs as go\n",
    "import plotly.plotly as py\n",
    "import plotly\n",
    "import os\n",
    "import glob\n",
    "import math\n",
    "import statistics\n",
    "import matplotlib.pyplot as plt\n",
    "import seaborn as sns\n",
    "import pickle\n",
    "import copy\n",
    "from random import randrange\n",
    "from sklearn.metrics import jaccard_score\n",
    "import random\n",
    "\n",
    "from sklearn.decomposition import PCA #for cluster analysis\n",
    "from gensim.models import KeyedVectors #for word embeddings\n",
    "import matplotlib.pyplot as plt #for plotting\n",
    "import os #for importing\n",
    "import pickle #for loading transcripts\n",
    "from scipy.stats import pearsonr \n",
    "\n",
    "# from _DRAFT_20200604_functions import * #includes constants and score function\n",
    "from tqdm import tqdm_notebook #for progress bar\n",
    "\n",
    "%autosave 5"
   ]
  },
  {
   "cell_type": "markdown",
   "metadata": {},
   "source": [
    "# I. Imports\n",
    "## A. Participant Data and Summary of Data"
   ]
  },
  {
   "cell_type": "code",
   "execution_count": 4,
   "metadata": {},
   "outputs": [
    {
     "data": {
      "text/plain": [
       "316"
      ]
     },
     "execution_count": 4,
     "metadata": {},
     "output_type": "execute_result"
    }
   ],
   "source": [
    "filename = '/Users/alexreblando/Documents/Documents - Alex’s MacBook Air/GitHub/data_analysis_ebs/online_experiment/analysis/segment/usable_data'\n",
    "filename_sums = '/Users/alexreblando/Documents/Documents - Alex’s MacBook Air/GitHub/data_analysis_ebs/online_experiment/analysis/segment/sums_usable_data'\n",
    "data_dict = pickle.load( open( filename, \"rb\" ) )\n",
    "id_dict = pickle.load( open( 'ids_dict', \"rb\" ) )\n",
    "sums = pickle.load( open( filename_sums, \"rb\" ) )\n",
    "outliers = pickle.load( open( 'outlier_ids', \"rb\" ) )\n",
    "len(data_dict)"
   ]
  },
  {
   "cell_type": "markdown",
   "metadata": {},
   "source": [
    "# I. Printing\n",
    "## A. Print the outlier recalls"
   ]
  },
  {
   "cell_type": "code",
   "execution_count": 6,
   "metadata": {},
   "outputs": [
    {
     "name": "stdout",
     "output_type": "stream",
     "text": [
      "12\n",
      "0\n",
      "5eeab761609f0d1df85d61bf\n",
      "Calvin and Jessie are going to the airport to return to the States from their vacation in Jamaica.  They do not have much time to get to the gate, but the security line is moving fairly well up until the TSA-type agents have a shift change that causes a delay.  While held up in line, Jessie impulsively tells Calvin that she wants to break up.  She apologizes for not telling him before the vacation.  She doesn't feel inspired in their relationship, I think.  Calvin accepts this but is hurt.  He says if she's so bored with him then they might as well break up.  They awkwardly head to their gate and the flight attendant scans their tickets annoyed.  The attendant closes the gate behind them.  They are the last to board.  They are both seated in Economy but separate.  They are three rows apart.  Once Jessie goes to sit, she turns to Calvin and awkwardly shakes his hand to wish him a good flight back to the US... and that she wants her philosophy books returned to her.  Calvin scoffs.  Story ends.\n",
      "12\n",
      "1\n",
      "5d7fd2a5987f70001602d95b\n",
      "We learn of Jessie who is wanting to break up with her boyfriend. They are at the airport to fly back home from a trip to Jamaica together. At security, there is a hold up and they are not getting along. Jessie decides to share with her boyfriend how she wants to break up with him. He decides that this is good, if he's going to bore her. Luckily, they don't remember or forget to change their flight seats and are in different sections of the plane. As they board the plane, Jessie remembers how her boyfriend still has one of her philosophy books and brings it up. They still are not getting along and look forward to flying back in peace, separately.\n",
      "14\n",
      "0\n",
      "597fe89a1b41a20001749f57\n",
      "Maria and Henry are a couple. She wants to break up because she is going to be studying abroad and the distance will be too much for her. She wants some space. The couple goes to philosophy class together and Maria waits until the class is over to tell Henry she wants to break up. She then asks him to get her sweatshirt from his room and she will meet him later to get it.\n",
      "23\n",
      "2\n",
      "5cb62855a8a6d400176eca83\n",
      "Couple went into grocery store to buy food.  Alex wants to surprise Chloe with a ring and proposal.  He is nervous and sweaty and distracted.  They pick out their groceries and head to the checkout.  Alex proposes while friends and strangers look on.  Chloe accepts and texts her mother.\n",
      "32\n",
      "0\n",
      "55b6ed4afdf99b437183fa6f\n",
      "Two men who are in the wine business meet accidentally waiting in line for the bathroom at the airport. One makes a deal with the other to buy a number of sample crates of wine for about 600.00. They both shake on the deal and then board the plane.\n"
     ]
    }
   ],
   "source": [
    "for i in range(0, len(outliers)):\n",
    "    print(data_dict[outliers[i][0]]['story'][0])\n",
    "    print(data_dict[outliers[i][0]]['p_type'][0])\n",
    "    print(data_dict[outliers[i][0]]['prolific_id'][0])\n",
    "    print(data_dict[outliers[i][0]]['recall'][0])\n",
    "    "
   ]
  },
  {
   "cell_type": "markdown",
   "metadata": {},
   "source": [
    "## B. Print recalls from same story and priming"
   ]
  },
  {
   "cell_type": "code",
   "execution_count": 1,
   "metadata": {},
   "outputs": [
    {
     "name": "stdout",
     "output_type": "stream",
     "text": [
      "First Outlier: Story 12, Priming 0\n"
     ]
    },
    {
     "ename": "NameError",
     "evalue": "name 'id_dict' is not defined",
     "output_type": "error",
     "traceback": [
      "\u001b[0;31m---------------------------------------------------------------------------\u001b[0m",
      "\u001b[0;31mNameError\u001b[0m                                 Traceback (most recent call last)",
      "\u001b[0;32m<ipython-input-1-76469e736181>\u001b[0m in \u001b[0;36m<module>\u001b[0;34m\u001b[0m\n\u001b[1;32m      1\u001b[0m \u001b[0mprint\u001b[0m\u001b[0;34m(\u001b[0m\u001b[0;34m'First Outlier: Story 12, Priming 0'\u001b[0m\u001b[0;34m)\u001b[0m\u001b[0;34m\u001b[0m\u001b[0;34m\u001b[0m\u001b[0m\n\u001b[1;32m      2\u001b[0m \u001b[0;34m\u001b[0m\u001b[0m\n\u001b[0;32m----> 3\u001b[0;31m \u001b[0;32mfor\u001b[0m \u001b[0mi\u001b[0m \u001b[0;32min\u001b[0m \u001b[0mrange\u001b[0m\u001b[0;34m(\u001b[0m\u001b[0;36m0\u001b[0m\u001b[0;34m,\u001b[0m \u001b[0mlen\u001b[0m\u001b[0;34m(\u001b[0m\u001b[0mid_dict\u001b[0m\u001b[0;34m[\u001b[0m\u001b[0;36m12\u001b[0m\u001b[0;34m]\u001b[0m\u001b[0;34m[\u001b[0m\u001b[0;36m0\u001b[0m\u001b[0;34m]\u001b[0m\u001b[0;34m)\u001b[0m\u001b[0;34m)\u001b[0m\u001b[0;34m:\u001b[0m\u001b[0;34m\u001b[0m\u001b[0;34m\u001b[0m\u001b[0m\n\u001b[0m\u001b[1;32m      4\u001b[0m     \u001b[0mprint\u001b[0m\u001b[0;34m(\u001b[0m\u001b[0mi\u001b[0m\u001b[0;34m)\u001b[0m\u001b[0;34m\u001b[0m\u001b[0;34m\u001b[0m\u001b[0m\n\u001b[1;32m      5\u001b[0m     \u001b[0mprint\u001b[0m\u001b[0;34m(\u001b[0m\u001b[0mdata_dict\u001b[0m\u001b[0;34m[\u001b[0m\u001b[0mid_dict\u001b[0m\u001b[0;34m[\u001b[0m\u001b[0;36m12\u001b[0m\u001b[0;34m]\u001b[0m\u001b[0;34m[\u001b[0m\u001b[0;36m0\u001b[0m\u001b[0;34m]\u001b[0m\u001b[0;34m[\u001b[0m\u001b[0mi\u001b[0m\u001b[0;34m]\u001b[0m\u001b[0;34m[\u001b[0m\u001b[0;36m0\u001b[0m\u001b[0;34m]\u001b[0m\u001b[0;34m]\u001b[0m\u001b[0;34m[\u001b[0m\u001b[0;34m'recall'\u001b[0m\u001b[0;34m]\u001b[0m\u001b[0;34m[\u001b[0m\u001b[0;36m0\u001b[0m\u001b[0;34m]\u001b[0m\u001b[0;34m)\u001b[0m\u001b[0;34m\u001b[0m\u001b[0;34m\u001b[0m\u001b[0m\n",
      "\u001b[0;31mNameError\u001b[0m: name 'id_dict' is not defined"
     ]
    }
   ],
   "source": [
    "print('First Outlier: Story 12, Priming 0')\n",
    "\n",
    "for i in range(0, len(id_dict[12][0])):\n",
    "    print(i)\n",
    "    print(data_dict[id_dict[12][0][i][0]]['recall'][0])\n",
    "    \n",
    "print('Second Outlier: Story 12, Priming 1')\n",
    "\n",
    "for i in range(0, len(id_dict[12][1])):\n",
    "    print(i)\n",
    "    print(data_dict[id_dict[12][1][i][0]]['recall'][0])\n",
    "    \n",
    "print('\\n\\nThird Outlier: Story 14, Priming 0')\n",
    "\n",
    "for i in range(0, len(id_dict[14][0])):\n",
    "    print(i)\n",
    "    print(data_dict[id_dict[14][0][i][0]]['recall'][0])\n",
    "    \n",
    "print('\\n\\nFourth Outlier: Story 23, Priming 2')\n",
    "\n",
    "for i in range(0, len(id_dict[23][2])):\n",
    "    print(i)\n",
    "    print(data_dict[id_dict[23][2][i][0]]['recall'][0])\n",
    "    \n",
    "print('\\n\\nFifth Outlier: Story 32, Priming 0')\n",
    "\n",
    "for i in range(0, len(id_dict[32][0])):\n",
    "    print(i)\n",
    "    print(data_dict[id_dict[32][0][i][0]]['recall'][0])"
   ]
  },
  {
   "cell_type": "markdown",
   "metadata": {},
   "source": [
    "# II. Checking the numbers of Words\n",
    "## A. wordCount function"
   ]
  },
  {
   "cell_type": "code",
   "execution_count": 62,
   "metadata": {},
   "outputs": [],
   "source": [
    "def wordCount(sentence, model = 'fasttext'):\n",
    "    words = preproc(sentence).split(' ')\n",
    "    if len(words) <= 10:\n",
    "        c = 1\n",
    "    else:\n",
    "        c = 0\n",
    "    \n",
    "    return c"
   ]
  },
  {
   "cell_type": "markdown",
   "metadata": {},
   "source": [
    "## B. Find the participants who had a recall <= 10"
   ]
  },
  {
   "cell_type": "code",
   "execution_count": 63,
   "metadata": {},
   "outputs": [],
   "source": [
    "keys = [11, 12, 13, 14, 21, 22, 23, 24, 31, 32, 33, 34, 41, 42, 43, 44]\n",
    "\n",
    "small_r = []\n",
    "\n",
    "for key in keys:\n",
    "    for i in range(0,3):\n",
    "        # Get the number of participants in that priming group for that story\n",
    "        partic_n = len(recalls[key][i])\n",
    "        for j in range(0, partic_n):\n",
    "            this_count = wordCount(recalls[key][i][j][0])\n",
    "            if this_count == 1:\n",
    "                small_r.append(recalls[key][i][j][1])"
   ]
  },
  {
   "cell_type": "markdown",
   "metadata": {},
   "source": [
    "## C. Print these participants' responses"
   ]
  },
  {
   "cell_type": "code",
   "execution_count": 64,
   "metadata": {},
   "outputs": [
    {
     "name": "stdout",
     "output_type": "stream",
     "text": [
      "\n",
      "\n",
      "\n",
      " /Users/alexreblando/Documents/GitHub/data_analysis_ebs/online_experiment/data/finalver_b6/76/168_1_online_exp_2020-10-20_12h03.01.613\n",
      "an argument between two people in the restaurant\n",
      "\n",
      "\n",
      "\n",
      " /Users/alexreblando/Documents/GitHub/data_analysis_ebs/online_experiment/data/finalver_b5/78/4_1_online_exp_2020-09-28_06h46.56.248\n",
      "About a girl and her friend. \n",
      "\n",
      "\n",
      "\n",
      " /Users/alexreblando/Documents/GitHub/data_analysis_ebs/online_experiment/data/finalver_b6/76/85_1_online_exp_2020-10-21_00h21.05.606\n",
      "a restaurant story.\n",
      "\n",
      "\n",
      "\n",
      "\n",
      " /Users/alexreblando/Documents/GitHub/data_analysis_ebs/online_experiment/data/finalver_b5/78/13_1_online_exp_2020-09-28_15h40.26.822\n",
      "client arrive at the airports\n",
      "\n",
      "\n",
      "\n",
      " /Users/alexreblando/Documents/GitHub/data_analysis_ebs/online_experiment/data/finalver_b6/76/140_1_online_exp_2020-10-20_20h06.09.967\n",
      "The story i heard is on investment and partnership\n",
      "\n",
      "\n",
      "\n",
      " /Users/alexreblando/Documents/GitHub/data_analysis_ebs/online_experiment/data/finalver_b5/78/95_1_online_exp_2020-09-28_15h37.25.966\n",
      "I heard conversations between the couple. \n",
      "\n",
      "\n",
      "\n",
      " /Users/alexreblando/Documents/GitHub/data_analysis_ebs/online_experiment/data/finalver_b6/76/163_1_online_exp_2020-10-20_15h01.21.014\n",
      "i am really happy doing this\n",
      "\n",
      "\n",
      "\n",
      " /Users/alexreblando/Documents/GitHub/data_analysis_ebs/online_experiment/data/finalver_b7/54/47_1_online_exp_2020-11-06_11h52.08.207\n",
      "about david and anna\n"
     ]
    }
   ],
   "source": [
    "for i in range(0, len(small_r)):\n",
    "    print('\\n\\n\\n', small_r[i])\n",
    "    print(data_dict[small_r[i]]['recall'][0])"
   ]
  },
  {
   "cell_type": "markdown",
   "metadata": {},
   "source": [
    "## D. Make sums without these responses"
   ]
  },
  {
   "cell_type": "code",
   "execution_count": 78,
   "metadata": {},
   "outputs": [],
   "source": [
    "for i in range(0, len(small_r)):\n",
    "    prime = data_dict[small_r[i]]['p_type'][0] + 1\n",
    "    story = data_dict[small_r[i]]['story'][0]\n",
    "    # Change the sum of all participants in that story count\n",
    "    sums[story][0] -= 1\n",
    "    # Change the sum of participants from that prime\n",
    "    sums[story][prime] -= 1"
   ]
  },
  {
   "cell_type": "markdown",
   "metadata": {},
   "source": [
    "## E. Make a data_dict without these responses and then export it and new sums"
   ]
  },
  {
   "cell_type": "code",
   "execution_count": 80,
   "metadata": {},
   "outputs": [],
   "source": [
    "for i in range(0, len(small_r)):\n",
    "    data_dict.pop(str(small_r[i]), None)\n",
    "    \n",
    "pickle.dump( data_dict , open( 'data_dict_nsr', \"wb\" ) )\n",
    "pickle.dump( sums , open( 'sums_nsr', \"wb\" ) )"
   ]
  },
  {
   "cell_type": "code",
   "execution_count": 81,
   "metadata": {},
   "outputs": [
    {
     "ename": "KeyError",
     "evalue": "'/Users/alexreblando/Documents/GitHub/data_analysis_ebs/online_experiment/data/finalver_b5/78/13_1_online_exp_2020-09-28_15h40.26.822'",
     "output_type": "error",
     "traceback": [
      "\u001b[0;31m---------------------------------------------------------------------------\u001b[0m",
      "\u001b[0;31mKeyError\u001b[0m                                  Traceback (most recent call last)",
      "\u001b[0;32m<ipython-input-81-4f2ee189fee4>\u001b[0m in \u001b[0;36m<module>\u001b[0;34m\u001b[0m\n\u001b[0;32m----> 1\u001b[0;31m \u001b[0mdata_dict\u001b[0m\u001b[0;34m[\u001b[0m\u001b[0;34m'/Users/alexreblando/Documents/GitHub/data_analysis_ebs/online_experiment/data/finalver_b5/78/13_1_online_exp_2020-09-28_15h40.26.822'\u001b[0m\u001b[0;34m]\u001b[0m\u001b[0;34m\u001b[0m\u001b[0;34m\u001b[0m\u001b[0m\n\u001b[0m",
      "\u001b[0;31mKeyError\u001b[0m: '/Users/alexreblando/Documents/GitHub/data_analysis_ebs/online_experiment/data/finalver_b5/78/13_1_online_exp_2020-09-28_15h40.26.822'"
     ]
    }
   ],
   "source": [
    "data_dict['/Users/alexreblando/Documents/GitHub/data_analysis_ebs/online_experiment/data/finalver_b5/78/13_1_online_exp_2020-09-28_15h40.26.822']"
   ]
  },
  {
   "cell_type": "code",
   "execution_count": null,
   "metadata": {},
   "outputs": [],
   "source": [
    "/Users/alexreblando/Documents/GitHub/data_analysis_ebs/online_experiment/data/finalver_b5/78/131_1_online_exp_2020-09-29_01h42.48.208"
   ]
  }
 ],
 "metadata": {
  "kernelspec": {
   "display_name": "Python 3",
   "language": "python",
   "name": "python3"
  },
  "language_info": {
   "codemirror_mode": {
    "name": "ipython",
    "version": 3
   },
   "file_extension": ".py",
   "mimetype": "text/x-python",
   "name": "python",
   "nbconvert_exporter": "python",
   "pygments_lexer": "ipython3",
   "version": "3.8.5"
  }
 },
 "nbformat": 4,
 "nbformat_minor": 2
}
