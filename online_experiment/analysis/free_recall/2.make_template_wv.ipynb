{
 "cells": [
  {
   "cell_type": "markdown",
   "metadata": {},
   "source": [
    "# Make Template Vectors\n",
    "## 11/13/20"
   ]
  },
  {
   "cell_type": "code",
   "execution_count": 1,
   "metadata": {},
   "outputs": [
    {
     "data": {
      "application/javascript": [
       "IPython.notebook.set_autosave_interval(5000)"
      ]
     },
     "metadata": {},
     "output_type": "display_data"
    },
    {
     "name": "stdout",
     "output_type": "stream",
     "text": [
      "Autosaving every 5 seconds\n"
     ]
    }
   ],
   "source": [
    "import pandas as pd\n",
    "import numpy as np\n",
    "import plotly.graph_objs as go\n",
    "import plotly.plotly as py\n",
    "import plotly\n",
    "import os\n",
    "import glob\n",
    "import math\n",
    "import statistics\n",
    "import matplotlib.pyplot as plt\n",
    "import seaborn as sns\n",
    "import pickle\n",
    "import copy\n",
    "from random import randrange\n",
    "from sklearn.metrics import jaccard_score\n",
    "import random\n",
    "\n",
    "from sklearn.decomposition import PCA #for cluster analysis\n",
    "from gensim.models import KeyedVectors #for word embeddings\n",
    "import matplotlib.pyplot as plt #for plotting\n",
    "import os #for importing\n",
    "import pickle #for loading transcripts\n",
    "from scipy.stats import pearsonr \n",
    "\n",
    "# from _DRAFT_20200604_functions import * #includes constants and score function\n",
    "from tqdm import tqdm_notebook #for progress bar\n",
    "\n",
    "%autosave 5"
   ]
  },
  {
   "cell_type": "markdown",
   "metadata": {},
   "source": [
    "# I. Imports\n",
    "## A. Importing schema texts to form templates"
   ]
  },
  {
   "cell_type": "code",
   "execution_count": 2,
   "metadata": {},
   "outputs": [],
   "source": [
    "directory = 'template_texts'\n",
    "\n",
    "filenames = glob.glob(directory + '/*.txt')\n",
    "\n",
    "dfs = {}\n",
    "    \n",
    "for filename in filenames:\n",
    "    text1 = filename.split(\"/\")[1]\n",
    "    text2 = int(text1.split(\".\")[0])\n",
    "    dfs[text2] = open(filename).read()"
   ]
  },
  {
   "cell_type": "markdown",
   "metadata": {},
   "source": [
    "## B. Importing wiki vectors"
   ]
  },
  {
   "cell_type": "code",
   "execution_count": 3,
   "metadata": {},
   "outputs": [],
   "source": [
    "wikipath = 'rolando/wiki-news-300d-1M.vec'\n",
    "wv_model = KeyedVectors.load_word2vec_format(wikipath)"
   ]
  },
  {
   "cell_type": "markdown",
   "metadata": {},
   "source": [
    "# II. Functions"
   ]
  },
  {
   "cell_type": "code",
   "execution_count": 8,
   "metadata": {},
   "outputs": [],
   "source": [
    "wv_dim = 300\n",
    "\n",
    "# FastText preprocessing, based on bittlingmayer/ft_wiki_preproc.py\n",
    "# Remove special characters, put spaces between all tokens\n",
    "SUB = [\"s/’/'/g\", \"s/′/'/g\", \"s/''/ /g\", \"s/'/ ' /g\", 's/“/\"/g', 's/”/\"/g', 's/\"/ /g', \"s/\\\\./ \\\\. /g\", \"s/<br \\\\/>/ /g\", \"s/, / , /g\", \"s/(/ ( /g\", \"s/)/ ) /g\", \"s/\\\\!/ \\\\! /g\", \"s/\\\\?/ \\\\? /g\", \"s/\\\\;/ /g\", \"s/\\\\:/ /g\", \"s/-/ - /g\", \"s/=/ /g\", \"s/=/ /g\", \"s/*/ /g\", \"s/|/ /g\", \"s/«/ /g\", \n",
    "       \"s/…/ /g\", \"s/‘/ /g\", \"s/í/ /g\", \"s/ñ/ /g\", \"s/\\x84/ /g\", \"s/î/ /g\", \"s/ó/ /g\", \"s/\\x83/ /g\", \"s/ï/ /g\", \"s/õ/ /g\",\n",
    "       \"s/ò/ /g\", \"s/,/ /g\", \"s/ô/ /g\", \"s/\\x92/ /g\", \"s/é/ /g\", \"s/\\x8e/ /g\", \"s/â\\x80¦/ /g\", \"s/\\x91/ /g\", \"s/\\x93/ /g\",\n",
    "       \"s/\\x94/ /g\", \"s/ã®/ /g\", \"s/ã¨/ /g\", \"s/ã©/ /g\",\n",
    "       \"s/\\â\\x80\\x99/ /g\", \"s/â\\x80\\x9c/ /g\", \"s/â\\x80\\x9d/ /g\", \"s/â\\x80\\x99/ /g\", \"s/â\\x80\\x9c/ /g\", \"s/â\\x80\\x98/ /g\",\n",
    "       \"s/â/ /g\"]\n",
    "\n",
    "def __normalize_text(s):\n",
    "    for sg in SUB:\n",
    "        rep = sg.replace('\\\\','').split('/')\n",
    "        s = s.replace(rep[1], rep[2])\n",
    "    s = s.replace('/',' ')\n",
    "    return s\n",
    "\n",
    "def __spaces(s):\n",
    "    return ' '.join(s.split())\n",
    "\n",
    "def __digits(s):\n",
    "    return ''.join(filter(lambda c: not c.isdigit(), s))\n",
    "\n",
    "# def preproc(s):\n",
    "#     return __punctuation(__spaces(__digits(__normalize_text(s.lower()))))\n",
    "\n",
    "def preproc(s):\n",
    "    return (__spaces(__digits(__normalize_text(s.lower()))))\n",
    "\n",
    "def __punctuation(s):\n",
    "    return s.translate(str.maketrans('', '', string.punctuation))\n",
    "\n",
    "def word2vecSent(sentence, model = 'fasttext'):\n",
    "    wv_dim = 300 #for glove and fasttext\n",
    "    \n",
    "    if model == 'glove':\n",
    "        wvmodel = glove_model\n",
    "    elif model == 'fasttext':\n",
    "        wvmodel = wv_model\n",
    "        \n",
    "    words = preproc(sentence).split(' ')\n",
    "    wv = np.zeros((len(words), wv_dim))\n",
    "    for i in range(len(words)):\n",
    "        if words[i] in wvmodel.vocab:\n",
    "            wv[i,:] = wvmodel.word_vec(words[i])\n",
    "    \n",
    "    return wv, words"
   ]
  },
  {
   "cell_type": "markdown",
   "metadata": {},
   "source": [
    "## III. Making the template vectors\n",
    "### A. Get  a WV for each template"
   ]
  },
  {
   "cell_type": "code",
   "execution_count": 21,
   "metadata": {},
   "outputs": [],
   "source": [
    "# get word vectors for all templates\n",
    "\n",
    "wvs = {}\n",
    "gran_templates = {}\n",
    "\n",
    "for key in dfs:\n",
    "    these_wvs, these_words = word2vecSent(dfs[key])\n",
    "    # Story template\n",
    "    wvs[key] = np.mean(these_wvs, axis = 0)\n",
    "    # Matrix with vectors of individual words, and list with words\n",
    "    gran_templates[key] = {'wvs': these_wvs, 'words': these_words}\n",
    "    \n",
    "    \n",
    "# Concatenating wvs for plotting below\n",
    "wvs_matrix = np.zeros((8, wv_dim))\n",
    "order_keys = np.zeros((8,1))\n",
    "count = 0\n",
    "for key in wvs:\n",
    "    wvs_matrix[count, :] = wvs[key]\n",
    "    order_keys[count] = key\n",
    "    count += 1"
   ]
  },
  {
   "cell_type": "markdown",
   "metadata": {},
   "source": [
    "### B. Plotting first 2 PCS"
   ]
  },
  {
   "cell_type": "code",
   "execution_count": 25,
   "metadata": {},
   "outputs": [
    {
     "data": {
      "image/png": "[encoded data removed]",
      "text/plain": [
       "<Figure size 720x360 with 1 Axes>"
      ]
     },
     "metadata": {
      "needs_background": "light"
     },
     "output_type": "display_data"
    }
   ],
   "source": [
    "## PCA for first 2 PCs\n",
    "pca = PCA(n_components=2)\n",
    "pca.fit(wvs_matrix)\n",
    "pc12 = pca.transform(wvs_matrix)\n",
    "\n",
    "# Order keys list\n",
    "order_keys_list = ['restaurant', 'breakup', 'airport', 'proposal', 'grocery story', 'business deal', 'lecture hall', 'meet-cute']\n",
    "\n",
    "## plot\n",
    "plt.figure(figsize=(10,5))\n",
    "\n",
    "y = ['r' if sc%10 == 0 else 'b' for sc in order_keys] ## for coloring points by schema\n",
    "\n",
    "plt.scatter(pc12[:,0], pc12[:,1],c=y)\n",
    "\n",
    "for i in range(8):\n",
    "    plt.text(pc12[i, 0], pc12[i, 1], s= order_keys_list[i] )\n",
    "    \n",
    "plt.xlabel(\"PC 1\", fontsize=15); plt.ylabel(\"PC 2\",fontsize=15);\n",
    "\n",
    "\n"
   ]
  },
  {
   "cell_type": "markdown",
   "metadata": {},
   "source": [
    "## IV. Exporting vector templates"
   ]
  },
  {
   "cell_type": "code",
   "execution_count": 26,
   "metadata": {},
   "outputs": [],
   "source": [
    "pickle.dump( wvs, open( 'template_vectors', \"wb\" ) )"
   ]
  },
  {
   "cell_type": "markdown",
   "metadata": {},
   "source": [
    "# V. Exporting gran_templates"
   ]
  },
  {
   "cell_type": "code",
   "execution_count": 27,
   "metadata": {},
   "outputs": [],
   "source": [
    "pickle.dump( gran_templates, open( 'gran_templates', \"wb\" ) )"
   ]
  },
  {
   "cell_type": "code",
   "execution_count": null,
   "metadata": {},
   "outputs": [],
   "source": []
  }
 ],
 "metadata": {
  "kernelspec": {
   "display_name": "Python 3",
   "language": "python",
   "name": "python3"
  },
  "language_info": {
   "codemirror_mode": {
    "name": "ipython",
    "version": 3
   },
   "file_extension": ".py",
   "mimetype": "text/x-python",
   "name": "python",
   "nbconvert_exporter": "python",
   "pygments_lexer": "ipython3",
   "version": "3.8.5"
  }
 },
 "nbformat": 4,
 "nbformat_minor": 2
}
