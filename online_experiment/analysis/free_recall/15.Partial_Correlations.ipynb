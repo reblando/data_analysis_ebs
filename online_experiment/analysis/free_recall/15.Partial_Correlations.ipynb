{
 "cells": [
  {
   "cell_type": "markdown",
   "metadata": {},
   "source": [
    "# Find the partial correlations between each priming group in all stories and the loc template, soc template, and story vectors\n",
    "\n",
    "## output: for each type of priming the partial correlation of each type of vector averaged across stories\n",
    "## 12/17/20"
   ]
  },
  {
   "cell_type": "code",
   "execution_count": 16,
   "metadata": {},
   "outputs": [
    {
     "data": {
      "application/javascript": [
       "IPython.notebook.set_autosave_interval(5000)"
      ]
     },
     "metadata": {},
     "output_type": "display_data"
    },
    {
     "name": "stdout",
     "output_type": "stream",
     "text": [
      "Autosaving every 5 seconds\n"
     ]
    }
   ],
   "source": [
    "import pandas as pd\n",
    "import numpy as np\n",
    "import plotly.graph_objs as go\n",
    "import plotly.plotly as py\n",
    "import plotly\n",
    "import os\n",
    "import glob\n",
    "import math\n",
    "import statistics\n",
    "import matplotlib.pyplot as plt\n",
    "import seaborn as sns\n",
    "import pickle\n",
    "import copy\n",
    "from random import randrange\n",
    "from sklearn.metrics import jaccard_score\n",
    "import random\n",
    "from sklearn.preprocessing import normalize\n",
    "from sklearn.linear_model import LinearRegression\n",
    "from scipy import stats\n",
    "\n",
    "\n",
    "from sklearn.decomposition import PCA #for cluster analysis\n",
    "from gensim.models import KeyedVectors #for word embeddings\n",
    "import matplotlib.pyplot as plt #for plotting\n",
    "import os #for importing\n",
    "import pickle #for loading transcripts\n",
    "from scipy.stats import pearsonr \n",
    "\n",
    "# from _DRAFT_20200604_functions import * #includes constants and score function\n",
    "from tqdm import tqdm_notebook #for progress bar\n",
    "\n",
    "%autosave 5"
   ]
  },
  {
   "cell_type": "markdown",
   "metadata": {},
   "source": [
    "# 0. Importing story and template vectors and sums "
   ]
  },
  {
   "cell_type": "code",
   "execution_count": 2,
   "metadata": {},
   "outputs": [],
   "source": [
    "templates = pickle.load( open( 'c_template', \"rb\" ) )\n",
    "recalls = pickle.load( open( 'c_recall', \"rb\" ) )\n",
    "stories = pickle.load( open( 'c_stories', \"rb\" ) )\n",
    "# sums\n",
    "sums = pickle.load( open( \"new_sums\", \"rb\" ) )"
   ]
  },
  {
   "cell_type": "code",
   "execution_count": 44,
   "metadata": {},
   "outputs": [],
   "source": [
    "norm = 0"
   ]
  },
  {
   "cell_type": "markdown",
   "metadata": {},
   "source": [
    "# I. AVERAGING WEIGHTS\n",
    "## A. get recall averages across different priming groups"
   ]
  },
  {
   "cell_type": "code",
   "execution_count": 45,
   "metadata": {},
   "outputs": [],
   "source": [
    "story_order = [11,12,13,14,21,22,23,24,31,32,33,34,41,42,43,44]\n",
    "recall_avg = {}\n",
    "\n",
    "for key in story_order:\n",
    "    # Loop through all conditions\n",
    "    for i in range(0, 3):\n",
    "        if i == 0:\n",
    "            recall_avg[key] ={i: np.mean(recalls[key][i], axis = 0)}\n",
    "        else:    \n",
    "            recall_avg[key][i] = np.mean(recalls[key][i], axis = 0)"
   ]
  },
  {
   "cell_type": "markdown",
   "metadata": {},
   "source": [
    "## B. Regressing out the non-correlated weights"
   ]
  },
  {
   "cell_type": "code",
   "execution_count": 47,
   "metadata": {},
   "outputs": [],
   "source": [
    "# Partial correlation with soc: regress out soc and story, and correlate with loc\n",
    "pc_loc = np.zeros((3,16))\n",
    "count = 0\n",
    "\n",
    "for key in recall_avg:\n",
    "    loc = key%10\n",
    "    soc = round(key/10)*10\n",
    "    # Make the inputs of the regression\n",
    "    # location template\n",
    "    l_temp = templates[loc].reshape(templates[loc].shape[0],-1)\n",
    "    # social template\n",
    "    s_temp = templates[soc].reshape(templates[soc].shape[0],-1)\n",
    "    # story vector\n",
    "    story_vec = stories[key].reshape(stories[key].shape[0],-1)\n",
    "    # Concatenating inputes\n",
    "    inputs = np.concatenate((s_temp, story_vec), axis = 1)\n",
    "    for i in range(0, 3):\n",
    "        output = np.copy(recall_avg[key][i])\n",
    "        model = LinearRegression().fit(inputs, output)\n",
    "        ## Is subtracting the intercept correct?? \n",
    "        new_vec = output - np.dot(model.coef_, inputs.T)- model.intercept_\n",
    "        # reshape\n",
    "        new_vec = new_vec[:, np.newaxis]\n",
    "        ## Should I norm?\n",
    "        if norm == 1:\n",
    "            new_vec = stats.zscore(new_vec)\n",
    "        # partial correlation new_vec with loc template\n",
    "        this_correl = np.corrcoef(new_vec.T, l_temp.T)\n",
    "        pc_loc[i][count] = this_correl[0,1]\n",
    "    count += 1\n",
    "    \n",
    "# Partial correlation with soc: regress out loc and story, and correlate with soc\n",
    "pc_soc = np.zeros((3,16))\n",
    "count = 0\n",
    "\n",
    "for key in recall_avg:\n",
    "    loc = key%10\n",
    "    soc = round(key/10)*10\n",
    "    # Make the inputs of the regression\n",
    "    # location template\n",
    "    l_temp = templates[loc].reshape(templates[loc].shape[0],-1)\n",
    "    # social template\n",
    "    s_temp = templates[soc].reshape(templates[soc].shape[0],-1)\n",
    "    # story vector\n",
    "    story_vec = stories[key].reshape(stories[key].shape[0],-1)\n",
    "    # Concatenating inputes\n",
    "    inputs = np.concatenate((l_temp, story_vec), axis = 1)\n",
    "    for i in range(0, 3):\n",
    "        output = np.copy(recall_avg[key][i])\n",
    "        model = LinearRegression().fit(inputs, output)\n",
    "        ## Is subtracting the intercept correct?? \n",
    "        new_vec = output - np.dot(model.coef_, inputs.T)- model.intercept_\n",
    "        # reshape\n",
    "        new_vec = new_vec[:, np.newaxis]\n",
    "        ## Should I norm?\n",
    "        if norm == 1:\n",
    "            new_vec = stats.zscore(new_vec)\n",
    "        # partial correlation new_vec with soc template\n",
    "        this_correl = np.corrcoef(new_vec.T, s_temp.T)\n",
    "        pc_soc[i][count] = this_correl[0,1]\n",
    "    count += 1\n",
    "    \n",
    "# Partial correlation with story: regress out loc and soc, and correlate with story\n",
    "pc_story = np.zeros((3,16))\n",
    "count = 0\n",
    "\n",
    "for key in recall_avg:\n",
    "    loc = key%10\n",
    "    soc = round(key/10)*10\n",
    "    # Make the inputs of the regression\n",
    "    # location template\n",
    "    l_temp = templates[loc].reshape(templates[loc].shape[0],-1)\n",
    "    # social template\n",
    "    s_temp = templates[soc].reshape(templates[soc].shape[0],-1)\n",
    "    # story vector\n",
    "    story_vec = stories[key].reshape(stories[key].shape[0],-1)\n",
    "    # Concatenating inputes\n",
    "    inputs = np.concatenate((l_temp, s_temp), axis = 1)\n",
    "    for i in range(0, 3):\n",
    "        output = np.copy(recall_avg[key][i])\n",
    "        model = LinearRegression().fit(inputs, output)\n",
    "        ## Is subtracting the intercept correct?? \n",
    "        new_vec = output - np.dot(model.coef_, inputs.T)- model.intercept_\n",
    "        # reshape\n",
    "        new_vec = new_vec[:, np.newaxis]\n",
    "        ## Should I norm?\n",
    "        if norm == 1:\n",
    "            new_vec = stats.zscore(new_vec)\n",
    "        # partial correlation new_vec with soc template\n",
    "        this_correl = np.corrcoef(new_vec.T, story_vec.T)\n",
    "        pc_story[i][count] = this_correl[0,1]\n",
    "    count += 1"
   ]
  },
  {
   "cell_type": "markdown",
   "metadata": {},
   "source": [
    "## C. Avg across weights for each priming type and plot"
   ]
  },
  {
   "cell_type": "code",
   "execution_count": 48,
   "metadata": {},
   "outputs": [
    {
     "data": {
      "text/plain": [
       "array([0.09535877, 0.19017411, 0.10568758])"
      ]
     },
     "execution_count": 48,
     "metadata": {},
     "output_type": "execute_result"
    }
   ],
   "source": [
    "np.mean(pc_loc, axis = 1)"
   ]
  },
  {
   "cell_type": "code",
   "execution_count": 49,
   "metadata": {},
   "outputs": [
    {
     "data": {
      "text/plain": [
       "array([[-0.07350994,  0.13655586, -0.12411349,  0.03050598,  0.05671771,\n",
       "        -0.14814745,  0.26152995,  0.38098654, -0.03627713,  0.23000524,\n",
       "         0.10985352,  0.28637092, -0.08720676,  0.0902744 ,  0.30895948,\n",
       "         0.10323552],\n",
       "       [ 0.0616965 ,  0.6158353 , -0.02696461,  0.01036008,  0.2523115 ,\n",
       "        -0.09568207,  0.32072373,  0.27778051,  0.18357174,  0.28042079,\n",
       "         0.45738625,  0.24773673, -0.04346367,  0.15111861,  0.30033381,\n",
       "         0.04962051],\n",
       "       [-0.08323116,  0.11721514,  0.09085536,  0.11448905,  0.15187374,\n",
       "        -0.01772798,  0.38978143,  0.24742875, -0.01578806,  0.09582808,\n",
       "         0.20749649,  0.09490366, -0.01543228, -0.14251795,  0.27715752,\n",
       "         0.17866951]])"
      ]
     },
     "execution_count": 49,
     "metadata": {},
     "output_type": "execute_result"
    }
   ],
   "source": [
    "pc_loc"
   ]
  },
  {
   "cell_type": "code",
   "execution_count": 50,
   "metadata": {},
   "outputs": [
    {
     "data": {
      "image/png": "[encoded data removed]",
      "text/plain": [
       "<Figure size 432x288 with 1 Axes>"
      ]
     },
     "metadata": {
      "needs_background": "light"
     },
     "output_type": "display_data"
    }
   ],
   "source": [
    "# loc weight\n",
    "w0 = np.zeros((3,1))\n",
    "\n",
    "# soc weight\n",
    "w1 = np.zeros((3,1))\n",
    "\n",
    "# story weight\n",
    "w2 = np.zeros((3,1))\n",
    "\n",
    "# assign values\n",
    "w0[0] = np.mean(pc_loc, axis = 0)[0]\n",
    "w0[1] = np.mean(pc_loc, axis = 0)[1]\n",
    "w0[2] = np.mean(pc_loc, axis = 0)[2]\n",
    "\n",
    "w1[0] = np.mean(pc_soc, axis = 0)[0]\n",
    "w1[1] = np.mean(pc_soc, axis = 0)[1]\n",
    "w1[2] = np.mean(pc_soc, axis = 0)[2]\n",
    "\n",
    "w2[0] = np.mean(pc_story, axis = 0)[0]\n",
    "w2[1] = np.mean(pc_story, axis = 0)[1]\n",
    "w2[2] = np.mean(pc_story, axis = 0)[2]\n",
    "\n",
    "\n",
    "w0 = w0.ravel()\n",
    "w1 = w1.ravel()\n",
    "w2 = w2.ravel()\n",
    "\n",
    "#labels\n",
    "labels = ['no prime', 'loc', 'soc']\n",
    "\n",
    "x = np.arange(len(labels))  # the label locations\n",
    "width = 0.25  # the width of the bars\n",
    "\n",
    "fig, ax = plt.subplots()\n",
    "\n",
    "rects1 = ax.bar(x, w0, width, label='loc weight')\n",
    "rects2 = ax.bar(x + width, w1, width, label='soc weight')\n",
    "rects3 = ax.bar(x + width*2, w2, width, label='story weight')\n",
    "\n",
    "# Add some text for labels, title and custom x-axis tick labels, etc.\n",
    "ax.set_ylabel('weight value')\n",
    "ax.set_title('loc, soc and story weights for recall regression')\n",
    "ax.set_xticks(x + width)\n",
    "ax.set_xticklabels(labels)\n",
    "ax.legend()\n",
    "fig.tight_layout()\n",
    "\n",
    "plt.show()\n",
    "\n",
    "\n"
   ]
  }
 ],
 "metadata": {
  "kernelspec": {
   "display_name": "Python 3",
   "language": "python",
   "name": "python3"
  },
  "language_info": {
   "codemirror_mode": {
    "name": "ipython",
    "version": 3
   },
   "file_extension": ".py",
   "mimetype": "text/x-python",
   "name": "python",
   "nbconvert_exporter": "python",
   "pygments_lexer": "ipython3",
   "version": "3.6.8"
  }
 },
 "nbformat": 4,
 "nbformat_minor": 2
}
