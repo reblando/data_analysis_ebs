{
 "cells": [
  {
   "cell_type": "markdown",
   "metadata": {},
   "source": [
    "# Are the recalls more schematic than the stories themselves?\n",
    "## Comparing the avg word correlation of the recalls with the location and social template to the avg word correlation of the stories to the location and social template. \n",
    "\n",
    "\n",
    "#### 3/18/21\n"
   ]
  },
  {
   "cell_type": "code",
   "execution_count": 1,
   "metadata": {
    "scrolled": true
   },
   "outputs": [
    {
     "data": {
      "application/javascript": [
       "IPython.notebook.set_autosave_interval(5000)"
      ]
     },
     "metadata": {},
     "output_type": "display_data"
    },
    {
     "name": "stdout",
     "output_type": "stream",
     "text": [
      "Autosaving every 5 seconds\n"
     ]
    }
   ],
   "source": [
    "import pandas as pd\n",
    "import numpy as np\n",
    "import plotly.graph_objs as go\n",
    "import plotly.plotly as py\n",
    "import plotly\n",
    "import os\n",
    "import glob\n",
    "import math\n",
    "import statistics\n",
    "import matplotlib.pyplot as plt\n",
    "import seaborn as sns\n",
    "import pickle\n",
    "import copy\n",
    "from random import randrange\n",
    "from sklearn.metrics import jaccard_score\n",
    "import random\n",
    "from sklearn.preprocessing import normalize\n",
    "from sklearn.linear_model import LinearRegression\n",
    "from scipy import stats\n",
    "\n",
    "\n",
    "from sklearn.decomposition import PCA #for cluster analysis\n",
    "from gensim.models import KeyedVectors #for word embeddings\n",
    "import matplotlib.pyplot as plt #for plotting\n",
    "import os #for importing\n",
    "import pickle #for loading transcripts\n",
    "from scipy.stats import pearsonr \n",
    "\n",
    "# from _DRAFT_20200604_functions import * #includes constants and score function\n",
    "from tqdm import tqdm_notebook #for progress bar\n",
    "\n",
    "#Import wordcloud\n",
    "from wordcloud import WordCloud, STOPWORDS, ImageColorGenerator\n",
    "\n",
    "%autosave 5"
   ]
  },
  {
   "cell_type": "markdown",
   "metadata": {},
   "source": [
    "# 0. Import recalls, and uncentered story and template vectors and sums "
   ]
  },
  {
   "cell_type": "code",
   "execution_count": 2,
   "metadata": {
    "scrolled": true
   },
   "outputs": [],
   "source": [
    "# import recalls and sums\n",
    "recalls = pickle.load( open( 'fr_recalls', \"rb\" ) )\n",
    "sums = pickle.load( open( \"fr_sums\", \"rb\" ) )\n",
    "\n",
    "#import individual words of stories\n",
    "granstories = pickle.load( open( 'gran_stories', \"rb\" ) )\n",
    "\n",
    "#import non-centered story, template\n",
    "templates = pickle.load( open( 'template_vectors', \"rb\" ) )\n",
    "stories = pickle.load( open( 'actual_story_vectors', \"rb\" ) )"
   ]
  },
  {
   "cell_type": "code",
   "execution_count": 8,
   "metadata": {
    "scrolled": false
   },
   "outputs": [
    {
     "data": {
      "text/plain": [
       "array([[\"Thomas invites Sadie to the back of the bar to discuss a breakup due to him needing to plan his career pathway. Sadie doesn't believe and breaks down in tears. With a sudden change of event, she breaks the plate and gets furious and STORMS out of the door. Being said, Thomas is shooked and continues to eat his plain burger.\",\n",
       "        '/Users/alexreblando/Documents/GitHub/data_analysis_ebs/online_experiment/data/finalver_b1/33/64_1_online_exp_2020-06-10_15h07.52.732',\n",
       "        '5eb882738aa2327d047dd79b'],\n",
       "       ['Thomas is meeting Sadie with the intention of breaking up. He has been thinking about ending the relationship for 2 months. He chooses a restaurant decorated like a diner and when Sadie arrives, he asks for a booth in the back. After they sit down Sadie asks about Thomas\\' day. After a few moments of nervous picking at his hands, Thomas tells her that he thinks he needs a break to focus on his job. He\\'s considering changing careers and feels he is under too much stress. Sadie Suggests that they stay together and spend less time with each other to help alleviate Thomas\\' stress. They both order a meal, Thomas a burger without tomatoes and Sadie a Reuben. Sadie begins to cry loudly. The other patrons realize what is happening and they avert their eyes. After the food arrives the waiter asks if they\\'ll be wanting desert to which Thomas replies \"thanks, we\\'re good\". Sadie then becomes angry and stands up brandishing half a sandwich at Thomas. She tells him not to follow her or ever contact her again and that she wants her camera and Beatles poster back. Thomas is left to wonder how things went so badly so quickly. He takes a bite of his burger which tastes dry and vaguely fishy.',\n",
       "        '/Users/alexreblando/Documents/GitHub/data_analysis_ebs/online_experiment/data/finalver_b2/30/208_1_online_exp_2020-06-24_10h35.03.232',\n",
       "        '5e3adfc595ff562fbdd130fa'],\n",
       "       [\"Tom and Sadie were meeting at a restaurant. Tom wants to break up with Sadie. They are greeted and Tom asks for a private booth. Once they have seen the menus, they order their food. When the waiter delivers their food, Tom says to Sadie that he wants to take a break from their relationship so he can concentrate on his career development. Sadie is upset and tries to explain that she thought everything was fine with them and that if he wants to, they can see less of each for a while, Tom says no and Sadie gets angry. She waves her food in front of him and says not to call her and that she wants her Polaroid and Beatles poster back. She storms out of the restaurant and Tom is left looking surprised. Other people in the restaurant look up at the agrument but avert their gaze when they understand what's happened.Tom takes a biite of his burger but thinks it tastes bitter. He wonders if the restaurant has done somethng deliberately.\",\n",
       "        '/Users/alexreblando/Documents/GitHub/data_analysis_ebs/online_experiment/data/finalver_b3/45/352_1_online_exp_2020-07-16_09h08.13.747',\n",
       "        '5e93138a7d69590115fa1e21'],\n",
       "       [\"Boyfriend wants to break up and has been thinking about it for the past two months. He picks a 70's style restaurant to meet his girlfriend. She arrives, hugs him and tells him she missed he asks how her day had been. The boyfriend asks the hostess for a booth at the back. The hostess is blowing bubblegum bubbles and shows them to the table. The girlfriend asks how his day was, and he then tells her he needs a break from the relationship to focus on his career. The hostess asks to take their order and they glance at the menus and order something recognisable. The girlfriend then asks if a break up is what he really wants and says she doesn't think they should break up as things were fine and they could hang out less and don't have to see each other all the time. The waitress arrives with the food. Sadie stands up, grabs her food, tells him not to talk to her or see her again and that she wants her stuff back, and leaves. The boyfriend then tries his burger and its foul-tasting and he doesn't know if its the restaurant or the situation who is to blame.\",\n",
       "        '/Users/alexreblando/Documents/GitHub/data_analysis_ebs/online_experiment/data/finalver_b3/45/448_1_online_exp_2020-07-16_09h37.14.266',\n",
       "        '5d88b1c27250e90001c40cfc'],\n",
       "       ['The guy wants to break up with his girlfriend Sadie after thinking about it for two months.  He meets her at the restaurant and they get a booth in the back.  Sadie can tell something is wrong and asks him what is going on and he says that he wants to break up because he is having second thoughts about his career and wants time to get that on track.  After trying to convince him that they could see each other less, Sadie gets upset and after their order arrives, he got a hamburger and she got a rueben, takes half of it shakes it in his face and yells at him that she wants her things back.  She then leaves the restaurant.  He takes a bite of his burger and thinks it tastes bad and wonders if it is the fault of the restaurant. ',\n",
       "        '/Users/alexreblando/Documents/GitHub/data_analysis_ebs/online_experiment/data/finalver_b5/78/128_1_online_exp_2020-09-28_14h41.26.429',\n",
       "        '561bbdf9811d22000df3138a'],\n",
       "       ['About a girl and her friend. ',\n",
       "        '/Users/alexreblando/Documents/GitHub/data_analysis_ebs/online_experiment/data/finalver_b5/78/4_1_online_exp_2020-09-28_06h46.56.248',\n",
       "        '5f70ae7ad1dae5090b80dbd9'],\n",
       "       ['After a few months of thinking, Thomas decided to take a break from the relationship with Saudie because he wanted to figure out his career path by himself. He picked a restaurant as the meet-up location. Saudie did not want to break up at first when he proposed the reason. They ordered some foods from the restaurant menu then continue to talk. Saudie angrily picked the food and left when the food arrived. She also demanded her camera and poster back. Thomas tried the food after that but it tasted sour.',\n",
       "        '/Users/alexreblando/Documents/GitHub/data_analysis_ebs/online_experiment/data/finalver_b6/76/170_1_online_exp_2020-10-20_11h50.52.248',\n",
       "        '5f52c66cf5bba95cf9f90c66'],\n",
       "       ['a restaurant story.\\n',\n",
       "        '/Users/alexreblando/Documents/GitHub/data_analysis_ebs/online_experiment/data/finalver_b6/76/85_1_online_exp_2020-10-21_00h21.05.606',\n",
       "        '5f8ead4b2d456102ab13c2f5']], dtype=object)"
      ]
     },
     "execution_count": 8,
     "metadata": {},
     "output_type": "execute_result"
    }
   ],
   "source": [
    "recalls[11][1]"
   ]
  },
  {
   "cell_type": "markdown",
   "metadata": {},
   "source": [
    "## Word to Vec"
   ]
  },
  {
   "cell_type": "code",
   "execution_count": 3,
   "metadata": {
    "scrolled": true
   },
   "outputs": [],
   "source": [
    "wikipath = 'rolando/wiki-news-300d-1M.vec'\n",
    "wv_model = KeyedVectors.load_word2vec_format(wikipath)"
   ]
  },
  {
   "cell_type": "code",
   "execution_count": 4,
   "metadata": {
    "scrolled": true
   },
   "outputs": [],
   "source": [
    "wv_dim = 300\n",
    "\n",
    "# FastText preprocessing, based on bittlingmayer/ft_wiki_preproc.py\n",
    "# Remove special characters, put spaces between all tokens\n",
    "SUB = [\"s/’/'/g\", \"s/′/'/g\", \"s/''/ /g\", \"s/'/ ' /g\", 's/“/\"/g', 's/”/\"/g', 's/\"/ /g', \"s/\\\\./ \\\\. /g\", \"s/<br \\\\/>/ /g\", \"s/, / , /g\", \"s/(/ ( /g\", \"s/)/ ) /g\", \"s/\\\\!/ \\\\! /g\", \"s/\\\\?/ \\\\? /g\", \"s/\\\\;/ /g\", \"s/\\\\:/ /g\", \"s/-/ - /g\", \"s/=/ /g\", \"s/=/ /g\", \"s/*/ /g\", \"s/|/ /g\", \"s/«/ /g\", \n",
    "       \"s/…/ /g\", \"s/‘/ /g\", \"s/í/ /g\", \"s/ñ/ /g\", \"s/\\x84/ /g\", \"s/î/ /g\", \"s/ó/ /g\", \"s/\\x83/ /g\", \"s/ï/ /g\", \"s/õ/ /g\",\n",
    "       \"s/ò/ /g\", \"s/,/ /g\", \"s/ô/ /g\", \"s/\\x92/ /g\", \"s/é/ /g\", \"s/\\x8e/ /g\", \"s/â\\x80¦/ /g\", \"s/\\x91/ /g\", \"s/\\x93/ /g\",\n",
    "       \"s/\\x94/ /g\", \"s/ã®/ /g\", \"s/ã¨/ /g\", \"s/ã©/ /g\",\n",
    "       \"s/\\â\\x80\\x99/ /g\", \"s/â\\x80\\x9c/ /g\", \"s/â\\x80\\x9d/ /g\", \"s/â\\x80\\x99/ /g\", \"s/â\\x80\\x9c/ /g\", \"s/â\\x80\\x98/ /g\",\n",
    "       \"s/â/ /g\"]\n",
    "\n",
    "def __normalize_text(s):\n",
    "    for sg in SUB:\n",
    "        rep = sg.replace('\\\\','').split('/')\n",
    "        s = s.replace(rep[1], rep[2])\n",
    "    s = s.replace('/',' ')\n",
    "    return s\n",
    "\n",
    "def __spaces(s):\n",
    "    return ' '.join(s.split())\n",
    "\n",
    "def __digits(s):\n",
    "    return ''.join(filter(lambda c: not c.isdigit(), s))\n",
    "\n",
    "# def preproc(s):\n",
    "#     return __punctuation(__spaces(__digits(__normalize_text(s.lower()))))\n",
    "\n",
    "def preproc(s):\n",
    "    return (__spaces(__digits(__normalize_text(s.lower()))))\n",
    "\n",
    "def __punctuation(s):\n",
    "    return s.translate(str.maketrans('', '', string.punctuation))\n",
    "\n",
    "def word2vecSent(sentence, model = 'fasttext'):\n",
    "    wv_dim = 300 #for glove and fasttext\n",
    "    \n",
    "    if model == 'glove':\n",
    "        wvmodel = glove_model\n",
    "    elif model == 'fasttext':\n",
    "        wvmodel = wv_model\n",
    "        \n",
    "    words = preproc(sentence).split(' ')\n",
    "    wv = np.zeros((len(words), wv_dim))\n",
    "    for i in range(len(words)):\n",
    "        if words[i] in wvmodel.vocab:\n",
    "            wv[i,:] = wvmodel.word_vec(words[i])\n",
    "    \n",
    "    return words, wv"
   ]
  },
  {
   "cell_type": "markdown",
   "metadata": {},
   "source": [
    "\n",
    "# Recalls: Concatenate words and word vectors in parallel across all participants in a story"
   ]
  },
  {
   "cell_type": "code",
   "execution_count": 5,
   "metadata": {
    "scrolled": true
   },
   "outputs": [],
   "source": [
    "all_words = {}\n",
    "all_wvs = {}\n",
    "#priming type order\n",
    "all_priming = {}\n",
    "\n",
    "#iterate through all recalls in a story and concatente words and wvs of all stories\n",
    "for key in recalls:\n",
    "    words = np.zeros((0,1))\n",
    "    wvs = np.zeros((0,300))\n",
    "    priming = np.zeros((0,1))\n",
    "    for i in range(0,3):\n",
    "        for j in range(0,len(recalls[key][i])):\n",
    "            p_words, p_wvs = word2vecSent(recalls[key][i][j][0])\n",
    "            # reshape p_words\n",
    "            p_words = np.array(p_words)\n",
    "            p_words = p_words.reshape(p_words.shape[0],-1)\n",
    "            p_priming = np.zeros(p_words.shape)\n",
    "            p_priming = p_priming + i\n",
    "            # stack p_words and p_wvs\n",
    "            words = np.vstack((words, p_words))\n",
    "            wvs = np.vstack((wvs, p_wvs))\n",
    "            priming = np.vstack((priming, p_priming))\n",
    "    all_words[key] = words\n",
    "    all_wvs[key] = wvs\n",
    "    all_priming[key] = priming "
   ]
  },
  {
   "cell_type": "markdown",
   "metadata": {},
   "source": [
    "# 2. Centering all words + story wvs + template wvs"
   ]
  },
  {
   "cell_type": "code",
   "execution_count": 6,
   "metadata": {
    "scrolled": true
   },
   "outputs": [
    {
     "name": "stdout",
     "output_type": "stream",
     "text": [
      "(47682, 300)\n"
     ]
    }
   ],
   "source": [
    "#Concatenate all words from recall\n",
    "\n",
    "concat = np.zeros((0,300))\n",
    "\n",
    "for key in all_wvs:\n",
    "    for i in range(0, len(all_wvs[key])):\n",
    "        concat = np.vstack((concat, all_wvs[key][i]))\n",
    "    \n",
    "for key in granstories:\n",
    "    concat = np.vstack((concat, granstories[key]['wvs']))\n",
    "    \n",
    "for key in templates:\n",
    "    concat = np.vstack((concat, templates[key]))\n",
    "print(concat.shape)\n",
    "\n",
    "centering_vec = np.mean(concat, axis = 0)\n",
    "\n",
    "# template vectors\n",
    "\n",
    "for key in templates:\n",
    "    templates[key] = templates[key] - centering_vec\n",
    "    \n",
    "# recall vectors\n",
    "\n",
    "for key in recalls:\n",
    "    for i in range(0, len(all_wvs[key])):\n",
    "        all_wvs[key][i] = all_wvs[key][i] - centering_vec\n",
    "            \n",
    "#story vectors\n",
    "\n",
    "#make new dict with int key instead of string\n",
    "for key in granstories:\n",
    "    granstories[key]['wvs'] = granstories[key]['wvs'] - centering_vec"
   ]
  },
  {
   "cell_type": "code",
   "execution_count": 7,
   "metadata": {
    "scrolled": true
   },
   "outputs": [
    {
     "name": "stdout",
     "output_type": "stream",
     "text": [
      "32\n",
      "34\n",
      "33\n",
      "11\n",
      "42\n",
      "21\n",
      "44\n",
      "43\n",
      "31\n",
      "41\n",
      "24\n",
      "23\n",
      "12\n",
      "13\n",
      "14\n",
      "22\n"
     ]
    }
   ],
   "source": [
    "for key in granstories:\n",
    "    print(key)"
   ]
  },
  {
   "cell_type": "markdown",
   "metadata": {},
   "source": [
    "## raveling all_words and all_priming"
   ]
  },
  {
   "cell_type": "code",
   "execution_count": 8,
   "metadata": {
    "scrolled": true
   },
   "outputs": [],
   "source": [
    "for key in all_words:\n",
    "    all_words[key] = np.ravel(all_words[key])\n",
    "    all_priming[key] = np.ravel(all_priming[key])"
   ]
  },
  {
   "cell_type": "markdown",
   "metadata": {},
   "source": [
    "# *LOC* correlations with recalls\n"
   ]
  },
  {
   "cell_type": "code",
   "execution_count": 9,
   "metadata": {
    "scrolled": true
   },
   "outputs": [],
   "source": [
    "new_wvs = copy.deepcopy(all_wvs)"
   ]
  },
  {
   "cell_type": "code",
   "execution_count": 10,
   "metadata": {
    "scrolled": true
   },
   "outputs": [],
   "source": [
    "### A. Correlate each word with the LOC WV\n",
    "loc_cors = {}\n",
    "\n",
    "for key in all_wvs:\n",
    "    n = new_wvs[key].shape[0]\n",
    "    this_loc_cors = np.zeros((n,1))\n",
    "    loc = key%10\n",
    "    this_loc = templates[loc].reshape(templates[loc].shape[0], -1)\n",
    "    for i in range(0, n):\n",
    "        this_wv = new_wvs[key][i].reshape(new_wvs[key][i].shape[0], -1)\n",
    "        this_correl = np.corrcoef(this_loc.T, this_wv.T)\n",
    "        this_loc_cors[i] = this_correl[0,1]\n",
    "    loc_cors[key] = np.ravel(this_loc_cors)\n",
    "    \n",
    "#avg loc cors\n",
    "\n",
    "loc_concat = np.zeros((0,1))\n",
    "for key in loc_cors:\n",
    "    this_loc = loc_cors[key].reshape(loc_cors[key].shape[0], -1)\n",
    "    loc_concat = np.vstack((loc_concat, this_loc))\n",
    "\n",
    "recall_loc_avg = np.nanmean(loc_concat)"
   ]
  },
  {
   "cell_type": "code",
   "execution_count": 11,
   "metadata": {
    "scrolled": true
   },
   "outputs": [
    {
     "name": "stdout",
     "output_type": "stream",
     "text": [
      "0.013462808978863025\n"
     ]
    }
   ],
   "source": [
    "print(recall_loc_avg)"
   ]
  },
  {
   "cell_type": "markdown",
   "metadata": {},
   "source": [
    "# *SOC* correlations with recalls\n"
   ]
  },
  {
   "cell_type": "code",
   "execution_count": 12,
   "metadata": {
    "scrolled": true
   },
   "outputs": [],
   "source": [
    "### A. Correlate each word with the LOC WV\n",
    "soc_cors = {}\n",
    "\n",
    "for key in all_wvs:\n",
    "    n = new_wvs[key].shape[0]\n",
    "    this_soc_cors = np.zeros((n,1))\n",
    "    soc = round(key/10)*10\n",
    "    this_soc = templates[soc].reshape(templates[soc].shape[0], -1)\n",
    "    for i in range(0, n):\n",
    "        this_wv = new_wvs[key][i].reshape(new_wvs[key][i].shape[0], -1)\n",
    "        this_correl = np.corrcoef(this_soc.T, this_wv.T)\n",
    "        this_soc_cors[i] = this_correl[0,1]\n",
    "    soc_cors[key] = np.ravel(this_soc_cors)\n",
    "    \n",
    "#avg loc cors\n",
    "\n",
    "soc_concat = np.zeros((0,1))\n",
    "for key in soc_cors:\n",
    "    this_soc = soc_cors[key].reshape(soc_cors[key].shape[0], -1)\n",
    "    soc_concat = np.vstack((soc_concat, this_soc))\n",
    "\n",
    "recall_soc_avg = np.nanmean(soc_concat)"
   ]
  },
  {
   "cell_type": "code",
   "execution_count": 13,
   "metadata": {
    "scrolled": true
   },
   "outputs": [
    {
     "name": "stdout",
     "output_type": "stream",
     "text": [
      "0.024086174060314058\n"
     ]
    }
   ],
   "source": [
    "print(recall_soc_avg)"
   ]
  },
  {
   "cell_type": "markdown",
   "metadata": {},
   "source": [
    "# *LOC* correlations with stories"
   ]
  },
  {
   "cell_type": "code",
   "execution_count": 14,
   "metadata": {
    "scrolled": true
   },
   "outputs": [
    {
     "name": "stdout",
     "output_type": "stream",
     "text": [
      "(741, 1)\n",
      "(1300, 1)\n",
      "(2047, 1)\n",
      "(2722, 1)\n",
      "(3458, 1)\n",
      "(4031, 1)\n",
      "(4563, 1)\n",
      "(5024, 1)\n",
      "(5716, 1)\n",
      "(6336, 1)\n",
      "(6939, 1)\n",
      "(7554, 1)\n",
      "(8152, 1)\n",
      "(8709, 1)\n",
      "(9358, 1)\n",
      "(10129, 1)\n"
     ]
    }
   ],
   "source": [
    "### A. Correlate each word with the LOC WV\n",
    "loc_cors = {}\n",
    "\n",
    "for key in granstories.keys():\n",
    "    n = granstories[key]['wvs'].shape[0]\n",
    "    this_loc_cors = np.zeros((n,1))\n",
    "    loc = int(key)%10\n",
    "    this_loc = templates[int(loc)].reshape(templates[int(loc)].shape[0], -1)\n",
    "    for i in range(0, n):\n",
    "        this_wv = granstories[key]['wvs'][i].reshape(granstories[key]['wvs'][i].shape[0], -1)\n",
    "        this_correl = np.corrcoef(this_loc.T, this_wv.T)\n",
    "        this_loc_cors[i] = this_correl[0,1]\n",
    "    loc_cors[key] = np.ravel(this_loc_cors)\n",
    "    \n",
    "#avg loc cors\n",
    "\n",
    "loc_concat = np.zeros((0,1))\n",
    "for key in loc_cors:\n",
    "    this_loc = loc_cors[key].reshape(loc_cors[key].shape[0], -1)\n",
    "    loc_concat = np.vstack((loc_concat, this_loc))\n",
    "    print(loc_concat.shape)\n",
    "\n",
    "story_loc_avg = np.nanmean(loc_concat)"
   ]
  },
  {
   "cell_type": "code",
   "execution_count": 15,
   "metadata": {
    "scrolled": true
   },
   "outputs": [
    {
     "data": {
      "text/plain": [
       "0.006014907745267007"
      ]
     },
     "execution_count": 15,
     "metadata": {},
     "output_type": "execute_result"
    }
   ],
   "source": [
    "story_loc_avg"
   ]
  },
  {
   "cell_type": "markdown",
   "metadata": {},
   "source": [
    "# *SOC* correlations with stories"
   ]
  },
  {
   "cell_type": "code",
   "execution_count": 16,
   "metadata": {
    "scrolled": true
   },
   "outputs": [],
   "source": [
    "### A. Correlate each word with the LOC WV\n",
    "soc_cors = {}\n",
    "\n",
    "for key in granstories.keys():\n",
    "    n = granstories[key]['wvs'].shape[0]\n",
    "    this_soc_cors = np.zeros((n,1))\n",
    "    soc = round(int(key)/10)*10\n",
    "    this_soc = templates[int(soc)].reshape(templates[int(soc)].shape[0], -1)\n",
    "    for i in range(0, n):\n",
    "        this_wv = granstories[key]['wvs'][i].reshape(granstories[key]['wvs'][i].shape[0], -1)\n",
    "        this_correl = np.corrcoef(this_soc.T, this_wv.T)\n",
    "        this_soc_cors[i] = this_correl[0,1]\n",
    "    soc_cors[key] = np.ravel(this_soc_cors)\n",
    "    \n",
    "#avg loc cors\n",
    "\n",
    "soc_concat = np.zeros((0,1))\n",
    "for key in soc_cors:\n",
    "    this_soc = soc_cors[key].reshape(soc_cors[key].shape[0], -1)\n",
    "    soc_concat = np.vstack((soc_concat, this_soc))\n",
    "\n",
    "story_soc_avg = np.nanmean(soc_concat)"
   ]
  },
  {
   "cell_type": "code",
   "execution_count": 17,
   "metadata": {
    "scrolled": true
   },
   "outputs": [
    {
     "data": {
      "image/png": "[encoded data removed]",
      "text/plain": [
       "<Figure size 432x288 with 1 Axes>"
      ]
     },
     "metadata": {
      "needs_background": "light"
     },
     "output_type": "display_data"
    }
   ],
   "source": [
    "# loc correlation\n",
    "loc_plot = np.zeros((2,1))\n",
    "\n",
    "# soc correlation\n",
    "soc_plot = np.zeros((2,1))\n",
    "\n",
    "# assign values\n",
    "# correlation with loc\n",
    "loc_plot[0] = recall_loc_avg\n",
    "loc_plot[1] = story_loc_avg\n",
    "\n",
    "\n",
    "#proportion that are soc\n",
    "soc_plot[0] = recall_soc_avg\n",
    "soc_plot[1] = story_soc_avg\n",
    "\n",
    "loc_plot = loc_plot.ravel()\n",
    "soc_plot = soc_plot.ravel()\n",
    "\n",
    "#labels\n",
    "labels = ['recall', 'story']\n",
    "\n",
    "x = np.arange(len(labels))  # the label locations\n",
    "width = 0.25  # the width of the bars\n",
    "\n",
    "fig, ax = plt.subplots()\n",
    "\n",
    "rects1 = ax.bar(x, loc_plot, width, label='loc correlation')\n",
    "rects2 = ax.bar(x + width, soc_plot, width, label='soc correlation')\n",
    "\n",
    "# Add some text for labels, title and custom x-axis tick labels, etc.\n",
    "ax.set_ylabel('correlation')\n",
    "ax.set_title('recall v story correlation with location and social schemas')\n",
    "ax.set_xticks(x + width)\n",
    "ax.set_xticklabels(labels)\n",
    "ax.legend()\n",
    "ax.set_ylim([0, .05])\n",
    "fig.tight_layout()\n",
    "\n",
    "plt.show()\n",
    "\n",
    "\n"
   ]
  },
  {
   "cell_type": "markdown",
   "metadata": {},
   "source": [
    "# Separate recalls by priming group"
   ]
  },
  {
   "cell_type": "code",
   "execution_count": 18,
   "metadata": {
    "scrolled": true
   },
   "outputs": [],
   "source": [
    "# separate words into priming groups\n",
    "\n",
    "prime_separated = {}\n",
    "\n",
    "for key in all_wvs:\n",
    "    n = all_wvs[key].shape[0]\n",
    "    no_primed = np.zeros((0,300))\n",
    "    loc_primed = np.zeros((0,300))\n",
    "    soc_primed = np.zeros((0,300))\n",
    "    for i in range(0, n):\n",
    "        this_priming = all_priming[key][i]\n",
    "        if this_priming == 0:\n",
    "            no_primed = np.vstack((no_primed, all_wvs[key][i]))\n",
    "        elif this_priming == 1:\n",
    "            loc_primed = np.vstack((loc_primed, all_wvs[key][i]))\n",
    "        else:\n",
    "            soc_primed = np.vstack((soc_primed, all_wvs[key][i]))\n",
    "    prime_separated[key] = {0:no_primed, 1:loc_primed, 2:soc_primed}"
   ]
  },
  {
   "cell_type": "markdown",
   "metadata": {},
   "source": [
    "# Loc correlation with recalls"
   ]
  },
  {
   "cell_type": "code",
   "execution_count": 19,
   "metadata": {
    "scrolled": true
   },
   "outputs": [],
   "source": [
    "### A. Correlate each word with the LOC WV\n",
    "\n",
    "#structure loc_cors\n",
    "loc_cors = {}\n",
    "for key in prime_separated:\n",
    "    loc_cors[key] = {}\n",
    "\n",
    "for key in prime_separated:\n",
    "    for priming in prime_separated[key]:\n",
    "        n = prime_separated[key][priming].shape[0]\n",
    "        this_loc_cors = np.zeros((n,1))\n",
    "        loc = key%10\n",
    "        this_loc = templates[loc].reshape(templates[loc].shape[0], -1)\n",
    "        for i in range(0, n):\n",
    "            this_wv = prime_separated[key][priming][i].reshape(prime_separated[key][priming][i].shape[0], -1)\n",
    "            this_correl = np.corrcoef(this_loc.T, this_wv.T)\n",
    "            this_loc_cors[i] = this_correl[0,1]\n",
    "        loc_cors[key][priming] = np.ravel(this_loc_cors)\n",
    "    \n",
    "#avg loc cors\n",
    "\n",
    "loc_concat_np = np.zeros((0,1))\n",
    "loc_concat_loc = np.zeros((0,1))\n",
    "loc_concat_soc = np.zeros((0,1))\n",
    "\n",
    "lcs = [loc_concat_np, loc_concat_loc, loc_concat_soc]\n",
    "\n",
    "for i in range(0,3):\n",
    "    for key in loc_cors:\n",
    "        this_loc = loc_cors[key][i].reshape(loc_cors[key][i].shape[0], -1)\n",
    "        lcs[i] = np.vstack((lcs[i], this_loc))\n",
    "\n",
    "recall_loc_avg_np = np.nanmean(lcs[0])\n",
    "recall_loc_avg_loc = np.nanmean(lcs[1])\n",
    "recall_loc_avg_soc = np.nanmean(lcs[2])"
   ]
  },
  {
   "cell_type": "markdown",
   "metadata": {},
   "source": [
    "# Soc correlation with recalls"
   ]
  },
  {
   "cell_type": "code",
   "execution_count": 20,
   "metadata": {
    "scrolled": true
   },
   "outputs": [],
   "source": [
    "### A. Correlate each word with the SOC WV\n",
    "\n",
    "#structure loc_cors\n",
    "soc_cors = {}\n",
    "for key in prime_separated:\n",
    "    soc_cors[key] = {}\n",
    "\n",
    "for key in prime_separated:\n",
    "    for priming in prime_separated[key]:\n",
    "        n = prime_separated[key][priming].shape[0]\n",
    "        this_soc_cors = np.zeros((n,1))\n",
    "        soc = round(int(key)/10)*10\n",
    "        this_soc = templates[soc].reshape(templates[soc].shape[0], -1)\n",
    "        for i in range(0, n):\n",
    "            this_wv = prime_separated[key][priming][i].reshape(prime_separated[key][priming][i].shape[0], -1)\n",
    "            this_correl = np.corrcoef(this_soc.T, this_wv.T)\n",
    "            this_soc_cors[i] = this_correl[0,1]\n",
    "        soc_cors[key][priming] = np.ravel(this_soc_cors)\n",
    "    \n",
    "#avg loc cors\n",
    "\n",
    "soc_concat_np = np.zeros((0,1))\n",
    "soc_concat_loc = np.zeros((0,1))\n",
    "soc_concat_soc = np.zeros((0,1))\n",
    "\n",
    "scs = [soc_concat_np, soc_concat_loc, soc_concat_soc]\n",
    "\n",
    "for i in range(0,3):\n",
    "    for key in soc_cors:\n",
    "        this_soc = soc_cors[key][i].reshape(soc_cors[key][i].shape[0], -1)\n",
    "        scs[i] = np.vstack((scs[i], this_soc))\n",
    "\n",
    "recall_soc_avg_np = np.nanmean(scs[0])\n",
    "recall_soc_avg_loc = np.nanmean(scs[1])\n",
    "recall_soc_avg_soc = np.nanmean(scs[2])"
   ]
  },
  {
   "cell_type": "code",
   "execution_count": 21,
   "metadata": {
    "scrolled": true
   },
   "outputs": [
    {
     "data": {
      "image/png": "[encoded data removed]",
      "text/plain": [
       "<Figure size 432x288 with 1 Axes>"
      ]
     },
     "metadata": {
      "needs_background": "light"
     },
     "output_type": "display_data"
    }
   ],
   "source": [
    "# loc correlation\n",
    "loc_plot = np.zeros((4,1))\n",
    "\n",
    "# soc correlation\n",
    "soc_plot = np.zeros((4,1))\n",
    "\n",
    "# assign values\n",
    "# correlation with loc\n",
    "loc_plot[0] = recall_loc_avg_np\n",
    "loc_plot[1] = recall_loc_avg_loc\n",
    "loc_plot[2] = recall_loc_avg_soc\n",
    "loc_plot[3] = story_loc_avg\n",
    "\n",
    "\n",
    "#proportion that are soc\n",
    "soc_plot[0] = recall_soc_avg_np\n",
    "soc_plot[1] = recall_soc_avg_loc\n",
    "soc_plot[2] = recall_soc_avg_soc\n",
    "soc_plot[3] = story_soc_avg\n",
    "\n",
    "loc_plot = loc_plot.ravel()\n",
    "soc_plot = soc_plot.ravel()\n",
    "\n",
    "#labels\n",
    "labels = ['recall-np', 'recall-loc', 'recall-soc', 'story']\n",
    "\n",
    "x = np.arange(len(labels))  # the label locations\n",
    "width = 0.25  # the width of the bars\n",
    "\n",
    "fig, ax = plt.subplots()\n",
    "\n",
    "rects1 = ax.bar(x, loc_plot, width, label='loc correlation')\n",
    "rects2 = ax.bar(x + width, soc_plot, width, label='soc correlation')\n",
    "\n",
    "# Add some text for labels, title and custom x-axis tick labels, etc.\n",
    "ax.set_ylabel('correlation')\n",
    "ax.set_title('recall v story correlation with location and social schemas')\n",
    "ax.set_xticks(x + width)\n",
    "ax.set_xticklabels(labels)\n",
    "ax.legend()\n",
    "ax.set_ylim([0, .05])\n",
    "fig.tight_layout()\n",
    "\n",
    "plt.show()\n",
    "\n",
    "\n"
   ]
  },
  {
   "cell_type": "code",
   "execution_count": null,
   "metadata": {
    "scrolled": true
   },
   "outputs": [],
   "source": []
  }
 ],
 "metadata": {
  "kernelspec": {
   "display_name": "Python 3",
   "language": "python",
   "name": "python3"
  },
  "language_info": {
   "codemirror_mode": {
    "name": "ipython",
    "version": 3
   },
   "file_extension": ".py",
   "mimetype": "text/x-python",
   "name": "python",
   "nbconvert_exporter": "python",
   "pygments_lexer": "ipython3",
   "version": "3.8.5"
  }
 },
 "nbformat": 4,
 "nbformat_minor": 2
}
