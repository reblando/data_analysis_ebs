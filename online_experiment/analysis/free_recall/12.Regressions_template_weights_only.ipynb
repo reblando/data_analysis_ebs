{
 "cells": [
  {
   "cell_type": "code",
   "execution_count": 1,
   "metadata": {},
   "outputs": [
    {
     "data": {
      "application/javascript": [
       "IPython.notebook.set_autosave_interval(5000)"
      ]
     },
     "metadata": {},
     "output_type": "display_data"
    },
    {
     "name": "stdout",
     "output_type": "stream",
     "text": [
      "Autosaving every 5 seconds\n"
     ]
    }
   ],
   "source": [
    "import pandas as pd\n",
    "import numpy as np\n",
    "import plotly.graph_objs as go\n",
    "import plotly.plotly as py\n",
    "import plotly\n",
    "import os\n",
    "import glob\n",
    "import math\n",
    "import statistics\n",
    "import matplotlib.pyplot as plt\n",
    "import seaborn as sns\n",
    "import pickle\n",
    "import copy\n",
    "from random import randrange\n",
    "from sklearn.metrics import jaccard_score\n",
    "import random\n",
    "from sklearn.preprocessing import normalize\n",
    "from sklearn.linear_model import LinearRegression\n",
    "\n",
    "\n",
    "from sklearn.decomposition import PCA #for cluster analysis\n",
    "from gensim.models import KeyedVectors #for word embeddings\n",
    "import matplotlib.pyplot as plt #for plotting\n",
    "import os #for importing\n",
    "import pickle #for loading transcripts\n",
    "from scipy.stats import pearsonr \n",
    "\n",
    "# from _DRAFT_20200604_functions import * #includes constants and score function\n",
    "from tqdm import tqdm_notebook #for progress bar\n",
    "\n",
    "%autosave 5"
   ]
  },
  {
   "cell_type": "markdown",
   "metadata": {},
   "source": [
    "# 0. Importing story and template vectors and sums "
   ]
  },
  {
   "cell_type": "code",
   "execution_count": 2,
   "metadata": {},
   "outputs": [],
   "source": [
    "templates = pickle.load( open( 'template_vc', \"rb\" ) )\n",
    "stories = pickle.load( open( 'story_vc', \"rb\" ) )\n",
    "# sums\n",
    "sums = pickle.load( open( \"new_sums\", \"rb\" ) )"
   ]
  },
  {
   "cell_type": "markdown",
   "metadata": {},
   "source": [
    "# I. AVERAGING WEIGHTS\n",
    "## A. get recall averages across different priming groups"
   ]
  },
  {
   "cell_type": "code",
   "execution_count": 27,
   "metadata": {},
   "outputs": [],
   "source": [
    "story_order = [11,12,13,14,21,22,23,24,31,32,33,34,41,42,43,44]\n",
    "story_avg = {}\n",
    "\n",
    "for key in story_order:\n",
    "    # Loop through all conditions\n",
    "    for i in range(0, 3):\n",
    "        if i == 0:\n",
    "            story_avg[key] ={i: np.mean(stories[key][i], axis = 0)}\n",
    "        else:    \n",
    "            story_avg[key][i] = np.mean(stories[key][i], axis = 0)"
   ]
  },
  {
   "cell_type": "markdown",
   "metadata": {},
   "source": [
    "## B. Linear Regression"
   ]
  },
  {
   "cell_type": "code",
   "execution_count": 74,
   "metadata": {},
   "outputs": [],
   "source": [
    "coef = {0: np.zeros((16,2)), 1: np.zeros((16,2)), 2: np.zeros((16,2))}\n",
    "count = 0\n",
    "\n",
    "for key in story_avg:\n",
    "    loc = key%10\n",
    "    soc = round(key/10)*10\n",
    "    # Make the inputs of the regression\n",
    "    l_temp = templates[loc].reshape(templates[loc].shape[0],-1)\n",
    "    s_temp = templates[soc].reshape(templates[soc].shape[0],-1)\n",
    "    inputs = np.concatenate((l_temp, s_temp), axis = 1)\n",
    "    for i in range(0, 3):\n",
    "        output = story_avg[key][i]\n",
    "        model = LinearRegression().fit(inputs, output)\n",
    "        coef[i][count] = model.coef_\n",
    "    count += 1"
   ]
  },
  {
   "cell_type": "markdown",
   "metadata": {},
   "source": [
    "## C. Avg across weights for each priming type and plot"
   ]
  },
  {
   "cell_type": "code",
   "execution_count": 75,
   "metadata": {},
   "outputs": [
    {
     "data": {
      "image/png": "[encoded data removed]",
      "text/plain": [
       "<Figure size 432x288 with 1 Axes>"
      ]
     },
     "metadata": {
      "needs_background": "light"
     },
     "output_type": "display_data"
    }
   ],
   "source": [
    "# loc weight\n",
    "w0 = np.zeros((3,1))\n",
    "\n",
    "# soc weight\n",
    "w1 = np.zeros((3,1))\n",
    "\n",
    "# assign values\n",
    "w0[0] = np.mean(coef[0], axis = 0)[0]\n",
    "w1[0] = np.mean(coef[0], axis = 0)[1]\n",
    "w0[1] = np.mean(coef[1], axis = 0)[0]\n",
    "w1[1] = np.mean(coef[1], axis = 0)[1]\n",
    "w0[2] = np.mean(coef[2], axis = 0)[0]\n",
    "w1[2] = np.mean(coef[2], axis = 0)[1]\n",
    "\n",
    "w0 = w0.ravel()\n",
    "w1 = w1.ravel()\n",
    "\n",
    "#labels\n",
    "labels = ['no prime', 'loc', 'soc']\n",
    "\n",
    "x = np.arange(len(labels))  # the label locations\n",
    "width = 0.35  # the width of the bars\n",
    "\n",
    "fig, ax = plt.subplots()\n",
    "\n",
    "rects1 = ax.bar(x - width/2, w0, width, label='loc weight')\n",
    "rects2 = ax.bar(x + width/2, w1, width, label='soc weight')\n",
    "\n",
    "# Add some text for labels, title and custom x-axis tick labels, etc.\n",
    "ax.set_ylabel('weight value')\n",
    "ax.set_title('loc and soc weights for recall regression')\n",
    "ax.set_xticks(x)\n",
    "ax.set_xticklabels(labels)\n",
    "ax.legend()\n",
    "fig.tight_layout()\n",
    "\n",
    "plt.show()\n",
    "\n",
    "\n"
   ]
  },
  {
   "cell_type": "markdown",
   "metadata": {},
   "source": [
    "# II. CONCATENATING\n",
    "## A. concat templates vecs and story avgs"
   ]
  },
  {
   "cell_type": "code",
   "execution_count": 80,
   "metadata": {},
   "outputs": [],
   "source": [
    "story_order = [11,12,13,14,21,22,23,24,31,32,33,34,41,42,43,44]\n",
    "concat_story_avg = {0: np.zeros((0,1)), 1: np.zeros((0,1)), 2: np.zeros((0,1))}\n",
    "\n",
    "inputs = np.zeros((0,2))\n",
    "\n",
    "for key in story_order:\n",
    "    # story avgs\n",
    "    # Loop through all conditions\n",
    "    for i in range(0, 3):\n",
    "        this_story = story_avg[key][i].reshape(story_avg[key][i].shape[0],-1)\n",
    "        concat_story_avg[i] = np.concatenate((concat_story_avg[i], this_story), axis = 0)\n",
    "    # concatenating template vectors\n",
    "    loc = key%10\n",
    "    soc = round(key/10)*10\n",
    "    # Make the inputs of the regression\n",
    "    l_temp = templates[loc].reshape(templates[loc].shape[0],-1)\n",
    "    s_temp = templates[soc].reshape(templates[soc].shape[0],-1)\n",
    "    this_input = np.concatenate((l_temp, s_temp), axis = 1)\n",
    "    inputs = np.concatenate((inputs, this_input), axis =0)"
   ]
  },
  {
   "cell_type": "markdown",
   "metadata": {},
   "source": [
    "## B. Linear Regression"
   ]
  },
  {
   "cell_type": "code",
   "execution_count": 88,
   "metadata": {},
   "outputs": [],
   "source": [
    "w0_c = np.zeros((3,1))\n",
    "w1_c = np.zeros((3,1))\n",
    "\n",
    "for i in range(0,3):\n",
    "    model = LinearRegression().fit(inputs, concat_story_avg[i])\n",
    "    w0_c[i] = model.coef_[0][0]\n",
    "    w1_c[i] = model.coef_[0][1]\n",
    "    \n"
   ]
  },
  {
   "cell_type": "markdown",
   "metadata": {},
   "source": [
    "## C.Plotting"
   ]
  },
  {
   "cell_type": "code",
   "execution_count": 91,
   "metadata": {},
   "outputs": [
    {
     "data": {
      "image/png": "[encoded data removed]",
      "text/plain": [
       "<Figure size 432x288 with 1 Axes>"
      ]
     },
     "metadata": {
      "needs_background": "light"
     },
     "output_type": "display_data"
    }
   ],
   "source": [
    "#labels\n",
    "labels = ['no prime', 'loc', 'soc']\n",
    "\n",
    "w0_c = w0_c.ravel()\n",
    "w1_c = w1_c.ravel()\n",
    "\n",
    "\n",
    "x = np.arange(len(labels))  # the label locations\n",
    "width = 0.35  # the width of the bars\n",
    "\n",
    "fig, ax = plt.subplots()\n",
    "\n",
    "rects1 = ax.bar(x - width/2, w0_c, width, label='loc weight')\n",
    "rects2 = ax.bar(x + width/2, w1_c, width, label='soc weight')\n",
    "\n",
    "# Add some text for labels, title and custom x-axis tick labels, etc.\n",
    "ax.set_ylabel('weight value')\n",
    "ax.set_title('loc and soc weights for recall regression- concatenated')\n",
    "ax.set_xticks(x)\n",
    "ax.set_xticklabels(labels)\n",
    "ax.legend()\n",
    "fig.tight_layout()\n",
    "\n",
    "plt.show()\n"
   ]
  },
  {
   "cell_type": "code",
   "execution_count": null,
   "metadata": {},
   "outputs": [],
   "source": []
  }
 ],
 "metadata": {
  "kernelspec": {
   "display_name": "Python 3",
   "language": "python",
   "name": "python3"
  },
  "language_info": {
   "codemirror_mode": {
    "name": "ipython",
    "version": 3
   },
   "file_extension": ".py",
   "mimetype": "text/x-python",
   "name": "python",
   "nbconvert_exporter": "python",
   "pygments_lexer": "ipython3",
   "version": "3.8.5"
  }
 },
 "nbformat": 4,
 "nbformat_minor": 2
}
