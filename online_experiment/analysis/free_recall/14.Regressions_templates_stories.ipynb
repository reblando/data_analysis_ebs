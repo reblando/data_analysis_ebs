{
 "cells": [
  {
   "cell_type": "markdown",
   "metadata": {},
   "source": [
    "# Find the beta weights of a regression with location template, social template, and story vector for averaged recall in each story\n",
    "## 12/17/20"
   ]
  },
  {
   "cell_type": "code",
   "execution_count": 2,
   "metadata": {},
   "outputs": [
    {
     "data": {
      "application/javascript": [
       "IPython.notebook.set_autosave_interval(5000)"
      ]
     },
     "metadata": {},
     "output_type": "display_data"
    },
    {
     "name": "stdout",
     "output_type": "stream",
     "text": [
      "Autosaving every 5 seconds\n"
     ]
    }
   ],
   "source": [
    "import pandas as pd\n",
    "import numpy as np\n",
    "import plotly.graph_objs as go\n",
    "import plotly.plotly as py\n",
    "import plotly\n",
    "import os\n",
    "import glob\n",
    "import math\n",
    "import statistics\n",
    "import matplotlib.pyplot as plt\n",
    "import seaborn as sns\n",
    "import pickle\n",
    "import copy\n",
    "from random import randrange\n",
    "from sklearn.metrics import jaccard_score\n",
    "import random\n",
    "from sklearn.preprocessing import normalize\n",
    "from sklearn.linear_model import LinearRegression\n",
    "\n",
    "\n",
    "from sklearn.decomposition import PCA #for cluster analysis\n",
    "from gensim.models import KeyedVectors #for word embeddings\n",
    "import matplotlib.pyplot as plt #for plotting\n",
    "import os #for importing\n",
    "import pickle #for loading transcripts\n",
    "from scipy.stats import pearsonr \n",
    "\n",
    "# from _DRAFT_20200604_functions import * #includes constants and score function\n",
    "from tqdm import tqdm_notebook #for progress bar\n",
    "\n",
    "%autosave 5"
   ]
  },
  {
   "cell_type": "markdown",
   "metadata": {},
   "source": [
    "# 0. Importing story and template vectors and sums "
   ]
  },
  {
   "cell_type": "code",
   "execution_count": 3,
   "metadata": {},
   "outputs": [],
   "source": [
    "templates = pickle.load( open( 'c_template', \"rb\" ) )\n",
    "recalls = pickle.load( open( 'c_recall', \"rb\" ) )\n",
    "stories = pickle.load( open( 'c_stories', \"rb\" ) )\n",
    "# sums\n",
    "sums = pickle.load( open( \"new_sums\", \"rb\" ) )"
   ]
  },
  {
   "cell_type": "markdown",
   "metadata": {},
   "source": [
    "# I. AVERAGING WEIGHTS\n",
    "## A. get recall averages across different priming groups"
   ]
  },
  {
   "cell_type": "code",
   "execution_count": 17,
   "metadata": {},
   "outputs": [],
   "source": [
    "story_order = [11,12,13,14,21,22,23,24,31,32,33,34,41,42,43,44]\n",
    "recall_avg = {}\n",
    "\n",
    "for key in story_order:\n",
    "    # Loop through all conditions\n",
    "    for i in range(0, 3):\n",
    "        if i == 0:\n",
    "            recall_avg[key] ={i: np.mean(recalls[key][i], axis = 0)}\n",
    "        else:    \n",
    "            recall_avg[key][i] = np.mean(recalls[key][i], axis = 0)"
   ]
  },
  {
   "cell_type": "markdown",
   "metadata": {},
   "source": [
    "## B. Linear Regression"
   ]
  },
  {
   "cell_type": "code",
   "execution_count": 18,
   "metadata": {},
   "outputs": [],
   "source": [
    "coef = {0: np.zeros((16,3)), 1: np.zeros((16,3)), 2: np.zeros((16,3))}\n",
    "count = 0\n",
    "\n",
    "for key in recall_avg:\n",
    "    loc = key%10\n",
    "    soc = round(key/10)*10\n",
    "    # Make the inputs of the regression\n",
    "    # location template\n",
    "    l_temp = templates[loc].reshape(templates[loc].shape[0],-1)\n",
    "    # social template\n",
    "    s_temp = templates[soc].reshape(templates[soc].shape[0],-1)\n",
    "    # story vector\n",
    "    story_vec = stories[key].reshape(stories[key].shape[0],-1)\n",
    "    # Concatenating inputes\n",
    "    inputs = np.concatenate((l_temp, s_temp, story_vec), axis = 1)\n",
    "    for i in range(0, 3):\n",
    "        output = recall_avg[key][i]\n",
    "        model = LinearRegression().fit(inputs, output)\n",
    "        coef[i][count] = model.coef_\n",
    "    count += 1"
   ]
  },
  {
   "cell_type": "markdown",
   "metadata": {},
   "source": [
    "## C. Avg across weights for each priming type and plot"
   ]
  },
  {
   "cell_type": "code",
   "execution_count": 19,
   "metadata": {},
   "outputs": [
    {
     "data": {
      "text/plain": [
       "{0: array([[-0.01945295, -0.0271237 ,  0.04301398],\n",
       "        [ 0.04682431,  0.11465248,  0.51219253],\n",
       "        [-0.03767267,  0.04259558,  0.55323888],\n",
       "        [ 0.01125193,  0.03563511,  0.46409437],\n",
       "        [ 0.01935739,  0.11749815,  0.34325996],\n",
       "        [-0.0429615 ,  0.00591013,  0.5396515 ],\n",
       "        [ 0.06211479,  0.03002584,  0.60954304],\n",
       "        [ 0.18314925,  0.07948902,  0.44677872],\n",
       "        [-0.01041963,  0.13900132,  0.31472418],\n",
       "        [ 0.08360956,  0.15245484,  0.55804907],\n",
       "        [ 0.04098087,  0.16208359,  0.52023349],\n",
       "        [ 0.09920543,  0.12202035,  0.71006583],\n",
       "        [-0.02694479,  0.14758836,  0.49828426],\n",
       "        [ 0.03162619, -0.01086564,  0.84323632],\n",
       "        [ 0.08267225,  0.11751611,  0.53687531],\n",
       "        [ 0.03929173,  0.1326702 ,  0.70140899]]),\n",
       " 1: array([[ 0.02466479, -0.01470154,  0.01071628],\n",
       "        [ 0.3260459 ,  0.02783062,  0.43857447],\n",
       "        [-0.01040887,  0.09422586,  0.46391356],\n",
       "        [ 0.00421292,  0.01721366,  0.42594095],\n",
       "        [ 0.05825132,  0.009465  ,  0.70841096],\n",
       "        [-0.0307822 ,  0.03387112,  0.51063188],\n",
       "        [ 0.07398804,  0.02747233,  0.50557471],\n",
       "        [ 0.09582883,  0.08935176,  0.75188788],\n",
       "        [ 0.05785425,  0.11000931,  0.39259198],\n",
       "        [ 0.12342743,  0.05513784,  0.44550432],\n",
       "        [ 0.18324271,  0.12120935,  0.42983418],\n",
       "        [ 0.08628151,  0.03777196,  0.79903049],\n",
       "        [-0.00953467,  0.07400046,  0.52962983],\n",
       "        [ 0.04691704,  0.04973508,  0.77313366],\n",
       "        [ 0.07359966,  0.05904984,  0.60884308],\n",
       "        [ 0.01908408,  0.04367408,  0.88726327]]),\n",
       " 2: array([[-0.0235946 , -0.03991864,  0.24324009],\n",
       "        [ 0.03387072, -0.01000677,  0.70154019],\n",
       "        [ 0.0358296 ,  0.03263346,  0.49303157],\n",
       "        [ 0.05312641, -0.01996606,  0.55056487],\n",
       "        [ 0.03714418,  0.06221411,  0.5862316 ],\n",
       "        [-0.00444084,  0.02040211,  0.66031924],\n",
       "        [ 0.13403438,  0.10460794,  0.6072015 ],\n",
       "        [ 0.08955662,  0.02064533,  0.89962228],\n",
       "        [-0.00579146,  0.18160058,  0.53191457],\n",
       "        [ 0.04202093,  0.13269693,  0.54961898],\n",
       "        [ 0.06746751,  0.16674976,  0.60059738],\n",
       "        [ 0.03661909,  0.04224927,  0.8039584 ],\n",
       "        [-0.00316835,  0.05535462,  0.71362176],\n",
       "        [-0.12321042, -0.1733667 ,  0.58857116],\n",
       "        [ 0.08798081,  0.02573901,  0.45915887],\n",
       "        [ 0.05398982,  0.03596123,  0.7614514 ]])}"
      ]
     },
     "execution_count": 19,
     "metadata": {},
     "output_type": "execute_result"
    }
   ],
   "source": [
    "coef"
   ]
  },
  {
   "cell_type": "code",
   "execution_count": 20,
   "metadata": {},
   "outputs": [
    {
     "data": {
      "image/png": "[encoded data removed]",
      "text/plain": [
       "<Figure size 432x288 with 1 Axes>"
      ]
     },
     "metadata": {
      "needs_background": "light"
     },
     "output_type": "display_data"
    }
   ],
   "source": [
    "# loc weight\n",
    "w0 = np.zeros((3,1))\n",
    "\n",
    "# soc weight\n",
    "w1 = np.zeros((3,1))\n",
    "\n",
    "# story weight\n",
    "w2 = np.zeros((3,1))\n",
    "\n",
    "# assign values\n",
    "w0[0] = np.mean(coef[0], axis = 0)[0]\n",
    "w1[0] = np.mean(coef[0], axis = 0)[1]\n",
    "w2[0] = np.mean(coef[0], axis = 0)[2]\n",
    "w0[1] = np.mean(coef[1], axis = 0)[0]\n",
    "w1[1] = np.mean(coef[1], axis = 0)[1]\n",
    "w2[1] = np.mean(coef[1], axis = 0)[2]\n",
    "w0[2] = np.mean(coef[2], axis = 0)[0]\n",
    "w1[2] = np.mean(coef[2], axis = 0)[1]\n",
    "w2[2] = np.mean(coef[2], axis = 0)[2]\n",
    "\n",
    "w0 = w0.ravel()\n",
    "w1 = w1.ravel()\n",
    "w2 = w2.ravel()\n",
    "\n",
    "#labels\n",
    "labels = ['no prime', 'loc', 'soc']\n",
    "\n",
    "x = np.arange(len(labels))  # the label locations\n",
    "width = 0.25  # the width of the bars\n",
    "\n",
    "fig, ax = plt.subplots()\n",
    "\n",
    "rects1 = ax.bar(x, w0, width, label='loc weight')\n",
    "rects2 = ax.bar(x + width, w1, width, label='soc weight')\n",
    "rects3 = ax.bar(x + width*2, w2, width, label='story weight')\n",
    "\n",
    "# Add some text for labels, title and custom x-axis tick labels, etc.\n",
    "ax.set_ylabel('weight value')\n",
    "ax.set_title('loc, soc and story weights for recall regression')\n",
    "ax.set_xticks(x + width)\n",
    "ax.set_xticklabels(labels)\n",
    "ax.legend()\n",
    "fig.tight_layout()\n",
    "\n",
    "plt.show()\n",
    "\n",
    "\n"
   ]
  },
  {
   "cell_type": "markdown",
   "metadata": {},
   "source": [
    "# II. CONCATENATING\n",
    "## A. concat templates vecs and story avgs"
   ]
  },
  {
   "cell_type": "code",
   "execution_count": 22,
   "metadata": {},
   "outputs": [],
   "source": [
    "story_order = [11,12,13,14,21,22,23,24,31,32,33,34,41,42,43,44]\n",
    "concat_story_avg = {0: np.zeros((0,1)), 1: np.zeros((0,1)), 2: np.zeros((0,1))}\n",
    "\n",
    "inputs = np.zeros((0,3))\n",
    "\n",
    "for key in story_order:\n",
    "    # story avgs\n",
    "    # Loop through all conditions\n",
    "    for i in range(0, 3):\n",
    "        this_story = recall_avg[key][i].reshape(recall_avg[key][i].shape[0],-1)\n",
    "        concat_story_avg[i] = np.concatenate((concat_story_avg[i], this_story), axis = 0)\n",
    "    # concatenating template vectors\n",
    "    loc = key%10\n",
    "    soc = round(key/10)*10\n",
    "    # Make the inputs of the regression\n",
    "    l_temp = templates[loc].reshape(templates[loc].shape[0],-1)\n",
    "    s_temp = templates[soc].reshape(templates[soc].shape[0],-1)\n",
    "    story_vec = stories[key].reshape(stories[key].shape[0],-1)\n",
    "    this_input = np.concatenate((l_temp, s_temp, story_vec), axis = 1)\n",
    "    inputs = np.concatenate((inputs, this_input), axis =0)"
   ]
  },
  {
   "cell_type": "markdown",
   "metadata": {},
   "source": [
    "## B. Linear Regression"
   ]
  },
  {
   "cell_type": "code",
   "execution_count": 23,
   "metadata": {},
   "outputs": [],
   "source": [
    "w0_c = np.zeros((3,1))\n",
    "w1_c = np.zeros((3,1))\n",
    "w2_c = np.zeros((3,1))\n",
    "\n",
    "for i in range(0,3):\n",
    "    model = LinearRegression().fit(inputs, concat_story_avg[i])\n",
    "    w0_c[i] = model.coef_[0][0]\n",
    "    w1_c[i] = model.coef_[0][1]\n",
    "    w2_c[i] = model.coef_[0][2]\n",
    "    \n"
   ]
  },
  {
   "cell_type": "markdown",
   "metadata": {},
   "source": [
    "## C.Plotting"
   ]
  },
  {
   "cell_type": "code",
   "execution_count": 25,
   "metadata": {},
   "outputs": [
    {
     "data": {
      "image/png": "[encoded data removed]",
      "text/plain": [
       "<Figure size 432x288 with 1 Axes>"
      ]
     },
     "metadata": {
      "needs_background": "light"
     },
     "output_type": "display_data"
    }
   ],
   "source": [
    "#labels\n",
    "labels = ['no prime', 'loc', 'soc']\n",
    "\n",
    "w0_c = w0_c.ravel()\n",
    "w1_c = w1_c.ravel()\n",
    "w2_c = w2_c.ravel()\n",
    "\n",
    "x = np.arange(len(labels))  # the label locations\n",
    "width = 0.25  # the width of the bars\n",
    "\n",
    "fig, ax = plt.subplots()\n",
    "\n",
    "\n",
    "rects1 = ax.bar(x, w0_c, width, label='loc weight')\n",
    "rects2 = ax.bar(x + width, w1_c, width, label='soc weight')\n",
    "rects3 = ax.bar(x + width*2, w2_c, width, label='story weight')\n",
    "\n",
    "# Add some text for labels, title and custom x-axis tick labels, etc.\n",
    "ax.set_ylabel('weight value')\n",
    "ax.set_title('loc and soc weights for recall regression- concatenated')\n",
    "ax.set_xticks(x + width)\n",
    "ax.set_xticklabels(labels)\n",
    "ax.legend()\n",
    "fig.tight_layout()\n",
    "\n",
    "plt.show()\n"
   ]
  },
  {
   "cell_type": "code",
   "execution_count": null,
   "metadata": {},
   "outputs": [],
   "source": []
  }
 ],
 "metadata": {
  "kernelspec": {
   "display_name": "Python 3",
   "language": "python",
   "name": "python3"
  },
  "language_info": {
   "codemirror_mode": {
    "name": "ipython",
    "version": 3
   },
   "file_extension": ".py",
   "mimetype": "text/x-python",
   "name": "python",
   "nbconvert_exporter": "python",
   "pygments_lexer": "ipython3",
   "version": "3.8.5"
  }
 },
 "nbformat": 4,
 "nbformat_minor": 2
}
