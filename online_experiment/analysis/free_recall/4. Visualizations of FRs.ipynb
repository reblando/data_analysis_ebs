{
 "cells": [
  {
   "cell_type": "markdown",
   "metadata": {},
   "source": [
    "# Visualization of Recalls\n",
    "## 11/16/20\n",
    "## 1/7/20 - adding normalization function"
   ]
  },
  {
   "cell_type": "code",
   "execution_count": 1,
   "metadata": {
    "scrolled": false
   },
   "outputs": [
    {
     "data": {
      "application/javascript": [
       "IPython.notebook.set_autosave_interval(5000)"
      ]
     },
     "metadata": {},
     "output_type": "display_data"
    },
    {
     "name": "stdout",
     "output_type": "stream",
     "text": [
      "Autosaving every 5 seconds\n"
     ]
    }
   ],
   "source": [
    "import pandas as pd\n",
    "import numpy as np\n",
    "import plotly.graph_objs as go\n",
    "import plotly.plotly as py\n",
    "import plotly\n",
    "import os\n",
    "import glob\n",
    "import math\n",
    "import statistics\n",
    "import matplotlib.pyplot as plt\n",
    "import seaborn as sns\n",
    "import pickle\n",
    "import copy\n",
    "from random import randrange\n",
    "from sklearn.metrics import jaccard_score\n",
    "import random\n",
    "\n",
    "from sklearn.decomposition import PCA #for cluster analysis\n",
    "from gensim.models import KeyedVectors #for word embeddings\n",
    "import matplotlib.pyplot as plt #for plotting\n",
    "import os #for importing\n",
    "import pickle #for loading transcripts\n",
    "from scipy.stats import pearsonr \n",
    "\n",
    "# from _DRAFT_20200604_functions import * #includes constants and score function\n",
    "from tqdm import tqdm_notebook #for progress bar\n",
    "\n",
    "%autosave 5"
   ]
  },
  {
   "cell_type": "markdown",
   "metadata": {},
   "source": [
    "# 0. Pre\n",
    "## 1. Importing story and template vectors and sums "
   ]
  },
  {
   "cell_type": "code",
   "execution_count": 2,
   "metadata": {
    "scrolled": false
   },
   "outputs": [],
   "source": [
    "templates = pickle.load( open( 'c_template', \"rb\" ) )\n",
    "recalls = pickle.load( open( 'c_recall', \"rb\" ) )\n",
    "stories = pickle.load( open( 'c_stories', \"rb\" ) )\n",
    "# sums\n",
    "sums = pickle.load( open( \"new_sums\", \"rb\" ) )"
   ]
  },
  {
   "cell_type": "markdown",
   "metadata": {},
   "source": [
    "## 2. Function for normalizing vectors"
   ]
  },
  {
   "cell_type": "code",
   "execution_count": 23,
   "metadata": {},
   "outputs": [],
   "source": [
    "def norm_300(matrix):\n",
    "    n, m = matrix.shape\n",
    "    for i in range(0,n):\n",
    "        sum_ = 0\n",
    "        for j in range(0, 300):\n",
    "            sum_ = matrix[i][j] * matrix[i][j]\n",
    "        k = math.sqrt(sum_)\n",
    "        for j in range(0,300):\n",
    "            matrix[i][j] = matrix[i][j]/k\n",
    "    return matrix\n",
    "    "
   ]
  },
  {
   "cell_type": "code",
   "execution_count": 24,
   "metadata": {},
   "outputs": [],
   "source": [
    "z = norm_300(all_wv)"
   ]
  },
  {
   "cell_type": "code",
   "execution_count": 25,
   "metadata": {},
   "outputs": [
    {
     "name": "stdout",
     "output_type": "stream",
     "text": [
      "1.0\n",
      "1.0\n",
      "1.0\n",
      "1.0\n",
      "1.0\n",
      "1.0\n",
      "1.0\n",
      "1.0\n",
      "1.0\n",
      "1.0\n",
      "1.0\n",
      "1.0\n",
      "1.0\n",
      "1.0\n",
      "1.0\n",
      "1.0\n",
      "1.0\n",
      "1.0\n",
      "1.0\n",
      "1.0\n",
      "1.0\n",
      "1.0\n",
      "1.0\n",
      "1.0\n",
      "1.0\n",
      "1.0\n",
      "1.0\n",
      "1.0\n",
      "1.0\n",
      "1.0\n",
      "1.0\n",
      "1.0\n",
      "1.0\n",
      "1.0\n",
      "1.0\n",
      "1.0\n",
      "1.0\n",
      "1.0\n",
      "1.0\n",
      "1.0\n",
      "1.0\n",
      "1.0\n",
      "1.0\n",
      "1.0\n",
      "1.0\n",
      "1.0\n",
      "1.0\n",
      "1.0\n",
      "1.0\n",
      "1.0\n",
      "1.0\n",
      "1.0\n",
      "1.0\n",
      "1.0\n",
      "1.0\n",
      "1.0\n",
      "1.0\n",
      "1.0\n",
      "1.0\n",
      "1.0\n",
      "1.0\n",
      "1.0\n",
      "1.0\n",
      "1.0\n",
      "1.0\n",
      "1.0\n",
      "1.0\n",
      "1.0\n",
      "1.0\n",
      "1.0\n",
      "1.0\n",
      "1.0\n",
      "1.0\n",
      "1.0\n",
      "1.0\n",
      "1.0\n",
      "1.0\n",
      "1.0\n",
      "1.0\n",
      "1.0\n",
      "1.0\n",
      "1.0\n",
      "1.0\n",
      "1.0\n",
      "1.0\n",
      "1.0\n",
      "1.0\n",
      "1.0\n",
      "1.0\n",
      "1.0\n",
      "1.0\n",
      "1.0\n",
      "1.0\n",
      "1.0\n",
      "1.0\n",
      "1.0\n",
      "1.0\n",
      "1.0\n",
      "1.0\n",
      "1.0\n",
      "1.0\n",
      "1.0\n",
      "1.0\n",
      "1.0\n",
      "1.0\n",
      "1.0\n",
      "1.0\n",
      "1.0\n",
      "1.0\n",
      "1.0\n",
      "1.0\n",
      "1.0\n",
      "1.0\n",
      "1.0\n",
      "1.0\n",
      "1.0\n",
      "1.0\n",
      "1.0\n",
      "1.0\n",
      "1.0\n",
      "1.0\n",
      "1.0\n",
      "1.0\n",
      "1.0\n",
      "1.0\n",
      "1.0\n",
      "1.0\n",
      "1.0\n",
      "1.0\n",
      "1.0\n",
      "1.0\n",
      "1.0\n",
      "1.0\n",
      "1.0\n",
      "1.0\n",
      "1.0\n",
      "1.0\n",
      "1.0\n",
      "1.0\n",
      "1.0\n",
      "1.0\n",
      "1.0\n",
      "1.0\n",
      "1.0\n",
      "1.0\n",
      "1.0\n",
      "1.0\n",
      "1.0\n",
      "1.0\n",
      "1.0\n",
      "1.0\n",
      "1.0\n",
      "1.0\n",
      "1.0\n",
      "1.0\n",
      "1.0\n",
      "1.0\n",
      "1.0\n",
      "1.0\n",
      "1.0\n",
      "1.0\n",
      "1.0\n",
      "1.0\n",
      "1.0\n",
      "1.0\n",
      "1.0\n",
      "1.0\n",
      "1.0\n",
      "1.0\n",
      "1.0\n",
      "1.0\n",
      "1.0\n",
      "1.0\n",
      "1.0\n",
      "1.0\n",
      "1.0\n",
      "1.0\n",
      "1.0\n",
      "1.0\n",
      "1.0\n",
      "1.0\n",
      "1.0\n",
      "1.0\n",
      "1.0\n",
      "1.0\n",
      "1.0\n",
      "1.0\n",
      "1.0\n",
      "1.0\n",
      "1.0\n",
      "1.0\n",
      "1.0\n",
      "1.0\n",
      "1.0\n",
      "1.0\n",
      "1.0\n",
      "1.0\n",
      "1.0\n",
      "1.0\n",
      "1.0\n",
      "1.0\n",
      "1.0\n",
      "1.0\n",
      "1.0\n",
      "1.0\n",
      "1.0\n",
      "1.0\n",
      "1.0\n",
      "1.0\n",
      "1.0\n",
      "1.0\n",
      "1.0\n",
      "1.0\n",
      "1.0\n",
      "1.0\n",
      "1.0\n",
      "1.0\n",
      "1.0\n",
      "1.0\n",
      "1.0\n",
      "1.0\n",
      "1.0\n",
      "1.0\n",
      "1.0\n",
      "1.0\n",
      "1.0\n",
      "1.0\n",
      "1.0\n",
      "1.0\n",
      "1.0\n",
      "1.0\n",
      "1.0\n",
      "1.0\n",
      "1.0\n",
      "1.0\n",
      "1.0\n",
      "1.0\n",
      "1.0\n",
      "1.0\n",
      "1.0\n",
      "1.0\n",
      "1.0\n",
      "1.0\n",
      "1.0\n",
      "1.0\n",
      "1.0\n",
      "1.0\n",
      "1.0\n",
      "1.0\n",
      "1.0\n",
      "1.0\n",
      "1.0\n",
      "1.0\n",
      "1.0\n",
      "1.0\n",
      "1.0\n",
      "1.0\n",
      "1.0\n",
      "1.0\n",
      "1.0\n",
      "1.0\n",
      "1.0\n",
      "1.0\n",
      "1.0\n",
      "1.0\n",
      "1.0\n",
      "1.0\n",
      "1.0\n",
      "1.0\n",
      "1.0\n",
      "1.0\n",
      "1.0\n",
      "1.0\n",
      "1.0\n",
      "1.0\n",
      "1.0\n",
      "1.0\n",
      "1.0\n",
      "1.0\n",
      "1.0\n",
      "1.0\n",
      "1.0\n",
      "1.0\n",
      "1.0\n",
      "1.0\n",
      "1.0\n",
      "1.0\n",
      "1.0\n",
      "1.0\n",
      "1.0\n",
      "1.0\n",
      "1.0\n",
      "1.0\n",
      "1.0\n",
      "1.0\n",
      "1.0\n",
      "1.0\n",
      "1.0\n",
      "1.0\n",
      "1.0\n",
      "1.0\n",
      "1.0\n",
      "1.0\n",
      "1.0\n",
      "1.0\n",
      "1.0\n",
      "1.0\n",
      "1.0\n",
      "1.0\n",
      "1.0\n",
      "1.0\n",
      "1.0\n",
      "1.0\n",
      "1.0\n",
      "1.0\n",
      "1.0\n",
      "1.0\n",
      "1.0\n",
      "1.0\n",
      "1.0\n",
      "1.0\n",
      "1.0\n",
      "1.0\n"
     ]
    }
   ],
   "source": [
    "n, m = z.shape\n",
    "for i in range(0,n):\n",
    "    sum_ = 0\n",
    "    for j in range(0, 300):\n",
    "        sum_ = z[i][j] * z[i][j]\n",
    "    print(sum_)"
   ]
  },
  {
   "cell_type": "markdown",
   "metadata": {},
   "source": [
    "# I. Plot all participants for each story- comparison to templates\n",
    "## A. Concatenatate template vectors"
   ]
  },
  {
   "cell_type": "code",
   "execution_count": 8,
   "metadata": {
    "scrolled": false
   },
   "outputs": [],
   "source": [
    "# Concatenating wvs for plotting below\n",
    "wv_dim = 300\n",
    "wvs_matrix = np.zeros((8, wv_dim))\n",
    "order_keys = np.zeros((8,1))\n",
    "count = 0\n",
    "for key in templates:\n",
    "    wvs_matrix[count, :] = templates[key]\n",
    "    order_keys[count] = key\n",
    "    count += 1"
   ]
  },
  {
   "cell_type": "markdown",
   "metadata": {},
   "source": [
    "## B. Concatenate all recalls"
   ]
  },
  {
   "cell_type": "code",
   "execution_count": 9,
   "metadata": {
    "scrolled": false
   },
   "outputs": [],
   "source": [
    "concat_stories = {}\n",
    "\n",
    "first = 0\n",
    "\n",
    "keys = [11, 12, 13, 14, 21, 22, 23, 24, 31, 32, 33, 34, 41, 42, 43, 44]\n",
    "ranges = [8]\n",
    "\n",
    "\n",
    "\n",
    "for key in keys:\n",
    "    for i in range(0, 3):\n",
    "        if first == 0:\n",
    "            cc_stories = recalls[key][i]\n",
    "            first = 1\n",
    "        else:\n",
    "            cc_stories = np.concatenate((cc_stories, recalls[key][i]), axis =0)\n",
    "    ranges.append((ranges[-1] + sums[key][0]))"
   ]
  },
  {
   "cell_type": "markdown",
   "metadata": {},
   "source": [
    "## C. Concatenate templates and recalls"
   ]
  },
  {
   "cell_type": "code",
   "execution_count": 10,
   "metadata": {
    "scrolled": false
   },
   "outputs": [],
   "source": [
    "all_wv = np.concatenate((wvs_matrix, cc_stories), axis = 0)"
   ]
  },
  {
   "cell_type": "markdown",
   "metadata": {},
   "source": [
    "## D. Plot "
   ]
  },
  {
   "cell_type": "code",
   "execution_count": 11,
   "metadata": {
    "scrolled": false
   },
   "outputs": [
    {
     "name": "stdout",
     "output_type": "stream",
     "text": [
      "#F49CBB\n",
      "#F671A0\n",
      "#EB3223\n",
      "#8E251C\n",
      "#FFFC97\n",
      "#D0CC38\n",
      "#FFCB85\n",
      "#F19923\n",
      "#B6F7FE\n",
      "#5896CD\n",
      "#1C3AF8\n",
      "#9E1CF8\n",
      "#B1F0B0\n",
      "#48FA45\n",
      "#129210\n",
      "#000000\n",
      "light pink is restaurant break up\n",
      "dark pink is airport break up\n",
      "red is grocery store break up\n",
      "maroon is lecture hall break up\n",
      "light yellow is restaurant proposal\n",
      "dark yellow is airport proposal\n",
      "light orange is grocery store proposal\n",
      "dark orange is lecture hall proposal\n",
      "light blue is restaurant business deal\n",
      "medium blue is airport business deal\n",
      "dark blue is grocery store business deal\n",
      "dark purple is lecture hall business deal\n",
      "light green is restaurant meet-cute\n",
      "bright green is airport meet-cute\n",
      "forest green is grocery store meet-cute\n",
      "black is lecture hall meet-cute\n"
     ]
    },
    {
     "data": {
      "image/png": "[encoded data removed]",
      "text/plain": [
       "<Figure size 1440x1440 with 1 Axes>"
      ]
     },
     "metadata": {
      "needs_background": "light"
     },
     "output_type": "display_data"
    }
   ],
   "source": [
    "## plot\n",
    "plt.figure(figsize=(20,20))\n",
    "\n",
    "#normalize all_wv\n",
    "all_wv = norm_300(all_wv)\n",
    "## PCA for first 2 PCs\n",
    "pca = PCA(n_components=2)\n",
    "pca.fit(all_wv)\n",
    "pc12 = pca.transform(all_wv)\n",
    "\n",
    "###### Plot the templates\n",
    "\n",
    "# Order keys list\n",
    "order_keys_list = ['restaurant', 'breakup', 'airport', 'proposal', 'grocery story', 'business deal', 'lecture hall', 'meet-cute']\n",
    "\n",
    "plt.scatter(pc12[0:8,0], pc12[0:8,1],c= 'k', marker = 'D', s = 200, alpha = '.4')\n",
    "\n",
    "for i in range(8):\n",
    "    plt.text(pc12[i, 0] + .0035, pc12[i, 1], s= order_keys_list[i], fontsize=15 )\n",
    "    \n",
    "plt.xlabel(\"PC 1\", fontsize=15); plt.ylabel(\"PC 2\",fontsize=15);\n",
    "\n",
    "#### Plot the story word vectors\n",
    "keys = [11, 12, 13, 14, 21, 22, 23, 24, 31, 32, 33, 34, 41, 42, 43, 44]\n",
    "colors = ['#F49CBB', '#F671A0',  '#EB3223', '#8E251C', '#FFFC97', '#D0CC38', '#FFCB85', '#F19923', '#B6F7FE', '#5896CD', '#1C3AF8', '#9E1CF8', '#B1F0B0', '#48FA45', '#129210', '#000000']\n",
    "count = 0\n",
    "\n",
    "#story 11\n",
    "for i in range(0, 16):\n",
    "    plt.scatter(pc12[ranges[i]:ranges[i+1],0], pc12[ranges[i]:ranges[i+1],1],c= colors[i], marker = 'o', s = 100, alpha = 1)\n",
    "    print(colors[i])\n",
    "#how do I plot??\n",
    "#plt.legend(colors, keys)\n",
    "\n",
    "print('light pink is restaurant break up')\n",
    "print('dark pink is airport break up')\n",
    "print('red is grocery store break up')\n",
    "print('maroon is lecture hall break up')\n",
    "print('light yellow is restaurant proposal')\n",
    "print('dark yellow is airport proposal')\n",
    "print('light orange is grocery store proposal')\n",
    "print('dark orange is lecture hall proposal')\n",
    "print('light blue is restaurant business deal')\n",
    "print('medium blue is airport business deal')\n",
    "print('dark blue is grocery store business deal')\n",
    "print('dark purple is lecture hall business deal')\n",
    "print('light green is restaurant meet-cute')\n",
    "print('bright green is airport meet-cute')\n",
    "print('forest green is grocery store meet-cute')\n",
    "print('black is lecture hall meet-cute')"
   ]
  },
  {
   "cell_type": "markdown",
   "metadata": {},
   "source": [
    "## E. Avg participants within each story and plot"
   ]
  },
  {
   "cell_type": "code",
   "execution_count": 12,
   "metadata": {
    "scrolled": false
   },
   "outputs": [],
   "source": [
    "first = 0\n",
    "\n",
    "\n",
    "for key in keys:\n",
    "    for i in range(0, 3):\n",
    "        if i == 0:\n",
    "            this_matrix = recalls[key][i]\n",
    "        else:\n",
    "            this_matrix = np.concatenate((this_matrix, recalls[key][i]), axis =0)\n",
    "    avg_vec = np.mean(this_matrix, axis = 0)\n",
    "    avg_vec = avg_vec.reshape(-1, 1)\n",
    "    avg_vec = avg_vec.T\n",
    "    if first == 0:\n",
    "        avg_matrix = avg_vec\n",
    "        first = 1\n",
    "    else:\n",
    "        avg_matrix = np.concatenate((avg_matrix, avg_vec), axis = 0)"
   ]
  },
  {
   "cell_type": "code",
   "execution_count": 13,
   "metadata": {
    "scrolled": false
   },
   "outputs": [],
   "source": [
    "avg_all_wv = np.concatenate((wvs_matrix, avg_matrix), axis = 0)"
   ]
  },
  {
   "cell_type": "code",
   "execution_count": 14,
   "metadata": {
    "scrolled": true
   },
   "outputs": [
    {
     "name": "stdout",
     "output_type": "stream",
     "text": [
      "light pink is restaurant break up\n",
      "dark pink is airport break up\n",
      "red is grocery store break up\n",
      "maroon is lecture hall break up\n",
      "light yellow is restaurant proposal\n",
      "dark yellow is airport proposal\n",
      "light orange is grocery store proposal\n",
      "dark orange is lecture hall proposal\n",
      "light blue is restaurant business deal\n",
      "medium blue is airport business deal\n",
      "dark blue is grocery store business deal\n",
      "dark purple is lecture hall business deal\n",
      "light green is restaurant meet-cute\n",
      "bright green is airport meet-cute\n",
      "forest green is grocery store meet-cute\n",
      "black is lecture hall meet-cute\n"
     ]
    },
    {
     "data": {
      "image/png": "[encoded data removed]",
      "text/plain": [
       "<Figure size 1440x1440 with 1 Axes>"
      ]
     },
     "metadata": {
      "needs_background": "light"
     },
     "output_type": "display_data"
    }
   ],
   "source": [
    "## plot\n",
    "plt.figure(figsize=(20,20))\n",
    "\n",
    "#norm\n",
    "avg_all_wv = norm_300(avg_all_wv)\n",
    "\n",
    "## PCA for first 2 PCs\n",
    "pca = PCA(n_components=2)\n",
    "pca.fit(avg_all_wv)\n",
    "pc12 = pca.transform(avg_all_wv)\n",
    "\n",
    "###### Plot the templates\n",
    "\n",
    "# Order keys list\n",
    "order_keys_list = ['restaurant', 'breakup', 'airport', 'proposal', 'grocery story', 'business deal', 'lecture hall', 'meet-cute']\n",
    "\n",
    "plt.scatter(pc12[0:8,0], pc12[0:8,1],c= 'k', marker = 'D', s = 200, alpha = '.4')\n",
    "\n",
    "for i in range(8):\n",
    "    plt.text(pc12[i, 0] + .0035, pc12[i, 1], s= order_keys_list[i], fontsize=15 )\n",
    "    \n",
    "plt.xlabel(\"PC 1\", fontsize=15); plt.ylabel(\"PC 2\",fontsize=15);\n",
    "\n",
    "#### Plot the story word vectors\n",
    "keys = [11, 12, 13, 14, 21, 22, 23, 24, 31, 32, 33, 34, 41, 42, 43, 44]\n",
    "colors = ['#F49CBB', '#F671A0',  '#EB3223', '#8E251C', '#FFFC97', '#D0CC38', '#FFCB85', '#F19923', '#B6F7FE', '#5896CD', '#1C3AF8', '#9E1CF8', '#B1F0B0', '#48FA45', '#129210', '#000000']\n",
    "count = 0\n",
    "\n",
    "#story 11\n",
    "for i in range(0, 16):\n",
    "    plt.scatter(pc12[i+8,0], pc12[i+8,1],c= colors[i], marker = 'o', s = 100, alpha = 1)\n",
    "\n",
    "#how do I plot??\n",
    "#plt.legend(colors, keys)\n",
    "\n",
    "print('light pink is restaurant break up')\n",
    "print('dark pink is airport break up')\n",
    "print('red is grocery store break up')\n",
    "print('maroon is lecture hall break up')\n",
    "print('light yellow is restaurant proposal')\n",
    "print('dark yellow is airport proposal')\n",
    "print('light orange is grocery store proposal')\n",
    "print('dark orange is lecture hall proposal')\n",
    "print('light blue is restaurant business deal')\n",
    "print('medium blue is airport business deal')\n",
    "print('dark blue is grocery store business deal')\n",
    "print('dark purple is lecture hall business deal')\n",
    "print('light green is restaurant meet-cute')\n",
    "print('bright green is airport meet-cute')\n",
    "print('forest green is grocery store meet-cute')\n",
    "print('black is lecture hall meet-cute')"
   ]
  },
  {
   "cell_type": "markdown",
   "metadata": {},
   "source": [
    "# II. Plot all recalls for each story- comparison to stories\n",
    "## A. Concatenatate story vectors"
   ]
  },
  {
   "cell_type": "code",
   "execution_count": 15,
   "metadata": {
    "scrolled": false
   },
   "outputs": [
    {
     "name": "stdout",
     "output_type": "stream",
     "text": [
      "11\n",
      "12\n",
      "13\n",
      "14\n",
      "21\n",
      "22\n",
      "23\n",
      "24\n",
      "31\n",
      "32\n",
      "33\n",
      "34\n",
      "41\n",
      "42\n",
      "43\n",
      "44\n"
     ]
    }
   ],
   "source": [
    "# Concatenating wvs for plotting below\n",
    "wv_dim = 300\n",
    "stories_concat = np.zeros((16, wv_dim))\n",
    "order_keys = np.zeros((16,1))\n",
    "count = 0\n",
    "for key in stories:\n",
    "    print(key)\n",
    "    stories_concat[count, :] = stories[key]\n",
    "    order_keys[count] = key\n",
    "    count += 1"
   ]
  },
  {
   "cell_type": "code",
   "execution_count": 16,
   "metadata": {
    "scrolled": false
   },
   "outputs": [],
   "source": [
    "## B. Concat recalls"
   ]
  },
  {
   "cell_type": "code",
   "execution_count": 17,
   "metadata": {
    "scrolled": false
   },
   "outputs": [],
   "source": [
    "concat_stories = {}\n",
    "\n",
    "first = 0\n",
    "\n",
    "keys = [11, 12, 13, 14, 21, 22, 23, 24, 31, 32, 33, 34, 41, 42, 43, 44]\n",
    "ranges = [16]\n",
    "\n",
    "\n",
    "\n",
    "for key in keys:\n",
    "    for i in range(0, 3):\n",
    "        if first == 0:\n",
    "            cc_recalls = recalls[key][i]\n",
    "            first = 1\n",
    "        else:\n",
    "            cc_recalls = np.concatenate((cc_recalls, recalls[key][i]), axis =0)\n",
    "    ranges.append((ranges[-1] + sums[key][0]))"
   ]
  },
  {
   "cell_type": "markdown",
   "metadata": {},
   "source": [
    "## C. Concatenate stories and recalls"
   ]
  },
  {
   "cell_type": "code",
   "execution_count": 18,
   "metadata": {
    "scrolled": false
   },
   "outputs": [],
   "source": [
    "concat_stories_recalls = np.concatenate((stories_concat, cc_recalls), axis = 0)"
   ]
  },
  {
   "cell_type": "markdown",
   "metadata": {},
   "source": [
    "## D. Plot"
   ]
  },
  {
   "cell_type": "code",
   "execution_count": 26,
   "metadata": {
    "scrolled": false
   },
   "outputs": [
    {
     "name": "stdout",
     "output_type": "stream",
     "text": [
      "#F49CBB\n",
      "#F671A0\n",
      "#EB3223\n",
      "#8E251C\n",
      "#FFFC97\n",
      "#D0CC38\n",
      "#FFCB85\n",
      "#F19923\n",
      "#B6F7FE\n",
      "#5896CD\n",
      "#1C3AF8\n",
      "#9E1CF8\n",
      "#B1F0B0\n",
      "#48FA45\n",
      "#129210\n",
      "#000000\n",
      "light pink is restaurant break up\n",
      "dark pink is airport break up\n",
      "red is grocery store break up\n",
      "maroon is lecture hall break up\n",
      "light yellow is restaurant proposal\n",
      "dark yellow is airport proposal\n",
      "light orange is grocery store proposal\n",
      "dark orange is lecture hall proposal\n",
      "light blue is restaurant business deal\n",
      "medium blue is airport business deal\n",
      "dark blue is grocery store business deal\n",
      "dark purple is lecture hall business deal\n",
      "light green is restaurant meet-cute\n",
      "bright green is airport meet-cute\n",
      "forest green is grocery store meet-cute\n",
      "black is lecture hall meet-cute\n"
     ]
    },
    {
     "data": {
      "image/png": "[encoded data removed]",
      "text/plain": [
       "<Figure size 1440x1440 with 1 Axes>"
      ]
     },
     "metadata": {
      "needs_background": "light"
     },
     "output_type": "display_data"
    }
   ],
   "source": [
    "## plot\n",
    "plt.figure(figsize=(20,20))\n",
    "\n",
    "#normalize\n",
    "concat_stories_recalls = norm_300(concat_stories_recalls)\n",
    "\n",
    "## PCA for first 2 PCs\n",
    "pca = PCA(n_components=2)\n",
    "pca.fit(concat_stories_recalls)\n",
    "pc12 = pca.transform(concat_stories_recalls)\n",
    "\n",
    "###### Plot the templates\n",
    "\n",
    "# Order keys list\n",
    "order_keys_list = ['11', '12', '13', '14', '21', '22', '23', '24', '31', '32', '33', '34', '41', '42', '43', '44']\n",
    "\n",
    "plt.scatter(pc12[0:16,0], pc12[0:16,1],c= 'k', marker = 'D', s = 200, alpha = '.4')\n",
    "\n",
    "for i in range(16):\n",
    "    plt.text(pc12[i, 0] + .0035, pc12[i, 1], s= order_keys_list[i], fontsize=15 )\n",
    "    \n",
    "plt.xlabel(\"PC 1\", fontsize=15); plt.ylabel(\"PC 2\",fontsize=15);\n",
    "\n",
    "#### Plot the story word vectors\n",
    "keys = [11, 12, 13, 14, 21, 22, 23, 24, 31, 32, 33, 34, 41, 42, 43, 44]\n",
    "colors = ['#F49CBB', '#F671A0',  '#EB3223', '#8E251C', '#FFFC97', '#D0CC38', '#FFCB85', '#F19923', '#B6F7FE', '#5896CD', '#1C3AF8', '#9E1CF8', '#B1F0B0', '#48FA45', '#129210', '#000000']\n",
    "count = 0\n",
    "\n",
    "plt.xlim(-500,500)\n",
    "plt.ylim(-500,500)\n",
    "\n",
    "#story 11\n",
    "for i in range(0, 16):\n",
    "    plt.scatter(pc12[ranges[i]:ranges[i+1],0], pc12[ranges[i]:ranges[i+1],1],c= colors[i], marker = 'o', s = 100, alpha = 1)\n",
    "    print(colors[i])\n",
    "#how do I plot??\n",
    "#plt.legend(colors, keys)\n",
    "\n",
    "print('light pink is restaurant break up')\n",
    "print('dark pink is airport break up')\n",
    "print('red is grocery store break up')\n",
    "print('maroon is lecture hall break up')\n",
    "print('light yellow is restaurant proposal')\n",
    "print('dark yellow is airport proposal')\n",
    "print('light orange is grocery store proposal')\n",
    "print('dark orange is lecture hall proposal')\n",
    "print('light blue is restaurant business deal')\n",
    "print('medium blue is airport business deal')\n",
    "print('dark blue is grocery store business deal')\n",
    "print('dark purple is lecture hall business deal')\n",
    "print('light green is restaurant meet-cute')\n",
    "print('bright green is airport meet-cute')\n",
    "print('forest green is grocery store meet-cute')\n",
    "print('black is lecture hall meet-cute')"
   ]
  },
  {
   "cell_type": "markdown",
   "metadata": {},
   "source": [
    "## E. Avg participants within each story and plot"
   ]
  },
  {
   "cell_type": "code",
   "execution_count": 20,
   "metadata": {
    "scrolled": false
   },
   "outputs": [],
   "source": [
    "first = 0\n",
    "\n",
    "\n",
    "for key in keys:\n",
    "    for i in range(0, 3):\n",
    "        if i == 0:\n",
    "            avg_recalls = recalls[key][i]\n",
    "        else:\n",
    "            avg_recalls = np.concatenate((avg_recalls, recalls[key][i]), axis =0)\n",
    "    avg_vec = np.mean(avg_recalls, axis = 0)\n",
    "    avg_vec = avg_vec.reshape(-1, 1)\n",
    "    avg_vec = avg_vec.T\n",
    "    if first == 0:\n",
    "        avg_matrix = avg_vec\n",
    "        first = 1\n",
    "    else:\n",
    "        avg_matrix = np.concatenate((avg_matrix, avg_vec), axis = 0)"
   ]
  },
  {
   "cell_type": "code",
   "execution_count": 21,
   "metadata": {
    "scrolled": false
   },
   "outputs": [],
   "source": [
    "avg_all_wv = np.concatenate((stories_concat, avg_matrix), axis = 0)"
   ]
  },
  {
   "cell_type": "code",
   "execution_count": 22,
   "metadata": {
    "scrolled": false
   },
   "outputs": [
    {
     "name": "stdout",
     "output_type": "stream",
     "text": [
      "light pink is 11:restaurant break up\n",
      "dark pink is 12: airport break up\n",
      "red is 13: grocery store break up\n",
      "maroon is 14:lecture hall break up\n",
      "light yellow is 21: restaurant proposal\n",
      "dark yellow is 22: airport proposal\n",
      "light orange is 23:grocery store proposal\n",
      "dark orange is 24: lecture hall proposal\n",
      "light blue is 31: restaurant business deal\n",
      "medium blue is 32: airport business deal\n",
      "dark blue is 33: grocery store business deal\n",
      "dark purple is 34: lecture hall business deal\n",
      "light green is 41: restaurant meet-cute\n",
      "bright green is 42: airport meet-cute\n",
      "forest green is 43: grocery store meet-cute\n",
      "black is 44: lecture hall meet-cute\n"
     ]
    },
    {
     "data": {
      "image/png": "[encoded data removed]",
      "text/plain": [
       "<Figure size 1440x1440 with 1 Axes>"
      ]
     },
     "metadata": {
      "needs_background": "light"
     },
     "output_type": "display_data"
    }
   ],
   "source": [
    "## plot\n",
    "plt.figure(figsize=(20,20))\n",
    "\n",
    "#normalize\n",
    "avg_all_wv = norm_300(avg_all_wv)\n",
    "\n",
    "## PCA for first 2 PCs\n",
    "pca = PCA(n_components=2)\n",
    "pca.fit(avg_all_wv)\n",
    "pc12 = pca.transform(avg_all_wv)\n",
    "\n",
    "###### Plot the templates\n",
    "\n",
    "# Order keys list\n",
    "order_keys_list = ['11', '12', '13', '14', '21', '22', '23', '24', '31', '32', '33', '34', '41', '42', '43', '44']\n",
    "\n",
    "plt.scatter(pc12[0:16,0], pc12[0:16,1],c= 'k', marker = 'D', s = 200, alpha = '.4')\n",
    "\n",
    "for i in range(16):\n",
    "    plt.text(pc12[i, 0] + .0035, pc12[i, 1], s= order_keys_list[i], fontsize=15 )\n",
    "    \n",
    "plt.xlabel(\"PC 1\", fontsize=15); plt.ylabel(\"PC 2\",fontsize=15);\n",
    "\n",
    "#### Plot the story word vectors\n",
    "keys = [11, 12, 13, 14, 21, 22, 23, 24, 31, 32, 33, 34, 41, 42, 43, 44]\n",
    "colors = ['#F49CBB', '#F671A0',  '#EB3223', '#8E251C', '#FFFC97', '#D0CC38', '#FFCB85', '#F19923', '#B6F7FE', '#5896CD', '#1C3AF8', '#9E1CF8', '#B1F0B0', '#48FA45', '#129210', '#000000']\n",
    "count = 0\n",
    "\n",
    "#story 11\n",
    "for i in range(0, 16):\n",
    "    plt.scatter(pc12[i+16,0], pc12[i+16,1],c= colors[i], marker = 'o', s = 100, alpha = 1)\n",
    "\n",
    "#how do I plot??\n",
    "#plt.legend(colors, keys)\n",
    "\n",
    "print('light pink is 11:restaurant break up')\n",
    "print('dark pink is 12: airport break up')\n",
    "print('red is 13: grocery store break up')\n",
    "print('maroon is 14:lecture hall break up')\n",
    "print('light yellow is 21: restaurant proposal')\n",
    "print('dark yellow is 22: airport proposal')\n",
    "print('light orange is 23:grocery store proposal')\n",
    "print('dark orange is 24: lecture hall proposal')\n",
    "print('light blue is 31: restaurant business deal')\n",
    "print('medium blue is 32: airport business deal')\n",
    "print('dark blue is 33: grocery store business deal')\n",
    "print('dark purple is 34: lecture hall business deal')\n",
    "print('light green is 41: restaurant meet-cute')\n",
    "print('bright green is 42: airport meet-cute')\n",
    "print('forest green is 43: grocery store meet-cute')\n",
    "print('black is 44: lecture hall meet-cute')"
   ]
  },
  {
   "cell_type": "code",
   "execution_count": null,
   "metadata": {
    "scrolled": false
   },
   "outputs": [],
   "source": []
  },
  {
   "cell_type": "code",
   "execution_count": null,
   "metadata": {},
   "outputs": [],
   "source": []
  }
 ],
 "metadata": {
  "kernelspec": {
   "display_name": "Python 3",
   "language": "python",
   "name": "python3"
  },
  "language_info": {
   "codemirror_mode": {
    "name": "ipython",
    "version": 3
   },
   "file_extension": ".py",
   "mimetype": "text/x-python",
   "name": "python",
   "nbconvert_exporter": "python",
   "pygments_lexer": "ipython3",
   "version": "3.6.8"
  }
 },
 "nbformat": 4,
 "nbformat_minor": 2
}
