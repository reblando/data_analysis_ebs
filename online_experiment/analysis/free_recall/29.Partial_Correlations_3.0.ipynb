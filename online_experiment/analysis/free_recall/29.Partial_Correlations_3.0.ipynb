{
 "cells": [
  {
   "cell_type": "markdown",
   "metadata": {},
   "source": [
    "# Find the partial correlations between each priming group in all stories and the loc template, soc template, and story vectors\n",
    "\n",
    "## similar to anaylis 26:\n",
    "#### each participants' recall is kept independent until after the regression and correlation, thereafter the mean is taken across subjects\n",
    "\n",
    "## different from the other analyses:\n",
    "### L_corr = corr(L, recall - story)\n",
    "### S_corr = corr(S, recall - story)\n",
    "### story_corr = corr(story, recall - L - S - other stories with shared schema)\n",
    "### ) all other possible regressors besides the regressor used in the correlation are used in the initial regression\n",
    "\n",
    "## 2/18/20\n",
    "\n",
    "\n",
    "#### In this analysis:\n",
    "#### we are starting with the participant recalls for each story separated by priming group. \n",
    "#### For each participant, we get the correlation value for it and the story wv, the location schema wv, and the social schema wv after regressing out from each participant other wvs specific to that correlation. \n",
    "#### ex. for the social schema wv, and only the story vector is used in the regression\n",
    "#### We avg within priming group and correlation type, so that all of the social primed participants have their story correlations avg'd etc. "
   ]
  },
  {
   "cell_type": "code",
   "execution_count": 1,
   "metadata": {},
   "outputs": [
    {
     "data": {
      "application/javascript": [
       "IPython.notebook.set_autosave_interval(5000)"
      ]
     },
     "metadata": {},
     "output_type": "display_data"
    },
    {
     "name": "stdout",
     "output_type": "stream",
     "text": [
      "Autosaving every 5 seconds\n"
     ]
    }
   ],
   "source": [
    "import pandas as pd\n",
    "import numpy as np\n",
    "import plotly.graph_objs as go\n",
    "import plotly.plotly as py\n",
    "import plotly\n",
    "import os\n",
    "import glob\n",
    "import math\n",
    "import statistics\n",
    "import matplotlib.pyplot as plt\n",
    "import pickle\n",
    "import copy\n",
    "from random import randrange\n",
    "from sklearn.metrics import jaccard_score\n",
    "import random\n",
    "from sklearn.preprocessing import normalize\n",
    "from sklearn.linear_model import LinearRegression\n",
    "from scipy import stats\n",
    "\n",
    "\n",
    "from sklearn.decomposition import PCA #for cluster analysis\n",
    "import matplotlib.pyplot as plt #for plotting\n",
    "import os #for importing\n",
    "import pickle #for loading transcripts\n",
    "from scipy.stats import pearsonr \n",
    "\n",
    "# from _DRAFT_20200604_functions import * #includes constants and score function\n",
    "from tqdm import tqdm_notebook #for progress bar\n",
    "\n",
    "%autosave 5"
   ]
  },
  {
   "cell_type": "markdown",
   "metadata": {},
   "source": [
    "# 0. Importing story and template vectors and sums "
   ]
  },
  {
   "cell_type": "code",
   "execution_count": 2,
   "metadata": {},
   "outputs": [],
   "source": [
    "templates = pickle.load( open( 'c_template', \"rb\" ) )\n",
    "recalls = pickle.load( open( 'c_recall', \"rb\" ) )\n",
    "stories = pickle.load( open( 'c_stories', \"rb\" ) )\n",
    "# sums\n",
    "sums = pickle.load( open( \"new_sums\", \"rb\" ) )"
   ]
  },
  {
   "cell_type": "markdown",
   "metadata": {},
   "source": [
    "# I. Main analysis\n",
    "## A. Getting the residuals + correlatons for each participant\n",
    "### 1. Loc wv correlations"
   ]
  },
  {
   "cell_type": "code",
   "execution_count": 3,
   "metadata": {},
   "outputs": [],
   "source": [
    "# Partial correlation with loc: regress out story wv, and correlate with loc\n",
    "\n",
    "schema_order = [1, 2, 3, 4, 10, 20, 30, 40]\n",
    "corrs = {}\n",
    "count = 0\n",
    "key_check =0 \n",
    "\n",
    "for key in recalls:\n",
    "    loc = key%10\n",
    "    # Make the inputs of the regression\n",
    "    new_input = stories[key].reshape(stories[key].shape[0],-1)\n",
    "    for prime in range(0,3):\n",
    "        all_subjs = np.zeros((0,3))\n",
    "        for subj in range(0, len(recalls[key][prime])):\n",
    "            ## regression \n",
    "            output = np.copy(recalls[key][prime][subj])\n",
    "            #output = output.reshape(output.shape[0],-1)\n",
    "            model = LinearRegression().fit(new_input, output)\n",
    "            ## Is subtracting the intercept correct?? \n",
    "            new_vec = output - np.dot(model.coef_, new_input.T)- model.intercept_\n",
    "            ## correlation\n",
    "            # reshaping residuals\n",
    "            new_vec = new_vec.reshape(new_vec.shape[0],-1)\n",
    "            # correlation vector\n",
    "            this_loc = templates[loc].reshape(templates[loc].shape[0],-1)\n",
    "            # corrcoef function\n",
    "            this_correl = np.corrcoef(this_loc.T, new_vec.T)[0,1]\n",
    "            # placing this_correl in a 1 x 3 array\n",
    "            subj_vec = np.array([this_correl, 0, 0])\n",
    "            all_subjs = np.vstack((all_subjs, subj_vec))\n",
    "        if key_check == 0:\n",
    "            key_check = 1\n",
    "            corrs[key] = {prime:all_subjs}\n",
    "        else:\n",
    "            corrs[key][prime] = all_subjs\n",
    "    key_check = 0"
   ]
  },
  {
   "cell_type": "markdown",
   "metadata": {},
   "source": [
    "### 4. Soc wv correlations"
   ]
  },
  {
   "cell_type": "code",
   "execution_count": 4,
   "metadata": {},
   "outputs": [],
   "source": [
    "for key in recalls:\n",
    "    soc = round(key/10)*10\n",
    "        # Make the inputs of the regression\n",
    "    new_input = stories[key].reshape(stories[key].shape[0],-1)\n",
    "    for prime in range(0,3):\n",
    "        all_subjs = np.zeros((0,3))\n",
    "        for subj in range(0, len(recalls[key][prime])):\n",
    "            ## regression \n",
    "            output = np.copy(recalls[key][prime][subj])\n",
    "            #output = output.reshape(output.shape[0],-1)\n",
    "            model = LinearRegression().fit(new_input, output)\n",
    "            ## Is subtracting the intercept correct?? \n",
    "            new_vec = output - np.dot(model.coef_, new_input.T)- model.intercept_\n",
    "            ## correlation\n",
    "            # reshaping residuals\n",
    "            new_vec = new_vec.reshape(new_vec.shape[0],-1)\n",
    "            # correlation vector\n",
    "            this_soc = templates[soc].reshape(templates[soc].shape[0],-1)\n",
    "            # corrcoef function\n",
    "            this_correl = np.corrcoef(this_soc.T, new_vec.T)[0,1]\n",
    "            # placing this_correl in the 1 x 3 array\n",
    "            corrs[key][prime][subj, 1] = this_correl"
   ]
  },
  {
   "cell_type": "markdown",
   "metadata": {},
   "source": [
    "### 5. Story correlations"
   ]
  },
  {
   "cell_type": "code",
   "execution_count": 5,
   "metadata": {},
   "outputs": [
    {
     "name": "stdout",
     "output_type": "stream",
     "text": [
      "(300, 17)\n",
      "(300, 17)\n",
      "(300, 17)\n",
      "(300, 17)\n",
      "(300, 17)\n",
      "(300, 17)\n",
      "(300, 17)\n",
      "(300, 17)\n",
      "(300, 17)\n",
      "(300, 17)\n",
      "(300, 17)\n",
      "(300, 17)\n",
      "(300, 17)\n",
      "(300, 17)\n",
      "(300, 17)\n",
      "(300, 17)\n"
     ]
    }
   ],
   "source": [
    "story_order = [11,12,13,14,21,22,23,24,31,32,33,34,41,42,43,44]\n",
    "\n",
    "for key in recalls:\n",
    "    loc = key%10\n",
    "    soc = round(key/10)*10\n",
    "    # location template\n",
    "    l_temp = templates[loc].reshape(templates[loc].shape[0],-1)\n",
    "    # social template\n",
    "    s_temp = templates[soc].reshape(templates[soc].shape[0],-1)\n",
    "    inputs = np.concatenate((l_temp, s_temp), axis = 1)\n",
    "    # List the set of stories that share a schema with the stories\n",
    "    shared_schema = []\n",
    "    for story in story_order:\n",
    "        this_loc = story%10\n",
    "        this_soc = round(story/10)*10\n",
    "        if story == key:\n",
    "            pass\n",
    "        elif this_loc == loc:\n",
    "            shared_schema.append(story)\n",
    "        elif this_soc == soc:\n",
    "            shared_schema.append(story)\n",
    "        else:\n",
    "            shared_schema.append(story)\n",
    "    # Iterate through the list\n",
    "    for story in shared_schema:\n",
    "        inputs = np.concatenate((inputs, stories[story].reshape(stories[story].shape[0],-1)), axis = 1)\n",
    "    print(inputs.shape)\n",
    "    for prime in range(0,3):\n",
    "        all_subjs = np.zeros((0,3))\n",
    "        for subj in range(0, len(recalls[key][prime])):\n",
    "            ## regression \n",
    "            output = np.copy(recalls[key][prime][subj])\n",
    "            #output = output.reshape(output.shape[0],-1)\n",
    "            model = LinearRegression().fit(inputs, output)\n",
    "            ## Is subtracting the intercept correct?? \n",
    "            new_vec = output - np.dot(model.coef_, inputs.T)- model.intercept_\n",
    "            ## correlation\n",
    "            # reshaping residuals\n",
    "            new_vec = new_vec.reshape(new_vec.shape[0],-1)\n",
    "            # correlation vector\n",
    "            this_story = stories[key].reshape(stories[key].shape[0],-1)\n",
    "            # corrcoef function\n",
    "            this_correl = np.corrcoef(this_story.T, new_vec.T)[0,1]\n",
    "            # placing this_correl in the 1 x 3 array\n",
    "            corrs[key][prime][subj, 2] = this_correl"
   ]
  },
  {
   "cell_type": "markdown",
   "metadata": {},
   "source": [
    "## C. Avg 3 types of correlations across all stories for each priming type"
   ]
  },
  {
   "cell_type": "code",
   "execution_count": 6,
   "metadata": {},
   "outputs": [
    {
     "name": "stdout",
     "output_type": "stream",
     "text": [
      "(103, 3)\n",
      "(3,)\n",
      "(108, 3)\n",
      "(3,)\n",
      "(104, 3)\n",
      "(3,)\n"
     ]
    }
   ],
   "source": [
    "avg_corr = {}\n",
    "\n",
    "for i in range(0,3):\n",
    "    this_prime = np.zeros((0,3))\n",
    "    # concat corrs from all stories\n",
    "    for key in story_order:\n",
    "        this_prime = np.vstack((this_prime, corrs[key][i]))\n",
    "    # avg down the rows\n",
    "    print(this_prime.shape)\n",
    "    avg_prime = np.mean(this_prime, axis = 0)\n",
    "    print(avg_prime.shape)\n",
    "    # put into dict\n",
    "    avg_corr[i] = avg_prime\n",
    "        "
   ]
  },
  {
   "cell_type": "code",
   "execution_count": 7,
   "metadata": {},
   "outputs": [
    {
     "data": {
      "text/plain": [
       "{0: array([0.11973587, 0.08761293, 0.02426309]),\n",
       " 1: array([0.18386736, 0.08081887, 0.02476534]),\n",
       " 2: array([0.13833077, 0.04842306, 0.02824094])}"
      ]
     },
     "execution_count": 7,
     "metadata": {},
     "output_type": "execute_result"
    }
   ],
   "source": [
    "avg_corr"
   ]
  },
  {
   "cell_type": "code",
   "execution_count": 8,
   "metadata": {},
   "outputs": [
    {
     "data": {
      "image/png": "[encoded data removed]",
      "text/plain": [
       "<Figure size 432x288 with 1 Axes>"
      ]
     },
     "metadata": {
      "needs_background": "light"
     },
     "output_type": "display_data"
    }
   ],
   "source": [
    "# loc weight\n",
    "w0 = np.zeros((3,1))\n",
    "\n",
    "# soc weight\n",
    "w1 = np.zeros((3,1))\n",
    "\n",
    "# story weight\n",
    "w2 = np.zeros((3,1))\n",
    "\n",
    "# assign values\n",
    "w0[0] = avg_corr[0][0]\n",
    "w0[1] = avg_corr[1][0]\n",
    "w0[2] = avg_corr[2][0]\n",
    "\n",
    "w1[0] = avg_corr[0][1]\n",
    "w1[1] = avg_corr[1][1]\n",
    "w1[2] = avg_corr[2][1]\n",
    "\n",
    "w2[0] = avg_corr[0][2]\n",
    "w2[1] = avg_corr[1][2]\n",
    "w2[2] = avg_corr[2][2]\n",
    "\n",
    "\n",
    "w0 = w0.ravel()\n",
    "w1 = w1.ravel()\n",
    "w2 = w2.ravel()\n",
    "\n",
    "#labels\n",
    "labels = ['no prime', 'loc', 'soc']\n",
    "\n",
    "x = np.arange(len(labels))  # the label locations\n",
    "width = 0.25  # the width of the bars\n",
    "\n",
    "fig, ax = plt.subplots()\n",
    "\n",
    "rects1 = ax.bar(x, w0, width, label='loc wv corr')\n",
    "rects2 = ax.bar(x + width, w1, width, label='soc wv corr')\n",
    "rects3 = ax.bar(x + width*2, w2, width, label='story wv corr')\n",
    "\n",
    "# Add some text for labels, title and custom x-axis tick labels, etc.\n",
    "ax.set_ylabel('correlation value')\n",
    "ax.set_xlabel('prime type')\n",
    "ax.set_title('loc, soc and story partial correlation')\n",
    "ax.set_xticks(x + width)\n",
    "ax.set_xticklabels(labels)\n",
    "ax.legend()\n",
    "ax.set_ylim([0, .2])\n",
    "fig.tight_layout()\n",
    "\n",
    "plt.show()\n",
    "\n",
    "\n"
   ]
  },
  {
   "cell_type": "code",
   "execution_count": null,
   "metadata": {},
   "outputs": [],
   "source": []
  },
  {
   "cell_type": "code",
   "execution_count": null,
   "metadata": {},
   "outputs": [],
   "source": []
  },
  {
   "cell_type": "code",
   "execution_count": null,
   "metadata": {},
   "outputs": [],
   "source": []
  }
 ],
 "metadata": {
  "kernelspec": {
   "display_name": "Python 3",
   "language": "python",
   "name": "python3"
  },
  "language_info": {
   "codemirror_mode": {
    "name": "ipython",
    "version": 3
   },
   "file_extension": ".py",
   "mimetype": "text/x-python",
   "name": "python",
   "nbconvert_exporter": "python",
   "pygments_lexer": "ipython3",
   "version": "3.8.5"
  }
 },
 "nbformat": 4,
 "nbformat_minor": 2
}
