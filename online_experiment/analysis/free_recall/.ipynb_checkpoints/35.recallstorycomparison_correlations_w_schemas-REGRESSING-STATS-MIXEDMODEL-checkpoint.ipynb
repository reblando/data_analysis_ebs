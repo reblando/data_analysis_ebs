{
 "cells": [
  {
   "cell_type": "markdown",
   "metadata": {},
   "source": [
    "# Are the recalls more schematic than the stories themselves?\n",
    "\n",
    "## Based on 33\n",
    "\n",
    "\n",
    "\n",
    "## Loc_corr_subj_i_story_j - Loc_corr_story_j\n",
    "\n",
    "#### finding each participants avg loc/soc correlation and then subtracting the loc_corr_story\n",
    "\n",
    "#### 4/8/21\n"
   ]
  },
  {
   "cell_type": "code",
   "execution_count": 68,
   "metadata": {},
   "outputs": [],
   "source": [
    "# 0 for np\n",
    "# 1 for loc\n",
    "# 2 for soc\n",
    "\n",
    "### need to change naming of .csv files as well at the bottom\n",
    "\n",
    "this_priming_group = 1"
   ]
  },
  {
   "cell_type": "code",
   "execution_count": 2,
   "metadata": {
    "scrolled": true
   },
   "outputs": [
    {
     "data": {
      "application/javascript": [
       "IPython.notebook.set_autosave_interval(5000)"
      ]
     },
     "metadata": {},
     "output_type": "display_data"
    },
    {
     "name": "stdout",
     "output_type": "stream",
     "text": [
      "Autosaving every 5 seconds\n"
     ]
    }
   ],
   "source": [
    "import pandas as pd\n",
    "import numpy as np\n",
    "import plotly.graph_objs as go\n",
    "import plotly.plotly as py\n",
    "import plotly\n",
    "import os\n",
    "import glob\n",
    "import math\n",
    "import statistics\n",
    "import matplotlib.pyplot as plt\n",
    "import seaborn as sns\n",
    "import pickle\n",
    "import copy\n",
    "from random import randrange\n",
    "from sklearn.metrics import jaccard_score\n",
    "import random\n",
    "from sklearn.preprocessing import normalize\n",
    "from sklearn.linear_model import LinearRegression\n",
    "from scipy import stats\n",
    "\n",
    "\n",
    "from sklearn.decomposition import PCA #for cluster analysis\n",
    "from gensim.models import KeyedVectors #for word embeddings\n",
    "import matplotlib.pyplot as plt #for plotting\n",
    "import os #for importing\n",
    "import pickle #for loading transcripts\n",
    "from scipy.stats import pearsonr \n",
    "\n",
    "# from _DRAFT_20200604_functions import * #includes constants and score function\n",
    "from tqdm import tqdm_notebook #for progress bar\n",
    "\n",
    "#Import wordcloud\n",
    "from wordcloud import WordCloud, STOPWORDS, ImageColorGenerator\n",
    "\n",
    "%autosave 5"
   ]
  },
  {
   "cell_type": "markdown",
   "metadata": {},
   "source": [
    "# 0. Import recalls, and uncentered story and template vectors and sums "
   ]
  },
  {
   "cell_type": "code",
   "execution_count": 69,
   "metadata": {
    "scrolled": true
   },
   "outputs": [],
   "source": [
    "# import recalls and sums\n",
    "recalls = pickle.load( open( 'fr_recalls', \"rb\" ) )\n",
    "sums = pickle.load( open( \"fr_sums\", \"rb\" ) )\n",
    "\n",
    "#import individual words of stories\n",
    "granstories = pickle.load( open( 'gran_stories', \"rb\" ) )\n",
    "\n",
    "#import non-centered story, template\n",
    "templates = pickle.load( open( 'template_vectors', \"rb\" ) )\n",
    "stories = pickle.load( open( 'actual_story_vectors', \"rb\" ) )"
   ]
  },
  {
   "cell_type": "markdown",
   "metadata": {},
   "source": [
    "## Word to Vec"
   ]
  },
  {
   "cell_type": "code",
   "execution_count": 6,
   "metadata": {
    "scrolled": true
   },
   "outputs": [],
   "source": [
    "wikipath = 'rolando/wiki-news-300d-1M.vec'\n",
    "wv_model = KeyedVectors.load_word2vec_format(wikipath)"
   ]
  },
  {
   "cell_type": "code",
   "execution_count": 7,
   "metadata": {
    "scrolled": true
   },
   "outputs": [],
   "source": [
    "wv_dim = 300\n",
    "\n",
    "# FastText preprocessing, based on bittlingmayer/ft_wiki_preproc.py\n",
    "# Remove special characters, put spaces between all tokens\n",
    "SUB = [\"s/’/'/g\", \"s/′/'/g\", \"s/''/ /g\", \"s/'/ ' /g\", 's/“/\"/g', 's/”/\"/g', 's/\"/ /g', \"s/\\\\./ \\\\. /g\", \"s/<br \\\\/>/ /g\", \"s/, / , /g\", \"s/(/ ( /g\", \"s/)/ ) /g\", \"s/\\\\!/ \\\\! /g\", \"s/\\\\?/ \\\\? /g\", \"s/\\\\;/ /g\", \"s/\\\\:/ /g\", \"s/-/ - /g\", \"s/=/ /g\", \"s/=/ /g\", \"s/*/ /g\", \"s/|/ /g\", \"s/«/ /g\", \n",
    "       \"s/…/ /g\", \"s/‘/ /g\", \"s/í/ /g\", \"s/ñ/ /g\", \"s/\\x84/ /g\", \"s/î/ /g\", \"s/ó/ /g\", \"s/\\x83/ /g\", \"s/ï/ /g\", \"s/õ/ /g\",\n",
    "       \"s/ò/ /g\", \"s/,/ /g\", \"s/ô/ /g\", \"s/\\x92/ /g\", \"s/é/ /g\", \"s/\\x8e/ /g\", \"s/â\\x80¦/ /g\", \"s/\\x91/ /g\", \"s/\\x93/ /g\",\n",
    "       \"s/\\x94/ /g\", \"s/ã®/ /g\", \"s/ã¨/ /g\", \"s/ã©/ /g\",\n",
    "       \"s/\\â\\x80\\x99/ /g\", \"s/â\\x80\\x9c/ /g\", \"s/â\\x80\\x9d/ /g\", \"s/â\\x80\\x99/ /g\", \"s/â\\x80\\x9c/ /g\", \"s/â\\x80\\x98/ /g\",\n",
    "       \"s/â/ /g\"]\n",
    "\n",
    "def __normalize_text(s):\n",
    "    for sg in SUB:\n",
    "        rep = sg.replace('\\\\','').split('/')\n",
    "        s = s.replace(rep[1], rep[2])\n",
    "    s = s.replace('/',' ')\n",
    "    return s\n",
    "\n",
    "def __spaces(s):\n",
    "    return ' '.join(s.split())\n",
    "\n",
    "def __digits(s):\n",
    "    return ''.join(filter(lambda c: not c.isdigit(), s))\n",
    "\n",
    "# def preproc(s):\n",
    "#     return __punctuation(__spaces(__digits(__normalize_text(s.lower()))))\n",
    "\n",
    "def preproc(s):\n",
    "    return (__spaces(__digits(__normalize_text(s.lower()))))\n",
    "\n",
    "def __punctuation(s):\n",
    "    return s.translate(str.maketrans('', '', string.punctuation))\n",
    "\n",
    "def word2vecSent(sentence, model = 'fasttext'):\n",
    "    wv_dim = 300 #for glove and fasttext\n",
    "    \n",
    "    if model == 'glove':\n",
    "        wvmodel = glove_model\n",
    "    elif model == 'fasttext':\n",
    "        wvmodel = wv_model\n",
    "        \n",
    "    words = preproc(sentence).split(' ')\n",
    "    wv = np.zeros((len(words), wv_dim))\n",
    "    for i in range(len(words)):\n",
    "        if words[i] in wvmodel.vocab:\n",
    "            wv[i,:] = wvmodel.word_vec(words[i])\n",
    "    \n",
    "    return words, wv"
   ]
  },
  {
   "cell_type": "markdown",
   "metadata": {},
   "source": [
    "\n",
    "# Recalls: Concatenate words and word vectors in parallel across all participants in a story"
   ]
  },
  {
   "cell_type": "code",
   "execution_count": 70,
   "metadata": {
    "scrolled": true
   },
   "outputs": [],
   "source": [
    "all_words = {}\n",
    "all_wvs = {}\n",
    "#priming type order\n",
    "all_priming = {}\n",
    "\n",
    "for key in recalls.keys():\n",
    "    all_words[key] = {}\n",
    "    all_wvs[key] = {}\n",
    "\n",
    "#iterate through all np recalls in a story and concatente words for each participant\n",
    "## keeping each participant distinct\n",
    "for key in recalls:\n",
    "    for j in range(0,len(recalls[key][this_priming_group])):\n",
    "        p_words, p_wvs = word2vecSent(recalls[key][this_priming_group][j][0])\n",
    "        # reshape p_words\n",
    "        p_words = np.array(p_words)\n",
    "        p_words = p_words.reshape(p_words.shape[0],-1)\n",
    "        all_words[key][j] = p_words\n",
    "        all_wvs[key][j] = p_wvs"
   ]
  },
  {
   "cell_type": "markdown",
   "metadata": {},
   "source": [
    "# 2. Centering all words + story wvs + template wvs"
   ]
  },
  {
   "cell_type": "code",
   "execution_count": 71,
   "metadata": {
    "scrolled": true
   },
   "outputs": [
    {
     "name": "stdout",
     "output_type": "stream",
     "text": [
      "(12716, 300)\n"
     ]
    }
   ],
   "source": [
    "#Concatenate all words from recall\n",
    "\n",
    "concat = np.zeros((0,300))\n",
    "\n",
    "for story in all_wvs:\n",
    "    for key in all_wvs[story]:\n",
    "        for i in range(0, len(all_wvs[story][key])):\n",
    "            concat = np.vstack((concat, all_wvs[story][key][i]))\n",
    "            \n",
    "print(concat.shape)\n",
    "    \n",
    "for key in granstories:\n",
    "    concat = np.vstack((concat, granstories[key]['wvs']))\n",
    "    \n",
    "for key in templates:\n",
    "    concat = np.vstack((concat, templates[key]))\n",
    "\n",
    "centering_vec = np.mean(concat, axis = 0)\n",
    "\n",
    "# template vectors\n",
    "\n",
    "for key in templates:\n",
    "    templates[key] = templates[key] - centering_vec\n",
    "    \n",
    "# recall vectors\n",
    "\n",
    "for key in recalls:\n",
    "    for i in range(0, len(all_wvs[key])):\n",
    "        all_wvs[key][i] = all_wvs[key][i] - centering_vec\n",
    "            \n",
    "#story vectors\n",
    "\n",
    "#make new dict with int key instead of string\n",
    "for key in granstories:\n",
    "    granstories[key]['wvs'] = granstories[key]['wvs'] - centering_vec"
   ]
  },
  {
   "cell_type": "markdown",
   "metadata": {},
   "source": [
    "## template regression"
   ]
  },
  {
   "cell_type": "code",
   "execution_count": 72,
   "metadata": {
    "scrolled": true
   },
   "outputs": [],
   "source": [
    "schema_order = [1, 2, 3, 4, 10, 20, 30, 40]\n",
    "\n",
    "new_templates = {}\n",
    "\n",
    "for template in templates:\n",
    "    new_input = np.zeros((300,0))\n",
    "    for other_template in schema_order:\n",
    "        if other_template == template:\n",
    "            pass\n",
    "        else:\n",
    "            new_input = np.concatenate((new_input, templates[other_template].reshape(templates[other_template].shape[0],-1)), axis = 1)\n",
    "    ## regression \n",
    "    output = np.copy(templates[template])\n",
    "    #output = output.reshape(output.shape[0],-1)\n",
    "    model = LinearRegression().fit(new_input, output)\n",
    "    ## Is subtracting the intercept correct?? \n",
    "    new_vec = output - np.dot(model.coef_, new_input.T)- model.intercept_\n",
    "    new_templates[template] = new_vec"
   ]
  },
  {
   "cell_type": "markdown",
   "metadata": {},
   "source": [
    "## LOC template correlation with story words"
   ]
  },
  {
   "cell_type": "code",
   "execution_count": 24,
   "metadata": {},
   "outputs": [],
   "source": [
    "### A. Correlate each word with the LOC WV\n",
    "loc_cors = {}\n",
    "\n",
    "for key in granstories.keys():\n",
    "    n = granstories[key]['wvs'].shape[0]\n",
    "    this_loc_cors = np.zeros((n,1))\n",
    "    loc = int(key)%10\n",
    "    this_loc = new_templates[int(loc)].reshape(new_templates[int(loc)].shape[0], -1)\n",
    "    for i in range(0, n):\n",
    "        this_wv = granstories[key]['wvs'][i].reshape(granstories[key]['wvs'][i].shape[0], -1)\n",
    "        this_correl = np.corrcoef(this_loc.T, this_wv.T)\n",
    "        this_loc_cors[i] = this_correl[0,1]\n",
    "    loc_cors[key] = np.ravel(this_loc_cors)\n",
    "    \n",
    "#avg loc cors\n",
    "\n",
    "loc_stories = {}\n",
    "\n",
    "for key in loc_cors:\n",
    "    loc_stories[int(key)] = np.mean(loc_cors[key])"
   ]
  },
  {
   "cell_type": "markdown",
   "metadata": {},
   "source": [
    "## SOC template correlation with story words"
   ]
  },
  {
   "cell_type": "code",
   "execution_count": 25,
   "metadata": {},
   "outputs": [],
   "source": [
    "### A. Correlate each word with the LOC WV\n",
    "soc_cors = {}\n",
    "\n",
    "for key in granstories.keys():\n",
    "    n = granstories[key]['wvs'].shape[0]\n",
    "    this_soc_cors = np.zeros((n,1))\n",
    "    soc = round(int(key)/10)*10\n",
    "    this_soc = new_templates[int(soc)].reshape(new_templates[int(soc)].shape[0], -1)\n",
    "    for i in range(0, n):\n",
    "        this_wv = granstories[key]['wvs'][i].reshape(granstories[key]['wvs'][i].shape[0], -1)\n",
    "        this_correl = np.corrcoef(this_soc.T, this_wv.T)\n",
    "        this_soc_cors[i] = this_correl[0,1]\n",
    "    soc_cors[key] = np.ravel(this_soc_cors)\n",
    "    \n",
    "#avg loc cors\n",
    "\n",
    "soc_stories = {}\n",
    "\n",
    "for key in soc_cors:\n",
    "    soc_stories[int(key)] = np.mean(soc_cors[key])"
   ]
  },
  {
   "cell_type": "markdown",
   "metadata": {},
   "source": [
    "# *LOC* correlations with recalls\n",
    "## 1. subtract loc_stories[ley] from avg loc cor with recall words"
   ]
  },
  {
   "cell_type": "code",
   "execution_count": 73,
   "metadata": {
    "scrolled": true
   },
   "outputs": [],
   "source": [
    "new_wvs = copy.deepcopy(all_wvs)"
   ]
  },
  {
   "cell_type": "code",
   "execution_count": 74,
   "metadata": {
    "scrolled": true
   },
   "outputs": [],
   "source": [
    "### A. Correlate each word with the LOC WV\n",
    "loc_cors = {}\n",
    "#loc_parts = np.array(['dif'], dtype=object)\n",
    "loc_parts = np.zeros((0,1))\n",
    "\n",
    "for key in all_wvs:\n",
    "    loc = key%10\n",
    "    this_loc = new_templates[loc].reshape(new_templates[loc].shape[0], -1)\n",
    "    for partc in all_wvs[key]:\n",
    "        n_words = all_wvs[key][partc].shape[0]\n",
    "        this_loc_cors = np.zeros((n_words,1))\n",
    "        for i in range(0, n_words):\n",
    "            this_wv = new_wvs[key][partc][i].reshape(new_wvs[key][partc][i].shape[0], -1)\n",
    "            this_correl = np.corrcoef(this_loc.T, this_wv.T)\n",
    "            this_loc_cors[i] = this_correl[0,1]\n",
    "        mean_loc_cors = np.mean(this_loc_cors)\n",
    "        finished = mean_loc_cors - loc_stories[key]\n",
    "        loc_parts = np.vstack((loc_parts, finished))"
   ]
  },
  {
   "cell_type": "markdown",
   "metadata": {},
   "source": [
    "## subtract the loc_soc_corr from each word"
   ]
  },
  {
   "cell_type": "code",
   "execution_count": 61,
   "metadata": {},
   "outputs": [],
   "source": [
    "### A. Correlate each word with the LOC WV\n",
    "loc_cors = {}\n",
    "#loc_parts = np.array(['dif'], dtype=object)\n",
    "loc_parts2 = np.zeros((0,1))\n",
    "\n",
    "for key in all_wvs:\n",
    "    loc = key%10\n",
    "    this_loc = new_templates[loc].reshape(new_templates[loc].shape[0], -1)\n",
    "    for partc in all_wvs[key]:\n",
    "        n_words = all_wvs[key][partc].shape[0]\n",
    "        this_loc_cors = np.zeros((n_words,1))\n",
    "        for i in range(0, n_words):\n",
    "            this_wv = new_wvs[key][partc][i].reshape(new_wvs[key][partc][i].shape[0], -1)\n",
    "            this_correl = np.corrcoef(this_loc.T, this_wv.T)\n",
    "            this_loc_cors[i] = this_correl[0,1] - loc_stories[key]\n",
    "        mean_loc_cors = np.mean(this_loc_cors)\n",
    "        finished = mean_loc_cors \n",
    "        loc_parts2 = np.vstack((loc_parts2, finished))"
   ]
  },
  {
   "cell_type": "code",
   "execution_count": 62,
   "metadata": {},
   "outputs": [
    {
     "data": {
      "text/plain": [
       "0.006666502681390416"
      ]
     },
     "execution_count": 62,
     "metadata": {},
     "output_type": "execute_result"
    }
   ],
   "source": [
    "np.mean(loc_parts2)"
   ]
  },
  {
   "cell_type": "markdown",
   "metadata": {},
   "source": [
    "# *SOC* correlations with recalls\n"
   ]
  },
  {
   "cell_type": "code",
   "execution_count": 75,
   "metadata": {
    "scrolled": true
   },
   "outputs": [],
   "source": [
    "### A. Correlate each word with the LOC WV\n",
    "soc_cors = {}\n",
    "#soc_parts = np.array(['dif'], dtype=object)\n",
    "soc_parts = np.zeros((0,1))\n",
    "\n",
    "for key in all_wvs:\n",
    "    soc = round(key/10)*10\n",
    "    this_soc = new_templates[soc].reshape(new_templates[soc].shape[0], -1)\n",
    "    for partc in all_wvs[key]:\n",
    "        n_words = all_wvs[key][partc].shape[0]\n",
    "        this_soc_cors = np.zeros((n_words,1))\n",
    "        for i in range(0, n_words):\n",
    "            this_wv = new_wvs[key][partc][i].reshape(new_wvs[key][partc][i].shape[0], -1)\n",
    "            this_correl = np.corrcoef(this_soc.T, this_wv.T)\n",
    "            this_soc_cors[i] = this_correl[0,1]\n",
    "        mean_soc_cors = np.mean(this_soc_cors)\n",
    "        finished = mean_soc_cors - soc_stories[key]\n",
    "        soc_parts = np.vstack((soc_parts, finished))"
   ]
  },
  {
   "cell_type": "code",
   "execution_count": 76,
   "metadata": {},
   "outputs": [
    {
     "data": {
      "text/plain": [
       "0.009196896718168172"
      ]
     },
     "execution_count": 76,
     "metadata": {},
     "output_type": "execute_result"
    }
   ],
   "source": [
    "np.mean(soc_parts)"
   ]
  },
  {
   "cell_type": "markdown",
   "metadata": {},
   "source": [
    "## subtract the soc_loc_cor from each indiv word"
   ]
  },
  {
   "cell_type": "code",
   "execution_count": 65,
   "metadata": {},
   "outputs": [],
   "source": [
    "### A. Correlate each word with the LOC WV\n",
    "soc_cors = {}\n",
    "#soc_parts = np.array(['dif'], dtype=object)\n",
    "soc_parts2 = np.zeros((0,1))\n",
    "\n",
    "for key in all_wvs:\n",
    "    soc = round(key/10)*10\n",
    "    this_soc = new_templates[soc].reshape(new_templates[soc].shape[0], -1)\n",
    "    for partc in all_wvs[key]:\n",
    "        n_words = all_wvs[key][partc].shape[0]\n",
    "        this_soc_cors = np.zeros((n_words,1))\n",
    "        for i in range(0, n_words):\n",
    "            this_wv = new_wvs[key][partc][i].reshape(new_wvs[key][partc][i].shape[0], -1)\n",
    "            this_correl = np.corrcoef(this_soc.T, this_wv.T)\n",
    "            this_soc_cors[i] = this_correl[0,1] - soc_stories[key]\n",
    "        mean_soc_cors = np.mean(this_soc_cors)\n",
    "        finished = mean_soc_cors \n",
    "        soc_parts2 = np.vstack((soc_parts2, finished))"
   ]
  },
  {
   "cell_type": "code",
   "execution_count": 66,
   "metadata": {},
   "outputs": [
    {
     "data": {
      "text/plain": [
       "0.007812798137518555"
      ]
     },
     "execution_count": 66,
     "metadata": {},
     "output_type": "execute_result"
    }
   ],
   "source": [
    "np.mean(soc_parts2)"
   ]
  },
  {
   "cell_type": "markdown",
   "metadata": {},
   "source": [
    "## Export"
   ]
  },
  {
   "cell_type": "code",
   "execution_count": 39,
   "metadata": {},
   "outputs": [],
   "source": [
    "# convert array into dataframe\n",
    "loc_parts = pd.DataFrame(loc_parts)\n",
    "soc_parts = pd.DataFrame(soc_parts)\n",
    "\n",
    "loc_parts.to_csv(\"loc_cor2.csv\",  index = False)\n",
    "soc_parts.to_csv(\"soc_cor2.csv\",  index = False)"
   ]
  },
  {
   "cell_type": "markdown",
   "metadata": {},
   "source": [
    "## Prep Data for Mixed Modeling"
   ]
  },
  {
   "cell_type": "code",
   "execution_count": 50,
   "metadata": {},
   "outputs": [
    {
     "data": {
      "text/plain": [
       "array([[ 0.02781247],\n",
       "       [-0.01244818],\n",
       "       [ 0.00885427],\n",
       "       [ 0.01125564],\n",
       "       [ 0.01615954],\n",
       "       [ 0.01606733],\n",
       "       [ 0.02271668],\n",
       "       [ 0.00498024],\n",
       "       [ 0.00211948],\n",
       "       [ 0.00848457],\n",
       "       [-0.0576423 ],\n",
       "       [ 0.00755346],\n",
       "       [ 0.00693788],\n",
       "       [ 0.00465545],\n",
       "       [ 0.00898843],\n",
       "       [ 0.01468405],\n",
       "       [ 0.02658513],\n",
       "       [-0.00044634],\n",
       "       [ 0.02573385],\n",
       "       [-0.0021604 ],\n",
       "       [ 0.00251287],\n",
       "       [ 0.00656911],\n",
       "       [ 0.01113086],\n",
       "       [ 0.0259633 ],\n",
       "       [ 0.00571586],\n",
       "       [ 0.10635836],\n",
       "       [ 0.0401529 ],\n",
       "       [ 0.00603251],\n",
       "       [ 0.01080331],\n",
       "       [ 0.00491796],\n",
       "       [ 0.02106942],\n",
       "       [ 0.00601318],\n",
       "       [-0.00850597],\n",
       "       [ 0.01014992],\n",
       "       [ 0.01508688],\n",
       "       [ 0.00472381],\n",
       "       [ 0.01469653],\n",
       "       [ 0.00912831],\n",
       "       [ 0.03424432],\n",
       "       [ 0.01252182],\n",
       "       [ 0.01297288],\n",
       "       [ 0.02517072],\n",
       "       [ 0.01123128],\n",
       "       [ 0.00066402],\n",
       "       [ 0.01441071],\n",
       "       [-0.00942304],\n",
       "       [-0.00521894],\n",
       "       [-0.06924389],\n",
       "       [ 0.01597613],\n",
       "       [ 0.0040834 ],\n",
       "       [-0.07090538],\n",
       "       [ 0.00650742],\n",
       "       [ 0.01308262],\n",
       "       [ 0.00318319],\n",
       "       [ 0.03489342],\n",
       "       [ 0.06626187],\n",
       "       [ 0.0063127 ],\n",
       "       [ 0.01494743],\n",
       "       [ 0.01319689],\n",
       "       [ 0.01216004],\n",
       "       [-0.03872337],\n",
       "       [ 0.02545738],\n",
       "       [-0.01481586],\n",
       "       [-0.01295741],\n",
       "       [ 0.01497533],\n",
       "       [-0.00553166],\n",
       "       [-0.0052748 ],\n",
       "       [ 0.03231945],\n",
       "       [ 0.00800117],\n",
       "       [-0.00587858],\n",
       "       [-0.01938927],\n",
       "       [-0.01624023],\n",
       "       [-0.00566388],\n",
       "       [ 0.00653142],\n",
       "       [ 0.01571931],\n",
       "       [-0.00285321],\n",
       "       [ 0.02082258],\n",
       "       [-0.0049819 ],\n",
       "       [-0.01553532],\n",
       "       [ 0.01776663],\n",
       "       [ 0.01280397],\n",
       "       [-0.02555892],\n",
       "       [-0.00426391],\n",
       "       [-0.0106044 ],\n",
       "       [-0.00150123],\n",
       "       [ 0.00240163],\n",
       "       [-0.00860964],\n",
       "       [ 0.00277887],\n",
       "       [ 0.04071675],\n",
       "       [-0.00906902],\n",
       "       [ 0.0982736 ],\n",
       "       [-0.02338671],\n",
       "       [-0.00404486],\n",
       "       [ 0.00979759],\n",
       "       [ 0.00047399],\n",
       "       [ 0.04716808],\n",
       "       [ 0.03368375],\n",
       "       [ 0.00584955],\n",
       "       [ 0.00408438],\n",
       "       [-0.01023539],\n",
       "       [-0.01272795],\n",
       "       [ 0.00023312],\n",
       "       [ 0.01089392],\n",
       "       [ 0.01304755]])"
      ]
     },
     "execution_count": 50,
     "metadata": {},
     "output_type": "execute_result"
    }
   ],
   "source": [
    "loc_parts"
   ]
  },
  {
   "cell_type": "code",
   "execution_count": 77,
   "metadata": {},
   "outputs": [],
   "source": [
    "for i in range(0, loc_parts.shape[0]):\n",
    "    this_array = np.array(['loc', loc_parts[i][0], soc_parts[i][0]])\n",
    "    all_subs = np.vstack((all_subs, this_array))\n",
    "    "
   ]
  },
  {
   "cell_type": "code",
   "execution_count": 79,
   "metadata": {},
   "outputs": [],
   "source": [
    "np.savetxt('RECALL_ALL_CORREL.csv', all_subs, delimiter=',', fmt='%s', header='priming,loc_cor,soc_cor', comments='')\n"
   ]
  },
  {
   "cell_type": "code",
   "execution_count": 80,
   "metadata": {},
   "outputs": [
    {
     "data": {
      "text/plain": [
       "array([['soc', '0.027812471003291712', '-0.002904163514976111'],\n",
       "       ['soc', '-0.01244817865130799', '0.016297011436299923'],\n",
       "       ['soc', '0.008854265997163623', '-0.014824987432846368'],\n",
       "       ['soc', '0.011255644785318496', '0.017677729712347153'],\n",
       "       ['soc', '0.016159539035006307', '0.010996376969962952'],\n",
       "       ['soc', '0.016067330187086108', '0.01592550269581642'],\n",
       "       ['soc', '0.022716684958256166', '0.018554741097458468'],\n",
       "       ['soc', '0.004980242411474926', '0.017606656938753858'],\n",
       "       ['soc', '0.0021194794659281473', '-0.004453111491314693'],\n",
       "       ['soc', '0.008484565050146185', '0.06782172288966727'],\n",
       "       ['soc', '-0.057642298803367395', '0.07551909260843816'],\n",
       "       ['soc', '0.007553458217248239', '-0.0066308488081221325'],\n",
       "       ['soc', '0.006937882899587446', '0.0034246849602322556'],\n",
       "       ['soc', '0.004655453968192589', '0.0021775564759337774'],\n",
       "       ['soc', '0.008988428626797905', '0.006321597591670114'],\n",
       "       ['soc', '0.01468404807952713', '0.026430437622200736'],\n",
       "       ['soc', '0.02658512999133775', '0.004315808843790767'],\n",
       "       ['soc', '-0.000446343310707583', '0.018083377020841916'],\n",
       "       ['soc', '0.02573384865386295', '0.004598616796096831'],\n",
       "       ['soc', '-0.0021604002201424076', '0.0057309301993991695'],\n",
       "       ['soc', '0.00251286845934502', '0.007794456717843909'],\n",
       "       ['soc', '0.00656911253697205', '-0.0014837230812905923'],\n",
       "       ['soc', '0.011130856717514652', '0.016631663357114992'],\n",
       "       ['soc', '0.025963300279711048', '0.013884657520244358'],\n",
       "       ['soc', '0.00571586121512105', '0.01604944172292198'],\n",
       "       ['soc', '0.1063583613588507', '0.07097273464744291'],\n",
       "       ['soc', '0.04015289614698109', '0.0008844447387162331'],\n",
       "       ['soc', '0.006032507481314979', '0.02786773969606084'],\n",
       "       ['soc', '0.010803306951815618', '0.003206586866662732'],\n",
       "       ['soc', '0.004917964355452675', '0.0032467061058295207'],\n",
       "       ['soc', '0.021069415216838683', '-0.0020774727403350887'],\n",
       "       ['soc', '0.006013176323490705', '0.0032930806626049088'],\n",
       "       ['soc', '-0.008505965813280345', '0.0013412846427317791'],\n",
       "       ['soc', '0.010149916072132174', '-0.0038590202034738327'],\n",
       "       ['soc', '0.015086878737816337', '0.002447324462031493'],\n",
       "       ['soc', '0.0047238101757781144', '0.0032077364953665695'],\n",
       "       ['soc', '0.014696534341102852', '0.011068254048244304'],\n",
       "       ['soc', '0.009128311587991912', '0.0007480302395150291'],\n",
       "       ['soc', '0.034244324745611315', '-0.0009635688282056331'],\n",
       "       ['soc', '0.012521815895420275', '0.0076567631473651015'],\n",
       "       ['soc', '0.012972881328549119', '0.013475653181539916'],\n",
       "       ['soc', '0.025170721721552488', '0.012063585154098527'],\n",
       "       ['soc', '0.011231277365538856', '0.012393630438221292'],\n",
       "       ['soc', '0.0006640246447309949', '0.010262934289459204'],\n",
       "       ['soc', '0.01441071216879201', '0.0042713163671189575'],\n",
       "       ['soc', '-0.009423039018507525', '0.003960561400730561'],\n",
       "       ['soc', '-0.005218941401153443', '-0.015360188806460236'],\n",
       "       ['soc', '-0.06924388940996394', '-0.0521301870887408'],\n",
       "       ['soc', '0.015976126200884202', '0.01151870664905845'],\n",
       "       ['soc', '0.004083402132097642', '0.008270627431505133'],\n",
       "       ['soc', '-0.07090538423372271', '-0.029330494770036665'],\n",
       "       ['soc', '0.006507421624840747', '0.02194999865929286'],\n",
       "       ['soc', '0.013082624586519712', '0.03708405606030406'],\n",
       "       ['soc', '0.003183185188547949', '-0.0014607649831086828'],\n",
       "       ['soc', '0.03489342234580727', '0.029614601979124182'],\n",
       "       ['soc', '0.06626187351550036', '0.03216026370376549'],\n",
       "       ['soc', '0.006312696698631499', '0.01605003565058473'],\n",
       "       ['soc', '0.014947430418943497', '0.017817486455811618'],\n",
       "       ['soc', '0.013196893296977449', '-0.0015174344058071776'],\n",
       "       ['soc', '0.01216003595779217', '0.005494913269434342'],\n",
       "       ['soc', '-0.03872337158102787', '0.020541590552502792'],\n",
       "       ['soc', '0.025457383125108264', '0.008573440421157057'],\n",
       "       ['soc', '-0.014815863984615582', '0.013700267161215406'],\n",
       "       ['soc', '-0.012957414487728193', '0.02221211595106074'],\n",
       "       ['soc', '0.014975334493810964', '0.01682076386394443'],\n",
       "       ['soc', '-0.005531657139929591', '-0.01607545471069307'],\n",
       "       ['soc', '-0.005274795666905755', '0.002717854341496729'],\n",
       "       ['soc', '0.03231945279320297', '0.01772785051423909'],\n",
       "       ['soc', '0.008001174233642966', '0.034459197585071655'],\n",
       "       ['soc', '-0.005878577828307689', '0.003897252311134544'],\n",
       "       ['soc', '-0.01938927359384187', '0.004587537103263806'],\n",
       "       ['soc', '-0.016240231089027647', '-0.017530714275621053'],\n",
       "       ['soc', '-0.0056638831775853785', '-0.010046806008111172'],\n",
       "       ['soc', '0.0065314178691699', '-0.002398230529193999'],\n",
       "       ['soc', '0.01571930648342753', '0.006608047567138554'],\n",
       "       ['soc', '-0.0028532089125950753', '-0.012992641065402733'],\n",
       "       ['soc', '0.020822582341111624', '0.00523779510104159'],\n",
       "       ['soc', '-0.004981900166105443', '-0.0075401794620691635'],\n",
       "       ['soc', '-0.015535321216538252', '8.912271063810616e-05'],\n",
       "       ['soc', '0.017766631229991878', '-0.00164347394286774'],\n",
       "       ['soc', '0.012803965813624434', '-0.003475155106799013'],\n",
       "       ['soc', '-0.025558920089501176', '0.026228488035158322'],\n",
       "       ['soc', '-0.004263912246839809', '0.0029492098839657907'],\n",
       "       ['soc', '-0.010604400936310193', '0.024664482404055'],\n",
       "       ['soc', '-0.0015012261027367384', '0.023996302016253385'],\n",
       "       ['soc', '0.0024016250600645585', '0.0034290564662730495'],\n",
       "       ['soc', '-0.008609643094690075', '0.01564495474817374'],\n",
       "       ['soc', '0.0027788712057574307', '-0.012691386636521588'],\n",
       "       ['soc', '0.040716748519675106', '0.011589762500934483'],\n",
       "       ['soc', '-0.009069019080356894', '0.038053394721602275'],\n",
       "       ['soc', '0.0982735984043569', '0.017943935469514366'],\n",
       "       ['soc', '-0.02338670763044166', '-0.021752506019876165'],\n",
       "       ['soc', '-0.004044861590666287', '0.00949213497048666'],\n",
       "       ['soc', '0.009797588119937035', '0.009845830620658047'],\n",
       "       ['soc', '0.00047398773185357984', '-0.009972551460950878'],\n",
       "       ['soc', '0.0471680824919045', '0.012084784310460858'],\n",
       "       ['soc', '0.033683745230411025', '0.007645972441534152'],\n",
       "       ['soc', '0.0058495548923589505', '-0.013327187436160563'],\n",
       "       ['soc', '0.004084382529842057', '-0.006673618390752298'],\n",
       "       ['soc', '-0.010235386648587311', '0.020907707814552645'],\n",
       "       ['soc', '-0.012727952467018838', '0.03541389678138824'],\n",
       "       ['soc', '0.0002331167183906198', '0.012677863677930404'],\n",
       "       ['soc', '0.01089391890343978', '-0.025522119547924983'],\n",
       "       ['soc', '0.013047551127349472', '0.018351353790028127'],\n",
       "       ['np', '0.014396689675584459', '-0.026528850379702828'],\n",
       "       ['np', '0.0023592308074661754', '0.006731645065450811'],\n",
       "       ['np', '0.007543566355362359', '-0.04273125635755044'],\n",
       "       ['np', '0.008508823473526675', '-0.03385988323019549'],\n",
       "       ['np', '-0.002521611721734522', '-0.03803636838912041'],\n",
       "       ['np', '0.011031857456494504', '-0.023948165200270925'],\n",
       "       ['np', '0.03358684906060046', '-0.02790773446052274'],\n",
       "       ['np', '0.005285440070997724', '0.011327997021904393'],\n",
       "       ['np', '0.050325931780655676', '-0.10208340203245213'],\n",
       "       ['np', '-0.004422555781136327', '0.007819620609784379'],\n",
       "       ['np', '-0.035141814418142445', '0.04606553695648227'],\n",
       "       ['np', '-0.009758086873084755', '0.018699806907918826'],\n",
       "       ['np', '-0.047730245405857824', '0.03465758736879211'],\n",
       "       ['np', '-0.015172106646838771', '0.0155993885521225'],\n",
       "       ['np', '-0.028016878042189716', '0.019565364647810366'],\n",
       "       ['np', '-0.04687281680373391', '0.030446775792166012'],\n",
       "       ['np', '-0.015126327894568959', '-0.02544364973621257'],\n",
       "       ['np', '-0.025721388645151826', '-0.011670250810015369'],\n",
       "       ['np', '-0.01153802402417315', '-0.0028600859922005596'],\n",
       "       ['np', '-0.0264237467736494', '-0.010353466502629973'],\n",
       "       ['np', '-0.019290941832405015', '-0.003581935050025478'],\n",
       "       ['np', '-0.012810318726213344', '-0.016277106794256826'],\n",
       "       ['np', '-0.013138556707673067', '-0.008593163241973765'],\n",
       "       ['np', '-0.011338555015463549', '-0.01226435548613432'],\n",
       "       ['np', '-0.006915156097182758', '-0.016584069729571417'],\n",
       "       ['np', '-0.010245456354015664', '0.010119816219898247'],\n",
       "       ['np', '-0.0057606764791326886', '-0.0120114792389886'],\n",
       "       ['np', '-0.015161655977292913', '-0.008716757432207107'],\n",
       "       ['np', '-0.02547246263003137', '-0.05600434549973383'],\n",
       "       ['np', '-0.07234937860511761', '-0.03499787254496432'],\n",
       "       ['np', '-0.024699129102735713', '-0.04987762349619449'],\n",
       "       ['np', '-0.021780080995157713', '-0.03513840839752431'],\n",
       "       ['np', '-0.036967136449780356', '-0.036576559337819475'],\n",
       "       ['np', '-0.013712688183775662', '-0.0421922846946585'],\n",
       "       ['np', '-0.020946455047617663', '-0.035744401168492576'],\n",
       "       ['np', '-0.007761540121054036', '0.016982720756369123'],\n",
       "       ['np', '0.006298679716974528', '-0.005074813868997186'],\n",
       "       ['np', '0.018680881744921295', '0.012900892163704112'],\n",
       "       ['np', '0.02179318703478093', '-0.007141714125163694'],\n",
       "       ['np', '0.016700676578937115', '-0.019010170374219454'],\n",
       "       ['np', '-0.0135504619839351', '-0.03163463664520895'],\n",
       "       ['np', '-0.021567206693979782', '-0.029528979152573076'],\n",
       "       ['np', '-0.036371286539860645', '-0.0206390107942187'],\n",
       "       ['np', '-0.019045755384372535', '-0.034020963076532504'],\n",
       "       ['np', '-0.005914152161340385', '-0.03283072452167934'],\n",
       "       ['np', '-0.009016439542336704', '-0.03204572663567473'],\n",
       "       ['np', '-0.005412063758209332', '-0.032257730356734834'],\n",
       "       ['np', '-0.02004942515052458', '-0.026160833518087852'],\n",
       "       ['np', '-0.029022876938154203', '-0.030833825571548838'],\n",
       "       ['np', '-0.02710761903521438', '-0.025741145809902242'],\n",
       "       ['np', '-0.02651712763721503', '-0.022814169420599866'],\n",
       "       ['np', '-0.03413128730909143', '-0.03691169474155402'],\n",
       "       ['np', '-0.030491744217894644', '-0.02964325929613717'],\n",
       "       ['np', '-0.012447234677871923', '-0.021252758915234145'],\n",
       "       ['np', '-0.030069270353531477', '-0.0439431535175025'],\n",
       "       ['np', '0.0013266649509160447', '-0.006252517935993299'],\n",
       "       ['np', '-0.013860588682001861', '-0.019426164077478176'],\n",
       "       ['np', '-0.0066943953649715605', '-0.0016729261103779966'],\n",
       "       ['np', '0.008382535102106459', '-0.002118564428392809'],\n",
       "       ['np', '-0.012499591365369246', '0.009586144030080151'],\n",
       "       ['np', '-0.0360158442142785', '0.02176395568044917'],\n",
       "       ['np', '-0.0402386049707828', '0.02658682025243838'],\n",
       "       ['np', '-0.032092990029956664', '0.02794667644468264'],\n",
       "       ['np', '-0.030427109926985073', '0.022085010038205496'],\n",
       "       ['np', '-0.029672993205585512', '0.026077412684952207'],\n",
       "       ['np', '-0.036199447820573424', '0.01634264514032907'],\n",
       "       ['np', '-0.027479838101485993', '0.03287794383712919'],\n",
       "       ['np', '-0.02394097597334197', '0.02619892476572982'],\n",
       "       ['np', '-0.02977506137711399', '0.020584113057388147'],\n",
       "       ['np', '0.0069068065736814024', '0.020146540556893428'],\n",
       "       ['np', '-0.007415630712778169', '0.02740404162579046'],\n",
       "       ['np', '-0.027550127013094984', '0.008905823822189702'],\n",
       "       ['np', '-0.03870987492622916', '-0.014341236073683875'],\n",
       "       ['np', '-0.05203452899280815', '-0.012857507180625494'],\n",
       "       ['np', '-0.04408078772796987', '-0.0037256043139675477'],\n",
       "       ['np', '-0.03736364984319604', '-0.02246563408623926'],\n",
       "       ['np', '-0.029906091686473856', '-0.010732015692250598'],\n",
       "       ['np', '-0.029462686464530673', '-0.010252222334942175'],\n",
       "       ['np', '-0.05422941774672846', '-0.005783675269807241'],\n",
       "       ['np', '0.0068030914832883874', '-0.02467119177921368'],\n",
       "       ['np', '-0.005426214676939888', '-0.018371746747981706'],\n",
       "       ['np', '0.02093308264078853', '0.029340008200437813'],\n",
       "       ['np', '-0.0039946194998229535', '0.05708826391589924'],\n",
       "       ['np', '0.0037427249699861546', '-0.008280961925179409'],\n",
       "       ['np', '0.00027637343276953386', '-0.02664398813078112'],\n",
       "       ['np', '-0.010509935234375503', '-0.03350896000642481'],\n",
       "       ['np', '-0.020205653940902128', '-0.04621967781476347'],\n",
       "       ['np', '-0.028254791335117747', '-0.028507508940008745'],\n",
       "       ['np', '-0.02238098301983671', '-0.029588879202290114'],\n",
       "       ['np', '-0.0354046431319157', '-0.039051999241152054'],\n",
       "       ['np', '-0.017822243718190474', '-0.02900023687168974'],\n",
       "       ['np', '-0.024131593611764993', '-0.03907377347138736'],\n",
       "       ['np', '0.044578557086078274', '0.013304434331932095'],\n",
       "       ['np', '-0.013896934185178022', '-0.00587227885393509'],\n",
       "       ['np', '-0.03505322226688423', '-0.02113963113975211'],\n",
       "       ['np', '-0.05745041549992291', '-0.04323000039667796'],\n",
       "       ['np', '-0.014954422579675244', '-0.01814546771198288'],\n",
       "       ['np', '0.017171910986811652', '0.02216294027015834'],\n",
       "       ['np', '2.6344698580224243e-05', '0.013880862692371827'],\n",
       "       ['np', '-0.0160335611282223', '0.0495461485960065'],\n",
       "       ['np', '0.021451085059669438', '0.0032614194361261124'],\n",
       "       ['np', '-0.004934324655987372', '-0.03532886961733474'],\n",
       "       ['np', '-0.011254027111789744', '-0.008158716451565618'],\n",
       "       ['loc', '-0.008359134783104611', '0.040048902067865016'],\n",
       "       ['loc', '0.009484926512398116', '0.00897084780497812'],\n",
       "       ['loc', '0.020123010330504766', '0.011602819704940823'],\n",
       "       ['loc', '0.015965832488311408', '0.01750552366810684'],\n",
       "       ['loc', '0.0072127312146148', '0.02390309351001935'],\n",
       "       ['loc', '-0.019440658696648093', '0.015282791017678094'],\n",
       "       ['loc', '0.008554528161669324', '0.015381782590953323'],\n",
       "       ['loc', '0.1441169162754517', '-0.024536735999250995'],\n",
       "       ['loc', '0.011006137754591565', '0.014826977245619499'],\n",
       "       ['loc', '0.011330345215528562', '0.02978512409376977'],\n",
       "       ['loc', '0.010718030749474517', '0.020433987855603655'],\n",
       "       ['loc', '0.0029440981571490082', '0.017316858301912746'],\n",
       "       ['loc', '0.014464512047194612', '0.00537998399678203'],\n",
       "       ['loc', '0.03255522358270829', '0.018556446571987652'],\n",
       "       ['loc', '0.06401195473323033', '0.017877474739132815'],\n",
       "       ['loc', '0.011281551093557742', '0.00847045613578088'],\n",
       "       ['loc', '0.061215090538912845', '0.009430433737806825'],\n",
       "       ['loc', '0.006323843757955135', '-0.009161397480480823'],\n",
       "       ['loc', '-0.0036898043343943816', '-0.005481182889847818'],\n",
       "       ['loc', '-6.496704696296735e-05', '0.009042026643788253'],\n",
       "       ['loc', '0.0031384005211587684', '0.007601747722539999'],\n",
       "       ['loc', '0.02755022523858085', '0.0062706667119280385'],\n",
       "       ['loc', '-0.0035033815836774188', '0.013735134401714102'],\n",
       "       ['loc', '-0.0025459128131166443', '0.005324693804209361'],\n",
       "       ['loc', '0.03032781890338202', '-0.003695694726407422'],\n",
       "       ['loc', '0.015398337104484355', '0.0005085404579401883'],\n",
       "       ['loc', '0.008499049191240443', '0.002395126378195151'],\n",
       "       ['loc', '0.02205832705658388', '0.004277107417542865'],\n",
       "       ['loc', '0.022475497496372822', '0.028059433017158103'],\n",
       "       ['loc', '-0.01002467640744816', '-0.016634986919872457'],\n",
       "       ['loc', '0.011837162755162774', '0.02910547762669522'],\n",
       "       ['loc', '0.23499994305363325', '-0.03143166275394264'],\n",
       "       ['loc', '0.02678839838007375', '0.0108361921556866'],\n",
       "       ['loc', '0.016200551550320182', '0.0144710706420292'],\n",
       "       ['loc', '0.005412990988052358', '0.016561562066332917'],\n",
       "       ['loc', '0.03346990502638518', '0.004597809275077348'],\n",
       "       ['loc', '-0.004441936184161491', '-0.0008366123761259824'],\n",
       "       ['loc', '0.005344005488196817', '0.0019455083273716843'],\n",
       "       ['loc', '0.012213911171476861', '0.006265513331378305'],\n",
       "       ['loc', '0.019041547284148766', '0.0015845274771164436'],\n",
       "       ['loc', '0.008160168289505677', '0.0006337207948816791'],\n",
       "       ['loc', '0.04541239003723373', '0.001930336286173649'],\n",
       "       ['loc', '0.016440976474008846', '-0.005455201287449386'],\n",
       "       ['loc', '0.009778631688135966', '0.004451109194496287'],\n",
       "       ['loc', '0.023410659506580337', '0.011037372636913855'],\n",
       "       ['loc', '-0.010756879102708025', '0.005182756484230052'],\n",
       "       ['loc', '0.015972297349300026', '0.027685303057177316'],\n",
       "       ['loc', '0.011360753629034447', '0.02111413517182541'],\n",
       "       ['loc', '0.003779098105566035', '0.04071493268633182'],\n",
       "       ['loc', '0.0015694830575218083', '0.010191219317920667'],\n",
       "       ['loc', '0.02120031096673897', '-0.02469145577002222'],\n",
       "       ['loc', '-0.007395989076650861', '0.05128000204927242'],\n",
       "       ['loc', '0.006811260007231777', '-0.012932204959821796'],\n",
       "       ['loc', '0.007490818496715318', '0.02691437481525724'],\n",
       "       ['loc', '0.015520850329457426', '0.012424897333599222'],\n",
       "       ['loc', '0.007378298508247342', '-0.001725946320445277'],\n",
       "       ['loc', '-0.00330506062831927', '-0.012680083318746172'],\n",
       "       ['loc', '0.0053739556813638826', '0.00921181361062625'],\n",
       "       ['loc', '-0.0021196203114506075', '0.010353383422190325'],\n",
       "       ['loc', '0.025469748691087295', '0.042168270356837935'],\n",
       "       ['loc', '0.011083627038160643', '0.011818977361578362'],\n",
       "       ['loc', '0.01971004174947443', '0.016177992949839345'],\n",
       "       ['loc', '0.03142852089650501', '0.023277105306874185'],\n",
       "       ['loc', '0.01124395588569845', '0.001652317905839076'],\n",
       "       ['loc', '0.010737897641716869', '0.0037570066598686894'],\n",
       "       ['loc', '0.004989202830116208', '0.007716221405341181'],\n",
       "       ['loc', '0.0023493271294715967', '0.016279227313498047'],\n",
       "       ['loc', '0.03359256502117513', '-0.007490147650101966'],\n",
       "       ['loc', '0.029969126528914057', '0.007957894474009781'],\n",
       "       ['loc', '0.04019603725409088', '0.0019114851680122856'],\n",
       "       ['loc', '0.007519413174035476', '-0.003627200153699609'],\n",
       "       ['loc', '0.0002400145558672448', '0.02181567169459128'],\n",
       "       ['loc', '0.034096857037189114', '0.029262431345844473'],\n",
       "       ['loc', '-0.002911143173813715', '0.020782469309369053'],\n",
       "       ['loc', '0.002934207724723595', '0.0027239782826711835'],\n",
       "       ['loc', '0.010298126098220166', '-0.003749834410681021'],\n",
       "       ['loc', '0.05795049681910251', '0.012106626991910827'],\n",
       "       ['loc', '0.01927641833543709', '0.0071564307792819845'],\n",
       "       ['loc', '0.014489535848042898', '0.024964715566307735'],\n",
       "       ['loc', '0.0027477134334560303', '-0.009936584450301393'],\n",
       "       ['loc', '-0.016881021986929243', '0.002342933224454011'],\n",
       "       ['loc', '-0.00023224048728283722', '0.008437479817945038'],\n",
       "       ['loc', '-0.024398804008233035', '-0.012437435207247199'],\n",
       "       ['loc', '-0.014119849910472807', '-0.008974022082782623'],\n",
       "       ['loc', '-0.019289930825358948', '0.045819784855001'],\n",
       "       ['loc', '0.009215795617845097', '0.01160571179667954'],\n",
       "       ['loc', '0.006506443730013757', '0.021640532064852523'],\n",
       "       ['loc', '-0.0015164915528651966', '-0.0011569844261533572'],\n",
       "       ['loc', '0.00391506685626378', '0.013305223726612202'],\n",
       "       ['loc', '0.0007822122374309282', '0.04114389115755735'],\n",
       "       ['loc', '-0.002047633601218938', '-0.0040017444231136255'],\n",
       "       ['loc', '0.007566657467797767', '0.009359382872586107'],\n",
       "       ['loc', '0.0028903299467347293', '0.026683375253366885'],\n",
       "       ['loc', '-0.009965806762471073', '0.010723041591050623'],\n",
       "       ['loc', '0.019230392358986895', '-0.0011487484708904965'],\n",
       "       ['loc', '0.014264179914968783', '-0.012203062243400543'],\n",
       "       ['loc', '-0.0256563377622518', '0.024404832490468494'],\n",
       "       ['loc', '0.0005998594850847548', '0.010344029460290035'],\n",
       "       ['loc', '0.031954096551694414', '0.013854079805564056'],\n",
       "       ['loc', '0.018197108547468276', '0.007100167276485559'],\n",
       "       ['loc', '0.0174239667613202', '0.007212837123021773'],\n",
       "       ['loc', '-0.013603052298674397', '0.017943810870496103'],\n",
       "       ['loc', '0.004723354305903415', '-0.01111240069606464'],\n",
       "       ['loc', '0.013264123819449344', '-0.010630431074090329'],\n",
       "       ['loc', '0.022608895700120164', '0.010397708663685265'],\n",
       "       ['loc', '0.01678334351544501', '0.00818456442462117'],\n",
       "       ['loc', '0.021540551305391495', '0.004866640566614573'],\n",
       "       ['loc', '-0.0033992431397598197', '0.011616758379537379']],\n",
       "      dtype='<U32')"
      ]
     },
     "execution_count": 80,
     "metadata": {},
     "output_type": "execute_result"
    }
   ],
   "source": [
    "all_subs"
   ]
  },
  {
   "cell_type": "code",
   "execution_count": null,
   "metadata": {},
   "outputs": [],
   "source": []
  }
 ],
 "metadata": {
  "kernelspec": {
   "display_name": "Python 3",
   "language": "python",
   "name": "python3"
  },
  "language_info": {
   "codemirror_mode": {
    "name": "ipython",
    "version": 3
   },
   "file_extension": ".py",
   "mimetype": "text/x-python",
   "name": "python",
   "nbconvert_exporter": "python",
   "pygments_lexer": "ipython3",
   "version": "3.8.5"
  }
 },
 "nbformat": 4,
 "nbformat_minor": 2
}
