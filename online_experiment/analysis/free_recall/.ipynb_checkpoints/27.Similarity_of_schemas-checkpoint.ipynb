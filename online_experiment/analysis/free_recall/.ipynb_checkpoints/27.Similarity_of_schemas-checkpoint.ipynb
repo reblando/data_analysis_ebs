{
 "cells": [
  {
   "cell_type": "markdown",
   "metadata": {},
   "source": [
    "# Find the partial correlations between each priming group in all stories and the loc template, soc template, and story vectors\n",
    "\n",
    "## different from the other analysis in 2 respects:\n",
    "### 1) each participants' recall is kept independent until after the regression and correlation, thereafter the mean is taken across subjects\n",
    "### 2) all other possible regressors besides the regressor used in the correlation are used in the initial regression\n",
    "\n",
    "## output: for each type of priming the partial correlation of each type of vector averaged across stories\n",
    "## 2/10/20\n",
    "\n",
    "\n",
    "#### In this analysis:\n",
    "#### we are starting with the participant recalls for each story separated by priming group. \n",
    "#### For each participant, we get an avg correlation value between it and the story regressor, the location schema regressor, and the social schema regressor after regressing out from each participant, all of the other possible regressors. \n",
    "#### ex. for the social schema regressor, all other schema regressors, and all story regressors are used in the regression (23 regressors total)\n",
    "#### We avg across all the participants across all stories"
   ]
  },
  {
   "cell_type": "code",
   "execution_count": 1,
   "metadata": {},
   "outputs": [
    {
     "data": {
      "application/javascript": [
       "IPython.notebook.set_autosave_interval(5000)"
      ]
     },
     "metadata": {},
     "output_type": "display_data"
    },
    {
     "name": "stdout",
     "output_type": "stream",
     "text": [
      "Autosaving every 5 seconds\n"
     ]
    }
   ],
   "source": [
    "import pandas as pd\n",
    "import numpy as np\n",
    "import plotly.graph_objs as go\n",
    "import plotly.plotly as py\n",
    "import plotly\n",
    "import os\n",
    "import glob\n",
    "import math\n",
    "import statistics\n",
    "import matplotlib.pyplot as plt\n",
    "import seaborn as sns\n",
    "import pickle\n",
    "import copy\n",
    "from random import randrange\n",
    "from sklearn.metrics import jaccard_score\n",
    "import random\n",
    "from sklearn.preprocessing import normalize\n",
    "from sklearn.linear_model import LinearRegression\n",
    "from scipy import stats\n",
    "\n",
    "\n",
    "from sklearn.decomposition import PCA #for cluster analysis\n",
    "from gensim.models import KeyedVectors #for word embeddings\n",
    "import matplotlib.pyplot as plt #for plotting\n",
    "import os #for importing\n",
    "import pickle #for loading transcripts\n",
    "from scipy.stats import pearsonr \n",
    "\n",
    "# from _DRAFT_20200604_functions import * #includes constants and score function\n",
    "from tqdm import tqdm_notebook #for progress bar\n",
    "\n",
    "%autosave 5"
   ]
  },
  {
   "cell_type": "markdown",
   "metadata": {},
   "source": [
    "# 0. Importing story and template vectors and sums "
   ]
  },
  {
   "cell_type": "code",
   "execution_count": 2,
   "metadata": {},
   "outputs": [],
   "source": [
    "templates = pickle.load( open( 'c_template', \"rb\" ) )\n",
    "recalls = pickle.load( open( 'c_recall', \"rb\" ) )\n",
    "stories = pickle.load( open( 'c_stories', \"rb\" ) )\n",
    "# sums\n",
    "sums = pickle.load( open( \"new_sums\", \"rb\" ) )"
   ]
  },
  {
   "cell_type": "markdown",
   "metadata": {},
   "source": [
    "# I. Main analysis\n",
    "## A. Getting the residuals + correlatons for each participant\n",
    "### 1. this_input: concat all story wvs"
   ]
  },
  {
   "cell_type": "code",
   "execution_count": 6,
   "metadata": {},
   "outputs": [
    {
     "name": "stdout",
     "output_type": "stream",
     "text": [
      "(300, 16)\n"
     ]
    }
   ],
   "source": [
    "story_order = [11,12,13,14,21,22,23,24,31,32,33,34,41,42,43,44]\n",
    "this_input = np.zeros((300,0))\n",
    "\n",
    "for story in story_order:\n",
    "    this_input = np.concatenate((this_input, stories[story].reshape(stories[story].shape[0],-1)), axis = 1)\n",
    "\n",
    "print(this_input.shape)"
   ]
  },
  {
   "cell_type": "markdown",
   "metadata": {},
   "source": [
    "### 2. this_input2: concat all template wvs"
   ]
  },
  {
   "cell_type": "code",
   "execution_count": 30,
   "metadata": {},
   "outputs": [],
   "source": [
    "schema_order = [1, 2, 3, 4, 10, 20, 30, 40]\n",
    "\n",
    "this_input2 = np.zeros((300,0))\n",
    "\n",
    "for i in schema_order:\n",
    "    this_input2 = np.concatenate((this_input2, templates[i].reshape(templates[i].shape[0],-1)), axis = 1)"
   ]
  },
  {
   "cell_type": "markdown",
   "metadata": {},
   "source": [
    "### 3. Loc correlations"
   ]
  },
  {
   "cell_type": "code",
   "execution_count": 51,
   "metadata": {},
   "outputs": [
    {
     "name": "stdout",
     "output_type": "stream",
     "text": [
      "11\n",
      "1\n",
      "12\n",
      "2\n",
      "13\n",
      "3\n",
      "14\n",
      "4\n",
      "21\n",
      "1\n",
      "22\n",
      "2\n",
      "23\n",
      "3\n",
      "24\n",
      "4\n",
      "31\n",
      "1\n",
      "32\n",
      "2\n",
      "33\n",
      "3\n",
      "34\n",
      "4\n",
      "41\n",
      "1\n",
      "42\n",
      "2\n",
      "43\n",
      "3\n",
      "44\n",
      "4\n"
     ]
    }
   ],
   "source": [
    "# Partial correlation with loc: regress out soc and story, and correlate with loc\n",
    "\n",
    "schema_order = [1, 2, 3, 4, 10, 20, 30, 40]\n",
    "corrs = {}\n",
    "count = 0\n",
    "key_check =0 \n",
    "\n",
    "for key in recalls:\n",
    "    print(key)\n",
    "    loc = key%10\n",
    "    print(loc)\n",
    "    # Make the inputs of the regression\n",
    "    new_input = np.copy(this_input)\n",
    "    for schema in schema_order:\n",
    "        if schema == loc:\n",
    "            pass\n",
    "        else:\n",
    "            new_input = np.concatenate((new_input, templates[schema].reshape(templates[schema].shape[0],-1)), axis = 1)\n",
    "    for prime in range(0,3):\n",
    "        all_subjs = np.zeros((0,3))\n",
    "        for subj in range(0, len(recalls[key][prime])):\n",
    "            ## regression \n",
    "            output = np.copy(recalls[key][prime][subj])\n",
    "            #output = output.reshape(output.shape[0],-1)\n",
    "            model = LinearRegression().fit(new_input, output)\n",
    "            ## Is subtracting the intercept correct?? \n",
    "            new_vec = output - np.dot(model.coef_, new_input.T)- model.intercept_\n",
    "            ## correlation\n",
    "            # reshaping residuals\n",
    "            new_vec = new_vec.reshape(new_vec.shape[0],-1)\n",
    "            # correlation vector\n",
    "            this_loc = templates[loc].reshape(templates[loc].shape[0],-1)\n",
    "            # corrcoef function\n",
    "            this_correl = np.corrcoef(this_loc.T, new_vec.T)[0,1]\n",
    "            # placing this_correl in a 1 x 3 array\n",
    "            subj_vec = np.array([this_correl, 0, 0])\n",
    "            all_subjs = np.vstack((all_subjs, subj_vec))\n",
    "        if key_check == 0:\n",
    "            key_check = 1\n",
    "            corrs[key] = {prime:all_subjs}\n",
    "        else:\n",
    "            corrs[key][prime] = all_subjs\n",
    "    key_check = 0"
   ]
  },
  {
   "cell_type": "markdown",
   "metadata": {},
   "source": [
    "### 4. Soc correlations"
   ]
  },
  {
   "cell_type": "code",
   "execution_count": 52,
   "metadata": {},
   "outputs": [],
   "source": [
    "for key in recalls:\n",
    "    soc = round(key/10)*10\n",
    "    # Make the inputs of the regression\n",
    "    new_input = np.copy(this_input)\n",
    "    for schema in schema_order:\n",
    "        if schema == soc:\n",
    "            pass\n",
    "        else:\n",
    "            new_input = np.concatenate((new_input, templates[schema].reshape(templates[schema].shape[0],-1)), axis = 1)\n",
    "    for prime in range(0,3):\n",
    "        all_subjs = np.zeros((0,3))\n",
    "        for subj in range(0, len(recalls[key][prime])):\n",
    "            ## regression \n",
    "            output = np.copy(recalls[key][prime][subj])\n",
    "            #output = output.reshape(output.shape[0],-1)\n",
    "            model = LinearRegression().fit(new_input, output)\n",
    "            ## Is subtracting the intercept correct?? \n",
    "            new_vec = output - np.dot(model.coef_, new_input.T)- model.intercept_\n",
    "            ## correlation\n",
    "            # reshaping residuals\n",
    "            new_vec = new_vec.reshape(new_vec.shape[0],-1)\n",
    "            # correlation vector\n",
    "            this_soc = templates[soc].reshape(templates[soc].shape[0],-1)\n",
    "            # corrcoef function\n",
    "            this_correl = np.corrcoef(this_soc.T, new_vec.T)[0,1]\n",
    "            # placing this_correl in the 1 x 3 array\n",
    "            corrs[key][prime][subj, 1] = this_correl"
   ]
  },
  {
   "cell_type": "markdown",
   "metadata": {},
   "source": [
    "### 5. Story correlations"
   ]
  },
  {
   "cell_type": "code",
   "execution_count": 53,
   "metadata": {},
   "outputs": [],
   "source": [
    "for key in recalls:\n",
    "    # Make the inputs of the regression\n",
    "    new_input = np.copy(this_input2)\n",
    "    # iterate through all the stories and concatenate to new_input except for the key\n",
    "    for story in story_order:\n",
    "        if story == key:\n",
    "            pass\n",
    "        else:\n",
    "            new_input = np.concatenate((new_input, stories[story].reshape(stories[story].shape[0],-1)), axis = 1)\n",
    "    for prime in range(0,3):\n",
    "        all_subjs = np.zeros((0,3))\n",
    "        for subj in range(0, len(recalls[key][prime])):\n",
    "            ## regression \n",
    "            output = np.copy(recalls[key][prime][subj])\n",
    "            #output = output.reshape(output.shape[0],-1)\n",
    "            model = LinearRegression().fit(new_input, output)\n",
    "            ## Is subtracting the intercept correct?? \n",
    "            new_vec = output - np.dot(model.coef_, new_input.T)- model.intercept_\n",
    "            ## correlation\n",
    "            # reshaping residuals\n",
    "            new_vec = new_vec.reshape(new_vec.shape[0],-1)\n",
    "            # correlation vector\n",
    "            this_story = stories[key].reshape(stories[key].shape[0],-1)\n",
    "            # corrcoef function\n",
    "            this_correl = np.corrcoef(this_story.T, new_vec.T)[0,1]\n",
    "            # placing this_correl in the 1 x 3 array\n",
    "            corrs[key][prime][subj, 2] = this_correl"
   ]
  },
  {
   "cell_type": "markdown",
   "metadata": {},
   "source": [
    "## C. Avg 3 types of correlations across all stories for each priming type"
   ]
  },
  {
   "cell_type": "code",
   "execution_count": 48,
   "metadata": {},
   "outputs": [
    {
     "name": "stdout",
     "output_type": "stream",
     "text": [
      "(103, 3)\n",
      "(3,)\n",
      "(108, 3)\n",
      "(3,)\n",
      "(104, 3)\n",
      "(3,)\n"
     ]
    }
   ],
   "source": [
    "avg_corr = {}\n",
    "\n",
    "for i in range(0,3):\n",
    "    this_prime = np.zeros((0,3))\n",
    "    # concat corrs from all stories\n",
    "    for key in story_order:\n",
    "        this_prime = np.vstack((this_prime, corrs[key][i]))\n",
    "    # avg down the rows\n",
    "    print(this_prime.shape)\n",
    "    avg_prime = np.mean(this_prime, axis = 0)\n",
    "    print(avg_prime.shape)\n",
    "    # put into dict\n",
    "    avg_corr[i] = avg_prime\n",
    "        "
   ]
  },
  {
   "cell_type": "code",
   "execution_count": 49,
   "metadata": {},
   "outputs": [
    {
     "data": {
      "text/plain": [
       "{0: array([0.05996155, 0.0712615 , 0.02172102]),\n",
       " 1: array([0.08675656, 0.05744758, 0.02218136]),\n",
       " 2: array([0.06496221, 0.0452871 , 0.02537304])}"
      ]
     },
     "execution_count": 49,
     "metadata": {},
     "output_type": "execute_result"
    }
   ],
   "source": [
    "avg_corr"
   ]
  },
  {
   "cell_type": "code",
   "execution_count": 54,
   "metadata": {},
   "outputs": [
    {
     "data": {
      "image/png": "[encoded data removed]",
      "text/plain": [
       "<Figure size 432x288 with 1 Axes>"
      ]
     },
     "metadata": {
      "needs_background": "light"
     },
     "output_type": "display_data"
    }
   ],
   "source": [
    "# loc weight\n",
    "w0 = np.zeros((3,1))\n",
    "\n",
    "# soc weight\n",
    "w1 = np.zeros((3,1))\n",
    "\n",
    "# story weight\n",
    "w2 = np.zeros((3,1))\n",
    "\n",
    "# assign values\n",
    "w0[0] = avg_corr[0][0]\n",
    "w0[1] = avg_corr[1][0]\n",
    "w0[2] = avg_corr[2][0]\n",
    "\n",
    "w1[0] = avg_corr[0][1]\n",
    "w1[1] = avg_corr[1][1]\n",
    "w1[2] = avg_corr[2][1]\n",
    "\n",
    "w2[0] = avg_corr[0][2]\n",
    "w2[1] = avg_corr[1][2]\n",
    "w2[2] = avg_corr[2][2]\n",
    "\n",
    "\n",
    "w0 = w0.ravel()\n",
    "w1 = w1.ravel()\n",
    "w2 = w2.ravel()\n",
    "\n",
    "#labels\n",
    "labels = ['no prime', 'loc', 'soc']\n",
    "\n",
    "x = np.arange(len(labels))  # the label locations\n",
    "width = 0.25  # the width of the bars\n",
    "\n",
    "fig, ax = plt.subplots()\n",
    "\n",
    "rects1 = ax.bar(x, w0, width, label='loc weight')\n",
    "rects2 = ax.bar(x + width, w1, width, label='soc weight')\n",
    "rects3 = ax.bar(x + width*2, w2, width, label='story weight')\n",
    "\n",
    "# Add some text for labels, title and custom x-axis tick labels, etc.\n",
    "ax.set_ylabel('weight value')\n",
    "ax.set_xlabel('prime type')\n",
    "ax.set_title('loc, soc and story weights for recall regression')\n",
    "ax.set_xticks(x + width)\n",
    "ax.set_xticklabels(labels)\n",
    "ax.legend()\n",
    "fig.tight_layout()\n",
    "\n",
    "plt.show()\n",
    "\n",
    "\n"
   ]
  },
  {
   "cell_type": "code",
   "execution_count": null,
   "metadata": {},
   "outputs": [],
   "source": []
  }
 ],
 "metadata": {
  "kernelspec": {
   "display_name": "Python 3",
   "language": "python",
   "name": "python3"
  },
  "language_info": {
   "codemirror_mode": {
    "name": "ipython",
    "version": 3
   },
   "file_extension": ".py",
   "mimetype": "text/x-python",
   "name": "python",
   "nbconvert_exporter": "python",
   "pygments_lexer": "ipython3",
   "version": "3.8.5"
  }
 },
 "nbformat": 4,
 "nbformat_minor": 2
}
