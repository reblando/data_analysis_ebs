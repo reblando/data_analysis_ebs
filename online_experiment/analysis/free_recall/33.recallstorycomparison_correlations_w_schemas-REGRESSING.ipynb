{
 "cells": [
  {
   "cell_type": "markdown",
   "metadata": {},
   "source": [
    "# Are the recalls more schematic than the stories themselves?\n",
    "\n",
    "## Comparing the avg word correlation of the recalls with the location and social template to the avg word correlation of the stories to the location and social template. \n",
    "\n",
    "# DIFFERENT FROM 32, BECAUSE I AM REGRESSING OUT ALL OTHER SCHEMA TEMPLATES FROM EACH SCHEMA TEMPLATE\n",
    "\n",
    "\n",
    "#### 3/18/21\n"
   ]
  },
  {
   "cell_type": "code",
   "execution_count": 1,
   "metadata": {
    "scrolled": true
   },
   "outputs": [
    {
     "data": {
      "application/javascript": [
       "IPython.notebook.set_autosave_interval(5000)"
      ]
     },
     "metadata": {},
     "output_type": "display_data"
    },
    {
     "name": "stdout",
     "output_type": "stream",
     "text": [
      "Autosaving every 5 seconds\n"
     ]
    }
   ],
   "source": [
    "import pandas as pd\n",
    "import numpy as np\n",
    "import plotly.graph_objs as go\n",
    "import plotly.plotly as py\n",
    "import plotly\n",
    "import os\n",
    "import glob\n",
    "import math\n",
    "import statistics\n",
    "import matplotlib.pyplot as plt\n",
    "import seaborn as sns\n",
    "import pickle\n",
    "import copy\n",
    "from random import randrange\n",
    "from sklearn.metrics import jaccard_score\n",
    "import random\n",
    "from sklearn.preprocessing import normalize\n",
    "from sklearn.linear_model import LinearRegression\n",
    "from scipy import stats\n",
    "\n",
    "\n",
    "from sklearn.decomposition import PCA #for cluster analysis\n",
    "from gensim.models import KeyedVectors #for word embeddings\n",
    "import matplotlib.pyplot as plt #for plotting\n",
    "import os #for importing\n",
    "import pickle #for loading transcripts\n",
    "from scipy.stats import pearsonr \n",
    "\n",
    "# from _DRAFT_20200604_functions import * #includes constants and score function\n",
    "from tqdm import tqdm_notebook #for progress bar\n",
    "\n",
    "#Import wordcloud\n",
    "from wordcloud import WordCloud, STOPWORDS, ImageColorGenerator\n",
    "\n",
    "%autosave 5"
   ]
  },
  {
   "cell_type": "markdown",
   "metadata": {},
   "source": [
    "# 0. Import recalls, and uncentered story and template vectors and sums "
   ]
  },
  {
   "cell_type": "code",
   "execution_count": 2,
   "metadata": {
    "scrolled": true
   },
   "outputs": [],
   "source": [
    "# import recalls and sums\n",
    "recalls = pickle.load( open( 'fr_recalls', \"rb\" ) )\n",
    "sums = pickle.load( open( \"fr_sums\", \"rb\" ) )\n",
    "\n",
    "#import individual words of stories\n",
    "granstories = pickle.load( open( 'gran_stories', \"rb\" ) )\n",
    "\n",
    "#import non-centered story, template\n",
    "templates = pickle.load( open( 'template_vectors', \"rb\" ) )\n",
    "stories = pickle.load( open( 'actual_story_vectors', \"rb\" ) )"
   ]
  },
  {
   "cell_type": "markdown",
   "metadata": {},
   "source": [
    "## Word to Vec"
   ]
  },
  {
   "cell_type": "code",
   "execution_count": 6,
   "metadata": {
    "scrolled": true
   },
   "outputs": [],
   "source": [
    "wikipath = 'rolando/wiki-news-300d-1M.vec'\n",
    "wv_model = KeyedVectors.load_word2vec_format(wikipath)"
   ]
  },
  {
   "cell_type": "code",
   "execution_count": 7,
   "metadata": {
    "scrolled": true
   },
   "outputs": [],
   "source": [
    "wv_dim = 300\n",
    "\n",
    "# FastText preprocessing, based on bittlingmayer/ft_wiki_preproc.py\n",
    "# Remove special characters, put spaces between all tokens\n",
    "SUB = [\"s/’/'/g\", \"s/′/'/g\", \"s/''/ /g\", \"s/'/ ' /g\", 's/“/\"/g', 's/”/\"/g', 's/\"/ /g', \"s/\\\\./ \\\\. /g\", \"s/<br \\\\/>/ /g\", \"s/, / , /g\", \"s/(/ ( /g\", \"s/)/ ) /g\", \"s/\\\\!/ \\\\! /g\", \"s/\\\\?/ \\\\? /g\", \"s/\\\\;/ /g\", \"s/\\\\:/ /g\", \"s/-/ - /g\", \"s/=/ /g\", \"s/=/ /g\", \"s/*/ /g\", \"s/|/ /g\", \"s/«/ /g\", \n",
    "       \"s/…/ /g\", \"s/‘/ /g\", \"s/í/ /g\", \"s/ñ/ /g\", \"s/\\x84/ /g\", \"s/î/ /g\", \"s/ó/ /g\", \"s/\\x83/ /g\", \"s/ï/ /g\", \"s/õ/ /g\",\n",
    "       \"s/ò/ /g\", \"s/,/ /g\", \"s/ô/ /g\", \"s/\\x92/ /g\", \"s/é/ /g\", \"s/\\x8e/ /g\", \"s/â\\x80¦/ /g\", \"s/\\x91/ /g\", \"s/\\x93/ /g\",\n",
    "       \"s/\\x94/ /g\", \"s/ã®/ /g\", \"s/ã¨/ /g\", \"s/ã©/ /g\",\n",
    "       \"s/\\â\\x80\\x99/ /g\", \"s/â\\x80\\x9c/ /g\", \"s/â\\x80\\x9d/ /g\", \"s/â\\x80\\x99/ /g\", \"s/â\\x80\\x9c/ /g\", \"s/â\\x80\\x98/ /g\",\n",
    "       \"s/â/ /g\"]\n",
    "\n",
    "def __normalize_text(s):\n",
    "    for sg in SUB:\n",
    "        rep = sg.replace('\\\\','').split('/')\n",
    "        s = s.replace(rep[1], rep[2])\n",
    "    s = s.replace('/',' ')\n",
    "    return s\n",
    "\n",
    "def __spaces(s):\n",
    "    return ' '.join(s.split())\n",
    "\n",
    "def __digits(s):\n",
    "    return ''.join(filter(lambda c: not c.isdigit(), s))\n",
    "\n",
    "# def preproc(s):\n",
    "#     return __punctuation(__spaces(__digits(__normalize_text(s.lower()))))\n",
    "\n",
    "def preproc(s):\n",
    "    return (__spaces(__digits(__normalize_text(s.lower()))))\n",
    "\n",
    "def __punctuation(s):\n",
    "    return s.translate(str.maketrans('', '', string.punctuation))\n",
    "\n",
    "def word2vecSent(sentence, model = 'fasttext'):\n",
    "    wv_dim = 300 #for glove and fasttext\n",
    "    \n",
    "    if model == 'glove':\n",
    "        wvmodel = glove_model\n",
    "    elif model == 'fasttext':\n",
    "        wvmodel = wv_model\n",
    "        \n",
    "    words = preproc(sentence).split(' ')\n",
    "    wv = np.zeros((len(words), wv_dim))\n",
    "    for i in range(len(words)):\n",
    "        if words[i] in wvmodel.vocab:\n",
    "            wv[i,:] = wvmodel.word_vec(words[i])\n",
    "    \n",
    "    return words, wv"
   ]
  },
  {
   "cell_type": "markdown",
   "metadata": {},
   "source": [
    "\n",
    "# Recalls: Concatenate words and word vectors in parallel across all participants in a story"
   ]
  },
  {
   "cell_type": "code",
   "execution_count": 8,
   "metadata": {
    "scrolled": true
   },
   "outputs": [],
   "source": [
    "all_words = {}\n",
    "all_wvs = {}\n",
    "#priming type order\n",
    "all_priming = {}\n",
    "\n",
    "#iterate through all recalls in a story and concatente words and wvs of all stories\n",
    "for key in recalls:\n",
    "    words = np.zeros((0,1))\n",
    "    wvs = np.zeros((0,300))\n",
    "    priming = np.zeros((0,1))\n",
    "    for i in range(0,3):\n",
    "        for j in range(0,len(recalls[key][i])):\n",
    "            p_words, p_wvs = word2vecSent(recalls[key][i][j][0])\n",
    "            # reshape p_words\n",
    "            p_words = np.array(p_words)\n",
    "            p_words = p_words.reshape(p_words.shape[0],-1)\n",
    "            p_priming = np.zeros(p_words.shape)\n",
    "            p_priming = p_priming + i\n",
    "            # stack p_words and p_wvs\n",
    "            words = np.vstack((words, p_words))\n",
    "            wvs = np.vstack((wvs, p_wvs))\n",
    "            priming = np.vstack((priming, p_priming))\n",
    "    all_words[key] = words\n",
    "    all_wvs[key] = wvs\n",
    "    all_priming[key] = priming "
   ]
  },
  {
   "cell_type": "markdown",
   "metadata": {},
   "source": [
    "# 2. Centering all words + story wvs + template wvs"
   ]
  },
  {
   "cell_type": "code",
   "execution_count": 9,
   "metadata": {
    "scrolled": true
   },
   "outputs": [
    {
     "name": "stdout",
     "output_type": "stream",
     "text": [
      "(42875, 300)\n",
      "(53012, 300)\n"
     ]
    }
   ],
   "source": [
    "#Concatenate all words from recall\n",
    "\n",
    "concat = np.zeros((0,300))\n",
    "\n",
    "for key in all_wvs:\n",
    "    concat = np.vstack((concat, all_wvs[key]))\n",
    "        \n",
    "print(concat.shape)\n",
    "    \n",
    "for key in granstories:\n",
    "    concat = np.vstack((concat, granstories[key]['wvs']))\n",
    "    \n",
    "for key in templates:\n",
    "    concat = np.vstack((concat, templates[key]))\n",
    "    \n",
    "print(concat.shape)\n",
    "\n",
    "\n",
    "centering_vec = np.mean(concat, axis = 0)\n",
    "\n",
    "# template vectors\n",
    "\n",
    "for key in templates:\n",
    "    templates[key] = templates[key] - centering_vec\n",
    "    \n",
    "# recall vectors\n",
    "\n",
    "for key in recalls:\n",
    "    for i in range(0, len(all_wvs[key])):\n",
    "        all_wvs[key][i] = all_wvs[key][i] - centering_vec\n",
    "            \n",
    "#story vectors\n",
    "\n",
    "#make new dict with int key instead of string\n",
    "for key in granstories:\n",
    "    granstories[key]['wvs'] = granstories[key]['wvs'] - centering_vec"
   ]
  },
  {
   "cell_type": "markdown",
   "metadata": {},
   "source": [
    "## template regression"
   ]
  },
  {
   "cell_type": "code",
   "execution_count": 10,
   "metadata": {
    "scrolled": true
   },
   "outputs": [],
   "source": [
    "schema_order = [1, 2, 3, 4, 10, 20, 30, 40]\n",
    "\n",
    "new_templates = {}\n",
    "\n",
    "for template in templates:\n",
    "    new_input = np.zeros((300,0))\n",
    "    for other_template in schema_order:\n",
    "        if other_template == template:\n",
    "            pass\n",
    "        else:\n",
    "            new_input = np.concatenate((new_input, templates[other_template].reshape(templates[other_template].shape[0],-1)), axis = 1)\n",
    "    ## regression \n",
    "    output = np.copy(templates[template])\n",
    "    #output = output.reshape(output.shape[0],-1)\n",
    "    model = LinearRegression().fit(new_input, output)\n",
    "    ## Is subtracting the intercept correct?? \n",
    "    new_vec = output - np.dot(model.coef_, new_input.T)- model.intercept_\n",
    "    new_templates[template] = new_vec"
   ]
  },
  {
   "cell_type": "markdown",
   "metadata": {},
   "source": [
    "## raveling all_words and all_priming"
   ]
  },
  {
   "cell_type": "code",
   "execution_count": 11,
   "metadata": {
    "scrolled": true
   },
   "outputs": [],
   "source": [
    "for key in all_words:\n",
    "    all_words[key] = np.ravel(all_words[key])\n",
    "    all_priming[key] = np.ravel(all_priming[key])"
   ]
  },
  {
   "cell_type": "markdown",
   "metadata": {},
   "source": [
    "# RECALL correlation w *LOC* \n"
   ]
  },
  {
   "cell_type": "code",
   "execution_count": 12,
   "metadata": {
    "scrolled": true
   },
   "outputs": [],
   "source": [
    "new_wvs = copy.deepcopy(all_wvs)"
   ]
  },
  {
   "cell_type": "code",
   "execution_count": 13,
   "metadata": {
    "scrolled": true
   },
   "outputs": [],
   "source": [
    "### A. Correlate each word with the LOC WV\n",
    "loc_cors = {}\n",
    "\n",
    "for key in all_wvs:\n",
    "    n = new_wvs[key].shape[0]\n",
    "    this_loc_cors = np.zeros((n,1))\n",
    "    loc = key%10\n",
    "    this_loc = new_templates[loc].reshape(new_templates[loc].shape[0], -1)\n",
    "    for i in range(0, n):\n",
    "        this_wv = new_wvs[key][i].reshape(new_wvs[key][i].shape[0], -1)\n",
    "        this_correl = np.corrcoef(this_loc.T, this_wv.T)\n",
    "        this_loc_cors[i] = this_correl[0,1]\n",
    "    loc_cors[key] = np.ravel(this_loc_cors)\n",
    "    \n",
    "#avg loc cors\n",
    "\n",
    "loc_concat = np.zeros((0,1))\n",
    "for key in loc_cors:\n",
    "    this_loc = loc_cors[key].reshape(loc_cors[key].shape[0], -1)\n",
    "    loc_concat = np.vstack((loc_concat, this_loc))\n",
    "\n",
    "recall_loc_avg = np.nanmean(loc_concat)"
   ]
  },
  {
   "cell_type": "code",
   "execution_count": 14,
   "metadata": {
    "scrolled": true
   },
   "outputs": [
    {
     "data": {
      "text/plain": [
       "0.018600546898801966"
      ]
     },
     "execution_count": 14,
     "metadata": {},
     "output_type": "execute_result"
    }
   ],
   "source": [
    "recall_loc_avg"
   ]
  },
  {
   "cell_type": "markdown",
   "metadata": {},
   "source": [
    "# *SOC* correlations with recalls\n"
   ]
  },
  {
   "cell_type": "code",
   "execution_count": 15,
   "metadata": {
    "scrolled": true
   },
   "outputs": [],
   "source": [
    "### A. Correlate each word with the LOC WV\n",
    "soc_cors = {}\n",
    "\n",
    "for key in all_wvs:\n",
    "    n = new_wvs[key].shape[0]\n",
    "    this_soc_cors = np.zeros((n,1))\n",
    "    soc = round(key/10)*10\n",
    "    this_soc = new_templates[soc].reshape(new_templates[soc].shape[0], -1)\n",
    "    for i in range(0, n):\n",
    "        this_wv = new_wvs[key][i].reshape(new_wvs[key][i].shape[0], -1)\n",
    "        this_correl = np.corrcoef(this_soc.T, this_wv.T)\n",
    "        this_soc_cors[i] = this_correl[0,1]\n",
    "    soc_cors[key] = np.ravel(this_soc_cors)\n",
    "    \n",
    "#avg loc cors\n",
    "\n",
    "soc_concat = np.zeros((0,1))\n",
    "for key in soc_cors:\n",
    "    this_soc = soc_cors[key].reshape(soc_cors[key].shape[0], -1)\n",
    "    soc_concat = np.vstack((soc_concat, this_soc))\n",
    "\n",
    "recall_soc_avg = np.nanmean(soc_concat)"
   ]
  },
  {
   "cell_type": "code",
   "execution_count": 16,
   "metadata": {
    "scrolled": true
   },
   "outputs": [
    {
     "name": "stdout",
     "output_type": "stream",
     "text": [
      "0.0185591715850262\n"
     ]
    }
   ],
   "source": [
    "print(recall_soc_avg)"
   ]
  },
  {
   "cell_type": "markdown",
   "metadata": {},
   "source": [
    "# *LOC* correlations with stories"
   ]
  },
  {
   "cell_type": "code",
   "execution_count": 17,
   "metadata": {
    "scrolled": true
   },
   "outputs": [],
   "source": [
    "### A. Correlate each word with the LOC WV\n",
    "loc_cors = {}\n",
    "\n",
    "for key in granstories.keys():\n",
    "    n = granstories[key]['wvs'].shape[0]\n",
    "    this_loc_cors = np.zeros((n,1))\n",
    "    loc = int(key)%10\n",
    "    this_loc = new_templates[int(loc)].reshape(new_templates[int(loc)].shape[0], -1)\n",
    "    for i in range(0, n):\n",
    "        this_wv = granstories[key]['wvs'][i].reshape(granstories[key]['wvs'][i].shape[0], -1)\n",
    "        this_correl = np.corrcoef(this_loc.T, this_wv.T)\n",
    "        this_loc_cors[i] = this_correl[0,1]\n",
    "    loc_cors[key] = np.ravel(this_loc_cors)\n",
    "    \n",
    "#avg loc cors\n",
    "\n",
    "loc_concat = np.zeros((0,1))\n",
    "for key in loc_cors:\n",
    "    this_loc = loc_cors[key].reshape(loc_cors[key].shape[0], -1)\n",
    "    loc_concat = np.vstack((loc_concat, this_loc))\n",
    "\n",
    "story_loc_avg = np.nanmean(loc_concat)"
   ]
  },
  {
   "cell_type": "code",
   "execution_count": 18,
   "metadata": {},
   "outputs": [
    {
     "data": {
      "text/plain": [
       "0.012769744401489837"
      ]
     },
     "execution_count": 18,
     "metadata": {},
     "output_type": "execute_result"
    }
   ],
   "source": [
    "story_loc_avg"
   ]
  },
  {
   "cell_type": "markdown",
   "metadata": {},
   "source": [
    "# *SOC* correlations with stories"
   ]
  },
  {
   "cell_type": "code",
   "execution_count": 19,
   "metadata": {
    "scrolled": true
   },
   "outputs": [],
   "source": [
    "### A. Correlate each word with the LOC WV\n",
    "soc_cors = {}\n",
    "\n",
    "for key in granstories.keys():\n",
    "    n = granstories[key]['wvs'].shape[0]\n",
    "    this_soc_cors = np.zeros((n,1))\n",
    "    soc = round(int(key)/10)*10\n",
    "    this_soc = new_templates[int(soc)].reshape(new_templates[int(soc)].shape[0], -1)\n",
    "    for i in range(0, n):\n",
    "        this_wv = granstories[key]['wvs'][i].reshape(granstories[key]['wvs'][i].shape[0], -1)\n",
    "        this_correl = np.corrcoef(this_soc.T, this_wv.T)\n",
    "        this_soc_cors[i] = this_correl[0,1]\n",
    "    soc_cors[key] = np.ravel(this_soc_cors)\n",
    "    \n",
    "#avg loc cors\n",
    "\n",
    "soc_concat = np.zeros((0,1))\n",
    "for key in soc_cors:\n",
    "    this_soc = soc_cors[key].reshape(soc_cors[key].shape[0], -1)\n",
    "    soc_concat = np.vstack((soc_concat, this_soc))\n",
    "\n",
    "story_soc_avg = np.nanmean(soc_concat)"
   ]
  },
  {
   "cell_type": "code",
   "execution_count": 20,
   "metadata": {},
   "outputs": [
    {
     "name": "stdout",
     "output_type": "stream",
     "text": [
      "story_loc_avg:  0.012769744401489837\n",
      "story_soc_avg:  0.011893715116330444\n",
      "recall_loc_avg 0.018600546898801966\n",
      "recall_soc_avg:  0.0185591715850262\n"
     ]
    }
   ],
   "source": [
    "print('story_loc_avg: ', story_loc_avg)\n",
    "print('story_soc_avg: ', story_soc_avg)\n",
    "print('recall_loc_avg', recall_loc_avg)\n",
    "print('recall_soc_avg: ', recall_soc_avg)"
   ]
  },
  {
   "cell_type": "code",
   "execution_count": 21,
   "metadata": {
    "scrolled": true
   },
   "outputs": [
    {
     "data": {
      "image/png": "[encoded data removed]",
      "text/plain": [
       "<Figure size 432x288 with 1 Axes>"
      ]
     },
     "metadata": {
      "needs_background": "light"
     },
     "output_type": "display_data"
    }
   ],
   "source": [
    "# loc correlation\n",
    "loc_plot = np.zeros((2,1))\n",
    "\n",
    "# soc correlation\n",
    "soc_plot = np.zeros((2,1))\n",
    "\n",
    "# assign values\n",
    "# correlation with loc\n",
    "loc_plot[0] = recall_loc_avg\n",
    "loc_plot[1] = story_loc_avg\n",
    "\n",
    "\n",
    "#proportion that are soc\n",
    "soc_plot[0] = recall_soc_avg\n",
    "soc_plot[1] = story_soc_avg\n",
    "\n",
    "loc_plot = loc_plot.ravel()\n",
    "soc_plot = soc_plot.ravel()\n",
    "\n",
    "#labels\n",
    "labels = ['recall', 'story']\n",
    "\n",
    "x = np.arange(len(labels))  # the label locations\n",
    "width = 0.25  # the width of the bars\n",
    "\n",
    "fig, ax = plt.subplots()\n",
    "\n",
    "rects1 = ax.bar(x, loc_plot, width, label='loc correlation')\n",
    "rects2 = ax.bar(x + width, soc_plot, width, label='soc correlation')\n",
    "\n",
    "# Add some text for labels, title and custom x-axis tick labels, etc.\n",
    "ax.set_ylabel('correlation')\n",
    "ax.set_title('recall v story correlation with location and social schemas')\n",
    "ax.set_xticks(x + width)\n",
    "ax.set_xticklabels(labels)\n",
    "ax.legend()\n",
    "ax.set_ylim([0, .05])\n",
    "fig.tight_layout()\n",
    "\n",
    "plt.show()\n",
    "\n",
    "\n"
   ]
  },
  {
   "cell_type": "code",
   "execution_count": 50,
   "metadata": {},
   "outputs": [
    {
     "data": {
      "text/plain": [
       "(10129, 1)"
      ]
     },
     "execution_count": 50,
     "metadata": {},
     "output_type": "execute_result"
    }
   ],
   "source": [
    "loc_concat.shape"
   ]
  },
  {
   "cell_type": "markdown",
   "metadata": {},
   "source": [
    "# Separate recalls by priming group"
   ]
  },
  {
   "cell_type": "code",
   "execution_count": 22,
   "metadata": {
    "scrolled": true
   },
   "outputs": [],
   "source": [
    "# separate words into priming groups\n",
    "\n",
    "prime_separated = {}\n",
    "\n",
    "for key in all_wvs:\n",
    "    n = all_wvs[key].shape[0]\n",
    "    no_primed = np.zeros((0,300))\n",
    "    loc_primed = np.zeros((0,300))\n",
    "    soc_primed = np.zeros((0,300))\n",
    "    for i in range(0, n):\n",
    "        this_priming = all_priming[key][i]\n",
    "        if this_priming == 0:\n",
    "            no_primed = np.vstack((no_primed, all_wvs[key][i]))\n",
    "        elif this_priming == 1:\n",
    "            loc_primed = np.vstack((loc_primed, all_wvs[key][i]))\n",
    "        else:\n",
    "            soc_primed = np.vstack((soc_primed, all_wvs[key][i]))\n",
    "    prime_separated[key] = {0:no_primed, 1:loc_primed, 2:soc_primed}"
   ]
  },
  {
   "cell_type": "markdown",
   "metadata": {},
   "source": [
    "# Loc correlation with recalls"
   ]
  },
  {
   "cell_type": "code",
   "execution_count": 23,
   "metadata": {
    "scrolled": true
   },
   "outputs": [],
   "source": [
    "### A. Correlate each word with the LOC WV\n",
    "\n",
    "#structure loc_cors\n",
    "loc_cors = {}\n",
    "for key in prime_separated:\n",
    "    loc_cors[key] = {}\n",
    "\n",
    "for key in prime_separated:\n",
    "    for priming in prime_separated[key]:\n",
    "        n = prime_separated[key][priming].shape[0]\n",
    "        this_loc_cors = np.zeros((n,1))\n",
    "        loc = key%10\n",
    "        this_loc = new_templates[loc].reshape(new_templates[loc].shape[0], -1)\n",
    "        for i in range(0, n):\n",
    "            this_wv = prime_separated[key][priming][i].reshape(prime_separated[key][priming][i].shape[0], -1)\n",
    "            this_correl = np.corrcoef(this_loc.T, this_wv.T)\n",
    "            this_loc_cors[i] = this_correl[0,1]\n",
    "        loc_cors[key][priming] = np.ravel(this_loc_cors)\n",
    "    \n",
    "#avg loc cors\n",
    "\n",
    "loc_concat_np = np.zeros((0,1))\n",
    "loc_concat_loc = np.zeros((0,1))\n",
    "loc_concat_soc = np.zeros((0,1))\n",
    "\n",
    "lcs = [loc_concat_np, loc_concat_loc, loc_concat_soc]\n",
    "\n",
    "for i in range(0,3):\n",
    "    for key in loc_cors:\n",
    "        this_loc = loc_cors[key][i].reshape(loc_cors[key][i].shape[0], -1)\n",
    "        lcs[i] = np.vstack((lcs[i], this_loc))\n",
    "\n",
    "recall_loc_avg_np = np.nanmean(lcs[0])\n",
    "recall_loc_avg_loc = np.nanmean(lcs[1])\n",
    "recall_loc_avg_soc = np.nanmean(lcs[2])"
   ]
  },
  {
   "cell_type": "markdown",
   "metadata": {},
   "source": [
    "# Soc correlation with recalls"
   ]
  },
  {
   "cell_type": "code",
   "execution_count": 24,
   "metadata": {
    "scrolled": true
   },
   "outputs": [],
   "source": [
    "### A. Correlate each word with the SOC WV\n",
    "\n",
    "#structure loc_cors\n",
    "soc_cors = {}\n",
    "for key in prime_separated:\n",
    "    soc_cors[key] = {}\n",
    "\n",
    "for key in prime_separated:\n",
    "    for priming in prime_separated[key]:\n",
    "        n = prime_separated[key][priming].shape[0]\n",
    "        this_soc_cors = np.zeros((n,1))\n",
    "        soc = round(int(key)/10)*10\n",
    "        this_soc = new_templates[soc].reshape(new_templates[soc].shape[0], -1)\n",
    "        for i in range(0, n):\n",
    "            this_wv = prime_separated[key][priming][i].reshape(prime_separated[key][priming][i].shape[0], -1)\n",
    "            this_correl = np.corrcoef(this_soc.T, this_wv.T)\n",
    "            this_soc_cors[i] = this_correl[0,1]\n",
    "        soc_cors[key][priming] = np.ravel(this_soc_cors)\n",
    "    \n",
    "#avg loc cors\n",
    "\n",
    "soc_concat_np = np.zeros((0,1))\n",
    "soc_concat_loc = np.zeros((0,1))\n",
    "soc_concat_soc = np.zeros((0,1))\n",
    "\n",
    "scs = [soc_concat_np, soc_concat_loc, soc_concat_soc]\n",
    "\n",
    "for i in range(0,3):\n",
    "    for key in soc_cors:\n",
    "        this_soc = soc_cors[key][i].reshape(soc_cors[key][i].shape[0], -1)\n",
    "        scs[i] = np.vstack((scs[i], this_soc))\n",
    "\n",
    "recall_soc_avg_np = np.nanmean(scs[0])\n",
    "recall_soc_avg_loc = np.nanmean(scs[1])\n",
    "recall_soc_avg_soc = np.nanmean(scs[2])"
   ]
  },
  {
   "cell_type": "code",
   "execution_count": 25,
   "metadata": {
    "scrolled": true
   },
   "outputs": [
    {
     "data": {
      "image/png": "[encoded data removed]",
      "text/plain": [
       "<Figure size 432x288 with 1 Axes>"
      ]
     },
     "metadata": {
      "needs_background": "light"
     },
     "output_type": "display_data"
    }
   ],
   "source": [
    "# loc correlation\n",
    "loc_plot = np.zeros((4,1))\n",
    "\n",
    "# soc correlation\n",
    "soc_plot = np.zeros((4,1))\n",
    "\n",
    "# assign values\n",
    "# correlation with loc\n",
    "loc_plot[0] = recall_loc_avg_np\n",
    "loc_plot[1] = recall_loc_avg_loc\n",
    "loc_plot[2] = recall_loc_avg_soc\n",
    "loc_plot[3] = story_loc_avg\n",
    "\n",
    "\n",
    "#proportion that are soc\n",
    "soc_plot[0] = recall_soc_avg_np\n",
    "soc_plot[1] = recall_soc_avg_loc\n",
    "soc_plot[2] = recall_soc_avg_soc\n",
    "soc_plot[3] = story_soc_avg\n",
    "\n",
    "loc_plot = loc_plot.ravel()\n",
    "soc_plot = soc_plot.ravel()\n",
    "\n",
    "#labels\n",
    "labels = ['recall-np', 'recall-loc', 'recall-soc', 'story']\n",
    "\n",
    "x = np.arange(len(labels))  # the label locations\n",
    "width = 0.25  # the width of the bars\n",
    "\n",
    "fig, ax = plt.subplots()\n",
    "\n",
    "rects1 = ax.bar(x, loc_plot, width, label='loc correlation')\n",
    "rects2 = ax.bar(x + width, soc_plot, width, label='soc correlation')\n",
    "\n",
    "# Add some text for labels, title and custom x-axis tick labels, etc.\n",
    "ax.set_ylabel('correlation')\n",
    "ax.set_title('recall v story correlation with location and social schemas')\n",
    "ax.set_xticks(x + width)\n",
    "ax.set_xticklabels(labels)\n",
    "ax.legend()\n",
    "ax.set_ylim([0, .05])\n",
    "fig.tight_layout()\n",
    "\n",
    "plt.show()\n",
    "\n",
    "\n"
   ]
  },
  {
   "cell_type": "markdown",
   "metadata": {
    "scrolled": true
   },
   "source": [
    "## preparing data for stats - np_soc_cor - story_soc_cor for each participant"
   ]
  },
  {
   "cell_type": "markdown",
   "metadata": {},
   "source": [
    "### 1. Getting soc_cor for each participant at word granularity"
   ]
  },
  {
   "cell_type": "code",
   "execution_count": 31,
   "metadata": {},
   "outputs": [],
   "source": [
    "#structure soc_cors\n",
    "soc_cors = {}\n",
    "for key in prime_separated:\n",
    "    soc_cors[key] = {}\n",
    "\n",
    "for key in prime_separated:\n",
    "    for priming in prime_separated[key]:\n",
    "        n = prime_separated[key][priming].shape[0]\n",
    "        this_soc_cors = np.zeros((n,1))\n",
    "        soc = round(int(key)/10)*10\n",
    "        this_soc = new_templates[soc].reshape(new_templates[soc].shape[0], -1)\n",
    "        for i in range(0, n):\n",
    "            this_wv = prime_separated[key][priming][i].reshape(prime_separated[key][priming][i].shape[0], -1)\n",
    "            this_correl = np.corrcoef(this_soc.T, this_wv.T)\n",
    "            this_soc_cors[i] = this_correl[0,1]\n",
    "        soc_cors[key][priming] = np.ravel(this_soc_cors)\n",
    "    "
   ]
  },
  {
   "cell_type": "code",
   "execution_count": 35,
   "metadata": {},
   "outputs": [
    {
     "data": {
      "text/plain": [
       "505"
      ]
     },
     "execution_count": 35,
     "metadata": {},
     "output_type": "execute_result"
    }
   ],
   "source": [
    "prime_separated[key][priming].shape[0]"
   ]
  },
  {
   "cell_type": "code",
   "execution_count": 27,
   "metadata": {},
   "outputs": [
    {
     "data": {
      "text/plain": [
       "0.020235638307260422"
      ]
     },
     "execution_count": 27,
     "metadata": {},
     "output_type": "execute_result"
    }
   ],
   "source": [
    "### A. Correlate each word with the LOC WV\n",
    "soc_cors = {}\n",
    "\n",
    "for key in granstories.keys():\n",
    "    n = granstories[key]['wvs'].shape[0]\n",
    "    this_soc_cors = np.zeros((n,1))\n",
    "    soc = round(int(key)/10)*10\n",
    "    this_soc = new_templates[int(soc)].reshape(new_templates[int(soc)].shape[0], -1)\n",
    "    for i in range(0, n):\n",
    "        this_wv = granstories[key]['wvs'][i].reshape(granstories[key]['wvs'][i].shape[0], -1)\n",
    "        this_correl = np.corrcoef(this_soc.T, this_wv.T)\n",
    "        this_soc_cors[i] = this_correl[0,1]\n",
    "    soc_cors[key] = np.ravel(this_soc_cors)\n",
    "    \n",
    "#avg loc cors\n",
    "\n",
    "soc_concat = np.zeros((0,1))\n",
    "for key in soc_cors:\n",
    "    this_soc = soc_cors[key].reshape(soc_cors[key].shape[0], -1)\n",
    "    soc_concat = np.vstack((soc_concat, this_soc))\n",
    "\n",
    "story_soc_avg = np.nanmean(soc_concat)"
   ]
  },
  {
   "cell_type": "code",
   "execution_count": 29,
   "metadata": {},
   "outputs": [
    {
     "data": {
      "text/plain": [
       "array([-0.09958377,  0.03929978,  0.04143927, ..., -0.03042562,\n",
       "       -0.00844652, -0.08482587])"
      ]
     },
     "execution_count": 29,
     "metadata": {},
     "output_type": "execute_result"
    }
   ],
   "source": [
    "#avg soc cors\n",
    "\n",
    "np_soc\n",
    "\n",
    "scs = [soc_concat_np, soc_concat_loc, soc_concat_soc]\n",
    "\n",
    "for i in range(0,3):\n",
    "    for key in soc_cors:\n",
    "        this_soc = soc_cors[key][i].reshape(soc_cors[key][i].shape[0], -1)\n",
    "        scs[i] = np.vstack((scs[i], this_soc))\n",
    "\n",
    "recall_soc_avg_np = np.nanmean(scs[0])\n",
    "recall_soc_avg_loc = np.nanmean(scs[1])\n",
    "recall_soc_avg_soc = np.nanmean(scs[2])"
   ]
  },
  {
   "cell_type": "code",
   "execution_count": 30,
   "metadata": {},
   "outputs": [
    {
     "data": {
      "text/plain": [
       "{0: array([-0.09958377,  0.03929978,  0.04143927, ..., -0.03042562,\n",
       "        -0.00844652, -0.08482587]),\n",
       " 1: array([-9.95837725e-02, -7.57107182e-03, -7.53247701e-02,  1.57259142e-01,\n",
       "        -8.44652027e-03,  9.64525462e-02,  8.60134314e-02, -8.44652027e-03,\n",
       "        -4.68724042e-02,  1.57259142e-01,  4.66218918e-02,  8.90108302e-02,\n",
       "         5.33253570e-01,  1.51797066e-01,  1.57259142e-01,  1.10242111e-01,\n",
       "         9.71275915e-02,  1.57259142e-01, -3.52431345e-02,  5.85712654e-02,\n",
       "         6.30171387e-02,  1.27407566e-02, -7.72460121e-02, -7.53247701e-02,\n",
       "         4.63721838e-02, -4.30226401e-02, -6.70375004e-02,  8.70034817e-02,\n",
       "        -1.00824802e-01,  2.83503606e-01,  1.90165248e-01, -3.04256158e-02,\n",
       "         1.16862762e-01, -7.72460121e-02,  1.49870723e-01,  8.90108302e-02,\n",
       "         1.35076534e-01,  1.79085936e-01,  8.60134314e-02, -2.61347838e-02,\n",
       "        -2.15400747e-02,  2.83503606e-01, -8.44652027e-03, -4.11536787e-02,\n",
       "        -1.00824802e-01,  1.17719526e-02,  1.02592170e-01, -1.00824802e-01,\n",
       "         1.29379761e-02,  1.16939062e-01,  8.60134314e-02, -8.44652027e-03,\n",
       "        -5.70088208e-02, -7.72460121e-02,  1.44445519e-01, -1.08804453e-04,\n",
       "        -9.95837725e-02,  6.87257506e-02, -5.48713823e-02, -1.00824802e-01,\n",
       "         6.75437187e-02,  1.57259142e-01,  2.50010833e-02,  5.85712654e-02,\n",
       "        -2.10319999e-02, -8.76019120e-02, -7.72460121e-02, -9.95837725e-02,\n",
       "         6.87257506e-02, -8.62761694e-02, -7.53247701e-02,  1.49870723e-01,\n",
       "        -8.44652027e-03,  7.16176572e-02,  8.60134314e-02,  4.06330019e-01,\n",
       "         3.18589025e-01, -7.72460121e-02, -3.93008702e-02,  9.12269713e-02,\n",
       "         3.08827416e-02,  6.77110190e-02,  1.58293340e-01,  1.79962192e-01,\n",
       "        -8.44652027e-03,  1.10385565e-01,  1.73572054e-01, -2.32935648e-02,\n",
       "        -7.72460121e-02, -3.93008702e-02,  6.17103440e-02,  8.90108302e-02,\n",
       "        -8.48258703e-02,  3.59432891e-02, -1.76243517e-02,  8.90108302e-02,\n",
       "        -7.13213759e-02, -1.00824802e-01, -8.23515240e-02, -7.53247701e-02,\n",
       "        -3.82502642e-02, -3.93008702e-02,  2.38747455e-02,  1.73572054e-01,\n",
       "         8.90108302e-02, -1.38266895e-01, -3.04256158e-02, -8.44652027e-03,\n",
       "         9.64525462e-02, -7.72460121e-02,  1.14737848e-01, -8.06870005e-02,\n",
       "        -2.31705077e-02,  1.90165248e-01, -7.53247701e-02,  2.38747455e-02,\n",
       "         1.58293340e-01, -9.95837725e-02, -4.30226401e-02, -1.46948268e-01,\n",
       "        -7.72460121e-02,  1.14737848e-01,  8.90108302e-02, -1.13012187e-01,\n",
       "        -3.90967041e-02,  8.60134314e-02, -1.13370881e-02,  1.54088166e-01,\n",
       "        -1.61399765e-02,  5.85712654e-02, -1.09018667e-01, -9.95837725e-02,\n",
       "         9.69020879e-02,  8.69909521e-02,  5.42814522e-02, -3.93008702e-02,\n",
       "         1.30934902e-01, -3.93008702e-02,  1.50932436e-02,  8.90108302e-02,\n",
       "         3.06791760e-01,  1.57259142e-01, -2.06143502e-02, -4.96635684e-02,\n",
       "         5.85712654e-02, -3.59374100e-02, -7.72460121e-02, -3.93008702e-02,\n",
       "        -4.30226401e-02,  5.21790286e-02,  1.61942888e-01,  1.77199915e-01,\n",
       "         5.66451065e-04, -1.00824802e-01,  1.27391716e-01, -3.93008702e-02,\n",
       "         6.87257506e-02,  1.17957801e-01,  3.85068473e-03, -3.98887982e-03,\n",
       "         1.16471736e-01, -7.72460121e-02, -7.53247701e-02,  1.20956241e-01,\n",
       "         5.42814522e-02, -8.06870005e-02,  6.31310518e-02,  1.94874623e-02,\n",
       "        -1.00824802e-01, -8.99285853e-02,  5.75699785e-02, -6.45039116e-02,\n",
       "         1.49870723e-01, -6.62783077e-02, -1.21747655e-01,  1.57259142e-01,\n",
       "         2.66336357e-02,  9.38383372e-02, -9.95837725e-02, -4.30226401e-02,\n",
       "         1.16471736e-01, -7.72460121e-02, -8.06870005e-02, -2.70882035e-02,\n",
       "         7.68825049e-03,  8.90108302e-02, -2.90035087e-02, -9.95837725e-02,\n",
       "         8.90108302e-02, -8.76019120e-02,  9.28432459e-02, -1.46799654e-01,\n",
       "        -1.00824802e-01, -7.53247701e-02,  8.90108302e-02, -8.07070223e-02,\n",
       "        -7.72460121e-02, -7.53247701e-02,  1.57960666e-02,  1.57259142e-01,\n",
       "         4.30337112e-02,  3.48778788e-02, -7.72460121e-02, -8.44652027e-03,\n",
       "        -1.21747655e-01, -7.42467493e-02,  3.18601584e-02,  7.90254814e-02,\n",
       "         6.87257506e-02,  1.01972065e-01, -1.00824802e-01, -8.06870005e-02,\n",
       "         4.54616965e-02,  8.17073265e-03, -1.16586585e-01, -7.72460121e-02,\n",
       "         1.14737848e-01, -8.44652027e-03, -5.09476858e-02, -3.82502642e-02,\n",
       "        -8.44652027e-03, -2.30391054e-02,  2.38747455e-02,  1.45832068e-02,\n",
       "        -8.06870005e-02, -4.30226401e-02, -1.11589233e-01,  1.44964198e-02,\n",
       "         2.38281639e-01, -1.08951369e-01,  1.57259142e-01,  3.74933486e-03,\n",
       "        -9.95837725e-02,  6.19819449e-02, -1.12924857e-02, -3.52455267e-02,\n",
       "        -4.30226401e-02,  1.14980063e-02,  1.16927915e-02, -7.72460121e-02,\n",
       "        -7.53247701e-02, -1.15219790e-01,  8.94056170e-04,  1.02580250e-01,\n",
       "        -1.00824802e-01,  7.89319060e-02,  3.18589025e-01,  8.30968399e-04,\n",
       "        -1.05967357e-02,  8.90108302e-02, -8.91907377e-02, -1.61399765e-02,\n",
       "        -9.95837725e-02, -7.72460121e-02, -2.15400747e-02,  9.69020879e-02,\n",
       "         1.10242111e-01,  2.61424817e-02,  1.57259142e-01,  2.12708225e-01,\n",
       "         8.69909521e-02,  2.51686853e-03, -1.81394889e-02,  9.00367948e-02,\n",
       "         8.69909521e-02, -7.90178074e-02, -1.00824802e-01,  5.42814522e-02,\n",
       "        -2.15400747e-02,  1.30761148e-01,  8.69909521e-02, -1.06021611e-01,\n",
       "        -1.00824802e-01,  3.65731008e-02, -4.20135521e-03,  9.64525462e-02,\n",
       "        -7.72460121e-02, -9.95837725e-02,  6.87257506e-02,  7.71376912e-02,\n",
       "         1.57259142e-01, -6.97954381e-02, -4.29561966e-03, -4.71281780e-02,\n",
       "         3.22959978e-02, -6.51296572e-02,  8.98179710e-02, -6.51296572e-02,\n",
       "        -3.56147367e-02, -7.72460121e-02, -3.93008702e-02,  4.41320504e-02,\n",
       "         8.90108302e-02,  3.56222151e-04,  8.60134314e-02,  5.85712654e-02,\n",
       "        -8.76019120e-02,  3.74933486e-03, -5.33072888e-02,  7.87849018e-04,\n",
       "        -1.00824802e-01, -8.28968446e-03,  1.49782755e-02, -7.72460121e-02,\n",
       "        -2.50019505e-03, -1.00824802e-01, -7.53247701e-02, -4.22942746e-02,\n",
       "        -8.62761694e-02, -1.61399765e-02,  8.90108302e-02, -8.48258703e-02,\n",
       "        -7.72460121e-02, -2.50019505e-03,  1.30761148e-01,  1.57259142e-01,\n",
       "         3.06791760e-01,  3.18589025e-01,  1.49870723e-01, -7.53247701e-02,\n",
       "        -7.72460121e-02, -8.06870005e-02, -1.61872243e-02, -1.06311606e-02,\n",
       "        -1.00824802e-01, -2.50019505e-03,  2.38747455e-02,  1.73572054e-01,\n",
       "         8.90108302e-02, -2.19640866e-02, -1.38266895e-01, -7.72460121e-02,\n",
       "        -1.02008108e-01, -8.06870005e-02, -2.10980959e-02,  7.29007731e-03,\n",
       "        -8.44652027e-03, -1.08023819e-01, -8.06870005e-02,  7.68825049e-03,\n",
       "         8.17073265e-03, -5.09476858e-02, -7.72460121e-02, -8.23515240e-02,\n",
       "        -8.44652027e-03, -2.30391054e-02,  5.61099992e-02,  8.17073265e-03,\n",
       "        -5.09476858e-02, -2.50019505e-03,  7.92495741e-02,  1.57259142e-01,\n",
       "        -7.53247701e-02,  5.42814522e-02, -3.93008702e-02,  1.30761148e-01,\n",
       "         1.57259142e-01,  3.49487413e-02,  8.90108302e-02,  3.06791760e-01,\n",
       "         7.42931741e-02,  8.17073265e-03,  1.10385565e-01, -6.51296572e-02,\n",
       "        -3.93008702e-02, -1.22221508e-02,  2.33191344e-03, -4.96635684e-02,\n",
       "         5.85712654e-02,  6.30171387e-02, -3.19528032e-02, -7.72460121e-02,\n",
       "        -7.53247701e-02,  6.87257506e-02,  1.59437211e-01, -1.00824802e-01,\n",
       "         4.13778374e-02,  1.57259142e-01,  1.55424778e-01,  5.42814522e-02,\n",
       "        -2.15400747e-02,  3.82823664e-02,  8.44116975e-02,  3.92997794e-02,\n",
       "         3.11958408e-02,  1.49870723e-01,  2.87076104e-03, -1.00824802e-01,\n",
       "         5.42814522e-02,  1.45832068e-02, -3.93008702e-02,  1.30761148e-01,\n",
       "         1.57259142e-01, -8.06870005e-02, -1.22221508e-02,  5.54232419e-02,\n",
       "         5.75699785e-02,  8.60134314e-02, -6.62783077e-02,  1.73572054e-01,\n",
       "         8.90108302e-02, -6.10345831e-02, -2.50019505e-03,  7.92495741e-02,\n",
       "         5.66238633e-03, -1.00824802e-01, -7.53247701e-02,  1.17719526e-02,\n",
       "         1.02580250e-01, -7.72460121e-02, -2.15400747e-02,  1.92804756e-02,\n",
       "         8.69909521e-02, -5.09476858e-02, -3.04256158e-02, -5.32349717e-02,\n",
       "         8.60134314e-02,  1.10242111e-01, -1.00824802e-01,  7.92495741e-02,\n",
       "         2.61424817e-02,  1.57259142e-01,  3.12609817e-02,  8.69909521e-02,\n",
       "        -1.00824802e-01,  5.42814522e-02, -2.15400747e-02,  1.30761148e-01,\n",
       "         8.69909521e-02, -7.90700279e-02, -1.00824802e-01,  3.65731008e-02,\n",
       "        -4.20135521e-03,  9.64525462e-02, -7.72460121e-02, -2.15400747e-02,\n",
       "         1.29379761e-02,  1.16939062e-01,  8.60134314e-02, -8.44652027e-03,\n",
       "        -8.48258703e-02, -1.00824802e-01, -2.50019505e-03,  6.87257506e-02,\n",
       "         7.71376912e-02, -5.03477616e-02,  3.60120572e-03, -7.72460121e-02,\n",
       "        -1.21747655e-01, -1.81331566e-02, -3.04256158e-02, -8.44652027e-03,\n",
       "        -8.48258703e-02, -5.55712253e-02,  3.18589025e-01, -1.61399765e-02,\n",
       "        -8.44652027e-03,  5.62793907e-02, -4.81620685e-02,  4.54616965e-02,\n",
       "         8.17073265e-03, -1.29654606e-01, -8.23515240e-02, -8.06870005e-02,\n",
       "         1.16167435e-01,  7.90254814e-02, -4.30226401e-02,  5.21790286e-02,\n",
       "         6.33265714e-02, -7.72460121e-02, -2.50019505e-03,  4.41320504e-02,\n",
       "         8.90108302e-02, -5.48713823e-02,  8.60134314e-02,  5.85712654e-02,\n",
       "        -8.76019120e-02, -4.81620685e-02,  1.30934902e-01,  3.29633765e-02,\n",
       "        -5.33072888e-02,  1.07166166e-01, -7.72460121e-02, -3.93008702e-02,\n",
       "        -2.53226258e-02,  1.45832068e-02, -8.44652027e-03, -8.48258703e-02,\n",
       "         9.12269713e-02,  3.16886355e-02,  6.47249006e-02,  6.26115837e-02,\n",
       "        -7.72460121e-02,  1.35097391e-01,  1.30761148e-01,  1.57259142e-01,\n",
       "         3.06791760e-01,  3.18589025e-01, -1.00824802e-01,  9.12269713e-02,\n",
       "         3.08827416e-02,  6.77110190e-02,  1.58293340e-01,  3.29633765e-02,\n",
       "         1.73572054e-01, -8.44652027e-03,  3.22367518e-02, -1.05561470e-01,\n",
       "        -2.32935648e-02, -7.72460121e-02, -3.93008702e-02,  6.52473229e-02,\n",
       "         8.90108302e-02, -4.30226401e-02,  5.21790286e-02, -2.83189808e-02,\n",
       "        -8.48258703e-02,  1.57259142e-01, -5.04267602e-02,  5.85712654e-02,\n",
       "         9.43101220e-02, -7.72460121e-02, -2.15400747e-02, -3.82502642e-02,\n",
       "         1.31292421e-02,  1.10242111e-01, -1.00824802e-01,  9.69020879e-02,\n",
       "         1.10242111e-01, -2.15400747e-02,  2.37200516e-02, -3.93008702e-02,\n",
       "         2.38747455e-02, -4.29561966e-03,  8.69909521e-02, -1.46948268e-01,\n",
       "         6.54550653e-03,  3.08827416e-02, -7.72460121e-02, -8.44652027e-03,\n",
       "         1.35097391e-01,  2.38747455e-02, -8.44652027e-03, -7.73729442e-02,\n",
       "         1.73572054e-01,  8.90108302e-02, -1.38266895e-01, -1.61399765e-02,\n",
       "        -8.44652027e-03,  9.64525462e-02, -7.72460121e-02, -8.44652027e-03,\n",
       "        -7.73729442e-02,  6.87257506e-02,  1.23284380e-01,  4.84976648e-02,\n",
       "         5.43168619e-02, -1.00824802e-01,  1.98583547e-02,  2.87076104e-03,\n",
       "         1.57259142e-01, -8.44652027e-03, -3.16011415e-02, -7.72460121e-02,\n",
       "        -8.44652027e-03,  9.43101220e-02,  2.38747455e-02, -4.29561966e-03,\n",
       "         5.85712654e-02, -1.46948268e-01,  3.92997794e-02, -1.00824802e-01,\n",
       "        -3.93008702e-02, -1.15219790e-01,  9.69020879e-02,  8.69909521e-02,\n",
       "        -3.93008702e-02,  1.50932436e-02,  8.90108302e-02,  3.06791760e-01,\n",
       "         7.42931741e-02, -8.44652027e-03,  1.10385565e-01,  1.57259142e-01,\n",
       "        -2.06143502e-02, -4.96635684e-02,  5.85712654e-02,  6.30171387e-02,\n",
       "        -7.72460121e-02, -8.44652027e-03, -7.73729442e-02,  2.38747455e-02,\n",
       "         1.57259142e-01,  3.49487413e-02,  8.17073265e-03,  7.68825049e-03,\n",
       "        -1.00824802e-01, -8.06870005e-02, -9.66517055e-02, -1.61399765e-02,\n",
       "        -8.44652027e-03, -1.08023819e-01, -1.00824802e-01,  7.68825049e-03,\n",
       "         8.03239196e-02,  1.18439627e-02, -7.72460121e-02, -8.44652027e-03,\n",
       "         9.43101220e-02, -1.15219790e-01,  2.38747455e-02,  1.45832068e-02,\n",
       "         8.90108302e-02,  3.06791760e-01,  3.18589025e-01,  6.87257506e-02,\n",
       "         7.90254814e-02, -3.93008702e-02,  4.53718879e-02,  1.30761148e-01,\n",
       "        -1.00824802e-01,  7.92495741e-02, -2.15400747e-02,  4.63721838e-02,\n",
       "        -4.30226401e-02, -6.70375004e-02,  3.75857642e-02, -8.06870005e-02,\n",
       "        -2.42449200e-02,  3.06791760e-01,  3.18589025e-01,  6.72411849e-02,\n",
       "        -4.71281780e-02, -4.22942746e-02,  3.11958408e-02, -1.00824802e-01,\n",
       "        -8.06870005e-02, -3.66146397e-02,  2.90132061e-02,  1.16939062e-01,\n",
       "         5.75699785e-02, -1.00824802e-01, -2.40347196e-02, -4.30226401e-02,\n",
       "        -6.70375004e-02, -2.10980959e-02,  1.57259142e-01,  5.54232419e-02,\n",
       "        -6.62783077e-02, -1.21747655e-01, -5.35917612e-02, -8.44652027e-03,\n",
       "        -6.45039116e-02, -7.72460121e-02, -8.44652027e-03, -2.55082496e-02,\n",
       "        -3.82502642e-02,  1.49870723e-01, -8.44652027e-03, -5.09476858e-02,\n",
       "        -7.72460121e-02, -7.53247701e-02,  7.89319060e-02,  3.18589025e-01,\n",
       "         1.26287408e-01,  8.69909521e-02, -5.09476858e-02,  9.69020879e-02,\n",
       "         1.10242111e-01,  2.61424817e-02,  1.57259142e-01, -5.99228828e-02,\n",
       "         1.57259142e-01,  8.69909521e-02,  2.51686853e-03,  5.54232419e-02,\n",
       "         8.69909521e-02, -7.90178074e-02, -1.00824802e-01,  5.42814522e-02,\n",
       "        -2.15400747e-02,  1.30761148e-01,  8.69909521e-02, -1.02685078e-02,\n",
       "         9.64525462e-02, -1.00824802e-01,  5.80026785e-02, -7.72460121e-02,\n",
       "        -8.44652027e-03,  1.35097391e-01, -1.15219790e-01,  4.13778374e-02,\n",
       "         5.85712654e-02, -8.76019120e-02, -1.00824802e-01,  5.86597058e-02,\n",
       "        -2.02893933e-02, -7.54219128e-02, -8.34190760e-02, -1.00824802e-01,\n",
       "        -3.93008702e-02,  4.63721838e-02, -4.30226401e-02, -6.70375004e-02,\n",
       "         3.23108561e-02,  1.45832068e-02,  5.86597058e-02, -8.44652027e-03,\n",
       "        -8.48258703e-02,  2.51686853e-03, -8.44652027e-03,  4.25961143e-03,\n",
       "        -4.72064999e-03,  6.87257506e-02,  1.57259142e-01,  1.41057377e-01,\n",
       "        -7.72460121e-02, -8.44652027e-03,  4.27944542e-02,  1.30761148e-01,\n",
       "         1.57259142e-01,  3.06791760e-01,  3.18589025e-01,  1.49870723e-01,\n",
       "         5.85712654e-02,  9.43101220e-02, -7.53247701e-02,  1.14737848e-01,\n",
       "         6.77110190e-02,  1.58293340e-01,  3.29633765e-02,  1.73572054e-01,\n",
       "        -1.05561470e-01, -2.32935648e-02, -7.72460121e-02, -3.93008702e-02,\n",
       "        -2.08329103e-02,  8.69909521e-02, -1.61399765e-02, -8.44652027e-03,\n",
       "        -8.48258703e-02, -1.00824802e-01, -8.06870005e-02,  8.39967342e-03,\n",
       "         8.90108302e-02, -1.38266895e-01, -3.04256158e-02, -8.44652027e-03,\n",
       "         9.64525462e-02, -7.72460121e-02, -7.53247701e-02, -1.22221508e-02,\n",
       "         5.83524284e-02,  8.03239196e-02,  6.87257506e-02,  7.65931337e-02,\n",
       "        -1.00824802e-01,  2.38747455e-02,  1.10242111e-01,  7.90254814e-02,\n",
       "         6.87257506e-02,  1.41416173e-01, -4.96635684e-02, -1.00824802e-01,\n",
       "        -3.93008702e-02,  7.92495741e-02,  5.42814522e-02, -3.93008702e-02,\n",
       "         1.30761148e-01,  1.57259142e-01,  3.06791760e-01,  3.18589025e-01,\n",
       "         4.93319407e-02, -3.93008702e-02,  6.87257506e-02,  1.56261788e-01,\n",
       "        -7.59843145e-02,  4.90062389e-02,  1.58293340e-01,  5.85712654e-02,\n",
       "         6.30171387e-02, -1.00824802e-01,  1.30761148e-01, -6.45039116e-02,\n",
       "         1.57259142e-01,  8.39967342e-03,  5.42814522e-02, -4.96635684e-02,\n",
       "         2.93488912e-02, -7.72460121e-02,  1.14737848e-01,  7.31765944e-02,\n",
       "         1.57259142e-01, -3.30422008e-03,  1.10242111e-01,  5.42814522e-02,\n",
       "        -8.06870005e-02, -3.66146397e-02,  5.54232419e-02, -6.62783077e-02,\n",
       "        -1.21747655e-01,  5.75699785e-02, -7.53247701e-02,  1.17719526e-02,\n",
       "         1.59437211e-01, -1.00824802e-01,  1.14737848e-01,  8.17073265e-03,\n",
       "         7.68825049e-03, -3.82502642e-02, -3.93008702e-02, -1.38496007e-02,\n",
       "         8.90108302e-02, -8.43434900e-02, -1.00824802e-01, -2.15400747e-02,\n",
       "        -1.38496007e-02,  8.90108302e-02, -2.92171521e-02,  4.41320504e-02,\n",
       "        -1.05967357e-02,  8.60134314e-02,  3.29633765e-02,  3.97538138e-02,\n",
       "         3.29633765e-02, -3.04256158e-02,  5.85712654e-02, -9.28237461e-02,\n",
       "        -1.00824802e-01,  3.74378903e-02, -1.61399765e-02,  1.10242111e-01,\n",
       "         5.42814522e-02, -2.15400747e-02,  1.30761148e-01,  8.69909521e-02,\n",
       "        -4.71281780e-02,  9.64525462e-02, -7.72460121e-02, -2.15400747e-02,\n",
       "        -1.15219790e-01,  5.80026785e-02, -8.44652027e-03, -8.48258703e-02,\n",
       "        -7.72460121e-02, -3.93008702e-02,  4.41320504e-02,  8.90108302e-02,\n",
       "         3.56222151e-04,  8.60134314e-02,  5.85712654e-02, -8.76019120e-02,\n",
       "        -1.00824802e-01,  1.30934902e-01,  3.29633765e-02, -5.33072888e-02,\n",
       "         8.12131838e-02, -1.00824802e-01, -2.53226258e-02,  1.45832068e-02,\n",
       "         3.29633765e-02,  6.87257506e-02, -8.44652027e-03,  1.54690747e-01,\n",
       "         8.60134314e-02, -8.44652027e-03, -8.48258703e-02, -7.72460121e-02,\n",
       "         1.58293340e-01,  8.90108302e-02, -8.81879077e-02, -1.00824802e-01,\n",
       "         8.69909521e-02,  4.48893716e-02, -7.72460121e-02,  1.14737848e-01,\n",
       "         8.90108302e-02, -1.13012187e-01, -2.32935648e-02,  8.60134314e-02,\n",
       "         6.77110190e-02, -9.95837725e-02,  3.34369678e-03,  1.57259142e-01,\n",
       "         3.49487413e-02,  8.90108302e-02,  3.06791760e-01,  7.42931741e-02,\n",
       "        -8.44652027e-03,  1.10385565e-01,  1.49870723e-01, -5.48713823e-02,\n",
       "         4.93319407e-02, -3.93008702e-02,  3.10560973e-02,  1.57259142e-01,\n",
       "         2.89562658e-02,  1.16939062e-01,  5.85712654e-02,  6.30171387e-02,\n",
       "         1.52828861e-01,  1.51838494e-01,  8.89534809e-02, -7.72460121e-02,\n",
       "        -3.93008702e-02,  9.97434198e-02,  8.90108302e-02, -8.48258703e-02,\n",
       "         6.72411849e-02, -8.44652027e-03, -5.04267602e-02, -7.54219128e-02,\n",
       "         3.18589025e-01, -4.03592312e-02, -7.72460121e-02, -5.48713823e-02,\n",
       "        -2.16739976e-02,  2.61424817e-02,  6.79014516e-03,  1.57259142e-01,\n",
       "         3.06791760e-01,  3.18589025e-01, -1.61399765e-02, -8.22415816e-02,\n",
       "        -8.23515240e-02, -3.93008702e-02,  6.77677559e-02, -8.44652027e-03,\n",
       "         1.95769370e-01, -7.72460121e-02, -8.06870005e-02,  3.56105576e-02,\n",
       "        -4.39662381e-03, -1.02849944e-01,  7.42931741e-02, -8.44652027e-03,\n",
       "        -8.48258703e-02, -6.33916638e-02, -1.15219790e-01,  3.42908260e-02,\n",
       "         1.57259142e-01, -5.99228828e-02, -7.72460121e-02, -5.48713823e-02,\n",
       "         2.58024204e-02,  9.97434198e-02, -8.44652027e-03, -5.09476858e-02,\n",
       "        -1.00824802e-01,  7.71376912e-02, -8.23515240e-02, -8.44652027e-03,\n",
       "        -5.09476858e-02, -1.03833361e-01, -7.72460121e-02, -2.15400747e-02,\n",
       "        -2.31671702e-02,  5.80577643e-02,  8.69909521e-02, -1.06021611e-01,\n",
       "        -1.00824802e-01, -4.20135521e-03,  9.64525462e-02, -7.72460121e-02,\n",
       "        -9.95837725e-02, -2.03665354e-02, -8.44652027e-03, -5.09476858e-02,\n",
       "         1.14737848e-01,  5.42814522e-02, -4.81620685e-02,  3.29633765e-02,\n",
       "        -6.49363874e-02, -1.02236588e-02, -7.72460121e-02,  8.90108302e-02,\n",
       "        -8.48258703e-02, -1.79362803e-02, -7.72460121e-02]),\n",
       " 2: array([-8.44652027e-03, -9.41988219e-02,  3.92997794e-02,  9.36258900e-02,\n",
       "        -8.44652027e-03, -2.53510242e-02, -7.72460121e-02, -8.06870005e-02,\n",
       "        -3.29501089e-02, -8.44652027e-03, -7.13213759e-02, -1.00824802e-01,\n",
       "         1.76172174e-02, -8.44652027e-03, -2.30391054e-02,  1.73572054e-01,\n",
       "         8.90108302e-02, -3.16011415e-02, -3.04256158e-02, -8.44652027e-03,\n",
       "         9.64525462e-02, -7.72460121e-02, -2.15400747e-02,  2.32367947e-03,\n",
       "        -4.29561966e-03,  5.85712654e-02, -1.46948268e-01,  6.54550653e-03,\n",
       "         3.08827416e-02, -1.00824802e-01, -3.93008702e-02, -1.08804453e-04,\n",
       "         5.42814522e-02, -3.93008702e-02, -3.23356000e-02,  1.57259142e-01,\n",
       "         3.49487413e-02,  8.90108302e-02,  3.06791760e-01,  7.42931741e-02,\n",
       "        -8.44652027e-03,  1.10385565e-01, -7.72460121e-02, -8.44652027e-03,\n",
       "        -2.30391054e-02,  4.35407762e-03,  8.17073265e-03,  7.68825049e-03,\n",
       "        -7.72460121e-02, -2.15400747e-02, -1.10869507e-02,  1.57259142e-01,\n",
       "         4.30337112e-02, -1.00824802e-01, -1.81331566e-02, -7.12281106e-02,\n",
       "        -1.00824802e-01, -1.15219790e-01, -7.12281106e-02,  4.70947542e-02,\n",
       "        -8.23515240e-02, -8.06870005e-02, -1.52743032e-02,  7.90254814e-02,\n",
       "         3.92997794e-02,  1.01972065e-01, -7.72460121e-02, -8.44652027e-03,\n",
       "        -2.30391054e-02,  1.35344340e-01,  8.17073265e-03, -5.09476858e-02,\n",
       "        -7.72460121e-02, -2.15400747e-02, -5.65832602e-02,  8.69909521e-02,\n",
       "        -5.09476858e-02, -1.61399765e-02,  1.10242111e-01, -1.00824802e-01,\n",
       "        -1.15219790e-01,  7.71376912e-02, -7.72460121e-02, -3.93008702e-02,\n",
       "         4.00457212e-02,  1.57259142e-01,  2.50010833e-02, -4.81620685e-02,\n",
       "        -8.44652027e-03, -5.09476858e-02,  6.54550653e-03,  8.90108302e-02,\n",
       "         1.49782755e-02, -8.36351124e-02,  3.74933486e-03, -3.93008702e-02,\n",
       "        -2.16739976e-02,  2.61424817e-02, -1.72803010e-02, -7.72460121e-02,\n",
       "         8.90108302e-02, -9.41988219e-02, -5.03679339e-02,  1.49870723e-01,\n",
       "         5.85712654e-02,  9.43101220e-02, -3.04256158e-02,  8.90108302e-02,\n",
       "        -8.48258703e-02, -7.72460121e-02, -8.06870005e-02, -4.22942746e-02,\n",
       "        -1.81450785e-02, -1.61399765e-02, -8.44652027e-03,  9.64525462e-02,\n",
       "        -3.04256158e-02,  8.90108302e-02, -1.38266895e-01, -7.72460121e-02,\n",
       "        -8.06870005e-02,  7.68825049e-03, -1.75608569e-02,  6.59751978e-02,\n",
       "        -5.09476858e-02,  3.76149935e-02,  6.72411849e-02,  8.90108302e-02,\n",
       "        -8.76019120e-02, -7.72460121e-02, -8.44652027e-03, -9.41988219e-02,\n",
       "         3.10560973e-02,  1.57259142e-01,  3.06791760e-01,  3.18589025e-01,\n",
       "         1.49870723e-01,  5.85712654e-02,  9.43101220e-02, -7.53247701e-02,\n",
       "        -3.04256158e-02,  7.68825049e-03,  1.57259142e-01,  2.89562658e-02,\n",
       "         1.16939062e-01,  5.85712654e-02,  6.30171387e-02,  1.52828861e-01,\n",
       "        -4.96635684e-02,  5.85712654e-02,  4.12776526e-02, -7.72460121e-02,\n",
       "        -8.44652027e-03, -6.47040040e-02,  1.43834350e-01,  8.66409922e-02,\n",
       "         1.16862762e-01,  7.53796170e-02,  5.42814522e-02, -8.06870005e-02,\n",
       "        -2.42449200e-02,  1.74861116e-02,  6.31310518e-02,  1.94874623e-02,\n",
       "        -1.00824802e-01,  2.89562658e-02,  8.03239196e-02,  1.16939062e-01,\n",
       "        -7.72460121e-02, -2.15400747e-02,  1.12909308e-01, -8.06870005e-02,\n",
       "        -8.99285853e-02,  5.75699785e-02, -6.45039116e-02,  1.94874623e-02,\n",
       "        -7.72460121e-02, -1.15219790e-01, -2.15400747e-02,  1.32535451e-01,\n",
       "        -1.00824802e-01,  5.80577643e-02,  8.69909521e-02, -7.90700279e-02,\n",
       "        -1.06021611e-01, -1.00824802e-01,  3.65731008e-02, -4.20135521e-03,\n",
       "         9.64525462e-02, -7.72460121e-02,  3.29633765e-02, -4.30226401e-02,\n",
       "         5.21790286e-02, -5.35917612e-02,  1.58293340e-01, -1.05561470e-01,\n",
       "         5.49211828e-02, -5.49275113e-02,  5.99459109e-02, -9.95837725e-02,\n",
       "        -1.00824802e-01, -5.48713823e-02, -8.44652027e-03, -1.79362803e-02,\n",
       "         3.92997794e-02,  1.58293340e-01, -9.95837725e-02,  4.06330019e-01,\n",
       "         3.18589025e-01,  1.49870723e-01, -5.48713823e-02, -3.04256158e-02,\n",
       "        -8.44652027e-03, -4.30226401e-02,  5.21790286e-02, -4.57273500e-02,\n",
       "        -8.48258703e-02, -7.72460121e-02, -3.93008702e-02,  1.58955676e-01,\n",
       "         5.42814522e-02, -8.44652027e-03,  5.01977515e-02,  4.25961143e-03,\n",
       "        -3.04256158e-02,  5.85712654e-02, -1.08376037e-02, -9.95837725e-02,\n",
       "         1.50932436e-02,  1.00064385e-02, -6.45039116e-02,  1.57259142e-01,\n",
       "        -2.06143502e-02, -4.96635684e-02,  8.89534809e-02, -1.00824802e-01,\n",
       "         5.85712654e-02,  6.30171387e-02, -7.72460121e-02, -3.93008702e-02,\n",
       "         1.30761148e-01,  1.57259142e-01,  1.79085936e-01,  5.66451065e-04,\n",
       "        -1.00824802e-01, -3.93008702e-02,  1.27391716e-01,  8.36842721e-02,\n",
       "         1.49870723e-01,  8.44116975e-02,  7.90254814e-02,  6.87257506e-02,\n",
       "         1.41416173e-01, -4.96635684e-02, -7.72460121e-02, -5.48713823e-02,\n",
       "         5.42723240e-02,  2.61424817e-02,  6.79014516e-03,  1.57259142e-01,\n",
       "         3.06791760e-01,  3.18589025e-01, -1.00824802e-01,  1.58955676e-01,\n",
       "         5.42814522e-02, -8.06870005e-02, -1.22221508e-02,  3.85666841e-02,\n",
       "         3.29633765e-02, -3.28022384e-02,  1.45832068e-02, -8.06870005e-02,\n",
       "        -1.45018772e-02, -8.99285853e-02,  5.75699785e-02, -6.45039116e-02,\n",
       "         1.94874623e-02, -7.72460121e-02, -8.06870005e-02,  3.56105576e-02,\n",
       "        -5.09476858e-02, -4.81620685e-02, -5.48713823e-02,  7.71376912e-02,\n",
       "        -8.44652027e-03, -8.48258703e-02, -1.22652049e-02, -2.15400747e-02,\n",
       "        -4.98426216e-02,  6.54550653e-03,  8.90108302e-02, -2.25564554e-02,\n",
       "         1.57259142e-01, -1.48364407e-02,  3.29633765e-02, -1.00824802e-01,\n",
       "         4.81347208e-02, -9.95837725e-02,  5.42814522e-02, -2.15400747e-02,\n",
       "         1.30761148e-01,  8.69909521e-02, -7.90700279e-02, -1.06021611e-01,\n",
       "        -1.00824802e-01, -1.07028718e-01, -4.20135521e-03,  9.64525462e-02,\n",
       "        -7.72460121e-02,  1.14737848e-01, -2.15400747e-02,  4.60034768e-02,\n",
       "         1.16939062e-01, -9.95837725e-02, -2.03665354e-02,  5.85712654e-02,\n",
       "        -5.09476858e-02, -4.81620685e-02, -3.93008702e-02, -2.16739976e-02,\n",
       "         2.61424817e-02, -1.76243517e-02,  3.29633765e-02, -7.72460121e-02,\n",
       "        -9.95837725e-02, -3.82502642e-02, -1.61399765e-02,  8.90108302e-02,\n",
       "        -8.48258703e-02, -1.00824802e-01,  6.87257506e-02, -1.13370881e-02,\n",
       "         4.93319407e-02, -3.93008702e-02,  6.87257506e-02, -1.95502399e-02,\n",
       "        -4.96635684e-02,  4.06330019e-01,  3.18589025e-01,  1.49870723e-01,\n",
       "         5.85712654e-02,  9.43101220e-02, -7.72460121e-02, -7.53247701e-02,\n",
       "         5.85712654e-02,  9.43101220e-02, -3.82502642e-02, -1.00824802e-01,\n",
       "        -9.95837725e-02,  9.09555510e-02,  7.42931741e-02, -8.44652027e-03,\n",
       "        -3.01454471e-02, -7.73729442e-02,  8.90108302e-02,  1.00064385e-02,\n",
       "        -2.19640866e-02, -3.50169763e-02, -3.04256158e-02, -8.44652027e-03,\n",
       "         9.64525462e-02,  8.30323183e-03,  8.70034817e-02,  3.29633765e-02,\n",
       "         3.92997794e-02,  8.90108302e-02, -1.38266895e-01, -3.50169763e-02,\n",
       "        -7.72460121e-02, -8.06870005e-02, -1.61872243e-02, -2.07582320e-02,\n",
       "        -1.00824802e-01,  1.14737848e-01,  8.90108302e-02, -1.13388473e-02,\n",
       "        -9.95837725e-02,  1.41925062e-01, -3.93008702e-02,  1.30934902e-01,\n",
       "        -8.06870005e-02, -2.42449200e-02,  3.06791760e-01,  3.18589025e-01,\n",
       "         4.93319407e-02, -3.93008702e-02,  1.30761148e-01,  1.57259142e-01,\n",
       "        -2.06143502e-02, -4.96635684e-02, -3.28022384e-02, -1.35415598e-01,\n",
       "        -1.00824802e-01,  1.58955676e-01, -8.44652027e-03,  1.10385565e-01,\n",
       "         6.87257506e-02,  1.31406349e-01,  3.18589025e-01,  3.85068473e-03,\n",
       "        -3.98887982e-03,  8.60134314e-02,  5.85712654e-02, -6.45039116e-02,\n",
       "         1.57259142e-01, -2.42516915e-02,  1.10242111e-01,  1.57259142e-01,\n",
       "        -2.06143502e-02,  6.72411849e-02, -3.98887982e-03, -4.96635684e-02,\n",
       "        -3.28022384e-02,  6.72411849e-02, -3.93008702e-02, -1.45018772e-02,\n",
       "        -1.76243517e-02, -7.72460121e-02, -7.53247701e-02,  2.38747455e-02,\n",
       "         1.45832068e-02,  1.92122707e-02, -3.66146397e-02,  1.44964198e-02,\n",
       "         8.90108302e-02,  1.20559715e-01,  3.76149935e-02,  6.72411849e-02,\n",
       "         1.15353553e-01, -6.62783077e-02, -1.21747655e-01,  5.75699785e-02,\n",
       "        -4.81620685e-02, -9.95837725e-02,  5.42723240e-02,  2.61424817e-02,\n",
       "        -3.41387889e-02,  3.62821938e-03, -7.72460121e-02, -8.44652027e-03,\n",
       "        -2.30391054e-02,  1.17613776e-01, -1.00824802e-01, -8.06870005e-02,\n",
       "        -2.70882035e-02,  7.68825049e-03,  1.14737848e-01,  1.37306298e-01,\n",
       "        -8.06870005e-02, -5.96293198e-02, -4.30226401e-02, -6.70375004e-02,\n",
       "        -6.85218504e-02, -8.44652027e-03, -1.08023819e-01, -3.04256158e-02,\n",
       "        -5.32349717e-02,  8.60134314e-02,  2.87076104e-03, -8.06870005e-02,\n",
       "        -3.56147367e-02, -5.57108108e-02,  2.87076104e-03, -1.00824802e-01,\n",
       "         8.80711178e-02,  1.16939062e-01, -5.09476858e-02, -4.06303294e-02,\n",
       "        -9.95837725e-02,  6.52473229e-02,  8.90108302e-02, -8.76019120e-02,\n",
       "        -1.00824802e-01, -7.53247701e-02,  2.38747455e-02, -8.44652027e-03,\n",
       "        -2.30391054e-02,  1.58293340e-01, -8.44652027e-03, -8.07070223e-02,\n",
       "        -8.91907377e-02,  3.74933486e-03, -8.44652027e-03, -2.30391054e-02,\n",
       "         6.34915015e-02,  6.87257506e-02,  7.91543544e-03, -7.72460121e-02,\n",
       "        -8.44652027e-03, -5.09476858e-02, -3.82502642e-02,  8.30323183e-03,\n",
       "         3.75857642e-02, -7.53247701e-02, -6.05977891e-02, -2.10980959e-02,\n",
       "         3.22959978e-02,  1.57259142e-01, -8.44652027e-03, -8.93922536e-03,\n",
       "        -6.10345831e-02, -9.95837725e-02, -1.81450785e-02, -9.48101571e-02,\n",
       "         6.04089180e-02,  5.85712654e-02, -4.09754233e-02, -1.00824802e-01,\n",
       "         1.54088166e-01, -1.61399765e-02,  8.90108302e-02,  8.72617028e-03,\n",
       "        -7.72460121e-02, -7.53247701e-02,  1.37306298e-01,  5.42814522e-02,\n",
       "        -2.15400747e-02, -1.22221508e-02,  2.61424817e-02, -3.30422008e-03,\n",
       "        -9.95837725e-02,  1.57259142e-01,  1.20534067e-01,  1.26287408e-01,\n",
       "         8.69909521e-02, -5.09476858e-02, -1.00824802e-01,  3.97538138e-02,\n",
       "         3.29633765e-02, -1.61399765e-02, -9.95837725e-02,  1.32645518e-01,\n",
       "         1.10242111e-01, -2.15400747e-02,  1.30761148e-01,  8.69909521e-02,\n",
       "        -1.06021611e-01, -1.00824802e-01, -1.07028718e-01, -4.20135521e-03,\n",
       "         9.64525462e-02, -1.22652049e-02, -2.31671702e-02,  1.32645518e-01,\n",
       "        -9.95837725e-02,  1.57259142e-01,  6.31310518e-02,  4.70947542e-02,\n",
       "         7.42931741e-02,  8.69909521e-02, -7.72460121e-02, -2.15400747e-02,\n",
       "         1.29379761e-02,  1.16939062e-01, -1.00824802e-01, -9.95837725e-02,\n",
       "         1.14737848e-01,  8.90108302e-02, -1.13388473e-02,  1.57960666e-02,\n",
       "         7.05615597e-02,  5.85712654e-02, -8.76019120e-02,  3.74933486e-03,\n",
       "        -3.93008702e-02,  1.30934902e-01,  6.87257506e-02,  2.61424817e-02,\n",
       "         3.55823373e-02,  1.16927915e-02, -1.00824802e-01, -2.53226258e-02,\n",
       "         1.14431051e-01,  3.29633765e-02, -3.20328259e-02, -8.36351124e-02,\n",
       "        -6.51296572e-02,  8.12131838e-02, -7.72460121e-02, -9.95837725e-02,\n",
       "        -1.00824802e-01, -7.53247701e-02, -1.61872243e-02,  8.90108302e-02,\n",
       "        -9.79155236e-02, -7.72460121e-02, -9.95837725e-02,  8.15710135e-02,\n",
       "        -7.53247701e-02,  1.01587236e-01,  1.57259142e-01,  8.90108302e-02,\n",
       "        -7.13213759e-02,  1.57259142e-01, -5.04267602e-02,  3.18589025e-01,\n",
       "        -7.72460121e-02, -9.95837725e-02,  2.38747455e-02, -8.44652027e-03,\n",
       "        -2.55082496e-02,  1.73572054e-01,  8.90108302e-02, -3.16011415e-02,\n",
       "        -3.04256158e-02, -8.44652027e-03,  9.64525462e-02,  3.74933486e-03,\n",
       "        -2.15400747e-02,  7.91588748e-02,  1.57259142e-01,  2.87076104e-03,\n",
       "        -7.72460121e-02, -1.02008108e-01, -8.06870005e-02, -2.58807431e-02,\n",
       "        -2.31705077e-02,  1.90165248e-01, -7.53247701e-02,  1.76172174e-02,\n",
       "         1.10242111e-01, -4.29561966e-03, -4.71281780e-02, -2.10980959e-02,\n",
       "         3.08827416e-02, -7.72460121e-02, -1.15219790e-01, -9.95837725e-02,\n",
       "         9.43042982e-04,  8.69909521e-02,  1.51838494e-01,  7.53796170e-02,\n",
       "         5.42814522e-02, -3.93008702e-02,  1.30761148e-01,  1.57259142e-01,\n",
       "         3.06791760e-01,  3.18589025e-01, -7.72460121e-02, -3.93008702e-02,\n",
       "         7.46581503e-02,  5.42814522e-02, -3.93008702e-02,  6.87257506e-02,\n",
       "         7.31765944e-02,  1.57259142e-01, -1.67606506e-02,  8.03239196e-02,\n",
       "        -2.90871680e-02,  1.57259142e-01,  2.77845128e-02, -1.61399765e-02,\n",
       "        -3.28022384e-02, -1.00824802e-01,  5.42814522e-02, -3.93008702e-02,\n",
       "         1.27391716e-01, -1.76243517e-02, -3.93008702e-02, -1.22221508e-02,\n",
       "        -4.30226401e-02, -6.70375004e-02,  1.44964198e-02,  1.49870723e-01,\n",
       "         8.69909521e-02,  5.93967057e-02, -7.72460121e-02,  1.14737848e-01,\n",
       "        -3.93008702e-02,  2.83503606e-01, -8.44652027e-03, -3.78775034e-02,\n",
       "        -8.44652027e-03, -2.55082496e-02,  1.17613776e-01,  1.01587236e-01,\n",
       "        -1.00824802e-01,  2.38747455e-02,  2.87076104e-03,  1.45832068e-02,\n",
       "        -8.06870005e-02, -4.30226401e-02, -1.05361266e-01, -1.76243517e-02,\n",
       "         9.83145196e-02, -7.72460121e-02, -9.95837725e-02,  2.06372479e-02,\n",
       "         8.90108302e-02, -8.76019120e-02, -1.00824802e-01, -7.53247701e-02,\n",
       "         2.06372479e-02,  8.90108302e-02, -8.07070223e-02, -7.72460121e-02,\n",
       "         1.14737848e-01, -8.44652027e-03, -2.55082496e-02,  5.80026785e-02,\n",
       "        -7.53247701e-02,  4.86074772e-02,  1.07337298e-01, -1.00824802e-01,\n",
       "         9.69020879e-02, -9.95837725e-02,  5.42814522e-02,  8.17073265e-03,\n",
       "         4.25961143e-03,  4.63721838e-02, -4.30226401e-02, -6.70375004e-02,\n",
       "        -3.65118578e-02,  8.90108302e-02,  5.33253570e-01, -7.72460121e-02,\n",
       "        -2.15400747e-02,  7.46581503e-02,  5.42814522e-02, -8.06870005e-02,\n",
       "        -1.22221508e-02,  5.54232419e-02, -6.62783077e-02, -1.21747655e-01,\n",
       "         5.75699785e-02,  1.45832068e-02, -3.93008702e-02, -4.30226401e-02,\n",
       "         5.21790286e-02,  1.41416173e-01,  1.57259142e-01,  1.44964198e-02,\n",
       "        -4.75425692e-02, -7.72460121e-02,  6.72411849e-02, -2.15400747e-02,\n",
       "        -3.46349104e-03, -1.81331566e-02, -1.61399765e-02, -8.44652027e-03,\n",
       "        -7.13213759e-02, -5.55712253e-02,  1.01587236e-01, -4.81620685e-02,\n",
       "        -8.06870005e-02,  3.18601584e-02,  7.90254814e-02, -4.30226401e-02,\n",
       "         5.21790286e-02,  1.01972065e-01, -6.51296572e-02, -8.06870005e-02,\n",
       "        -5.55712253e-02,  4.70947542e-02, -7.72460121e-02, -9.95837725e-02,\n",
       "         6.87257506e-02,  1.74231424e-01,  5.42814522e-02, -3.93008702e-02,\n",
       "         1.30761148e-01, -8.44652027e-03,  5.33253570e-01, -1.00824802e-01,\n",
       "        -8.44652027e-03, -2.55082496e-02,  1.17613776e-01,  1.01587236e-01,\n",
       "         1.49870723e-01, -8.44652027e-03, -5.09476858e-02, -7.72460121e-02,\n",
       "        -2.15400747e-02,  2.38747455e-02,  1.45832068e-02,  1.92122707e-02,\n",
       "        -4.30226401e-02,  5.21790286e-02,  9.83145196e-02,  7.30240497e-02,\n",
       "         5.42814522e-02, -8.06870005e-02, -1.45018772e-02, -1.76243517e-02,\n",
       "        -4.81620685e-02, -8.06870005e-02,  1.57377210e-01,  1.57259142e-01,\n",
       "        -2.10980959e-02,  9.83145196e-02, -7.72460121e-02,  1.14737848e-01,\n",
       "        -8.44652027e-03, -2.55082496e-02,  5.80026785e-02, -7.53247701e-02,\n",
       "         1.92804756e-02, -1.05967357e-02,  8.60134314e-02, -8.44652027e-03,\n",
       "        -8.07070223e-02, -3.04256158e-02, -5.32349717e-02,  8.60134314e-02,\n",
       "        -9.95837725e-02, -1.00824802e-01,  9.69020879e-02,  1.10242111e-01,\n",
       "         5.42814522e-02, -2.15400747e-02,  1.30761148e-01,  8.69909521e-02,\n",
       "        -7.90700279e-02, -1.06021611e-01, -1.00824802e-01,  3.65731008e-02,\n",
       "        -4.20135521e-03,  9.64525462e-02, -7.72460121e-02,  1.14737848e-01,\n",
       "         7.53796170e-02,  8.55997601e-02, -2.15400747e-02,  1.29379761e-02,\n",
       "         1.16286199e-01, -1.00824802e-01, -8.44652027e-03, -7.13213759e-02,\n",
       "        -4.30226401e-02,  5.21790286e-02, -5.70088208e-02, -3.52257992e-03,\n",
       "         1.16286199e-01,  8.90108302e-02,  3.94144328e-02, -5.08851038e-02,\n",
       "        -7.72460121e-02, -9.95837725e-02, -1.59088878e-02,  8.66409922e-02,\n",
       "         5.85712654e-02, -8.76019120e-02, -1.00824802e-01,  7.36590830e-02,\n",
       "         5.42814522e-02,  3.29633765e-02,  9.12269713e-02,  8.90108302e-02,\n",
       "         1.49782755e-02, -8.36351124e-02, -7.72460121e-02, -3.93008702e-02,\n",
       "        -2.53226258e-02,  1.45832068e-02,  3.29633765e-02, -4.30226401e-02,\n",
       "         5.21790286e-02,  1.51797066e-01,  1.57259142e-01,  8.44116975e-02,\n",
       "         5.42814522e-02,  2.30690811e-02,  2.51686853e-03,  1.45832068e-02,\n",
       "         3.29633765e-02, -4.30226401e-02,  5.21790286e-02, -8.44652027e-03,\n",
       "        -8.48258703e-02, -4.30226401e-02,  5.21790286e-02,  1.54690747e-01,\n",
       "        -7.72460121e-02])}"
      ]
     },
     "execution_count": 30,
     "metadata": {},
     "output_type": "execute_result"
    }
   ],
   "source": [
    "soc_cors[11]"
   ]
  },
  {
   "cell_type": "code",
   "execution_count": null,
   "metadata": {},
   "outputs": [],
   "source": []
  }
 ],
 "metadata": {
  "kernelspec": {
   "display_name": "Python 3",
   "language": "python",
   "name": "python3"
  },
  "language_info": {
   "codemirror_mode": {
    "name": "ipython",
    "version": 3
   },
   "file_extension": ".py",
   "mimetype": "text/x-python",
   "name": "python",
   "nbconvert_exporter": "python",
   "pygments_lexer": "ipython3",
   "version": "3.8.5"
  }
 },
 "nbformat": 4,
 "nbformat_minor": 2
}
