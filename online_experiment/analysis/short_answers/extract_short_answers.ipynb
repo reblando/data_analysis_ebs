{
 "cells": [
  {
   "cell_type": "code",
   "execution_count": 1,
   "metadata": {},
   "outputs": [
    {
     "data": {
      "application/javascript": [
       "IPython.notebook.set_autosave_interval(5000)"
      ]
     },
     "metadata": {},
     "output_type": "display_data"
    },
    {
     "name": "stdout",
     "output_type": "stream",
     "text": [
      "Autosaving every 5 seconds\n"
     ]
    }
   ],
   "source": [
    "import pandas as pd\n",
    "import numpy as np\n",
    "import plotly.graph_objs as go\n",
    "import plotly.plotly as py\n",
    "import plotly\n",
    "import os\n",
    "import glob\n",
    "import math\n",
    "import statistics\n",
    "import matplotlib.pyplot as plt\n",
    "import seaborn as sns\n",
    "import pickle\n",
    "import copy\n",
    "import csv\n",
    "from datetime import date\n",
    "\n",
    "%autosave 5"
   ]
  },
  {
   "cell_type": "markdown",
   "metadata": {},
   "source": [
    "# Organizing Shorts Answers by Story\n",
    "\n",
    "### i. importing data_dict"
   ]
  },
  {
   "cell_type": "code",
   "execution_count": 2,
   "metadata": {},
   "outputs": [],
   "source": [
    "filename = '/Users/alexreblando/Documents/GitHub/data_analysis_ebs/online_experiment/analysis/parsing_log_file/pickle/data_dict_b4_b5_b6_b7_b8.p'\n",
    "data_dict = pickle.load( open( filename, \"rb\" ) )"
   ]
  },
  {
   "cell_type": "markdown",
   "metadata": {},
   "source": [
    "### ii. title of the output"
   ]
  },
  {
   "cell_type": "code",
   "execution_count": 3,
   "metadata": {},
   "outputs": [],
   "source": [
    "folder_name = 'us_b4_b5_b6_b7_b8/'"
   ]
  },
  {
   "cell_type": "code",
   "execution_count": 6,
   "metadata": {},
   "outputs": [],
   "source": [
    "del data_dict['/Users/alexreblando/Documents/GitHub/data_analysis_ebs/online_experiment/data/finalver_b6/76/6_1_online_exp_2020-10-20_10h04.26.275']"
   ]
  },
  {
   "cell_type": "markdown",
   "metadata": {},
   "source": [
    "### ii. figuring out which files need sa_order edited"
   ]
  },
  {
   "cell_type": "code",
   "execution_count": 8,
   "metadata": {},
   "outputs": [],
   "source": [
    "for key in data_dict:\n",
    "    if isinstance(data_dict[key]['sa_order'].iloc[0], int) or isinstance(data_dict[key]['sa_order'].iloc[0], np.int64):\n",
    "        pass\n",
    "    else:\n",
    "        print(key)\n",
    "        print('p_type', data_dict[key]['p_type'].iloc[0])\n",
    "        print('persp', data_dict[key]['persp'].iloc[0])\n",
    "        print(data_dict[key]['sa_order'].iloc[0])\n",
    "\n",
    "#type(data_dict['/Users/alexreblando/Documents/GitHub/data_analysis_ebs/online_experiment/pilot1/7/PARTICIPANT_1_online_exp_2020-05-20_17h03.06.828']['sa_order'].iloc[0])"
   ]
  },
  {
   "cell_type": "markdown",
   "metadata": {},
   "source": [
    "### iii. Hard-coding sa_order for participants of the first two pilots which did not include these variable\n",
    "# (only run when pilot 1 and 2 data are included)"
   ]
  },
  {
   "cell_type": "code",
   "execution_count": 25,
   "metadata": {},
   "outputs": [],
   "source": [
    "data_dict['/Users/alexreblando/Documents/GitHub/data_analysis_ebs/online_experiment/pilot1/7/PARTICIPANT_1_online_exp_2020-05-06_20h00.18.643']['sa_order'] = 0\n",
    "\n",
    "data_dict['/Users/alexreblando/Documents/GitHub/data_analysis_ebs/online_experiment/pilot1/7/PARTICIPANT_1_online_exp_2020-05-07_00h46.51.319']['sa_order'] = 0\n",
    "\n",
    "data_dict['/Users/alexreblando/Documents/GitHub/data_analysis_ebs/online_experiment/pilot1/7/PARTICIPANT_1_online_exp_2020-05-07_23h36.54.796']['sa_order'] = 1\n",
    "\n",
    "data_dict['/Users/alexreblando/Documents/GitHub/data_analysis_ebs/online_experiment/pilot1/7/PARTICIPANT_1_online_exp_2020-05-07_23h40.02.268']['sa_order'] = 1\n",
    "\n",
    "data_dict['/Users/alexreblando/Documents/GitHub/data_analysis_ebs/online_experiment/pilot1/7/PARTICIPANT_1_online_exp_2020-05-09_01h01.48.508']['sa_order'] = 1\n",
    "\n",
    "data_dict['/Users/alexreblando/Documents/GitHub/data_analysis_ebs/online_experiment/pilot1/7/PARTICIPANT_1_online_exp_2020-05-09_01h05.05.369']['sa_order'] = 0\n",
    "\n",
    "data_dict['/Users/alexreblando/Documents/GitHub/data_analysis_ebs/online_experiment/pilot1/7/PARTICIPANT_1_online_exp_2020-05-09_01h54.27.962']['sa_order'] = 1\n",
    "\n",
    "data_dict['/Users/alexreblando/Documents/GitHub/data_analysis_ebs/online_experiment/pilot2/8/PARTICIPANT_1_online_exp_2020-05-11_12h52.50.131']['sa_order'] = 1\n",
    "\n",
    "data_dict['/Users/alexreblando/Documents/GitHub/data_analysis_ebs/online_experiment/pilot2/8/PARTICIPANT_1_online_exp_2020-05-11_20h42.51.597']['sa_order'] = 1\n",
    "\n",
    "data_dict['/Users/alexreblando/Documents/GitHub/data_analysis_ebs/online_experiment/pilot2/8/PARTICIPANT_1_online_exp_2020-05-11_20h43.08.493']['sa_order'] = 1\n",
    "\n",
    "data_dict['/Users/alexreblando/Documents/GitHub/data_analysis_ebs/online_experiment/pilot2/8/PARTICIPANT_1_online_exp_2020-05-12_19h57.55.241']['sa_order'] = 0\n",
    "\n",
    "data_dict['/Users/alexreblando/Documents/GitHub/data_analysis_ebs/online_experiment/pilot2/8/PARTICIPANT_1_online_exp_2020-05-19_15h04.13.258']['sa_order'] = 0\n",
    "\n",
    "data_dict['/Users/alexreblando/Documents/GitHub/data_analysis_ebs/online_experiment/pilot2/8/PARTICIPANT_1_online_exp_2020-05-19_19h16.09.618']['sa_order'] = 1\n",
    "\n",
    "data_dict['/Users/alexreblando/Documents/GitHub/data_analysis_ebs/online_experiment/pilot2/8/PARTICIPANT_1_online_exp_2020-05-19_19h17.04.991']['sa_order'] = 0\n",
    "\n",
    "data_dict['/Users/alexreblando/Documents/GitHub/data_analysis_ebs/online_experiment/pilot2/8/PARTICIPANT_1_online_exp_2020-05-19_19h18.58.644']['sa_order'] = 1"
   ]
  },
  {
   "cell_type": "markdown",
   "metadata": {},
   "source": [
    "## A. Organize short answers by story"
   ]
  },
  {
   "cell_type": "code",
   "execution_count": 9,
   "metadata": {},
   "outputs": [],
   "source": [
    "#create a dictionary for the answers to the 8 questions for each story, not parsing the questions \n",
    "#by primed or unprimed\n",
    "\n",
    "#date\n",
    "today = str(date.today())\n",
    "\n",
    "question_answers = dict()\n",
    "\n",
    "for key in data_dict:\n",
    "    #get the short answer order\n",
    "    sa_order = data_dict[key]['sa_order'].iloc[0]\n",
    "    story = data_dict[key]['story'].iloc[0]\n",
    "    persp = data_dict[key]['persp'].iloc[0]\n",
    "    p_id = data_dict[key]['prolific_id'].iloc[0]\n",
    "    p_type = data_dict[key]['p_type'].iloc[0]\n",
    "    \n",
    "    a1 = data_dict[key]['A1'].iloc[0]\n",
    "    a2 = data_dict[key]['A2'].iloc[0]\n",
    "    a3 = data_dict[key]['A3'].iloc[0]\n",
    "    a4 = data_dict[key]['A4'].iloc[0]\n",
    "    a5 = data_dict[key]['A5'].iloc[0]\n",
    "    a6 = data_dict[key]['A6'].iloc[0]\n",
    "    a7 = data_dict[key]['A7'].iloc[0]\n",
    "    a8 = data_dict[key]['A8'].iloc[0]\n",
    "    \n",
    "    #location primed\n",
    "    if persp < 9:\n",
    "        if sa_order == 0:\n",
    "            new_questions = [today, p_id, story, persp, p_type, a1, a2, a3, a4, a5, a6, a7, a8]\n",
    "        else:\n",
    "            new_questions = [today, p_id, story, persp, p_type, a5, a6, a7, a8, a1, a2, a3, a4]\n",
    "    else:\n",
    "        if sa_order == 1:\n",
    "            new_questions = [today, p_id, story, persp, p_type, a1, a2, a3, a4, a5, a6, a7, a8]\n",
    "        else:\n",
    "            new_questions = [today, p_id, story, persp, p_type, a5, a6, a7, a8, a1, a2, a3, a4]\n",
    "\n",
    "    #put all of the questions into dictionaries organized by story\n",
    "    if story in question_answers:    \n",
    "        question_answers[story] = np.vstack((question_answers[story], new_questions))\n",
    "    else:\n",
    "        question_answers[story] = new_questions"
   ]
  },
  {
   "cell_type": "markdown",
   "metadata": {},
   "source": [
    "## B. Export each story answers to its own CSV file"
   ]
  },
  {
   "cell_type": "code",
   "execution_count": 11,
   "metadata": {},
   "outputs": [],
   "source": [
    "for key in question_answers:\n",
    "    title = folder_name + str(key) + '_shortanswers.csv'\n",
    "    this_array = question_answers[key]\n",
    "    with open(title, 'w') as csvfile:\n",
    "        fieldnames = ['date', 'prolific_id', 'story', 'persp', 'p_type', '1','q1', '2','q2', '3','q3', '4','q4','5','q5', '6','q6','7','q7','8','q8']\n",
    "        writer = csv.DictWriter(csvfile, fieldnames=fieldnames)\n",
    "        writer.writeheader()\n",
    "        #for stories w one participant:\n",
    "        if isinstance(this_array, list):\n",
    "            a = this_array[0]\n",
    "            b = this_array[1]\n",
    "            c = this_array[2]\n",
    "            d = this_array[3]\n",
    "            e = this_array[4]\n",
    "            f = this_array[5]\n",
    "            g = this_array[6]\n",
    "            h = this_array[7]\n",
    "            j = this_array[8]\n",
    "            k = this_array[9]\n",
    "            l = this_array[10]\n",
    "            m = this_array[11]\n",
    "            n = this_array[12]\n",
    "            writer.writerow({'date': a, 'prolific_id': b, 'story': c, 'persp': d, 'p_type': e, '1': f, 'q1':'', '2': g,'q2':'',\n",
    "                         '3': h, 'q3':'', '4':j, 'q4':'', '5':k, 'q5':'', '6':l, 'q6':'', '7':m, 'q7':'', '8':n, 'q8':''})\n",
    "        else:\n",
    "            for i in range(len(this_array)):\n",
    "                a = this_array[i][0]\n",
    "                b = this_array[i][1]\n",
    "                c = this_array[i][2]\n",
    "                d = this_array[i][3]\n",
    "                e = this_array[i][4]\n",
    "                f = this_array[i][5]\n",
    "                g = this_array[i][6]\n",
    "                h = this_array[i][7]\n",
    "                j = this_array[i][8]\n",
    "                k = this_array[i][9]\n",
    "                l = this_array[i][10]\n",
    "                m = this_array[i][11]\n",
    "                n = this_array[i][12]\n",
    "                writer.writerow({'date': a, 'prolific_id': b, 'story': c, 'persp': d, 'p_type': e, '1': f, 'q1':'', '2': g,'q2':'',\n",
    "                         '3': h, 'q3':'', '4':j, 'q4':'', '5':k, 'q5':'', '6':l, 'q6':'', '7':m, 'q7':'', '8':n, 'q8':''})\n"
   ]
  },
  {
   "cell_type": "code",
   "execution_count": null,
   "metadata": {},
   "outputs": [],
   "source": []
  },
  {
   "cell_type": "code",
   "execution_count": null,
   "metadata": {},
   "outputs": [],
   "source": []
  }
 ],
 "metadata": {
  "kernelspec": {
   "display_name": "Python 3",
   "language": "python",
   "name": "python3"
  },
  "language_info": {
   "codemirror_mode": {
    "name": "ipython",
    "version": 3
   },
   "file_extension": ".py",
   "mimetype": "text/x-python",
   "name": "python",
   "nbconvert_exporter": "python",
   "pygments_lexer": "ipython3",
   "version": "3.8.5"
  }
 },
 "nbformat": 4,
 "nbformat_minor": 2
}
