{
 "cells": [
  {
   "cell_type": "code",
   "execution_count": 1,
   "metadata": {},
   "outputs": [
    {
     "data": {
      "application/javascript": [
       "IPython.notebook.set_autosave_interval(5000)"
      ]
     },
     "metadata": {},
     "output_type": "display_data"
    },
    {
     "name": "stdout",
     "output_type": "stream",
     "text": [
      "Autosaving every 5 seconds\n"
     ]
    }
   ],
   "source": [
    "import re\n",
    "import codecs\n",
    "import glob\n",
    "import csv\n",
    "import pandas as pd\n",
    "import numpy as np\n",
    "import pickle\n",
    "import matplotlib.pyplot as plt\n",
    "import math\n",
    "# This import registers the 3D projection, but is otherwise unused.\n",
    "from mpl_toolkits.mplot3d import Axes3D  # noqa: F401 unused import\n",
    "%autosave 5"
   ]
  },
  {
   "cell_type": "markdown",
   "metadata": {},
   "source": [
    "# Create a Summary Dashboard of the stories run & combinations of stories and perspectives\n",
    "\n",
    "#### i. import data_dict"
   ]
  },
  {
   "cell_type": "code",
   "execution_count": 3,
   "metadata": {},
   "outputs": [],
   "source": [
    "filename = '/Users/alexreblando/Documents/GitHub/data_analysis_ebs/online_experiment/analysis/parsing_log_file/pickle/data_dict_b4.p'\n",
    "data_dict = pickle.load( open( filename, \"rb\" ) )"
   ]
  },
  {
   "cell_type": "markdown",
   "metadata": {},
   "source": [
    "## I. Distribution of Stories\n",
    "\n",
    "### A. List the stories"
   ]
  },
  {
   "cell_type": "code",
   "execution_count": 4,
   "metadata": {},
   "outputs": [],
   "source": [
    "stories = []\n",
    "\n",
    "for key in data_dict:\n",
    "    stories.append(data_dict[key]['story'].iloc[0])"
   ]
  },
  {
   "cell_type": "markdown",
   "metadata": {},
   "source": [
    "### B. Count the stories"
   ]
  },
  {
   "cell_type": "code",
   "execution_count": 5,
   "metadata": {},
   "outputs": [],
   "source": [
    "all_stories = [11, 12, 13, 14, 21, 22, 23, 24, 31, 32, 33, 34, 41, 42, 43, 44]\n",
    "story_count = []\n",
    "\n",
    "for i in all_stories:\n",
    "    story_count.append(stories.count(i))"
   ]
  },
  {
   "cell_type": "markdown",
   "metadata": {},
   "source": [
    "### C. Plot the distribution"
   ]
  },
  {
   "cell_type": "code",
   "execution_count": 6,
   "metadata": {},
   "outputs": [
    {
     "data": {
      "image/png": "[encoded data removed]",
      "text/plain": [
       "<Figure size 1440x720 with 1 Axes>"
      ]
     },
     "metadata": {
      "needs_background": "light"
     },
     "output_type": "display_data"
    }
   ],
   "source": [
    "plt.figure(figsize=(20,10))\n",
    "yint = range(0, math.ceil(max(story_count))+1)\n",
    "x = np.arange(16)\n",
    "plt.bar(x, story_count)\n",
    "plt.yticks(yint)\n",
    "_ = plt.xticks(x, all_stories)"
   ]
  },
  {
   "cell_type": "markdown",
   "metadata": {},
   "source": [
    "## II. Distribution of the Combinations of Stories and Perspectives\n",
    "\n",
    "### A. Finding the distribution of combinations"
   ]
  },
  {
   "cell_type": "code",
   "execution_count": 7,
   "metadata": {},
   "outputs": [],
   "source": [
    "comb_distr = np.zeros((3, 16))\n",
    "\n",
    "for key in data_dict:\n",
    "    this_story = data_dict[key]['story'].iloc[0]\n",
    "    this_type = data_dict[key]['p_type'].iloc[0]\n",
    "    if this_story == 11:\n",
    "        if this_type == 0:\n",
    "            comb_distr[0,0] += 1\n",
    "        if this_type == 1:\n",
    "            comb_distr[1,0] += 1\n",
    "        if this_type == 2:\n",
    "            comb_distr[2,0] += 1\n",
    "    if this_story == 12:\n",
    "        if this_type == 0:\n",
    "            comb_distr[0,1] += 1\n",
    "        if this_type == 1:\n",
    "            comb_distr[1,1] += 1\n",
    "        if this_type == 2:\n",
    "            comb_distr[2,1] += 1\n",
    "    if this_story == 13:\n",
    "        if this_type == 0:\n",
    "            comb_distr[0,2] += 1\n",
    "        if this_type == 1:\n",
    "            comb_distr[1,2] += 1\n",
    "        if this_type == 2:\n",
    "            comb_distr[2,2] += 1\n",
    "    if this_story == 14:\n",
    "        if this_type == 0:\n",
    "            comb_distr[0,3] += 1\n",
    "        if this_type == 1:\n",
    "            comb_distr[1,3] += 1\n",
    "        if this_type == 2:\n",
    "            comb_distr[2,3] += 1\n",
    "    if this_story == 21:\n",
    "        if this_type == 0:\n",
    "            comb_distr[0,4] += 1\n",
    "        if this_type == 1:\n",
    "            comb_distr[1,4] += 1\n",
    "        if this_type == 2:\n",
    "            comb_distr[2,4] += 1\n",
    "    if this_story == 22:\n",
    "        if this_type == 0:\n",
    "            comb_distr[0,5] += 1\n",
    "        if this_type == 1:\n",
    "            comb_distr[1,5] += 1\n",
    "        if this_type == 2:\n",
    "            comb_distr[2,5] += 1\n",
    "    if this_story == 23:\n",
    "        if this_type == 0:\n",
    "            comb_distr[0,6] += 1\n",
    "        if this_type == 1:\n",
    "            comb_distr[1,6] += 1\n",
    "        if this_type == 2:\n",
    "            comb_distr[2,6] += 1\n",
    "    if this_story == 24:\n",
    "        if this_type == 0:\n",
    "            comb_distr[0,7] += 1\n",
    "        if this_type == 1:\n",
    "            comb_distr[1,7] += 1\n",
    "        if this_type == 2:\n",
    "            comb_distr[2,7] += 1\n",
    "    if this_story == 31:\n",
    "        if this_type == 0:\n",
    "            comb_distr[0,8] += 1\n",
    "        if this_type == 1:\n",
    "            comb_distr[1,8] += 1\n",
    "        if this_type == 2:\n",
    "            comb_distr[2,8] += 1\n",
    "    if this_story == 32:\n",
    "        if this_type == 0:\n",
    "            comb_distr[0,9] += 1\n",
    "        if this_type == 1:\n",
    "            comb_distr[1,9] += 1\n",
    "        if this_type == 2:\n",
    "            comb_distr[2,9] += 1\n",
    "    if this_story == 33:\n",
    "        if this_type == 0:\n",
    "            comb_distr[0,10] += 1\n",
    "        if this_type == 1:\n",
    "            comb_distr[1,10] += 1\n",
    "        if this_type == 2:\n",
    "            comb_distr[2,10] += 1\n",
    "    if this_story == 34:\n",
    "        if this_type == 0:\n",
    "            comb_distr[0,11] += 1\n",
    "        if this_type == 1:\n",
    "            comb_distr[1,11] += 1\n",
    "        if this_type == 2:\n",
    "            comb_distr[2,11] += 1\n",
    "    if this_story == 41:\n",
    "        if this_type == 0:\n",
    "            comb_distr[0,12] += 1\n",
    "        if this_type == 1:\n",
    "            comb_distr[1,12] += 1\n",
    "        if this_type == 2:\n",
    "            comb_distr[2,12] += 1\n",
    "    if this_story == 42:\n",
    "        if this_type == 0:\n",
    "            comb_distr[0,13] += 1\n",
    "        if this_type == 1:\n",
    "            comb_distr[1,13] += 1\n",
    "        if this_type == 2:\n",
    "            comb_distr[2,13] += 1\n",
    "    if this_story == 43:\n",
    "        if this_type == 0:\n",
    "            comb_distr[0,14] += 1\n",
    "        if this_type == 1:\n",
    "            comb_distr[1,14] += 1\n",
    "        if this_type == 2:\n",
    "            comb_distr[2,14] += 1\n",
    "    if this_story == 44:\n",
    "        if this_type == 0:\n",
    "            comb_distr[0,15] += 1\n",
    "        if this_type == 1:\n",
    "            comb_distr[1,15] += 1\n",
    "        if this_type == 2:\n",
    "            comb_distr[2,15] += 1\n",
    "            "
   ]
  },
  {
   "cell_type": "markdown",
   "metadata": {},
   "source": [
    "### B. Plotting the Distribution of Combinations: heatmap"
   ]
  },
  {
   "cell_type": "code",
   "execution_count": 8,
   "metadata": {},
   "outputs": [
    {
     "data": {
      "image/png": "[encoded data removed]",
      "text/plain": [
       "<Figure size 1440x720 with 1 Axes>"
      ]
     },
     "metadata": {
      "needs_background": "light"
     },
     "output_type": "display_data"
    }
   ],
   "source": [
    "\n",
    "fig, ax = plt.subplots(figsize=(20, 10))\n",
    "im = ax.imshow(comb_distr)\n",
    "\n",
    "\n",
    "# We want to show all ticks...\n",
    "ax.set_xticks(np.arange(len(all_stories)))\n",
    "ax.set_yticks(np.arange(3))\n",
    "# ... and label them with the respective list entries\n",
    "_ = ax.set_xticklabels(all_stories)\n",
    "_ = ax.set_yticklabels(['no prime', 'location prime', 'social prime'])\n",
    "\n",
    "# Loop over data dimensions and create text annotations.\n",
    "for i in range(3):\n",
    "    for j in range(len(all_stories)):\n",
    "        text = ax.text(j, i, comb_distr[i, j],\n",
    "                       ha=\"center\", va=\"center\", color=\"w\")\n",
    "\n",
    "ax.set_title(\"Distribution of Combinations of Stories and Primes\")\n",
    "fig.tight_layout()\n",
    "plt.show()"
   ]
  },
  {
   "cell_type": "markdown",
   "metadata": {},
   "source": []
  },
  {
   "cell_type": "code",
   "execution_count": null,
   "metadata": {},
   "outputs": [],
   "source": []
  },
  {
   "cell_type": "code",
   "execution_count": null,
   "metadata": {},
   "outputs": [],
   "source": []
  },
  {
   "cell_type": "code",
   "execution_count": null,
   "metadata": {},
   "outputs": [],
   "source": []
  },
  {
   "cell_type": "code",
   "execution_count": null,
   "metadata": {},
   "outputs": [],
   "source": []
  },
  {
   "cell_type": "code",
   "execution_count": null,
   "metadata": {},
   "outputs": [],
   "source": []
  },
  {
   "cell_type": "code",
   "execution_count": null,
   "metadata": {},
   "outputs": [],
   "source": []
  },
  {
   "cell_type": "code",
   "execution_count": null,
   "metadata": {},
   "outputs": [],
   "source": []
  },
  {
   "cell_type": "code",
   "execution_count": null,
   "metadata": {},
   "outputs": [],
   "source": []
  },
  {
   "cell_type": "code",
   "execution_count": null,
   "metadata": {},
   "outputs": [],
   "source": []
  }
 ],
 "metadata": {
  "kernelspec": {
   "display_name": "Python 3",
   "language": "python",
   "name": "python3"
  },
  "language_info": {
   "codemirror_mode": {
    "name": "ipython",
    "version": 3
   },
   "file_extension": ".py",
   "mimetype": "text/x-python",
   "name": "python",
   "nbconvert_exporter": "python",
   "pygments_lexer": "ipython3",
   "version": "3.6.8"
  }
 },
 "nbformat": 4,
 "nbformat_minor": 2
}
