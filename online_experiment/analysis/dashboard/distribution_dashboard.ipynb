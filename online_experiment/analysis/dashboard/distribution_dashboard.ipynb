{
 "cells": [
  {
   "cell_type": "code",
   "execution_count": 14,
   "metadata": {},
   "outputs": [
    {
     "data": {
      "application/javascript": [
       "IPython.notebook.set_autosave_interval(5000)"
      ]
     },
     "metadata": {},
     "output_type": "display_data"
    },
    {
     "name": "stdout",
     "output_type": "stream",
     "text": [
      "Autosaving every 5 seconds\n"
     ]
    }
   ],
   "source": [
    "import re\n",
    "import codecs\n",
    "import glob\n",
    "import csv\n",
    "import pandas as pd\n",
    "import numpy as np\n",
    "import pickle\n",
    "import matplotlib.pyplot as plt\n",
    "import math\n",
    "# This import registers the 3D projection, but is otherwise unused.\n",
    "from mpl_toolkits.mplot3d import Axes3D  # noqa: F401 unused import\n",
    "%autosave 5"
   ]
  },
  {
   "cell_type": "markdown",
   "metadata": {},
   "source": [
    "# Create a Summary Dashboard of the stories run & combinations of stories and perspectives\n",
    "\n",
    "#### i. import data_dict"
   ]
  },
  {
   "cell_type": "code",
   "execution_count": 19,
   "metadata": {},
   "outputs": [],
   "source": [
    "#filename = '/Users/alexreblando/Documents/GitHub/data_analysis_ebs/online_experiment/analysis/parsing_log_file/pickle/data_dict_pilots_b1_b2_b3_b4_b5_b6_b7_b8.p'\n",
    "#filename = '/Users/alexreblando/Documents/Documents - Alex’s MacBook Air/GitHub/data_analysis_ebs/online_experiment/analysis/parsing_log_file/pickle/data_dict_pilot_b1_b2_b3_b4_b5_b6_b7_b8_newlaptop.p'\n",
    "\n",
    "filename = '/Users/alexreblando/Documents/Documents - Alex’s MacBook Air/GitHub/data_analysis_ebs/online_experiment/analysis/segment/usable_data'\n",
    "#filename = '/Users/alexreblando/Documents/GitHub/data_analysis_ebs/online_experiment/analysis/parsing_log_file/pickle/data_dict_b8.p'\n",
    "data_dict = pickle.load( open( filename, \"rb\" ) )"
   ]
  },
  {
   "cell_type": "markdown",
   "metadata": {},
   "source": [
    "## I. Distribution of Stories\n",
    "\n",
    "### A. List the stories"
   ]
  },
  {
   "cell_type": "code",
   "execution_count": 20,
   "metadata": {},
   "outputs": [
    {
     "name": "stdout",
     "output_type": "stream",
     "text": [
      "/Users/alexreblando/Documents/Documents - Alex’s MacBook Air/GitHub/data_analysis_ebs/online_experiment/data/pilot1/7/PARTICIPANT_1_online_exp_2020-05-09_01h54.27.962\n",
      "/Users/alexreblando/Documents/Documents - Alex’s MacBook Air/GitHub/data_analysis_ebs/online_experiment/data/pilot1/7/PARTICIPANT_1_online_exp_2020-05-06_20h00.18.643\n",
      "/Users/alexreblando/Documents/Documents - Alex’s MacBook Air/GitHub/data_analysis_ebs/online_experiment/data/pilot1/7/PARTICIPANT_1_online_exp_2020-05-09_01h05.05.369\n",
      "/Users/alexreblando/Documents/Documents - Alex’s MacBook Air/GitHub/data_analysis_ebs/online_experiment/data/pilot1/7/PARTICIPANT_1_online_exp_2020-05-09_01h01.48.508\n",
      "/Users/alexreblando/Documents/Documents - Alex’s MacBook Air/GitHub/data_analysis_ebs/online_experiment/data/pilot1/7/PARTICIPANT_1_online_exp_2020-05-07_23h40.02.268\n",
      "/Users/alexreblando/Documents/Documents - Alex’s MacBook Air/GitHub/data_analysis_ebs/online_experiment/data/pilot1/7/PARTICIPANT_1_online_exp_2020-05-07_23h36.54.796\n",
      "/Users/alexreblando/Documents/Documents - Alex’s MacBook Air/GitHub/data_analysis_ebs/online_experiment/data/pilot1/7/PARTICIPANT_1_online_exp_2020-05-07_00h46.51.319\n",
      "/Users/alexreblando/Documents/Documents - Alex’s MacBook Air/GitHub/data_analysis_ebs/online_experiment/data/pilot2/8/PARTICIPANT_1_online_exp_2020-05-19_19h18.58.644\n",
      "/Users/alexreblando/Documents/Documents - Alex’s MacBook Air/GitHub/data_analysis_ebs/online_experiment/data/pilot2/8/PARTICIPANT_1_online_exp_2020-05-12_19h57.55.241\n",
      "/Users/alexreblando/Documents/Documents - Alex’s MacBook Air/GitHub/data_analysis_ebs/online_experiment/data/pilot2/8/PARTICIPANT_1_online_exp_2020-05-19_19h16.09.618\n",
      "/Users/alexreblando/Documents/Documents - Alex’s MacBook Air/GitHub/data_analysis_ebs/online_experiment/data/pilot2/8/PARTICIPANT_1_online_exp_2020-05-11_20h43.08.493\n",
      "/Users/alexreblando/Documents/Documents - Alex’s MacBook Air/GitHub/data_analysis_ebs/online_experiment/data/pilot2/8/PARTICIPANT_1_online_exp_2020-05-19_15h04.13.258\n",
      "/Users/alexreblando/Documents/Documents - Alex’s MacBook Air/GitHub/data_analysis_ebs/online_experiment/data/pilot2/8/PARTICIPANT_1_online_exp_2020-05-19_19h17.04.991\n",
      "/Users/alexreblando/Documents/Documents - Alex’s MacBook Air/GitHub/data_analysis_ebs/online_experiment/data/pilot3/4/PARTICIPANT_1_online_exp_2020-05-20_22h03.41.810\n",
      "/Users/alexreblando/Documents/Documents - Alex’s MacBook Air/GitHub/data_analysis_ebs/online_experiment/data/pilot3/4/PARTICIPANT_1_online_exp_2020-05-20_22h01.43.581\n",
      "/Users/alexreblando/Documents/Documents - Alex’s MacBook Air/GitHub/data_analysis_ebs/online_experiment/data/pilot3/4/PARTICIPANT_1_online_exp_2020-05-20_16h02.59.817\n",
      "/Users/alexreblando/Documents/Documents - Alex’s MacBook Air/GitHub/data_analysis_ebs/online_experiment/data/pilot4/7/PARTICIPANT_1_online_exp_2020-05-28_13h52.04.749\n",
      "/Users/alexreblando/Documents/Documents - Alex’s MacBook Air/GitHub/data_analysis_ebs/online_experiment/data/pilot4/7/PARTICIPANT_1_online_exp_2020-05-22_16h32.49.800\n",
      "/Users/alexreblando/Documents/Documents - Alex’s MacBook Air/GitHub/data_analysis_ebs/online_experiment/data/pilot4/7/PARTICIPANT_1_online_exp_2020-05-28_18h55.40.652\n",
      "/Users/alexreblando/Documents/Documents - Alex’s MacBook Air/GitHub/data_analysis_ebs/online_experiment/data/pilot4/7/PARTICIPANT_1_online_exp_2020-05-22_13h49.27.322\n",
      "/Users/alexreblando/Documents/Documents - Alex’s MacBook Air/GitHub/data_analysis_ebs/online_experiment/data/pilot4/7/PARTICIPANT_1_online_exp_2020-05-28_18h51.57.114\n",
      "/Users/alexreblando/Documents/Documents - Alex’s MacBook Air/GitHub/data_analysis_ebs/online_experiment/data/pilot4/7/PARTICIPANT_1_online_exp_2020-05-28_18h51.27.822\n",
      "/Users/alexreblando/Documents/Documents - Alex’s MacBook Air/GitHub/data_analysis_ebs/online_experiment/data/finalver_p/10/27_1_online_exp_2020-06-09_12h49.56.111\n",
      "/Users/alexreblando/Documents/Documents - Alex’s MacBook Air/GitHub/data_analysis_ebs/online_experiment/data/finalver_p/10/31_1_online_exp_2020-06-09_20h56.33.438\n",
      "/Users/alexreblando/Documents/Documents - Alex’s MacBook Air/GitHub/data_analysis_ebs/online_experiment/data/finalver_p/10/5_1_online_exp_2020-06-06_14h48.11.050\n",
      "/Users/alexreblando/Documents/Documents - Alex’s MacBook Air/GitHub/data_analysis_ebs/online_experiment/data/finalver_p/10/25_1_online_exp_2020-06-09_20h39.47.213\n",
      "/Users/alexreblando/Documents/Documents - Alex’s MacBook Air/GitHub/data_analysis_ebs/online_experiment/data/finalver_p/10/29_1_online_exp_2020-06-09_20h50.53.003\n",
      "/Users/alexreblando/Documents/Documents - Alex’s MacBook Air/GitHub/data_analysis_ebs/online_experiment/data/finalver_p/10/30_1_online_exp_2020-06-09_20h52.33.481\n",
      "/Users/alexreblando/Documents/Documents - Alex’s MacBook Air/GitHub/data_analysis_ebs/online_experiment/data/finalver_b1/33/143_1_online_exp_2020-06-10_21h17.07.791\n",
      "/Users/alexreblando/Documents/Documents - Alex’s MacBook Air/GitHub/data_analysis_ebs/online_experiment/data/finalver_b1/33/46_1_online_exp_2020-06-10_21h03.58.114\n",
      "/Users/alexreblando/Documents/Documents - Alex’s MacBook Air/GitHub/data_analysis_ebs/online_experiment/data/finalver_b1/33/37_1_online_exp_2020-06-10_14h04.45.544\n",
      "/Users/alexreblando/Documents/Documents - Alex’s MacBook Air/GitHub/data_analysis_ebs/online_experiment/data/finalver_b1/33/64_1_online_exp_2020-06-10_15h07.52.732\n",
      "/Users/alexreblando/Documents/Documents - Alex’s MacBook Air/GitHub/data_analysis_ebs/online_experiment/data/finalver_b1/33/71_1_online_exp_2020-06-10_16h08.46.721\n",
      "/Users/alexreblando/Documents/Documents - Alex’s MacBook Air/GitHub/data_analysis_ebs/online_experiment/data/finalver_b1/33/157_1_online_exp_2020-06-11_09h44.06.040\n",
      "/Users/alexreblando/Documents/Documents - Alex’s MacBook Air/GitHub/data_analysis_ebs/online_experiment/data/finalver_b1/33/51_1_online_exp_2020-06-10_21h05.25.502\n",
      "/Users/alexreblando/Documents/Documents - Alex’s MacBook Air/GitHub/data_analysis_ebs/online_experiment/data/finalver_b1/33/139_1_online_exp_2020-06-10_21h13.18.162\n",
      "/Users/alexreblando/Documents/Documents - Alex’s MacBook Air/GitHub/data_analysis_ebs/online_experiment/data/finalver_b1/33/148_1_online_exp_2020-06-10_21h14.16.649\n",
      "/Users/alexreblando/Documents/Documents - Alex’s MacBook Air/GitHub/data_analysis_ebs/online_experiment/data/finalver_b1/33/138_1_online_exp_2020-06-10_21h22.49.032\n",
      "/Users/alexreblando/Documents/Documents - Alex’s MacBook Air/GitHub/data_analysis_ebs/online_experiment/data/finalver_b1/33/69_1_online_exp_2020-06-10_15h07.03.668\n",
      "/Users/alexreblando/Documents/Documents - Alex’s MacBook Air/GitHub/data_analysis_ebs/online_experiment/data/finalver_b1/33/41_1_online_exp_2020-06-10_15h04.27.888\n",
      "/Users/alexreblando/Documents/Documents - Alex’s MacBook Air/GitHub/data_analysis_ebs/online_experiment/data/finalver_b1/33/150_1_online_exp_2020-06-10_21h16.30.855\n",
      "/Users/alexreblando/Documents/Documents - Alex’s MacBook Air/GitHub/data_analysis_ebs/online_experiment/data/finalver_b1/33/55_1_online_exp_2020-06-10_21h04.40.410\n",
      "/Users/alexreblando/Documents/Documents - Alex’s MacBook Air/GitHub/data_analysis_ebs/online_experiment/data/finalver_b1/33/61_1_online_exp_2020-06-10_21h06.18.577\n",
      "/Users/alexreblando/Documents/Documents - Alex’s MacBook Air/GitHub/data_analysis_ebs/online_experiment/data/finalver_b1/33/147_1_online_exp_2020-06-10_16h14.06.750\n",
      "/Users/alexreblando/Documents/Documents - Alex’s MacBook Air/GitHub/data_analysis_ebs/online_experiment/data/finalver_b1/33/65_1_online_exp_2020-06-10_21h06.10.380\n",
      "/Users/alexreblando/Documents/Documents - Alex’s MacBook Air/GitHub/data_analysis_ebs/online_experiment/data/finalver_b1/33/35_1_online_exp_2020-06-10_16h06.20.655\n",
      "/Users/alexreblando/Documents/Documents - Alex’s MacBook Air/GitHub/data_analysis_ebs/online_experiment/data/finalver_b1/33/67_1_online_exp_2020-06-10_22h11.26.915\n",
      "/Users/alexreblando/Documents/Documents - Alex’s MacBook Air/GitHub/data_analysis_ebs/online_experiment/data/finalver_b1/33/53_1_online_exp_2020-06-10_21h06.22.415\n",
      "/Users/alexreblando/Documents/Documents - Alex’s MacBook Air/GitHub/data_analysis_ebs/online_experiment/data/finalver_b1/33/179_1_online_exp_2020-06-10_21h46.36.458\n",
      "/Users/alexreblando/Documents/Documents - Alex’s MacBook Air/GitHub/data_analysis_ebs/online_experiment/data/finalver_b1/33/70_1_online_exp_2020-06-10_21h07.29.172\n",
      "/Users/alexreblando/Documents/Documents - Alex’s MacBook Air/GitHub/data_analysis_ebs/online_experiment/data/finalver_b1/33/58_1_online_exp_2020-06-10_21h07.43.279\n",
      "/Users/alexreblando/Documents/Documents - Alex’s MacBook Air/GitHub/data_analysis_ebs/online_experiment/data/finalver_b1/33/153_1_online_exp_2020-06-10_21h15.16.908\n",
      "/Users/alexreblando/Documents/Documents - Alex’s MacBook Air/GitHub/data_analysis_ebs/online_experiment/data/finalver_b2/30/186_1_online_exp_2020-06-24_10h34.36.768\n",
      "/Users/alexreblando/Documents/Documents - Alex’s MacBook Air/GitHub/data_analysis_ebs/online_experiment/data/finalver_b2/30/209_1_online_exp_2020-06-24_15h34.35.638\n",
      "/Users/alexreblando/Documents/Documents - Alex’s MacBook Air/GitHub/data_analysis_ebs/online_experiment/data/finalver_b2/30/208_1_online_exp_2020-06-24_10h35.03.232\n",
      "/Users/alexreblando/Documents/Documents - Alex’s MacBook Air/GitHub/data_analysis_ebs/online_experiment/data/finalver_b2/30/192_1_online_exp_2020-06-24_15h34.11.606\n",
      "/Users/alexreblando/Documents/Documents - Alex’s MacBook Air/GitHub/data_analysis_ebs/online_experiment/data/finalver_b2/30/211_1_online_exp_2020-06-24_09h35.45.317\n",
      "/Users/alexreblando/Documents/Documents - Alex’s MacBook Air/GitHub/data_analysis_ebs/online_experiment/data/finalver_b2/30/239_1_online_exp_2020-06-24_15h47.52.672\n",
      "/Users/alexreblando/Documents/Documents - Alex’s MacBook Air/GitHub/data_analysis_ebs/online_experiment/data/finalver_b2/30/202_1_online_exp_2020-06-24_15h34.43.090\n",
      "/Users/alexreblando/Documents/Documents - Alex’s MacBook Air/GitHub/data_analysis_ebs/online_experiment/data/finalver_b2/30/203_1_online_exp_2020-06-24_15h35.45.773\n",
      "/Users/alexreblando/Documents/Documents - Alex’s MacBook Air/GitHub/data_analysis_ebs/online_experiment/data/finalver_b2/30/187_1_online_exp_2020-06-24_09h35.40.463\n",
      "/Users/alexreblando/Documents/Documents - Alex’s MacBook Air/GitHub/data_analysis_ebs/online_experiment/data/finalver_b2/30/220_1_online_exp_2020-06-24_15h40.19.099\n",
      "/Users/alexreblando/Documents/Documents - Alex’s MacBook Air/GitHub/data_analysis_ebs/online_experiment/data/finalver_b2/30/222_1_online_exp_2020-06-24_15h38.05.251\n",
      "/Users/alexreblando/Documents/Documents - Alex’s MacBook Air/GitHub/data_analysis_ebs/online_experiment/data/finalver_b2/30/247_1_online_exp_2020-06-24_16h01.00.572\n",
      "/Users/alexreblando/Documents/Documents - Alex’s MacBook Air/GitHub/data_analysis_ebs/online_experiment/data/finalver_b2/30/197_1_online_exp_2020-06-24_10h37.27.192\n",
      "/Users/alexreblando/Documents/Documents - Alex’s MacBook Air/GitHub/data_analysis_ebs/online_experiment/data/finalver_b2/30/235_1_online_exp_2020-06-24_09h43.44.479\n",
      "/Users/alexreblando/Documents/Documents - Alex’s MacBook Air/GitHub/data_analysis_ebs/online_experiment/data/finalver_b2/30/216_1_online_exp_2020-06-24_15h35.19.238\n",
      "/Users/alexreblando/Documents/Documents - Alex’s MacBook Air/GitHub/data_analysis_ebs/online_experiment/data/finalver_b2/30/337_1_online_exp_2020-06-24_14h05.57.042\n",
      "/Users/alexreblando/Documents/Documents - Alex’s MacBook Air/GitHub/data_analysis_ebs/online_experiment/data/finalver_b2/30/181_1_online_exp_2020-06-24_10h26.28.885\n",
      "/Users/alexreblando/Documents/Documents - Alex’s MacBook Air/GitHub/data_analysis_ebs/online_experiment/data/finalver_b2/30/182_1_online_exp_2020-06-24_15h29.38.130\n",
      "/Users/alexreblando/Documents/Documents - Alex’s MacBook Air/GitHub/data_analysis_ebs/online_experiment/data/finalver_b2/30/196_1_online_exp_2020-06-24_15h34.04.128\n",
      "/Users/alexreblando/Documents/Documents - Alex’s MacBook Air/GitHub/data_analysis_ebs/online_experiment/data/finalver_b2/30/217_1_online_exp_2020-06-24_15h36.22.487\n",
      "/Users/alexreblando/Documents/Documents - Alex’s MacBook Air/GitHub/data_analysis_ebs/online_experiment/data/finalver_b2/30/212_1_online_exp_2020-06-24_15h36.34.719\n",
      "/Users/alexreblando/Documents/Documents - Alex’s MacBook Air/GitHub/data_analysis_ebs/online_experiment/data/finalver_b2/30/214_1_online_exp_2020-06-24_10h35.14.596\n",
      "/Users/alexreblando/Documents/Documents - Alex’s MacBook Air/GitHub/data_analysis_ebs/online_experiment/data/finalver_b2/30/189_1_online_exp_2020-06-24_10h34.33.295\n",
      "/Users/alexreblando/Documents/Documents - Alex’s MacBook Air/GitHub/data_analysis_ebs/online_experiment/data/finalver_b2/30/210_1_online_exp_2020-06-24_08h35.25.121\n",
      "/Users/alexreblando/Documents/Documents - Alex’s MacBook Air/GitHub/data_analysis_ebs/online_experiment/data/finalver_b2/30/183_1_online_exp_2020-06-24_15h35.15.415\n",
      "/Users/alexreblando/Documents/Documents - Alex’s MacBook Air/GitHub/data_analysis_ebs/online_experiment/data/finalver_b2/30/204_1_online_exp_2020-06-24_10h35.04.320\n",
      "/Users/alexreblando/Documents/Documents - Alex’s MacBook Air/GitHub/data_analysis_ebs/online_experiment/data/finalver_b2/30/231_1_online_exp_2020-06-24_09h41.35.748\n",
      "/Users/alexreblando/Documents/Documents - Alex’s MacBook Air/GitHub/data_analysis_ebs/online_experiment/data/finalver_b3/45/346_1_online_exp_2020-07-16_09h06.26.132\n",
      "/Users/alexreblando/Documents/Documents - Alex’s MacBook Air/GitHub/data_analysis_ebs/online_experiment/data/finalver_b3/45/379_1_online_exp_2020-07-16_09h07.20.528\n",
      "/Users/alexreblando/Documents/Documents - Alex’s MacBook Air/GitHub/data_analysis_ebs/online_experiment/data/finalver_b3/45/424_1_online_exp_2020-07-16_09h16.46.826\n",
      "/Users/alexreblando/Documents/Documents - Alex’s MacBook Air/GitHub/data_analysis_ebs/online_experiment/data/finalver_b3/45/416_1_online_exp_2020-07-16_09h15.25.286\n",
      "/Users/alexreblando/Documents/Documents - Alex’s MacBook Air/GitHub/data_analysis_ebs/online_experiment/data/finalver_b3/45/415_1_online_exp_2020-07-16_09h12.58.982\n",
      "/Users/alexreblando/Documents/Documents - Alex’s MacBook Air/GitHub/data_analysis_ebs/online_experiment/data/finalver_b3/45/356_1_online_exp_2020-07-16_09h08.03.818\n",
      "/Users/alexreblando/Documents/Documents - Alex’s MacBook Air/GitHub/data_analysis_ebs/online_experiment/data/finalver_b3/45/384_1_online_exp_2020-07-16_09h06.56.742\n",
      "/Users/alexreblando/Documents/Documents - Alex’s MacBook Air/GitHub/data_analysis_ebs/online_experiment/data/finalver_b3/45/362_1_online_exp_2020-07-16_09h07.16.604\n",
      "/Users/alexreblando/Documents/Documents - Alex’s MacBook Air/GitHub/data_analysis_ebs/online_experiment/data/finalver_b3/45/339_1_online_exp_2020-07-16_09h11.38.053\n",
      "/Users/alexreblando/Documents/Documents - Alex’s MacBook Air/GitHub/data_analysis_ebs/online_experiment/data/finalver_b3/45/454_1_online_exp_2020-07-16_04h38.38.535\n",
      "/Users/alexreblando/Documents/Documents - Alex’s MacBook Air/GitHub/data_analysis_ebs/online_experiment/data/finalver_b3/45/357_1_online_exp_2020-07-16_09h08.00.632\n",
      "/Users/alexreblando/Documents/Documents - Alex’s MacBook Air/GitHub/data_analysis_ebs/online_experiment/data/finalver_b3/45/397_1_online_exp_2020-07-16_09h09.00.357\n",
      "/Users/alexreblando/Documents/Documents - Alex’s MacBook Air/GitHub/data_analysis_ebs/online_experiment/data/finalver_b3/45/366_1_online_exp_2020-07-16_09h06.28.811\n",
      "/Users/alexreblando/Documents/Documents - Alex’s MacBook Air/GitHub/data_analysis_ebs/online_experiment/data/finalver_b3/45/375_1_online_exp_2020-07-16_09h07.27.451\n",
      "/Users/alexreblando/Documents/Documents - Alex’s MacBook Air/GitHub/data_analysis_ebs/online_experiment/data/finalver_b3/45/341_1_online_exp_2020-07-16_09h05.46.996\n",
      "/Users/alexreblando/Documents/Documents - Alex’s MacBook Air/GitHub/data_analysis_ebs/online_experiment/data/finalver_b3/45/348_1_online_exp_2020-07-16_18h07.17.032\n",
      "/Users/alexreblando/Documents/Documents - Alex’s MacBook Air/GitHub/data_analysis_ebs/online_experiment/data/finalver_b3/45/350_1_online_exp_2020-07-16_09h16.35.779\n",
      "/Users/alexreblando/Documents/Documents - Alex’s MacBook Air/GitHub/data_analysis_ebs/online_experiment/data/finalver_b3/45/422_1_online_exp_2020-07-16_09h12.10.666\n",
      "/Users/alexreblando/Documents/Documents - Alex’s MacBook Air/GitHub/data_analysis_ebs/online_experiment/data/finalver_b3/45/392_1_online_exp_2020-07-16_09h09.17.181\n",
      "/Users/alexreblando/Documents/Documents - Alex’s MacBook Air/GitHub/data_analysis_ebs/online_experiment/data/finalver_b3/45/447_1_online_exp_2020-07-16_09h28.05.189\n",
      "/Users/alexreblando/Documents/Documents - Alex’s MacBook Air/GitHub/data_analysis_ebs/online_experiment/data/finalver_b3/45/353_1_online_exp_2020-07-16_04h06.27.201\n",
      "/Users/alexreblando/Documents/Documents - Alex’s MacBook Air/GitHub/data_analysis_ebs/online_experiment/data/finalver_b3/45/394_1_online_exp_2020-07-16_09h08.56.089\n",
      "/Users/alexreblando/Documents/Documents - Alex’s MacBook Air/GitHub/data_analysis_ebs/online_experiment/data/finalver_b3/45/448_1_online_exp_2020-07-16_09h37.14.266\n",
      "/Users/alexreblando/Documents/Documents - Alex’s MacBook Air/GitHub/data_analysis_ebs/online_experiment/data/finalver_b3/45/430_1_online_exp_2020-07-16_09h18.10.832\n",
      "/Users/alexreblando/Documents/Documents - Alex’s MacBook Air/GitHub/data_analysis_ebs/online_experiment/data/finalver_b3/45/458_1_online_exp_2020-07-16_10h07.51.114\n",
      "/Users/alexreblando/Documents/Documents - Alex’s MacBook Air/GitHub/data_analysis_ebs/online_experiment/data/finalver_b3/45/358_1_online_exp_2020-07-16_09h13.38.744\n",
      "/Users/alexreblando/Documents/Documents - Alex’s MacBook Air/GitHub/data_analysis_ebs/online_experiment/data/finalver_b3/45/420_1_online_exp_2020-07-16_02h12.23.166\n",
      "/Users/alexreblando/Documents/Documents - Alex’s MacBook Air/GitHub/data_analysis_ebs/online_experiment/data/finalver_b3/45/450_1_online_exp_2020-07-16_08h39.43.348\n",
      "/Users/alexreblando/Documents/Documents - Alex’s MacBook Air/GitHub/data_analysis_ebs/online_experiment/data/finalver_b3/45/382_1_online_exp_2020-07-16_09h07.25.005\n",
      "/Users/alexreblando/Documents/Documents - Alex’s MacBook Air/GitHub/data_analysis_ebs/online_experiment/data/finalver_b3/45/419_1_online_exp_2020-07-16_09h13.11.581\n",
      "/Users/alexreblando/Documents/Documents - Alex’s MacBook Air/GitHub/data_analysis_ebs/online_experiment/data/finalver_b3/45/344_1_online_exp_2020-07-16_09h06.16.610\n",
      "/Users/alexreblando/Documents/Documents - Alex’s MacBook Air/GitHub/data_analysis_ebs/online_experiment/data/finalver_b3/45/352_1_online_exp_2020-07-16_09h08.13.747\n",
      "/Users/alexreblando/Documents/Documents - Alex’s MacBook Air/GitHub/data_analysis_ebs/online_experiment/data/finalver_b3/45/395_1_online_exp_2020-07-16_09h09.05.503\n",
      "/Users/alexreblando/Documents/Documents - Alex’s MacBook Air/GitHub/data_analysis_ebs/online_experiment/data/finalver_b3/45/388_1_online_exp_2020-07-16_09h11.02.839\n",
      "/Users/alexreblando/Documents/Documents - Alex’s MacBook Air/GitHub/data_analysis_ebs/online_experiment/data/finalver_b3/45/360_1_online_exp_2020-07-16_09h06.26.605\n",
      "/Users/alexreblando/Documents/Documents - Alex’s MacBook Air/GitHub/data_analysis_ebs/online_experiment/data/finalver_b3/45/432_1_online_exp_2020-07-16_04h26.43.342\n",
      "/Users/alexreblando/Documents/Documents - Alex’s MacBook Air/GitHub/data_analysis_ebs/online_experiment/data/finalver_b3/45/445_1_online_exp_2020-07-16_09h22.42.098\n",
      "/Users/alexreblando/Documents/Documents - Alex’s MacBook Air/GitHub/data_analysis_ebs/online_experiment/data/finalver_b3/45/376_1_online_exp_2020-07-16_09h08.08.638\n",
      "/Users/alexreblando/Documents/Documents - Alex’s MacBook Air/GitHub/data_analysis_ebs/online_experiment/data/finalver_b4/29/485_1_online_exp_2020-07-29_11h20.22.859\n",
      "/Users/alexreblando/Documents/Documents - Alex’s MacBook Air/GitHub/data_analysis_ebs/online_experiment/data/finalver_b4/29/503_1_online_exp_2020-07-29_20h32.11.025\n",
      "/Users/alexreblando/Documents/Documents - Alex’s MacBook Air/GitHub/data_analysis_ebs/online_experiment/data/finalver_b4/29/464_1_online_exp_2020-07-29_19h22.38.420\n",
      "/Users/alexreblando/Documents/Documents - Alex’s MacBook Air/GitHub/data_analysis_ebs/online_experiment/data/finalver_b4/29/489_1_online_exp_2020-07-29_15h20.23.530\n",
      "/Users/alexreblando/Documents/Documents - Alex’s MacBook Air/GitHub/data_analysis_ebs/online_experiment/data/finalver_b4/29/479_1_online_exp_2020-07-29_13h19.44.983\n",
      "/Users/alexreblando/Documents/Documents - Alex’s MacBook Air/GitHub/data_analysis_ebs/online_experiment/data/finalver_b4/29/476_1_online_exp_2020-07-29_14h36.22.402\n",
      "/Users/alexreblando/Documents/Documents - Alex’s MacBook Air/GitHub/data_analysis_ebs/online_experiment/data/finalver_b4/29/473_1_online_exp_2020-07-29_19h19.52.985\n",
      "/Users/alexreblando/Documents/Documents - Alex’s MacBook Air/GitHub/data_analysis_ebs/online_experiment/data/finalver_b4/29/483_1_online_exp_2020-07-29_19h19.17.548\n",
      "/Users/alexreblando/Documents/Documents - Alex’s MacBook Air/GitHub/data_analysis_ebs/online_experiment/data/finalver_b4/29/480_1_online_exp_2020-07-29_19h19.38.511\n",
      "/Users/alexreblando/Documents/Documents - Alex’s MacBook Air/GitHub/data_analysis_ebs/online_experiment/data/finalver_b4/29/493_1_online_exp_2020-07-29_14h21.18.641\n",
      "/Users/alexreblando/Documents/Documents - Alex’s MacBook Air/GitHub/data_analysis_ebs/online_experiment/data/finalver_b4/29/490_1_online_exp_2020-07-29_19h19.53.518\n",
      "/Users/alexreblando/Documents/Documents - Alex’s MacBook Air/GitHub/data_analysis_ebs/online_experiment/data/finalver_b4/29/466_1_online_exp_2020-07-29_13h19.08.195\n",
      "/Users/alexreblando/Documents/Documents - Alex’s MacBook Air/GitHub/data_analysis_ebs/online_experiment/data/finalver_b4/29/501_1_online_exp_2020-07-29_19h36.38.254\n",
      "/Users/alexreblando/Documents/Documents - Alex’s MacBook Air/GitHub/data_analysis_ebs/online_experiment/data/finalver_b4/29/484_1_online_exp_2020-07-29_14h24.02.463\n",
      "/Users/alexreblando/Documents/Documents - Alex’s MacBook Air/GitHub/data_analysis_ebs/online_experiment/data/finalver_b4/29/495_1_online_exp_2020-07-29_13h22.57.572\n",
      "/Users/alexreblando/Documents/Documents - Alex’s MacBook Air/GitHub/data_analysis_ebs/online_experiment/data/finalver_b4/29/488_1_online_exp_2020-07-29_14h20.01.678\n",
      "/Users/alexreblando/Documents/Documents - Alex’s MacBook Air/GitHub/data_analysis_ebs/online_experiment/data/finalver_b4/29/494_1_online_exp_2020-07-29_19h20.45.344\n",
      "/Users/alexreblando/Documents/Documents - Alex’s MacBook Air/GitHub/data_analysis_ebs/online_experiment/data/finalver_b4/29/487_1_online_exp_2020-07-29_19h19.53.250\n",
      "/Users/alexreblando/Documents/Documents - Alex’s MacBook Air/GitHub/data_analysis_ebs/online_experiment/data/finalver_b4/29/465_1_online_exp_2020-07-29_20h02.19.143\n",
      "/Users/alexreblando/Documents/Documents - Alex’s MacBook Air/GitHub/data_analysis_ebs/online_experiment/data/finalver_b4/29/474_1_online_exp_2020-07-29_19h19.30.496\n",
      "/Users/alexreblando/Documents/Documents - Alex’s MacBook Air/GitHub/data_analysis_ebs/online_experiment/data/finalver_b4/29/472_1_online_exp_2020-07-29_19h20.36.788\n",
      "/Users/alexreblando/Documents/Documents - Alex’s MacBook Air/GitHub/data_analysis_ebs/online_experiment/data/finalver_b4/29/499_1_online_exp_2020-07-29_14h27.59.183\n",
      "/Users/alexreblando/Documents/Documents - Alex’s MacBook Air/GitHub/data_analysis_ebs/online_experiment/data/finalver_b4/29/463_1_online_exp_2020-07-29_19h19.39.183\n",
      "/Users/alexreblando/Documents/Documents - Alex’s MacBook Air/GitHub/data_analysis_ebs/online_experiment/data/finalver_b4/29/478_1_online_exp_2020-07-29_19h20.02.916\n",
      "/Users/alexreblando/Documents/Documents - Alex’s MacBook Air/GitHub/data_analysis_ebs/online_experiment/data/finalver_b4/29/470_1_online_exp_2020-07-29_19h19.17.873\n",
      "/Users/alexreblando/Documents/Documents - Alex’s MacBook Air/GitHub/data_analysis_ebs/online_experiment/data/finalver_b4/29/475_1_online_exp_2020-07-29_19h21.03.444\n",
      "/Users/alexreblando/Documents/Documents - Alex’s MacBook Air/GitHub/data_analysis_ebs/online_experiment/data/finalver_b4/29/469_1_online_exp_2020-07-29_19h19.25.754\n",
      "/Users/alexreblando/Documents/Documents - Alex’s MacBook Air/GitHub/data_analysis_ebs/online_experiment/data/finalver_b5/78/100_1_online_exp_2020-09-28_13h34.29.908\n",
      "/Users/alexreblando/Documents/Documents - Alex’s MacBook Air/GitHub/data_analysis_ebs/online_experiment/data/finalver_b5/78/24_1_online_exp_2020-09-28_15h32.55.760\n",
      "/Users/alexreblando/Documents/Documents - Alex’s MacBook Air/GitHub/data_analysis_ebs/online_experiment/data/finalver_b5/78/76_1_online_exp_2020-09-28_15h34.50.313\n",
      "/Users/alexreblando/Documents/Documents - Alex’s MacBook Air/GitHub/data_analysis_ebs/online_experiment/data/finalver_b5/78/182_1_online_exp_2020-09-28_21h39.41.373\n",
      "/Users/alexreblando/Documents/Documents - Alex’s MacBook Air/GitHub/data_analysis_ebs/online_experiment/data/finalver_b5/78/17_1_online_exp_2020-09-28_15h31.00.549\n",
      "/Users/alexreblando/Documents/Documents - Alex’s MacBook Air/GitHub/data_analysis_ebs/online_experiment/data/finalver_b5/78/83_1_online_exp_2020-09-28_15h36.54.548\n",
      "/Users/alexreblando/Documents/Documents - Alex’s MacBook Air/GitHub/data_analysis_ebs/online_experiment/data/finalver_b5/78/74_1_online_exp_2020-09-28_14h32.33.692\n",
      "/Users/alexreblando/Documents/Documents - Alex’s MacBook Air/GitHub/data_analysis_ebs/online_experiment/data/finalver_b5/78/58_1_online_exp_2020-09-28_12h32.04.034\n",
      "/Users/alexreblando/Documents/Documents - Alex’s MacBook Air/GitHub/data_analysis_ebs/online_experiment/data/finalver_b5/78/47_1_online_exp_2020-09-28_15h31.32.841\n",
      "/Users/alexreblando/Documents/Documents - Alex’s MacBook Air/GitHub/data_analysis_ebs/online_experiment/data/finalver_b5/78/89_1_online_exp_2020-09-28_15h33.00.224\n",
      "/Users/alexreblando/Documents/Documents - Alex’s MacBook Air/GitHub/data_analysis_ebs/online_experiment/data/finalver_b5/78/409_1_online_exp_2020-10-01_20h50.20.072\n",
      "/Users/alexreblando/Documents/Documents - Alex’s MacBook Air/GitHub/data_analysis_ebs/online_experiment/data/finalver_b5/78/61_1_online_exp_2020-09-28_14h32.29.942\n",
      "/Users/alexreblando/Documents/Documents - Alex’s MacBook Air/GitHub/data_analysis_ebs/online_experiment/data/finalver_b5/78/66_1_online_exp_2020-09-28_15h33.23.105\n",
      "/Users/alexreblando/Documents/Documents - Alex’s MacBook Air/GitHub/data_analysis_ebs/online_experiment/data/finalver_b5/78/45_1_online_exp_2020-09-28_12h33.16.232\n",
      "/Users/alexreblando/Documents/Documents - Alex’s MacBook Air/GitHub/data_analysis_ebs/online_experiment/data/finalver_b5/78/379_1_online_exp_2020-09-29_15h10.41.773\n",
      "/Users/alexreblando/Documents/Documents - Alex’s MacBook Air/GitHub/data_analysis_ebs/online_experiment/data/finalver_b5/78/10_1_online_exp_2020-09-28_14h58.24.463\n",
      "/Users/alexreblando/Documents/Documents - Alex’s MacBook Air/GitHub/data_analysis_ebs/online_experiment/data/finalver_b5/78/53_1_online_exp_2020-09-28_14h35.00.041\n",
      "/Users/alexreblando/Documents/Documents - Alex’s MacBook Air/GitHub/data_analysis_ebs/online_experiment/data/finalver_b5/78/69_1_online_exp_2020-09-28_13h10.55.410\n",
      "/Users/alexreblando/Documents/Documents - Alex’s MacBook Air/GitHub/data_analysis_ebs/online_experiment/data/finalver_b5/78/14_1_online_exp_2020-09-28_15h31.38.091\n",
      "/Users/alexreblando/Documents/Documents - Alex’s MacBook Air/GitHub/data_analysis_ebs/online_experiment/data/finalver_b5/78/71_1_online_exp_2020-09-28_14h32.35.186\n",
      "/Users/alexreblando/Documents/Documents - Alex’s MacBook Air/GitHub/data_analysis_ebs/online_experiment/data/finalver_b5/78/77_1_online_exp_2020-09-28_12h44.29.002\n",
      "/Users/alexreblando/Documents/Documents - Alex’s MacBook Air/GitHub/data_analysis_ebs/online_experiment/data/finalver_b5/78/64_1_online_exp_2020-09-28_14h32.29.082\n",
      "/Users/alexreblando/Documents/Documents - Alex’s MacBook Air/GitHub/data_analysis_ebs/online_experiment/data/finalver_b5/78/131_1_online_exp_2020-09-29_01h42.48.208\n",
      "/Users/alexreblando/Documents/Documents - Alex’s MacBook Air/GitHub/data_analysis_ebs/online_experiment/data/finalver_b5/78/117_1_online_exp_2020-09-28_14h38.59.939\n",
      "/Users/alexreblando/Documents/Documents - Alex’s MacBook Air/GitHub/data_analysis_ebs/online_experiment/data/finalver_b5/78/59_1_online_exp_2020-09-28_15h33.54.674\n",
      "/Users/alexreblando/Documents/Documents - Alex’s MacBook Air/GitHub/data_analysis_ebs/online_experiment/data/finalver_b5/78/86_1_online_exp_2020-09-28_14h32.43.826\n",
      "/Users/alexreblando/Documents/Documents - Alex’s MacBook Air/GitHub/data_analysis_ebs/online_experiment/data/finalver_b5/78/125_1_online_exp_2020-09-28_14h42.12.221\n",
      "/Users/alexreblando/Documents/Documents - Alex’s MacBook Air/GitHub/data_analysis_ebs/online_experiment/data/finalver_b5/78/407_1_online_exp_2020-10-01_05h16.33.167\n",
      "/Users/alexreblando/Documents/Documents - Alex’s MacBook Air/GitHub/data_analysis_ebs/online_experiment/data/finalver_b5/78/20_1_online_exp_2020-09-28_15h31.03.238\n",
      "/Users/alexreblando/Documents/Documents - Alex’s MacBook Air/GitHub/data_analysis_ebs/online_experiment/data/finalver_b5/78/371_1_online_exp_2020-09-29_14h57.23.782\n",
      "/Users/alexreblando/Documents/Documents - Alex’s MacBook Air/GitHub/data_analysis_ebs/online_experiment/data/finalver_b5/78/84_1_online_exp_2020-09-28_14h34.11.298\n",
      "/Users/alexreblando/Documents/Documents - Alex’s MacBook Air/GitHub/data_analysis_ebs/online_experiment/data/finalver_b5/78/101_1_online_exp_2020-09-28_15h34.09.202\n",
      "/Users/alexreblando/Documents/Documents - Alex’s MacBook Air/GitHub/data_analysis_ebs/online_experiment/data/finalver_b5/78/405_1_online_exp_2020-09-29_19h08.54.246\n",
      "/Users/alexreblando/Documents/Documents - Alex’s MacBook Air/GitHub/data_analysis_ebs/online_experiment/data/finalver_b5/78/52_1_online_exp_2020-09-28_15h33.04.412\n",
      "/Users/alexreblando/Documents/Documents - Alex’s MacBook Air/GitHub/data_analysis_ebs/online_experiment/data/finalver_b5/78/128_1_online_exp_2020-09-28_14h41.26.429\n",
      "/Users/alexreblando/Documents/Documents - Alex’s MacBook Air/GitHub/data_analysis_ebs/online_experiment/data/finalver_b5/78/366_1_online_exp_2020-09-29_15h00.03.888\n",
      "/Users/alexreblando/Documents/Documents - Alex’s MacBook Air/GitHub/data_analysis_ebs/online_experiment/data/finalver_b5/78/145_1_online_exp_2020-09-28_12h46.43.656\n",
      "/Users/alexreblando/Documents/Documents - Alex’s MacBook Air/GitHub/data_analysis_ebs/online_experiment/data/finalver_b5/78/96_1_online_exp_2020-09-28_12h29.51.002\n",
      "/Users/alexreblando/Documents/Documents - Alex’s MacBook Air/GitHub/data_analysis_ebs/online_experiment/data/finalver_b5/78/57_1_online_exp_2020-09-28_12h32.49.371\n",
      "/Users/alexreblando/Documents/Documents - Alex’s MacBook Air/GitHub/data_analysis_ebs/online_experiment/data/finalver_b5/78/93_1_online_exp_2020-09-29_01h42.26.057\n",
      "/Users/alexreblando/Documents/Documents - Alex’s MacBook Air/GitHub/data_analysis_ebs/online_experiment/data/finalver_b5/78/12_1_online_exp_2020-09-28_14h30.24.832\n",
      "/Users/alexreblando/Documents/Documents - Alex’s MacBook Air/GitHub/data_analysis_ebs/online_experiment/data/finalver_b5/78/25_1_online_exp_2020-09-28_14h32.29.908\n",
      "/Users/alexreblando/Documents/Documents - Alex’s MacBook Air/GitHub/data_analysis_ebs/online_experiment/data/finalver_b5/78/122_1_online_exp_2020-09-28_14h39.42.109\n",
      "/Users/alexreblando/Documents/Documents - Alex’s MacBook Air/GitHub/data_analysis_ebs/online_experiment/data/finalver_b5/78/68_1_online_exp_2020-09-28_15h32.44.170\n",
      "/Users/alexreblando/Documents/Documents - Alex’s MacBook Air/GitHub/data_analysis_ebs/online_experiment/data/finalver_b5/78/60_1_online_exp_2020-09-28_15h31.38.312\n",
      "/Users/alexreblando/Documents/Documents - Alex’s MacBook Air/GitHub/data_analysis_ebs/online_experiment/data/finalver_b5/78/363_1_online_exp_2020-09-29_14h56.23.587\n",
      "/Users/alexreblando/Documents/Documents - Alex’s MacBook Air/GitHub/data_analysis_ebs/online_experiment/data/finalver_b5/78/11_1_online_exp_2020-09-28_12h19.59.607\n",
      "/Users/alexreblando/Documents/Documents - Alex’s MacBook Air/GitHub/data_analysis_ebs/online_experiment/data/finalver_b5/78/364_1_online_exp_2020-09-29_13h57.41.400\n",
      "/Users/alexreblando/Documents/Documents - Alex’s MacBook Air/GitHub/data_analysis_ebs/online_experiment/data/finalver_b5/78/95_1_online_exp_2020-09-28_15h37.25.966\n",
      "/Users/alexreblando/Documents/Documents - Alex’s MacBook Air/GitHub/data_analysis_ebs/online_experiment/data/finalver_b5/78/51_1_online_exp_2020-09-28_15h32.21.194\n",
      "/Users/alexreblando/Documents/Documents - Alex’s MacBook Air/GitHub/data_analysis_ebs/online_experiment/data/finalver_b5/78/2_1_online_exp_2020-09-28_08h35.38.717\n",
      "/Users/alexreblando/Documents/Documents - Alex’s MacBook Air/GitHub/data_analysis_ebs/online_experiment/data/finalver_b5/78/156_1_online_exp_2020-09-28_15h58.34.563\n",
      "/Users/alexreblando/Documents/Documents - Alex’s MacBook Air/GitHub/data_analysis_ebs/online_experiment/data/finalver_b5/78/56_1_online_exp_2020-09-28_14h32.03.858\n",
      "/Users/alexreblando/Documents/Documents - Alex’s MacBook Air/GitHub/data_analysis_ebs/online_experiment/data/finalver_b5/78/48_1_online_exp_2020-09-28_12h34.10.764\n",
      "/Users/alexreblando/Documents/Documents - Alex’s MacBook Air/GitHub/data_analysis_ebs/online_experiment/data/finalver_b5/78/142_1_online_exp_2020-09-28_13h00.09.525\n",
      "/Users/alexreblando/Documents/Documents - Alex’s MacBook Air/GitHub/data_analysis_ebs/online_experiment/data/finalver_b5/78/78_1_online_exp_2020-09-28_15h31.54.888\n",
      "/Users/alexreblando/Documents/Documents - Alex’s MacBook Air/GitHub/data_analysis_ebs/online_experiment/data/finalver_b5/78/75_1_online_exp_2020-09-28_15h32.26.227\n",
      "/Users/alexreblando/Documents/Documents - Alex’s MacBook Air/GitHub/data_analysis_ebs/online_experiment/data/finalver_b5/78/161_1_online_exp_2020-09-28_13h16.10.940\n",
      "/Users/alexreblando/Documents/Documents - Alex’s MacBook Air/GitHub/data_analysis_ebs/online_experiment/data/finalver_b6/76/191_1_online_exp_2020-10-20_12h18.12.983\n",
      "/Users/alexreblando/Documents/Documents - Alex’s MacBook Air/GitHub/data_analysis_ebs/online_experiment/data/finalver_b6/76/90_1_online_exp_2020-10-20_09h57.36.977\n",
      "/Users/alexreblando/Documents/Documents - Alex’s MacBook Air/GitHub/data_analysis_ebs/online_experiment/data/finalver_b6/76/183_1_online_exp_2020-10-20_14h55.24.040\n",
      "/Users/alexreblando/Documents/Documents - Alex’s MacBook Air/GitHub/data_analysis_ebs/online_experiment/data/finalver_b6/76/203_1_online_exp_2020-10-20_15h19.10.364\n",
      "/Users/alexreblando/Documents/Documents - Alex’s MacBook Air/GitHub/data_analysis_ebs/online_experiment/data/finalver_b6/76/77_1_online_exp_2020-10-20_12h45.19.440\n",
      "/Users/alexreblando/Documents/Documents - Alex’s MacBook Air/GitHub/data_analysis_ebs/online_experiment/data/finalver_b6/76/26_1_online_exp_2020-10-20_09h33.26.749\n",
      "/Users/alexreblando/Documents/Documents - Alex’s MacBook Air/GitHub/data_analysis_ebs/online_experiment/data/finalver_b6/76/162_1_online_exp_2020-10-20_14h50.28.654\n",
      "/Users/alexreblando/Documents/Documents - Alex’s MacBook Air/GitHub/data_analysis_ebs/online_experiment/data/finalver_b6/76/167_1_online_exp_2020-10-20_11h50.43.195\n",
      "/Users/alexreblando/Documents/Documents - Alex’s MacBook Air/GitHub/data_analysis_ebs/online_experiment/data/finalver_b6/76/30_1_online_exp_2020-10-20_09h35.15.568\n",
      "/Users/alexreblando/Documents/Documents - Alex’s MacBook Air/GitHub/data_analysis_ebs/online_experiment/data/finalver_b6/76/59_1_online_exp_2020-10-20_12h37.11.850\n",
      "/Users/alexreblando/Documents/Documents - Alex’s MacBook Air/GitHub/data_analysis_ebs/online_experiment/data/finalver_b6/76/36_1_online_exp_2020-10-20_09h37.56.622\n",
      "/Users/alexreblando/Documents/Documents - Alex’s MacBook Air/GitHub/data_analysis_ebs/online_experiment/data/finalver_b6/76/172_1_online_exp_2020-10-20_11h50.55.395\n",
      "/Users/alexreblando/Documents/Documents - Alex’s MacBook Air/GitHub/data_analysis_ebs/online_experiment/data/finalver_b6/76/4_1_online_exp_2020-10-20_11h01.55.731\n",
      "/Users/alexreblando/Documents/Documents - Alex’s MacBook Air/GitHub/data_analysis_ebs/online_experiment/data/finalver_b6/76/145_1_online_exp_2020-10-20_14h50.41.571\n",
      "/Users/alexreblando/Documents/Documents - Alex’s MacBook Air/GitHub/data_analysis_ebs/online_experiment/data/finalver_b6/76/147_1_online_exp_2020-10-20_13h50.00.000\n",
      "/Users/alexreblando/Documents/Documents - Alex’s MacBook Air/GitHub/data_analysis_ebs/online_experiment/data/finalver_b6/76/177_1_online_exp_2020-10-20_14h52.01.975\n",
      "/Users/alexreblando/Documents/Documents - Alex’s MacBook Air/GitHub/data_analysis_ebs/online_experiment/data/finalver_b6/76/54_1_online_exp_2020-10-20_12h37.08.019\n",
      "/Users/alexreblando/Documents/Documents - Alex’s MacBook Air/GitHub/data_analysis_ebs/online_experiment/data/finalver_b6/76/173_1_online_exp_2020-10-20_14h51.14.790\n",
      "/Users/alexreblando/Documents/Documents - Alex’s MacBook Air/GitHub/data_analysis_ebs/online_experiment/data/finalver_b6/76/149_1_online_exp_2020-10-20_14h50.03.916\n",
      "/Users/alexreblando/Documents/Documents - Alex’s MacBook Air/GitHub/data_analysis_ebs/online_experiment/data/finalver_b6/76/140_1_online_exp_2020-10-20_20h06.09.967\n",
      "/Users/alexreblando/Documents/Documents - Alex’s MacBook Air/GitHub/data_analysis_ebs/online_experiment/data/finalver_b6/76/29_1_online_exp_2020-10-20_12h34.37.976\n",
      "/Users/alexreblando/Documents/Documents - Alex’s MacBook Air/GitHub/data_analysis_ebs/online_experiment/data/finalver_b6/76/47_1_online_exp_2020-10-20_11h34.59.419\n",
      "/Users/alexreblando/Documents/Documents - Alex’s MacBook Air/GitHub/data_analysis_ebs/online_experiment/data/finalver_b6/76/193_1_online_exp_2020-10-20_12h10.43.698\n",
      "/Users/alexreblando/Documents/Documents - Alex’s MacBook Air/GitHub/data_analysis_ebs/online_experiment/data/finalver_b6/76/34_1_online_exp_2020-10-20_12h34.46.612\n",
      "/Users/alexreblando/Documents/Documents - Alex’s MacBook Air/GitHub/data_analysis_ebs/online_experiment/data/finalver_b6/76/52_1_online_exp_2020-10-20_11h38.13.664\n",
      "/Users/alexreblando/Documents/Documents - Alex’s MacBook Air/GitHub/data_analysis_ebs/online_experiment/data/finalver_b6/76/158_1_online_exp_2020-10-20_13h50.39.255\n",
      "/Users/alexreblando/Documents/Documents - Alex’s MacBook Air/GitHub/data_analysis_ebs/online_experiment/data/finalver_b6/76/171_1_online_exp_2020-10-20_13h51.47.597\n",
      "/Users/alexreblando/Documents/Documents - Alex’s MacBook Air/GitHub/data_analysis_ebs/online_experiment/data/finalver_b6/76/71_1_online_exp_2020-10-20_12h41.20.987\n",
      "/Users/alexreblando/Documents/Documents - Alex’s MacBook Air/GitHub/data_analysis_ebs/online_experiment/data/finalver_b6/76/176_1_online_exp_2020-10-20_14h51.05.956\n",
      "/Users/alexreblando/Documents/Documents - Alex’s MacBook Air/GitHub/data_analysis_ebs/online_experiment/data/finalver_b6/76/107_1_online_exp_2020-10-20_13h07.44.456\n",
      "/Users/alexreblando/Documents/Documents - Alex’s MacBook Air/GitHub/data_analysis_ebs/online_experiment/data/finalver_b6/76/202_1_online_exp_2020-10-20_16h02.07.415\n",
      "/Users/alexreblando/Documents/Documents - Alex’s MacBook Air/GitHub/data_analysis_ebs/online_experiment/data/finalver_b6/76/42_1_online_exp_2020-10-20_12h36.25.455\n",
      "/Users/alexreblando/Documents/Documents - Alex’s MacBook Air/GitHub/data_analysis_ebs/online_experiment/data/finalver_b6/76/179_1_online_exp_2020-10-20_11h52.32.687\n",
      "/Users/alexreblando/Documents/Documents - Alex’s MacBook Air/GitHub/data_analysis_ebs/online_experiment/data/finalver_b6/76/148_1_online_exp_2020-10-20_13h50.10.219\n",
      "/Users/alexreblando/Documents/Documents - Alex’s MacBook Air/GitHub/data_analysis_ebs/online_experiment/data/finalver_b6/76/153_1_online_exp_2020-10-20_15h11.14.280\n",
      "/Users/alexreblando/Documents/Documents - Alex’s MacBook Air/GitHub/data_analysis_ebs/online_experiment/data/finalver_b6/76/45_1_online_exp_2020-10-20_12h43.53.548\n",
      "/Users/alexreblando/Documents/Documents - Alex’s MacBook Air/GitHub/data_analysis_ebs/online_experiment/data/finalver_b6/76/33_1_online_exp_2020-10-20_12h35.19.307\n",
      "/Users/alexreblando/Documents/Documents - Alex’s MacBook Air/GitHub/data_analysis_ebs/online_experiment/data/finalver_b6/76/178_1_online_exp_2020-10-20_14h51.46.526\n",
      "/Users/alexreblando/Documents/Documents - Alex’s MacBook Air/GitHub/data_analysis_ebs/online_experiment/data/finalver_b6/76/8_1_online_exp_2020-10-20_10h07.07.928\n",
      "/Users/alexreblando/Documents/Documents - Alex’s MacBook Air/GitHub/data_analysis_ebs/online_experiment/data/finalver_b6/76/166_1_online_exp_2020-10-20_13h50.37.243\n",
      "/Users/alexreblando/Documents/Documents - Alex’s MacBook Air/GitHub/data_analysis_ebs/online_experiment/data/finalver_b6/76/181_1_online_exp_2020-10-20_14h54.58.183\n",
      "/Users/alexreblando/Documents/Documents - Alex’s MacBook Air/GitHub/data_analysis_ebs/online_experiment/data/finalver_b6/76/48_1_online_exp_2020-10-20_11h37.12.013\n",
      "/Users/alexreblando/Documents/Documents - Alex’s MacBook Air/GitHub/data_analysis_ebs/online_experiment/data/finalver_b6/76/174_1_online_exp_2020-10-20_14h57.13.139\n",
      "/Users/alexreblando/Documents/Documents - Alex’s MacBook Air/GitHub/data_analysis_ebs/online_experiment/data/finalver_b6/76/165_1_online_exp_2020-10-20_14h50.25.044\n",
      "/Users/alexreblando/Documents/Documents - Alex’s MacBook Air/GitHub/data_analysis_ebs/online_experiment/data/finalver_b6/76/85_1_online_exp_2020-10-21_00h21.05.606\n",
      "/Users/alexreblando/Documents/Documents - Alex’s MacBook Air/GitHub/data_analysis_ebs/online_experiment/data/finalver_b6/76/67_1_online_exp_2020-10-20_12h39.52.966\n",
      "/Users/alexreblando/Documents/Documents - Alex’s MacBook Air/GitHub/data_analysis_ebs/online_experiment/data/finalver_b6/76/152_1_online_exp_2020-10-20_14h50.23.352\n",
      "/Users/alexreblando/Documents/Documents - Alex’s MacBook Air/GitHub/data_analysis_ebs/online_experiment/data/finalver_b6/76/43_1_online_exp_2020-10-20_12h39.32.994\n",
      "/Users/alexreblando/Documents/Documents - Alex’s MacBook Air/GitHub/data_analysis_ebs/online_experiment/data/finalver_b6/76/25_1_online_exp_2020-10-20_13h05.13.705\n",
      "/Users/alexreblando/Documents/Documents - Alex’s MacBook Air/GitHub/data_analysis_ebs/online_experiment/data/finalver_b6/76/184_1_online_exp_2020-10-20_12h00.25.418\n",
      "/Users/alexreblando/Documents/Documents - Alex’s MacBook Air/GitHub/data_analysis_ebs/online_experiment/data/finalver_b6/76/41_1_online_exp_2020-10-20_12h36.27.639\n",
      "/Users/alexreblando/Documents/Documents - Alex’s MacBook Air/GitHub/data_analysis_ebs/online_experiment/data/finalver_b6/76/145_1_online_exp_2020-10-20_14h50.31.725\n",
      "/Users/alexreblando/Documents/Documents - Alex’s MacBook Air/GitHub/data_analysis_ebs/online_experiment/data/finalver_b6/76/130_1_online_exp_2020-10-20_13h45.48.154\n",
      "/Users/alexreblando/Documents/Documents - Alex’s MacBook Air/GitHub/data_analysis_ebs/online_experiment/data/finalver_b6/76/180_1_online_exp_2020-10-20_12h51.57.115\n",
      "/Users/alexreblando/Documents/Documents - Alex’s MacBook Air/GitHub/data_analysis_ebs/online_experiment/data/finalver_b6/76/55_1_online_exp_2020-10-20_12h51.23.435\n",
      "/Users/alexreblando/Documents/Documents - Alex’s MacBook Air/GitHub/data_analysis_ebs/online_experiment/data/finalver_b6/76/63_1_online_exp_2020-10-20_09h47.45.647\n",
      "/Users/alexreblando/Documents/Documents - Alex’s MacBook Air/GitHub/data_analysis_ebs/online_experiment/data/finalver_b6/76/168_1_online_exp_2020-10-20_12h03.01.613\n",
      "/Users/alexreblando/Documents/Documents - Alex’s MacBook Air/GitHub/data_analysis_ebs/online_experiment/data/finalver_b6/76/170_1_online_exp_2020-10-20_11h50.52.248\n",
      "/Users/alexreblando/Documents/Documents - Alex’s MacBook Air/GitHub/data_analysis_ebs/online_experiment/data/finalver_b6/76/51_1_online_exp_2020-10-20_12h36.53.040\n",
      "/Users/alexreblando/Documents/Documents - Alex’s MacBook Air/GitHub/data_analysis_ebs/online_experiment/data/finalver_b7/54/10_1_online_exp_2020-11-06_11h10.26.561\n",
      "/Users/alexreblando/Documents/Documents - Alex’s MacBook Air/GitHub/data_analysis_ebs/online_experiment/data/finalver_b7/54/27_1_online_exp_2020-11-06_13h47.04.055\n",
      "/Users/alexreblando/Documents/Documents - Alex’s MacBook Air/GitHub/data_analysis_ebs/online_experiment/data/finalver_b7/54/16_1_online_exp_2020-11-06_11h27.33.439\n",
      "/Users/alexreblando/Documents/Documents - Alex’s MacBook Air/GitHub/data_analysis_ebs/online_experiment/data/finalver_b7/54/30_1_online_exp_2020-11-06_10h46.57.193\n",
      "/Users/alexreblando/Documents/Documents - Alex’s MacBook Air/GitHub/data_analysis_ebs/online_experiment/data/finalver_b7/54/15_1_online_exp_2020-11-06_11h22.55.686\n",
      "/Users/alexreblando/Documents/Documents - Alex’s MacBook Air/GitHub/data_analysis_ebs/online_experiment/data/finalver_b7/54/4_1_online_exp_2020-11-06_10h55.04.408\n",
      "/Users/alexreblando/Documents/Documents - Alex’s MacBook Air/GitHub/data_analysis_ebs/online_experiment/data/finalver_b7/54/18_1_online_exp_2020-11-06_11h28.16.974\n",
      "/Users/alexreblando/Documents/Documents - Alex’s MacBook Air/GitHub/data_analysis_ebs/online_experiment/data/finalver_b7/54/6_1_online_exp_2020-11-06_10h57.53.639\n",
      "/Users/alexreblando/Documents/Documents - Alex’s MacBook Air/GitHub/data_analysis_ebs/online_experiment/data/finalver_b7/54/58_1_online_exp_2020-11-06_10h48.29.750\n",
      "/Users/alexreblando/Documents/Documents - Alex’s MacBook Air/GitHub/data_analysis_ebs/online_experiment/data/finalver_b7/54/1_1_online_exp_2020-11-06_09h49.03.453\n",
      "/Users/alexreblando/Documents/Documents - Alex’s MacBook Air/GitHub/data_analysis_ebs/online_experiment/data/finalver_b7/54/8_1_online_exp_2020-11-06_11h06.21.134\n",
      "/Users/alexreblando/Documents/Documents - Alex’s MacBook Air/GitHub/data_analysis_ebs/online_experiment/data/finalver_b7/54/38_1_online_exp_2020-11-06_13h48.33.731\n",
      "/Users/alexreblando/Documents/Documents - Alex’s MacBook Air/GitHub/data_analysis_ebs/online_experiment/data/finalver_b7/54/37_1_online_exp_2020-11-06_13h47.04.127\n",
      "/Users/alexreblando/Documents/Documents - Alex’s MacBook Air/GitHub/data_analysis_ebs/online_experiment/data/finalver_b7/54/19_1_online_exp_2020-11-06_11h29.28.971\n",
      "/Users/alexreblando/Documents/Documents - Alex’s MacBook Air/GitHub/data_analysis_ebs/online_experiment/data/finalver_b7/54/61_1_online_exp_2020-11-06_14h01.52.522\n",
      "/Users/alexreblando/Documents/Documents - Alex’s MacBook Air/GitHub/data_analysis_ebs/online_experiment/data/finalver_b7/54/26_1_online_exp_2020-11-06_10h23.48.899\n",
      "/Users/alexreblando/Documents/Documents - Alex’s MacBook Air/GitHub/data_analysis_ebs/online_experiment/data/finalver_b7/54/59_1_online_exp_2020-11-06_12h49.46.131\n",
      "/Users/alexreblando/Documents/Documents - Alex’s MacBook Air/GitHub/data_analysis_ebs/online_experiment/data/finalver_b7/54/44_1_online_exp_2020-11-06_10h47.27.303\n",
      "/Users/alexreblando/Documents/Documents - Alex’s MacBook Air/GitHub/data_analysis_ebs/online_experiment/data/finalver_b7/54/46_1_online_exp_2020-11-06_13h52.07.336\n",
      "/Users/alexreblando/Documents/Documents - Alex’s MacBook Air/GitHub/data_analysis_ebs/online_experiment/data/finalver_b7/54/21_1_online_exp_2020-11-06_10h36.15.869\n",
      "/Users/alexreblando/Documents/Documents - Alex’s MacBook Air/GitHub/data_analysis_ebs/online_experiment/data/finalver_b7/54/12_1_online_exp_2020-11-06_10h18.01.277\n",
      "/Users/alexreblando/Documents/Documents - Alex’s MacBook Air/GitHub/data_analysis_ebs/online_experiment/data/finalver_b7/54/9_1_online_exp_2020-11-06_09h08.32.909\n",
      "/Users/alexreblando/Documents/Documents - Alex’s MacBook Air/GitHub/data_analysis_ebs/online_experiment/data/finalver_b7/54/55_1_online_exp_2020-11-06_13h48.18.537\n",
      "/Users/alexreblando/Documents/Documents - Alex’s MacBook Air/GitHub/data_analysis_ebs/online_experiment/data/finalver_b7/54/7_1_online_exp_2020-11-06_11h02.36.066\n",
      "/Users/alexreblando/Documents/Documents - Alex’s MacBook Air/GitHub/data_analysis_ebs/online_experiment/data/finalver_b7/54/17_1_online_exp_2020-11-06_11h34.15.307\n",
      "/Users/alexreblando/Documents/Documents - Alex’s MacBook Air/GitHub/data_analysis_ebs/online_experiment/data/finalver_b7/54/40_1_online_exp_2020-11-06_13h13.19.570\n",
      "/Users/alexreblando/Documents/Documents - Alex’s MacBook Air/GitHub/data_analysis_ebs/online_experiment/data/finalver_b7/54/41_1_online_exp_2020-11-06_12h47.02.724\n",
      "/Users/alexreblando/Documents/Documents - Alex’s MacBook Air/GitHub/data_analysis_ebs/online_experiment/data/finalver_b7/54/13_1_online_exp_2020-11-06_08h20.47.907\n",
      "/Users/alexreblando/Documents/Documents - Alex’s MacBook Air/GitHub/data_analysis_ebs/online_experiment/data/finalver_b7/54/33_1_online_exp_2020-11-06_13h48.40.918\n",
      "/Users/alexreblando/Documents/Documents - Alex’s MacBook Air/GitHub/data_analysis_ebs/online_experiment/data/finalver_b7/54/5_1_online_exp_2020-11-06_09h57.16.331\n",
      "/Users/alexreblando/Documents/Documents - Alex’s MacBook Air/GitHub/data_analysis_ebs/online_experiment/data/finalver_b7/54/35_1_online_exp_2020-11-06_13h47.46.921\n",
      "/Users/alexreblando/Documents/Documents - Alex’s MacBook Air/GitHub/data_analysis_ebs/online_experiment/data/finalver_b7/54/31_1_online_exp_2020-11-06_10h46.56.865\n",
      "/Users/alexreblando/Documents/Documents - Alex’s MacBook Air/GitHub/data_analysis_ebs/online_experiment/data/finalver_b7/54/34_1_online_exp_2020-11-06_13h47.27.221\n",
      "/Users/alexreblando/Documents/Documents - Alex’s MacBook Air/GitHub/data_analysis_ebs/online_experiment/data/finalver_b7/54/56_1_online_exp_2020-11-06_10h51.07.976\n",
      "/Users/alexreblando/Documents/Documents - Alex’s MacBook Air/GitHub/data_analysis_ebs/online_experiment/data/finalver_b7/54/76_1_online_exp_2020-11-06_14h05.41.268\n",
      "/Users/alexreblando/Documents/Documents - Alex’s MacBook Air/GitHub/data_analysis_ebs/online_experiment/data/finalver_b7/54/29_1_online_exp_2020-11-06_13h47.49.127\n",
      "/Users/alexreblando/Documents/Documents - Alex’s MacBook Air/GitHub/data_analysis_ebs/online_experiment/data/finalver_b7/54/72_1_online_exp_2020-11-06_14h04.21.059\n",
      "/Users/alexreblando/Documents/Documents - Alex’s MacBook Air/GitHub/data_analysis_ebs/online_experiment/data/finalver_b7/54/39_1_online_exp_2020-11-06_10h51.04.829\n",
      "/Users/alexreblando/Documents/Documents - Alex’s MacBook Air/GitHub/data_analysis_ebs/online_experiment/data/finalver_b7/54/3_1_online_exp_2020-11-06_10h52.31.710\n",
      "/Users/alexreblando/Documents/Documents - Alex’s MacBook Air/GitHub/data_analysis_ebs/online_experiment/data/finalver_b7/54/43_1_online_exp_2020-11-06_13h50.52.838\n",
      "/Users/alexreblando/Documents/Documents - Alex’s MacBook Air/GitHub/data_analysis_ebs/online_experiment/data/finalver_b7/54/70_1_online_exp_2020-11-06_13h00.48.890\n",
      "/Users/alexreblando/Documents/Documents - Alex’s MacBook Air/GitHub/data_analysis_ebs/online_experiment/data/finalver_b8/10/3_1_online_exp_2020-11-20_10h37.17.398\n",
      "/Users/alexreblando/Documents/Documents - Alex’s MacBook Air/GitHub/data_analysis_ebs/online_experiment/data/finalver_b8/10/6_1_online_exp_2020-11-20_13h00.00.996\n",
      "/Users/alexreblando/Documents/Documents - Alex’s MacBook Air/GitHub/data_analysis_ebs/online_experiment/data/finalver_b8/10/61_1_online_exp_2020-11-28_18h00.40.034\n",
      "/Users/alexreblando/Documents/Documents - Alex’s MacBook Air/GitHub/data_analysis_ebs/online_experiment/data/finalver_b8/10/54_1_online_exp_2020-11-28_15h52.08.378\n",
      "/Users/alexreblando/Documents/Documents - Alex’s MacBook Air/GitHub/data_analysis_ebs/online_experiment/data/finalver_b8/10/59_1_online_exp_2020-11-28_14h18.22.452\n",
      "/Users/alexreblando/Documents/Documents - Alex’s MacBook Air/GitHub/data_analysis_ebs/online_experiment/data/finalver_b8/10/1_1_online_exp_2020-11-20_12h31.55.742\n",
      "/Users/alexreblando/Documents/Documents - Alex’s MacBook Air/GitHub/data_analysis_ebs/online_experiment/data/finalver_b8/10/60_1_online_exp_2020-11-28_17h27.37.638\n",
      "/Users/alexreblando/Documents/Documents - Alex’s MacBook Air/GitHub/data_analysis_ebs/online_experiment/data/finalver_b8/10/62_1_online_exp_2020-12-01_01h47.52.213\n",
      "/Users/alexreblando/Documents/Documents - Alex’s MacBook Air/GitHub/data_analysis_ebs/online_experiment/data/finalver_b8/10/57_1_online_exp_2020-11-28_14h05.05.137\n"
     ]
    }
   ],
   "source": [
    "stories = []\n",
    "\n",
    "for key in data_dict:\n",
    "    print(key)\n",
    "    stories.append(data_dict[key]['story'].iloc[0])"
   ]
  },
  {
   "cell_type": "code",
   "execution_count": 21,
   "metadata": {},
   "outputs": [
    {
     "data": {
      "text/plain": [
       "311"
      ]
     },
     "execution_count": 21,
     "metadata": {},
     "output_type": "execute_result"
    }
   ],
   "source": [
    "len(stories)"
   ]
  },
  {
   "cell_type": "markdown",
   "metadata": {},
   "source": [
    "### B. Count the stories"
   ]
  },
  {
   "cell_type": "code",
   "execution_count": 22,
   "metadata": {},
   "outputs": [],
   "source": [
    "all_stories = [11, 12, 13, 14, 21, 22, 23, 24, 31, 32, 33, 34, 41, 42, 43, 44]\n",
    "story_count = []\n",
    "\n",
    "for i in all_stories:\n",
    "    story_count.append(stories.count(i))"
   ]
  },
  {
   "cell_type": "markdown",
   "metadata": {},
   "source": [
    "### C. Plot the distribution"
   ]
  },
  {
   "cell_type": "code",
   "execution_count": 23,
   "metadata": {},
   "outputs": [
    {
     "data": {
      "image/png": "[encoded data removed]",
      "text/plain": [
       "<Figure size 1440x720 with 1 Axes>"
      ]
     },
     "metadata": {
      "needs_background": "light"
     },
     "output_type": "display_data"
    }
   ],
   "source": [
    "plt.figure(figsize=(20,10))\n",
    "yint = range(0, math.ceil(max(story_count))+1)\n",
    "x = np.arange(16)\n",
    "plt.bar(x, story_count)\n",
    "plt.yticks(yint)\n",
    "_ = plt.xticks(x, all_stories)"
   ]
  },
  {
   "cell_type": "markdown",
   "metadata": {},
   "source": [
    "## II. Distribution of the Combinations of Stories and Perspectives\n",
    "\n",
    "### A. Finding the distribution of combinations"
   ]
  },
  {
   "cell_type": "code",
   "execution_count": 24,
   "metadata": {},
   "outputs": [],
   "source": [
    "comb_distr = np.zeros((3, 16))\n",
    "\n",
    "for key in data_dict:\n",
    "    this_story = data_dict[key]['story'].iloc[0]\n",
    "    this_type = data_dict[key]['p_type'].iloc[0]\n",
    "    if this_story == 11:\n",
    "        if this_type == 0:\n",
    "            comb_distr[0,0] += 1\n",
    "        if this_type == 1:\n",
    "            comb_distr[1,0] += 1\n",
    "        if this_type == 2:\n",
    "            comb_distr[2,0] += 1\n",
    "    if this_story == 12:\n",
    "        if this_type == 0:\n",
    "            comb_distr[0,1] += 1\n",
    "        if this_type == 1:\n",
    "            comb_distr[1,1] += 1\n",
    "        if this_type == 2:\n",
    "            comb_distr[2,1] += 1\n",
    "    if this_story == 13:\n",
    "        if this_type == 0:\n",
    "            comb_distr[0,2] += 1\n",
    "        if this_type == 1:\n",
    "            comb_distr[1,2] += 1\n",
    "        if this_type == 2:\n",
    "            comb_distr[2,2] += 1\n",
    "    if this_story == 14:\n",
    "        if this_type == 0:\n",
    "            comb_distr[0,3] += 1\n",
    "        if this_type == 1:\n",
    "            comb_distr[1,3] += 1\n",
    "        if this_type == 2:\n",
    "            comb_distr[2,3] += 1\n",
    "    if this_story == 21:\n",
    "        if this_type == 0:\n",
    "            comb_distr[0,4] += 1\n",
    "        if this_type == 1:\n",
    "            comb_distr[1,4] += 1\n",
    "        if this_type == 2:\n",
    "            comb_distr[2,4] += 1\n",
    "    if this_story == 22:\n",
    "        if this_type == 0:\n",
    "            comb_distr[0,5] += 1\n",
    "        if this_type == 1:\n",
    "            comb_distr[1,5] += 1\n",
    "        if this_type == 2:\n",
    "            comb_distr[2,5] += 1\n",
    "    if this_story == 23:\n",
    "        if this_type == 0:\n",
    "            comb_distr[0,6] += 1\n",
    "        if this_type == 1:\n",
    "            comb_distr[1,6] += 1\n",
    "        if this_type == 2:\n",
    "            comb_distr[2,6] += 1\n",
    "    if this_story == 24:\n",
    "        if this_type == 0:\n",
    "            comb_distr[0,7] += 1\n",
    "        if this_type == 1:\n",
    "            comb_distr[1,7] += 1\n",
    "        if this_type == 2:\n",
    "            comb_distr[2,7] += 1\n",
    "    if this_story == 31:\n",
    "        if this_type == 0:\n",
    "            comb_distr[0,8] += 1\n",
    "        if this_type == 1:\n",
    "            comb_distr[1,8] += 1\n",
    "        if this_type == 2:\n",
    "            comb_distr[2,8] += 1\n",
    "    if this_story == 32:\n",
    "        if this_type == 0:\n",
    "            comb_distr[0,9] += 1\n",
    "        if this_type == 1:\n",
    "            comb_distr[1,9] += 1\n",
    "        if this_type == 2:\n",
    "            comb_distr[2,9] += 1\n",
    "    if this_story == 33:\n",
    "        if this_type == 0:\n",
    "            comb_distr[0,10] += 1\n",
    "        if this_type == 1:\n",
    "            comb_distr[1,10] += 1\n",
    "        if this_type == 2:\n",
    "            comb_distr[2,10] += 1\n",
    "    if this_story == 34:\n",
    "        if this_type == 0:\n",
    "            comb_distr[0,11] += 1\n",
    "        if this_type == 1:\n",
    "            comb_distr[1,11] += 1\n",
    "        if this_type == 2:\n",
    "            comb_distr[2,11] += 1\n",
    "    if this_story == 41:\n",
    "        if this_type == 0:\n",
    "            comb_distr[0,12] += 1\n",
    "        if this_type == 1:\n",
    "            comb_distr[1,12] += 1\n",
    "        if this_type == 2:\n",
    "            comb_distr[2,12] += 1\n",
    "    if this_story == 42:\n",
    "        if this_type == 0:\n",
    "            comb_distr[0,13] += 1\n",
    "        if this_type == 1:\n",
    "            comb_distr[1,13] += 1\n",
    "        if this_type == 2:\n",
    "            comb_distr[2,13] += 1\n",
    "    if this_story == 43:\n",
    "        if this_type == 0:\n",
    "            comb_distr[0,14] += 1\n",
    "        if this_type == 1:\n",
    "            comb_distr[1,14] += 1\n",
    "        if this_type == 2:\n",
    "            comb_distr[2,14] += 1\n",
    "    if this_story == 44:\n",
    "        if this_type == 0:\n",
    "            comb_distr[0,15] += 1\n",
    "        if this_type == 1:\n",
    "            comb_distr[1,15] += 1\n",
    "        if this_type == 2:\n",
    "            comb_distr[2,15] += 1\n",
    "            "
   ]
  },
  {
   "cell_type": "markdown",
   "metadata": {},
   "source": [
    "### B. Plotting the Distribution of Combinations: heatmap"
   ]
  },
  {
   "cell_type": "code",
   "execution_count": 25,
   "metadata": {},
   "outputs": [
    {
     "data": {
      "image/png": "[encoded data removed]",
      "text/plain": [
       "<Figure size 1440x720 with 1 Axes>"
      ]
     },
     "metadata": {
      "needs_background": "light"
     },
     "output_type": "display_data"
    }
   ],
   "source": [
    "\n",
    "fig, ax = plt.subplots(figsize=(20, 10))\n",
    "im = ax.imshow(comb_distr)\n",
    "\n",
    "\n",
    "# We want to show all ticks...\n",
    "ax.set_xticks(np.arange(len(all_stories)))\n",
    "ax.set_yticks(np.arange(3))\n",
    "# ... and label them with the respective list entries\n",
    "_ = ax.set_xticklabels(all_stories)\n",
    "_ = ax.set_yticklabels(['no prime', 'location prime', 'social prime'])\n",
    "\n",
    "# Loop over data dimensions and create text annotations.\n",
    "for i in range(3):\n",
    "    for j in range(len(all_stories)):\n",
    "        text = ax.text(j, i, comb_distr[i, j],\n",
    "                       ha=\"center\", va=\"center\", color=\"w\")\n",
    "\n",
    "ax.set_title(\"Distribution of Participants\")\n",
    "fig.tight_layout()\n",
    "fig.savefig('distr.png')\n",
    "\n",
    "\n"
   ]
  },
  {
   "cell_type": "markdown",
   "metadata": {},
   "source": []
  },
  {
   "cell_type": "markdown",
   "metadata": {},
   "source": [
    "## C. Preparing vector for online experiment\n",
    "### 1. Create a vector with the number of remaining subjects for each condition for Online Exp\n",
    "### - organized as [11-np, 11-l, 11-s, 12-np, 12-l, 12-s...]"
   ]
  },
  {
   "cell_type": "code",
   "execution_count": 26,
   "metadata": {},
   "outputs": [
    {
     "name": "stdout",
     "output_type": "stream",
     "text": [
      "311.0  participants collected\n",
      "2.0  participants needed\n",
      "4.0  participants 'needed' for the experiment\n"
     ]
    }
   ],
   "source": [
    "# Flatten the comb_distr array in column-major order\n",
    "fl_comb_distr = comb_distr.flatten(\"F\")\n",
    "\n",
    "# For each element, find out how much smaller the number is than 6\n",
    "remaining = np.zeros((fl_comb_distr.shape[0]))\n",
    "for i in range(0, fl_comb_distr.shape[0]):\n",
    "    if fl_comb_distr[i] < 5:\n",
    "        remaining[i] = 5 - fl_comb_distr[i]\n",
    "\n",
    "# For each element, find out how much smaller the number is than 5, indicating how many participants we \n",
    "# actually need\n",
    "remaining_5 = np.zeros((fl_comb_distr.shape[0]))\n",
    "for i in range(0, fl_comb_distr.shape[0]):\n",
    "    if fl_comb_distr[i] < 5:\n",
    "        remaining_5[i] = 5 - fl_comb_distr[i]\n",
    "        \n",
    "# Add 1 to values in remaining array, so that more participants are collected than needed, due to skipping\n",
    "for i in range(0, len(remaining)):\n",
    "    if remaining[i] > 0:\n",
    "        remaining[i] += 1\n",
    "        \n",
    "# Find the total number of remaining subjects\n",
    "print(np.sum(fl_comb_distr), \" participants collected\")\n",
    "print(np.sum(remaining_5), \" participants needed\")\n",
    "print(np.sum(remaining), \" participants 'needed' for the experiment\")"
   ]
  },
  {
   "cell_type": "markdown",
   "metadata": {},
   "source": [
    "### 2. Find the cumsum of participants"
   ]
  },
  {
   "cell_type": "code",
   "execution_count": 36,
   "metadata": {},
   "outputs": [
    {
     "data": {
      "text/plain": [
       "array([0, 0, 0, 0, 0, 0, 0, 0, 0, 0, 0, 0, 0, 0, 0, 0, 0, 0, 0, 0, 0, 0,\n",
       "       0, 0, 0, 0, 0, 0, 0, 0, 0, 0, 0, 0, 0, 0, 0, 0, 0, 0, 0, 0, 0, 0,\n",
       "       0, 0, 0, 0])"
      ]
     },
     "execution_count": 36,
     "metadata": {},
     "output_type": "execute_result"
    }
   ],
   "source": [
    "cs = np.cumsum(remaining)\n",
    "cs.astype(int)"
   ]
  },
  {
   "cell_type": "markdown",
   "metadata": {},
   "source": [
    "### 3. Find the story that each participant would be assigned to, and put in a N participants needed length vector"
   ]
  },
  {
   "cell_type": "code",
   "execution_count": 11,
   "metadata": {},
   "outputs": [
    {
     "name": "stdout",
     "output_type": "stream",
     "text": [
      "[ 8  9 10 11 12 13 14 15 16 17 18 19 20 21 22 23 24 25 26 27 28 29 30 31\n",
      " 32 33 34 35 36 37 38 39 40 41 42 43 44 45 46 47]\n",
      "[ 8  9 10 11 12 13 14 15 16 17 18 19 20 21 22 23 24 25 26 27 28 29 30 31\n",
      " 32 33 34 35 36 37 38 39 40 41 42 43 44 45 46 47]\n",
      "[29 30 31 32 33 34 35 36 37 38 39 40 41 42 43 44 45 46 47]\n",
      "[29 30 31 32 33 34 35 36 37 38 39 40 41 42 43 44 45 46 47]\n",
      "[29 30 31 32 33 34 35 36 37 38 39 40 41 42 43 44 45 46 47]\n",
      "[33 34 35 36 37 38 39 40 41 42 43 44 45 46 47]\n",
      "[33 34 35 36 37 38 39 40 41 42 43 44 45 46 47]\n",
      "[47]\n",
      "[47]\n"
     ]
    }
   ],
   "source": [
    "participant_2_story_mapping = np.zeros(9)\n",
    "this_story = 0\n",
    "\n",
    "for i in range(0, 9):\n",
    "    v = min(np.where(i < cs))\n",
    "    print(v)\n",
    "    min_v = int(min(v))\n",
    "    participant_2_story_mapping[i] = min_v\n",
    "    "
   ]
  },
  {
   "cell_type": "markdown",
   "metadata": {},
   "source": [
    "#### 4. Shuffle the participant_2_story_mapping vector"
   ]
  },
  {
   "cell_type": "code",
   "execution_count": 12,
   "metadata": {},
   "outputs": [
    {
     "name": "stdout",
     "output_type": "stream",
     "text": [
      "[29.  8. 47. 29.  8. 33. 47. 29. 33.]\n"
     ]
    }
   ],
   "source": [
    "shuf_p2sm = np.random.permutation(participant_2_story_mapping)\n",
    "print(shuf_p2sm)"
   ]
  },
  {
   "cell_type": "code",
   "execution_count": 13,
   "metadata": {},
   "outputs": [
    {
     "data": {
      "text/plain": [
       "array([ 8.,  8., 29., 29., 29., 33., 33., 47., 47.])"
      ]
     },
     "execution_count": 13,
     "metadata": {},
     "output_type": "execute_result"
    }
   ],
   "source": [
    "participant_2_story_mapping"
   ]
  },
  {
   "cell_type": "code",
   "execution_count": 23,
   "metadata": {},
   "outputs": [
    {
     "data": {
      "text/plain": [
       "47"
      ]
     },
     "execution_count": 23,
     "metadata": {},
     "output_type": "execute_result"
    }
   ],
   "source": [
    "j"
   ]
  },
  {
   "cell_type": "code",
   "execution_count": null,
   "metadata": {},
   "outputs": [],
   "source": []
  }
 ],
 "metadata": {
  "kernelspec": {
   "display_name": "Python 3",
   "language": "python",
   "name": "python3"
  },
  "language_info": {
   "codemirror_mode": {
    "name": "ipython",
    "version": 3
   },
   "file_extension": ".py",
   "mimetype": "text/x-python",
   "name": "python",
   "nbconvert_exporter": "python",
   "pygments_lexer": "ipython3",
   "version": "3.8.5"
  }
 },
 "nbformat": 4,
 "nbformat_minor": 2
}
