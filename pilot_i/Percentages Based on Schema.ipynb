{
 "cells": [
  {
   "cell_type": "code",
   "execution_count": null,
   "metadata": {},
   "outputs": [],
   "source": [
    "#Analysis of Participants' segmentation response while reading the stories"
   ]
  },
  {
   "cell_type": "code",
   "execution_count": 1,
   "metadata": {
    "scrolled": false
   },
   "outputs": [
    {
     "name": "stdout",
     "output_type": "stream",
     "text": [
      "['/Users/alexreblando/Documents/GitHub/ebs/pilot2/usable_data_pilot2/061419_p1_body_behavioural_2019_Jun_14_1401.csv', '/Users/alexreblando/Documents/GitHub/ebs/pilot2/usable_data_pilot2/061919_p1_body_behavioural_2019_Jun_19_1736.csv', '/Users/alexreblando/Documents/GitHub/ebs/pilot2/usable_data_pilot2/062019_p1_body_behavioural_2019_Jun_20_1023.csv', '/Users/alexreblando/Documents/GitHub/ebs/pilot2/usable_data_pilot2/062019_p2_body_behavioural_2019_Jun_20_1433.csv', '/Users/alexreblando/Documents/GitHub/ebs/pilot2/usable_data_pilot2/062119_p1_body_behavioural_2019_Jun_21_1520.csv', '/Users/alexreblando/Documents/GitHub/ebs/pilot2/usable_data_pilot2/062419_p1_body_behavioural_2019_Jun_24_1520.csv', '/Users/alexreblando/Documents/GitHub/ebs/pilot2/usable_data_pilot2/062519_p1_body_behavioural_2019_Jun_25_1044.csv', '/Users/alexreblando/Documents/GitHub/ebs/pilot2/usable_data_pilot2/062519_p2_body_behavioural_2019_Jun_25_1339.csv', '/Users/alexreblando/Documents/GitHub/ebs/pilot2/usable_data_pilot2/062519_p3_body_behavioural_2019_Jun_25_1521.csv', '/Users/alexreblando/Documents/GitHub/ebs/pilot2/usable_data_pilot2/062619_p1_body_behavioural_2019_Jun_26_1728.csv', '/Users/alexreblando/Documents/GitHub/ebs/pilot2/usable_data_pilot2/062719_p1_body_behavioural_2019_Jun_27_1222.csv', '/Users/alexreblando/Documents/GitHub/ebs/pilot2/usable_data_pilot2/062719_p2_body_behavioural_2019_Jun_27_1417.csv', '/Users/alexreblando/Documents/GitHub/ebs/pilot2/usable_data_pilot2/062719_p3_body_behavioural_2019_Jun_27_1618.csv', '/Users/alexreblando/Documents/GitHub/ebs/pilot2/usable_data_pilot2/062819_p1_body_behavioural_2019_Jun_28_1218.csv', '/Users/alexreblando/Documents/GitHub/ebs/pilot2/usable_data_pilot2/062819_p2_body_behavioural_2019_Jun_28_1423.csv']\n"
     ]
    }
   ],
   "source": [
    "import pandas as pd\n",
    "import numpy as np\n",
    "import plotly.graph_objs as go\n",
    "import plotly.plotly as py\n",
    "import plotly\n",
    "import os\n",
    "import glob\n",
    "import math\n",
    "import statistics\n",
    "import matplotlib.pyplot as plt\n",
    "import seaborn as sns\n",
    "\n",
    "plotly.tools.set_credentials_file(username='amr7', api_key='4gj9vxlD7C63cCRCaRdU')\n",
    "\n",
    "#iMac\n",
    "#directory = '/Users/alexreblando/Library/Mobile Documents/com~apple~CloudDocs/Documents/GitHub/ebs/usable_data'\n",
    "\n",
    "########################first pilot data#########################################\n",
    "#laptop\n",
    "#directory = '/Users/alexreblando/Documents/GitHub/ebs/usable_data'\n",
    "#directory_stories = '/Users/alexreblando/Documents/GitHub/ebs/story_xlsx_files'\n",
    "    #old stories\n",
    "#directory_stories = '/Users/alexreblando/Downloads/ebs-master/story_xlsx_files'\n",
    "\n",
    "#####################second pilot data#############################################\n",
    "#laptop\n",
    "directory = '/Users/alexreblando/Documents/GitHub/ebs/pilot2/usable_data_pilot2'\n",
    "directory_stories = '/Users/alexreblando/Documents/GitHub/ebs/pilot2/pilot2_story_xlsx_files'\n",
    "\n",
    "filenames = glob.glob(directory+ '/*.csv')\n",
    "filenames_stories = glob.glob(directory_stories + '/*.xlsx')\n",
    "\n",
    "dfs = []\n",
    "dfs_stories = []\n",
    "print(filenames)\n",
    "\n",
    "for filename in filenames:\n",
    "    dfs.append(pd.read_csv(filename))\n",
    "    \n",
    "for filename in filenames_stories:\n",
    "    dfs_stories.append(pd.read_excel(filename))"
   ]
  },
  {
   "cell_type": "code",
   "execution_count": 2,
   "metadata": {
    "scrolled": false
   },
   "outputs": [],
   "source": [
    "#create a dictionary for each participant, documenting which stories they read paired with the schema \n",
    "#they were assigned for that story\n",
    "size_dfs = len(dfs)\n",
    "participants = dict()\n",
    "\n",
    "for s in range(size_dfs):\n",
    "    this_dict = dict()\n",
    "    story_list = dfs[s]['order of stories'].iloc[0].split(' ')\n",
    "    story_list = [elem.replace(\"[\",\"\").replace(\"]\",\"\") for elem in story_list]\n",
    "    schema_list = dfs[s]['order of perspectives'].iloc[0].split(' ')\n",
    "    schema_list = [elem.replace(\"[\",\"\").replace(\"]\",\"\") for elem in schema_list]\n",
    "    schema_list = [elem.replace(\"\\n\",\"\") for elem in schema_list]\n",
    "    schema_list = [elem.replace(\"'\",\"\") for elem in schema_list]\n",
    "    this_p = dfs[s]['participant'].iloc[0]\n",
    "    for i in range(8):\n",
    "        final_dict = {\n",
    "            'story':story_list[i],\n",
    "            'schema':schema_list[i],\n",
    "        }\n",
    "        \n",
    "        this_dict[i+1] = final_dict\n",
    "        \n",
    "    participants[this_p] = this_dict\n",
    "\n"
   ]
  },
  {
   "cell_type": "code",
   "execution_count": 3,
   "metadata": {
    "scrolled": false
   },
   "outputs": [],
   "source": [
    "#create a dictionary for the answers to the 8 questions for each story, not parsing the questions \n",
    "#by primed or unprimed\n",
    "\n",
    "question_answers = dict()\n",
    "\n",
    "for s in range(size_dfs):\n",
    "    story_list = dfs[s]['order of stories'].iloc[0].split(' ')\n",
    "    story_list = [elem.replace(\"[\",\"\").replace(\"]\",\"\") for elem in story_list]\n",
    "    schema_list = dfs[s]['order of perspectives'].iloc[0].split(' ')\n",
    "    schema_list = [elem.replace(\"[\",\"\").replace(\"]\",\"\") for elem in schema_list]\n",
    "    schema_list = [elem.replace(\"\\n\",\"\") for elem in schema_list]\n",
    "    schema_list = [elem.replace(\"'\",\"\") for elem in schema_list]\n",
    "    #if the data file has a question portion\n",
    "    if 'question1_answer' in dfs[s].columns:\n",
    "        \n",
    "        #get the question order of the stories (\"primed v not-primed first\")\n",
    "        question_order = dfs[s]['order of question']\n",
    "        which_one = pd.notna(question_order)\n",
    "        question_order_list = []\n",
    "        for k in range(len(question_order)):\n",
    "            if which_one[k] == True:\n",
    "                question_order_list.append(question_order[k])  \n",
    "        \n",
    "        #loop through all the stories \n",
    "        for i in range(8):\n",
    "            new_questions = [dfs[s]['participant'].iloc[0], story_list[i], schema_list[i]]\n",
    "            which_rows = dfs[s].loc[dfs[s]['count'] == i]\n",
    "            tally_completed = 0\n",
    "            #loop through all the questions\n",
    "            for j in range(8):\n",
    "                this_question = 'question'+str(j+1)+'_answer'\n",
    "                which_cell = pd.notna(which_rows[this_question])\n",
    "                any_answer = np.any(which_cell)\n",
    "                if any_answer == False:\n",
    "                    new_questions.append('')\n",
    "                else:\n",
    "                    for t in range(len(which_rows)):\n",
    "                        if which_cell.iloc[t] == True:\n",
    "                            hold = which_rows[this_question].iloc[t]\n",
    "                            tally_completed = tally_completed + 1\n",
    "                    new_questions.append(hold)\n",
    "            \n",
    "            #move the order of the stories, so that location questions always come first\n",
    "            if tally_completed > 0:\n",
    "                if question_order_list[i] == 'primed first' and schema_list[i] == 'Social':\n",
    "                    temp = new_questions[3:12]\n",
    "                    temp = np.roll(temp, 4)\n",
    "                    new_questions[3:12] = temp\n",
    "                if question_order_list[i] == 'non-primed first' and schema_list[i] == 'Location':\n",
    "                    temp = new_questions[3:12]\n",
    "                    temp = np.roll(temp, 4)\n",
    "                    new_questions[3:12] = temp\n",
    "                    \n",
    "            #put all of the questions into dictionaries organized by story\n",
    "            if story_list[i] in question_answers:\n",
    "                question_answers[story_list[i]] = np.vstack((question_answers[story_list[i]], new_questions))\n",
    "            else:\n",
    "                question_answers[story_list[i]] = new_questions\n",
    "                \n"
   ]
  },
  {
   "cell_type": "code",
   "execution_count": 6,
   "metadata": {
    "scrolled": false
   },
   "outputs": [],
   "source": [
    "#export each story answers to its own csv file\n",
    "import csv\n",
    "\n",
    "for key in question_answers:\n",
    "    title = 'raw_recall/'+ key + '_recall_answers.csv'\n",
    "    this_array = question_answers[key]\n",
    "    with open(title, 'w') as csvfile:\n",
    "        fieldnames = ['participant', 'story', 'schema', '1', '2', '3', '4','5', '6','7','8']\n",
    "        writer = csv.DictWriter(csvfile, fieldnames=fieldnames)\n",
    "        writer.writeheader()\n",
    "        for i in range(len(this_array)):\n",
    "            a = this_array[i, 0]\n",
    "            b = this_array[i, 1]\n",
    "            c = this_array[i, 2]\n",
    "            d = this_array[i, 3]\n",
    "            e = this_array[i, 4]\n",
    "            f = this_array[i, 5]\n",
    "            g = this_array[i, 6]\n",
    "            h = this_array[i, 7]\n",
    "            j = this_array[i, 8]\n",
    "            k = this_array[i, 9]\n",
    "            l = this_array[i, 10]\n",
    "            writer.writerow({'participant': a, 'story': b, 'schema': c, '1': d, '2': e, '3': f, '4':g, '5':h, '6':j, '7':k,'8':l})\n",
    "\n",
    "            \n",
    "        "
   ]
  },
  {
   "cell_type": "code",
   "execution_count": 7,
   "metadata": {},
   "outputs": [
    {
     "data": {
      "text/plain": [
       "43.0"
      ]
     },
     "execution_count": 7,
     "metadata": {},
     "output_type": "execute_result"
    }
   ],
   "source": [
    "dfs_stories[s]['story'].iloc[0]"
   ]
  },
  {
   "cell_type": "code",
   "execution_count": 4,
   "metadata": {
    "scrolled": false
   },
   "outputs": [
    {
     "name": "stdout",
     "output_type": "stream",
     "text": [
      "061419_p1\n",
      "Social\n",
      "1\n",
      "062019_p2\n",
      "Location\n",
      "5\n",
      "062119_p1\n",
      "Social\n",
      "6\n",
      "062519_p2\n",
      "Location\n",
      "2\n",
      "062619_p1\n",
      "Location\n",
      "1\n",
      "062719_p2\n",
      "Social\n",
      "5\n",
      "062819_p1\n",
      "Social\n",
      "1\n"
     ]
    }
   ],
   "source": [
    "#return participants who have read a particular story\n",
    "this_one = '42'\n",
    "\n",
    "for key in participants:\n",
    "    for key2 in participants[key]:\n",
    "        if participants[key][key2]['story'] == this_one:\n",
    "            print(key)\n",
    "            print(participants[key][key2]['schema'])\n",
    "            print(key2)"
   ]
  },
  {
   "cell_type": "code",
   "execution_count": 5,
   "metadata": {
    "scrolled": false
   },
   "outputs": [],
   "source": [
    "#put all of the key presses into a dictionary, orginized by story\n",
    "size_dfs = len(dfs)\n",
    "loc_story_keys = dict()\n",
    "soc_story_keys = dict()\n",
    "for s in range(size_dfs):\n",
    "    story_list = dfs[s]['order of stories'].iloc[0].split(' ')\n",
    "    story_list = [elem.replace(\"[\",\"\").replace(\"]\",\"\") for elem in story_list]\n",
    "    schema_list = dfs[s]['order of perspectives'].iloc[0].split(' ')\n",
    "    schema_list = [elem.replace(\"[\",\"\").replace(\"]\",\"\") for elem in schema_list]\n",
    "    schema_list = [elem.replace(\"\\n\",\"\") for elem in schema_list]\n",
    "    schema_list = [elem.replace(\"'\",\"\") for elem in schema_list]\n",
    "    for i in range(8):\n",
    "        keys = dfs[s]['story_presses.keys'].values[dfs[s]['count']==i]\n",
    "        keys = keys[~np.isnan(keys)]\n",
    "        if schema_list[i] == 'Location':\n",
    "            if story_list[i] in loc_story_keys:\n",
    "                loc_story_keys[story_list[i]] = np.concatenate((loc_story_keys[story_list[i]],keys[:,np.newaxis]), axis=1)\n",
    "            else:\n",
    "                loc_story_keys[story_list[i]] = keys[:, np.newaxis]\n",
    "        elif schema_list[i] == 'Social':\n",
    "            if story_list[i] in soc_story_keys:\n",
    "                soc_story_keys[story_list[i]] = np.concatenate((soc_story_keys[story_list[i]],keys[:,np.newaxis]), axis=1)\n",
    "            else:\n",
    "                soc_story_keys[story_list[i]] = keys[:, np.newaxis]"
   ]
  },
  {
   "cell_type": "code",
   "execution_count": 6,
   "metadata": {
    "scrolled": false
   },
   "outputs": [],
   "source": [
    "#put all of the a priori story boundaries into a dictionary organized by story\n",
    "\n",
    "all_story_priors = dict()\n",
    "\n",
    "for s in range(16):\n",
    "    this_story = str(int(dfs_stories[s]['story'].iloc[0]))\n",
    "    keys2 = dfs_stories[s]['locationEvent'].values\n",
    "    keys3 = dfs_stories[s]['socialEvent'].values\n",
    "    all_story_priors[this_story] = keys2[:, np.newaxis]\n",
    "    all_story_priors[this_story] = np.concatenate((all_story_priors[this_story], keys3[:, np.newaxis]), axis = 1)"
   ]
  },
  {
   "cell_type": "code",
   "execution_count": 7,
   "metadata": {
    "scrolled": false
   },
   "outputs": [],
   "source": [
    "#for participant responses, convert all '1' presses to 0 values, and '9' presses to 1 values\n",
    "\n",
    "for key in soc_story_keys:\n",
    "    this_array = soc_story_keys[key]\n",
    "    this_array[this_array ==1] = 0\n",
    "    this_array[this_array == 9] = 1\n",
    "    soc_story_keys[key] = this_array\n",
    "    \n",
    "for key in loc_story_keys:\n",
    "    this_array = loc_story_keys[key]\n",
    "    this_array[this_array ==1] = 0\n",
    "    this_array[this_array == 9] = 1\n",
    "    loc_story_keys[key] = this_array\n",
    "    \n"
   ]
  },
  {
   "cell_type": "code",
   "execution_count": 8,
   "metadata": {
    "scrolled": false
   },
   "outputs": [],
   "source": [
    "#sum the responses\n",
    "loc_percent_story_keys = dict()\n",
    "soc_percent_story_keys = dict()\n",
    "\n",
    "for key in loc_story_keys:\n",
    "    this_sum = np.sum(loc_story_keys[key], axis = 1)\n",
    "    N = np.size(loc_story_keys[key],1)\n",
    "    this_percent = this_sum/N\n",
    "    loc_percent_story_keys[key] = this_percent[:, np.newaxis]\n",
    "    \n",
    "for key in soc_story_keys:\n",
    "    this_sum = np.sum(soc_story_keys[key], axis = 1)\n",
    "    N = np.size(soc_story_keys[key],1)\n",
    "    this_percent = this_sum/N\n",
    "    soc_percent_story_keys[key] = this_percent[:, np.newaxis]\n",
    "    "
   ]
  },
  {
   "cell_type": "code",
   "execution_count": 9,
   "metadata": {
    "scrolled": false
   },
   "outputs": [
    {
     "name": "stdout",
     "output_type": "stream",
     "text": [
      "33.6875 4.215466912492919 3.75 0.762000762001143\n"
     ]
    }
   ],
   "source": [
    "#find the average number and standard deviation of participants in each story \n",
    "#also for story lengths\n",
    "\n",
    "lengths = []\n",
    "N = []\n",
    "\n",
    "for key in loc_story_keys:\n",
    "    x, y = loc_story_keys[key].shape\n",
    "    x1, y1 = soc_story_keys[key].shape\n",
    "    lengths.append(x)\n",
    "    lengths.append(x1)\n",
    "    N.append(y)\n",
    "    N.append(y1)\n",
    "    \n",
    "length_mean = statistics.mean(lengths)\n",
    "length_sd = statistics.stdev(lengths)\n",
    "\n",
    "N_mean = statistics.mean(N)\n",
    "N_sd = statistics.stdev(N)\n",
    "print(length_mean, length_sd, N_mean, N_sd)"
   ]
  },
  {
   "cell_type": "code",
   "execution_count": 10,
   "metadata": {
    "scrolled": false
   },
   "outputs": [],
   "source": [
    "#get the binary version of the a priori boundaries\n",
    "\n",
    "for key in all_story_priors:\n",
    "    location = all_story_priors[key][:,0]\n",
    "    social = all_story_priors[key][:,1]\n",
    "    for i in range(0, len(location)):  \n",
    "        if location[i] > location[i-1]:\n",
    "            location[i] = 7\n",
    "    for i in range(0, len(location)):  \n",
    "        if location[i] != 7:\n",
    "            location[i] = 0\n",
    "    for i in range(0, len(social)):\n",
    "        if social[i] > social[i - 1]:\n",
    "            social[i] = 7\n",
    "    for i in range(0, len(social)):\n",
    "        if social[i] != 7:\n",
    "            social[i] = 0\n",
    "    location[0] = 7\n",
    "    social[0] = 7\n",
    "    location2 = location > 1\n",
    "    social2 = social > 1\n",
    "    location2 = location2.astype(int)\n",
    "    social2 = social2.astype(int)\n",
    "    all_story_priors[key] = np.concatenate((all_story_priors[key], location2[:, np.newaxis]), axis = 1) \n",
    "    all_story_priors[key] = np.concatenate((all_story_priors[key], social2[:, np.newaxis]), axis = 1)"
   ]
  },
  {
   "cell_type": "code",
   "execution_count": 11,
   "metadata": {
    "scrolled": false
   },
   "outputs": [
    {
     "name": "stderr",
     "output_type": "stream",
     "text": [
      "/Users/alexreblando/anaconda3/lib/python3.6/site-packages/IPython/core/display.py:694: UserWarning:\n",
      "\n",
      "Consider using IPython.display.IFrame instead\n",
      "\n"
     ]
    },
    {
     "data": {
      "text/html": [
       "<iframe id=\"igraph\" scrolling=\"no\" style=\"border:none;\" seamless=\"seamless\" src=\"https://plot.ly/~amr7/374.embed\" height=\"525px\" width=\"100%\"></iframe>"
      ],
      "text/plain": [
       "<chart_studio.tools.PlotlyDisplay object>"
      ]
     },
     "execution_count": 11,
     "metadata": {},
     "output_type": "execute_result"
    }
   ],
   "source": [
    "#show the stories\n",
    "key = '44'\n",
    "opacityPriors = 0.1\n",
    "\n",
    "new_x = np.arange(len(all_story_priors[key]) + 1)\n",
    "#new_x = np.delete(x_index, 0)\n",
    "trace1 = go.Scatter(x = new_x, \n",
    "                y = all_story_priors[key][:,2], \n",
    "                mode = 'lines+markers', \n",
    "                name = 'location Event Starts',\n",
    "                line = dict(\n",
    "                    shape = 'hvh',\n",
    "                    color = ('rgba(0, 204, 0, .05)'),\n",
    "                    width = 4))\n",
    "\n",
    "trace2 = go.Scatter(x = new_x, \n",
    "                y = all_story_priors[key][:,3], \n",
    "                mode = 'lines+markers', \n",
    "                name = 'social Event Starts',\n",
    "                line = dict(\n",
    "                    shape = 'hvh',\n",
    "                    color = ('rgba(255, 91, 71, .05)'),\n",
    "                    width = 4))\n",
    "\n",
    "trace3 = go.Scatter(x = new_x, \n",
    "                    y = loc_percent_story_keys[key], \n",
    "                    mode = 'lines+markers', \n",
    "                    name = 'participant w location',\n",
    "                    line = dict(\n",
    "                        shape = 'hvh',\n",
    "                        color = ('rgba(0, 191, 255, .5)'),\n",
    "                        width = 4))\n",
    "\n",
    "trace4 = go.Scatter(x = new_x, \n",
    "                    y = soc_percent_story_keys[key], \n",
    "                    mode = 'lines+markers', \n",
    "                    name = 'participants w social',\n",
    "                    line = dict(\n",
    "                        shape = 'hvh',\n",
    "                        color = ('rgba(255, 215, 0, .5)'),\n",
    "                        width = 4))\n",
    "\n",
    "\n",
    "data = [trace1, trace2, trace3, trace4]\n",
    "layout = go.Layout(\n",
    "    title= key,\n",
    "    xaxis=dict(\n",
    "        title='Sentence Number',\n",
    "        titlefont=dict(\n",
    "            family='Courier New, monospace',\n",
    "            size=18,\n",
    "            color='#7f7f7f')\n",
    "    ),\n",
    "    yaxis=dict(\n",
    "        autorange=True,\n",
    "        showgrid=False,\n",
    "        zeroline=False,\n",
    "        showline=False,\n",
    "        ticks='',\n",
    "        showticklabels=False\n",
    "    )\n",
    ")\n",
    "\n",
    "fig = go.Figure(data=data, layout=layout)\n",
    "py.iplot(fig)"
   ]
  },
  {
   "cell_type": "code",
   "execution_count": 12,
   "metadata": {
    "scrolled": true
   },
   "outputs": [
    {
     "name": "stdout",
     "output_type": "stream",
     "text": [
      "42\n",
      "loc: 0.060695626145344246\n",
      "soc: 0.40250152695822533\n",
      "31\n",
      "loc: 0.06749500466501156\n",
      "soc: 0.2587767240428262\n",
      "13\n",
      "loc: -0.04183300132670376\n",
      "soc: 0.28593189768948724\n",
      "24\n",
      "loc: 0.1434996672554522\n",
      "soc: 0.2543090988885633\n",
      "41\n",
      "loc: 0.3195975619358779\n",
      "soc: 0.023894702089775902\n",
      "23\n",
      "loc: 0.4013477403455524\n",
      "soc: 0.25514210872774784\n",
      "32\n",
      "loc: 0.0875058798535601\n",
      "soc: 0.27460269148056576\n",
      "14\n",
      "loc: 0.2193249015805496\n",
      "soc: 0.3985660863440261\n",
      "11\n",
      "loc: 0.20944543428866122\n",
      "soc: 0.22485793978282972\n",
      "34\n",
      "loc: 0.1637075617397991\n",
      "soc: 0.2903814901853719\n",
      "43\n",
      "loc: 0.22194004549022747\n",
      "soc: 0.3213822695249299\n",
      "22\n",
      "loc: 0.2881885598539961\n",
      "soc: 0.09164577650763378\n",
      "44\n",
      "loc: 0.30248913630647867\n",
      "soc: 0.30158730158730157\n",
      "33\n",
      "loc: 0.5375530013433446\n",
      "soc: 0.27441383571653416\n",
      "21\n",
      "loc: 0.23397885394198986\n",
      "soc: 0.0972110112225983\n",
      "12\n",
      "loc: 0.31799958915497245\n",
      "soc: 0.24748356497507348\n",
      "loc_avg:  0.2208084726608821\n",
      "soc_avg:  0.2501680016077181\n",
      "general avg:  0.23548823713430012\n"
     ]
    }
   ],
   "source": [
    "#find the mean correlation of the responses of participants with the same schema for each story and store the\n",
    "#value in a dictionary\n",
    "soc_cor = dict()\n",
    "loc_cor = dict()\n",
    "\n",
    "for key in soc_story_keys:\n",
    "    z = len(soc_story_keys[key][0])\n",
    "    soc_this = np.nanmean(np.corrcoef(soc_story_keys[key].T)[np.triu(np.ones((z,z), dtype=np.bool),1)])\n",
    "    soc_cor[key] = soc_this\n",
    "    g = len(loc_story_keys[key][0])\n",
    "    loc_this = np.nanmean(np.corrcoef(loc_story_keys[key].T)[np.triu(np.ones((g,g), dtype=np.bool),1)])\n",
    "    loc_cor[key] = loc_this\n",
    "    \n",
    "\n",
    "for key in soc_cor:\n",
    "    print(key)\n",
    "    print('loc:', loc_cor[key])\n",
    "    print('soc:', soc_cor[key])\n",
    "    \n",
    "loc_cor_avg = np.array(list(loc_cor.values())).mean()\n",
    "soc_cor_avg = np.array(list(soc_cor.values())).mean()\n",
    "combined_avg = (loc_cor_avg + soc_cor_avg)/2\n",
    "print('loc_avg: ', loc_cor_avg)\n",
    "print('soc_avg: ', soc_cor_avg)\n",
    "print('general avg: ', combined_avg)"
   ]
  },
  {
   "cell_type": "code",
   "execution_count": 13,
   "metadata": {
    "scrolled": false
   },
   "outputs": [
    {
     "name": "stdout",
     "output_type": "stream",
     "text": [
      "0.20762921370788512\n"
     ]
    }
   ],
   "source": [
    "#find the averages of correlations across location schemas\n",
    "\n",
    "loc_this_sum = loc_cor['11'] + loc_cor['21'] + loc_cor['31'] + loc_cor['41']\n",
    "mean_loc = loc_this_sum/4\n",
    "print(mean_loc)"
   ]
  },
  {
   "cell_type": "code",
   "execution_count": 14,
   "metadata": {
    "scrolled": false
   },
   "outputs": [
    {
     "name": "stdout",
     "output_type": "stream",
     "text": [
      "0.28920987219785416\n"
     ]
    }
   ],
   "source": [
    "#find the averages of correlations across social schemas\n",
    "\n",
    "soc_this_sum = soc_cor['11'] + soc_cor['12'] + soc_cor['13'] + soc_cor['14']\n",
    "mean_soc = soc_this_sum/4\n",
    "print(mean_soc)"
   ]
  },
  {
   "cell_type": "code",
   "execution_count": 19,
   "metadata": {
    "scrolled": false
   },
   "outputs": [
    {
     "name": "stdout",
     "output_type": "stream",
     "text": [
      "{'42': 0.19607904210823876, '31': 0.12254398088248875, '13': 0.2599630592422594, '24': 0.1683010645840487, '41': 0.1528691598196443, '23': 0.22217663794122544, '32': 0.2576697998470178, '14': 0.34910362357209074, '11': 0.23830097690958763, '34': 0.28892222573997806, '43': 0.2681641275425446, '22': 0.18680071300812476, '44': 0.3584002986577307, '33': 0.37079539175327125, '21': 0.2591682574535247, '12': 0.33883093631325206}\n",
      "isc avg:  0.25238058096093924\n"
     ]
    }
   ],
   "source": [
    "#correlation across the schemas \n",
    "isc_dict = dict()\n",
    "\n",
    "for key in soc_story_keys:\n",
    "    z = len(soc_story_keys[key][0])\n",
    "    x = len(loc_story_keys[key][0])\n",
    "    new = np.concatenate((soc_story_keys[key], loc_story_keys[key]), axis = 1)\n",
    "    #permute new\n",
    "    coef_matrix = np.corrcoef(new.T)\n",
    "    this = coef_matrix[0:z,z:(z+x)]\n",
    "    mean_isc = np.nanmean(this)\n",
    "    isc_dict[key] = mean_isc\n",
    "    \n",
    "print(isc_dict)\n",
    "isc_avg = np.array(list(isc_dict.values())).mean()\n",
    "print('isc avg: ', isc_avg)"
   ]
  },
  {
   "cell_type": "code",
   "execution_count": 20,
   "metadata": {
    "scrolled": true
   },
   "outputs": [
    {
     "name": "stdout",
     "output_type": "stream",
     "text": [
      "{'42': 0.09248718457902619, '31': 0.07247217003439926, '13': -0.0038279705542440534, '24': 0.0490715570934776, '41': -0.030406837781167734, '23': 0.13043589186505855, '32': -0.04543271224212064, '14': -0.010284598815890111, '11': -0.02114928987384221, '34': -0.061877699777392464, '43': 0.0034970299650341485, '22': 0.0031164551726901857, '44': -0.05611927805567757, '33': 0.1060331867531169, '21': -0.05675121336985589, '12': -0.03710427581517939}\n",
      "soc/soc + loc/loc cor - soc/loc cor 0.008384974948589549\n"
     ]
    }
   ],
   "source": [
    "#SFN ABSTRACT ANALYSIS 2 4.30.19\n",
    "#ANALYSIS 001\n",
    "#AVG CORRELATION OF KEY PRESSES OF SOCIAL-PRIMED PARTICIPANTS - AVG CORRELATION OF KEY PRESSES OF SOCIAL + LOCATION \n",
    "#PRIMED PARTICIPANTS\n",
    "#AVG OF SAME PRIMED PARTICIPANTS IS COMPUTED ONCE AT THE END, NOT TWICE, FIRST FOR EACH GROUP, THEN ACROSS SOCIAL\n",
    "#AND LOCATION\n",
    "\n",
    "correl_dif_dict = dict()\n",
    "\n",
    "for key in soc_story_keys:\n",
    "    z = len(soc_story_keys[key][0])\n",
    "    x = len(loc_story_keys[key][0])\n",
    "    new = np.concatenate((soc_story_keys[key], loc_story_keys[key]), axis = 1)\n",
    "    coef_matrix = np.corrcoef(new.T)\n",
    "    this = coef_matrix[0:z,z:(z+x)]\n",
    "    mean_isc = np.nanmean(this)\n",
    "    soc_correl = coef_matrix[0:z, 0:z][np.triu(np.ones((z,z), dtype=np.bool),1)]\n",
    "    loc_correl = coef_matrix[z:(z+x), z:(z+x)][np.triu(np.ones((x,x), dtype=np.bool),1)]\n",
    "    correls= np.concatenate((soc_correl, loc_correl), axis = None)\n",
    "    mean_correl = np.nanmean(correls)\n",
    "    story_value = mean_correl - mean_isc\n",
    "    correl_dif_dict[key] = story_value\n",
    "    \n",
    "\n",
    "print(correl_dif_dict)\n",
    "observed_correl_dif = np.array(list(correl_dif_dict.values())).mean()\n",
    "print('soc/soc + loc/loc cor - soc/loc cor', observed_correl_dif)"
   ]
  },
  {
   "cell_type": "code",
   "execution_count": 21,
   "metadata": {
    "scrolled": false
   },
   "outputs": [],
   "source": [
    "#SFN ABSTRACT ANALYSIS 2 4.30.19\n",
    "#ANALYSIS 002\n",
    "#PERMUTATION: AVG CORRELATION OF KEY PRESSES OF SOCIAL-PRIMED PARTICIPANTS - AVG CORRELATION OF KEY PRESSES OF SOCIAL + LOCATION \n",
    "#PRIMED PARTICIPANTS\n",
    "#AVG OF SAME PRIMED PARTICIPANTS IS COMPUTED ONCE AT THE END, NOT TWICE, FIRST FOR EACH GROUP, THEN ACROSS SOCIAL\n",
    "#AND LOCATION\n",
    "\n",
    "permutes = []\n",
    "\n",
    "for i in range(0, 1000):\n",
    "    correl_dif_dict = dict()\n",
    "    for key in soc_story_keys:\n",
    "        z = len(soc_story_keys[key][0])\n",
    "        x = len(loc_story_keys[key][0])\n",
    "        new = np.concatenate((soc_story_keys[key], loc_story_keys[key]), axis = 1)\n",
    "        #permute new\n",
    "        this_perm = new[:, np.random.permutation(new.shape[1])]\n",
    "        #this_perm = np.random.permutation(new)\n",
    "        coef_matrix = np.corrcoef(this_perm.T)\n",
    "        this = coef_matrix[0:z,z:(z+x)]\n",
    "        mean_isc = np.nanmean(this)\n",
    "        soc_correl = coef_matrix[0:z, 0:z][np.triu(np.ones((z,z), dtype=np.bool),1)]\n",
    "        loc_correl = coef_matrix[z:(z+x), z:(z+x)][np.triu(np.ones((x,x), dtype=np.bool),1)]\n",
    "        correls= np.concatenate((soc_correl, loc_correl), axis = None)\n",
    "        mean_correl = np.nanmean(correls)\n",
    "        story_value = mean_correl - mean_isc\n",
    "        correl_dif_dict[key] = story_value\n",
    "    this_avg = np.array(list(correl_dif_dict.values())).mean()\n",
    "    permutes.append(this_avg)\n",
    "\n",
    "\n",
    "    "
   ]
  },
  {
   "cell_type": "code",
   "execution_count": 22,
   "metadata": {
    "scrolled": false
   },
   "outputs": [
    {
     "name": "stdout",
     "output_type": "stream",
     "text": [
      "p =  0.346\n"
     ]
    }
   ],
   "source": [
    "#pvalue\n",
    "\n",
    "p_value_correl_dif = sum(i > observed_correl_dif for i in permutes)/1000\n",
    "print('p = ', p_value_correl_dif)"
   ]
  },
  {
   "cell_type": "code",
   "execution_count": 224,
   "metadata": {
    "scrolled": false
   },
   "outputs": [
    {
     "data": {
      "text/plain": [
       "Text(0.5, 1.0, 'Correlation of Boundaries Difference Between Similarly Primed and Differently Primed Participants w/out 11 ')"
      ]
     },
     "execution_count": 224,
     "metadata": {},
     "output_type": "execute_result"
    },
    {
     "data": {
      "image/png": "[encoded data removed]",
      "text/plain": [
       "<Figure size 842.4x595.44 with 1 Axes>"
      ]
     },
     "metadata": {},
     "output_type": "display_data"
    }
   ],
   "source": [
    "##plot the permutes\n",
    "sns.set(color_codes=True)\n",
    "sns.set(rc={'figure.figsize':(11.7,8.27)})\n",
    "sns.distplot(permutes)\n",
    "plt.axvline(observed_correl_dif, 0,30, color = 'r')\n",
    "plt.title('Correlation of Boundaries Difference Between Similarly Primed and Differently Primed Participants w/out 11 ')"
   ]
  },
  {
   "cell_type": "code",
   "execution_count": 225,
   "metadata": {
    "scrolled": false
   },
   "outputs": [
    {
     "name": "stdout",
     "output_type": "stream",
     "text": [
      "0.1577916642824127 soc_cor\n",
      "0.25664832661326425 isc_cor\n",
      "0.3302002762169798 soc_cor\n",
      "0.38817565595027176 isc_cor\n",
      "0.3545245679456396 soc_cor\n",
      "0.20043573877826265 isc_cor\n",
      "0.2336487172178229 soc_cor\n",
      "0.15119165888307928 isc_cor\n",
      "0.20985257489672077 soc_cor\n",
      "0.19438594801316078 isc_cor\n",
      "0.21468811705803534 soc_cor\n",
      "0.24783198743442642 isc_cor\n",
      "0.1433510385893565 soc_cor\n",
      "0.11318534025583046 isc_cor\n",
      "0.16894675451510968 soc_cor\n",
      "0.17222516231954957 isc_cor\n",
      "0.24042685608175898 soc_cor\n",
      "0.34683027578511294 isc_cor\n",
      "0.11916350888251724 soc_cor\n",
      "0.18540924799423916 isc_cor\n",
      "0.19523681250099525 soc_cor\n",
      "0.15655942054250466 isc_cor\n",
      "0.46291855274635 soc_cor\n",
      "0.4198602962574182 isc_cor\n",
      "0.18156825980064079 soc_cor\n",
      "0.23352754960792155 isc_cor\n",
      "0.1932993111817978 soc_cor\n",
      "0.20204691261880536 isc_cor\n",
      "0.21484985796747316 soc_cor\n",
      "0.17746907126500122 isc_cor\n",
      "0.09966453255402896 soc_cor\n",
      "0.16184556064948866 isc_cor\n",
      "{'12': -0.07797559202491355, '31': -0.05081064631522353, '43': 0.06102262396825858, '24': 0.03795119221856269, '23': 0.06369434637362359, '11': 0.048071393128489404, '32': 0.09601467895372806, '44': 0.20251517358012652, '21': -0.03535228612262259, '33': -0.07138869427599723, '42': 0.024209342050021537, '14': 0.048959645409367536, '13': -0.015130443725696413, '41': 0.024345675231741692, '34': 0.05025541845670489, '22': 0.024049999846450676}\n",
      "soc/soc + loc/loc cor - soc/loc cor 0.02690198917203887\n"
     ]
    }
   ],
   "source": [
    "#SFN ABSTRACT ANALYSIS 1 4.29.19\n",
    "#NOT USING\n",
    "#AVG CORRELATION OF KEY PRESSES OF SOCIAL-PRIMED PARTICIPANTS - AVG CORRELATION OF KEY PRESSES OF SOCIAL + LOCATION \n",
    "#PRIMED PARTICIPANTS\n",
    "cor_this = dict()\n",
    "\n",
    "\n",
    "for key in isc_dict:\n",
    "    print(soc_cor[key], 'soc_cor')\n",
    "    print(isc_dict[key], 'isc_cor')\n",
    "    s = (soc_cor[key] + loc_cor[key])/2 - isc_dict[key]\n",
    "    cor_this[key] = s\n",
    "\n",
    "    \n",
    "    \n",
    "    \n",
    "print(cor_this)\n",
    "print('soc/soc + loc/loc cor - soc/loc cor', np.array(list(cor_this.values())).mean())\n"
   ]
  },
  {
   "cell_type": "code",
   "execution_count": 226,
   "metadata": {
    "scrolled": false
   },
   "outputs": [
    {
     "name": "stdout",
     "output_type": "stream",
     "text": [
      "{'12': -0.07056617998087097, '31': -0.04503263549420061, '43': 0.11272607130110207, '24': 0.059032918273595775, '23': 0.08080740812816223, '32': 0.040296310736634006, '44': 0.16135645730321332, '21': -0.06580277194293604, '33': -0.06724114978867843, '42': 0.02710295203171534, '14': 0.04643047872918077, '13': 0.019707653919045554, '41': 0.05234767856683725, '34': 0.0611493376333635, '22': 0.07195612648084526}\n",
      "soc/soc + loc/loc cor - soc/loc cor 0.032284710393133936\n"
     ]
    }
   ],
   "source": [
    "#SFN ABSTRACT ANALYSIS 2 4.30.19 \n",
    "\n",
    "\n",
    "\n",
    "#removing story 11 which will definitely be changed for the actual experiment\n",
    "\n",
    "\n",
    "#ANALYSIS 001\n",
    "#AVG CORRELATION OF KEY PRESSES OF SOCIAL-PRIMED PARTICIPANTS - AVG CORRELATION OF KEY PRESSES OF SOCIAL + LOCATION \n",
    "#PRIMED PARTICIPANTS\n",
    "#AVG OF SAME PRIMED PARTICIPANTS IS COMPUTED ONCE AT THE END, NOT TWICE, FIRST FOR EACH GROUP, THEN ACROSS SOCIAL\n",
    "#AND LOCATION\n",
    "\n",
    "correl_dif_dict = dict()\n",
    "\n",
    "for key in soc_story_keys:\n",
    "    if key == '11':\n",
    "        pass\n",
    "    else:    \n",
    "        z = len(soc_story_keys[key][0])\n",
    "        x = len(loc_story_keys[key][0])\n",
    "        new = np.concatenate((soc_story_keys[key], loc_story_keys[key]), axis = 1)\n",
    "        coef_matrix = np.corrcoef(new.T)\n",
    "        this = coef_matrix[0:z,z:(z+x)]\n",
    "        mean_isc = np.nanmean(this)\n",
    "        soc_correl = coef_matrix[0:z, 0:z][np.triu(np.ones((z,z), dtype=np.bool),1)]\n",
    "        loc_correl = coef_matrix[z:(z+x), z:(z+x)][np.triu(np.ones((x,x), dtype=np.bool),1)]\n",
    "        correls= np.concatenate((soc_correl, loc_correl), axis = None)\n",
    "        mean_correl = np.nanmean(correls)\n",
    "        story_value = mean_correl - mean_isc\n",
    "        correl_dif_dict[key] = story_value\n",
    "    \n",
    "\n",
    "print(correl_dif_dict)\n",
    "observed_correl_dif = np.array(list(correl_dif_dict.values())).mean()\n",
    "print('soc/soc + loc/loc cor - soc/loc cor', observed_correl_dif)"
   ]
  },
  {
   "cell_type": "code",
   "execution_count": 227,
   "metadata": {
    "scrolled": false
   },
   "outputs": [],
   "source": [
    "#SFN ABSTRACT ANALYSIS 2 4.30.19\n",
    "\n",
    "\n",
    "\n",
    "\n",
    "#no story 11\n",
    "\n",
    "\n",
    "#ANALYSIS 002\n",
    "#PERMUTATION: AVG CORRELATION OF KEY PRESSES OF SOCIAL-PRIMED PARTICIPANTS - AVG CORRELATION OF KEY PRESSES OF SOCIAL + LOCATION \n",
    "#PRIMED PARTICIPANTS\n",
    "#AVG OF SAME PRIMED PARTICIPANTS IS COMPUTED ONCE AT THE END, NOT TWICE, FIRST FOR EACH GROUP, THEN ACROSS SOCIAL\n",
    "#AND LOCATION\n",
    "\n",
    "permutes = []\n",
    "\n",
    "for i in range(0, 1000):\n",
    "    correl_dif_dict = dict()\n",
    "    for key in soc_story_keys:\n",
    "        if key == '11':\n",
    "            pass\n",
    "        else:  \n",
    "            z = len(soc_story_keys[key][0])\n",
    "            x = len(loc_story_keys[key][0])\n",
    "            new = np.concatenate((soc_story_keys[key], loc_story_keys[key]), axis = 1)\n",
    "            #permute new\n",
    "            this_perm = new[:, np.random.permutation(new.shape[1])]\n",
    "            #this_perm = np.random.permutation(new)\n",
    "            coef_matrix = np.corrcoef(this_perm.T)\n",
    "            this = coef_matrix[0:z,z:(z+x)]\n",
    "            mean_isc = np.nanmean(this)\n",
    "            soc_correl = coef_matrix[0:z, 0:z][np.triu(np.ones((z,z), dtype=np.bool),1)]\n",
    "            loc_correl = coef_matrix[z:(z+x), z:(z+x)][np.triu(np.ones((x,x), dtype=np.bool),1)]\n",
    "            correls= np.concatenate((soc_correl, loc_correl), axis = None)\n",
    "            mean_correl = np.nanmean(correls)\n",
    "            story_value = mean_correl - mean_isc\n",
    "            correl_dif_dict[key] = story_value\n",
    "    this_avg = np.array(list(correl_dif_dict.values())).mean()\n",
    "    permutes.append(this_avg)\n",
    "\n"
   ]
  },
  {
   "cell_type": "code",
   "execution_count": 228,
   "metadata": {
    "scrolled": false
   },
   "outputs": [
    {
     "name": "stdout",
     "output_type": "stream",
     "text": [
      "p =  0.029\n"
     ]
    }
   ],
   "source": [
    "#pvalue\n",
    "\n",
    "\n",
    "#no 11\n",
    "\n",
    "p_value_correl_dif = sum(i > observed_correl_dif for i in permutes)/1000\n",
    "print('p = ', p_value_correl_dif)"
   ]
  },
  {
   "cell_type": "code",
   "execution_count": 229,
   "metadata": {
    "scrolled": false
   },
   "outputs": [
    {
     "data": {
      "text/plain": [
       "Text(0.5, 1.0, 'Correlation of Boundaries Difference Between Similarly Primed and Differently Primed Participants w/out 11 ')"
      ]
     },
     "execution_count": 229,
     "metadata": {},
     "output_type": "execute_result"
    },
    {
     "data": {
      "image/png": "[encoded data removed]",
      "text/plain": [
       "<Figure size 842.4x595.44 with 1 Axes>"
      ]
     },
     "metadata": {},
     "output_type": "display_data"
    }
   ],
   "source": [
    "##plot the permutes\n",
    "sns.set(color_codes=True)\n",
    "sns.set(rc={'figure.figsize':(11.7,8.27)})\n",
    "sns.distplot(permutes)\n",
    "plt.axvline(observed_correl_dif, 0,30, color = 'r')\n",
    "plt.title('Correlation of Boundaries Difference Between Similarly Primed and Differently Primed Participants w/out 11 ')"
   ]
  },
  {
   "cell_type": "code",
   "execution_count": 28,
   "metadata": {
    "scrolled": false
   },
   "outputs": [
    {
     "name": "stdout",
     "output_type": "stream",
     "text": [
      "42 [[1.         0.36363636 0.44444444 0.27272727 0.44444444 0.\n",
      "  0.1       ]\n",
      " [0.36363636 1.         0.28571429 0.58333333 0.38461538 0.\n",
      "  0.23076923]\n",
      " [0.44444444 0.28571429 1.         0.21428571 0.33333333 0.1\n",
      "  0.16666667]\n",
      " [0.27272727 0.58333333 0.21428571 1.         0.54545455 0.\n",
      "  0.36363636]\n",
      " [0.44444444 0.38461538 0.33333333 0.54545455 1.         0.\n",
      "  0.4       ]\n",
      " [0.         0.         0.1        0.         0.         1.\n",
      "  0.        ]\n",
      " [0.1        0.23076923 0.16666667 0.36363636 0.4        0.\n",
      "  1.        ]]\n",
      "31 [[1.         0.41666667 0.08333333 0.3        0.45454545 0.1\n",
      "  0.15384615]\n",
      " [0.41666667 1.         0.07692308 0.55555556 0.7        0.\n",
      "  0.14285714]\n",
      " [0.08333333 0.07692308 1.         0.11111111 0.08333333 0.\n",
      "  0.        ]\n",
      " [0.3        0.55555556 0.11111111 1.         0.44444444 0.\n",
      "  0.09090909]\n",
      " [0.45454545 0.7        0.08333333 0.44444444 1.         0.\n",
      "  0.25      ]\n",
      " [0.1        0.         0.         0.         0.         1.\n",
      "  0.11111111]\n",
      " [0.15384615 0.14285714 0.         0.09090909 0.25       0.11111111\n",
      "  1.        ]]\n",
      "13 [[1.         0.46153846 0.5        0.27272727 0.11111111 0.08333333\n",
      "  0.45454545]\n",
      " [0.46153846 1.         0.38461538 0.30769231 0.08333333 0.23076923\n",
      "  0.46153846]\n",
      " [0.5        0.38461538 1.         0.18181818 0.28571429 0.09090909\n",
      "  0.36363636]\n",
      " [0.27272727 0.30769231 0.18181818 1.         0.         0.1\n",
      "  0.55555556]\n",
      " [0.11111111 0.08333333 0.28571429 0.         1.         0.\n",
      "  0.25      ]\n",
      " [0.08333333 0.23076923 0.09090909 0.1        0.         1.\n",
      "  0.08333333]\n",
      " [0.45454545 0.46153846 0.36363636 0.55555556 0.25       0.08333333\n",
      "  1.        ]]\n",
      "24 [[1.         0.41666667 0.15384615 0.2        0.30769231 0.08333333\n",
      "  0.07692308]\n",
      " [0.41666667 1.         0.45454545 0.18181818 0.38461538 0.16666667\n",
      "  0.07142857]\n",
      " [0.15384615 0.45454545 1.         0.1        0.33333333 0.33333333\n",
      "  0.08333333]\n",
      " [0.2        0.18181818 0.1        1.         0.18181818 0.28571429\n",
      "  0.11111111]\n",
      " [0.30769231 0.38461538 0.33333333 0.18181818 1.         0.27272727\n",
      "  0.15384615]\n",
      " [0.08333333 0.16666667 0.33333333 0.28571429 0.27272727 1.\n",
      "  0.1       ]\n",
      " [0.07692308 0.07142857 0.08333333 0.11111111 0.15384615 0.1\n",
      "  1.        ]]\n",
      "41 [[1.         0.         0.0625     0.07692308 0.14285714 0.1875\n",
      "  0.05555556]\n",
      " [0.         1.         0.3        0.11111111 0.2        0.07142857\n",
      "  0.36363636]\n",
      " [0.0625     0.3        1.         0.125      0.22222222 0.07692308\n",
      "  0.27272727]\n",
      " [0.07692308 0.11111111 0.125      1.         0.33333333 0.22222222\n",
      "  0.1       ]\n",
      " [0.14285714 0.2        0.22222222 0.33333333 1.         0.44444444\n",
      "  0.3       ]\n",
      " [0.1875     0.07142857 0.07692308 0.22222222 0.44444444 1.\n",
      "  0.14285714]\n",
      " [0.05555556 0.36363636 0.27272727 0.1        0.3        0.14285714\n",
      "  1.        ]]\n",
      "23 [[1.         0.1875     0.2        0.28571429 0.11111111 0.\n",
      "  0.25      ]\n",
      " [0.1875     1.         0.30769231 0.27777778 0.15384615 0.07142857\n",
      "  0.33333333]\n",
      " [0.2        0.30769231 1.         0.23076923 0.33333333 0.14285714\n",
      "  0.3       ]\n",
      " [0.28571429 0.27777778 0.23076923 1.         0.27272727 0.16666667\n",
      "  0.35714286]\n",
      " [0.11111111 0.15384615 0.33333333 0.27272727 1.         0.5\n",
      "  0.22222222]\n",
      " [0.         0.07142857 0.14285714 0.16666667 0.5        1.\n",
      "  0.22222222]\n",
      " [0.25       0.33333333 0.3        0.35714286 0.22222222 0.22222222\n",
      "  1.        ]]\n",
      "32 [[1.         0.36363636 0.13333333 0.11111111 0.18181818 0.23076923\n",
      "  0.1       ]\n",
      " [0.36363636 1.         0.27272727 0.16666667 0.25       0.18181818\n",
      "  0.14285714]\n",
      " [0.13333333 0.27272727 1.         0.125      0.33333333 0.5\n",
      "  0.11111111]\n",
      " [0.11111111 0.16666667 0.125      1.         0.25       0.14285714\n",
      "  0.        ]\n",
      " [0.18181818 0.25       0.33333333 0.25       1.         0.375\n",
      "  0.        ]\n",
      " [0.23076923 0.18181818 0.5        0.14285714 0.375      1.\n",
      "  0.        ]\n",
      " [0.1        0.14285714 0.11111111 0.         0.         0.\n",
      "  1.        ]]\n",
      "14 [[1.         0.38461538 0.27272727 0.33333333 0.38461538 0.33333333\n",
      "  0.08333333]\n",
      " [0.38461538 1.         0.33333333 0.5        0.6        0.55555556\n",
      "  0.22222222]\n",
      " [0.27272727 0.33333333 1.         0.27272727 0.2        0.42857143\n",
      "  0.16666667]\n",
      " [0.33333333 0.5        0.27272727 1.         0.38461538 0.33333333\n",
      "  0.08333333]\n",
      " [0.38461538 0.6        0.2        0.38461538 1.         0.4\n",
      "  0.1       ]\n",
      " [0.33333333 0.55555556 0.42857143 0.33333333 0.4        1.\n",
      "  0.125     ]\n",
      " [0.08333333 0.22222222 0.16666667 0.08333333 0.1        0.125\n",
      "  1.        ]]\n",
      "11 [[1.         0.33333333 0.2        0.1        0.3        0.27272727\n",
      "  0.2        0.        ]\n",
      " [0.33333333 1.         0.28571429 0.13333333 0.26666667 0.42857143\n",
      "  0.6        0.07692308]\n",
      " [0.2        0.28571429 1.         0.125      0.22222222 0.33333333\n",
      "  0.23076923 0.2       ]\n",
      " [0.1        0.13333333 0.125      1.         0.11111111 0.\n",
      "  0.07142857 0.        ]\n",
      " [0.3        0.26666667 0.22222222 0.11111111 1.         0.18181818\n",
      "  0.13333333 0.        ]\n",
      " [0.27272727 0.42857143 0.33333333 0.         0.18181818 1.\n",
      "  0.38461538 0.14285714]\n",
      " [0.2        0.6        0.23076923 0.07142857 0.13333333 0.38461538\n",
      "  1.         0.09090909]\n",
      " [0.         0.07692308 0.2        0.         0.         0.14285714\n",
      "  0.09090909 1.        ]]\n",
      "34 [[1.         0.5        0.07142857 0.38461538 0.35294118 0.66666667\n",
      "  0.38461538 0.26666667]\n",
      " [0.5        1.         0.11111111 0.625      0.38461538 0.53846154\n",
      "  0.44444444 0.4       ]\n",
      " [0.07142857 0.11111111 1.         0.         0.         0.\n",
      "  0.         0.14285714]\n",
      " [0.38461538 0.625      0.         1.         0.36363636 0.41666667\n",
      "  0.42857143 0.22222222]\n",
      " [0.35294118 0.38461538 0.         0.36363636 1.         0.46666667\n",
      "  0.15384615 0.06666667]\n",
      " [0.66666667 0.53846154 0.         0.41666667 0.46666667 1.\n",
      "  0.30769231 0.28571429]\n",
      " [0.38461538 0.44444444 0.         0.42857143 0.15384615 0.30769231\n",
      "  1.         0.22222222]\n",
      " [0.26666667 0.4        0.14285714 0.22222222 0.06666667 0.28571429\n",
      "  0.22222222 1.        ]]\n",
      "43 [[1.         0.55555556 0.11111111 0.57142857 0.16666667 0.21428571\n",
      "  0.5        0.33333333]\n",
      " [0.55555556 1.         0.2        0.3        0.33333333 0.26666667\n",
      "  0.375      0.25      ]\n",
      " [0.11111111 0.2        1.         0.125      0.2        0.07142857\n",
      "  0.16666667 0.        ]\n",
      " [0.57142857 0.3        0.125      1.         0.18181818 0.23076923\n",
      "  0.33333333 0.4       ]\n",
      " [0.16666667 0.33333333 0.2        0.18181818 1.         0.35714286\n",
      "  0.22222222 0.11111111]\n",
      " [0.21428571 0.26666667 0.07142857 0.23076923 0.35714286 1.\n",
      "  0.16666667 0.08333333]\n",
      " [0.5        0.375      0.16666667 0.33333333 0.22222222 0.16666667\n",
      "  1.         0.25      ]\n",
      " [0.33333333 0.25       0.         0.4        0.11111111 0.08333333\n",
      "  0.25       1.        ]]\n",
      "22 [[1.         0.30769231 0.1        0.         0.2        0.125\n",
      "  0.375      0.125     ]\n",
      " [0.30769231 1.         0.14285714 0.07692308 0.21428571 0.16666667\n",
      "  0.45454545 0.27272727]\n",
      " [0.1        0.14285714 1.         0.14285714 0.22222222 0.33333333\n",
      "  0.11111111 0.14285714]\n",
      " [0.         0.07692308 0.14285714 1.         0.         0.\n",
      "  0.         0.        ]\n",
      " [0.2        0.21428571 0.22222222 0.         1.         0.125\n",
      "  0.22222222 0.125     ]\n",
      " [0.125      0.16666667 0.33333333 0.         0.125      1.\n",
      "  0.33333333 0.2       ]\n",
      " [0.375      0.45454545 0.11111111 0.         0.22222222 0.33333333\n",
      "  1.         0.33333333]\n",
      " [0.125      0.27272727 0.14285714 0.         0.125      0.2\n",
      "  0.33333333 1.        ]]\n",
      "44 [[1.         0.25       0.25       0.25       0.25       0.4\n",
      "  0.5        0.28571429]\n",
      " [0.25       1.         0.27272727 0.27272727 0.27272727 0.22222222\n",
      "  0.42857143 0.85714286]\n",
      " [0.25       0.27272727 1.         0.16666667 0.16666667 0.22222222\n",
      "  0.25       0.3       ]\n",
      " [0.25       0.27272727 0.16666667 1.         0.55555556 0.1\n",
      "  0.25       0.3       ]\n",
      " [0.25       0.27272727 0.16666667 0.55555556 1.         0.1\n",
      "  0.25       0.3       ]\n",
      " [0.4        0.22222222 0.22222222 0.1        0.1        1.\n",
      "  0.16666667 0.25      ]\n",
      " [0.5        0.42857143 0.25       0.25       0.25       0.16666667\n",
      "  1.         0.5       ]\n",
      " [0.28571429 0.85714286 0.3        0.3        0.3        0.25\n",
      "  0.5        1.        ]]\n",
      "33 [[1.         0.28571429 0.3        0.16666667 0.27272727 0.42857143\n",
      "  0.25       0.27272727]\n",
      " [0.28571429 1.         0.11111111 0.375      0.375      0.4\n",
      "  0.33333333 0.22222222]\n",
      " [0.3        0.11111111 1.         0.36363636 0.36363636 0.22222222\n",
      "  0.33333333 0.25      ]\n",
      " [0.16666667 0.375      0.36363636 1.         0.6        0.33333333\n",
      "  0.54545455 0.33333333]\n",
      " [0.27272727 0.375      0.36363636 0.6        1.         0.5\n",
      "  0.54545455 0.45454545]\n",
      " [0.42857143 0.4        0.22222222 0.33333333 0.5        1.\n",
      "  0.44444444 0.5       ]\n",
      " [0.25       0.33333333 0.33333333 0.54545455 0.54545455 0.44444444\n",
      "  1.         0.30769231]\n",
      " [0.27272727 0.22222222 0.25       0.33333333 0.45454545 0.5\n",
      "  0.30769231 1.        ]]\n",
      "21 [[1.         0.36363636 0.1        0.1        0.4        0.5\n",
      "  0.5        0.2       ]\n",
      " [0.36363636 1.         0.06666667 0.23076923 0.46153846 0.81818182\n",
      "  0.27272727 0.41666667]\n",
      " [0.1        0.06666667 1.         0.09090909 0.15384615 0.06666667\n",
      "  0.11111111 0.        ]\n",
      " [0.1        0.23076923 0.09090909 1.         0.15384615 0.14285714\n",
      "  0.11111111 0.3       ]\n",
      " [0.4        0.46153846 0.15384615 0.15384615 1.         0.46153846\n",
      "  0.18181818 0.14285714]\n",
      " [0.5        0.81818182 0.06666667 0.14285714 0.46153846 1.\n",
      "  0.4        0.41666667]\n",
      " [0.5        0.27272727 0.11111111 0.11111111 0.18181818 0.4\n",
      "  1.         0.22222222]\n",
      " [0.2        0.41666667 0.         0.3        0.14285714 0.41666667\n",
      "  0.22222222 1.        ]]\n",
      "12 [[1.         0.1        0.6        0.22222222 0.6        0.33333333\n",
      "  0.375      0.25      ]\n",
      " [0.1        1.         0.1        0.16666667 0.1        0.25\n",
      "  0.16666667 0.18181818]\n",
      " [0.6        0.1        1.         0.22222222 1.         0.33333333\n",
      "  0.375      0.25      ]\n",
      " [0.22222222 0.16666667 0.22222222 1.         0.22222222 0.25\n",
      "  0.4        0.18181818]\n",
      " [0.6        0.1        1.         0.22222222 1.         0.33333333\n",
      "  0.375      0.25      ]\n",
      " [0.33333333 0.25       0.33333333 0.25       0.33333333 1.\n",
      "  0.25       0.4       ]\n",
      " [0.375      0.16666667 0.375      0.4        0.375      0.25\n",
      "  1.         0.3       ]\n",
      " [0.25       0.18181818 0.25       0.18181818 0.25       0.4\n",
      "  0.3        1.        ]]\n",
      "{'42': 0.062494604161270784, '31': 0.030805459972126664, '13': -0.01613023340296063, '24': 0.02433029933029937, '41': -0.013718727260393915, '23': 0.0631717048383715, '32': -0.030105388438721792, '14': -0.012216487216487215, '11': -0.031200049950049935, '34': -0.047025870371458556, '43': 0.0030079295704295572, '22': 0.00434640590890592, '44': -0.05028897028897028, '33': 0.09609362147823686, '21': -0.052528781759550974, '12': -0.03233747733747733}\n"
     ]
    }
   ],
   "source": [
    "#SFN ANALYSIS 3 4.30.19\n",
    "#ANALYSIS 003\n",
    "#INTERSECTION OVER UNION \n",
    "\n",
    "#actual\n",
    "\n",
    "\n",
    "iu_dict = dict()\n",
    "\n",
    "for key in soc_story_keys:\n",
    "    #print('key', key)\n",
    "    z = len(soc_story_keys[key][0])\n",
    "    x = len(loc_story_keys[key][0])\n",
    "    new = np.concatenate((soc_story_keys[key], loc_story_keys[key]), axis = 1)\n",
    "    #print('key', key, '\\n', z, x, '\\n', new)\n",
    "    new_t = new.T\n",
    "    numerator_sum = np.dot(new_t, new)\n",
    "    m, n = numerator_sum.shape\n",
    "    #print('numerator', '\\n',numerator_sum)\n",
    "    denom = np.zeros((m,m))\n",
    "    for i in range(0, m):\n",
    "        for j in range(0, m):\n",
    "            sum_col = new[:,i] + new[:, j]\n",
    "            #if i == 1 and j == 2:\n",
    "                #print(j, sum_col)\n",
    "            denom_val = np.sum(np.minimum(sum_col, 1))\n",
    "            denom[i, j] = denom_val\n",
    "    #divide the intersection matrix by the denominator matrix\n",
    "    #print('denom\\n', denom)\n",
    "    i_u_matrix = numerator_sum/denom\n",
    "    print(key, i_u_matrix)\n",
    "    #dif between differently and same primed participants\n",
    "        #avg i/u of differently primed participants\n",
    "    this_iu = i_u_matrix[0:z,z:(z+x)]\n",
    "    mean_this_iu = np.nanmean(this_iu)\n",
    "    soc_i_u = i_u_matrix[0:z, 0:z][np.triu(np.ones((z,z), dtype=np.bool),1)]\n",
    "    loc_i_u = i_u_matrix[z:(z+x), z:(z+x)][np.triu(np.ones((x,x), dtype=np.bool),1)]\n",
    "    i_u_s= np.concatenate((soc_i_u, loc_i_u), axis = None)\n",
    "    mean_i_u = np.nanmean(i_u_s)\n",
    "    iu_value = mean_i_u - mean_this_iu\n",
    "    iu_dict[key] = iu_value\n",
    "            \n",
    "#print('\\n\\n\\n\\n\\n\\n\\n\\n\\n\\n\\n\\n\\n')\n",
    "print(iu_dict)\n",
    "\n",
    "\n",
    "\n",
    "\n",
    "\n"
   ]
  },
  {
   "cell_type": "code",
   "execution_count": 29,
   "metadata": {},
   "outputs": [
    {
     "data": {
      "text/plain": [
       "'12'"
      ]
     },
     "execution_count": 29,
     "metadata": {},
     "output_type": "execute_result"
    }
   ],
   "source": [
    "key"
   ]
  },
  {
   "cell_type": "code",
   "execution_count": 30,
   "metadata": {
    "scrolled": true
   },
   "outputs": [],
   "source": [
    "#SFN ANALYSIS 3 4.30.19\n",
    "#ANALYSIS 003\n",
    "#INTERSECTION OVER UNION \n",
    "\n",
    "\n",
    "\n",
    "#PERMUTATION TEST\n",
    "\n",
    "iu_permutes = []\n",
    "\n",
    "for i in range(0, 1000):\n",
    "    iu_dict = dict()\n",
    "    for key in soc_story_keys:\n",
    "        z = len(soc_story_keys[key][0])\n",
    "        x = len(loc_story_keys[key][0])\n",
    "        new = np.concatenate((soc_story_keys[key], loc_story_keys[key]), axis = 1)\n",
    "        #perm new\n",
    "        this_perm = new[:, np.random.permutation(new.shape[1])]\n",
    "        #print('key', key, '\\n', new)\n",
    "        new_t = this_perm.T\n",
    "        numerator_sum = np.dot(new_t, this_perm)\n",
    "        m, n = numerator_sum.shape\n",
    "        #print('numerator', '\\n',numerator_sum)\n",
    "        denom = np.zeros((m,m))\n",
    "        for i in range(0, m):\n",
    "            for j in range(0, m):\n",
    "                sum_col = this_perm[:,i] + this_perm[:, j]\n",
    "                denom_val = np.sum(np.minimum(sum_col, 1))\n",
    "                denom[i, j] = denom_val\n",
    "        #divide the intersection matrix by the denominator matrix\n",
    "        #print('denom\\n', denom)\n",
    "        i_u_matrix = numerator_sum/denom\n",
    "        #print(key, i_u_matrix)\n",
    "        #dif between differently and same primed participants\n",
    "            #avg i/u of differently primed participants\n",
    "        this_iu = i_u_matrix[0:z,z:(z+x)]\n",
    "        mean_this_iu = np.nanmean(this_iu)\n",
    "        soc_i_u = i_u_matrix[0:z, 0:z][np.triu(np.ones((z,z), dtype=np.bool),1)]\n",
    "        loc_i_u = i_u_matrix[z:(z+x), z:(z+x)][np.triu(np.ones((x,x), dtype=np.bool),1)]\n",
    "        i_u_s= np.concatenate((soc_i_u, loc_i_u), axis = None)\n",
    "        mean_i_u = np.nanmean(i_u_s)\n",
    "        iu_value = mean_i_u - mean_this_iu\n",
    "        iu_dict[key] = iu_value\n",
    "    this_avg_iu = np.array(list(iu_dict.values())).mean()\n",
    "    iu_permutes.append(this_avg_iu)\n",
    "            \n"
   ]
  },
  {
   "cell_type": "code",
   "execution_count": 32,
   "metadata": {
    "scrolled": true
   },
   "outputs": [
    {
     "name": "stdout",
     "output_type": "stream",
     "text": [
      "p =  0.768\n"
     ]
    }
   ],
   "source": [
    "#pvalue\n",
    "\n",
    "\n",
    "p_value_iu = sum(i > this_avg_iu for i in iu_permutes)/1000\n",
    "print('p = ', p_value_iu)"
   ]
  },
  {
   "cell_type": "code",
   "execution_count": 33,
   "metadata": {
    "scrolled": true
   },
   "outputs": [
    {
     "data": {
      "text/plain": [
       "Text(0.5, 1.0, 'Intersection over Union Permutation Test')"
      ]
     },
     "execution_count": 33,
     "metadata": {},
     "output_type": "execute_result"
    },
    {
     "data": {
      "image/png": "[encoded data removed]",
      "text/plain": [
       "<Figure size 842.4x595.44 with 1 Axes>"
      ]
     },
     "metadata": {},
     "output_type": "display_data"
    }
   ],
   "source": [
    "##plot the permutes\n",
    "sns.set(color_codes=True)\n",
    "sns.set(rc={'figure.figsize':(11.7,8.27)})\n",
    "sns.distplot(iu_permutes)\n",
    "plt.axvline(this_avg_iu, 0,30, color = 'r')\n",
    "plt.title('Intersection over Union Permutation Test')"
   ]
  },
  {
   "cell_type": "code",
   "execution_count": 48,
   "metadata": {
    "scrolled": false
   },
   "outputs": [
    {
     "ename": "ValueError",
     "evalue": "all the input array dimensions except for the concatenation axis must match exactly",
     "output_type": "error",
     "traceback": [
      "\u001b[0;31m---------------------------------------------------------------------------\u001b[0m",
      "\u001b[0;31mValueError\u001b[0m                                Traceback (most recent call last)",
      "\u001b[0;32m<ipython-input-48-7e053627ad17>\u001b[0m in \u001b[0;36m<module>\u001b[0;34m\u001b[0m\n\u001b[1;32m     13\u001b[0m     \u001b[0msoc\u001b[0m \u001b[0;34m=\u001b[0m \u001b[0;34m[\u001b[0m\u001b[0;34m[\u001b[0m\u001b[0mi\u001b[0m\u001b[0;34m]\u001b[0m \u001b[0;32mfor\u001b[0m \u001b[0mi\u001b[0m \u001b[0;32min\u001b[0m \u001b[0mall_story_priors\u001b[0m\u001b[0;34m[\u001b[0m\u001b[0mkey\u001b[0m\u001b[0;34m]\u001b[0m\u001b[0;34m[\u001b[0m\u001b[0;34m:\u001b[0m\u001b[0;34m,\u001b[0m\u001b[0;36m3\u001b[0m\u001b[0;34m]\u001b[0m\u001b[0;34m]\u001b[0m\u001b[0;34m\u001b[0m\u001b[0;34m\u001b[0m\u001b[0m\n\u001b[1;32m     14\u001b[0m     \u001b[0;31m#concatenate key presses w a priori boundaries\u001b[0m\u001b[0;34m\u001b[0m\u001b[0;34m\u001b[0m\u001b[0;34m\u001b[0m\u001b[0m\n\u001b[0;32m---> 15\u001b[0;31m     \u001b[0mloc_new\u001b[0m \u001b[0;34m=\u001b[0m \u001b[0mnp\u001b[0m\u001b[0;34m.\u001b[0m\u001b[0mhstack\u001b[0m\u001b[0;34m(\u001b[0m\u001b[0;34m(\u001b[0m\u001b[0mloc_story_keys\u001b[0m\u001b[0;34m[\u001b[0m\u001b[0mkey\u001b[0m\u001b[0;34m]\u001b[0m\u001b[0;34m,\u001b[0m \u001b[0mloc\u001b[0m\u001b[0;34m)\u001b[0m\u001b[0;34m)\u001b[0m\u001b[0;34m\u001b[0m\u001b[0;34m\u001b[0m\u001b[0m\n\u001b[0m\u001b[1;32m     16\u001b[0m     \u001b[0msoc_new\u001b[0m \u001b[0;34m=\u001b[0m \u001b[0mnp\u001b[0m\u001b[0;34m.\u001b[0m\u001b[0mhstack\u001b[0m\u001b[0;34m(\u001b[0m\u001b[0;34m(\u001b[0m\u001b[0msoc_story_keys\u001b[0m\u001b[0;34m[\u001b[0m\u001b[0mkey\u001b[0m\u001b[0;34m]\u001b[0m\u001b[0;34m,\u001b[0m \u001b[0msoc\u001b[0m\u001b[0;34m)\u001b[0m\u001b[0;34m)\u001b[0m\u001b[0;34m\u001b[0m\u001b[0;34m\u001b[0m\u001b[0m\n\u001b[1;32m     17\u001b[0m     \u001b[0;31m#generate correlation matrix\u001b[0m\u001b[0;34m\u001b[0m\u001b[0;34m\u001b[0m\u001b[0;34m\u001b[0m\u001b[0m\n",
      "\u001b[0;32m~/anaconda3/lib/python3.7/site-packages/numpy/core/shape_base.py\u001b[0m in \u001b[0;36mhstack\u001b[0;34m(tup)\u001b[0m\n\u001b[1;32m    286\u001b[0m         \u001b[0;32mreturn\u001b[0m \u001b[0m_nx\u001b[0m\u001b[0;34m.\u001b[0m\u001b[0mconcatenate\u001b[0m\u001b[0;34m(\u001b[0m\u001b[0marrs\u001b[0m\u001b[0;34m,\u001b[0m \u001b[0;36m0\u001b[0m\u001b[0;34m)\u001b[0m\u001b[0;34m\u001b[0m\u001b[0;34m\u001b[0m\u001b[0m\n\u001b[1;32m    287\u001b[0m     \u001b[0;32melse\u001b[0m\u001b[0;34m:\u001b[0m\u001b[0;34m\u001b[0m\u001b[0;34m\u001b[0m\u001b[0m\n\u001b[0;32m--> 288\u001b[0;31m         \u001b[0;32mreturn\u001b[0m \u001b[0m_nx\u001b[0m\u001b[0;34m.\u001b[0m\u001b[0mconcatenate\u001b[0m\u001b[0;34m(\u001b[0m\u001b[0marrs\u001b[0m\u001b[0;34m,\u001b[0m \u001b[0;36m1\u001b[0m\u001b[0;34m)\u001b[0m\u001b[0;34m\u001b[0m\u001b[0;34m\u001b[0m\u001b[0m\n\u001b[0m\u001b[1;32m    289\u001b[0m \u001b[0;34m\u001b[0m\u001b[0m\n\u001b[1;32m    290\u001b[0m \u001b[0;34m\u001b[0m\u001b[0m\n",
      "\u001b[0;31mValueError\u001b[0m: all the input array dimensions except for the concatenation axis must match exactly"
     ]
    }
   ],
   "source": [
    "#CORRELATION BETWEEN SOCIAL PRIMED RESPONSES/A PRIORI SOCIAL BOUNDARIES - LOCATION PRIMED RESPONSES/A PRIORI SOCIAL BOUNDARIES\n",
    "#CORRELATION BETWEEN LOCATION PRIMED RESPONSES/A PRIORI LOCATION BOUNDARIES - SOCIAL PRIMED RESPONSES/A PRIORI LOCATION BOUNDARIES\n",
    "#SFN analysis 4.29.19\n",
    "#find the correlation between all participants' event boundaries and a priori boundaries\n",
    "soc_a_priori_corr_dict = dict()\n",
    "loc_a_priori_corr_dict = dict()\n",
    "\n",
    "for key in soc_story_keys:\n",
    "    #concatenate the key presses for social and location primed participants for each story\n",
    "    new = np.concatenate((soc_story_keys[key], loc_story_keys[key]), axis = 1)\n",
    "    #make a priori boundaries into columns\n",
    "    loc = [[i] for i in all_story_priors[key][:,2]]\n",
    "    soc = [[i] for i in all_story_priors[key][:,3]]\n",
    "    #concatenate key presses w a priori boundaries\n",
    "    loc_new = np.hstack((loc_story_keys[key], loc))\n",
    "    soc_new = np.hstack((soc_story_keys[key], soc))\n",
    "    #generate correlation matrix\n",
    "    loc_coef_matrix = np.corrcoef(loc_new.T)\n",
    "    soc_coef_matrix = np.corrcoef(soc_new.T)\n",
    "    #take the last row\n",
    "    loc_line = loc_coef_matrix[(len(loc_coef_matrix) - 1), :]\n",
    "    soc_line = soc_coef_matrix[(len(loc_coef_matrix) - 1), :]\n",
    "    #remove the last element\n",
    "    loc_record = loc_line[:-1]\n",
    "    soc_record = soc_line[:-1]\n",
    "    #average the values\n",
    "    avg_loc = np.nanmean(loc_record)\n",
    "    avg_soc = np.nanmean(soc_record)\n",
    "    #put in the dictionary\n",
    "    a_priori_corr_dict[key] = [avg_loc, avg_soc]\n",
    "\n",
    "    \n",
    "a_priori_corr_dict"
   ]
  },
  {
   "cell_type": "code",
   "execution_count": 23,
   "metadata": {
    "scrolled": false
   },
   "outputs": [
    {
     "name": "stdout",
     "output_type": "stream",
     "text": [
      "[[1.0], [0.0], [0.0], [0.0], [0.0], [0.0], [0.0], [0.0], [0.0], [0.0], [1.0], [0.0], [0.0], [0.0], [0.0], [0.0], [0.0], [0.0], [0.0], [0.0], [0.0], [0.0], [0.0], [0.0], [1.0], [0.0], [0.0], [0.0], [0.0], [0.0], [0.0], [0.0], [0.0], [0.0], [0.0], [0.0], [0.0], [0.0], [0.0], [0.0], [0.0], [0.0], [0.0], [1.0], [0.0], [0.0], [0.0], [0.0], [0.0], [0.0], [0.0], [0.0], [0.0], [0.0], [0.0], [0.0], [0.0], [0.0], [0.0]] 59\n",
      "[[1. 1. 1.]\n",
      " [0. 0. 0.]\n",
      " [0. 0. 0.]\n",
      " [0. 0. 0.]\n",
      " [0. 0. 0.]\n",
      " [0. 0. 0.]\n",
      " [0. 0. 0.]\n",
      " [0. 0. 0.]\n",
      " [0. 0. 0.]\n",
      " [0. 0. 0.]\n",
      " [0. 0. 0.]\n",
      " [0. 0. 0.]\n",
      " [0. 0. 0.]\n",
      " [0. 0. 0.]\n",
      " [0. 0. 0.]\n",
      " [0. 1. 1.]\n",
      " [0. 0. 0.]\n",
      " [0. 0. 0.]\n",
      " [0. 0. 0.]\n",
      " [0. 0. 0.]\n",
      " [0. 0. 0.]\n",
      " [0. 0. 0.]\n",
      " [0. 0. 0.]\n",
      " [0. 0. 0.]\n",
      " [0. 0. 0.]\n",
      " [0. 0. 0.]\n",
      " [0. 0. 0.]\n",
      " [0. 0. 0.]\n",
      " [0. 0. 0.]\n",
      " [1. 0. 0.]\n",
      " [0. 0. 0.]\n",
      " [0. 0. 0.]\n",
      " [0. 0. 0.]\n",
      " [0. 0. 0.]\n",
      " [0. 0. 0.]\n",
      " [0. 0. 0.]\n",
      " [0. 0. 0.]\n",
      " [0. 0. 1.]\n",
      " [0. 0. 0.]\n",
      " [0. 0. 0.]\n",
      " [0. 0. 0.]\n",
      " [0. 0. 0.]\n",
      " [0. 0. 0.]\n",
      " [0. 0. 0.]\n",
      " [0. 0. 0.]\n",
      " [0. 0. 0.]\n",
      " [0. 0. 0.]\n",
      " [0. 0. 0.]\n",
      " [1. 0. 0.]\n",
      " [0. 0. 0.]\n",
      " [0. 1. 0.]\n",
      " [0. 0. 0.]\n",
      " [0. 1. 1.]\n",
      " [0. 0. 0.]\n",
      " [0. 0. 0.]\n",
      " [0. 0. 0.]\n",
      " [0. 0. 0.]\n",
      " [0. 0. 0.]\n",
      " [0. 0. 0.]\n",
      " [0. 0. 0.]\n",
      " [0. 0. 0.]\n",
      " [1. 0. 0.]\n",
      " [0. 0. 0.]] 63\n"
     ]
    },
    {
     "ename": "ValueError",
     "evalue": "all the input array dimensions except for the concatenation axis must match exactly",
     "output_type": "error",
     "traceback": [
      "\u001b[0;31m---------------------------------------------------------------------------\u001b[0m",
      "\u001b[0;31mValueError\u001b[0m                                Traceback (most recent call last)",
      "\u001b[0;32m<ipython-input-23-2400be7c555a>\u001b[0m in \u001b[0;36m<module>\u001b[0;34m\u001b[0m\n\u001b[1;32m      2\u001b[0m \u001b[0mprint\u001b[0m\u001b[0;34m(\u001b[0m\u001b[0mloc\u001b[0m\u001b[0;34m,\u001b[0m \u001b[0mlen\u001b[0m\u001b[0;34m(\u001b[0m\u001b[0mloc\u001b[0m\u001b[0;34m)\u001b[0m\u001b[0;34m)\u001b[0m\u001b[0;34m\u001b[0m\u001b[0;34m\u001b[0m\u001b[0m\n\u001b[1;32m      3\u001b[0m \u001b[0mprint\u001b[0m\u001b[0;34m(\u001b[0m\u001b[0mloc_story_keys\u001b[0m\u001b[0;34m[\u001b[0m\u001b[0;34m'11'\u001b[0m\u001b[0;34m]\u001b[0m\u001b[0;34m,\u001b[0m \u001b[0mlen\u001b[0m\u001b[0;34m(\u001b[0m\u001b[0mloc_story_keys\u001b[0m\u001b[0;34m[\u001b[0m\u001b[0;34m'11'\u001b[0m\u001b[0;34m]\u001b[0m\u001b[0;34m)\u001b[0m\u001b[0;34m)\u001b[0m\u001b[0;34m\u001b[0m\u001b[0;34m\u001b[0m\u001b[0m\n\u001b[0;32m----> 4\u001b[0;31m \u001b[0mloc_new\u001b[0m \u001b[0;34m=\u001b[0m \u001b[0mnp\u001b[0m\u001b[0;34m.\u001b[0m\u001b[0mhstack\u001b[0m\u001b[0;34m(\u001b[0m\u001b[0;34m(\u001b[0m\u001b[0mloc_story_keys\u001b[0m\u001b[0;34m[\u001b[0m\u001b[0;34m'12'\u001b[0m\u001b[0;34m]\u001b[0m\u001b[0;34m,\u001b[0m \u001b[0mloc\u001b[0m\u001b[0;34m)\u001b[0m\u001b[0;34m)\u001b[0m\u001b[0;34m\u001b[0m\u001b[0;34m\u001b[0m\u001b[0m\n\u001b[0m\u001b[1;32m      5\u001b[0m \u001b[0mprint\u001b[0m\u001b[0;34m(\u001b[0m\u001b[0mloc_new\u001b[0m\u001b[0;34m)\u001b[0m\u001b[0;34m\u001b[0m\u001b[0;34m\u001b[0m\u001b[0m\n",
      "\u001b[0;32m~/anaconda3/lib/python3.7/site-packages/numpy/core/shape_base.py\u001b[0m in \u001b[0;36mhstack\u001b[0;34m(tup)\u001b[0m\n\u001b[1;32m    286\u001b[0m         \u001b[0;32mreturn\u001b[0m \u001b[0m_nx\u001b[0m\u001b[0;34m.\u001b[0m\u001b[0mconcatenate\u001b[0m\u001b[0;34m(\u001b[0m\u001b[0marrs\u001b[0m\u001b[0;34m,\u001b[0m \u001b[0;36m0\u001b[0m\u001b[0;34m)\u001b[0m\u001b[0;34m\u001b[0m\u001b[0;34m\u001b[0m\u001b[0m\n\u001b[1;32m    287\u001b[0m     \u001b[0;32melse\u001b[0m\u001b[0;34m:\u001b[0m\u001b[0;34m\u001b[0m\u001b[0;34m\u001b[0m\u001b[0m\n\u001b[0;32m--> 288\u001b[0;31m         \u001b[0;32mreturn\u001b[0m \u001b[0m_nx\u001b[0m\u001b[0;34m.\u001b[0m\u001b[0mconcatenate\u001b[0m\u001b[0;34m(\u001b[0m\u001b[0marrs\u001b[0m\u001b[0;34m,\u001b[0m \u001b[0;36m1\u001b[0m\u001b[0;34m)\u001b[0m\u001b[0;34m\u001b[0m\u001b[0;34m\u001b[0m\u001b[0m\n\u001b[0m\u001b[1;32m    289\u001b[0m \u001b[0;34m\u001b[0m\u001b[0m\n\u001b[1;32m    290\u001b[0m \u001b[0;34m\u001b[0m\u001b[0m\n",
      "\u001b[0;31mValueError\u001b[0m: all the input array dimensions except for the concatenation axis must match exactly"
     ]
    }
   ],
   "source": [
    "loc = [[i] for i in all_story_priors['11'][:,2]]\n",
    "print(loc, len(loc))\n",
    "print(loc_story_keys['11'], len(loc_story_keys['11']))\n",
    "loc_new = np.hstack((loc_story_keys['12'], loc))\n",
    "print(loc_new)"
   ]
  },
  {
   "cell_type": "code",
   "execution_count": 24,
   "metadata": {
    "scrolled": false
   },
   "outputs": [
    {
     "ename": "ValueError",
     "evalue": "all the input array dimensions except for the concatenation axis must match exactly",
     "output_type": "error",
     "traceback": [
      "\u001b[0;31m---------------------------------------------------------------------------\u001b[0m",
      "\u001b[0;31mValueError\u001b[0m                                Traceback (most recent call last)",
      "\u001b[0;32m<ipython-input-24-a806a4e90d9c>\u001b[0m in \u001b[0;36m<module>\u001b[0;34m\u001b[0m\n\u001b[1;32m     11\u001b[0m     \u001b[0msoc\u001b[0m \u001b[0;34m=\u001b[0m \u001b[0;34m[\u001b[0m\u001b[0;34m[\u001b[0m\u001b[0mi\u001b[0m\u001b[0;34m]\u001b[0m \u001b[0;32mfor\u001b[0m \u001b[0mi\u001b[0m \u001b[0;32min\u001b[0m \u001b[0mall_story_priors\u001b[0m\u001b[0;34m[\u001b[0m\u001b[0mkey\u001b[0m\u001b[0;34m]\u001b[0m\u001b[0;34m[\u001b[0m\u001b[0;34m:\u001b[0m\u001b[0;34m,\u001b[0m\u001b[0;36m3\u001b[0m\u001b[0;34m]\u001b[0m\u001b[0;34m]\u001b[0m\u001b[0;34m\u001b[0m\u001b[0;34m\u001b[0m\u001b[0m\n\u001b[1;32m     12\u001b[0m     \u001b[0;31m#concatenate key presses w a priori boundaries\u001b[0m\u001b[0;34m\u001b[0m\u001b[0;34m\u001b[0m\u001b[0;34m\u001b[0m\u001b[0m\n\u001b[0;32m---> 13\u001b[0;31m     \u001b[0mloc_new\u001b[0m \u001b[0;34m=\u001b[0m \u001b[0mnp\u001b[0m\u001b[0;34m.\u001b[0m\u001b[0mhstack\u001b[0m\u001b[0;34m(\u001b[0m\u001b[0;34m(\u001b[0m\u001b[0mnew\u001b[0m\u001b[0;34m,\u001b[0m \u001b[0mloc\u001b[0m\u001b[0;34m)\u001b[0m\u001b[0;34m)\u001b[0m\u001b[0;34m\u001b[0m\u001b[0;34m\u001b[0m\u001b[0m\n\u001b[0m\u001b[1;32m     14\u001b[0m     \u001b[0msoc_new\u001b[0m \u001b[0;34m=\u001b[0m \u001b[0mnp\u001b[0m\u001b[0;34m.\u001b[0m\u001b[0mhstack\u001b[0m\u001b[0;34m(\u001b[0m\u001b[0;34m(\u001b[0m\u001b[0mnew\u001b[0m\u001b[0;34m,\u001b[0m \u001b[0msoc\u001b[0m\u001b[0;34m)\u001b[0m\u001b[0;34m)\u001b[0m\u001b[0;34m\u001b[0m\u001b[0;34m\u001b[0m\u001b[0m\n\u001b[1;32m     15\u001b[0m     \u001b[0;31m#generate correlation matrix\u001b[0m\u001b[0;34m\u001b[0m\u001b[0;34m\u001b[0m\u001b[0;34m\u001b[0m\u001b[0m\n",
      "\u001b[0;32m~/anaconda3/lib/python3.7/site-packages/numpy/core/shape_base.py\u001b[0m in \u001b[0;36mhstack\u001b[0;34m(tup)\u001b[0m\n\u001b[1;32m    286\u001b[0m         \u001b[0;32mreturn\u001b[0m \u001b[0m_nx\u001b[0m\u001b[0;34m.\u001b[0m\u001b[0mconcatenate\u001b[0m\u001b[0;34m(\u001b[0m\u001b[0marrs\u001b[0m\u001b[0;34m,\u001b[0m \u001b[0;36m0\u001b[0m\u001b[0;34m)\u001b[0m\u001b[0;34m\u001b[0m\u001b[0;34m\u001b[0m\u001b[0m\n\u001b[1;32m    287\u001b[0m     \u001b[0;32melse\u001b[0m\u001b[0;34m:\u001b[0m\u001b[0;34m\u001b[0m\u001b[0;34m\u001b[0m\u001b[0m\n\u001b[0;32m--> 288\u001b[0;31m         \u001b[0;32mreturn\u001b[0m \u001b[0m_nx\u001b[0m\u001b[0;34m.\u001b[0m\u001b[0mconcatenate\u001b[0m\u001b[0;34m(\u001b[0m\u001b[0marrs\u001b[0m\u001b[0;34m,\u001b[0m \u001b[0;36m1\u001b[0m\u001b[0;34m)\u001b[0m\u001b[0;34m\u001b[0m\u001b[0;34m\u001b[0m\u001b[0m\n\u001b[0m\u001b[1;32m    289\u001b[0m \u001b[0;34m\u001b[0m\u001b[0m\n\u001b[1;32m    290\u001b[0m \u001b[0;34m\u001b[0m\u001b[0m\n",
      "\u001b[0;31mValueError\u001b[0m: all the input array dimensions except for the concatenation axis must match exactly"
     ]
    }
   ],
   "source": [
    "#I THINK THIS IS A BAD ANALYSIS BC I SHOULD ONLY BE CORRELATION THE A PRIORI BOUNDARIES OF SOCIAL SCRIPT TO SOCIAL PRIMED \n",
    "#PARTICIPANTS\n",
    "#find the correlation between all participants' event boundaries and a priori boundaries\n",
    "a_priori_corr_dict = dict()\n",
    "\n",
    "for key in soc_story_keys:\n",
    "    #concatenate the key presses for social and location primed participants for each story\n",
    "    new = np.concatenate((soc_story_keys[key], loc_story_keys[key]), axis = 1)\n",
    "    #make a priori boundaries into columns\n",
    "    loc = [[i] for i in all_story_priors[key][:,2]]\n",
    "    soc = [[i] for i in all_story_priors[key][:,3]]\n",
    "    #concatenate key presses w a priori boundaries\n",
    "    loc_new = np.hstack((new, loc))\n",
    "    soc_new = np.hstack((new, soc))\n",
    "    #generate correlation matrix\n",
    "    loc_coef_matrix = np.corrcoef(loc_new.T)\n",
    "    soc_coef_matrix = np.corrcoef(soc_new.T)\n",
    "    #take the last row\n",
    "    loc_line = loc_coef_matrix[(len(loc_coef_matrix) - 1), :]\n",
    "    soc_line = soc_coef_matrix[(len(loc_coef_matrix) - 1), :]\n",
    "    #remove the last element\n",
    "    loc_record = loc_line[:-1]\n",
    "    soc_record = soc_line[:-1]\n",
    "    #average the values\n",
    "    avg_loc = np.nanmean(loc_record)\n",
    "    avg_soc = np.nanmean(soc_record)\n",
    "    #put in the dictionary\n",
    "    a_priori_corr_dict[key] = [avg_loc, avg_soc]\n",
    "\n",
    "    \n",
    "a_priori_corr_dict"
   ]
  },
  {
   "cell_type": "code",
   "execution_count": 56,
   "metadata": {},
   "outputs": [
    {
     "data": {
      "text/plain": [
       "array([[7, 7, 1, 1],\n",
       "       [0, 0, 0, 0],\n",
       "       [0, 0, 0, 0],\n",
       "       [0, 0, 0, 0],\n",
       "       [0, 0, 0, 0],\n",
       "       [0, 0, 0, 0],\n",
       "       [0, 0, 0, 0],\n",
       "       [0, 0, 0, 0],\n",
       "       [7, 0, 1, 0],\n",
       "       [0, 0, 0, 0],\n",
       "       [0, 0, 0, 0],\n",
       "       [0, 0, 0, 0],\n",
       "       [0, 0, 0, 0],\n",
       "       [0, 0, 0, 0],\n",
       "       [0, 0, 0, 0],\n",
       "       [0, 7, 0, 1],\n",
       "       [0, 0, 0, 0],\n",
       "       [0, 0, 0, 0],\n",
       "       [0, 0, 0, 0],\n",
       "       [7, 0, 1, 0],\n",
       "       [0, 0, 0, 0],\n",
       "       [0, 0, 0, 0],\n",
       "       [0, 0, 0, 0],\n",
       "       [0, 0, 0, 0],\n",
       "       [0, 0, 0, 0],\n",
       "       [0, 7, 0, 1],\n",
       "       [0, 0, 0, 0],\n",
       "       [0, 0, 0, 0],\n",
       "       [0, 0, 0, 0],\n",
       "       [0, 0, 0, 0],\n",
       "       [0, 0, 0, 0],\n",
       "       [0, 0, 0, 0],\n",
       "       [7, 0, 1, 0],\n",
       "       [0, 0, 0, 0],\n",
       "       [0, 0, 0, 0],\n",
       "       [0, 0, 0, 0],\n",
       "       [0, 7, 0, 1],\n",
       "       [0, 0, 0, 0],\n",
       "       [0, 0, 0, 0],\n",
       "       [0, 0, 0, 0],\n",
       "       [0, 0, 0, 0],\n",
       "       [0, 0, 0, 0]])"
      ]
     },
     "execution_count": 56,
     "metadata": {},
     "output_type": "execute_result"
    }
   ],
   "source": [
    "all_story_priors['11']"
   ]
  },
  {
   "cell_type": "code",
   "execution_count": 69,
   "metadata": {
    "scrolled": true
   },
   "outputs": [],
   "source": [
    "#find the correlation between event boundaries of participants primed with location schemas and a priori boundaries\n",
    "loc_a_priori_corr_dict = dict()\n",
    "soc_primed_to_loc_a_priori = dict()\n",
    "loc_primed_to_loc_a_priori = dict()\n",
    "\n",
    "for key in soc_story_keys:\n",
    "    #make a priori boundaries into columns\n",
    "    loc = [[i] for i in all_story_priors[key][:,2]]\n",
    "    soc = [[i] for i in all_story_priors[key][:,3]]\n",
    "    #concatenate key presses w a priori boundaries\n",
    "    loc_new = np.hstack((loc_story_keys[key], loc))\n",
    "    soc_new = np.hstack((loc_story_keys[key], soc))\n",
    "    #generate correlation matrix\n",
    "    loc_coef_matrix = np.corrcoef(loc_new.T)\n",
    "    soc_coef_matrix = np.corrcoef(soc_new.T)\n",
    "    #take the last row\n",
    "    loc_line = loc_coef_matrix[(len(loc_coef_matrix) - 1), :]\n",
    "    soc_line = soc_coef_matrix[(len(loc_coef_matrix) - 1), :]\n",
    "    #remove the last element\n",
    "    loc_record = loc_line[:-1]\n",
    "    soc_record = soc_line[:-1]\n",
    "    #average the values\n",
    "    avg_loc = np.nanmean(loc_record)\n",
    "    avg_soc = np.nanmean(soc_record)\n",
    "    #put in the dictionary\n",
    "    loc_a_priori_corr_dict[key] = [avg_loc, avg_soc]\n",
    "    soc_primed_to_loc_a_priori[key] = avg_soc\n",
    "    loc_primed_to_loc_a_priori[key] = avg_loc\n",
    "\n",
    "    \n"
   ]
  },
  {
   "cell_type": "code",
   "execution_count": 73,
   "metadata": {},
   "outputs": [
    {
     "name": "stdout",
     "output_type": "stream",
     "text": [
      "soc primed to loc boundaries:  {'42': 0.06481371872648087, '31': 0.1376246230080923, '13': 0.14146767246824216, '24': 0.22075246149948813, '41': 0.3657378696444351, '23': 0.24224020413885544, '32': 0.2942374486868962, '14': 0.4777474080228508, '11': 0.36284438806603986, '34': 0.2680948069327058, '43': 0.4101832017257807, '22': 0.16232844071145824, '44': 0.3965100897603962, '33': 0.09572582582135788, '21': 0.2546129543192367, '12': 0.31880563218167557}\n",
      "loc primed to loc boundaries:  {'42': 0.171116226760326, '31': 0.1340248838780643, '13': 0.24979547957751336, '24': 0.3307134850008721, '41': 0.3514119331966055, '23': 0.34098124671850993, '32': 0.2342905996981622, '14': 0.289847547697547, '11': 0.21303237555957785, '34': 0.285579481566671, '43': 0.29319986327137115, '22': 0.36011306166692747, '44': 0.4376704240596812, '33': 0.5629506264595161, '21': 0.30132455234589556, '12': 0.43217032718533294}\n",
      "soc-loc avg:  0.2633579216071245\n",
      "loc-loc avg:  0.3117638821651609\n"
     ]
    }
   ],
   "source": [
    "print('soc primed to loc boundaries: ', soc_primed_to_loc_a_priori)\n",
    "print('loc primed to loc boundaries: ', loc_primed_to_loc_a_priori)\n",
    "soc_loc_avg = np.array(list(soc_primed_to_loc_a_priori.values())).mean()\n",
    "print('soc-loc avg: ', soc_loc_avg)\n",
    "loc_loc_avg = np.array(list(loc_primed_to_loc_a_priori.values())).mean()\n",
    "print('loc-loc avg: ', loc_loc_avg)"
   ]
  },
  {
   "cell_type": "code",
   "execution_count": 61,
   "metadata": {
    "scrolled": false
   },
   "outputs": [
    {
     "name": "stdout",
     "output_type": "stream",
     "text": [
      "42\n",
      "31\n",
      "13\n",
      "24\n",
      "41\n",
      "[[0. 1. 0. 1. 1.]\n",
      " [1. 0. 0. 0. 0.]\n",
      " [1. 0. 0. 0. 0.]\n",
      " [0. 0. 0. 0. 0.]\n",
      " [0. 0. 0. 0. 0.]\n",
      " [0. 0. 1. 1. 0.]\n",
      " [1. 0. 1. 0. 0.]\n",
      " [1. 0. 0. 0. 0.]\n",
      " [0. 1. 0. 0. 0.]\n",
      " [0. 1. 1. 0. 0.]\n",
      " [0. 0. 0. 0. 0.]\n",
      " [0. 0. 0. 0. 0.]\n",
      " [0. 0. 0. 0. 0.]\n",
      " [0. 0. 0. 0. 1.]\n",
      " [0. 0. 0. 0. 0.]\n",
      " [0. 1. 0. 0. 0.]\n",
      " [0. 1. 0. 0. 0.]\n",
      " [0. 0. 0. 0. 0.]\n",
      " [0. 0. 0. 0. 0.]\n",
      " [0. 0. 0. 0. 0.]\n",
      " [0. 0. 0. 0. 0.]\n",
      " [0. 0. 1. 0. 0.]\n",
      " [1. 0. 0. 1. 0.]\n",
      " [0. 0. 0. 0. 0.]\n",
      " [0. 0. 0. 0. 0.]\n",
      " [0. 0. 0. 0. 0.]\n",
      " [1. 0. 0. 0. 0.]\n",
      " [0. 1. 1. 0. 1.]\n",
      " [0. 0. 0. 0. 0.]\n",
      " [1. 0. 0. 0. 0.]\n",
      " [1. 0. 0. 0. 0.]\n",
      " [0. 1. 1. 0. 0.]\n",
      " [1. 0. 0. 0. 0.]\n",
      " [1. 0. 0. 0. 0.]\n",
      " [0. 0. 0. 0. 1.]\n",
      " [1. 0. 0. 0. 0.]]\n",
      "23\n",
      "32\n",
      "14\n",
      "11\n",
      "34\n",
      "43\n",
      "22\n",
      "44\n",
      "33\n",
      "21\n",
      "12\n"
     ]
    }
   ],
   "source": [
    "#find the correlation between event boundaries of participants primed with social schemas and a priori boundaries\n",
    "soc_a_priori_corr_dict = dict()\n",
    "soc_primed_to_soc_a_priori = dict()\n",
    "loc_primed_to_soc_a_priori = dict()\n",
    "\n",
    "for key in soc_story_keys:\n",
    "    #make a priori boundaries into columns\n",
    "    loc = [[i] for i in all_story_priors[key][:,2]]\n",
    "    soc = [[i] for i in all_story_priors[key][:,3]]\n",
    "    #concatenate key presses w a priori boundaries\n",
    "    loc_new = np.hstack((soc_story_keys[key], loc))\n",
    "    soc_new = np.hstack((soc_story_keys[key], soc))\n",
    "    if key == '41':\n",
    "        print(soc_new)\n",
    "    #generate correlation matrix\n",
    "    loc_coef_matrix = np.corrcoef(loc_new.T)\n",
    "    soc_coef_matrix = np.corrcoef(soc_new.T)\n",
    "    #take the last row\n",
    "    loc_line = loc_coef_matrix[(len(loc_coef_matrix) - 1), :]\n",
    "    soc_line = soc_coef_matrix[(len(loc_coef_matrix) - 1), :]\n",
    "    #remove the last element\n",
    "    loc_record = loc_line[:-1]\n",
    "    soc_record = soc_line[:-1]\n",
    "    #average the values\n",
    "    avg_loc = np.nanmean(loc_record)\n",
    "    avg_soc = np.nanmean(soc_record)\n",
    "    #put in the dictionary\n",
    "    soc_a_priori_corr_dict[key] = [avg_loc, avg_soc]\n",
    "    soc_primed_to_soc_a_priori[key] = avg_soc\n",
    "    loc_primed_to_soc_a_priori[key] = avg_loc\n",
    "    \n",
    "    "
   ]
  },
  {
   "cell_type": "code",
   "execution_count": 66,
   "metadata": {},
   "outputs": [
    {
     "name": "stdout",
     "output_type": "stream",
     "text": [
      "{'42': [0.39381453001725814, 0.028822173982453504], '31': [0.28494409964699685, 0.16843662612359073], '13': [0.3261688767717239, 0.19040207337494372], '24': [0.17457897651510085, 0.1628026801346012], '41': [0.3257202701550519, 0.08267432167766361], '23': [0.25702882595306414, 0.11242064021879361], '32': [0.3934563228893679, 0.40420682230891014], '14': [0.12748515183139536, 0.4793120444491014], '11': [0.10190185732905652, 0.39448531064691655], '34': [0.21462518411899584, 0.1426104300609002], '43': [0.09614666063280179, 0.531721893974532], '22': [0.11033891017406536, 0.12176527530936188], '44': [0.37712361663282534, 0.43997755273829625], '33': [0.5533692953401751, 0.22586095291813701], '21': [0.20472798628578529, 0.28278955935495115], '12': [0.4795110132567673, 0.09489562864138297]}\n",
      "soc primed to soc boundaries:  {'42': 0.028822173982453504, '31': 0.16843662612359073, '13': 0.19040207337494372, '24': 0.1628026801346012, '41': 0.08267432167766361, '23': 0.11242064021879361, '32': 0.40420682230891014, '14': 0.4793120444491014, '11': 0.39448531064691655, '34': 0.1426104300609002, '43': 0.531721893974532, '22': 0.12176527530936188, '44': 0.43997755273829625, '33': 0.22586095291813701, '21': 0.28278955935495115, '12': 0.09489562864138297}\n",
      "loc primed to soc boundaries:  {'42': 0.39381453001725814, '31': 0.28494409964699685, '13': 0.3261688767717239, '24': 0.17457897651510085, '41': 0.3257202701550519, '23': 0.25702882595306414, '32': 0.3934563228893679, '14': 0.12748515183139536, '11': 0.10190185732905652, '34': 0.21462518411899584, '43': 0.09614666063280179, '22': 0.11033891017406536, '44': 0.37712361663282534, '33': 0.5533692953401751, '21': 0.20472798628578529, '12': 0.4795110132567673}\n",
      "soc-soc avg:  0.2414489991196585\n",
      "loc-soc avg:  0.27630884859690197\n"
     ]
    }
   ],
   "source": [
    "print(soc_a_priori_corr_dict)\n",
    "print('soc primed to soc boundaries: ', soc_primed_to_soc_a_priori)\n",
    "print('loc primed to soc boundaries: ', loc_primed_to_soc_a_priori)\n",
    "soc_soc_avg = np.array(list(soc_primed_to_soc_a_priori.values())).mean()\n",
    "print('soc-soc avg: ', soc_soc_avg)\n",
    "loc_soc_avg = np.array(list(loc_primed_to_soc_a_priori.values())).mean()\n",
    "print('loc-soc avg: ', loc_soc_avg)"
   ]
  },
  {
   "cell_type": "code",
   "execution_count": 27,
   "metadata": {
    "scrolled": false
   },
   "outputs": [],
   "source": [
    "#plot all the correlation values for each story together\n",
    "\n",
    "for key in a_priori_corr_dict:\n",
    "    these_labels = ['all;loc', 'all;soc', 'loc-primed;loc', 'loc-primed;soc', 'soc-primed;loc', 'soc-primed;soc','cor-within loc', 'cor-within soc', 'cor across schemas']\n",
    "    x_pos = np.arange(len(these_labels))\n",
    "    x, y = a_priori_corr_dict[key]\n",
    "    a, b = loc_a_priori_corr_dict[key]\n",
    "    c, d = soc_a_priori_corr_dict[key]\n",
    "    e = loc_cor[key]\n",
    "    f = soc_cor[key]\n",
    "    g = isc_dict[key]\n",
    "    print(x)\n",
    "    these_values = [x, y, a, b, c, d, e, f, g]\n",
    "    print(these_values)\n",
    "    plt.figure()\n",
    "    plt.figure(figsize = (15,5))\n",
    "    plt.bar(x_pos, these_values, align='center', alpha=0.5)\n",
    "    plt.xticks(x_pos, these_labels)\n",
    "    plt.ylim([0,0.6])\n",
    "    plt.ylabel('Corr')\n",
    "    plt.title(key + ' Correlations')\n",
    "    plt.savefig('correlation_figs/'+key+'correlation_bar_graphs.png')\n"
   ]
  },
  {
   "cell_type": "code",
   "execution_count": null,
   "metadata": {
    "scrolled": true
   },
   "outputs": [],
   "source": []
  },
  {
   "cell_type": "code",
   "execution_count": null,
   "metadata": {
    "scrolled": false
   },
   "outputs": [],
   "source": []
  },
  {
   "cell_type": "code",
   "execution_count": null,
   "metadata": {
    "scrolled": false
   },
   "outputs": [],
   "source": []
  },
  {
   "cell_type": "code",
   "execution_count": null,
   "metadata": {
    "scrolled": false
   },
   "outputs": [],
   "source": []
  }
 ],
 "metadata": {
  "kernelspec": {
   "display_name": "Python 3",
   "language": "python",
   "name": "python3"
  },
  "language_info": {
   "codemirror_mode": {
    "name": "ipython",
    "version": 3
   },
   "file_extension": ".py",
   "mimetype": "text/x-python",
   "name": "python",
   "nbconvert_exporter": "python",
   "pygments_lexer": "ipython3",
   "version": "3.6.8"
  }
 },
 "nbformat": 4,
 "nbformat_minor": 2
}
