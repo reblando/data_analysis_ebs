{
 "cells": [
  {
   "cell_type": "code",
   "execution_count": 234,
   "metadata": {},
   "outputs": [],
   "source": [
    "import pandas as pd\n",
    "import numpy as np\n",
    "import plotly.graph_objs as go\n",
    "import plotly.plotly as py\n",
    "import plotly\n",
    "import os\n",
    "import glob\n",
    "import math\n",
    "import statistics\n",
    "\n",
    "plotly.tools.set_credentials_file(username='amr7', api_key='4gj9vxlD7C63cCRCaRdU')\n",
    "\n",
    "#iMac\n",
    "#directory = '/Users/alexreblando/Library/Mobile Documents/com~apple~CloudDocs/Documents/GitHub/ebs/usable_data'\n",
    "\n",
    "#laptop\n",
    "directory = '/Users/alexreblando/Documents/GitHub/ebs/usable_data'\n",
    "directory_stories = '/Users/alexreblando/Documents/GitHub/ebs/story_xlsx_files'\n",
    "\n",
    "filenames = glob.glob(directory+ '/*.csv')\n",
    "filenames_stories = glob.glob(directory_stories + '/*.xlsx')\n",
    "\n",
    "dfs = []\n",
    "dfs_stories = []\n",
    "\n",
    "for filename in filenames:\n",
    "    dfs.append(pd.read_csv(filename))\n",
    "    \n",
    "for filename in filenames_stories:\n",
    "    dfs_stories.append(pd.read_excel(filename))"
   ]
  },
  {
   "cell_type": "code",
   "execution_count": 235,
   "metadata": {},
   "outputs": [],
   "source": [
    "#put all of the key presses into a dictionary, organized by story\n",
    "all_story_keys = dict()\n",
    "size_dfs = len(dfs)\n",
    "for s in range(size_dfs):\n",
    "    story_list = dfs[s]['order of stories'].iloc[0].split(' ')\n",
    "    story_list = [elem.replace(\"[\",\"\").replace(\"]\",\"\") for elem in story_list]\n",
    "    for i in range(8):\n",
    "        keys = dfs[s]['story_presses.keys'].values[dfs[s]['count']==i]\n",
    "        keys = keys[~np.isnan(keys)]\n",
    "        if story_list[i] in all_story_keys:\n",
    "            all_story_keys[story_list[i]] = np.concatenate((all_story_keys[story_list[i]],keys[:,np.newaxis]), axis=1)\n",
    "        else:\n",
    "            all_story_keys[story_list[i]] = keys[:, np.newaxis]"
   ]
  },
  {
   "cell_type": "code",
   "execution_count": 236,
   "metadata": {},
   "outputs": [],
   "source": [
    "#put all of the stories into a dictionary\n",
    "\n",
    "all_story_priors = dict()\n",
    "\n",
    "for s in range(16):\n",
    "    this_story = str(int(dfs_stories[s]['story'].iloc[0]))\n",
    "    keys2 = dfs_stories[s]['locationEvent'].values\n",
    "    keys3 = dfs_stories[s]['socialEvent'].values\n",
    "    all_story_priors[this_story] = keys2[:, np.newaxis]\n",
    "    all_story_priors[this_story] = np.concatenate((all_story_priors[this_story], keys3[:, np.newaxis]), axis = 1)\n",
    "    \n",
    "    \n"
   ]
  },
  {
   "cell_type": "code",
   "execution_count": 237,
   "metadata": {},
   "outputs": [],
   "source": [
    "#for participant responses, convert all '1' presses to 0 values, and '9' presses to 1 values\n",
    "\n",
    "for key in all_story_keys:\n",
    "    this_array = all_story_keys[key]\n",
    "    this_array[this_array ==1] = 0\n",
    "    this_array[this_array == 9] = 1\n",
    "    all_story_keys[key] = this_array\n",
    "    \n",
    "\n",
    "    \n"
   ]
  },
  {
   "cell_type": "code",
   "execution_count": 238,
   "metadata": {},
   "outputs": [],
   "source": [
    "#sum the responses\n",
    "\n",
    "percent_story_keys = dict()\n",
    "\n",
    "for key in all_story_keys:\n",
    "    this_sum = np.sum(all_story_keys[key], axis = 1)\n",
    "    N = np.size(all_story_keys[key],1)\n",
    "    this_percent = this_sum/N\n",
    "    percent_story_keys[key] = this_percent[:, np.newaxis]\n",
    "    \n"
   ]
  },
  {
   "cell_type": "code",
   "execution_count": 239,
   "metadata": {},
   "outputs": [
    {
     "name": "stdout",
     "output_type": "stream",
     "text": [
      "36.375 7.965550828411052 11.5 0.8944271909999159\n"
     ]
    }
   ],
   "source": [
    "#find the average number and standard deviation of participants in each story \n",
    "#also for story lengths\n",
    "\n",
    "lengths = []\n",
    "N = []\n",
    "\n",
    "for key in all_story_keys:\n",
    "    x, y = all_story_keys[key].shape\n",
    "    lengths.append(x)\n",
    "    N.append(y)\n",
    "    \n",
    "length_mean = statistics.mean(lengths)\n",
    "length_sd = statistics.stdev(lengths)\n",
    "\n",
    "N_mean = statistics.mean(N)\n",
    "N_sd = statistics.stdev(N)\n",
    "print(length_mean, length_sd, N_mean, N_sd)"
   ]
  },
  {
   "cell_type": "code",
   "execution_count": 240,
   "metadata": {},
   "outputs": [],
   "source": [
    "for key in all_story_priors:\n",
    "    location = all_story_priors[key][:,0]\n",
    "    social = all_story_priors[key][:,1]\n",
    "    for i in range(0, len(location)):  \n",
    "        if location[i] > location[i-1]:\n",
    "            location[i] = 7\n",
    "    for i in range(0, len(location)):  \n",
    "        if location[i] != 7:\n",
    "            location[i] = 0\n",
    "    for i in range(0, len(social)):\n",
    "        if social[i] > social[i - 1]:\n",
    "            social[i] = 7\n",
    "    for i in range(0, len(social)):\n",
    "        if social[i] != 7:\n",
    "            social[i] = 0\n",
    "    location[0] = 7\n",
    "    social[0] = 7\n",
    "    location2 = location > 1\n",
    "    social2 = social > 1\n",
    "    location2 = location2.astype(int)\n",
    "    social2 = social2.astype(int)\n",
    "    all_story_priors[key] = np.concatenate((all_story_priors[key], location2[:, np.newaxis]), axis = 1) \n",
    "    all_story_priors[key] = np.concatenate((all_story_priors[key], social2[:, np.newaxis]), axis = 1)\n",
    "\n"
   ]
  },
  {
   "cell_type": "code",
   "execution_count": null,
   "metadata": {},
   "outputs": [],
   "source": []
  },
  {
   "cell_type": "code",
   "execution_count": 243,
   "metadata": {},
   "outputs": [
    {
     "data": {
      "text/html": [
       "<iframe id=\"igraph\" scrolling=\"no\" style=\"border:none;\" seamless=\"seamless\" src=\"https://plot.ly/~amr7/132.embed\" height=\"525px\" width=\"100%\"></iframe>"
      ],
      "text/plain": [
       "<plotly.tools.PlotlyDisplay object>"
      ]
     },
     "execution_count": 243,
     "metadata": {},
     "output_type": "execute_result"
    }
   ],
   "source": [
    "#show the stories\n",
    "key = '14'\n",
    "\n",
    "new_x = np.arange(len(all_story_priors[key]) + 1)\n",
    "#new_x = np.delete(x_index, 0)\n",
    "trace1 = go.Scatter(x = new_x, \n",
    "                y = all_story_priors[key][:,2], \n",
    "                mode = 'lines+markers', \n",
    "                name = 'location Event Starts',\n",
    "                line = dict(\n",
    "                    shape = 'hvh',\n",
    "                    color = ('rgba(0, 204, 0, .5)'),\n",
    "                    width = 4))\n",
    "\n",
    "trace2 = go.Scatter(x = new_x, \n",
    "                y = all_story_priors[key][:,3], \n",
    "                mode = 'lines+markers', \n",
    "                name = 'social Event Starts',\n",
    "                line = dict(\n",
    "                    shape = 'hvh',\n",
    "                    color = ('rgba(255, 91, 71, .5)'),\n",
    "                    width = 4))\n",
    "\n",
    "trace3 = go.Scatter(x = new_x, \n",
    "                    y = percent_story_keys[key], \n",
    "                    mode = 'lines+markers', \n",
    "                    name = 'participant parse',\n",
    "                    line = dict(\n",
    "                        shape = 'hvh',\n",
    "                        color = ('rgba(0, 191, 255, .5)'),\n",
    "                        width = 4))\n",
    "\n",
    "\n",
    "data = [trace1, trace2, trace3]\n",
    "layout = go.Layout(\n",
    "    title= key,\n",
    "    xaxis=dict(\n",
    "        title='Sentence Number',\n",
    "        titlefont=dict(\n",
    "            family='Courier New, monospace',\n",
    "            size=18,\n",
    "            color='#7f7f7f')\n",
    "    ),\n",
    "    yaxis=dict(\n",
    "        autorange=True,\n",
    "        showgrid=False,\n",
    "        zeroline=False,\n",
    "        showline=False,\n",
    "        ticks='',\n",
    "        showticklabels=False\n",
    "    )\n",
    ")\n",
    "\n",
    "fig = go.Figure(data=data, layout=layout)\n",
    "py.iplot(fig)"
   ]
  },
  {
   "cell_type": "code",
   "execution_count": 242,
   "metadata": {},
   "outputs": [
    {
     "ename": "KeyError",
     "evalue": "'11'",
     "output_type": "error",
     "traceback": [
      "\u001b[0;31m---------------------------------------------------------------------------\u001b[0m",
      "\u001b[0;31mKeyError\u001b[0m                                  Traceback (most recent call last)",
      "\u001b[0;32m<ipython-input-242-5bef73cc1fe4>\u001b[0m in \u001b[0;36m<module>\u001b[0;34m\u001b[0m\n\u001b[0;32m----> 1\u001b[0;31m \u001b[0mx_index\u001b[0m \u001b[0;34m=\u001b[0m \u001b[0mnp\u001b[0m\u001b[0;34m.\u001b[0m\u001b[0marange\u001b[0m\u001b[0;34m(\u001b[0m\u001b[0mlen\u001b[0m\u001b[0;34m(\u001b[0m\u001b[0mall_loc_marks\u001b[0m\u001b[0;34m[\u001b[0m\u001b[0;34m'11'\u001b[0m\u001b[0;34m]\u001b[0m\u001b[0;34m)\u001b[0m \u001b[0;34m+\u001b[0m \u001b[0;36m1\u001b[0m\u001b[0;34m)\u001b[0m\u001b[0;34m\u001b[0m\u001b[0;34m\u001b[0m\u001b[0m\n\u001b[0m\u001b[1;32m      2\u001b[0m \u001b[0mnew_x\u001b[0m \u001b[0;34m=\u001b[0m \u001b[0mnp\u001b[0m\u001b[0;34m.\u001b[0m\u001b[0mdelete\u001b[0m\u001b[0;34m(\u001b[0m\u001b[0mx_index\u001b[0m\u001b[0;34m,\u001b[0m \u001b[0;36m0\u001b[0m\u001b[0;34m)\u001b[0m\u001b[0;34m\u001b[0m\u001b[0;34m\u001b[0m\u001b[0m\n\u001b[1;32m      3\u001b[0m \u001b[0mprint\u001b[0m\u001b[0;34m(\u001b[0m\u001b[0mnew_x\u001b[0m\u001b[0;34m)\u001b[0m\u001b[0;34m\u001b[0m\u001b[0;34m\u001b[0m\u001b[0m\n",
      "\u001b[0;31mKeyError\u001b[0m: '11'"
     ]
    }
   ],
   "source": [
    "x_index = np.arange(len(all_loc_marks['11']) + 1)\n",
    "new_x = np.delete(x_index, 0)\n",
    "print(new_x)"
   ]
  },
  {
   "cell_type": "code",
   "execution_count": null,
   "metadata": {},
   "outputs": [],
   "source": [
    "all_story_keys"
   ]
  },
  {
   "cell_type": "code",
   "execution_count": 123,
   "metadata": {},
   "outputs": [],
   "source": []
  },
  {
   "cell_type": "code",
   "execution_count": null,
   "metadata": {},
   "outputs": [],
   "source": []
  }
 ],
 "metadata": {
  "kernelspec": {
   "display_name": "Python 3",
   "language": "python",
   "name": "python3"
  },
  "language_info": {
   "codemirror_mode": {
    "name": "ipython",
    "version": 3
   },
   "file_extension": ".py",
   "mimetype": "text/x-python",
   "name": "python",
   "nbconvert_exporter": "python",
   "pygments_lexer": "ipython3",
   "version": "3.6.8"
  }
 },
 "nbformat": 4,
 "nbformat_minor": 2
}
