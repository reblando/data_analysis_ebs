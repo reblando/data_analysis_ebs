{
 "cells": [
  {
   "cell_type": "code",
   "execution_count": 5,
   "metadata": {},
   "outputs": [],
   "source": [
    "#redoing main task in psychopy 11.4.19\n",
    "\n",
    "import numpy as np\n",
    "import random \n",
    "\n",
    "#make the matrix of all the stories\n",
    "story_matrix = np.zeros(shape = [4, 4], dtype = int)\n",
    "\n",
    "s_order = np.array([10, 20, 30, 40], dtype = int)\n",
    "\n",
    "l_order = np.array([1,2,3,4], dtype = int)\n",
    "\n",
    "\n",
    "\n",
    "story_matrix[0] += s_order[0]\n",
    "story_matrix[1] += s_order[1]\n",
    "story_matrix[2] += s_order[2]\n",
    "story_matrix[3] += s_order[3]\n",
    "\n",
    "story_matrix[:,0] += l_order[0]\n",
    "story_matrix[:,1] += l_order[1]\n",
    "story_matrix[:, 2] += l_order[2]\n",
    "story_matrix[:, 3] += l_order[3]"
   ]
  },
  {
   "cell_type": "code",
   "execution_count": 6,
   "metadata": {},
   "outputs": [
    {
     "name": "stdout",
     "output_type": "stream",
     "text": [
      "[[11 12 13 14]\n",
      " [21 22 23 24]\n",
      " [31 32 33 34]\n",
      " [41 42 43 44]]\n"
     ]
    }
   ],
   "source": [
    "print(story_matrix)"
   ]
  },
  {
   "cell_type": "code",
   "execution_count": 7,
   "metadata": {},
   "outputs": [],
   "source": [
    "#construct the action matrix based on the inputted social and location perspectives\n",
    "action_matrix = np.zeros(shape = [4, 4], dtype = int)\n",
    "these_social_ps = [0,1]\n",
    "these_location_ps = [0,1]\n",
    "\n",
    "for i in range(2):\n",
    "    action_matrix[these_social_ps[i],:] += 1\n",
    "    action_matrix[:,these_location_ps[i]] += 2\n",
    "    \n",
    "action_matrix[action_matrix == 0] = 4"
   ]
  },
  {
   "cell_type": "code",
   "execution_count": 8,
   "metadata": {},
   "outputs": [
    {
     "name": "stdout",
     "output_type": "stream",
     "text": [
      "[[1 0 1 0]\n",
      " [0 1 0 1]\n",
      " [1 0 1 0]\n",
      " [0 1 0 1]]\n"
     ]
    }
   ],
   "source": [
    "#construct the block molds\n",
    "block_mold1 = np.array([[0, 1, 0, 1], [1,0,1,0],[0,1,0,1], [1,0,1,0]])\n",
    "block_mold2 = np.array([[1,0,1,0],[0,1,0,1], [1,0,1,0],[0, 1, 0, 1]])\n",
    "print(block_mold2)"
   ]
  },
  {
   "cell_type": "code",
   "execution_count": 9,
   "metadata": {},
   "outputs": [
    {
     "name": "stdout",
     "output_type": "stream",
     "text": [
      "1\n"
     ]
    }
   ],
   "source": [
    "#randomly select a mold for the first half of the presented stories\n",
    "flip = random.randint(0, 1)\n",
    "print(flip)\n",
    "if flip == 0:\n",
    "    action_matrix_block1 = np.multiply(action_matrix, block_mold1)\n",
    "    action_matrix_block2 = np.multiply(action_matrix, block_mold2)\n",
    "    story_matrix_block1 = np.multiply(story_matrix, block_mold1)\n",
    "    story_matrix_block2 = np.multiply(story_matrix, block_mold2)\n",
    "else:\n",
    "    action_matrix_block1 = np.multiply(action_matrix, block_mold2)\n",
    "    action_matrix_block2 = np.multiply(action_matrix, block_mold1)\n",
    "    story_matrix_block1 = np.multiply(story_matrix, block_mold2)\n",
    "    story_matrix_block2 = np.multiply(story_matrix, block_mold1)"
   ]
  },
  {
   "cell_type": "code",
   "execution_count": 10,
   "metadata": {},
   "outputs": [
    {
     "data": {
      "text/plain": [
       "array([[3, 0, 1, 0],\n",
       "       [0, 3, 0, 1],\n",
       "       [2, 0, 4, 0],\n",
       "       [0, 2, 0, 4]])"
      ]
     },
     "execution_count": 10,
     "metadata": {},
     "output_type": "execute_result"
    }
   ],
   "source": [
    "action_matrix_block1"
   ]
  },
  {
   "cell_type": "code",
   "execution_count": 21,
   "metadata": {},
   "outputs": [
    {
     "name": "stdout",
     "output_type": "stream",
     "text": [
      "[0, 12, 0, 14, 21, 0, 23, 0, 0, 32, 0, 34, 41, 0, 43, 0]\n"
     ]
    }
   ],
   "source": [
    "#treat the matrices so that they are in list form shuffled ready for experiment\n",
    "#turn matrices into lists and remove zeros\n",
    "action_list_block1 = list(action_matrix_block1.flatten())\n",
    "action_list_block1 = np.asarray([x for x in action_list_block1 if x != 0])\n",
    "action_list_block2 = list(action_matrix_block2.flatten())\n",
    "action_list_block2 = np.asarray([x for x in action_list_block2 if x != 0])\n",
    "story_list_block1 = list(story_matrix_block1.flatten())\n",
    "story_list_block1 = np.asarray([x for x in story_list_block1 if x != 0])\n",
    "story_list_block2 = list(story_matrix_block2.flatten())\n",
    "print(story_list_block2)\n",
    "story_list_block2 = np.asarray([x for x in story_list_block2 if x != 0])\n",
    "\n",
    "#rand perm the lists, same block same randperm\n",
    "randperm1 = np.random.permutation(8)\n",
    "randperm2 = np.random.permutation(8)\n",
    "\n",
    "action_list_block1 = action_list_block1[randperm1]\n",
    "story_list_block1 = story_list_block1[randperm1]\n",
    "action_list_block2 = action_list_block2[randperm2]\n",
    "story_list_block2 = story_list_block2[randperm2]"
   ]
  },
  {
   "cell_type": "code",
   "execution_count": 24,
   "metadata": {},
   "outputs": [
    {
     "name": "stdout",
     "output_type": "stream",
     "text": [
      "[2 4 3 4 3 1 1 2]\n"
     ]
    }
   ],
   "source": [
    "print(action_list_block2)"
   ]
  },
  {
   "cell_type": "code",
   "execution_count": 25,
   "metadata": {},
   "outputs": [
    {
     "name": "stdout",
     "output_type": "stream",
     "text": [
      "[2 4 3 4 1 1 3 2]\n"
     ]
    }
   ],
   "source": [
    "print(action_list_block1)"
   ]
  },
  {
   "cell_type": "code",
   "execution_count": 26,
   "metadata": {},
   "outputs": [],
   "source": [
    "new_dict= {}"
   ]
  },
  {
   "cell_type": "code",
   "execution_count": 27,
   "metadata": {},
   "outputs": [],
   "source": [
    "new_dict[1] = 'cheese'"
   ]
  },
  {
   "cell_type": "code",
   "execution_count": 29,
   "metadata": {},
   "outputs": [
    {
     "name": "stdout",
     "output_type": "stream",
     "text": [
      "cheese\n"
     ]
    }
   ],
   "source": [
    "print(new_dict[1])"
   ]
  },
  {
   "cell_type": "code",
   "execution_count": null,
   "metadata": {},
   "outputs": [],
   "source": []
  },
  {
   "cell_type": "code",
   "execution_count": null,
   "metadata": {},
   "outputs": [],
   "source": []
  },
  {
   "cell_type": "code",
   "execution_count": null,
   "metadata": {},
   "outputs": [],
   "source": []
  },
  {
   "cell_type": "code",
   "execution_count": null,
   "metadata": {},
   "outputs": [],
   "source": []
  }
 ],
 "metadata": {
  "kernelspec": {
   "display_name": "Python 3",
   "language": "python",
   "name": "python3"
  },
  "language_info": {
   "codemirror_mode": {
    "name": "ipython",
    "version": 3
   },
   "file_extension": ".py",
   "mimetype": "text/x-python",
   "name": "python",
   "nbconvert_exporter": "python",
   "pygments_lexer": "ipython3",
   "version": "3.6.8"
  }
 },
 "nbformat": 4,
 "nbformat_minor": 2
}
