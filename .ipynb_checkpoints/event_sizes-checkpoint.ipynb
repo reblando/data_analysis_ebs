{
 "cells": [
  {
   "cell_type": "code",
   "execution_count": 3,
   "metadata": {},
   "outputs": [
    {
     "name": "stdout",
     "output_type": "stream",
     "text": [
      "Column names are storyText, locationEvent, socialEvent, , , , \n",
      "\tIt didn’t help the situation that Calvin and Jessie were running late to the airport, since Jessie had already been fuming at Calvin and preparing to end things with him. : 1 \n",
      "\tUpon arriving, they had only 45 minutes until their international flight would depart from Jamaica for the US. : 1 \n",
      "\tIt had been a tough vacation for them. : 1 \n",
      "\tJessie had really had it with Calvin’s constant ramblings about the same excruciatingly boring golfing and work stories, which he insisted on repeating to her regardless of how little interest she showed. : 1 \n",
      "\tCalvin knew that Jessie was upset, but wasn't sure what to do besides attempting to carry on as normal and tell stories that took up the silence.  : 1 \n",
      "\tThe security line was luckily very short, and once the online boarding passes were scanned they were ushered quickly through the metal detector, not having to take off their shoes or remove the liquids from their bags. : 2 \n",
      "\t“The infrastructure of this airport is really quite poor,\" said Calvin as they waited for their bags to emerge from the x-ray machine. : 2 \n",
      "\t“I really could've hidden something in my shoes quite easily.”  : 2 \n",
      "\tJessie, exasperated at his need to broadcast his every inner thought, scowled at the conveyor belt. : 2 \n",
      "\t“What?”, he asked. : 2 \n",
      "\tShe balled up her fists and turned to face him. : 2 \n",
      "\t“Calvin, I really don’t think I can do this anymore. : 2 \n",
      "\tI think it’s best that once we get to the States we part ways for good.”  : 2 \n",
      "\tCalvin said nothing as he grabbed his bag and quickly walked away. : 2 \n",
      "\tJessie trailed behind him as they made their way quickly toward their gate, shouting at his back in hopes of getting a response. : 3 \n",
      "\t“So now you have nothing to say? : 3 \n",
      "\tEvery time we talk, you are just looking for a way to steer the conversation back into your stories.” : 3 \n",
      "\tCalvin didn't slow his pace, gritting his teeth and staring straight ahead.  : 3 \n",
      "\tHe was very frustrated that he had been trying to appease Jessie this whole time and this was how she responded.  : 3 \n",
      "\tThe silence was punctuated only by the rapid rhythmic clacking of their suitcase wheels over the tile floor as they continued power-walking through the terminal.  : 3 \n",
      "\t“Well?” Jessie said, and Calvin finally turned to her. : 3 \n",
      "\t“Well, Jessie, this makes perfect sense.  : 3 \n",
      "\tIf you feel this way, then I don’t want to keep boring you, and I agree, let’s part ways once we make it back. : 3 \n",
      "\tYou should’ve spoken up about my apparent intolerability before you decided to plan this vacation.” : 3 \n",
      "\tHe was clearly hurt, but thought it was pointless to argue.  : 3 \n",
      "\tThey finally made it to the gate, just as they heard the final call for passengers boarding their flight. : 3 \n",
      "\tThey scanned their tickets, and the annoyed flight attendant shooed them onto the jet bridge and then closed the door behind them. : 4 \n",
      "\tLuckily, they had forgotten to arrange seats next to each other on the flight back. : 4 \n",
      "\tThey both had first-class tickets, but Jessie was headed for seat 1B while Calvin's seat was 4F.  : 4 \n",
      "\tBefore Jessie sat down, she took a deep breath and then awkwardly shook Calvin’s hand, mumbling, “Well, have a nice flight.”  : 4 \n",
      "\tHe laughed in disbelief and walked to his window seat three rows back to get ready for takeoff. : 4 \n",
      "\tBoth were upset but glad that they would have this flight to mull things over and recenter.  : 4 \n",
      "Processed 33 lines.\n"
     ]
    }
   ],
   "source": [
    "import csv\n",
    "\n",
    "loc = (\"/Users/alexreblando/Library/Mobile Documents/com~apple~CloudDocs/Documents/GitHub/ebs/story_xlsx_files/12.csv\")\n",
    "\n",
    "\n",
    "with open(loc) as csv_file:\n",
    "    csv_reader = csv.reader(csv_file, delimiter=',')\n",
    "    line_count = 0\n",
    "    for row in csv_reader:\n",
    "        if line_count == 0:\n",
    "            print(f'Column names are {\", \".join(row)}')\n",
    "            line_count += 1\n",
    "        else:\n",
    "            print(f'\\t{row[0]} : {row[1]} ')\n",
    "            line_count += 1\n",
    "    print(f'Processed {line_count} lines.')"
   ]
  },
  {
   "cell_type": "code",
   "execution_count": 84,
   "metadata": {},
   "outputs": [
    {
     "name": "stdout",
     "output_type": "stream",
     "text": [
      "                                            storyText  locationEvent  \\\n",
      "0   It didn’t help the situation that Calvin and J...              1   \n",
      "1   Upon arriving, they had only 45 minutes until ...              1   \n",
      "2              It had been a tough vacation for them.              1   \n",
      "3   Jessie had really had it with Calvin’s constan...              1   \n",
      "4   Calvin knew that Jessie was upset, but wasn't ...              1   \n",
      "5   The security line was luckily very short, and ...              2   \n",
      "6   “The infrastructure of this airport is really ...              2   \n",
      "7   “I really could've hidden something in my shoe...              2   \n",
      "8   Jessie, exasperated at his need to broadcast h...              2   \n",
      "9                                  “What?”, he asked.              2   \n",
      "10    She balled up her fists and turned to face him.              2   \n",
      "11  “Calvin, I really don’t think I can do this an...              2   \n",
      "12  I think it’s best that once we get to the Stat...              2   \n",
      "13  Calvin said nothing as he grabbed his bag and ...              2   \n",
      "14  Jessie trailed behind him as they made their w...              3   \n",
      "15                   “So now you have nothing to say?              3   \n",
      "16  Every time we talk, you are just looking for a...              3   \n",
      "17  Calvin didn't slow his pace, gritting his teet...              3   \n",
      "18  He was very frustrated that he had been trying...              3   \n",
      "19  The silence was punctuated only by the rapid r...              3   \n",
      "20  “Well?” Jessie said, and Calvin finally turned...              3   \n",
      "21          “Well, Jessie, this makes perfect sense.               3   \n",
      "22  If you feel this way, then I don’t want to kee...              3   \n",
      "23  You should’ve spoken up about my apparent into...              3   \n",
      "24  He was clearly hurt, but thought it was pointl...              3   \n",
      "25  They finally made it to the gate, just as they...              3   \n",
      "26  They scanned their tickets, and the annoyed fl...              4   \n",
      "27  Luckily, they had forgotten to arrange seats n...              4   \n",
      "28  They both had first-class tickets, but Jessie ...              4   \n",
      "29  Before Jessie sat down, she took a deep breath...              4   \n",
      "30  He laughed in disbelief and walked to his wind...              4   \n",
      "31  Both were upset but glad that they would have ...              4   \n",
      "\n",
      "    socialEvent  Unnamed: 3  Unnamed: 4  Unnamed: 5  Unnamed: 6  \n",
      "0             1         NaN         NaN         NaN         NaN  \n",
      "1             1         NaN         NaN         NaN         NaN  \n",
      "2             1         NaN         NaN         NaN         NaN  \n",
      "3             1         NaN         NaN         NaN         NaN  \n",
      "4             1         NaN         NaN         NaN         NaN  \n",
      "5             1         NaN         NaN         NaN         NaN  \n",
      "6             1         NaN         NaN         NaN         NaN  \n",
      "7             1         NaN         NaN         NaN         NaN  \n",
      "8             1         NaN         NaN         NaN         NaN  \n",
      "9             1         NaN         NaN         NaN         NaN  \n",
      "10            1         NaN         NaN         NaN         NaN  \n",
      "11            2         NaN         NaN         NaN         NaN  \n",
      "12            2         NaN         NaN         NaN         NaN  \n",
      "13            2         NaN         NaN         NaN         NaN  \n",
      "14            2         NaN         NaN         NaN         NaN  \n",
      "15            2         NaN         NaN         NaN         NaN  \n",
      "16            2         NaN         NaN         NaN         NaN  \n",
      "17            2         NaN         NaN         NaN         NaN  \n",
      "18            2         NaN         NaN         NaN         NaN  \n",
      "19            2         NaN         NaN         NaN         NaN  \n",
      "20            2         NaN         NaN         NaN         NaN  \n",
      "21            3         NaN         NaN         NaN         NaN  \n",
      "22            3         NaN         NaN         NaN         NaN  \n",
      "23            3         NaN         NaN         NaN         NaN  \n",
      "24            3         NaN         NaN         NaN         NaN  \n",
      "25            3         NaN         NaN         NaN         NaN  \n",
      "26            3         NaN         NaN         NaN         NaN  \n",
      "27            3         NaN         NaN         NaN         NaN  \n",
      "28            3         NaN         NaN         NaN         NaN  \n",
      "29            4         NaN         NaN         NaN         NaN  \n",
      "30            4         NaN         NaN         NaN         NaN  \n",
      "31            4         NaN         NaN         NaN         NaN  \n"
     ]
    }
   ],
   "source": [
    "import pandas\n",
    "\n",
    "loc2 = pandas.read_csv(\"/Users/alexreblando/Library/Mobile Documents/com~apple~CloudDocs/Documents/GitHub/ebs/story_xlsx_files/12.csv\")\n",
    "                \n",
    "\n",
    "print(loc2)"
   ]
  },
  {
   "cell_type": "code",
   "execution_count": 5,
   "metadata": {},
   "outputs": [
    {
     "data": {
      "text/plain": [
       "32"
      ]
     },
     "execution_count": 5,
     "metadata": {},
     "output_type": "execute_result"
    }
   ],
   "source": [
    "loc2_x, loc2_y = loc2.shape\n",
    "loc2_x"
   ]
  },
  {
   "cell_type": "code",
   "execution_count": 27,
   "metadata": {},
   "outputs": [
    {
     "data": {
      "text/plain": [
       "RangeIndex(start=0, stop=32, step=1)"
      ]
     },
     "execution_count": 27,
     "metadata": {},
     "output_type": "execute_result"
    }
   ],
   "source": [
    "index2 = loc2.index\n",
    "index2"
   ]
  },
  {
   "cell_type": "code",
   "execution_count": 81,
   "metadata": {},
   "outputs": [
    {
     "name": "stdout",
     "output_type": "stream",
     "text": [
      "0     1\n",
      "1     1\n",
      "2     1\n",
      "3     1\n",
      "4     1\n",
      "5     1\n",
      "6     1\n",
      "7     1\n",
      "8     1\n",
      "9     1\n",
      "10    1\n",
      "11    2\n",
      "12    2\n",
      "13    2\n",
      "14    2\n",
      "15    2\n",
      "16    2\n",
      "17    2\n",
      "18    2\n",
      "19    2\n",
      "20    2\n",
      "21    3\n",
      "22    3\n",
      "23    3\n",
      "24    3\n",
      "25    3\n",
      "26    3\n",
      "27    3\n",
      "28    3\n",
      "29    4\n",
      "30    4\n",
      "31    4\n",
      "Name: socialEvent, dtype: int64\n"
     ]
    }
   ],
   "source": [
    "set2 = loc2.locationEvent\n",
    "set3 = loc2.socialEvent\n",
    "print(set3)\n",
    "story2 = loc2.storyText\n",
    "stories = story2.values.T.tolist()\n"
   ]
  },
  {
   "cell_type": "code",
   "execution_count": 7,
   "metadata": {},
   "outputs": [
    {
     "data": {
      "text/plain": [
       "2    1\n",
       "3    1\n",
       "4    1\n",
       "Name: locationEvent, dtype: int64"
      ]
     },
     "execution_count": 7,
     "metadata": {},
     "output_type": "execute_result"
    }
   ],
   "source": [
    "set2[2:5]"
   ]
  },
  {
   "cell_type": "code",
   "execution_count": 8,
   "metadata": {},
   "outputs": [
    {
     "data": {
      "text/plain": [
       "1"
      ]
     },
     "execution_count": 8,
     "metadata": {},
     "output_type": "execute_result"
    }
   ],
   "source": [
    "set2[1]"
   ]
  },
  {
   "cell_type": "code",
   "execution_count": 9,
   "metadata": {},
   "outputs": [
    {
     "data": {
      "text/plain": [
       "[<matplotlib.lines.Line2D at 0x11cd08208>]"
      ]
     },
     "execution_count": 9,
     "metadata": {},
     "output_type": "execute_result"
    }
   ],
   "source": [
    "import matplotlib.pyplot as plt \n",
    "\n",
    "plt.plot(set2)"
   ]
  },
  {
   "cell_type": "code",
   "execution_count": 82,
   "metadata": {},
   "outputs": [
    {
     "data": {
      "text/plain": [
       "array([1., 0., 0., 0., 0., 0., 0., 0., 0., 0., 0., 1., 0., 0., 0., 0., 0.,\n",
       "       0., 0., 0., 0., 1., 0., 0., 0., 0., 0., 0., 0., 1., 0., 0.])"
      ]
     },
     "execution_count": 82,
     "metadata": {},
     "output_type": "execute_result"
    }
   ],
   "source": [
    "#get a vector with all of the location starting points\n",
    "import numpy as np\n",
    "locEventStarts = np.zeros(loc2_x)\n",
    "\n",
    "for x in range(loc2_x):\n",
    "    if set2[x] == 1:\n",
    "        continue\n",
    "    if set2[x] > set2[x-1]:\n",
    "        locEventStarts[x] = 1\n",
    "\n",
    "locEventStarts[0] = 1\n",
    "locEventStarts\n",
    "\n",
    "socEventStarts = np.zeros(loc2_x)\n",
    "\n",
    "for x in range(loc2_x):\n",
    "    if set3[x] == 1:\n",
    "        continue\n",
    "    if set3[x] > set3[x-1]:\n",
    "        socEventStarts[x] = 1\n",
    "\n",
    "socEventStarts[0] = 1\n",
    "socEventStarts"
   ]
  },
  {
   "cell_type": "code",
   "execution_count": 16,
   "metadata": {},
   "outputs": [
    {
     "data": {
      "text/plain": [
       "[<matplotlib.lines.Line2D at 0x11cebd908>]"
      ]
     },
     "execution_count": 16,
     "metadata": {},
     "output_type": "execute_result"
    },
    {
     "data": {
      "image/png": "[encoded data removed]",
      "text/plain": [
       "<Figure size 432x288 with 1 Axes>"
      ]
     },
     "metadata": {
      "needs_background": "light"
     },
     "output_type": "display_data"
    }
   ],
   "source": [
    "plt.plot(locEventStarts)"
   ]
  },
  {
   "cell_type": "code",
   "execution_count": 83,
   "metadata": {},
   "outputs": [
    {
     "data": {
      "text/html": [
       "<iframe id=\"igraph\" scrolling=\"no\" style=\"border:none;\" seamless=\"seamless\" src=\"https://plot.ly/~amr7/8.embed\" height=\"525px\" width=\"100%\"></iframe>"
      ],
      "text/plain": [
       "<plotly.tools.PlotlyDisplay object>"
      ]
     },
     "execution_count": 83,
     "metadata": {},
     "output_type": "execute_result"
    }
   ],
   "source": [
    "import plotly.plotly as py\n",
    "import plotly.graph_objs as go\n",
    "\n",
    "stor = [\"a\", \"b\"]\n",
    "trace1 = go.Scatter(x = index2, \n",
    "                    y = locEventStarts, \n",
    "                    mode = 'lines+markers', \n",
    "                    name = 'location Event Starts')\n",
    "\n",
    "trace2 = go.Scatter(x = index2, \n",
    "                    y = socEventStarts, \n",
    "                    mode = 'lines+markers', \n",
    "                    name = 'social Event Starts')\n",
    "                   \n",
    "                \n",
    "\n",
    "data = [trace1, trace2]\n",
    "py.iplot(data)\n"
   ]
  },
  {
   "cell_type": "code",
   "execution_count": 1,
   "metadata": {},
   "outputs": [
    {
     "data": {
      "text/plain": [
       "'3.6.1'"
      ]
     },
     "execution_count": 1,
     "metadata": {},
     "output_type": "execute_result"
    }
   ],
   "source": [
    "import plotly\n",
    "plotly.__version__\n",
    "\n"
   ]
  },
  {
   "cell_type": "code",
   "execution_count": 36,
   "metadata": {},
   "outputs": [
    {
     "data": {
      "text/html": [
       "<iframe id=\"igraph\" scrolling=\"no\" style=\"border:none;\" seamless=\"seamless\" src=\"https://plot.ly/~amr7/4.embed\" height=\"525px\" width=\"100%\"></iframe>"
      ],
      "text/plain": [
       "<plotly.tools.PlotlyDisplay object>"
      ]
     },
     "execution_count": 36,
     "metadata": {},
     "output_type": "execute_result"
    }
   ],
   "source": [
    "import plotly.plotly as py\n",
    "import plotly.graph_objs as go\n",
    "\n",
    "data = [\n",
    "    go.Scatter(\n",
    "        x = [1,2,3,4,5],\n",
    "        y = [2,1,6,4,4],\n",
    "        text = [\"Text A\", \"Text B\", \"Text C\", \"Text D\", \"Text E\"],\n",
    "        hoverinfo = 'text',\n",
    "        marker = dict(\n",
    "            color = 'green'\n",
    "        ),\n",
    "        showlegend = False\n",
    "    )\n",
    "]\n",
    "\n",
    "py.iplot(data, filename = \"add-hover-text\")"
   ]
  },
  {
   "cell_type": "code",
   "execution_count": null,
   "metadata": {},
   "outputs": [],
   "source": []
  }
 ],
 "metadata": {
  "kernelspec": {
   "display_name": "Python 3",
   "language": "python",
   "name": "python3"
  },
  "language_info": {
   "codemirror_mode": {
    "name": "ipython",
    "version": 3
   },
   "file_extension": ".py",
   "mimetype": "text/x-python",
   "name": "python",
   "nbconvert_exporter": "python",
   "pygments_lexer": "ipython3",
   "version": "3.7.1"
  }
 },
 "nbformat": 4,
 "nbformat_minor": 2
}
