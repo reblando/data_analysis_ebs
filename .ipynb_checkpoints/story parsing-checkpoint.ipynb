{
 "cells": [
  {
   "cell_type": "code",
   "execution_count": 4,
   "metadata": {},
   "outputs": [],
   "source": [
    "import pandas as pd\n",
    "import numpy as np\n",
    "import plotly.graph_objs as go\n",
    "import plotly.plotly as py\n",
    "import plotly\n",
    "import os\n",
    "import glob\n",
    "\n",
    "plotly.tools.set_credentials_file(username='amr7', api_key='4gj9vxlD7C63cCRCaRdU')\n",
    "\n",
    "#iMac\n",
    "#directory = '/Users/alexreblando/Library/Mobile Documents/com~apple~CloudDocs/Documents/GitHub/ebs/usable_data'\n",
    "\n",
    "#laptop\n",
    "directory = '/Users/alexreblando/Documents/GitHub/ebs/usable_data'\n",
    "\n",
    "filenames = glob.glob(directory+ '/*.csv')\n",
    "\n",
    "dfs = []\n",
    "\n",
    "for filename in filenames:\n",
    "    dfs.append(pd.read_csv(filename))\n",
    "\n",
    "big_frame = pd.concat(dfs,axis = 1)\n",
    "big_frame\n",
    "\n",
    "\n",
    "\n",
    "#iMac\n",
    "#big_frame.to_csv(r'/Users/alexreblando/Library/Mobile Documents/com~apple~CloudDocs/Documents/GitHub/ebs/data_outputs/bigframe.csv')\n",
    "\n",
    "#laptop\n",
    "big_frame.to_csv(r'/Users/alexreblando/Documents/GitHub/ebs/data_outputs/bigframe2.csv')"
   ]
  },
  {
   "cell_type": "code",
   "execution_count": 56,
   "metadata": {},
   "outputs": [],
   "source": [
    "all_story_keys = dict()\n",
    "for s in range(2):\n",
    "    story_list = dfs[s]['order of stories'].iloc[0].split(' ')\n",
    "    story_list = [elem.replace(\"[\",\"\").replace(\"]\",\"\") for elem in story_list]\n",
    "    for i in range(8):\n",
    "        keys = dfs[s]['story_presses.keys'].values[dfs[s]['count']==i]\n",
    "        keys = keys[~np.isnan(keys)]\n",
    "        if story_list[i] in all_story_keys:\n",
    "            all_story_keys[story_list[i]] = np.concatenate((all_story_keys[story_list[i]],keys[:,np.newaxis]), axis=1)\n",
    "        else:\n",
    "            all_story_keys[story_list[i]] = keys[:, np.newaxis]\n",
    "\n",
    "#all_story_keys['story1'] = np.column_stack([dfs[0]['story_presses.keys'].values[:50], dfs[1]['story_presses.keys'].values[:50]])"
   ]
  },
  {
   "cell_type": "code",
   "execution_count": 59,
   "metadata": {},
   "outputs": [
    {
     "data": {
      "text/plain": [
       "array([[1., 9.],\n",
       "       [1., 1.],\n",
       "       [1., 1.],\n",
       "       [1., 9.],\n",
       "       [1., 1.],\n",
       "       [1., 1.],\n",
       "       [1., 1.],\n",
       "       [1., 1.],\n",
       "       [1., 1.],\n",
       "       [1., 1.],\n",
       "       [1., 1.],\n",
       "       [1., 1.],\n",
       "       [1., 9.],\n",
       "       [1., 1.],\n",
       "       [1., 1.],\n",
       "       [1., 1.],\n",
       "       [1., 1.],\n",
       "       [1., 1.],\n",
       "       [1., 1.],\n",
       "       [1., 1.],\n",
       "       [1., 1.],\n",
       "       [1., 1.],\n",
       "       [1., 1.],\n",
       "       [1., 9.],\n",
       "       [1., 1.],\n",
       "       [1., 1.],\n",
       "       [1., 1.],\n",
       "       [1., 1.],\n",
       "       [1., 1.],\n",
       "       [1., 1.],\n",
       "       [1., 1.],\n",
       "       [1., 1.],\n",
       "       [1., 1.]])"
      ]
     },
     "execution_count": 59,
     "metadata": {},
     "output_type": "execute_result"
    }
   ],
   "source": [
    "all_story_keys['43']"
   ]
  },
  {
   "cell_type": "code",
   "execution_count": null,
   "metadata": {},
   "outputs": [],
   "source": []
  },
  {
   "cell_type": "code",
   "execution_count": null,
   "metadata": {},
   "outputs": [],
   "source": []
  },
  {
   "cell_type": "code",
   "execution_count": 24,
   "metadata": {},
   "outputs": [
    {
     "data": {
      "text/plain": [
       "Index(['count', 'storyText', 'locationEvent', 'socialEvent',\n",
       "       'locationEventSize', 'socialEventSize', 'instructText',\n",
       "       'trials.thisRepN', 'trials.thisTrialN', 'trials.thisN',\n",
       "       'trials.thisIndex', 'trials_7.thisRepN', 'trials_7.thisTrialN',\n",
       "       'trials_7.thisN', 'trials_7.thisIndex', 'trials_2.thisRepN',\n",
       "       'trials_2.thisTrialN', 'trials_2.thisN', 'trials_2.thisIndex',\n",
       "       'trials_3.thisRepN', 'trials_3.thisTrialN', 'trials_3.thisN',\n",
       "       'trials_3.thisIndex', 'trials_4.thisRepN', 'trials_4.thisTrialN',\n",
       "       'trials_4.thisN', 'trials_4.thisIndex', 'trials_5.thisRepN',\n",
       "       'trials_5.thisTrialN', 'trials_5.thisN', 'trials_5.thisIndex',\n",
       "       'trials_6.thisRepN', 'trials_6.thisTrialN', 'trials_6.thisN',\n",
       "       'trials_6.thisIndex', 'trials_8.thisRepN', 'trials_8.thisTrialN',\n",
       "       'trials_8.thisN', 'trials_8.thisIndex', 'order of stories',\n",
       "       'order of perspectives', 'key_resp_8.keys', 'key_resp_8.rt',\n",
       "       'key_resp_5.keys', 'key_resp_5.rt', 'key_resp_7.keys', 'key_resp_7.rt',\n",
       "       'story_presses.keys', 'story_presses.rt', 'story time',\n",
       "       'key_resp_6.keys', 'key_resp_6.rt', 'key_resp_2.keys', 'key_resp_2.rt',\n",
       "       'key_resp_10.keys', 'key_resp_10.rt', 'recall', 'recall time',\n",
       "       'key_resp_12.keys', 'key_resp_12.rt', 'key_resp_3.keys',\n",
       "       'key_resp_3.rt', 'key_resp_11.keys', 'key_resp_11.rt',\n",
       "       'question1_answer', 'order of question', 'question2_answer',\n",
       "       'question3_answer', 'question4_answer', 'question5_answer',\n",
       "       'question6_answer', 'question7_answer', 'question8_answer',\n",
       "       'questions time', 'key_resp_13.keys', 'key_resp_13.rt', 'participant',\n",
       "       'session', 'date', 'expName', 'psychopyVersion', 'frameRate',\n",
       "       'Unnamed: 82'],\n",
       "      dtype='object')"
      ]
     },
     "execution_count": 24,
     "metadata": {},
     "output_type": "execute_result"
    }
   ],
   "source": [
    "dfs[0].keys()"
   ]
  },
  {
   "cell_type": "code",
   "execution_count": null,
   "metadata": {},
   "outputs": [],
   "source": []
  },
  {
   "cell_type": "code",
   "execution_count": null,
   "metadata": {},
   "outputs": [],
   "source": []
  },
  {
   "cell_type": "code",
   "execution_count": 28,
   "metadata": {},
   "outputs": [
    {
     "data": {
      "text/plain": [
       "order of stories    [24 43 11 32 34 13 22 41]\n",
       "order of stories    [21 34 12 44 43 11 33 22]\n",
       "Name: 0, dtype: object"
      ]
     },
     "execution_count": 28,
     "metadata": {},
     "output_type": "execute_result"
    }
   ],
   "source": [
    "z = big_frame['order of stories']\n",
    "run = z.iloc[0]\n",
    "type(run)\n",
    "#for i in run:\n",
    " \n",
    "    #i = i.split(' ')\n",
    "    #i = [elem.replace(\"[\",\"\").replace(\"]\",\"\") for elem in i]\n",
    "    #run[i] = i\n",
    "run"
   ]
  },
  {
   "cell_type": "code",
   "execution_count": null,
   "metadata": {},
   "outputs": [],
   "source": []
  },
  {
   "cell_type": "code",
   "execution_count": null,
   "metadata": {},
   "outputs": [],
   "source": []
  },
  {
   "cell_type": "code",
   "execution_count": null,
   "metadata": {},
   "outputs": [],
   "source": []
  },
  {
   "cell_type": "code",
   "execution_count": 3,
   "metadata": {},
   "outputs": [
    {
     "name": "stdout",
     "output_type": "stream",
     "text": [
      "Files in '/Users/alexreblando/Library/Mobile Documents/com~apple~CloudDocs/Documents/GitHub/ebs/usable_data': ['030519_p3_body_behavioural_2019_Mar_05_1619.csv']\n"
     ]
    }
   ],
   "source": [
    "cwd = '/Users/alexreblando/Library/Mobile Documents/com~apple~CloudDocs/Documents/GitHub/ebs/usable_data'\n",
    "files = os.listdir(cwd)  # Get all the files in that directory\n",
    "print(\"Files in '%s': %s\" % (cwd, files))"
   ]
  },
  {
   "cell_type": "code",
   "execution_count": null,
   "metadata": {},
   "outputs": [],
   "source": []
  }
 ],
 "metadata": {
  "kernelspec": {
   "display_name": "Python 3",
   "language": "python",
   "name": "python3"
  },
  "language_info": {
   "codemirror_mode": {
    "name": "ipython",
    "version": 3
   },
   "file_extension": ".py",
   "mimetype": "text/x-python",
   "name": "python",
   "nbconvert_exporter": "python",
   "pygments_lexer": "ipython3",
   "version": "3.7.1"
  }
 },
 "nbformat": 4,
 "nbformat_minor": 2
}
